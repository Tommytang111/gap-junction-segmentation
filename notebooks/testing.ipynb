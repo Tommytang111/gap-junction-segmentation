{
 "cells": [
  {
   "cell_type": "code",
   "execution_count": 2,
   "id": "fd85cce7",
   "metadata": {},
   "outputs": [
    {
     "data": {
      "application/vnd.jupyter.widget-view+json": {
       "model_id": "564e9a31aee64e7fb03c25e9c6befdbf",
       "version_major": 2,
       "version_minor": 0
      },
      "text/plain": [
       "Widget(value='<iframe src=\"http://localhost:34033/index.html?ui=P_0x716ab6c4b040_3&reconnect=auto\" class=\"pyvi…"
      ]
     },
     "metadata": {},
     "output_type": "display_data"
    }
   ],
   "source": [
    "# 6. Plot volume\n",
    "import numpy as np\n",
    "import pyvista as pv\n",
    "\n",
    "pv.set_jupyter_backend('client')\n",
    "\n",
    "pred_3d = np.load(\"/home/tommytang111/gap-junction-segmentation/outputs/volumetric_results/unet_h1qrqboc/sem_dauer_1_s000-850/volume_downsampled.npy\")\n",
    "pred_3d_ = np.transpose(pred_3d, (2, 1, 0))\n",
    "pred_3d[pred_3d >= 128] = 255\n",
    "pred_3d[pred_3d < 128] = 0\n",
    "\n",
    "# wrap into a pyvista UniformGrid\n",
    "grid = pv.wrap(pred_3d)\n",
    "\n",
    "# Volume rendering (interactive)\n",
    "p = pv.Plotter(notebook=True)\n",
    "contour = grid.contour(isosurfaces=[255])\n",
    "pv.plot(contour, eye_dome_lighting=True, color=\"#02EBFC\", background=\"black\", show_scalar_bar=False, show_axes=True, cpos=\"iso\")"
   ]
  },
  {
   "cell_type": "code",
   "execution_count": 8,
   "id": "c11b018b",
   "metadata": {},
   "outputs": [],
   "source": [
    "pred_3d[pred_3d >= 128] = 255\n",
    "pred_3d[pred_3d < 128] = 0"
   ]
  },
  {
   "cell_type": "code",
   "execution_count": 9,
   "id": "191d63d2",
   "metadata": {},
   "outputs": [
    {
     "data": {
      "text/plain": [
       "array([  0, 255], dtype=uint8)"
      ]
     },
     "execution_count": 9,
     "metadata": {},
     "output_type": "execute_result"
    }
   ],
   "source": [
    "np.unique(pred_3d)  # check unique values in the prediction"
   ]
  },
  {
   "cell_type": "code",
   "execution_count": 1,
   "id": "0fa489db",
   "metadata": {},
   "outputs": [
    {
     "name": "stdout",
     "output_type": "stream",
     "text": [
      "(7000, 10500) (7000, 10500)\n"
     ]
    }
   ],
   "source": [
    "import os\n",
    "import cv2\n",
    "img1 = cv2.imread(\"/home/tommytang111/gap-junction-segmentation/data/sem_adult/SEM_full/s000-699/SEM_adult_image_export_s000.png\", cv2.IMREAD_GRAYSCALE)\n",
    "img2 = cv2.imread(\"/home/tommytang111/gap-junction-segmentation/outputs/assembled_results/unet_8jkuifab/sem_adult_s000-699/SEM_adult_image_export_s000_pred.png\", cv2.IMREAD_GRAYSCALE)\n",
    "print(img1.shape, img2.shape)\n"
   ]
  },
  {
   "cell_type": "code",
   "execution_count": null,
   "id": "8a0ca787",
   "metadata": {},
   "outputs": [],
   "source": []
  }
 ],
 "metadata": {
  "kernelspec": {
   "display_name": "gap_junction",
   "language": "python",
   "name": "python3"
  },
  "language_info": {
   "codemirror_mode": {
    "name": "ipython",
    "version": 3
   },
   "file_extension": ".py",
   "mimetype": "text/x-python",
   "name": "python",
   "nbconvert_exporter": "python",
   "pygments_lexer": "ipython3",
   "version": "3.10.16"
  }
 },
 "nbformat": 4,
 "nbformat_minor": 5
}
