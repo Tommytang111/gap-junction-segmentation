{
 "cells": [
  {
   "cell_type": "markdown",
   "id": "6d697bbf",
   "metadata": {},
   "source": [
    "### Gap Junction Segmentation Model Training Pipeline"
   ]
  },
  {
   "cell_type": "code",
   "execution_count": 1,
   "id": "58f8f879",
   "metadata": {},
   "outputs": [],
   "source": [
    "#Libraries\n",
    "import torch\n",
    "from torch import nn\n",
    "from utilities import UpBlock, DownBlock, DoubleConv, GenDLoss, FocalLoss\n",
    "from torch.utils.data import DataLoader\n",
    "from torch.utils.data import Dataset\n",
    "from torchvision.transforms import ToTensor\n",
    "from torch.optim import AdamW, SGD\n",
    "from torch.optim.lr_scheduler import ReduceLROnPlateau\n",
    "from torchmetrics.classification import BinaryRecall, BinaryPrecision, BinaryF1Score\n",
    "import albumentations as A\n",
    "from albumentations.pytorch import ToTensorV2\n",
    "import numpy as np\n",
    "import os\n",
    "import cv2\n",
    "from tqdm.notebook import tqdm #Change to tqdm.tqdm if not using Jupyter Notebook\n",
    "import copy\n",
    "import wandb\n",
    "#Custom Libraries\n",
    "from resize_image import resize_image"
   ]
  },
  {
   "cell_type": "code",
   "execution_count": null,
   "id": "050528e7",
   "metadata": {},
   "outputs": [
    {
     "name": "stderr",
     "output_type": "stream",
     "text": [
      "\u001b[34m\u001b[1mwandb\u001b[0m: \u001b[33mWARNING\u001b[0m If you're specifying your api key in code, ensure this code is not shared publicly.\n",
      "\u001b[34m\u001b[1mwandb\u001b[0m: \u001b[33mWARNING\u001b[0m Consider setting the WANDB_API_KEY environment variable, or running `wandb login` from the command line.\n",
      "\u001b[34m\u001b[1mwandb\u001b[0m: Appending key for api.wandb.ai to your netrc file: /home/tommytang111/.netrc\n",
      "\u001b[34m\u001b[1mwandb\u001b[0m: Currently logged in as: \u001b[33mtommytang111\u001b[0m (\u001b[33mzhen_lab\u001b[0m) to \u001b[32mhttps://api.wandb.ai\u001b[0m. Use \u001b[1m`wandb login --relogin`\u001b[0m to force relogin\n",
      "\u001b[34m\u001b[1mwandb\u001b[0m: \u001b[33mWARNING\u001b[0m Using a boolean value for 'reinit' is deprecated. Use 'return_previous' or 'finish_previous' instead.\n"
     ]
    },
    {
     "data": {
      "text/html": [
       "Tracking run with wandb version 0.19.10"
      ],
      "text/plain": [
       "<IPython.core.display.HTML object>"
      ]
     },
     "metadata": {},
     "output_type": "display_data"
    },
    {
     "data": {
      "text/html": [
       "Run data is saved locally in <code>/home/tommytang111/gap-junction-segmentation/wandb/unet_sem_adult_s250-259_runs/wandb/run-20250530_150538-qoezzalv</code>"
      ],
      "text/plain": [
       "<IPython.core.display.HTML object>"
      ]
     },
     "metadata": {},
     "output_type": "display_data"
    },
    {
     "data": {
      "text/html": [
       "Syncing run <strong><a href='https://wandb.ai/zhen_lab/gap-junction-segmentation/runs/qoezzalv' target=\"_blank\">unet_sem_adult_s250-259_run_6</a></strong> to <a href='https://wandb.ai/zhen_lab/gap-junction-segmentation' target=\"_blank\">Weights & Biases</a> (<a href='https://wandb.me/developer-guide' target=\"_blank\">docs</a>)<br>"
      ],
      "text/plain": [
       "<IPython.core.display.HTML object>"
      ]
     },
     "metadata": {},
     "output_type": "display_data"
    },
    {
     "data": {
      "text/html": [
       " View project at <a href='https://wandb.ai/zhen_lab/gap-junction-segmentation' target=\"_blank\">https://wandb.ai/zhen_lab/gap-junction-segmentation</a>"
      ],
      "text/plain": [
       "<IPython.core.display.HTML object>"
      ]
     },
     "metadata": {},
     "output_type": "display_data"
    },
    {
     "data": {
      "text/html": [
       " View run at <a href='https://wandb.ai/zhen_lab/gap-junction-segmentation/runs/qoezzalv' target=\"_blank\">https://wandb.ai/zhen_lab/gap-junction-segmentation/runs/qoezzalv</a>"
      ],
      "text/plain": [
       "<IPython.core.display.HTML object>"
      ]
     },
     "metadata": {},
     "output_type": "display_data"
    },
    {
     "data": {
      "text/html": [
       "<button onClick=\"this.nextSibling.style.display='block';this.style.display='none';\">Display W&B run</button><iframe src='https://wandb.ai/zhen_lab/gap-junction-segmentation/runs/qoezzalv?jupyter=true' style='border:none;width:100%;height:420px;display:none;'></iframe>"
      ],
      "text/plain": [
       "<wandb.sdk.wandb_run.Run at 0x7f062901c130>"
      ]
     },
     "execution_count": 2,
     "metadata": {},
     "output_type": "execute_result"
    }
   ],
   "source": [
    "#WandB Initialization\n",
    "wandb.login(key=\"04e003d2c64e518f8033ab016c7a0036545c05f5\")\n",
    "wandb.init(project=\"gap-junction-segmentation\", \n",
    "           entity=\"zhen_lab\",\n",
    "           name=\"unet_pooled_run_1\",\n",
    "           dir=\"/home/tommytang111/gap-junction-segmentation/wandb/unet_pooled_runs\",\n",
    "           reinit=True,\n",
    "           config={\n",
    "               \"learning_rate\": 0.001,\n",
    "               \"batch_size\": 8,\n",
    "               \"epochs\": 30,\n",
    "               \"image_size\": (512, 512),\n",
    "               \"loss_function\": \"Generalized Dice Loss\",\n",
    "               \"optimizer\": \"Adam\",\n",
    "               \"scheduler\": \"ReduceLROnPlateau\"\n",
    "           }\n",
    ")"
   ]
  },
  {
   "cell_type": "markdown",
   "id": "892be359",
   "metadata": {},
   "source": [
    "#### Set Reproducible Seeds"
   ]
  },
  {
   "cell_type": "code",
   "execution_count": 2,
   "id": "f7f50733",
   "metadata": {},
   "outputs": [],
   "source": [
    "def seed_everything(seed: int = 42):\n",
    "    np.random.seed(seed)\n",
    "    torch.manual_seed(seed)\n",
    "    torch.cuda.manual_seed(seed)\n",
    "    torch.cuda.manual_seed_all(seed)\n",
    "    torch.backends.cudnn.deterministic = True\n",
    "    #torch.backends.cudnn.benchmark = False\n",
    "    \n",
    "def worker_init_fn(worker_id):\n",
    "    seed = 42 + worker_id\n",
    "    np.random.seed(seed)\n",
    "    torch.manual_seed(seed)\n",
    "    \n",
    "seed_everything(42)"
   ]
  },
  {
   "cell_type": "markdown",
   "id": "7abdda14",
   "metadata": {},
   "source": [
    "#### Define Augmentation Options"
   ]
  },
  {
   "cell_type": "code",
   "execution_count": null,
   "id": "83b2fdc5",
   "metadata": {},
   "outputs": [],
   "source": [
    "# Custom augmentation\n",
    "def get_custom_augmentation():\n",
    "    return A.Compose([\n",
    "        A.HorizontalFlip(p=0.5),\n",
    "        A.VerticalFlip(p=0.5),\n",
    "        A.Affine(scale=(0.9,1.1), rotate=10, translate_percent=0.15, shear = (-5, 5), p=0.9),\n",
    "        A.RandomBrightnessContrast(brightness_limit=0.1, contrast_limit=0.2, p=0.5),\n",
    "        A.GaussNoise(p=0.3),\n",
    "        A.Normalize(mean=0.0, std=1.0),\n",
    "        A.Resize(512, 512),\n",
    "        ToTensorV2()\n",
    "    ])\n",
    "    \n",
    "def get_custom_augmentation2():\n",
    "    return A.Compose([\n",
    "        A.HorizontalFlip(p=0.5),\n",
    "        A.VerticalFlip(p=0.5),\n",
    "        A.Affine(scale=(0.8,1.2), rotate=360, translate_percent=0.15, shear=(-15, 15), p=0.9),\n",
    "        A.RandomBrightnessContrast(brightness_limit=0.2, contrast_limit=0.2, p=0.5),\n",
    "        A.GaussNoise(p=0.3),\n",
    "        A.Normalize(mean=0.0, std=1.0),\n",
    "        A.Resize(512, 512),\n",
    "        ToTensorV2()\n",
    "    ])\n",
    "\n",
    "# Light augmentation for gap junction segmentation\n",
    "def get_light_augmentation():\n",
    "    return A.Compose([\n",
    "        A.HorizontalFlip(p=0.5),\n",
    "        A.VerticalFlip(p=0.5),\n",
    "        A.RandomRotate90(p=0.5),\n",
    "        A.Transpose(p=0.5),\n",
    "        A.GaussNoise(p=0.3),\n",
    "        A.Blur(blur_limit=3, p=0.2),\n",
    "        A.Normalize(mean=0.0, std=1.0),  # For grayscale\n",
    "        ToTensorV2()\n",
    "    ])\n",
    "\n",
    "# Medium augmentation\n",
    "def get_medium_augmentation():\n",
    "    return A.Compose([\n",
    "        A.HorizontalFlip(p=0.5),\n",
    "        A.VerticalFlip(p=0.5),\n",
    "        A.RandomRotate90(p=0.5),\n",
    "        A.Transpose(p=0.5),\n",
    "        A.ShiftScaleRotate(\n",
    "            shift_limit=0.1, \n",
    "            scale_limit=0.2, \n",
    "            rotate_limit=15, \n",
    "            border_mode=cv2.BORDER_CONSTANT, \n",
    "            value=0, \n",
    "            p=0.5\n",
    "        ),\n",
    "        A.ElasticTransform(\n",
    "            alpha=1, \n",
    "            sigma=50, \n",
    "            alpha_affine=50, \n",
    "            border_mode=cv2.BORDER_CONSTANT, \n",
    "            value=0, \n",
    "            p=0.3\n",
    "        ),\n",
    "        A.GaussNoise(var_limit=(10.0, 50.0), p=0.3),\n",
    "        A.Blur(blur_limit=3, p=0.2),\n",
    "        A.CLAHE(clip_limit=2.0, p=0.3),\n",
    "        A.Normalize(mean=0.0, std=1.0),\n",
    "        ToTensorV2()\n",
    "    ])\n",
    "    \n",
    "# Heavy augmentation\n",
    "def get_heavy_augmentation():\n",
    "    return A.Compose([\n",
    "        A.HorizontalFlip(p=0.5),\n",
    "        A.VerticalFlip(p=0.5),\n",
    "        A.RandomRotate90(p=0.5),\n",
    "        A.Transpose(p=0.5),\n",
    "        A.ShiftScaleRotate(\n",
    "            shift_limit=0.15, \n",
    "            scale_limit=0.3, \n",
    "            rotate_limit=25, \n",
    "            border_mode=cv2.BORDER_CONSTANT, \n",
    "            value=0, \n",
    "            p=0.6\n",
    "        ),\n",
    "        A.ElasticTransform(\n",
    "            alpha=1, \n",
    "            sigma=50, \n",
    "            alpha_affine=50, \n",
    "            border_mode=cv2.BORDER_CONSTANT, \n",
    "            value=0, \n",
    "            p=0.4\n",
    "        ),\n",
    "        A.GridDistortion(p=0.3),\n",
    "        A.OpticalDistortion(p=0.3),\n",
    "        A.GaussNoise(var_limit=(10.0, 80.0), p=0.4),\n",
    "        A.OneOf([\n",
    "            A.Blur(blur_limit=3),\n",
    "            A.GaussianBlur(blur_limit=3),\n",
    "            A.MedianBlur(blur_limit=3),\n",
    "        ], p=0.3),\n",
    "        A.CLAHE(clip_limit=2.0, p=0.4),\n",
    "        A.RandomBrightnessContrast(brightness_limit=0.2, contrast_limit=0.2, p=0.3),\n",
    "        A.Normalize(mean=0.0, std=1.0),\n",
    "        ToTensorV2()\n",
    "    ])"
   ]
  },
  {
   "cell_type": "markdown",
   "id": "e4a1bfed",
   "metadata": {},
   "source": [
    "#### Make Dataset Class"
   ]
  },
  {
   "cell_type": "code",
   "execution_count": 4,
   "id": "bed85410",
   "metadata": {},
   "outputs": [],
   "source": [
    "#Class can load any mask as long as the model corresponds to the mask type\n",
    "class TrainingDataset(Dataset):\n",
    "    def __init__(self, images, labels, masks=None, augmentation=None, data_size=(512, 512), train=True):\n",
    "        self.image_paths = sorted([os.path.join(images, img) for img in os.listdir(images)])\n",
    "        self.label_paths = sorted([os.path.join(labels, lbl) for lbl in os.listdir(labels)])\n",
    "        self.mask_paths = sorted([os.path.join(masks, mask) for mask in os.listdir(masks)]) if masks else None\n",
    "        self.augmentation = augmentation\n",
    "        self.data_size = data_size\n",
    "        self.train = train\n",
    "\n",
    "    def __len__(self):\n",
    "        return len(self.image_paths)\n",
    "\n",
    "    def __getitem__(self, idx):\n",
    "        #Read image, label, and mask\n",
    "        image = cv2.imread(self.image_paths[idx], cv2.IMREAD_GRAYSCALE)\n",
    "        label = cv2.imread(self.label_paths[idx], cv2.IMREAD_GRAYSCALE)\n",
    "        mask = cv2.imread(self.mask_paths[idx], cv2.IMREAD_GRAYSCALE) if self.mask_paths else None\n",
    "        \n",
    "        #Apply resizing with padding if image is not expected size and then convert back to ndarray\n",
    "        if (image.shape[0] != self.data_size[0]) or (image.shape[1] != self.data_size[1]): \n",
    "            image = np.array(resize_image(image, self.data_size[0], self.data_size[1], (0,0,0)))\n",
    "            label = np.array(resize_image(label, self.data_size[0], self.data_size[1], (0,0,0)))\n",
    "            if mask is not None:\n",
    "                mask = np.array(resize_image(mask, self.data_size[0], self.data_size[1], (0,0,0)))\n",
    "\n",
    "        #Convert mask/label to binary for model classification\n",
    "        label[label > 0] = 1\n",
    "        if mask is not None:\n",
    "            mask[mask > 0] = 1\n",
    "        \n",
    "        #Apply augmentation if provided\n",
    "        if self.augmentation and self.train:\n",
    "            if mask is not None:\n",
    "                #Use mask in augmentation\n",
    "                augmented = self.augmentation(image=image, mask=label, label=mask)\n",
    "                image = augmented['image']\n",
    "                label = augmented['mask']\n",
    "                mask = augmented['label']\n",
    "            else:\n",
    "                #Without mask\n",
    "                augmented = self.augmentation(image=image, mask=label)\n",
    "                image = augmented['image']\n",
    "                label = augmented['mask']\n",
    "\n",
    "        #Add entity recognition clause later if needed\n",
    "        \n",
    "        # Convert to tensors if not already converted from augmentation\n",
    "        if not torch.is_tensor(image):\n",
    "            image = ToTensor()(image).float()\n",
    "        if not torch.is_tensor(label):\n",
    "            label = torch.from_numpy(label).long()\n",
    "        if mask is not None and not torch.is_tensor(mask):\n",
    "            mask = torch.from_numpy(mask).long()\n",
    "        elif mask is None:\n",
    "            mask = torch.zeros_like(label)\n",
    "\n",
    "        return image, label, mask"
   ]
  },
  {
   "cell_type": "markdown",
   "id": "fd06ab38",
   "metadata": {},
   "source": [
    "#### Set Augmentation"
   ]
  },
  {
   "cell_type": "code",
   "execution_count": 8,
   "id": "e7f9457c",
   "metadata": {},
   "outputs": [],
   "source": [
    "#For training with augmentation\n",
    "train_augmentation = get_custom_augmentation()  # Change to get_medium_augmentation() or get_heavy_augmentation() as needed\n",
    "\n",
    "# For validation without augmentation\n",
    "valid_augmentation = A.Compose([\n",
    "    A.Normalize(mean=0.0, std=1.0),\n",
    "    ToTensorV2()\n",
    "])"
   ]
  },
  {
   "cell_type": "markdown",
   "id": "b1c1abf3",
   "metadata": {},
   "source": [
    "#### Initialize and Load Datasets"
   ]
  },
  {
   "cell_type": "code",
   "execution_count": 9,
   "id": "3a57491f",
   "metadata": {},
   "outputs": [],
   "source": [
    "train = TrainingDataset(\n",
    "    images=\"/home/tommytang111/gap-junction-segmentation/data/sem_adult/SEM_split/s250-259/imgs\",\n",
    "    labels=\"/home/tommytang111/gap-junction-segmentation/data/sem_adult/SEM_split/s250-259/gts\",\n",
    "    augmentation=train_augmentation,\n",
    "    train=True,\n",
    ")\n",
    "\n",
    "valid = TrainingDataset(\n",
    "    images=\"/home/tommytang111/gap-junction-segmentation/data/sem_adult/SEM_split/s200-209/imgs\",\n",
    "    labels=\"/home/tommytang111/gap-junction-segmentation/data/sem_adult/SEM_split/s200-209/gts\",\n",
    "    augmentation=valid_augmentation,\n",
    "    train=False\n",
    ")\n",
    "\n",
    "train_dataloader = DataLoader(train, batch_size=8, shuffle=True, num_workers=4, pin_memory=True, worker_init_fn=worker_init_fn)\n",
    "valid_dataloader = DataLoader(valid, batch_size=8, shuffle=False, num_workers=4, pin_memory=True, worker_init_fn=worker_init_fn)"
   ]
  },
  {
   "cell_type": "markdown",
   "id": "0aa04da2",
   "metadata": {},
   "source": [
    "#### Initialize model and send to gpu"
   ]
  },
  {
   "cell_type": "code",
   "execution_count": 5,
   "id": "2fa57f8e",
   "metadata": {},
   "outputs": [],
   "source": [
    "class UNet(nn.Module):\n",
    "    \"\"\"UNet Architecture\"\"\"\n",
    "    def __init__(self, out_classes=2, up_sample_mode='conv_transpose', three=False, attend=False, residual=False, scale=False, spatial=False, dropout=0, classes=2):\n",
    "        \"\"\"Initialize the UNet model\"\"\"\n",
    "        super(UNet, self).__init__()\n",
    "        self.three = three\n",
    "        self.up_sample_mode = up_sample_mode\n",
    "        self.dropout=dropout\n",
    "\n",
    "        # Downsampling Path\n",
    "        self.down_conv1 = DownBlock(1, 64, three=three, spatial=False, residual=residual) # 3 input channels --> 64 output channels\n",
    "        self.down_conv2 = DownBlock(64, 128, three=three, spatial=spatial, dropout=self.dropout, residual=residual) # 64 input channels --> 128 output channels\n",
    "        self.down_conv3 = DownBlock(128, 256, spatial=spatial, dropout=self.dropout, residual=residual) # 128 input channels --> 256 output channels\n",
    "        self.down_conv4 = DownBlock(256, 512, spatial=spatial, dropout=self.dropout, residual=residual) # 256 input channels --> 512 output channels\n",
    "        # Bottleneck\n",
    "        self.double_conv = DoubleConv(512, 1024,spatial=spatial, dropout=self.dropout, residual=residual)\n",
    "        # Upsampling Path\n",
    "        self.up_conv4 = UpBlock(512 + 1024, 512, self.up_sample_mode, dropout=self.dropout, residual=residual) # 512 + 1024 input channels --> 512 output channels\n",
    "        self.up_conv3 = UpBlock(256 + 512, 256, self.up_sample_mode, dropout=self.dropout, residual=residual)\n",
    "        self.up_conv2 = UpBlock(128+ 256, 128, self.up_sample_mode, dropout=self.dropout, residual=residual)\n",
    "        self.up_conv1 = UpBlock(128 + 64, 64, self.up_sample_mode)\n",
    "        # Final Convolution\n",
    "        self.conv_last = nn.Conv2d(64, 1 if classes == 2 else classes, kernel_size=1)\n",
    "        self.attend = attend\n",
    "        if scale:\n",
    "            self.s1, self.s2 = torch.nn.Parameter(torch.ones(1), requires_grad=True), torch.nn.Parameter(torch.ones(1), requires_grad=True) # learn scaling\n",
    "\n",
    "\n",
    "    def forward(self, x):\n",
    "        \"\"\"Forward pass of the UNet model\n",
    "        x: (16, 1, 512, 512)\n",
    "        \"\"\"\n",
    "        # print(x.shape)\n",
    "        x, skip1_out = self.down_conv1(x) # x: (16, 64, 256, 256), skip1_out: (16, 64, 512, 512) (batch_size, channels, height, width)    \n",
    "        x, skip2_out = self.down_conv2(x) # x: (16, 128, 128, 128), skip2_out: (16, 128, 256, 256)\n",
    "        if self.three: x = x.squeeze(-3)   \n",
    "        x, skip3_out = self.down_conv3(x) # x: (16, 256, 64, 64), skip3_out: (16, 256, 128, 128)\n",
    "        x, skip4_out = self.down_conv4(x) # x: (16, 512, 32, 32), skip4_out: (16, 512, 64, 64)\n",
    "        x = self.double_conv(x) # x: (16, 1024, 32, 32)\n",
    "        x = self.up_conv4(x, skip4_out) # x: (16, 512, 64, 64)\n",
    "        x = self.up_conv3(x, skip3_out) # x: (16, 256, 128, 128)\n",
    "        if self.three: \n",
    "            #attention_mode???\n",
    "            skip1_out = torch.mean(skip1_out, dim=2)\n",
    "            skip2_out = torch.mean(skip2_out, dim=2)\n",
    "        x = self.up_conv2(x, skip2_out) # x: (16, 128, 256, 256)\n",
    "        x = self.up_conv1(x, skip1_out) # x: (16, 64, 512, 512)\n",
    "        x = self.conv_last(x) # x: (16, 1, 512, 512)\n",
    "        return x\n",
    "    \n",
    "device = torch.device(\"cuda\")    \n",
    "model = UNet().to(device)"
   ]
  },
  {
   "cell_type": "markdown",
   "id": "e2e1d635",
   "metadata": {},
   "source": [
    "#### Initialize loss function and optimizer"
   ]
  },
  {
   "cell_type": "code",
   "execution_count": 11,
   "id": "cf895300",
   "metadata": {},
   "outputs": [],
   "source": [
    "loss_fn = GenDLoss()\n",
    "optimizer = AdamW(model.parameters(), lr=1e-3, weight_decay=1e-4)\n",
    "scheduler = ReduceLROnPlateau(optimizer, mode='min', factor=0.5, patience=10, min_lr=1e-6)"
   ]
  },
  {
   "cell_type": "code",
   "execution_count": 12,
   "id": "64375e75",
   "metadata": {},
   "outputs": [],
   "source": [
    "#Send evaluation metrics to device\n",
    "recall = BinaryRecall().to(device)\n",
    "precision = BinaryPrecision().to(device)\n",
    "f1 = BinaryF1Score().to(device)"
   ]
  },
  {
   "cell_type": "markdown",
   "id": "401b8a51",
   "metadata": {},
   "source": [
    "#### Define Training and Validation Process"
   ]
  },
  {
   "cell_type": "code",
   "execution_count": 13,
   "id": "c4bf6673",
   "metadata": {},
   "outputs": [],
   "source": [
    "#Define training function\n",
    "def train(dataloader, model, loss_fn, optimizer):\n",
    "    model.train()\n",
    "    train_loss = 0\n",
    "    num_batches = len(dataloader)\n",
    "    \n",
    "    #Reset metrics for each epoch\n",
    "    recall.reset()\n",
    "    precision.reset()\n",
    "    f1.reset()\n",
    "    \n",
    "    for batch, (X, y, _) in tqdm(enumerate(dataloader), total=num_batches, desc=\"Training Batches\"):\n",
    "        X, y = X.to(device), y.to(device)\n",
    "        \n",
    "        # Compute prediction and loss\n",
    "        pred = model(X)\n",
    "        loss = loss_fn(pred, y)\n",
    "        \n",
    "        # Backpropagation\n",
    "        loss.backward()\n",
    "        optimizer.step()\n",
    "        optimizer.zero_grad()\n",
    "        \n",
    "        #Calculate metrics after converting predictions to binary\n",
    "        pred_binary = (torch.sigmoid(pred) > 0.5).squeeze(1) #Remove channel dimension to match y\n",
    "        \n",
    "        #Update metrics\n",
    "        recall.update(pred_binary, y)\n",
    "        precision.update(pred_binary, y)\n",
    "        f1.update(pred_binary, y)\n",
    "        \n",
    "        train_loss += loss.item()\n",
    "\n",
    "    #Compute final metrics per epoch\n",
    "    train_recall = recall.compute().item()\n",
    "    train_precision = precision.compute().item()\n",
    "    train_f1 = f1.compute().item()\n",
    "    train_loss_per_epoch = train_loss / num_batches \n",
    "    \n",
    "    return train_loss_per_epoch, train_recall, train_precision, train_f1\n"
   ]
  },
  {
   "cell_type": "code",
   "execution_count": 14,
   "id": "0f1ff8ed",
   "metadata": {},
   "outputs": [],
   "source": [
    "#Define validation function\n",
    "def validate(dataloader, model, loss_fn):\n",
    "    model.eval()\n",
    "    test_loss = 0\n",
    "    num_batches = len(dataloader)\n",
    "    \n",
    "    #Reset metrics for each epoch\n",
    "    recall.reset()\n",
    "    precision.reset()\n",
    "    f1.reset()\n",
    "    \n",
    "    with torch.no_grad():\n",
    "        for X, y, _ in tqdm(dataloader, desc=\"Validation Batches\"):\n",
    "            X, y = X.to(device), y.to(device)\n",
    "            pred = model(X)\n",
    "            test_loss += loss_fn(pred, y).item()\n",
    "            \n",
    "        #Calculate metrics\n",
    "        pred_binary = (torch.sigmoid(pred) > 0.5).squeeze(1) #Remove channel dimension to match y\n",
    "        \n",
    "        #Update metrics\n",
    "        recall.update(pred_binary, y)\n",
    "        precision.update(pred_binary, y)\n",
    "        f1.update(pred_binary, y)\n",
    "            \n",
    "        #Compute final metrics per epoch\n",
    "        val_recall = recall.compute().item()\n",
    "        val_precision = precision.compute().item()\n",
    "        val_f1 = f1.compute().item()\n",
    "        val_loss_per_epoch = test_loss / num_batches\n",
    "\n",
    "    return val_loss_per_epoch, val_recall, val_precision, val_f1\n",
    "    print(f\"Avg loss: {test_loss:>7f}\\n\")\n",
    "    "
   ]
  },
  {
   "cell_type": "markdown",
   "id": "da5c9f7a",
   "metadata": {},
   "source": [
    "#### Run Training"
   ]
  },
  {
   "cell_type": "code",
   "execution_count": null,
   "id": "b267371d",
   "metadata": {},
   "outputs": [
    {
     "name": "stdout",
     "output_type": "stream",
     "text": [
      "Epoch 1\n"
     ]
    },
    {
     "data": {
      "application/vnd.jupyter.widget-view+json": {
       "model_id": "26ae91583728478aa4c6733aef216a59",
       "version_major": 2,
       "version_minor": 0
      },
      "text/plain": [
       "Training Batches:   0%|          | 0/5 [00:00<?, ?it/s]"
      ]
     },
     "metadata": {},
     "output_type": "display_data"
    },
    {
     "data": {
      "application/vnd.jupyter.widget-view+json": {
       "model_id": "a6366136cf414cfc89caccd7fb57bb9a",
       "version_major": 2,
       "version_minor": 0
      },
      "text/plain": [
       "Validation Batches:   0%|          | 0/5 [00:00<?, ?it/s]"
      ]
     },
     "metadata": {},
     "output_type": "display_data"
    },
    {
     "name": "stdout",
     "output_type": "stream",
     "text": [
      "Train | Loss: 0.9567, Recall: 0.2601, Precision: 0.0221, F1: 0.0408\n",
      "Val   | Loss: 0.9300, Recall: 0.9825, Precision: 0.0341, F1: 0.0660\n",
      "-----------------------------\n",
      "Epoch 2\n"
     ]
    },
    {
     "data": {
      "application/vnd.jupyter.widget-view+json": {
       "model_id": "60b5af564a1544a1a4d83053c8164f9a",
       "version_major": 2,
       "version_minor": 0
      },
      "text/plain": [
       "Training Batches:   0%|          | 0/5 [00:00<?, ?it/s]"
      ]
     },
     "metadata": {},
     "output_type": "display_data"
    },
    {
     "data": {
      "application/vnd.jupyter.widget-view+json": {
       "model_id": "a46289e75bb64a1ebefbb2dd53a2061d",
       "version_major": 2,
       "version_minor": 0
      },
      "text/plain": [
       "Validation Batches:   0%|          | 0/5 [00:00<?, ?it/s]"
      ]
     },
     "metadata": {},
     "output_type": "display_data"
    },
    {
     "name": "stdout",
     "output_type": "stream",
     "text": [
      "Train | Loss: 0.9580, Recall: 0.2990, Precision: 0.0212, F1: 0.0395\n",
      "Val   | Loss: 0.9281, Recall: 0.9831, Precision: 0.0343, F1: 0.0664\n",
      "-----------------------------\n",
      "Epoch 3\n"
     ]
    },
    {
     "data": {
      "application/vnd.jupyter.widget-view+json": {
       "model_id": "66d541aea0e64afa9241667922680a0f",
       "version_major": 2,
       "version_minor": 0
      },
      "text/plain": [
       "Training Batches:   0%|          | 0/5 [00:00<?, ?it/s]"
      ]
     },
     "metadata": {},
     "output_type": "display_data"
    },
    {
     "data": {
      "application/vnd.jupyter.widget-view+json": {
       "model_id": "27ecf728745249008df41b0075fe5e30",
       "version_major": 2,
       "version_minor": 0
      },
      "text/plain": [
       "Validation Batches:   0%|          | 0/5 [00:00<?, ?it/s]"
      ]
     },
     "metadata": {},
     "output_type": "display_data"
    },
    {
     "name": "stdout",
     "output_type": "stream",
     "text": [
      "Train | Loss: 0.9568, Recall: 0.2420, Precision: 0.0219, F1: 0.0402\n",
      "Val   | Loss: 0.8956, Recall: 0.0103, Precision: 0.0132, F1: 0.0115\n",
      "-----------------------------\n",
      "Epoch 4\n"
     ]
    },
    {
     "data": {
      "application/vnd.jupyter.widget-view+json": {
       "model_id": "4f4e63511a9d45d7892330c5fe172b30",
       "version_major": 2,
       "version_minor": 0
      },
      "text/plain": [
       "Training Batches:   0%|          | 0/5 [00:00<?, ?it/s]"
      ]
     },
     "metadata": {},
     "output_type": "display_data"
    },
    {
     "data": {
      "application/vnd.jupyter.widget-view+json": {
       "model_id": "afeee2079dff417bb6df6945a7b5a637",
       "version_major": 2,
       "version_minor": 0
      },
      "text/plain": [
       "Validation Batches:   0%|          | 0/5 [00:00<?, ?it/s]"
      ]
     },
     "metadata": {},
     "output_type": "display_data"
    },
    {
     "name": "stdout",
     "output_type": "stream",
     "text": [
      "Train | Loss: 0.9573, Recall: 0.2460, Precision: 0.0242, F1: 0.0441\n",
      "Val   | Loss: 0.8746, Recall: 0.1495, Precision: 0.1403, F1: 0.1447\n",
      "-----------------------------\n",
      "Epoch 5\n"
     ]
    },
    {
     "data": {
      "application/vnd.jupyter.widget-view+json": {
       "model_id": "824ff208475446fb9e9bd14ab2253a00",
       "version_major": 2,
       "version_minor": 0
      },
      "text/plain": [
       "Training Batches:   0%|          | 0/5 [00:00<?, ?it/s]"
      ]
     },
     "metadata": {},
     "output_type": "display_data"
    },
    {
     "data": {
      "application/vnd.jupyter.widget-view+json": {
       "model_id": "1689f52151494b01a47e91f68fdace8b",
       "version_major": 2,
       "version_minor": 0
      },
      "text/plain": [
       "Validation Batches:   0%|          | 0/5 [00:00<?, ?it/s]"
      ]
     },
     "metadata": {},
     "output_type": "display_data"
    },
    {
     "name": "stdout",
     "output_type": "stream",
     "text": [
      "Train | Loss: 0.9564, Recall: 0.1940, Precision: 0.0229, F1: 0.0410\n",
      "Val   | Loss: 0.9345, Recall: 0.0000, Precision: 0.0000, F1: 0.0000\n",
      "-----------------------------\n",
      "Epoch 6\n"
     ]
    },
    {
     "data": {
      "application/vnd.jupyter.widget-view+json": {
       "model_id": "3d827e510e9e49d8baf761dc7d245175",
       "version_major": 2,
       "version_minor": 0
      },
      "text/plain": [
       "Training Batches:   0%|          | 0/5 [00:00<?, ?it/s]"
      ]
     },
     "metadata": {},
     "output_type": "display_data"
    },
    {
     "data": {
      "application/vnd.jupyter.widget-view+json": {
       "model_id": "d179eb51ef184166aabb148bfdee1ce4",
       "version_major": 2,
       "version_minor": 0
      },
      "text/plain": [
       "Validation Batches:   0%|          | 0/5 [00:00<?, ?it/s]"
      ]
     },
     "metadata": {},
     "output_type": "display_data"
    },
    {
     "name": "stdout",
     "output_type": "stream",
     "text": [
      "Train | Loss: 0.9573, Recall: 0.1739, Precision: 0.0252, F1: 0.0440\n",
      "Val   | Loss: 0.9254, Recall: 0.0000, Precision: 0.0000, F1: 0.0000\n",
      "-----------------------------\n",
      "Epoch 7\n"
     ]
    },
    {
     "data": {
      "application/vnd.jupyter.widget-view+json": {
       "model_id": "f75a708087424a7e92fb62cb8b6c0ff3",
       "version_major": 2,
       "version_minor": 0
      },
      "text/plain": [
       "Training Batches:   0%|          | 0/5 [00:00<?, ?it/s]"
      ]
     },
     "metadata": {},
     "output_type": "display_data"
    },
    {
     "data": {
      "application/vnd.jupyter.widget-view+json": {
       "model_id": "28115f53d0c846cbbb0e460fdd890859",
       "version_major": 2,
       "version_minor": 0
      },
      "text/plain": [
       "Validation Batches:   0%|          | 0/5 [00:00<?, ?it/s]"
      ]
     },
     "metadata": {},
     "output_type": "display_data"
    },
    {
     "name": "stdout",
     "output_type": "stream",
     "text": [
      "Train | Loss: 0.9567, Recall: 0.0530, Precision: 0.0292, F1: 0.0376\n",
      "Val   | Loss: 0.9257, Recall: 0.0000, Precision: 0.0000, F1: 0.0000\n",
      "-----------------------------\n",
      "Epoch 8\n"
     ]
    },
    {
     "data": {
      "application/vnd.jupyter.widget-view+json": {
       "model_id": "b7c46067c2c74656b8c0013d16af4120",
       "version_major": 2,
       "version_minor": 0
      },
      "text/plain": [
       "Training Batches:   0%|          | 0/5 [00:00<?, ?it/s]"
      ]
     },
     "metadata": {},
     "output_type": "display_data"
    },
    {
     "data": {
      "application/vnd.jupyter.widget-view+json": {
       "model_id": "04d0b5d02f9949368ebed701129af7bb",
       "version_major": 2,
       "version_minor": 0
      },
      "text/plain": [
       "Validation Batches:   0%|          | 0/5 [00:00<?, ?it/s]"
      ]
     },
     "metadata": {},
     "output_type": "display_data"
    },
    {
     "name": "stdout",
     "output_type": "stream",
     "text": [
      "Train | Loss: 0.9572, Recall: 0.0000, Precision: 0.0286, F1: 0.0001\n",
      "Val   | Loss: 0.9139, Recall: 0.0000, Precision: 0.0000, F1: 0.0000\n",
      "-----------------------------\n",
      "Epoch 9\n"
     ]
    },
    {
     "data": {
      "application/vnd.jupyter.widget-view+json": {
       "model_id": "ec43e807fb2c417592cfcd2aa21281f0",
       "version_major": 2,
       "version_minor": 0
      },
      "text/plain": [
       "Training Batches:   0%|          | 0/5 [00:00<?, ?it/s]"
      ]
     },
     "metadata": {},
     "output_type": "display_data"
    },
    {
     "data": {
      "application/vnd.jupyter.widget-view+json": {
       "model_id": "59250241a6ae4d9eabd366c247a36356",
       "version_major": 2,
       "version_minor": 0
      },
      "text/plain": [
       "Validation Batches:   0%|          | 0/5 [00:00<?, ?it/s]"
      ]
     },
     "metadata": {},
     "output_type": "display_data"
    },
    {
     "name": "stdout",
     "output_type": "stream",
     "text": [
      "Train | Loss: 0.9583, Recall: 0.0000, Precision: 0.0000, F1: 0.0000\n",
      "Val   | Loss: 0.9135, Recall: 0.0000, Precision: 0.0000, F1: 0.0000\n",
      "-----------------------------\n",
      "Epoch 10\n"
     ]
    },
    {
     "data": {
      "application/vnd.jupyter.widget-view+json": {
       "model_id": "59605ad35eb643d39debe7f0518a4cfd",
       "version_major": 2,
       "version_minor": 0
      },
      "text/plain": [
       "Training Batches:   0%|          | 0/5 [00:00<?, ?it/s]"
      ]
     },
     "metadata": {},
     "output_type": "display_data"
    },
    {
     "data": {
      "application/vnd.jupyter.widget-view+json": {
       "model_id": "6fa268d22f91415d95b824e62a05f664",
       "version_major": 2,
       "version_minor": 0
      },
      "text/plain": [
       "Validation Batches:   0%|          | 0/5 [00:00<?, ?it/s]"
      ]
     },
     "metadata": {},
     "output_type": "display_data"
    },
    {
     "name": "stdout",
     "output_type": "stream",
     "text": [
      "Train | Loss: 0.9578, Recall: 0.0000, Precision: 0.0000, F1: 0.0000\n",
      "Val   | Loss: 0.9193, Recall: 0.0000, Precision: 0.0000, F1: 0.0000\n",
      "-----------------------------\n",
      "Epoch 11\n"
     ]
    },
    {
     "data": {
      "application/vnd.jupyter.widget-view+json": {
       "model_id": "77d0d5a5b4ec46df8824e96624240d1a",
       "version_major": 2,
       "version_minor": 0
      },
      "text/plain": [
       "Training Batches:   0%|          | 0/5 [00:00<?, ?it/s]"
      ]
     },
     "metadata": {},
     "output_type": "display_data"
    },
    {
     "data": {
      "application/vnd.jupyter.widget-view+json": {
       "model_id": "d8b08c701717454c95c696875d92946e",
       "version_major": 2,
       "version_minor": 0
      },
      "text/plain": [
       "Validation Batches:   0%|          | 0/5 [00:00<?, ?it/s]"
      ]
     },
     "metadata": {},
     "output_type": "display_data"
    },
    {
     "name": "stdout",
     "output_type": "stream",
     "text": [
      "Train | Loss: 0.9569, Recall: 0.0000, Precision: 0.0000, F1: 0.0000\n",
      "Val   | Loss: 0.9133, Recall: 0.0000, Precision: 0.0000, F1: 0.0000\n",
      "-----------------------------\n",
      "Epoch 12\n"
     ]
    },
    {
     "data": {
      "application/vnd.jupyter.widget-view+json": {
       "model_id": "8eea0b4c6a4d4413abf1bc7ced8eeca9",
       "version_major": 2,
       "version_minor": 0
      },
      "text/plain": [
       "Training Batches:   0%|          | 0/5 [00:00<?, ?it/s]"
      ]
     },
     "metadata": {},
     "output_type": "display_data"
    },
    {
     "data": {
      "application/vnd.jupyter.widget-view+json": {
       "model_id": "428d978718a14653ab86551295d338d1",
       "version_major": 2,
       "version_minor": 0
      },
      "text/plain": [
       "Validation Batches:   0%|          | 0/5 [00:00<?, ?it/s]"
      ]
     },
     "metadata": {},
     "output_type": "display_data"
    },
    {
     "name": "stdout",
     "output_type": "stream",
     "text": [
      "Train | Loss: 0.9562, Recall: 0.0000, Precision: 0.0000, F1: 0.0000\n",
      "Val   | Loss: 0.9257, Recall: 0.0001, Precision: 0.0332, F1: 0.0002\n",
      "-----------------------------\n",
      "Epoch 13\n"
     ]
    },
    {
     "data": {
      "application/vnd.jupyter.widget-view+json": {
       "model_id": "0dd0a1ec6b384ce58c20b4b8ea8559e0",
       "version_major": 2,
       "version_minor": 0
      },
      "text/plain": [
       "Training Batches:   0%|          | 0/5 [00:00<?, ?it/s]"
      ]
     },
     "metadata": {},
     "output_type": "display_data"
    },
    {
     "data": {
      "application/vnd.jupyter.widget-view+json": {
       "model_id": "6b183fda590d4041960ac8f41b8a8378",
       "version_major": 2,
       "version_minor": 0
      },
      "text/plain": [
       "Validation Batches:   0%|          | 0/5 [00:00<?, ?it/s]"
      ]
     },
     "metadata": {},
     "output_type": "display_data"
    },
    {
     "name": "stdout",
     "output_type": "stream",
     "text": [
      "Train | Loss: 0.9531, Recall: 0.0005, Precision: 0.0142, F1: 0.0009\n",
      "Val   | Loss: 0.8888, Recall: 0.0018, Precision: 0.0528, F1: 0.0035\n",
      "-----------------------------\n",
      "Epoch 14\n"
     ]
    },
    {
     "data": {
      "application/vnd.jupyter.widget-view+json": {
       "model_id": "673f73c3f4774d6f82b723ac204c8bb7",
       "version_major": 2,
       "version_minor": 0
      },
      "text/plain": [
       "Training Batches:   0%|          | 0/5 [00:00<?, ?it/s]"
      ]
     },
     "metadata": {},
     "output_type": "display_data"
    },
    {
     "data": {
      "application/vnd.jupyter.widget-view+json": {
       "model_id": "1c7b2c6e41e441c9813dab2be20db3a6",
       "version_major": 2,
       "version_minor": 0
      },
      "text/plain": [
       "Validation Batches:   0%|          | 0/5 [00:00<?, ?it/s]"
      ]
     },
     "metadata": {},
     "output_type": "display_data"
    },
    {
     "name": "stdout",
     "output_type": "stream",
     "text": [
      "Train | Loss: 0.9503, Recall: 0.0386, Precision: 0.0281, F1: 0.0325\n",
      "Val   | Loss: 0.9297, Recall: 0.0325, Precision: 0.0302, F1: 0.0313\n",
      "-----------------------------\n",
      "Epoch 15\n"
     ]
    },
    {
     "data": {
      "application/vnd.jupyter.widget-view+json": {
       "model_id": "66344fd762904682b4e67fdbe181ed9c",
       "version_major": 2,
       "version_minor": 0
      },
      "text/plain": [
       "Training Batches:   0%|          | 0/5 [00:00<?, ?it/s]"
      ]
     },
     "metadata": {},
     "output_type": "display_data"
    },
    {
     "data": {
      "application/vnd.jupyter.widget-view+json": {
       "model_id": "3c5d4baa854349db96f66916c869ed93",
       "version_major": 2,
       "version_minor": 0
      },
      "text/plain": [
       "Validation Batches:   0%|          | 0/5 [00:00<?, ?it/s]"
      ]
     },
     "metadata": {},
     "output_type": "display_data"
    },
    {
     "name": "stdout",
     "output_type": "stream",
     "text": [
      "Train | Loss: 0.9414, Recall: 0.0468, Precision: 0.0370, F1: 0.0414\n",
      "Val   | Loss: 0.9309, Recall: 0.0341, Precision: 0.0294, F1: 0.0316\n",
      "-----------------------------\n",
      "Epoch 16\n"
     ]
    },
    {
     "data": {
      "application/vnd.jupyter.widget-view+json": {
       "model_id": "f237d14290c24161bd51cce22e5ebe32",
       "version_major": 2,
       "version_minor": 0
      },
      "text/plain": [
       "Training Batches:   0%|          | 0/5 [00:00<?, ?it/s]"
      ]
     },
     "metadata": {},
     "output_type": "display_data"
    },
    {
     "data": {
      "application/vnd.jupyter.widget-view+json": {
       "model_id": "d8d357395ac44352b2940c0f8211b277",
       "version_major": 2,
       "version_minor": 0
      },
      "text/plain": [
       "Validation Batches:   0%|          | 0/5 [00:00<?, ?it/s]"
      ]
     },
     "metadata": {},
     "output_type": "display_data"
    },
    {
     "name": "stdout",
     "output_type": "stream",
     "text": [
      "Train | Loss: 0.9343, Recall: 0.0440, Precision: 0.0412, F1: 0.0426\n",
      "Val   | Loss: 0.9306, Recall: 0.0332, Precision: 0.0281, F1: 0.0305\n",
      "-----------------------------\n",
      "Epoch 17\n"
     ]
    },
    {
     "data": {
      "application/vnd.jupyter.widget-view+json": {
       "model_id": "ab9574c08cf84f00aad947a3b91f32d4",
       "version_major": 2,
       "version_minor": 0
      },
      "text/plain": [
       "Training Batches:   0%|          | 0/5 [00:00<?, ?it/s]"
      ]
     },
     "metadata": {},
     "output_type": "display_data"
    },
    {
     "data": {
      "application/vnd.jupyter.widget-view+json": {
       "model_id": "df5b9bdaed974576b49ccfa35adf8661",
       "version_major": 2,
       "version_minor": 0
      },
      "text/plain": [
       "Validation Batches:   0%|          | 0/5 [00:00<?, ?it/s]"
      ]
     },
     "metadata": {},
     "output_type": "display_data"
    },
    {
     "name": "stdout",
     "output_type": "stream",
     "text": [
      "Train | Loss: 0.9311, Recall: 0.0772, Precision: 0.0439, F1: 0.0559\n",
      "Val   | Loss: 0.9339, Recall: 0.0441, Precision: 0.0277, F1: 0.0341\n",
      "-----------------------------\n",
      "Epoch 18\n"
     ]
    },
    {
     "data": {
      "application/vnd.jupyter.widget-view+json": {
       "model_id": "b9dd1b64ee7c40e29d9d81c8fa38e9de",
       "version_major": 2,
       "version_minor": 0
      },
      "text/plain": [
       "Training Batches:   0%|          | 0/5 [00:00<?, ?it/s]"
      ]
     },
     "metadata": {},
     "output_type": "display_data"
    },
    {
     "data": {
      "application/vnd.jupyter.widget-view+json": {
       "model_id": "1dd069f3016e45bc804bd31447f39b77",
       "version_major": 2,
       "version_minor": 0
      },
      "text/plain": [
       "Validation Batches:   0%|          | 0/5 [00:00<?, ?it/s]"
      ]
     },
     "metadata": {},
     "output_type": "display_data"
    },
    {
     "name": "stdout",
     "output_type": "stream",
     "text": [
      "Train | Loss: 0.9303, Recall: 0.0852, Precision: 0.0454, F1: 0.0592\n",
      "Val   | Loss: 0.9324, Recall: 0.0469, Precision: 0.0306, F1: 0.0370\n",
      "-----------------------------\n",
      "Epoch 19\n"
     ]
    },
    {
     "data": {
      "application/vnd.jupyter.widget-view+json": {
       "model_id": "968d6bfb00d649c795d8fa8ee3c138d9",
       "version_major": 2,
       "version_minor": 0
      },
      "text/plain": [
       "Training Batches:   0%|          | 0/5 [00:00<?, ?it/s]"
      ]
     },
     "metadata": {},
     "output_type": "display_data"
    },
    {
     "data": {
      "application/vnd.jupyter.widget-view+json": {
       "model_id": "431981c6367e405faab4f3ac6bd5cb3c",
       "version_major": 2,
       "version_minor": 0
      },
      "text/plain": [
       "Validation Batches:   0%|          | 0/5 [00:00<?, ?it/s]"
      ]
     },
     "metadata": {},
     "output_type": "display_data"
    },
    {
     "name": "stdout",
     "output_type": "stream",
     "text": [
      "Train | Loss: 0.9298, Recall: 0.0639, Precision: 0.0456, F1: 0.0532\n",
      "Val   | Loss: 0.9300, Recall: 0.0312, Precision: 0.0286, F1: 0.0298\n",
      "-----------------------------\n",
      "Epoch 20\n"
     ]
    },
    {
     "data": {
      "application/vnd.jupyter.widget-view+json": {
       "model_id": "731476a97f0c438e81921bb2937f90f4",
       "version_major": 2,
       "version_minor": 0
      },
      "text/plain": [
       "Training Batches:   0%|          | 0/5 [00:00<?, ?it/s]"
      ]
     },
     "metadata": {},
     "output_type": "display_data"
    },
    {
     "data": {
      "application/vnd.jupyter.widget-view+json": {
       "model_id": "f929251109bd4ad3be00c04c9d3843d0",
       "version_major": 2,
       "version_minor": 0
      },
      "text/plain": [
       "Validation Batches:   0%|          | 0/5 [00:00<?, ?it/s]"
      ]
     },
     "metadata": {},
     "output_type": "display_data"
    },
    {
     "name": "stdout",
     "output_type": "stream",
     "text": [
      "Train | Loss: 0.9284, Recall: 0.0714, Precision: 0.0511, F1: 0.0596\n",
      "Val   | Loss: 0.9345, Recall: 0.0317, Precision: 0.0273, F1: 0.0294\n",
      "-----------------------------\n",
      "Epoch 21\n"
     ]
    },
    {
     "data": {
      "application/vnd.jupyter.widget-view+json": {
       "model_id": "d896e57a66024f6b857124b97c49e37a",
       "version_major": 2,
       "version_minor": 0
      },
      "text/plain": [
       "Training Batches:   0%|          | 0/5 [00:00<?, ?it/s]"
      ]
     },
     "metadata": {},
     "output_type": "display_data"
    },
    {
     "data": {
      "application/vnd.jupyter.widget-view+json": {
       "model_id": "77185b02d1e84e7bb59c523a7261d35c",
       "version_major": 2,
       "version_minor": 0
      },
      "text/plain": [
       "Validation Batches:   0%|          | 0/5 [00:00<?, ?it/s]"
      ]
     },
     "metadata": {},
     "output_type": "display_data"
    },
    {
     "name": "stdout",
     "output_type": "stream",
     "text": [
      "Train | Loss: 0.9315, Recall: 0.0601, Precision: 0.0431, F1: 0.0502\n",
      "Val   | Loss: 0.9314, Recall: 0.0301, Precision: 0.0297, F1: 0.0299\n",
      "-----------------------------\n",
      "Epoch 22\n"
     ]
    },
    {
     "data": {
      "application/vnd.jupyter.widget-view+json": {
       "model_id": "1d53e91678904c3cbc17404aaeb4f34d",
       "version_major": 2,
       "version_minor": 0
      },
      "text/plain": [
       "Training Batches:   0%|          | 0/5 [00:00<?, ?it/s]"
      ]
     },
     "metadata": {},
     "output_type": "display_data"
    },
    {
     "data": {
      "application/vnd.jupyter.widget-view+json": {
       "model_id": "87733ce7c3aa4a899f3c78e0a2222e05",
       "version_major": 2,
       "version_minor": 0
      },
      "text/plain": [
       "Validation Batches:   0%|          | 0/5 [00:00<?, ?it/s]"
      ]
     },
     "metadata": {},
     "output_type": "display_data"
    },
    {
     "name": "stdout",
     "output_type": "stream",
     "text": [
      "Train | Loss: 0.9232, Recall: 0.0824, Precision: 0.0510, F1: 0.0630\n",
      "Val   | Loss: 0.9323, Recall: 0.0318, Precision: 0.0287, F1: 0.0302\n",
      "-----------------------------\n",
      "Epoch 23\n"
     ]
    },
    {
     "data": {
      "application/vnd.jupyter.widget-view+json": {
       "model_id": "bc079d24c8f845ec9a98557ab81d8474",
       "version_major": 2,
       "version_minor": 0
      },
      "text/plain": [
       "Training Batches:   0%|          | 0/5 [00:00<?, ?it/s]"
      ]
     },
     "metadata": {},
     "output_type": "display_data"
    },
    {
     "data": {
      "application/vnd.jupyter.widget-view+json": {
       "model_id": "2f93d8c04179465c9d54e0b15139f8d8",
       "version_major": 2,
       "version_minor": 0
      },
      "text/plain": [
       "Validation Batches:   0%|          | 0/5 [00:00<?, ?it/s]"
      ]
     },
     "metadata": {},
     "output_type": "display_data"
    },
    {
     "name": "stdout",
     "output_type": "stream",
     "text": [
      "Train | Loss: 0.9233, Recall: 0.0868, Precision: 0.0467, F1: 0.0607\n",
      "Val   | Loss: 0.9365, Recall: 0.0360, Precision: 0.0266, F1: 0.0306\n",
      "-----------------------------\n",
      "Epoch 24\n"
     ]
    },
    {
     "data": {
      "application/vnd.jupyter.widget-view+json": {
       "model_id": "340e2b06acce422d904549cc6ed57392",
       "version_major": 2,
       "version_minor": 0
      },
      "text/plain": [
       "Training Batches:   0%|          | 0/5 [00:00<?, ?it/s]"
      ]
     },
     "metadata": {},
     "output_type": "display_data"
    },
    {
     "data": {
      "application/vnd.jupyter.widget-view+json": {
       "model_id": "73b5131c55404892b3ab21693439e462",
       "version_major": 2,
       "version_minor": 0
      },
      "text/plain": [
       "Validation Batches:   0%|          | 0/5 [00:00<?, ?it/s]"
      ]
     },
     "metadata": {},
     "output_type": "display_data"
    },
    {
     "name": "stdout",
     "output_type": "stream",
     "text": [
      "Train | Loss: 0.9227, Recall: 0.0855, Precision: 0.0496, F1: 0.0628\n",
      "Val   | Loss: 0.9288, Recall: 0.0306, Precision: 0.0309, F1: 0.0308\n",
      "-----------------------------\n",
      "Epoch 25\n"
     ]
    },
    {
     "data": {
      "application/vnd.jupyter.widget-view+json": {
       "model_id": "b64a3d4b9c0a45bc85aa1dab62abf0c9",
       "version_major": 2,
       "version_minor": 0
      },
      "text/plain": [
       "Training Batches:   0%|          | 0/5 [00:00<?, ?it/s]"
      ]
     },
     "metadata": {},
     "output_type": "display_data"
    },
    {
     "data": {
      "application/vnd.jupyter.widget-view+json": {
       "model_id": "dff8023a91874a77bea4aef7671aff59",
       "version_major": 2,
       "version_minor": 0
      },
      "text/plain": [
       "Validation Batches:   0%|          | 0/5 [00:00<?, ?it/s]"
      ]
     },
     "metadata": {},
     "output_type": "display_data"
    },
    {
     "name": "stdout",
     "output_type": "stream",
     "text": [
      "Train | Loss: 0.9257, Recall: 0.0803, Precision: 0.0450, F1: 0.0577\n",
      "Val   | Loss: 0.9284, Recall: 0.0302, Precision: 0.0311, F1: 0.0306\n",
      "-----------------------------\n",
      "Epoch 26\n"
     ]
    },
    {
     "data": {
      "application/vnd.jupyter.widget-view+json": {
       "model_id": "5b22c852dd7d4a33ae7d21bc89cc0510",
       "version_major": 2,
       "version_minor": 0
      },
      "text/plain": [
       "Training Batches:   0%|          | 0/5 [00:00<?, ?it/s]"
      ]
     },
     "metadata": {},
     "output_type": "display_data"
    },
    {
     "data": {
      "application/vnd.jupyter.widget-view+json": {
       "model_id": "9a5685a4092343c99b6bc6070d238d35",
       "version_major": 2,
       "version_minor": 0
      },
      "text/plain": [
       "Validation Batches:   0%|          | 0/5 [00:00<?, ?it/s]"
      ]
     },
     "metadata": {},
     "output_type": "display_data"
    },
    {
     "name": "stdout",
     "output_type": "stream",
     "text": [
      "Train | Loss: 0.9234, Recall: 0.0844, Precision: 0.0473, F1: 0.0606\n",
      "Val   | Loss: 0.9280, Recall: 0.0271, Precision: 0.0318, F1: 0.0293\n",
      "-----------------------------\n",
      "Epoch 27\n"
     ]
    },
    {
     "data": {
      "application/vnd.jupyter.widget-view+json": {
       "model_id": "d35ee98bd616415ca2023bd790fed848",
       "version_major": 2,
       "version_minor": 0
      },
      "text/plain": [
       "Training Batches:   0%|          | 0/5 [00:00<?, ?it/s]"
      ]
     },
     "metadata": {},
     "output_type": "display_data"
    },
    {
     "data": {
      "application/vnd.jupyter.widget-view+json": {
       "model_id": "20855a2d34424fa6a5cef7d4de0589d5",
       "version_major": 2,
       "version_minor": 0
      },
      "text/plain": [
       "Validation Batches:   0%|          | 0/5 [00:00<?, ?it/s]"
      ]
     },
     "metadata": {},
     "output_type": "display_data"
    },
    {
     "name": "stdout",
     "output_type": "stream",
     "text": [
      "Train | Loss: 0.9188, Recall: 0.0843, Precision: 0.0527, F1: 0.0648\n",
      "Val   | Loss: 0.9279, Recall: 0.0269, Precision: 0.0317, F1: 0.0291\n",
      "-----------------------------\n",
      "Epoch 28\n"
     ]
    },
    {
     "data": {
      "application/vnd.jupyter.widget-view+json": {
       "model_id": "1c60431ce172461bb00c06d2462993a8",
       "version_major": 2,
       "version_minor": 0
      },
      "text/plain": [
       "Training Batches:   0%|          | 0/5 [00:00<?, ?it/s]"
      ]
     },
     "metadata": {},
     "output_type": "display_data"
    },
    {
     "data": {
      "application/vnd.jupyter.widget-view+json": {
       "model_id": "1813ea20ac344b3583a4377a83cc064d",
       "version_major": 2,
       "version_minor": 0
      },
      "text/plain": [
       "Validation Batches:   0%|          | 0/5 [00:00<?, ?it/s]"
      ]
     },
     "metadata": {},
     "output_type": "display_data"
    },
    {
     "name": "stdout",
     "output_type": "stream",
     "text": [
      "Train | Loss: 0.9198, Recall: 0.0829, Precision: 0.0523, F1: 0.0641\n",
      "Val   | Loss: 0.9279, Recall: 0.0270, Precision: 0.0318, F1: 0.0292\n",
      "-----------------------------\n",
      "Epoch 29\n"
     ]
    },
    {
     "data": {
      "application/vnd.jupyter.widget-view+json": {
       "model_id": "451d76c781a44e45900cd68dc56589fa",
       "version_major": 2,
       "version_minor": 0
      },
      "text/plain": [
       "Training Batches:   0%|          | 0/5 [00:00<?, ?it/s]"
      ]
     },
     "metadata": {},
     "output_type": "display_data"
    },
    {
     "data": {
      "application/vnd.jupyter.widget-view+json": {
       "model_id": "7c266cc4cd7643629718f9b60d47bcd0",
       "version_major": 2,
       "version_minor": 0
      },
      "text/plain": [
       "Validation Batches:   0%|          | 0/5 [00:00<?, ?it/s]"
      ]
     },
     "metadata": {},
     "output_type": "display_data"
    },
    {
     "name": "stdout",
     "output_type": "stream",
     "text": [
      "Train | Loss: 0.9218, Recall: 0.0764, Precision: 0.0506, F1: 0.0609\n",
      "Val   | Loss: 0.9282, Recall: 0.0252, Precision: 0.0319, F1: 0.0282\n",
      "-----------------------------\n",
      "Epoch 30\n"
     ]
    },
    {
     "data": {
      "application/vnd.jupyter.widget-view+json": {
       "model_id": "88999d39a2e64c5bb2a80ed8531be33b",
       "version_major": 2,
       "version_minor": 0
      },
      "text/plain": [
       "Training Batches:   0%|          | 0/5 [00:00<?, ?it/s]"
      ]
     },
     "metadata": {},
     "output_type": "display_data"
    },
    {
     "data": {
      "application/vnd.jupyter.widget-view+json": {
       "model_id": "f71a3d9408d64f94bf56491324706b38",
       "version_major": 2,
       "version_minor": 0
      },
      "text/plain": [
       "Validation Batches:   0%|          | 0/5 [00:00<?, ?it/s]"
      ]
     },
     "metadata": {},
     "output_type": "display_data"
    },
    {
     "name": "stdout",
     "output_type": "stream",
     "text": [
      "Train | Loss: 0.9150, Recall: 0.0829, Precision: 0.0577, F1: 0.0680\n",
      "Val   | Loss: 0.9285, Recall: 0.0249, Precision: 0.0318, F1: 0.0279\n",
      "-----------------------------\n",
      "Epoch 31\n"
     ]
    },
    {
     "data": {
      "application/vnd.jupyter.widget-view+json": {
       "model_id": "2cd3412db0c44645a67d507c9d3a2296",
       "version_major": 2,
       "version_minor": 0
      },
      "text/plain": [
       "Training Batches:   0%|          | 0/5 [00:00<?, ?it/s]"
      ]
     },
     "metadata": {},
     "output_type": "display_data"
    },
    {
     "data": {
      "application/vnd.jupyter.widget-view+json": {
       "model_id": "eb91dcf9bef944e7a6a593242d9b1a92",
       "version_major": 2,
       "version_minor": 0
      },
      "text/plain": [
       "Validation Batches:   0%|          | 0/5 [00:00<?, ?it/s]"
      ]
     },
     "metadata": {},
     "output_type": "display_data"
    },
    {
     "name": "stdout",
     "output_type": "stream",
     "text": [
      "Train | Loss: 0.9213, Recall: 0.0703, Precision: 0.0512, F1: 0.0592\n",
      "Val   | Loss: 0.9287, Recall: 0.0246, Precision: 0.0316, F1: 0.0277\n",
      "-----------------------------\n",
      "Epoch 32\n"
     ]
    },
    {
     "data": {
      "application/vnd.jupyter.widget-view+json": {
       "model_id": "eced1cd30cd84fdcb14621d899463d8f",
       "version_major": 2,
       "version_minor": 0
      },
      "text/plain": [
       "Training Batches:   0%|          | 0/5 [00:00<?, ?it/s]"
      ]
     },
     "metadata": {},
     "output_type": "display_data"
    },
    {
     "data": {
      "application/vnd.jupyter.widget-view+json": {
       "model_id": "ff9671c8c65341709e7b50adc6713a3c",
       "version_major": 2,
       "version_minor": 0
      },
      "text/plain": [
       "Validation Batches:   0%|          | 0/5 [00:00<?, ?it/s]"
      ]
     },
     "metadata": {},
     "output_type": "display_data"
    },
    {
     "name": "stdout",
     "output_type": "stream",
     "text": [
      "Train | Loss: 0.9208, Recall: 0.0684, Precision: 0.0535, F1: 0.0600\n",
      "Val   | Loss: 0.9287, Recall: 0.0244, Precision: 0.0314, F1: 0.0275\n",
      "-----------------------------\n",
      "Epoch 33\n"
     ]
    },
    {
     "data": {
      "application/vnd.jupyter.widget-view+json": {
       "model_id": "4beda021e1c24bfba877ae8dec9e6ea8",
       "version_major": 2,
       "version_minor": 0
      },
      "text/plain": [
       "Training Batches:   0%|          | 0/5 [00:00<?, ?it/s]"
      ]
     },
     "metadata": {},
     "output_type": "display_data"
    },
    {
     "data": {
      "application/vnd.jupyter.widget-view+json": {
       "model_id": "43b697cad6834a89998d872753282bef",
       "version_major": 2,
       "version_minor": 0
      },
      "text/plain": [
       "Validation Batches:   0%|          | 0/5 [00:00<?, ?it/s]"
      ]
     },
     "metadata": {},
     "output_type": "display_data"
    },
    {
     "name": "stdout",
     "output_type": "stream",
     "text": [
      "Train | Loss: 0.9197, Recall: 0.0705, Precision: 0.0538, F1: 0.0610\n",
      "Val   | Loss: 0.9289, Recall: 0.0259, Precision: 0.0311, F1: 0.0283\n",
      "-----------------------------\n",
      "Epoch 34\n"
     ]
    },
    {
     "data": {
      "application/vnd.jupyter.widget-view+json": {
       "model_id": "323d8582dde345f7894548da9ea35ee9",
       "version_major": 2,
       "version_minor": 0
      },
      "text/plain": [
       "Training Batches:   0%|          | 0/5 [00:00<?, ?it/s]"
      ]
     },
     "metadata": {},
     "output_type": "display_data"
    },
    {
     "data": {
      "application/vnd.jupyter.widget-view+json": {
       "model_id": "c8f9a21be78248be91e370573ed6b935",
       "version_major": 2,
       "version_minor": 0
      },
      "text/plain": [
       "Validation Batches:   0%|          | 0/5 [00:00<?, ?it/s]"
      ]
     },
     "metadata": {},
     "output_type": "display_data"
    },
    {
     "name": "stdout",
     "output_type": "stream",
     "text": [
      "Train | Loss: 0.9234, Recall: 0.0659, Precision: 0.0498, F1: 0.0567\n",
      "Val   | Loss: 0.9289, Recall: 0.0264, Precision: 0.0314, F1: 0.0286\n",
      "-----------------------------\n",
      "Epoch 35\n"
     ]
    },
    {
     "data": {
      "application/vnd.jupyter.widget-view+json": {
       "model_id": "6e2a1365ecda4fab91e295a693146ad4",
       "version_major": 2,
       "version_minor": 0
      },
      "text/plain": [
       "Training Batches:   0%|          | 0/5 [00:00<?, ?it/s]"
      ]
     },
     "metadata": {},
     "output_type": "display_data"
    },
    {
     "data": {
      "application/vnd.jupyter.widget-view+json": {
       "model_id": "c856c36cff004721bd8f706ebd825223",
       "version_major": 2,
       "version_minor": 0
      },
      "text/plain": [
       "Validation Batches:   0%|          | 0/5 [00:00<?, ?it/s]"
      ]
     },
     "metadata": {},
     "output_type": "display_data"
    },
    {
     "name": "stdout",
     "output_type": "stream",
     "text": [
      "Train | Loss: 0.9171, Recall: 0.0736, Precision: 0.0564, F1: 0.0639\n",
      "Val   | Loss: 0.9290, Recall: 0.0263, Precision: 0.0312, F1: 0.0285\n",
      "-----------------------------\n",
      "Epoch 36\n"
     ]
    },
    {
     "data": {
      "application/vnd.jupyter.widget-view+json": {
       "model_id": "56273f1da01c47e98dd43e3c155c4b12",
       "version_major": 2,
       "version_minor": 0
      },
      "text/plain": [
       "Training Batches:   0%|          | 0/5 [00:00<?, ?it/s]"
      ]
     },
     "metadata": {},
     "output_type": "display_data"
    },
    {
     "data": {
      "application/vnd.jupyter.widget-view+json": {
       "model_id": "60dd6e9923a64c78bf347214dd43739f",
       "version_major": 2,
       "version_minor": 0
      },
      "text/plain": [
       "Validation Batches:   0%|          | 0/5 [00:00<?, ?it/s]"
      ]
     },
     "metadata": {},
     "output_type": "display_data"
    },
    {
     "name": "stdout",
     "output_type": "stream",
     "text": [
      "Train | Loss: 0.9240, Recall: 0.0606, Precision: 0.0486, F1: 0.0540\n",
      "Val   | Loss: 0.9293, Recall: 0.0250, Precision: 0.0309, F1: 0.0276\n",
      "-----------------------------\n",
      "Epoch 37\n"
     ]
    },
    {
     "data": {
      "application/vnd.jupyter.widget-view+json": {
       "model_id": "33d9bdd768a046ae9bdad43b60a1abfc",
       "version_major": 2,
       "version_minor": 0
      },
      "text/plain": [
       "Training Batches:   0%|          | 0/5 [00:00<?, ?it/s]"
      ]
     },
     "metadata": {},
     "output_type": "display_data"
    },
    {
     "data": {
      "application/vnd.jupyter.widget-view+json": {
       "model_id": "0aee14899c4c43849d076a4bbab1fb93",
       "version_major": 2,
       "version_minor": 0
      },
      "text/plain": [
       "Validation Batches:   0%|          | 0/5 [00:00<?, ?it/s]"
      ]
     },
     "metadata": {},
     "output_type": "display_data"
    },
    {
     "name": "stdout",
     "output_type": "stream",
     "text": [
      "Train | Loss: 0.9171, Recall: 0.0708, Precision: 0.0584, F1: 0.0640\n",
      "Val   | Loss: 0.9293, Recall: 0.0263, Precision: 0.0311, F1: 0.0285\n",
      "-----------------------------\n",
      "Epoch 38\n"
     ]
    },
    {
     "data": {
      "application/vnd.jupyter.widget-view+json": {
       "model_id": "9903939f048044ff9a5a70ebc5439a2c",
       "version_major": 2,
       "version_minor": 0
      },
      "text/plain": [
       "Training Batches:   0%|          | 0/5 [00:00<?, ?it/s]"
      ]
     },
     "metadata": {},
     "output_type": "display_data"
    },
    {
     "data": {
      "application/vnd.jupyter.widget-view+json": {
       "model_id": "549cb2fb3a3e4cd9a56e8a3dc6f7ebd4",
       "version_major": 2,
       "version_minor": 0
      },
      "text/plain": [
       "Validation Batches:   0%|          | 0/5 [00:00<?, ?it/s]"
      ]
     },
     "metadata": {},
     "output_type": "display_data"
    },
    {
     "name": "stdout",
     "output_type": "stream",
     "text": [
      "Train | Loss: 0.9210, Recall: 0.0688, Precision: 0.0523, F1: 0.0594\n",
      "Val   | Loss: 0.9294, Recall: 0.0264, Precision: 0.0310, F1: 0.0285\n",
      "-----------------------------\n",
      "Epoch 39\n"
     ]
    },
    {
     "data": {
      "application/vnd.jupyter.widget-view+json": {
       "model_id": "6e7d1fafd13c49e181124e01d74ed154",
       "version_major": 2,
       "version_minor": 0
      },
      "text/plain": [
       "Training Batches:   0%|          | 0/5 [00:00<?, ?it/s]"
      ]
     },
     "metadata": {},
     "output_type": "display_data"
    },
    {
     "data": {
      "application/vnd.jupyter.widget-view+json": {
       "model_id": "1d9da0c140be442093f2868c30910732",
       "version_major": 2,
       "version_minor": 0
      },
      "text/plain": [
       "Validation Batches:   0%|          | 0/5 [00:00<?, ?it/s]"
      ]
     },
     "metadata": {},
     "output_type": "display_data"
    },
    {
     "name": "stdout",
     "output_type": "stream",
     "text": [
      "Train | Loss: 0.9195, Recall: 0.0753, Precision: 0.0551, F1: 0.0637\n",
      "Val   | Loss: 0.9292, Recall: 0.0267, Precision: 0.0311, F1: 0.0287\n",
      "-----------------------------\n",
      "Epoch 40\n"
     ]
    },
    {
     "data": {
      "application/vnd.jupyter.widget-view+json": {
       "model_id": "e1ee59da29ac45538ba80c539e3d4f82",
       "version_major": 2,
       "version_minor": 0
      },
      "text/plain": [
       "Training Batches:   0%|          | 0/5 [00:00<?, ?it/s]"
      ]
     },
     "metadata": {},
     "output_type": "display_data"
    },
    {
     "data": {
      "application/vnd.jupyter.widget-view+json": {
       "model_id": "e7633f70b0a74e1188056163b16b9508",
       "version_major": 2,
       "version_minor": 0
      },
      "text/plain": [
       "Validation Batches:   0%|          | 0/5 [00:00<?, ?it/s]"
      ]
     },
     "metadata": {},
     "output_type": "display_data"
    },
    {
     "name": "stdout",
     "output_type": "stream",
     "text": [
      "Train | Loss: 0.9229, Recall: 0.0704, Precision: 0.0497, F1: 0.0583\n",
      "Val   | Loss: 0.9291, Recall: 0.0257, Precision: 0.0308, F1: 0.0280\n",
      "-----------------------------\n",
      "Epoch 41\n"
     ]
    },
    {
     "data": {
      "application/vnd.jupyter.widget-view+json": {
       "model_id": "36291a20d82848328820a3a7bb32660e",
       "version_major": 2,
       "version_minor": 0
      },
      "text/plain": [
       "Training Batches:   0%|          | 0/5 [00:00<?, ?it/s]"
      ]
     },
     "metadata": {},
     "output_type": "display_data"
    },
    {
     "data": {
      "application/vnd.jupyter.widget-view+json": {
       "model_id": "f3e17b86bc134b16af12cf380a84c2e1",
       "version_major": 2,
       "version_minor": 0
      },
      "text/plain": [
       "Validation Batches:   0%|          | 0/5 [00:00<?, ?it/s]"
      ]
     },
     "metadata": {},
     "output_type": "display_data"
    },
    {
     "name": "stdout",
     "output_type": "stream",
     "text": [
      "Train | Loss: 0.9176, Recall: 0.0814, Precision: 0.0581, F1: 0.0678\n",
      "Val   | Loss: 0.9288, Recall: 0.0251, Precision: 0.0315, F1: 0.0279\n",
      "-----------------------------\n",
      "Epoch 42\n"
     ]
    },
    {
     "data": {
      "application/vnd.jupyter.widget-view+json": {
       "model_id": "3147ae50e9b34a83aa9e2ae7e0af90fb",
       "version_major": 2,
       "version_minor": 0
      },
      "text/plain": [
       "Training Batches:   0%|          | 0/5 [00:00<?, ?it/s]"
      ]
     },
     "metadata": {},
     "output_type": "display_data"
    },
    {
     "data": {
      "application/vnd.jupyter.widget-view+json": {
       "model_id": "5e5d4dd78c67436d88cd2458994375d6",
       "version_major": 2,
       "version_minor": 0
      },
      "text/plain": [
       "Validation Batches:   0%|          | 0/5 [00:00<?, ?it/s]"
      ]
     },
     "metadata": {},
     "output_type": "display_data"
    },
    {
     "name": "stdout",
     "output_type": "stream",
     "text": [
      "Train | Loss: 0.9160, Recall: 0.0813, Precision: 0.0581, F1: 0.0678\n",
      "Val   | Loss: 0.9287, Recall: 0.0251, Precision: 0.0316, F1: 0.0280\n",
      "-----------------------------\n",
      "Epoch 43\n"
     ]
    },
    {
     "data": {
      "application/vnd.jupyter.widget-view+json": {
       "model_id": "599f180ecee74cf584dc0b680093e19f",
       "version_major": 2,
       "version_minor": 0
      },
      "text/plain": [
       "Training Batches:   0%|          | 0/5 [00:00<?, ?it/s]"
      ]
     },
     "metadata": {},
     "output_type": "display_data"
    },
    {
     "data": {
      "application/vnd.jupyter.widget-view+json": {
       "model_id": "74b01f5872c547579d6a080899fba84c",
       "version_major": 2,
       "version_minor": 0
      },
      "text/plain": [
       "Validation Batches:   0%|          | 0/5 [00:00<?, ?it/s]"
      ]
     },
     "metadata": {},
     "output_type": "display_data"
    },
    {
     "name": "stdout",
     "output_type": "stream",
     "text": [
      "Train | Loss: 0.9185, Recall: 0.0787, Precision: 0.0565, F1: 0.0658\n",
      "Val   | Loss: 0.9286, Recall: 0.0250, Precision: 0.0317, F1: 0.0280\n",
      "-----------------------------\n",
      "Epoch 44\n"
     ]
    },
    {
     "data": {
      "application/vnd.jupyter.widget-view+json": {
       "model_id": "6f1bd546c93c4e1f9cc5643c291e2764",
       "version_major": 2,
       "version_minor": 0
      },
      "text/plain": [
       "Training Batches:   0%|          | 0/5 [00:00<?, ?it/s]"
      ]
     },
     "metadata": {},
     "output_type": "display_data"
    },
    {
     "data": {
      "application/vnd.jupyter.widget-view+json": {
       "model_id": "3d27a4f46464445cbd9255771a9efc6c",
       "version_major": 2,
       "version_minor": 0
      },
      "text/plain": [
       "Validation Batches:   0%|          | 0/5 [00:00<?, ?it/s]"
      ]
     },
     "metadata": {},
     "output_type": "display_data"
    },
    {
     "name": "stdout",
     "output_type": "stream",
     "text": [
      "Train | Loss: 0.9198, Recall: 0.0719, Precision: 0.0534, F1: 0.0612\n",
      "Val   | Loss: 0.9285, Recall: 0.0243, Precision: 0.0313, F1: 0.0273\n",
      "-----------------------------\n",
      "Epoch 45\n"
     ]
    },
    {
     "data": {
      "application/vnd.jupyter.widget-view+json": {
       "model_id": "9da06e6283b643a8be443cffba6ea2f7",
       "version_major": 2,
       "version_minor": 0
      },
      "text/plain": [
       "Training Batches:   0%|          | 0/5 [00:00<?, ?it/s]"
      ]
     },
     "metadata": {},
     "output_type": "display_data"
    },
    {
     "data": {
      "application/vnd.jupyter.widget-view+json": {
       "model_id": "9e93c79fdba14a44b84342b1fb424005",
       "version_major": 2,
       "version_minor": 0
      },
      "text/plain": [
       "Validation Batches:   0%|          | 0/5 [00:00<?, ?it/s]"
      ]
     },
     "metadata": {},
     "output_type": "display_data"
    },
    {
     "name": "stdout",
     "output_type": "stream",
     "text": [
      "Train | Loss: 0.9159, Recall: 0.0791, Precision: 0.0578, F1: 0.0668\n",
      "Val   | Loss: 0.9283, Recall: 0.0248, Precision: 0.0316, F1: 0.0278\n",
      "-----------------------------\n",
      "Epoch 46\n"
     ]
    },
    {
     "data": {
      "application/vnd.jupyter.widget-view+json": {
       "model_id": "02b0aabc11b845958b3fd869b0768586",
       "version_major": 2,
       "version_minor": 0
      },
      "text/plain": [
       "Training Batches:   0%|          | 0/5 [00:00<?, ?it/s]"
      ]
     },
     "metadata": {},
     "output_type": "display_data"
    },
    {
     "data": {
      "application/vnd.jupyter.widget-view+json": {
       "model_id": "a7b2dd462df641ed898dffcaf7328842",
       "version_major": 2,
       "version_minor": 0
      },
      "text/plain": [
       "Validation Batches:   0%|          | 0/5 [00:00<?, ?it/s]"
      ]
     },
     "metadata": {},
     "output_type": "display_data"
    },
    {
     "name": "stdout",
     "output_type": "stream",
     "text": [
      "Train | Loss: 0.9180, Recall: 0.0750, Precision: 0.0548, F1: 0.0633\n",
      "Val   | Loss: 0.9284, Recall: 0.0242, Precision: 0.0313, F1: 0.0273\n",
      "-----------------------------\n",
      "Epoch 47\n"
     ]
    },
    {
     "data": {
      "application/vnd.jupyter.widget-view+json": {
       "model_id": "979e855f428d40dfaf29a25f3697beae",
       "version_major": 2,
       "version_minor": 0
      },
      "text/plain": [
       "Training Batches:   0%|          | 0/5 [00:00<?, ?it/s]"
      ]
     },
     "metadata": {},
     "output_type": "display_data"
    },
    {
     "data": {
      "application/vnd.jupyter.widget-view+json": {
       "model_id": "a357dbc7825c415388f0bdc1c3fd6c40",
       "version_major": 2,
       "version_minor": 0
      },
      "text/plain": [
       "Validation Batches:   0%|          | 0/5 [00:00<?, ?it/s]"
      ]
     },
     "metadata": {},
     "output_type": "display_data"
    },
    {
     "name": "stdout",
     "output_type": "stream",
     "text": [
      "Train | Loss: 0.9153, Recall: 0.0792, Precision: 0.0576, F1: 0.0667\n",
      "Val   | Loss: 0.9283, Recall: 0.0252, Precision: 0.0318, F1: 0.0281\n",
      "-----------------------------\n",
      "Epoch 48\n"
     ]
    },
    {
     "data": {
      "application/vnd.jupyter.widget-view+json": {
       "model_id": "fa1c14778300483e8e1733dd34735585",
       "version_major": 2,
       "version_minor": 0
      },
      "text/plain": [
       "Training Batches:   0%|          | 0/5 [00:00<?, ?it/s]"
      ]
     },
     "metadata": {},
     "output_type": "display_data"
    },
    {
     "data": {
      "application/vnd.jupyter.widget-view+json": {
       "model_id": "37c53c1c973e49b4b6da15abcc76a8b4",
       "version_major": 2,
       "version_minor": 0
      },
      "text/plain": [
       "Validation Batches:   0%|          | 0/5 [00:00<?, ?it/s]"
      ]
     },
     "metadata": {},
     "output_type": "display_data"
    },
    {
     "name": "stdout",
     "output_type": "stream",
     "text": [
      "Train | Loss: 0.9207, Recall: 0.0760, Precision: 0.0522, F1: 0.0619\n",
      "Val   | Loss: 0.9283, Recall: 0.0268, Precision: 0.0315, F1: 0.0289\n",
      "-----------------------------\n",
      "Epoch 49\n"
     ]
    },
    {
     "data": {
      "application/vnd.jupyter.widget-view+json": {
       "model_id": "0ee72af30cc748429d1fa786e712f286",
       "version_major": 2,
       "version_minor": 0
      },
      "text/plain": [
       "Training Batches:   0%|          | 0/5 [00:00<?, ?it/s]"
      ]
     },
     "metadata": {},
     "output_type": "display_data"
    },
    {
     "data": {
      "application/vnd.jupyter.widget-view+json": {
       "model_id": "fbbdbf3954224fc3ad0e33a0f4538db1",
       "version_major": 2,
       "version_minor": 0
      },
      "text/plain": [
       "Validation Batches:   0%|          | 0/5 [00:00<?, ?it/s]"
      ]
     },
     "metadata": {},
     "output_type": "display_data"
    },
    {
     "name": "stdout",
     "output_type": "stream",
     "text": [
      "Train | Loss: 0.9188, Recall: 0.0795, Precision: 0.0525, F1: 0.0632\n",
      "Val   | Loss: 0.9283, Recall: 0.0268, Precision: 0.0315, F1: 0.0290\n",
      "-----------------------------\n",
      "Epoch 50\n"
     ]
    },
    {
     "data": {
      "application/vnd.jupyter.widget-view+json": {
       "model_id": "d229837fcfaa4993a8e3dc2e4ae53e73",
       "version_major": 2,
       "version_minor": 0
      },
      "text/plain": [
       "Training Batches:   0%|          | 0/5 [00:00<?, ?it/s]"
      ]
     },
     "metadata": {},
     "output_type": "display_data"
    },
    {
     "data": {
      "application/vnd.jupyter.widget-view+json": {
       "model_id": "028c7fc4e72c4834a5b81a279f7730a2",
       "version_major": 2,
       "version_minor": 0
      },
      "text/plain": [
       "Validation Batches:   0%|          | 0/5 [00:00<?, ?it/s]"
      ]
     },
     "metadata": {},
     "output_type": "display_data"
    },
    {
     "name": "stdout",
     "output_type": "stream",
     "text": [
      "Train | Loss: 0.9217, Recall: 0.0774, Precision: 0.0511, F1: 0.0615\n",
      "Val   | Loss: 0.9284, Recall: 0.0267, Precision: 0.0314, F1: 0.0288\n",
      "-----------------------------\n",
      "Epoch 51\n"
     ]
    },
    {
     "data": {
      "application/vnd.jupyter.widget-view+json": {
       "model_id": "b0fe4ffe5fc6473db0de8bb32d41f498",
       "version_major": 2,
       "version_minor": 0
      },
      "text/plain": [
       "Training Batches:   0%|          | 0/5 [00:00<?, ?it/s]"
      ]
     },
     "metadata": {},
     "output_type": "display_data"
    },
    {
     "data": {
      "application/vnd.jupyter.widget-view+json": {
       "model_id": "b30d8b636ee5441ba0ac1b474b16d4c5",
       "version_major": 2,
       "version_minor": 0
      },
      "text/plain": [
       "Validation Batches:   0%|          | 0/5 [00:00<?, ?it/s]"
      ]
     },
     "metadata": {},
     "output_type": "display_data"
    },
    {
     "name": "stdout",
     "output_type": "stream",
     "text": [
      "Train | Loss: 0.9201, Recall: 0.0799, Precision: 0.0533, F1: 0.0639\n",
      "Val   | Loss: 0.9284, Recall: 0.0266, Precision: 0.0313, F1: 0.0288\n",
      "-----------------------------\n",
      "Epoch 52\n"
     ]
    },
    {
     "data": {
      "application/vnd.jupyter.widget-view+json": {
       "model_id": "fa8bcfd74e3b4bfb827b96a6fae6f5c1",
       "version_major": 2,
       "version_minor": 0
      },
      "text/plain": [
       "Training Batches:   0%|          | 0/5 [00:00<?, ?it/s]"
      ]
     },
     "metadata": {},
     "output_type": "display_data"
    },
    {
     "data": {
      "application/vnd.jupyter.widget-view+json": {
       "model_id": "ca081ac009764e70af0f030837a855c7",
       "version_major": 2,
       "version_minor": 0
      },
      "text/plain": [
       "Validation Batches:   0%|          | 0/5 [00:00<?, ?it/s]"
      ]
     },
     "metadata": {},
     "output_type": "display_data"
    },
    {
     "name": "stdout",
     "output_type": "stream",
     "text": [
      "Train | Loss: 0.9198, Recall: 0.0802, Precision: 0.0539, F1: 0.0644\n",
      "Val   | Loss: 0.9285, Recall: 0.0265, Precision: 0.0314, F1: 0.0288\n",
      "-----------------------------\n",
      "Epoch 53\n"
     ]
    },
    {
     "data": {
      "application/vnd.jupyter.widget-view+json": {
       "model_id": "9236c69dbe9048b389607a259a45f401",
       "version_major": 2,
       "version_minor": 0
      },
      "text/plain": [
       "Training Batches:   0%|          | 0/5 [00:00<?, ?it/s]"
      ]
     },
     "metadata": {},
     "output_type": "display_data"
    },
    {
     "data": {
      "application/vnd.jupyter.widget-view+json": {
       "model_id": "b5c455d056c54c24a0e5e462bfd450bf",
       "version_major": 2,
       "version_minor": 0
      },
      "text/plain": [
       "Validation Batches:   0%|          | 0/5 [00:00<?, ?it/s]"
      ]
     },
     "metadata": {},
     "output_type": "display_data"
    },
    {
     "name": "stdout",
     "output_type": "stream",
     "text": [
      "Train | Loss: 0.9181, Recall: 0.0818, Precision: 0.0556, F1: 0.0662\n",
      "Val   | Loss: 0.9286, Recall: 0.0259, Precision: 0.0310, F1: 0.0282\n",
      "-----------------------------\n",
      "Epoch 54\n"
     ]
    },
    {
     "data": {
      "application/vnd.jupyter.widget-view+json": {
       "model_id": "9f412a56f5944ff9a970e18d042bc432",
       "version_major": 2,
       "version_minor": 0
      },
      "text/plain": [
       "Training Batches:   0%|          | 0/5 [00:00<?, ?it/s]"
      ]
     },
     "metadata": {},
     "output_type": "display_data"
    },
    {
     "data": {
      "application/vnd.jupyter.widget-view+json": {
       "model_id": "9c918815ee8f488196917857bdae737c",
       "version_major": 2,
       "version_minor": 0
      },
      "text/plain": [
       "Validation Batches:   0%|          | 0/5 [00:00<?, ?it/s]"
      ]
     },
     "metadata": {},
     "output_type": "display_data"
    },
    {
     "name": "stdout",
     "output_type": "stream",
     "text": [
      "Train | Loss: 0.9155, Recall: 0.0842, Precision: 0.0581, F1: 0.0688\n",
      "Val   | Loss: 0.9286, Recall: 0.0252, Precision: 0.0317, F1: 0.0281\n",
      "-----------------------------\n",
      "Epoch 55\n"
     ]
    },
    {
     "data": {
      "application/vnd.jupyter.widget-view+json": {
       "model_id": "789dbbdc94bb4b29ae16a652c8047068",
       "version_major": 2,
       "version_minor": 0
      },
      "text/plain": [
       "Training Batches:   0%|          | 0/5 [00:00<?, ?it/s]"
      ]
     },
     "metadata": {},
     "output_type": "display_data"
    },
    {
     "data": {
      "application/vnd.jupyter.widget-view+json": {
       "model_id": "80d81f8d1bb84540838186a00b15e4c0",
       "version_major": 2,
       "version_minor": 0
      },
      "text/plain": [
       "Validation Batches:   0%|          | 0/5 [00:00<?, ?it/s]"
      ]
     },
     "metadata": {},
     "output_type": "display_data"
    },
    {
     "name": "stdout",
     "output_type": "stream",
     "text": [
      "Train | Loss: 0.9221, Recall: 0.0720, Precision: 0.0506, F1: 0.0595\n",
      "Val   | Loss: 0.9286, Recall: 0.0251, Precision: 0.0317, F1: 0.0280\n",
      "-----------------------------\n",
      "Epoch 56\n"
     ]
    },
    {
     "data": {
      "application/vnd.jupyter.widget-view+json": {
       "model_id": "3a5d126f86c449bdae5225e3e3c152ee",
       "version_major": 2,
       "version_minor": 0
      },
      "text/plain": [
       "Training Batches:   0%|          | 0/5 [00:00<?, ?it/s]"
      ]
     },
     "metadata": {},
     "output_type": "display_data"
    },
    {
     "data": {
      "application/vnd.jupyter.widget-view+json": {
       "model_id": "cad664992665435f8e99943b72c90661",
       "version_major": 2,
       "version_minor": 0
      },
      "text/plain": [
       "Validation Batches:   0%|          | 0/5 [00:00<?, ?it/s]"
      ]
     },
     "metadata": {},
     "output_type": "display_data"
    },
    {
     "name": "stdout",
     "output_type": "stream",
     "text": [
      "Train | Loss: 0.9210, Recall: 0.0758, Precision: 0.0535, F1: 0.0627\n",
      "Val   | Loss: 0.9286, Recall: 0.0251, Precision: 0.0317, F1: 0.0280\n",
      "-----------------------------\n",
      "Epoch 57\n"
     ]
    },
    {
     "data": {
      "application/vnd.jupyter.widget-view+json": {
       "model_id": "255d966668644acfbe082fba22898680",
       "version_major": 2,
       "version_minor": 0
      },
      "text/plain": [
       "Training Batches:   0%|          | 0/5 [00:00<?, ?it/s]"
      ]
     },
     "metadata": {},
     "output_type": "display_data"
    },
    {
     "data": {
      "application/vnd.jupyter.widget-view+json": {
       "model_id": "d89bbd0f43b7403fb40dac91e77e1f55",
       "version_major": 2,
       "version_minor": 0
      },
      "text/plain": [
       "Validation Batches:   0%|          | 0/5 [00:00<?, ?it/s]"
      ]
     },
     "metadata": {},
     "output_type": "display_data"
    },
    {
     "name": "stdout",
     "output_type": "stream",
     "text": [
      "Train | Loss: 0.9177, Recall: 0.0769, Precision: 0.0549, F1: 0.0641\n",
      "Val   | Loss: 0.9286, Recall: 0.0251, Precision: 0.0317, F1: 0.0280\n",
      "-----------------------------\n",
      "Epoch 58\n"
     ]
    },
    {
     "data": {
      "application/vnd.jupyter.widget-view+json": {
       "model_id": "165528df7c10401b8c706d6cd4d8be7a",
       "version_major": 2,
       "version_minor": 0
      },
      "text/plain": [
       "Training Batches:   0%|          | 0/5 [00:00<?, ?it/s]"
      ]
     },
     "metadata": {},
     "output_type": "display_data"
    },
    {
     "data": {
      "application/vnd.jupyter.widget-view+json": {
       "model_id": "d09c4ab2a7104981b6afd974e95e02ad",
       "version_major": 2,
       "version_minor": 0
      },
      "text/plain": [
       "Validation Batches:   0%|          | 0/5 [00:00<?, ?it/s]"
      ]
     },
     "metadata": {},
     "output_type": "display_data"
    },
    {
     "name": "stdout",
     "output_type": "stream",
     "text": [
      "Train | Loss: 0.9190, Recall: 0.0737, Precision: 0.0530, F1: 0.0617\n",
      "Val   | Loss: 0.9287, Recall: 0.0249, Precision: 0.0315, F1: 0.0278\n",
      "-----------------------------\n",
      "Epoch 59\n"
     ]
    },
    {
     "data": {
      "application/vnd.jupyter.widget-view+json": {
       "model_id": "bd6fde9a9eb94dfea3f512aea03fae0a",
       "version_major": 2,
       "version_minor": 0
      },
      "text/plain": [
       "Training Batches:   0%|          | 0/5 [00:00<?, ?it/s]"
      ]
     },
     "metadata": {},
     "output_type": "display_data"
    },
    {
     "data": {
      "application/vnd.jupyter.widget-view+json": {
       "model_id": "a6b4689d624942b48a4e467a10bf2166",
       "version_major": 2,
       "version_minor": 0
      },
      "text/plain": [
       "Validation Batches:   0%|          | 0/5 [00:00<?, ?it/s]"
      ]
     },
     "metadata": {},
     "output_type": "display_data"
    },
    {
     "name": "stdout",
     "output_type": "stream",
     "text": [
      "Train | Loss: 0.9141, Recall: 0.0827, Precision: 0.0592, F1: 0.0690\n",
      "Val   | Loss: 0.9288, Recall: 0.0249, Precision: 0.0314, F1: 0.0278\n",
      "-----------------------------\n",
      "Epoch 60\n"
     ]
    },
    {
     "data": {
      "application/vnd.jupyter.widget-view+json": {
       "model_id": "e434688455b34a9c9258126c476b7f7c",
       "version_major": 2,
       "version_minor": 0
      },
      "text/plain": [
       "Training Batches:   0%|          | 0/5 [00:00<?, ?it/s]"
      ]
     },
     "metadata": {},
     "output_type": "display_data"
    },
    {
     "data": {
      "application/vnd.jupyter.widget-view+json": {
       "model_id": "a762694038c64029afab07e9923959cd",
       "version_major": 2,
       "version_minor": 0
      },
      "text/plain": [
       "Validation Batches:   0%|          | 0/5 [00:00<?, ?it/s]"
      ]
     },
     "metadata": {},
     "output_type": "display_data"
    },
    {
     "name": "stdout",
     "output_type": "stream",
     "text": [
      "Train | Loss: 0.9242, Recall: 0.0707, Precision: 0.0500, F1: 0.0586\n",
      "Val   | Loss: 0.9288, Recall: 0.0248, Precision: 0.0313, F1: 0.0277\n",
      "-----------------------------\n",
      "Epoch 61\n"
     ]
    },
    {
     "data": {
      "application/vnd.jupyter.widget-view+json": {
       "model_id": "9d14a651614244a5834cd7864eb56268",
       "version_major": 2,
       "version_minor": 0
      },
      "text/plain": [
       "Training Batches:   0%|          | 0/5 [00:00<?, ?it/s]"
      ]
     },
     "metadata": {},
     "output_type": "display_data"
    },
    {
     "data": {
      "application/vnd.jupyter.widget-view+json": {
       "model_id": "ca535981504d4989b63181e10bf12984",
       "version_major": 2,
       "version_minor": 0
      },
      "text/plain": [
       "Validation Batches:   0%|          | 0/5 [00:00<?, ?it/s]"
      ]
     },
     "metadata": {},
     "output_type": "display_data"
    },
    {
     "name": "stdout",
     "output_type": "stream",
     "text": [
      "Train | Loss: 0.9231, Recall: 0.0728, Precision: 0.0507, F1: 0.0598\n",
      "Val   | Loss: 0.9288, Recall: 0.0246, Precision: 0.0312, F1: 0.0275\n",
      "-----------------------------\n",
      "Epoch 62\n"
     ]
    },
    {
     "data": {
      "application/vnd.jupyter.widget-view+json": {
       "model_id": "cb2296fa57874ed389fef718cb2f0dae",
       "version_major": 2,
       "version_minor": 0
      },
      "text/plain": [
       "Training Batches:   0%|          | 0/5 [00:00<?, ?it/s]"
      ]
     },
     "metadata": {},
     "output_type": "display_data"
    },
    {
     "data": {
      "application/vnd.jupyter.widget-view+json": {
       "model_id": "f53c762940214460a1f7d7dbab6a296f",
       "version_major": 2,
       "version_minor": 0
      },
      "text/plain": [
       "Validation Batches:   0%|          | 0/5 [00:00<?, ?it/s]"
      ]
     },
     "metadata": {},
     "output_type": "display_data"
    },
    {
     "name": "stdout",
     "output_type": "stream",
     "text": [
      "Train | Loss: 0.9182, Recall: 0.0801, Precision: 0.0552, F1: 0.0653\n",
      "Val   | Loss: 0.9288, Recall: 0.0246, Precision: 0.0312, F1: 0.0275\n",
      "-----------------------------\n",
      "Epoch 63\n"
     ]
    },
    {
     "data": {
      "application/vnd.jupyter.widget-view+json": {
       "model_id": "a8208b05e8b44730902de73c3fac0288",
       "version_major": 2,
       "version_minor": 0
      },
      "text/plain": [
       "Training Batches:   0%|          | 0/5 [00:00<?, ?it/s]"
      ]
     },
     "metadata": {},
     "output_type": "display_data"
    },
    {
     "ename": "KeyboardInterrupt",
     "evalue": "",
     "output_type": "error",
     "traceback": [
      "\u001b[0;31m---------------------------------------------------------------------------\u001b[0m",
      "\u001b[0;31mKeyboardInterrupt\u001b[0m                         Traceback (most recent call last)",
      "Cell \u001b[0;32mIn[13], line 13\u001b[0m\n\u001b[1;32m     10\u001b[0m \u001b[38;5;28mprint\u001b[39m(\u001b[38;5;124mf\u001b[39m\u001b[38;5;124m\"\u001b[39m\u001b[38;5;124mEpoch \u001b[39m\u001b[38;5;132;01m{\u001b[39;00mepoch\u001b[38;5;241m+\u001b[39m\u001b[38;5;241m1\u001b[39m\u001b[38;5;132;01m}\u001b[39;00m\u001b[38;5;124m\"\u001b[39m)\n\u001b[1;32m     12\u001b[0m \u001b[38;5;66;03m#Training\u001b[39;00m\n\u001b[0;32m---> 13\u001b[0m train_loss, train_recall, train_precision, train_f1 \u001b[38;5;241m=\u001b[39m \u001b[43mtrain\u001b[49m\u001b[43m(\u001b[49m\u001b[43mtrain_dataloader\u001b[49m\u001b[43m,\u001b[49m\u001b[43m \u001b[49m\u001b[43mmodel\u001b[49m\u001b[43m,\u001b[49m\u001b[43m \u001b[49m\u001b[43mloss_fn\u001b[49m\u001b[43m,\u001b[49m\u001b[43m \u001b[49m\u001b[43moptimizer\u001b[49m\u001b[43m)\u001b[49m\n\u001b[1;32m     15\u001b[0m \u001b[38;5;66;03m#Validation\u001b[39;00m\n\u001b[1;32m     16\u001b[0m val_loss, val_recall, val_precision, val_f1 \u001b[38;5;241m=\u001b[39m validate(valid_dataloader, model, loss_fn)\n",
      "Cell \u001b[0;32mIn[11], line 28\u001b[0m, in \u001b[0;36mtrain\u001b[0;34m(dataloader, model, loss_fn, optimizer)\u001b[0m\n\u001b[1;32m     25\u001b[0m pred_binary \u001b[38;5;241m=\u001b[39m (torch\u001b[38;5;241m.\u001b[39msigmoid(pred) \u001b[38;5;241m>\u001b[39m \u001b[38;5;241m0.5\u001b[39m)\u001b[38;5;241m.\u001b[39msqueeze(\u001b[38;5;241m1\u001b[39m) \u001b[38;5;66;03m#Remove channel dimension to match y\u001b[39;00m\n\u001b[1;32m     27\u001b[0m \u001b[38;5;66;03m#Update metrics\u001b[39;00m\n\u001b[0;32m---> 28\u001b[0m \u001b[43mrecall\u001b[49m\u001b[38;5;241;43m.\u001b[39;49m\u001b[43mupdate\u001b[49m\u001b[43m(\u001b[49m\u001b[43mpred_binary\u001b[49m\u001b[43m,\u001b[49m\u001b[43m \u001b[49m\u001b[43my\u001b[49m\u001b[43m)\u001b[49m\n\u001b[1;32m     29\u001b[0m precision\u001b[38;5;241m.\u001b[39mupdate(pred_binary, y)\n\u001b[1;32m     30\u001b[0m f1\u001b[38;5;241m.\u001b[39mupdate(pred_binary, y)\n",
      "File \u001b[0;32m~/.conda/envs/gap_junction/lib/python3.10/site-packages/torchmetrics/metric.py:549\u001b[0m, in \u001b[0;36mMetric._wrap_update.<locals>.wrapped_func\u001b[0;34m(*args, **kwargs)\u001b[0m\n\u001b[1;32m    547\u001b[0m \u001b[38;5;28;01mwith\u001b[39;00m torch\u001b[38;5;241m.\u001b[39mset_grad_enabled(\u001b[38;5;28mself\u001b[39m\u001b[38;5;241m.\u001b[39m_enable_grad):\n\u001b[1;32m    548\u001b[0m     \u001b[38;5;28;01mtry\u001b[39;00m:\n\u001b[0;32m--> 549\u001b[0m         \u001b[43mupdate\u001b[49m\u001b[43m(\u001b[49m\u001b[38;5;241;43m*\u001b[39;49m\u001b[43margs\u001b[49m\u001b[43m,\u001b[49m\u001b[43m \u001b[49m\u001b[38;5;241;43m*\u001b[39;49m\u001b[38;5;241;43m*\u001b[39;49m\u001b[43mkwargs\u001b[49m\u001b[43m)\u001b[49m\n\u001b[1;32m    550\u001b[0m     \u001b[38;5;28;01mexcept\u001b[39;00m \u001b[38;5;167;01mRuntimeError\u001b[39;00m \u001b[38;5;28;01mas\u001b[39;00m err:\n\u001b[1;32m    551\u001b[0m         \u001b[38;5;28;01mif\u001b[39;00m \u001b[38;5;124m\"\u001b[39m\u001b[38;5;124mExpected all tensors to be on\u001b[39m\u001b[38;5;124m\"\u001b[39m \u001b[38;5;129;01min\u001b[39;00m \u001b[38;5;28mstr\u001b[39m(err):\n",
      "File \u001b[0;32m~/.conda/envs/gap_junction/lib/python3.10/site-packages/torchmetrics/classification/stat_scores.py:187\u001b[0m, in \u001b[0;36mBinaryStatScores.update\u001b[0;34m(self, preds, target)\u001b[0m\n\u001b[1;32m    185\u001b[0m \u001b[38;5;250m\u001b[39m\u001b[38;5;124;03m\"\"\"Update state with predictions and targets.\"\"\"\u001b[39;00m\n\u001b[1;32m    186\u001b[0m \u001b[38;5;28;01mif\u001b[39;00m \u001b[38;5;28mself\u001b[39m\u001b[38;5;241m.\u001b[39mvalidate_args:\n\u001b[0;32m--> 187\u001b[0m     \u001b[43m_binary_stat_scores_tensor_validation\u001b[49m\u001b[43m(\u001b[49m\u001b[43mpreds\u001b[49m\u001b[43m,\u001b[49m\u001b[43m \u001b[49m\u001b[43mtarget\u001b[49m\u001b[43m,\u001b[49m\u001b[43m \u001b[49m\u001b[38;5;28;43mself\u001b[39;49m\u001b[38;5;241;43m.\u001b[39;49m\u001b[43mmultidim_average\u001b[49m\u001b[43m,\u001b[49m\u001b[43m \u001b[49m\u001b[38;5;28;43mself\u001b[39;49m\u001b[38;5;241;43m.\u001b[39;49m\u001b[43mignore_index\u001b[49m\u001b[43m)\u001b[49m\n\u001b[1;32m    188\u001b[0m preds, target \u001b[38;5;241m=\u001b[39m _binary_stat_scores_format(preds, target, \u001b[38;5;28mself\u001b[39m\u001b[38;5;241m.\u001b[39mthreshold, \u001b[38;5;28mself\u001b[39m\u001b[38;5;241m.\u001b[39mignore_index)\n\u001b[1;32m    189\u001b[0m tp, fp, tn, fn \u001b[38;5;241m=\u001b[39m _binary_stat_scores_update(preds, target, \u001b[38;5;28mself\u001b[39m\u001b[38;5;241m.\u001b[39mmultidim_average)\n",
      "File \u001b[0;32m~/.conda/envs/gap_junction/lib/python3.10/site-packages/torchmetrics/functional/classification/stat_scores.py:71\u001b[0m, in \u001b[0;36m_binary_stat_scores_tensor_validation\u001b[0;34m(preds, target, multidim_average, ignore_index)\u001b[0m\n\u001b[1;32m     68\u001b[0m _check_same_shape(preds, target)\n\u001b[1;32m     70\u001b[0m \u001b[38;5;66;03m# Check that target only contains [0,1] values or value in ignore_index\u001b[39;00m\n\u001b[0;32m---> 71\u001b[0m unique_values \u001b[38;5;241m=\u001b[39m \u001b[43mtorch\u001b[49m\u001b[38;5;241;43m.\u001b[39;49m\u001b[43munique\u001b[49m\u001b[43m(\u001b[49m\u001b[43mtarget\u001b[49m\u001b[43m,\u001b[49m\u001b[43m \u001b[49m\u001b[43mdim\u001b[49m\u001b[38;5;241;43m=\u001b[39;49m\u001b[38;5;28;43;01mNone\u001b[39;49;00m\u001b[43m)\u001b[49m\n\u001b[1;32m     72\u001b[0m \u001b[38;5;28;01mif\u001b[39;00m ignore_index \u001b[38;5;129;01mis\u001b[39;00m \u001b[38;5;28;01mNone\u001b[39;00m:\n\u001b[1;32m     73\u001b[0m     check \u001b[38;5;241m=\u001b[39m torch\u001b[38;5;241m.\u001b[39many((unique_values \u001b[38;5;241m!=\u001b[39m \u001b[38;5;241m0\u001b[39m) \u001b[38;5;241m&\u001b[39m (unique_values \u001b[38;5;241m!=\u001b[39m \u001b[38;5;241m1\u001b[39m))\n",
      "File \u001b[0;32m~/.conda/envs/gap_junction/lib/python3.10/site-packages/torch/_jit_internal.py:622\u001b[0m, in \u001b[0;36mboolean_dispatch.<locals>.fn\u001b[0;34m(*args, **kwargs)\u001b[0m\n\u001b[1;32m    620\u001b[0m     \u001b[38;5;28;01mreturn\u001b[39;00m if_true(\u001b[38;5;241m*\u001b[39margs, \u001b[38;5;241m*\u001b[39m\u001b[38;5;241m*\u001b[39mkwargs)\n\u001b[1;32m    621\u001b[0m \u001b[38;5;28;01melse\u001b[39;00m:\n\u001b[0;32m--> 622\u001b[0m     \u001b[38;5;28;01mreturn\u001b[39;00m \u001b[43mif_false\u001b[49m\u001b[43m(\u001b[49m\u001b[38;5;241;43m*\u001b[39;49m\u001b[43margs\u001b[49m\u001b[43m,\u001b[49m\u001b[43m \u001b[49m\u001b[38;5;241;43m*\u001b[39;49m\u001b[38;5;241;43m*\u001b[39;49m\u001b[43mkwargs\u001b[49m\u001b[43m)\u001b[49m\n",
      "File \u001b[0;32m~/.conda/envs/gap_junction/lib/python3.10/site-packages/torch/_jit_internal.py:622\u001b[0m, in \u001b[0;36mboolean_dispatch.<locals>.fn\u001b[0;34m(*args, **kwargs)\u001b[0m\n\u001b[1;32m    620\u001b[0m     \u001b[38;5;28;01mreturn\u001b[39;00m if_true(\u001b[38;5;241m*\u001b[39margs, \u001b[38;5;241m*\u001b[39m\u001b[38;5;241m*\u001b[39mkwargs)\n\u001b[1;32m    621\u001b[0m \u001b[38;5;28;01melse\u001b[39;00m:\n\u001b[0;32m--> 622\u001b[0m     \u001b[38;5;28;01mreturn\u001b[39;00m \u001b[43mif_false\u001b[49m\u001b[43m(\u001b[49m\u001b[38;5;241;43m*\u001b[39;49m\u001b[43margs\u001b[49m\u001b[43m,\u001b[49m\u001b[43m \u001b[49m\u001b[38;5;241;43m*\u001b[39;49m\u001b[38;5;241;43m*\u001b[39;49m\u001b[43mkwargs\u001b[49m\u001b[43m)\u001b[49m\n",
      "File \u001b[0;32m~/.conda/envs/gap_junction/lib/python3.10/site-packages/torch/functional.py:1102\u001b[0m, in \u001b[0;36m_return_output\u001b[0;34m(input, sorted, return_inverse, return_counts, dim)\u001b[0m\n\u001b[1;32m   1099\u001b[0m \u001b[38;5;28;01mif\u001b[39;00m has_torch_function_unary(\u001b[38;5;28minput\u001b[39m):\n\u001b[1;32m   1100\u001b[0m     \u001b[38;5;28;01mreturn\u001b[39;00m _unique_impl(\u001b[38;5;28minput\u001b[39m, \u001b[38;5;28msorted\u001b[39m, return_inverse, return_counts, dim)\n\u001b[0;32m-> 1102\u001b[0m output, _, _ \u001b[38;5;241m=\u001b[39m \u001b[43m_unique_impl\u001b[49m\u001b[43m(\u001b[49m\u001b[38;5;28;43minput\u001b[39;49m\u001b[43m,\u001b[49m\u001b[43m \u001b[49m\u001b[38;5;28;43msorted\u001b[39;49m\u001b[43m,\u001b[49m\u001b[43m \u001b[49m\u001b[43mreturn_inverse\u001b[49m\u001b[43m,\u001b[49m\u001b[43m \u001b[49m\u001b[43mreturn_counts\u001b[49m\u001b[43m,\u001b[49m\u001b[43m \u001b[49m\u001b[43mdim\u001b[49m\u001b[43m)\u001b[49m\n\u001b[1;32m   1103\u001b[0m \u001b[38;5;28;01mreturn\u001b[39;00m output\n",
      "File \u001b[0;32m~/.conda/envs/gap_junction/lib/python3.10/site-packages/torch/functional.py:995\u001b[0m, in \u001b[0;36m_unique_impl\u001b[0;34m(input, sorted, return_inverse, return_counts, dim)\u001b[0m\n\u001b[1;32m    987\u001b[0m     output, inverse_indices, counts \u001b[38;5;241m=\u001b[39m _VF\u001b[38;5;241m.\u001b[39munique_dim(\n\u001b[1;32m    988\u001b[0m         \u001b[38;5;28minput\u001b[39m,\n\u001b[1;32m    989\u001b[0m         dim,\n\u001b[0;32m   (...)\u001b[0m\n\u001b[1;32m    992\u001b[0m         return_counts\u001b[38;5;241m=\u001b[39mreturn_counts,\n\u001b[1;32m    993\u001b[0m     )\n\u001b[1;32m    994\u001b[0m \u001b[38;5;28;01melse\u001b[39;00m:\n\u001b[0;32m--> 995\u001b[0m     output, inverse_indices, counts \u001b[38;5;241m=\u001b[39m \u001b[43mtorch\u001b[49m\u001b[38;5;241;43m.\u001b[39;49m\u001b[43m_unique2\u001b[49m\u001b[43m(\u001b[49m\n\u001b[1;32m    996\u001b[0m \u001b[43m        \u001b[49m\u001b[38;5;28;43minput\u001b[39;49m\u001b[43m,\u001b[49m\n\u001b[1;32m    997\u001b[0m \u001b[43m        \u001b[49m\u001b[38;5;28;43msorted\u001b[39;49m\u001b[38;5;241;43m=\u001b[39;49m\u001b[38;5;28;43msorted\u001b[39;49m\u001b[43m,\u001b[49m\n\u001b[1;32m    998\u001b[0m \u001b[43m        \u001b[49m\u001b[43mreturn_inverse\u001b[49m\u001b[38;5;241;43m=\u001b[39;49m\u001b[43mreturn_inverse\u001b[49m\u001b[43m,\u001b[49m\n\u001b[1;32m    999\u001b[0m \u001b[43m        \u001b[49m\u001b[43mreturn_counts\u001b[49m\u001b[38;5;241;43m=\u001b[39;49m\u001b[43mreturn_counts\u001b[49m\u001b[43m,\u001b[49m\n\u001b[1;32m   1000\u001b[0m \u001b[43m    \u001b[49m\u001b[43m)\u001b[49m\n\u001b[1;32m   1001\u001b[0m \u001b[38;5;28;01mreturn\u001b[39;00m output, inverse_indices, counts\n",
      "\u001b[0;31mKeyboardInterrupt\u001b[0m: "
     ]
    }
   ],
   "source": [
    "# Clear GPU memory before training\n",
    "torch.cuda.empty_cache()\n",
    "\n",
    "epochs = 50\n",
    "best_f1 = 0.0\n",
    "best_val_loss = float('inf')\n",
    "best_epoch = 0\n",
    "best_model_state = copy.deepcopy(model.state_dict())\n",
    "\n",
    "for epoch in range(epochs):\n",
    "    print(f\"Epoch {epoch+1}\")\n",
    "    \n",
    "    #Training\n",
    "    train_loss, train_recall, train_precision, train_f1 = train(train_dataloader, model, loss_fn, optimizer)\n",
    "\n",
    "    #Validation\n",
    "    val_loss, val_recall, val_precision, val_f1 = validate(valid_dataloader, model, loss_fn)\n",
    "\n",
    "    #Update learning rate scheduler\n",
    "    scheduler.step(val_loss)\n",
    "    \n",
    "    #Print metrics\n",
    "    print(f\"Train | Loss: {train_loss:.4f}, Recall: {train_recall:.4f}, Precision: {train_precision:.4f}, F1: {train_f1:.4f}\")\n",
    "    print(f\"Val   | Loss: {val_loss:.4f}, Recall: {val_recall:.4f}, Precision: {val_precision:.4f}, F1: {val_f1:.4f}\")\n",
    "    print(\"-----------------------------\")\n",
    "    \n",
    "    #Log best model state based on validation loss\n",
    "    if val_loss < best_val_loss:\n",
    "        best_val_loss = val_loss\n",
    "    \n",
    "    #Log best model state based on F1 score\n",
    "    if val_f1 > best_f1:\n",
    "        best_f1 = val_f1\n",
    "        best_epoch = epoch\n",
    "        best_model_state = copy.deepcopy(model.state_dict())\n",
    "        \n",
    "    #Log metrics to wandb\n",
    "    wandb.log({\n",
    "        \"epoch\": epoch + 1,\n",
    "        \"train_loss\": train_loss,\n",
    "        \"train_recall\": train_recall,\n",
    "        \"train_precision\": train_precision,\n",
    "        \"train_f1\": train_f1,\n",
    "        \"val_loss\": val_loss,\n",
    "        \"val_recall\": val_recall,\n",
    "        \"val_precision\": val_precision,\n",
    "        \"val_f1\": val_f1,\n",
    "        \"best_val_f1\": best_f1,\n",
    "        \"best_val_loss\": best_val_loss,\n",
    "        \"best_epoch\": best_epoch,\n",
    "        \"lr\": optimizer.param_groups[0][\"lr\"]\n",
    "    })\n",
    "\n",
    "print(\"Training Complete!\")\n",
    "wandb.finish()"
   ]
  },
  {
   "cell_type": "markdown",
   "id": "66ec0ced",
   "metadata": {},
   "source": [
    "#### Save Best Model"
   ]
  },
  {
   "cell_type": "code",
   "execution_count": 12,
   "id": "71062d70",
   "metadata": {},
   "outputs": [
    {
     "name": "stdout",
     "output_type": "stream",
     "text": [
      "Saved PyTorch Model to unet_v1.pt\n"
     ]
    }
   ],
   "source": [
    "#Save the best logged model state\n",
    "torch.save(best_model_state, \"/home/tommytang111/gap-junction-segmentation/models/unet_v1.pt\")\n",
    "print(\"Saved PyTorch Model to unet_v1.pt\")"
   ]
  },
  {
   "cell_type": "markdown",
   "id": "681522c8",
   "metadata": {},
   "source": [
    "#### Wandb Agentic Sweep"
   ]
  },
  {
   "cell_type": "code",
   "execution_count": 6,
   "id": "60d58411",
   "metadata": {},
   "outputs": [],
   "source": [
    "#Define sweep configuration\n",
    "sweep_config = {\n",
    "    'method': 'bayes',  # or 'random', 'bayes'\n",
    "    'metric': {\n",
    "        'name': 'val_f1',\n",
    "        'goal': 'maximize'\n",
    "    },\n",
    "    'parameters': {\n",
    "        'learning_rate': {\n",
    "            'values': [0.01, 0.001, 0.0001]\n",
    "        },\n",
    "        'batch_size': {\n",
    "            'values': [8]\n",
    "        },\n",
    "        'optimizer': {\n",
    "            'values': ['AdamW']\n",
    "        },\n",
    "        'loss_function': {\n",
    "            'values': ['GenDLoss']\n",
    "        },\n",
    "        'dropout': {\n",
    "            'values': [0, 0.1]\n",
    "        },\n",
    "        'augmentation': {\n",
    "            'values': ['custom1', 'custom2']\n",
    "        },\n",
    "    }\n",
    "}"
   ]
  },
  {
   "cell_type": "code",
   "execution_count": 7,
   "id": "b3dfe5e2",
   "metadata": {},
   "outputs": [],
   "source": [
    "def train(dataloader, model, loss_fn, optimizer, recall, precision, f1):\n",
    "    model.train()\n",
    "    train_loss = 0\n",
    "    num_batches = len(dataloader)\n",
    "    \n",
    "    # Reset metrics for each epoch\n",
    "    recall.reset()\n",
    "    precision.reset()\n",
    "    f1.reset()\n",
    "    \n",
    "    for batch, (X, y, _) in tqdm(enumerate(dataloader), total=num_batches, desc=\"Training\", leave=False):\n",
    "        X, y = X.to(device), y.to(device)\n",
    "        # Special handling for BCEWithLogitsLoss\n",
    "        if y.dim() == 3:\n",
    "            y = y.unsqueeze(1).float()\n",
    "        \n",
    "        # Compute prediction and loss\n",
    "        pred = model(X)\n",
    "        loss = loss_fn(pred, y)\n",
    "        \n",
    "        # Backpropagation\n",
    "        loss.backward()\n",
    "        optimizer.step()\n",
    "        optimizer.zero_grad()\n",
    "        \n",
    "        # Calculate metrics after converting predictions to binary\n",
    "        pred_binary = (torch.sigmoid(pred) > 0.5).squeeze(1)\n",
    "        \n",
    "        # Update metrics\n",
    "        if y.dim() == 4 and y.size(1) == 1:\n",
    "            y = y.squeeze(1)  # [B, 1, H, W] -> [B, H, W]\n",
    "        recall.update(pred_binary, y)\n",
    "        precision.update(pred_binary, y)\n",
    "        f1.update(pred_binary, y)\n",
    "        \n",
    "        train_loss += loss.item()\n",
    "\n",
    "    # Compute final metrics per epoch\n",
    "    train_recall = recall.compute().item()\n",
    "    train_precision = precision.compute().item()\n",
    "    train_f1 = f1.compute().item()\n",
    "    train_loss_per_epoch = train_loss / num_batches \n",
    "    \n",
    "    return train_loss_per_epoch, train_recall, train_precision, train_f1\n",
    "\n",
    "def validate(dataloader, model, loss_fn, recall, precision, f1):\n",
    "    model.eval()\n",
    "    test_loss = 0\n",
    "    num_batches = len(dataloader)\n",
    "    \n",
    "    # Reset metrics for each epoch\n",
    "    recall.reset()\n",
    "    precision.reset()\n",
    "    f1.reset()\n",
    "    \n",
    "    with torch.no_grad():\n",
    "        for X, y, _ in tqdm(dataloader, desc=\"Validation\", leave=False):\n",
    "            X, y = X.to(device), y.to(device)\n",
    "            #Special handling for BCEWithLogitsLoss\n",
    "            if y.dim() == 3:\n",
    "                y = y.unsqueeze(1).float()\n",
    "            \n",
    "            pred = model(X)\n",
    "            test_loss += loss_fn(pred, y).item()\n",
    "            \n",
    "            # Calculate metrics\n",
    "            pred_binary = (torch.sigmoid(pred) > 0.5).squeeze(1)\n",
    "            \n",
    "            # Update metrics\n",
    "            if y.dim() == 4 and y.size(1) == 1:\n",
    "                y = y.squeeze(1)  # [B, 1, H, W] -> [B, H, W]\n",
    "            recall.update(pred_binary, y)\n",
    "            precision.update(pred_binary, y)\n",
    "            f1.update(pred_binary, y)\n",
    "            \n",
    "    # Compute final metrics per epoch\n",
    "    val_recall = recall.compute().item()\n",
    "    val_precision = precision.compute().item()\n",
    "    val_f1 = f1.compute().item()\n",
    "    val_loss_per_epoch = test_loss / num_batches\n",
    "\n",
    "    return val_loss_per_epoch, val_recall, val_precision, val_f1"
   ]
  },
  {
   "cell_type": "code",
   "execution_count": 8,
   "id": "efd7e2d2",
   "metadata": {},
   "outputs": [],
   "source": [
    "def train_model():\n",
    "    # Initialize wandb run\n",
    "    wandb.login(key=\"04e003d2c64e518f8033ab016c7a0036545c05f5\")\n",
    "    wandb.init(\n",
    "        project=\"gap-junction-segmentation\",\n",
    "        entity=\"zhen_lab\",\n",
    "        dir=\"/home/tommytang111/gap-junction-segmentation/wandb\"\n",
    "    )\n",
    "    \n",
    "    # Get hyperparameters from wandb config\n",
    "    config = wandb.config\n",
    "    \n",
    "    # Set seeds\n",
    "    seed_everything(42)\n",
    "    \n",
    "    # Get augmentation strategy from config, default to 'medium'\n",
    "    aug_strategy = config.get('augmentation', 'custom2')\n",
    "\n",
    "    if aug_strategy == 'custom1':\n",
    "        train_aug = get_custom_augmentation()\n",
    "    elif aug_strategy == 'custom2':\n",
    "        train_aug = get_custom_augmentation2()\n",
    "\n",
    "    valid_aug = A.Compose([A.Normalize(mean=0.0, std=1.0), ToTensorV2()])\n",
    "\n",
    "    # Initialize datasets with config batch size\n",
    "    train_dataset = TrainingDataset(\n",
    "        images=\"/home/tommytang111/gap-junction-segmentation/data/pooled/train/imgs\",\n",
    "        labels=\"/home/tommytang111/gap-junction-segmentation/data/pooled/train/gts\",\n",
    "        augmentation=train_aug,\n",
    "        train=True\n",
    "    )\n",
    "    \n",
    "    valid_dataset = TrainingDataset(\n",
    "        images=\"/home/tommytang111/gap-junction-segmentation/data/pooled/val/imgs\",\n",
    "        labels=\"/home/tommytang111/gap-junction-segmentation/data/pooled/val/gts\",\n",
    "        augmentation=valid_aug,\n",
    "        train=False\n",
    "    )\n",
    "    \n",
    "    train_dataloader = DataLoader(\n",
    "        train_dataset, \n",
    "        batch_size=config.batch_size, \n",
    "        shuffle=True, \n",
    "        num_workers=4, \n",
    "        pin_memory=True, \n",
    "        worker_init_fn=worker_init_fn\n",
    "    )\n",
    "    valid_dataloader = DataLoader(\n",
    "        valid_dataset, \n",
    "        batch_size=config.batch_size, \n",
    "        shuffle=False, \n",
    "        num_workers=4, \n",
    "        pin_memory=True, \n",
    "        worker_init_fn=worker_init_fn\n",
    "    )\n",
    "    \n",
    "    # Initialize model with config dropout\n",
    "    device = torch.device(\"cuda\")\n",
    "    model = UNet(dropout=config.dropout).to(device)\n",
    "    \n",
    "    #Loss function mapping\n",
    "    if config.loss_function == \"GenDLoss\":\n",
    "        loss_fn = GenDLoss()\n",
    "    #elif config.loss_function == \"BCEWithLogitsLoss\":\n",
    "        #loss_fn = nn.BCEWithLogitsLoss(pos_weight=torch.tensor([2.0], device=device))\n",
    "    elif config.loss_function == \"FocalLoss\":\n",
    "        loss_fn = FocalLoss(alpha=torch.Tensor([0.08, 0.92]), device=device)\n",
    "\n",
    "    #Optimizer mapping\n",
    "    if config.optimizer == \"AdamW\":\n",
    "        optimizer = AdamW(model.parameters(), lr=config.learning_rate, weight_decay=1e-4)\n",
    "    elif config.optimizer == \"SGD\":\n",
    "        optimizer = SGD(model.parameters(), lr=config.learning_rate, momentum=0.9, weight_decay=1e-4)\n",
    "    \n",
    "    # Initialize learning rate scheduler\n",
    "    scheduler = ReduceLROnPlateau(\n",
    "        optimizer, \n",
    "        mode='min', \n",
    "        factor=0.5, \n",
    "        patience=10, \n",
    "        min_lr=1e-6\n",
    "    )\n",
    "    \n",
    "    # Initialize metrics\n",
    "    recall = BinaryRecall().to(device)\n",
    "    precision = BinaryPrecision().to(device)\n",
    "    f1 = BinaryF1Score().to(device)\n",
    "    \n",
    "    # Training loop\n",
    "    torch.cuda.empty_cache()\n",
    "    epochs = 50  # Reduced for sweep\n",
    "    best_f1 = 0.0\n",
    "    best_val_loss = float('inf')\n",
    "    best_epoch = 0\n",
    "    \n",
    "    for epoch in range(epochs):\n",
    "        print(f\"Epoch {epoch+1}\")\n",
    "        \n",
    "        # Training\n",
    "        train_loss, train_recall, train_precision, train_f1 = train(\n",
    "            train_dataloader, model, loss_fn, optimizer, recall, precision, f1\n",
    "        )\n",
    "        \n",
    "        # Validation\n",
    "        val_loss, val_recall, val_precision, val_f1 = validate(\n",
    "            valid_dataloader, model, loss_fn, recall, precision, f1\n",
    "        )\n",
    "        \n",
    "        # Update learning rate scheduler\n",
    "        scheduler.step(val_loss)\n",
    "        \n",
    "        # Print metrics\n",
    "        print(f\"Train | Loss: {train_loss:.4f}, Recall: {train_recall:.4f}, Precision: {train_precision:.4f}, F1: {train_f1:.4f}\")\n",
    "        print(f\"Val   | Loss: {val_loss:.4f}, Recall: {val_recall:.4f}, Precision: {val_precision:.4f}, F1: {val_f1:.4f}\")\n",
    "        print(\"-----------------------------\")\n",
    "\n",
    "        # Log best model state\n",
    "        if val_loss < best_val_loss:\n",
    "            best_val_loss = val_loss\n",
    "        \n",
    "        if val_f1 > best_f1:\n",
    "            best_f1 = val_f1\n",
    "            best_epoch = epoch\n",
    "            best_model_state = copy.deepcopy(model.state_dict())\n",
    "            # Save best model for this run\n",
    "            model_path = f\"/home/tommytang111/gap-junction-segmentation/models/sweep_model_{wandb.run.id}.pt\"\n",
    "            \n",
    "        # Log metrics to wandb\n",
    "        wandb.log({\n",
    "            \"epoch\": epoch + 1,\n",
    "            \"train_loss\": train_loss,\n",
    "            \"train_recall\": train_recall,\n",
    "            \"train_precision\": train_precision,\n",
    "            \"train_f1\": train_f1,\n",
    "            \"val_loss\": val_loss,\n",
    "            \"val_recall\": val_recall,\n",
    "            \"val_precision\": val_precision,\n",
    "            \"val_f1\": val_f1,\n",
    "            \"best_val_f1\": best_f1,\n",
    "            \"best_val_loss\": best_val_loss,\n",
    "            \"best_epoch\": best_epoch,\n",
    "            \"lr\": optimizer.param_groups[0][\"lr\"]\n",
    "        })\n",
    "\n",
    "    print(\"Training Complete!\")\n",
    "    torch.save(best_model_state, model_path)\n",
    "    print(\"Saved PyTorch Model to \", model_path)\n",
    "    wandb.finish()\n"
   ]
  },
  {
   "cell_type": "code",
   "execution_count": 9,
   "id": "5c09ccc5",
   "metadata": {},
   "outputs": [
    {
     "name": "stdout",
     "output_type": "stream",
     "text": [
      "Create sweep with ID: dwqzhjxz\n",
      "Sweep URL: https://wandb.ai/zhen_lab/gap-junction-segmentation/sweeps/dwqzhjxz\n",
      "Sweep ID: dwqzhjxz\n"
     ]
    },
    {
     "name": "stderr",
     "output_type": "stream",
     "text": [
      "\u001b[34m\u001b[1mwandb\u001b[0m: Agent Starting Run: pr14wefd with config:\n",
      "\u001b[34m\u001b[1mwandb\u001b[0m: \taugmentation: custom2\n",
      "\u001b[34m\u001b[1mwandb\u001b[0m: \tbatch_size: 8\n",
      "\u001b[34m\u001b[1mwandb\u001b[0m: \tdropout: 0.1\n",
      "\u001b[34m\u001b[1mwandb\u001b[0m: \tlearning_rate: 0.01\n",
      "\u001b[34m\u001b[1mwandb\u001b[0m: \tloss_function: GenDLoss\n",
      "\u001b[34m\u001b[1mwandb\u001b[0m: \toptimizer: AdamW\n",
      "\u001b[34m\u001b[1mwandb\u001b[0m: \u001b[33mWARNING\u001b[0m If you're specifying your api key in code, ensure this code is not shared publicly.\n",
      "\u001b[34m\u001b[1mwandb\u001b[0m: \u001b[33mWARNING\u001b[0m Consider setting the WANDB_API_KEY environment variable, or running `wandb login` from the command line.\n",
      "\u001b[34m\u001b[1mwandb\u001b[0m: Appending key for api.wandb.ai to your netrc file: /home/tommytang111/.netrc\n",
      "\u001b[34m\u001b[1mwandb\u001b[0m: Currently logged in as: \u001b[33mtommytang111\u001b[0m (\u001b[33mzhen_lab\u001b[0m) to \u001b[32mhttps://api.wandb.ai\u001b[0m. Use \u001b[1m`wandb login --relogin`\u001b[0m to force relogin\n"
     ]
    },
    {
     "data": {
      "text/html": [
       "Ignoring project 'gap-junction-segmentation' when running a sweep."
      ],
      "text/plain": [
       "<IPython.core.display.HTML object>"
      ]
     },
     "metadata": {},
     "output_type": "display_data"
    },
    {
     "data": {
      "text/html": [
       "Ignoring entity 'zhen_lab' when running a sweep."
      ],
      "text/plain": [
       "<IPython.core.display.HTML object>"
      ]
     },
     "metadata": {},
     "output_type": "display_data"
    },
    {
     "data": {
      "text/html": [
       "Tracking run with wandb version 0.19.10"
      ],
      "text/plain": [
       "<IPython.core.display.HTML object>"
      ]
     },
     "metadata": {},
     "output_type": "display_data"
    },
    {
     "data": {
      "text/html": [
       "Run data is saved locally in <code>/home/tommytang111/gap-junction-segmentation/wandb/wandb/run-20250606_141915-pr14wefd</code>"
      ],
      "text/plain": [
       "<IPython.core.display.HTML object>"
      ]
     },
     "metadata": {},
     "output_type": "display_data"
    },
    {
     "data": {
      "text/html": [
       "Syncing run <strong><a href='https://wandb.ai/zhen_lab/gap-junction-segmentation/runs/pr14wefd' target=\"_blank\">unique-sweep-1</a></strong> to <a href='https://wandb.ai/zhen_lab/gap-junction-segmentation' target=\"_blank\">Weights & Biases</a> (<a href='https://wandb.me/developer-guide' target=\"_blank\">docs</a>)<br>Sweep page: <a href='https://wandb.ai/zhen_lab/gap-junction-segmentation/sweeps/dwqzhjxz' target=\"_blank\">https://wandb.ai/zhen_lab/gap-junction-segmentation/sweeps/dwqzhjxz</a>"
      ],
      "text/plain": [
       "<IPython.core.display.HTML object>"
      ]
     },
     "metadata": {},
     "output_type": "display_data"
    },
    {
     "data": {
      "text/html": [
       " View project at <a href='https://wandb.ai/zhen_lab/gap-junction-segmentation' target=\"_blank\">https://wandb.ai/zhen_lab/gap-junction-segmentation</a>"
      ],
      "text/plain": [
       "<IPython.core.display.HTML object>"
      ]
     },
     "metadata": {},
     "output_type": "display_data"
    },
    {
     "data": {
      "text/html": [
       " View sweep at <a href='https://wandb.ai/zhen_lab/gap-junction-segmentation/sweeps/dwqzhjxz' target=\"_blank\">https://wandb.ai/zhen_lab/gap-junction-segmentation/sweeps/dwqzhjxz</a>"
      ],
      "text/plain": [
       "<IPython.core.display.HTML object>"
      ]
     },
     "metadata": {},
     "output_type": "display_data"
    },
    {
     "data": {
      "text/html": [
       " View run at <a href='https://wandb.ai/zhen_lab/gap-junction-segmentation/runs/pr14wefd' target=\"_blank\">https://wandb.ai/zhen_lab/gap-junction-segmentation/runs/pr14wefd</a>"
      ],
      "text/plain": [
       "<IPython.core.display.HTML object>"
      ]
     },
     "metadata": {},
     "output_type": "display_data"
    },
    {
     "name": "stdout",
     "output_type": "stream",
     "text": [
      "Epoch 1\n"
     ]
    },
    {
     "data": {
      "application/vnd.jupyter.widget-view+json": {
       "model_id": "dbe80fec36674852b4d524a7a4e45b27",
       "version_major": 2,
       "version_minor": 0
      },
      "text/plain": [
       "Training:   0%|          | 0/25 [00:00<?, ?it/s]"
      ]
     },
     "metadata": {},
     "output_type": "display_data"
    },
    {
     "data": {
      "application/vnd.jupyter.widget-view+json": {
       "model_id": "3b4619f3fc46459bacab836183f935ea",
       "version_major": 2,
       "version_minor": 0
      },
      "text/plain": [
       "Validation:   0%|          | 0/5 [00:00<?, ?it/s]"
      ]
     },
     "metadata": {},
     "output_type": "display_data"
    },
    {
     "name": "stdout",
     "output_type": "stream",
     "text": [
      "Train | Loss: 0.8937, Recall: 0.4149, Precision: 0.0576, F1: 0.1012\n",
      "Val   | Loss: 0.8881, Recall: 0.1346, Precision: 0.2777, F1: 0.1813\n",
      "-----------------------------\n",
      "Epoch 2\n"
     ]
    },
    {
     "data": {
      "application/vnd.jupyter.widget-view+json": {
       "model_id": "b14f51713a95429eb9c56e2a7a58a73e",
       "version_major": 2,
       "version_minor": 0
      },
      "text/plain": [
       "Training:   0%|          | 0/25 [00:00<?, ?it/s]"
      ]
     },
     "metadata": {},
     "output_type": "display_data"
    },
    {
     "data": {
      "application/vnd.jupyter.widget-view+json": {
       "model_id": "7cc0861e2c07476aae042bd0cc9bd181",
       "version_major": 2,
       "version_minor": 0
      },
      "text/plain": [
       "Validation:   0%|          | 0/5 [00:00<?, ?it/s]"
      ]
     },
     "metadata": {},
     "output_type": "display_data"
    },
    {
     "name": "stdout",
     "output_type": "stream",
     "text": [
      "Train | Loss: 0.8643, Recall: 0.3498, Precision: 0.0873, F1: 0.1397\n",
      "Val   | Loss: 0.8661, Recall: 0.1805, Precision: 0.1412, F1: 0.1585\n",
      "-----------------------------\n",
      "Epoch 3\n"
     ]
    },
    {
     "data": {
      "application/vnd.jupyter.widget-view+json": {
       "model_id": "14d2684ea90245cd8b250808d0741426",
       "version_major": 2,
       "version_minor": 0
      },
      "text/plain": [
       "Training:   0%|          | 0/25 [00:00<?, ?it/s]"
      ]
     },
     "metadata": {},
     "output_type": "display_data"
    },
    {
     "data": {
      "application/vnd.jupyter.widget-view+json": {
       "model_id": "be59eeba2f4d451087f95d78c21778b2",
       "version_major": 2,
       "version_minor": 0
      },
      "text/plain": [
       "Validation:   0%|          | 0/5 [00:00<?, ?it/s]"
      ]
     },
     "metadata": {},
     "output_type": "display_data"
    },
    {
     "name": "stdout",
     "output_type": "stream",
     "text": [
      "Train | Loss: 0.8560, Recall: 0.3475, Precision: 0.0829, F1: 0.1339\n",
      "Val   | Loss: 0.8277, Recall: 0.3535, Precision: 0.1497, F1: 0.2103\n",
      "-----------------------------\n",
      "Epoch 4\n"
     ]
    },
    {
     "data": {
      "application/vnd.jupyter.widget-view+json": {
       "model_id": "9d1a82bcc29b449190762bfd736709fe",
       "version_major": 2,
       "version_minor": 0
      },
      "text/plain": [
       "Training:   0%|          | 0/25 [00:00<?, ?it/s]"
      ]
     },
     "metadata": {},
     "output_type": "display_data"
    },
    {
     "data": {
      "application/vnd.jupyter.widget-view+json": {
       "model_id": "6f0ed552a1334218a90dc24da9c20853",
       "version_major": 2,
       "version_minor": 0
      },
      "text/plain": [
       "Validation:   0%|          | 0/5 [00:00<?, ?it/s]"
      ]
     },
     "metadata": {},
     "output_type": "display_data"
    },
    {
     "name": "stdout",
     "output_type": "stream",
     "text": [
      "Train | Loss: 0.8526, Recall: 0.4042, Precision: 0.0899, F1: 0.1472\n",
      "Val   | Loss: 0.8012, Recall: 0.3100, Precision: 0.1197, F1: 0.1727\n",
      "-----------------------------\n",
      "Epoch 5\n"
     ]
    },
    {
     "data": {
      "application/vnd.jupyter.widget-view+json": {
       "model_id": "3645f88141f945c98c632e466f9535d7",
       "version_major": 2,
       "version_minor": 0
      },
      "text/plain": [
       "Training:   0%|          | 0/25 [00:00<?, ?it/s]"
      ]
     },
     "metadata": {},
     "output_type": "display_data"
    },
    {
     "data": {
      "application/vnd.jupyter.widget-view+json": {
       "model_id": "4d94b111116144d7aaead17389c86408",
       "version_major": 2,
       "version_minor": 0
      },
      "text/plain": [
       "Validation:   0%|          | 0/5 [00:00<?, ?it/s]"
      ]
     },
     "metadata": {},
     "output_type": "display_data"
    },
    {
     "name": "stdout",
     "output_type": "stream",
     "text": [
      "Train | Loss: 0.8351, Recall: 0.3747, Precision: 0.1086, F1: 0.1684\n",
      "Val   | Loss: 0.7696, Recall: 0.3099, Precision: 0.1615, F1: 0.2124\n",
      "-----------------------------\n",
      "Epoch 6\n"
     ]
    },
    {
     "data": {
      "application/vnd.jupyter.widget-view+json": {
       "model_id": "524bbc9ac065465a9425fa35c9fbda2c",
       "version_major": 2,
       "version_minor": 0
      },
      "text/plain": [
       "Training:   0%|          | 0/25 [00:00<?, ?it/s]"
      ]
     },
     "metadata": {},
     "output_type": "display_data"
    },
    {
     "data": {
      "application/vnd.jupyter.widget-view+json": {
       "model_id": "327e3dcaa04a48038f3f269d6189ff63",
       "version_major": 2,
       "version_minor": 0
      },
      "text/plain": [
       "Validation:   0%|          | 0/5 [00:00<?, ?it/s]"
      ]
     },
     "metadata": {},
     "output_type": "display_data"
    },
    {
     "name": "stdout",
     "output_type": "stream",
     "text": [
      "Train | Loss: 0.8468, Recall: 0.3583, Precision: 0.0965, F1: 0.1520\n",
      "Val   | Loss: 0.7678, Recall: 0.3640, Precision: 0.1721, F1: 0.2337\n",
      "-----------------------------\n",
      "Epoch 7\n"
     ]
    },
    {
     "data": {
      "application/vnd.jupyter.widget-view+json": {
       "model_id": "cee11e2a63b6474f9ff598edd7e622e6",
       "version_major": 2,
       "version_minor": 0
      },
      "text/plain": [
       "Training:   0%|          | 0/25 [00:00<?, ?it/s]"
      ]
     },
     "metadata": {},
     "output_type": "display_data"
    },
    {
     "data": {
      "application/vnd.jupyter.widget-view+json": {
       "model_id": "4bedc924e7f94f57b82d099ec54c1f3e",
       "version_major": 2,
       "version_minor": 0
      },
      "text/plain": [
       "Validation:   0%|          | 0/5 [00:00<?, ?it/s]"
      ]
     },
     "metadata": {},
     "output_type": "display_data"
    },
    {
     "name": "stdout",
     "output_type": "stream",
     "text": [
      "Train | Loss: 0.8418, Recall: 0.3839, Precision: 0.1060, F1: 0.1661\n",
      "Val   | Loss: 0.7498, Recall: 0.3876, Precision: 0.1890, F1: 0.2541\n",
      "-----------------------------\n",
      "Epoch 8\n"
     ]
    },
    {
     "data": {
      "application/vnd.jupyter.widget-view+json": {
       "model_id": "92ac5f595d2e419ab7ea86c091730b20",
       "version_major": 2,
       "version_minor": 0
      },
      "text/plain": [
       "Training:   0%|          | 0/25 [00:00<?, ?it/s]"
      ]
     },
     "metadata": {},
     "output_type": "display_data"
    },
    {
     "data": {
      "application/vnd.jupyter.widget-view+json": {
       "model_id": "277ce360448146d18891089acf5d8b3f",
       "version_major": 2,
       "version_minor": 0
      },
      "text/plain": [
       "Validation:   0%|          | 0/5 [00:00<?, ?it/s]"
      ]
     },
     "metadata": {},
     "output_type": "display_data"
    },
    {
     "name": "stdout",
     "output_type": "stream",
     "text": [
      "Train | Loss: 0.8316, Recall: 0.4049, Precision: 0.1061, F1: 0.1681\n",
      "Val   | Loss: 0.8140, Recall: 0.2623, Precision: 0.1690, F1: 0.2056\n",
      "-----------------------------\n",
      "Epoch 9\n"
     ]
    },
    {
     "data": {
      "application/vnd.jupyter.widget-view+json": {
       "model_id": "d04cbfad8b734c6d88fa2abc1bc5148b",
       "version_major": 2,
       "version_minor": 0
      },
      "text/plain": [
       "Training:   0%|          | 0/25 [00:00<?, ?it/s]"
      ]
     },
     "metadata": {},
     "output_type": "display_data"
    },
    {
     "data": {
      "application/vnd.jupyter.widget-view+json": {
       "model_id": "a0ea13000da041dda1679502c00ca373",
       "version_major": 2,
       "version_minor": 0
      },
      "text/plain": [
       "Validation:   0%|          | 0/5 [00:00<?, ?it/s]"
      ]
     },
     "metadata": {},
     "output_type": "display_data"
    },
    {
     "name": "stdout",
     "output_type": "stream",
     "text": [
      "Train | Loss: 0.8273, Recall: 0.3684, Precision: 0.1074, F1: 0.1663\n",
      "Val   | Loss: 0.7630, Recall: 0.3482, Precision: 0.2094, F1: 0.2616\n",
      "-----------------------------\n",
      "Epoch 10\n"
     ]
    },
    {
     "data": {
      "application/vnd.jupyter.widget-view+json": {
       "model_id": "bf57e68f008c45daa3a1ee6ddcf25c73",
       "version_major": 2,
       "version_minor": 0
      },
      "text/plain": [
       "Training:   0%|          | 0/25 [00:00<?, ?it/s]"
      ]
     },
     "metadata": {},
     "output_type": "display_data"
    },
    {
     "data": {
      "application/vnd.jupyter.widget-view+json": {
       "model_id": "73dd8298a7bd4bcbb71e85fc50186cb2",
       "version_major": 2,
       "version_minor": 0
      },
      "text/plain": [
       "Validation:   0%|          | 0/5 [00:00<?, ?it/s]"
      ]
     },
     "metadata": {},
     "output_type": "display_data"
    },
    {
     "name": "stdout",
     "output_type": "stream",
     "text": [
      "Train | Loss: 0.8256, Recall: 0.3978, Precision: 0.1184, F1: 0.1825\n",
      "Val   | Loss: 0.7679, Recall: 0.4616, Precision: 0.1780, F1: 0.2569\n",
      "-----------------------------\n",
      "Epoch 11\n"
     ]
    },
    {
     "data": {
      "application/vnd.jupyter.widget-view+json": {
       "model_id": "79e14516b458448eaef1ec972d258696",
       "version_major": 2,
       "version_minor": 0
      },
      "text/plain": [
       "Training:   0%|          | 0/25 [00:00<?, ?it/s]"
      ]
     },
     "metadata": {},
     "output_type": "display_data"
    },
    {
     "data": {
      "application/vnd.jupyter.widget-view+json": {
       "model_id": "46d7351775924fcbba88be5abb49df29",
       "version_major": 2,
       "version_minor": 0
      },
      "text/plain": [
       "Validation:   0%|          | 0/5 [00:00<?, ?it/s]"
      ]
     },
     "metadata": {},
     "output_type": "display_data"
    },
    {
     "name": "stdout",
     "output_type": "stream",
     "text": [
      "Train | Loss: 0.8258, Recall: 0.3979, Precision: 0.1106, F1: 0.1731\n",
      "Val   | Loss: 0.8313, Recall: 0.3120, Precision: 0.1719, F1: 0.2216\n",
      "-----------------------------\n",
      "Epoch 12\n"
     ]
    },
    {
     "data": {
      "application/vnd.jupyter.widget-view+json": {
       "model_id": "c83d033ed9584456a5cf91a3d626a5ab",
       "version_major": 2,
       "version_minor": 0
      },
      "text/plain": [
       "Training:   0%|          | 0/25 [00:00<?, ?it/s]"
      ]
     },
     "metadata": {},
     "output_type": "display_data"
    },
    {
     "data": {
      "application/vnd.jupyter.widget-view+json": {
       "model_id": "16ba754a8c7b4e2089e54526cb52454d",
       "version_major": 2,
       "version_minor": 0
      },
      "text/plain": [
       "Validation:   0%|          | 0/5 [00:00<?, ?it/s]"
      ]
     },
     "metadata": {},
     "output_type": "display_data"
    },
    {
     "name": "stdout",
     "output_type": "stream",
     "text": [
      "Train | Loss: 0.8137, Recall: 0.4009, Precision: 0.1197, F1: 0.1844\n",
      "Val   | Loss: 0.7586, Recall: 0.5822, Precision: 0.1560, F1: 0.2461\n",
      "-----------------------------\n",
      "Epoch 13\n"
     ]
    },
    {
     "data": {
      "application/vnd.jupyter.widget-view+json": {
       "model_id": "1a4a69c635cb4735bff413984ce2bfe6",
       "version_major": 2,
       "version_minor": 0
      },
      "text/plain": [
       "Training:   0%|          | 0/25 [00:00<?, ?it/s]"
      ]
     },
     "metadata": {},
     "output_type": "display_data"
    },
    {
     "data": {
      "application/vnd.jupyter.widget-view+json": {
       "model_id": "bf8c1df9b3d64b7ba011ae4c29e7c8e1",
       "version_major": 2,
       "version_minor": 0
      },
      "text/plain": [
       "Validation:   0%|          | 0/5 [00:00<?, ?it/s]"
      ]
     },
     "metadata": {},
     "output_type": "display_data"
    },
    {
     "name": "stdout",
     "output_type": "stream",
     "text": [
      "Train | Loss: 0.8088, Recall: 0.3908, Precision: 0.1086, F1: 0.1700\n",
      "Val   | Loss: 0.9008, Recall: 0.1194, Precision: 0.2744, F1: 0.1664\n",
      "-----------------------------\n",
      "Epoch 14\n"
     ]
    },
    {
     "data": {
      "application/vnd.jupyter.widget-view+json": {
       "model_id": "3bcb9484aa05430ab6504432d92ed767",
       "version_major": 2,
       "version_minor": 0
      },
      "text/plain": [
       "Training:   0%|          | 0/25 [00:00<?, ?it/s]"
      ]
     },
     "metadata": {},
     "output_type": "display_data"
    },
    {
     "data": {
      "application/vnd.jupyter.widget-view+json": {
       "model_id": "aadfebdc4af3433692253473d1f2a34b",
       "version_major": 2,
       "version_minor": 0
      },
      "text/plain": [
       "Validation:   0%|          | 0/5 [00:00<?, ?it/s]"
      ]
     },
     "metadata": {},
     "output_type": "display_data"
    },
    {
     "name": "stdout",
     "output_type": "stream",
     "text": [
      "Train | Loss: 0.8104, Recall: 0.3674, Precision: 0.1158, F1: 0.1761\n",
      "Val   | Loss: 0.7428, Recall: 0.5593, Precision: 0.1739, F1: 0.2654\n",
      "-----------------------------\n",
      "Epoch 15\n"
     ]
    },
    {
     "data": {
      "application/vnd.jupyter.widget-view+json": {
       "model_id": "427b9aa5b6f74a4fa5f2f1d26b7abb9a",
       "version_major": 2,
       "version_minor": 0
      },
      "text/plain": [
       "Training:   0%|          | 0/25 [00:00<?, ?it/s]"
      ]
     },
     "metadata": {},
     "output_type": "display_data"
    },
    {
     "data": {
      "application/vnd.jupyter.widget-view+json": {
       "model_id": "df2d8a76d56e4da8923209d26ac25d4e",
       "version_major": 2,
       "version_minor": 0
      },
      "text/plain": [
       "Validation:   0%|          | 0/5 [00:00<?, ?it/s]"
      ]
     },
     "metadata": {},
     "output_type": "display_data"
    },
    {
     "name": "stdout",
     "output_type": "stream",
     "text": [
      "Train | Loss: 0.8069, Recall: 0.3728, Precision: 0.1136, F1: 0.1741\n",
      "Val   | Loss: 0.7336, Recall: 0.5271, Precision: 0.1758, F1: 0.2636\n",
      "-----------------------------\n",
      "Epoch 16\n"
     ]
    },
    {
     "data": {
      "application/vnd.jupyter.widget-view+json": {
       "model_id": "a6d09457bcd54f1897f1a623848508ca",
       "version_major": 2,
       "version_minor": 0
      },
      "text/plain": [
       "Training:   0%|          | 0/25 [00:00<?, ?it/s]"
      ]
     },
     "metadata": {},
     "output_type": "display_data"
    },
    {
     "data": {
      "application/vnd.jupyter.widget-view+json": {
       "model_id": "5c7bc3ece7074a22b697287bdcff24da",
       "version_major": 2,
       "version_minor": 0
      },
      "text/plain": [
       "Validation:   0%|          | 0/5 [00:00<?, ?it/s]"
      ]
     },
     "metadata": {},
     "output_type": "display_data"
    },
    {
     "name": "stdout",
     "output_type": "stream",
     "text": [
      "Train | Loss: 0.8148, Recall: 0.4145, Precision: 0.1281, F1: 0.1957\n",
      "Val   | Loss: 0.8293, Recall: 0.3559, Precision: 0.1838, F1: 0.2424\n",
      "-----------------------------\n",
      "Epoch 17\n"
     ]
    },
    {
     "data": {
      "application/vnd.jupyter.widget-view+json": {
       "model_id": "1b2fcfc4967b401ab279d0f6d27948aa",
       "version_major": 2,
       "version_minor": 0
      },
      "text/plain": [
       "Training:   0%|          | 0/25 [00:00<?, ?it/s]"
      ]
     },
     "metadata": {},
     "output_type": "display_data"
    },
    {
     "data": {
      "application/vnd.jupyter.widget-view+json": {
       "model_id": "f2acb65ef6e2464b8fe0c06de9c4229d",
       "version_major": 2,
       "version_minor": 0
      },
      "text/plain": [
       "Validation:   0%|          | 0/5 [00:00<?, ?it/s]"
      ]
     },
     "metadata": {},
     "output_type": "display_data"
    },
    {
     "name": "stdout",
     "output_type": "stream",
     "text": [
      "Train | Loss: 0.8138, Recall: 0.3423, Precision: 0.1195, F1: 0.1771\n",
      "Val   | Loss: 0.7739, Recall: 0.4672, Precision: 0.1737, F1: 0.2533\n",
      "-----------------------------\n",
      "Epoch 18\n"
     ]
    },
    {
     "data": {
      "application/vnd.jupyter.widget-view+json": {
       "model_id": "bf67add1d5c1423eba0965302fef7cfa",
       "version_major": 2,
       "version_minor": 0
      },
      "text/plain": [
       "Training:   0%|          | 0/25 [00:00<?, ?it/s]"
      ]
     },
     "metadata": {},
     "output_type": "display_data"
    },
    {
     "data": {
      "application/vnd.jupyter.widget-view+json": {
       "model_id": "195051a6e7e54e51bf786e086d9fb48f",
       "version_major": 2,
       "version_minor": 0
      },
      "text/plain": [
       "Validation:   0%|          | 0/5 [00:00<?, ?it/s]"
      ]
     },
     "metadata": {},
     "output_type": "display_data"
    },
    {
     "name": "stdout",
     "output_type": "stream",
     "text": [
      "Train | Loss: 0.8094, Recall: 0.3877, Precision: 0.1328, F1: 0.1978\n",
      "Val   | Loss: 0.7659, Recall: 0.6278, Precision: 0.1470, F1: 0.2382\n",
      "-----------------------------\n",
      "Epoch 19\n"
     ]
    },
    {
     "data": {
      "application/vnd.jupyter.widget-view+json": {
       "model_id": "836edbb1ed2d48e2a5108793e8d7d613",
       "version_major": 2,
       "version_minor": 0
      },
      "text/plain": [
       "Training:   0%|          | 0/25 [00:00<?, ?it/s]"
      ]
     },
     "metadata": {},
     "output_type": "display_data"
    },
    {
     "data": {
      "application/vnd.jupyter.widget-view+json": {
       "model_id": "b845f1de63c44445b350c591553071f6",
       "version_major": 2,
       "version_minor": 0
      },
      "text/plain": [
       "Validation:   0%|          | 0/5 [00:00<?, ?it/s]"
      ]
     },
     "metadata": {},
     "output_type": "display_data"
    },
    {
     "name": "stdout",
     "output_type": "stream",
     "text": [
      "Train | Loss: 0.7902, Recall: 0.3900, Precision: 0.1503, F1: 0.2170\n",
      "Val   | Loss: 0.7440, Recall: 0.5575, Precision: 0.1733, F1: 0.2644\n",
      "-----------------------------\n",
      "Epoch 20\n"
     ]
    },
    {
     "data": {
      "application/vnd.jupyter.widget-view+json": {
       "model_id": "092d8555f1ea4f2d911d3ba68589b046",
       "version_major": 2,
       "version_minor": 0
      },
      "text/plain": [
       "Training:   0%|          | 0/25 [00:00<?, ?it/s]"
      ]
     },
     "metadata": {},
     "output_type": "display_data"
    },
    {
     "data": {
      "application/vnd.jupyter.widget-view+json": {
       "model_id": "a2712e6dddce44038e1713d4b50749dd",
       "version_major": 2,
       "version_minor": 0
      },
      "text/plain": [
       "Validation:   0%|          | 0/5 [00:00<?, ?it/s]"
      ]
     },
     "metadata": {},
     "output_type": "display_data"
    },
    {
     "name": "stdout",
     "output_type": "stream",
     "text": [
      "Train | Loss: 0.7906, Recall: 0.3906, Precision: 0.1349, F1: 0.2005\n",
      "Val   | Loss: 0.8319, Recall: 0.2125, Precision: 0.2930, F1: 0.2463\n",
      "-----------------------------\n",
      "Epoch 21\n"
     ]
    },
    {
     "data": {
      "application/vnd.jupyter.widget-view+json": {
       "model_id": "c2ef622db391473b8642bbf519874a85",
       "version_major": 2,
       "version_minor": 0
      },
      "text/plain": [
       "Training:   0%|          | 0/25 [00:00<?, ?it/s]"
      ]
     },
     "metadata": {},
     "output_type": "display_data"
    },
    {
     "data": {
      "application/vnd.jupyter.widget-view+json": {
       "model_id": "84d3e5cb2b1d405fb768da2f14d7a981",
       "version_major": 2,
       "version_minor": 0
      },
      "text/plain": [
       "Validation:   0%|          | 0/5 [00:00<?, ?it/s]"
      ]
     },
     "metadata": {},
     "output_type": "display_data"
    },
    {
     "name": "stdout",
     "output_type": "stream",
     "text": [
      "Train | Loss: 0.7892, Recall: 0.4533, Precision: 0.1329, F1: 0.2056\n",
      "Val   | Loss: 0.7205, Recall: 0.3963, Precision: 0.2457, F1: 0.3033\n",
      "-----------------------------\n",
      "Epoch 22\n"
     ]
    },
    {
     "data": {
      "application/vnd.jupyter.widget-view+json": {
       "model_id": "61ca6f1ee35544038aadfbf23f63e822",
       "version_major": 2,
       "version_minor": 0
      },
      "text/plain": [
       "Training:   0%|          | 0/25 [00:00<?, ?it/s]"
      ]
     },
     "metadata": {},
     "output_type": "display_data"
    },
    {
     "data": {
      "application/vnd.jupyter.widget-view+json": {
       "model_id": "ae85044a5a7d4411b505d8ab1ad4ef4d",
       "version_major": 2,
       "version_minor": 0
      },
      "text/plain": [
       "Validation:   0%|          | 0/5 [00:00<?, ?it/s]"
      ]
     },
     "metadata": {},
     "output_type": "display_data"
    },
    {
     "name": "stdout",
     "output_type": "stream",
     "text": [
      "Train | Loss: 0.7817, Recall: 0.4270, Precision: 0.1506, F1: 0.2227\n",
      "Val   | Loss: 0.7253, Recall: 0.6402, Precision: 0.1722, F1: 0.2714\n",
      "-----------------------------\n",
      "Epoch 23\n"
     ]
    },
    {
     "data": {
      "application/vnd.jupyter.widget-view+json": {
       "model_id": "a37c61d055014240b5415962339c6c84",
       "version_major": 2,
       "version_minor": 0
      },
      "text/plain": [
       "Training:   0%|          | 0/25 [00:00<?, ?it/s]"
      ]
     },
     "metadata": {},
     "output_type": "display_data"
    },
    {
     "data": {
      "application/vnd.jupyter.widget-view+json": {
       "model_id": "866047c4be25499e969b52f713728df5",
       "version_major": 2,
       "version_minor": 0
      },
      "text/plain": [
       "Validation:   0%|          | 0/5 [00:00<?, ?it/s]"
      ]
     },
     "metadata": {},
     "output_type": "display_data"
    },
    {
     "name": "stdout",
     "output_type": "stream",
     "text": [
      "Train | Loss: 0.7643, Recall: 0.4111, Precision: 0.1476, F1: 0.2172\n",
      "Val   | Loss: 0.8293, Recall: 0.2005, Precision: 0.3809, F1: 0.2627\n",
      "-----------------------------\n",
      "Epoch 24\n"
     ]
    },
    {
     "data": {
      "application/vnd.jupyter.widget-view+json": {
       "model_id": "8ea91fdfccd241f297b5388a369dbef4",
       "version_major": 2,
       "version_minor": 0
      },
      "text/plain": [
       "Training:   0%|          | 0/25 [00:00<?, ?it/s]"
      ]
     },
     "metadata": {},
     "output_type": "display_data"
    },
    {
     "data": {
      "application/vnd.jupyter.widget-view+json": {
       "model_id": "40c426a521df4260824eee6b321fda52",
       "version_major": 2,
       "version_minor": 0
      },
      "text/plain": [
       "Validation:   0%|          | 0/5 [00:00<?, ?it/s]"
      ]
     },
     "metadata": {},
     "output_type": "display_data"
    },
    {
     "name": "stdout",
     "output_type": "stream",
     "text": [
      "Train | Loss: 0.7540, Recall: 0.4394, Precision: 0.1532, F1: 0.2272\n",
      "Val   | Loss: 0.6792, Recall: 0.5303, Precision: 0.2280, F1: 0.3189\n",
      "-----------------------------\n",
      "Epoch 25\n"
     ]
    },
    {
     "data": {
      "application/vnd.jupyter.widget-view+json": {
       "model_id": "aa2e764ab94645af83eaaeec60e1283a",
       "version_major": 2,
       "version_minor": 0
      },
      "text/plain": [
       "Training:   0%|          | 0/25 [00:00<?, ?it/s]"
      ]
     },
     "metadata": {},
     "output_type": "display_data"
    },
    {
     "data": {
      "application/vnd.jupyter.widget-view+json": {
       "model_id": "3bbad67eacdc4db3b9a84cf0fd663065",
       "version_major": 2,
       "version_minor": 0
      },
      "text/plain": [
       "Validation:   0%|          | 0/5 [00:00<?, ?it/s]"
      ]
     },
     "metadata": {},
     "output_type": "display_data"
    },
    {
     "name": "stdout",
     "output_type": "stream",
     "text": [
      "Train | Loss: 0.7773, Recall: 0.4871, Precision: 0.1380, F1: 0.2151\n",
      "Val   | Loss: 0.7202, Recall: 0.4532, Precision: 0.2283, F1: 0.3037\n",
      "-----------------------------\n",
      "Epoch 26\n"
     ]
    },
    {
     "data": {
      "application/vnd.jupyter.widget-view+json": {
       "model_id": "eccf31bce21f4ac29bfa8f0352eb1dc8",
       "version_major": 2,
       "version_minor": 0
      },
      "text/plain": [
       "Training:   0%|          | 0/25 [00:00<?, ?it/s]"
      ]
     },
     "metadata": {},
     "output_type": "display_data"
    },
    {
     "data": {
      "application/vnd.jupyter.widget-view+json": {
       "model_id": "e5f60ad771ce48e18d4c7f234884254c",
       "version_major": 2,
       "version_minor": 0
      },
      "text/plain": [
       "Validation:   0%|          | 0/5 [00:00<?, ?it/s]"
      ]
     },
     "metadata": {},
     "output_type": "display_data"
    },
    {
     "name": "stdout",
     "output_type": "stream",
     "text": [
      "Train | Loss: 0.7684, Recall: 0.4049, Precision: 0.1805, F1: 0.2497\n",
      "Val   | Loss: 0.7205, Recall: 0.2959, Precision: 0.3372, F1: 0.3152\n",
      "-----------------------------\n",
      "Epoch 27\n"
     ]
    },
    {
     "data": {
      "application/vnd.jupyter.widget-view+json": {
       "model_id": "3175341674e94de98137085e819fd9c6",
       "version_major": 2,
       "version_minor": 0
      },
      "text/plain": [
       "Training:   0%|          | 0/25 [00:00<?, ?it/s]"
      ]
     },
     "metadata": {},
     "output_type": "display_data"
    },
    {
     "data": {
      "application/vnd.jupyter.widget-view+json": {
       "model_id": "3653895e3f2e4884a83ecfcb2db4dbb3",
       "version_major": 2,
       "version_minor": 0
      },
      "text/plain": [
       "Validation:   0%|          | 0/5 [00:00<?, ?it/s]"
      ]
     },
     "metadata": {},
     "output_type": "display_data"
    },
    {
     "name": "stdout",
     "output_type": "stream",
     "text": [
      "Train | Loss: 0.7583, Recall: 0.4223, Precision: 0.1664, F1: 0.2387\n",
      "Val   | Loss: 0.8166, Recall: 0.1993, Precision: 0.3893, F1: 0.2636\n",
      "-----------------------------\n",
      "Epoch 28\n"
     ]
    },
    {
     "data": {
      "application/vnd.jupyter.widget-view+json": {
       "model_id": "d79fd93bd3034292ab1f2ace5b857e7b",
       "version_major": 2,
       "version_minor": 0
      },
      "text/plain": [
       "Training:   0%|          | 0/25 [00:00<?, ?it/s]"
      ]
     },
     "metadata": {},
     "output_type": "display_data"
    },
    {
     "data": {
      "application/vnd.jupyter.widget-view+json": {
       "model_id": "c65e5ff44e1541a19a0fba7bd0747d46",
       "version_major": 2,
       "version_minor": 0
      },
      "text/plain": [
       "Validation:   0%|          | 0/5 [00:00<?, ?it/s]"
      ]
     },
     "metadata": {},
     "output_type": "display_data"
    },
    {
     "name": "stdout",
     "output_type": "stream",
     "text": [
      "Train | Loss: 0.7595, Recall: 0.4125, Precision: 0.1817, F1: 0.2523\n",
      "Val   | Loss: 0.7408, Recall: 0.7093, Precision: 0.1588, F1: 0.2595\n",
      "-----------------------------\n",
      "Epoch 29\n"
     ]
    },
    {
     "data": {
      "application/vnd.jupyter.widget-view+json": {
       "model_id": "1ae4dc8ccc834cd4a91dd1fa1aa52489",
       "version_major": 2,
       "version_minor": 0
      },
      "text/plain": [
       "Training:   0%|          | 0/25 [00:00<?, ?it/s]"
      ]
     },
     "metadata": {},
     "output_type": "display_data"
    },
    {
     "data": {
      "application/vnd.jupyter.widget-view+json": {
       "model_id": "b60f184afa4440648669552285fd89f4",
       "version_major": 2,
       "version_minor": 0
      },
      "text/plain": [
       "Validation:   0%|          | 0/5 [00:00<?, ?it/s]"
      ]
     },
     "metadata": {},
     "output_type": "display_data"
    },
    {
     "name": "stdout",
     "output_type": "stream",
     "text": [
      "Train | Loss: 0.7358, Recall: 0.4307, Precision: 0.1891, F1: 0.2628\n",
      "Val   | Loss: 0.7425, Recall: 0.3960, Precision: 0.2455, F1: 0.3031\n",
      "-----------------------------\n",
      "Epoch 30\n"
     ]
    },
    {
     "data": {
      "application/vnd.jupyter.widget-view+json": {
       "model_id": "b4f0932a215d4eabbeaa44554c18395c",
       "version_major": 2,
       "version_minor": 0
      },
      "text/plain": [
       "Training:   0%|          | 0/25 [00:00<?, ?it/s]"
      ]
     },
     "metadata": {},
     "output_type": "display_data"
    },
    {
     "data": {
      "application/vnd.jupyter.widget-view+json": {
       "model_id": "c7ea3376c03c4b0bb3a75bee2905c0ba",
       "version_major": 2,
       "version_minor": 0
      },
      "text/plain": [
       "Validation:   0%|          | 0/5 [00:00<?, ?it/s]"
      ]
     },
     "metadata": {},
     "output_type": "display_data"
    },
    {
     "name": "stdout",
     "output_type": "stream",
     "text": [
      "Train | Loss: 0.7586, Recall: 0.4162, Precision: 0.1638, F1: 0.2351\n",
      "Val   | Loss: 0.7105, Recall: 0.4537, Precision: 0.2423, F1: 0.3159\n",
      "-----------------------------\n",
      "Epoch 31\n"
     ]
    },
    {
     "data": {
      "application/vnd.jupyter.widget-view+json": {
       "model_id": "11a3d3cdabc948229c3a981e44389abf",
       "version_major": 2,
       "version_minor": 0
      },
      "text/plain": [
       "Training:   0%|          | 0/25 [00:00<?, ?it/s]"
      ]
     },
     "metadata": {},
     "output_type": "display_data"
    },
    {
     "data": {
      "application/vnd.jupyter.widget-view+json": {
       "model_id": "d773a9c9ad334cc28349c0c569b519ad",
       "version_major": 2,
       "version_minor": 0
      },
      "text/plain": [
       "Validation:   0%|          | 0/5 [00:00<?, ?it/s]"
      ]
     },
     "metadata": {},
     "output_type": "display_data"
    },
    {
     "name": "stdout",
     "output_type": "stream",
     "text": [
      "Train | Loss: 0.7647, Recall: 0.4049, Precision: 0.1642, F1: 0.2336\n",
      "Val   | Loss: 0.6976, Recall: 0.3641, Precision: 0.3531, F1: 0.3585\n",
      "-----------------------------\n",
      "Epoch 32\n"
     ]
    },
    {
     "data": {
      "application/vnd.jupyter.widget-view+json": {
       "model_id": "4910f7795328468daa186c4615c0aa1f",
       "version_major": 2,
       "version_minor": 0
      },
      "text/plain": [
       "Training:   0%|          | 0/25 [00:00<?, ?it/s]"
      ]
     },
     "metadata": {},
     "output_type": "display_data"
    },
    {
     "data": {
      "application/vnd.jupyter.widget-view+json": {
       "model_id": "e521b7f013084deaaf433e68fdb975c2",
       "version_major": 2,
       "version_minor": 0
      },
      "text/plain": [
       "Validation:   0%|          | 0/5 [00:00<?, ?it/s]"
      ]
     },
     "metadata": {},
     "output_type": "display_data"
    },
    {
     "name": "stdout",
     "output_type": "stream",
     "text": [
      "Train | Loss: 0.7818, Recall: 0.4385, Precision: 0.1602, F1: 0.2346\n",
      "Val   | Loss: 0.7964, Recall: 0.7891, Precision: 0.1255, F1: 0.2165\n",
      "-----------------------------\n",
      "Epoch 33\n"
     ]
    },
    {
     "data": {
      "application/vnd.jupyter.widget-view+json": {
       "model_id": "83fd0a2bba1f43cba2144b685e82f3be",
       "version_major": 2,
       "version_minor": 0
      },
      "text/plain": [
       "Training:   0%|          | 0/25 [00:00<?, ?it/s]"
      ]
     },
     "metadata": {},
     "output_type": "display_data"
    },
    {
     "data": {
      "application/vnd.jupyter.widget-view+json": {
       "model_id": "84a0d2aa731040a3a206984d3f53eecf",
       "version_major": 2,
       "version_minor": 0
      },
      "text/plain": [
       "Validation:   0%|          | 0/5 [00:00<?, ?it/s]"
      ]
     },
     "metadata": {},
     "output_type": "display_data"
    },
    {
     "name": "stdout",
     "output_type": "stream",
     "text": [
      "Train | Loss: 0.7469, Recall: 0.4521, Precision: 0.1819, F1: 0.2594\n",
      "Val   | Loss: 0.8594, Recall: 0.1567, Precision: 0.2921, F1: 0.2040\n",
      "-----------------------------\n",
      "Epoch 34\n"
     ]
    },
    {
     "data": {
      "application/vnd.jupyter.widget-view+json": {
       "model_id": "562216870cf64e838daa6eb4e1695603",
       "version_major": 2,
       "version_minor": 0
      },
      "text/plain": [
       "Training:   0%|          | 0/25 [00:00<?, ?it/s]"
      ]
     },
     "metadata": {},
     "output_type": "display_data"
    },
    {
     "data": {
      "application/vnd.jupyter.widget-view+json": {
       "model_id": "8c27293a70c44d2da53efde328a14073",
       "version_major": 2,
       "version_minor": 0
      },
      "text/plain": [
       "Validation:   0%|          | 0/5 [00:00<?, ?it/s]"
      ]
     },
     "metadata": {},
     "output_type": "display_data"
    },
    {
     "name": "stdout",
     "output_type": "stream",
     "text": [
      "Train | Loss: 0.7439, Recall: 0.4760, Precision: 0.1698, F1: 0.2503\n",
      "Val   | Loss: 0.6653, Recall: 0.5158, Precision: 0.2721, F1: 0.3562\n",
      "-----------------------------\n",
      "Epoch 35\n"
     ]
    },
    {
     "data": {
      "application/vnd.jupyter.widget-view+json": {
       "model_id": "4cc0879b679d41058583fcca28de70d9",
       "version_major": 2,
       "version_minor": 0
      },
      "text/plain": [
       "Training:   0%|          | 0/25 [00:00<?, ?it/s]"
      ]
     },
     "metadata": {},
     "output_type": "display_data"
    },
    {
     "data": {
      "application/vnd.jupyter.widget-view+json": {
       "model_id": "ce5987612dfe40718f5018790c0c98e9",
       "version_major": 2,
       "version_minor": 0
      },
      "text/plain": [
       "Validation:   0%|          | 0/5 [00:00<?, ?it/s]"
      ]
     },
     "metadata": {},
     "output_type": "display_data"
    },
    {
     "name": "stdout",
     "output_type": "stream",
     "text": [
      "Train | Loss: 0.7482, Recall: 0.4694, Precision: 0.1919, F1: 0.2725\n",
      "Val   | Loss: 0.6366, Recall: 0.5689, Precision: 0.2706, F1: 0.3668\n",
      "-----------------------------\n",
      "Epoch 36\n"
     ]
    },
    {
     "data": {
      "application/vnd.jupyter.widget-view+json": {
       "model_id": "587e9b20d1cb4db886570722f84dff8c",
       "version_major": 2,
       "version_minor": 0
      },
      "text/plain": [
       "Training:   0%|          | 0/25 [00:00<?, ?it/s]"
      ]
     },
     "metadata": {},
     "output_type": "display_data"
    },
    {
     "data": {
      "application/vnd.jupyter.widget-view+json": {
       "model_id": "98d4283786564200837c513ea63d1b57",
       "version_major": 2,
       "version_minor": 0
      },
      "text/plain": [
       "Validation:   0%|          | 0/5 [00:00<?, ?it/s]"
      ]
     },
     "metadata": {},
     "output_type": "display_data"
    },
    {
     "name": "stdout",
     "output_type": "stream",
     "text": [
      "Train | Loss: 0.7238, Recall: 0.4375, Precision: 0.2135, F1: 0.2870\n",
      "Val   | Loss: 0.6807, Recall: 0.4353, Precision: 0.3194, F1: 0.3685\n",
      "-----------------------------\n",
      "Epoch 37\n"
     ]
    },
    {
     "data": {
      "application/vnd.jupyter.widget-view+json": {
       "model_id": "1689a379a33a42b6afba5c4e0b6f7b96",
       "version_major": 2,
       "version_minor": 0
      },
      "text/plain": [
       "Training:   0%|          | 0/25 [00:00<?, ?it/s]"
      ]
     },
     "metadata": {},
     "output_type": "display_data"
    },
    {
     "data": {
      "application/vnd.jupyter.widget-view+json": {
       "model_id": "b7303e3a65ac43ebbc4e76f9f4af303b",
       "version_major": 2,
       "version_minor": 0
      },
      "text/plain": [
       "Validation:   0%|          | 0/5 [00:00<?, ?it/s]"
      ]
     },
     "metadata": {},
     "output_type": "display_data"
    },
    {
     "name": "stdout",
     "output_type": "stream",
     "text": [
      "Train | Loss: 0.7263, Recall: 0.4610, Precision: 0.2003, F1: 0.2792\n",
      "Val   | Loss: 0.7327, Recall: 0.3987, Precision: 0.2562, F1: 0.3119\n",
      "-----------------------------\n",
      "Epoch 38\n"
     ]
    },
    {
     "data": {
      "application/vnd.jupyter.widget-view+json": {
       "model_id": "ad1e1777e2cc4d8fbc59d7c23e4f0f12",
       "version_major": 2,
       "version_minor": 0
      },
      "text/plain": [
       "Training:   0%|          | 0/25 [00:00<?, ?it/s]"
      ]
     },
     "metadata": {},
     "output_type": "display_data"
    },
    {
     "data": {
      "application/vnd.jupyter.widget-view+json": {
       "model_id": "0bf0706cc09f4ce898c95c0af7777ff6",
       "version_major": 2,
       "version_minor": 0
      },
      "text/plain": [
       "Validation:   0%|          | 0/5 [00:00<?, ?it/s]"
      ]
     },
     "metadata": {},
     "output_type": "display_data"
    },
    {
     "name": "stdout",
     "output_type": "stream",
     "text": [
      "Train | Loss: 0.7220, Recall: 0.4801, Precision: 0.2178, F1: 0.2997\n",
      "Val   | Loss: 0.7013, Recall: 0.4486, Precision: 0.2730, F1: 0.3394\n",
      "-----------------------------\n",
      "Epoch 39\n"
     ]
    },
    {
     "data": {
      "application/vnd.jupyter.widget-view+json": {
       "model_id": "49f2f065c7ea432b94505d1ee94de7cb",
       "version_major": 2,
       "version_minor": 0
      },
      "text/plain": [
       "Training:   0%|          | 0/25 [00:00<?, ?it/s]"
      ]
     },
     "metadata": {},
     "output_type": "display_data"
    },
    {
     "data": {
      "application/vnd.jupyter.widget-view+json": {
       "model_id": "6eabbfeb4c77441ea402f67ba9efad10",
       "version_major": 2,
       "version_minor": 0
      },
      "text/plain": [
       "Validation:   0%|          | 0/5 [00:00<?, ?it/s]"
      ]
     },
     "metadata": {},
     "output_type": "display_data"
    },
    {
     "name": "stdout",
     "output_type": "stream",
     "text": [
      "Train | Loss: 0.7162, Recall: 0.4436, Precision: 0.2522, F1: 0.3216\n",
      "Val   | Loss: 0.8987, Recall: 0.0789, Precision: 0.7376, F1: 0.1425\n",
      "-----------------------------\n",
      "Epoch 40\n"
     ]
    },
    {
     "data": {
      "application/vnd.jupyter.widget-view+json": {
       "model_id": "9704b2a6ebc34c00899f4c0385403509",
       "version_major": 2,
       "version_minor": 0
      },
      "text/plain": [
       "Training:   0%|          | 0/25 [00:00<?, ?it/s]"
      ]
     },
     "metadata": {},
     "output_type": "display_data"
    },
    {
     "data": {
      "application/vnd.jupyter.widget-view+json": {
       "model_id": "09043ff0c441480f845eb2486c341664",
       "version_major": 2,
       "version_minor": 0
      },
      "text/plain": [
       "Validation:   0%|          | 0/5 [00:00<?, ?it/s]"
      ]
     },
     "metadata": {},
     "output_type": "display_data"
    },
    {
     "name": "stdout",
     "output_type": "stream",
     "text": [
      "Train | Loss: 0.7052, Recall: 0.4766, Precision: 0.2251, F1: 0.3058\n",
      "Val   | Loss: 0.6592, Recall: 0.3959, Precision: 0.4766, F1: 0.4325\n",
      "-----------------------------\n",
      "Epoch 41\n"
     ]
    },
    {
     "data": {
      "application/vnd.jupyter.widget-view+json": {
       "model_id": "e1f9300f93eb4a378306b3eeeccf4148",
       "version_major": 2,
       "version_minor": 0
      },
      "text/plain": [
       "Training:   0%|          | 0/25 [00:00<?, ?it/s]"
      ]
     },
     "metadata": {},
     "output_type": "display_data"
    },
    {
     "data": {
      "application/vnd.jupyter.widget-view+json": {
       "model_id": "63dc0be06168498f85af204cae3cda5d",
       "version_major": 2,
       "version_minor": 0
      },
      "text/plain": [
       "Validation:   0%|          | 0/5 [00:00<?, ?it/s]"
      ]
     },
     "metadata": {},
     "output_type": "display_data"
    },
    {
     "name": "stdout",
     "output_type": "stream",
     "text": [
      "Train | Loss: 0.6909, Recall: 0.4940, Precision: 0.2455, F1: 0.3280\n",
      "Val   | Loss: 0.5951, Recall: 0.5815, Precision: 0.3203, F1: 0.4131\n",
      "-----------------------------\n",
      "Epoch 42\n"
     ]
    },
    {
     "data": {
      "application/vnd.jupyter.widget-view+json": {
       "model_id": "2351ad863307431e82cacd16f77102f5",
       "version_major": 2,
       "version_minor": 0
      },
      "text/plain": [
       "Training:   0%|          | 0/25 [00:00<?, ?it/s]"
      ]
     },
     "metadata": {},
     "output_type": "display_data"
    },
    {
     "data": {
      "application/vnd.jupyter.widget-view+json": {
       "model_id": "4217ba19cc714f068d5cb4d73ccf1d40",
       "version_major": 2,
       "version_minor": 0
      },
      "text/plain": [
       "Validation:   0%|          | 0/5 [00:00<?, ?it/s]"
      ]
     },
     "metadata": {},
     "output_type": "display_data"
    },
    {
     "name": "stdout",
     "output_type": "stream",
     "text": [
      "Train | Loss: 0.7014, Recall: 0.4428, Precision: 0.2698, F1: 0.3353\n",
      "Val   | Loss: 0.5832, Recall: 0.4170, Precision: 0.5708, F1: 0.4819\n",
      "-----------------------------\n",
      "Epoch 43\n"
     ]
    },
    {
     "data": {
      "application/vnd.jupyter.widget-view+json": {
       "model_id": "c6e563e23f944a9db74782b8ae684366",
       "version_major": 2,
       "version_minor": 0
      },
      "text/plain": [
       "Training:   0%|          | 0/25 [00:00<?, ?it/s]"
      ]
     },
     "metadata": {},
     "output_type": "display_data"
    },
    {
     "data": {
      "application/vnd.jupyter.widget-view+json": {
       "model_id": "8f5da6a78ac640c38aa8167dbf80698b",
       "version_major": 2,
       "version_minor": 0
      },
      "text/plain": [
       "Validation:   0%|          | 0/5 [00:00<?, ?it/s]"
      ]
     },
     "metadata": {},
     "output_type": "display_data"
    },
    {
     "name": "stdout",
     "output_type": "stream",
     "text": [
      "Train | Loss: 0.7717, Recall: 0.3729, Precision: 0.2259, F1: 0.2813\n",
      "Val   | Loss: 0.8270, Recall: 0.7542, Precision: 0.1006, F1: 0.1775\n",
      "-----------------------------\n",
      "Epoch 44\n"
     ]
    },
    {
     "data": {
      "application/vnd.jupyter.widget-view+json": {
       "model_id": "febf9db0df1a4ec9b4ba5a581547d8fe",
       "version_major": 2,
       "version_minor": 0
      },
      "text/plain": [
       "Training:   0%|          | 0/25 [00:00<?, ?it/s]"
      ]
     },
     "metadata": {},
     "output_type": "display_data"
    },
    {
     "data": {
      "application/vnd.jupyter.widget-view+json": {
       "model_id": "f13ffd5b9f2a48a49e670ad786b0cdff",
       "version_major": 2,
       "version_minor": 0
      },
      "text/plain": [
       "Validation:   0%|          | 0/5 [00:00<?, ?it/s]"
      ]
     },
     "metadata": {},
     "output_type": "display_data"
    },
    {
     "name": "stdout",
     "output_type": "stream",
     "text": [
      "Train | Loss: 0.7204, Recall: 0.4231, Precision: 0.2568, F1: 0.3196\n",
      "Val   | Loss: 0.7821, Recall: 0.2433, Precision: 0.4158, F1: 0.3070\n",
      "-----------------------------\n",
      "Epoch 45\n"
     ]
    },
    {
     "data": {
      "application/vnd.jupyter.widget-view+json": {
       "model_id": "7d0689fc5ad647a789e5f6703adc2c94",
       "version_major": 2,
       "version_minor": 0
      },
      "text/plain": [
       "Training:   0%|          | 0/25 [00:00<?, ?it/s]"
      ]
     },
     "metadata": {},
     "output_type": "display_data"
    },
    {
     "data": {
      "application/vnd.jupyter.widget-view+json": {
       "model_id": "6e5a0bd0ad0d4ca6b63391d03cf0e912",
       "version_major": 2,
       "version_minor": 0
      },
      "text/plain": [
       "Validation:   0%|          | 0/5 [00:00<?, ?it/s]"
      ]
     },
     "metadata": {},
     "output_type": "display_data"
    },
    {
     "name": "stdout",
     "output_type": "stream",
     "text": [
      "Train | Loss: 0.7066, Recall: 0.4976, Precision: 0.2284, F1: 0.3131\n",
      "Val   | Loss: 0.6595, Recall: 0.3818, Precision: 0.5144, F1: 0.4383\n",
      "-----------------------------\n",
      "Epoch 46\n"
     ]
    },
    {
     "data": {
      "application/vnd.jupyter.widget-view+json": {
       "model_id": "11afa6979d454b3cb3cebbb5c9e6f705",
       "version_major": 2,
       "version_minor": 0
      },
      "text/plain": [
       "Training:   0%|          | 0/25 [00:00<?, ?it/s]"
      ]
     },
     "metadata": {},
     "output_type": "display_data"
    },
    {
     "data": {
      "application/vnd.jupyter.widget-view+json": {
       "model_id": "4e3eefef1ee049f888112f223c4a0e69",
       "version_major": 2,
       "version_minor": 0
      },
      "text/plain": [
       "Validation:   0%|          | 0/5 [00:00<?, ?it/s]"
      ]
     },
     "metadata": {},
     "output_type": "display_data"
    },
    {
     "name": "stdout",
     "output_type": "stream",
     "text": [
      "Train | Loss: 0.6820, Recall: 0.4663, Precision: 0.3083, F1: 0.3712\n",
      "Val   | Loss: 0.7467, Recall: 0.2922, Precision: 0.5084, F1: 0.3711\n",
      "-----------------------------\n",
      "Epoch 47\n"
     ]
    },
    {
     "data": {
      "application/vnd.jupyter.widget-view+json": {
       "model_id": "fda08deb2cd742939bf9364dc61d764d",
       "version_major": 2,
       "version_minor": 0
      },
      "text/plain": [
       "Training:   0%|          | 0/25 [00:00<?, ?it/s]"
      ]
     },
     "metadata": {},
     "output_type": "display_data"
    },
    {
     "data": {
      "application/vnd.jupyter.widget-view+json": {
       "model_id": "85dddd35e1284c3682bd8ae3dfcf7bee",
       "version_major": 2,
       "version_minor": 0
      },
      "text/plain": [
       "Validation:   0%|          | 0/5 [00:00<?, ?it/s]"
      ]
     },
     "metadata": {},
     "output_type": "display_data"
    },
    {
     "name": "stdout",
     "output_type": "stream",
     "text": [
      "Train | Loss: 0.6959, Recall: 0.5727, Precision: 0.2063, F1: 0.3033\n",
      "Val   | Loss: 0.7674, Recall: 0.7429, Precision: 0.1474, F1: 0.2461\n",
      "-----------------------------\n",
      "Epoch 48\n"
     ]
    },
    {
     "data": {
      "application/vnd.jupyter.widget-view+json": {
       "model_id": "353fa9d74d874c97a0154b032de1ffdd",
       "version_major": 2,
       "version_minor": 0
      },
      "text/plain": [
       "Training:   0%|          | 0/25 [00:00<?, ?it/s]"
      ]
     },
     "metadata": {},
     "output_type": "display_data"
    },
    {
     "data": {
      "application/vnd.jupyter.widget-view+json": {
       "model_id": "2fdea08decc44f81af16cb8772fd60eb",
       "version_major": 2,
       "version_minor": 0
      },
      "text/plain": [
       "Validation:   0%|          | 0/5 [00:00<?, ?it/s]"
      ]
     },
     "metadata": {},
     "output_type": "display_data"
    },
    {
     "name": "stdout",
     "output_type": "stream",
     "text": [
      "Train | Loss: 0.6660, Recall: 0.5352, Precision: 0.2743, F1: 0.3627\n",
      "Val   | Loss: 0.7332, Recall: 0.2993, Precision: 0.5959, F1: 0.3985\n",
      "-----------------------------\n",
      "Epoch 49\n"
     ]
    },
    {
     "data": {
      "application/vnd.jupyter.widget-view+json": {
       "model_id": "40c5ae8150494396ae5b4c60c1f640cb",
       "version_major": 2,
       "version_minor": 0
      },
      "text/plain": [
       "Training:   0%|          | 0/25 [00:00<?, ?it/s]"
      ]
     },
     "metadata": {},
     "output_type": "display_data"
    },
    {
     "data": {
      "application/vnd.jupyter.widget-view+json": {
       "model_id": "ff7af448a2a845aba17710c1205201f6",
       "version_major": 2,
       "version_minor": 0
      },
      "text/plain": [
       "Validation:   0%|          | 0/5 [00:00<?, ?it/s]"
      ]
     },
     "metadata": {},
     "output_type": "display_data"
    },
    {
     "name": "stdout",
     "output_type": "stream",
     "text": [
      "Train | Loss: 0.6824, Recall: 0.4742, Precision: 0.3093, F1: 0.3744\n",
      "Val   | Loss: 0.5756, Recall: 0.5934, Precision: 0.3876, F1: 0.4689\n",
      "-----------------------------\n",
      "Epoch 50\n"
     ]
    },
    {
     "data": {
      "application/vnd.jupyter.widget-view+json": {
       "model_id": "bd37e0705a2b4568936611900c87a118",
       "version_major": 2,
       "version_minor": 0
      },
      "text/plain": [
       "Training:   0%|          | 0/25 [00:00<?, ?it/s]"
      ]
     },
     "metadata": {},
     "output_type": "display_data"
    },
    {
     "data": {
      "application/vnd.jupyter.widget-view+json": {
       "model_id": "4fb959a2b0ab4d6fa608fa55a7a89be2",
       "version_major": 2,
       "version_minor": 0
      },
      "text/plain": [
       "Validation:   0%|          | 0/5 [00:00<?, ?it/s]"
      ]
     },
     "metadata": {},
     "output_type": "display_data"
    },
    {
     "name": "stdout",
     "output_type": "stream",
     "text": [
      "Train | Loss: 0.6651, Recall: 0.4885, Precision: 0.3331, F1: 0.3961\n",
      "Val   | Loss: 0.6239, Recall: 0.5431, Precision: 0.4022, F1: 0.4622\n",
      "-----------------------------\n",
      "Training Complete!\n",
      "Saved PyTorch Model to  /home/tommytang111/gap-junction-segmentation/models/sweep_model_pr14wefd.pt\n"
     ]
    },
    {
     "data": {
      "text/html": [],
      "text/plain": [
       "<IPython.core.display.HTML object>"
      ]
     },
     "metadata": {},
     "output_type": "display_data"
    },
    {
     "data": {
      "text/html": [
       "<br>    <style><br>        .wandb-row {<br>            display: flex;<br>            flex-direction: row;<br>            flex-wrap: wrap;<br>            justify-content: flex-start;<br>            width: 100%;<br>        }<br>        .wandb-col {<br>            display: flex;<br>            flex-direction: column;<br>            flex-basis: 100%;<br>            flex: 1;<br>            padding: 10px;<br>        }<br>    </style><br><div class=\"wandb-row\"><div class=\"wandb-col\"><h3>Run history:</h3><br/><table class=\"wandb\"><tr><td>best_epoch</td><td>▁▁▁▁▂▂▂▂▂▂▃▃▃▃▃▄▄▄▅▅▅▅▅▅▆▆▆▇▇▇▇█████████</td></tr><tr><td>best_val_f1</td><td>▁▁▂▂▂▃▃▃▃▃▃▃▃▃▃▄▄▄▄▄▄▄▄▄▅▅▅▅▅▅▅▇▇███████</td></tr><tr><td>best_val_loss</td><td>██▇▆▅▅▅▅▅▅▅▅▅▅▅▅▅▄▄▄▃▃▃▃▃▃▃▃▂▂▂▂▂▁▁▁▁▁▁▁</td></tr><tr><td>epoch</td><td>▁▁▁▁▂▂▂▂▂▂▃▃▃▃▃▄▄▄▄▄▅▅▅▅▅▅▆▆▆▆▆▆▇▇▇▇▇███</td></tr><tr><td>lr</td><td>▁▁▁▁▁▁▁▁▁▁▁▁▁▁▁▁▁▁▁▁▁▁▁▁▁▁▁▁▁▁▁▁▁▁▁▁▁▁▁▁</td></tr><tr><td>train_f1</td><td>▁▂▂▃▂▃▃▃▃▃▃▃▃▃▃▃▃▄▄▄▅▄▅▅▄▄▅▅▅▅▆▆▆▇▅▆▇▆▇█</td></tr><tr><td>train_loss</td><td>█▇▇▇▆▆▆▆▆▆▅▅▅▆▆▅▅▅▅▄▄▄▄▄▃▅▄▃▄▃▃▃▂▂▂▃▂▂▂▁</td></tr><tr><td>train_precision</td><td>▁▂▂▂▂▂▂▂▃▂▂▂▂▃▃▃▃▃▃▃▃▄▄▄▄▄▄▄▄▅▅▆▅▆▆▆▅▅▇█</td></tr><tr><td>train_recall</td><td>▃▁▁▃▂▂▃▂▃▃▂▂▂▃▁▂▂▄▄▃▅▃▃▄▃▄▅▅▄▅▄▅▆▄▂▆▅█▇▅</td></tr><tr><td>val_f1</td><td>▁▁▂▁▂▃▂▃▃▂▁▃▃▃▃▃▃▄▃▃▄▃▃▄▄▂▂▅▆▆▅▇▇█▁▇▆▃▆█</td></tr><tr><td>val_loss</td><td>█▇▆▆▅▅▆▅▇▅▅▄▆▅▅▇▄▄▃▄▆▄▅▄▄▇▃▂▃▄█▃▁▁▆▃▅▅▄▂</td></tr><tr><td>val_precision</td><td>▃▁▂▁▂▂▂▂▂▂▂▂▂▂▂▃▂▄▂▂▄▂▃▃▄▃▃▃▃▃█▅▃▆▁▆▅▂▆▄</td></tr><tr><td>val_recall</td><td>▂▂▄▃▄▃▄▅▃▆▆▆▄▅▇▂▄▇▂▆▃▂█▄▅▂▆▆▅▄▁▄▆▅█▄▃█▃▆</td></tr></table><br/></div><div class=\"wandb-col\"><h3>Run summary:</h3><br/><table class=\"wandb\"><tr><td>best_epoch</td><td>41</td></tr><tr><td>best_val_f1</td><td>0.48191</td></tr><tr><td>best_val_loss</td><td>0.57558</td></tr><tr><td>epoch</td><td>50</td></tr><tr><td>lr</td><td>0.01</td></tr><tr><td>train_f1</td><td>0.3961</td></tr><tr><td>train_loss</td><td>0.66511</td></tr><tr><td>train_precision</td><td>0.33308</td></tr><tr><td>train_recall</td><td>0.48852</td></tr><tr><td>val_f1</td><td>0.46217</td></tr><tr><td>val_loss</td><td>0.62394</td></tr><tr><td>val_precision</td><td>0.40222</td></tr><tr><td>val_recall</td><td>0.54311</td></tr></table><br/></div></div>"
      ],
      "text/plain": [
       "<IPython.core.display.HTML object>"
      ]
     },
     "metadata": {},
     "output_type": "display_data"
    },
    {
     "data": {
      "text/html": [
       " View run <strong style=\"color:#cdcd00\">unique-sweep-1</strong> at: <a href='https://wandb.ai/zhen_lab/gap-junction-segmentation/runs/pr14wefd' target=\"_blank\">https://wandb.ai/zhen_lab/gap-junction-segmentation/runs/pr14wefd</a><br> View project at: <a href='https://wandb.ai/zhen_lab/gap-junction-segmentation' target=\"_blank\">https://wandb.ai/zhen_lab/gap-junction-segmentation</a><br>Synced 5 W&B file(s), 0 media file(s), 0 artifact file(s) and 0 other file(s)"
      ],
      "text/plain": [
       "<IPython.core.display.HTML object>"
      ]
     },
     "metadata": {},
     "output_type": "display_data"
    },
    {
     "data": {
      "text/html": [
       "Find logs at: <code>/home/tommytang111/gap-junction-segmentation/wandb/wandb/run-20250606_141915-pr14wefd/logs</code>"
      ],
      "text/plain": [
       "<IPython.core.display.HTML object>"
      ]
     },
     "metadata": {},
     "output_type": "display_data"
    },
    {
     "name": "stderr",
     "output_type": "stream",
     "text": [
      "\u001b[34m\u001b[1mwandb\u001b[0m: Agent Starting Run: sn6gmewx with config:\n",
      "\u001b[34m\u001b[1mwandb\u001b[0m: \taugmentation: custom1\n",
      "\u001b[34m\u001b[1mwandb\u001b[0m: \tbatch_size: 8\n",
      "\u001b[34m\u001b[1mwandb\u001b[0m: \tdropout: 0\n",
      "\u001b[34m\u001b[1mwandb\u001b[0m: \tlearning_rate: 0.001\n",
      "\u001b[34m\u001b[1mwandb\u001b[0m: \tloss_function: GenDLoss\n",
      "\u001b[34m\u001b[1mwandb\u001b[0m: \toptimizer: AdamW\n",
      "\u001b[34m\u001b[1mwandb\u001b[0m: \u001b[33mWARNING\u001b[0m If you're specifying your api key in code, ensure this code is not shared publicly.\n",
      "\u001b[34m\u001b[1mwandb\u001b[0m: \u001b[33mWARNING\u001b[0m Consider setting the WANDB_API_KEY environment variable, or running `wandb login` from the command line.\n",
      "\u001b[34m\u001b[1mwandb\u001b[0m: Appending key for api.wandb.ai to your netrc file: /home/tommytang111/.netrc\n"
     ]
    },
    {
     "data": {
      "text/html": [
       "Ignoring project 'gap-junction-segmentation' when running a sweep."
      ],
      "text/plain": [
       "<IPython.core.display.HTML object>"
      ]
     },
     "metadata": {},
     "output_type": "display_data"
    },
    {
     "data": {
      "text/html": [
       "Ignoring entity 'zhen_lab' when running a sweep."
      ],
      "text/plain": [
       "<IPython.core.display.HTML object>"
      ]
     },
     "metadata": {},
     "output_type": "display_data"
    },
    {
     "data": {
      "text/html": [
       "Tracking run with wandb version 0.19.10"
      ],
      "text/plain": [
       "<IPython.core.display.HTML object>"
      ]
     },
     "metadata": {},
     "output_type": "display_data"
    },
    {
     "data": {
      "text/html": [
       "Run data is saved locally in <code>/home/tommytang111/gap-junction-segmentation/wandb/wandb/run-20250606_143140-sn6gmewx</code>"
      ],
      "text/plain": [
       "<IPython.core.display.HTML object>"
      ]
     },
     "metadata": {},
     "output_type": "display_data"
    },
    {
     "data": {
      "text/html": [
       "Syncing run <strong><a href='https://wandb.ai/zhen_lab/gap-junction-segmentation/runs/sn6gmewx' target=\"_blank\">noble-sweep-2</a></strong> to <a href='https://wandb.ai/zhen_lab/gap-junction-segmentation' target=\"_blank\">Weights & Biases</a> (<a href='https://wandb.me/developer-guide' target=\"_blank\">docs</a>)<br>Sweep page: <a href='https://wandb.ai/zhen_lab/gap-junction-segmentation/sweeps/dwqzhjxz' target=\"_blank\">https://wandb.ai/zhen_lab/gap-junction-segmentation/sweeps/dwqzhjxz</a>"
      ],
      "text/plain": [
       "<IPython.core.display.HTML object>"
      ]
     },
     "metadata": {},
     "output_type": "display_data"
    },
    {
     "data": {
      "text/html": [
       " View project at <a href='https://wandb.ai/zhen_lab/gap-junction-segmentation' target=\"_blank\">https://wandb.ai/zhen_lab/gap-junction-segmentation</a>"
      ],
      "text/plain": [
       "<IPython.core.display.HTML object>"
      ]
     },
     "metadata": {},
     "output_type": "display_data"
    },
    {
     "data": {
      "text/html": [
       " View sweep at <a href='https://wandb.ai/zhen_lab/gap-junction-segmentation/sweeps/dwqzhjxz' target=\"_blank\">https://wandb.ai/zhen_lab/gap-junction-segmentation/sweeps/dwqzhjxz</a>"
      ],
      "text/plain": [
       "<IPython.core.display.HTML object>"
      ]
     },
     "metadata": {},
     "output_type": "display_data"
    },
    {
     "data": {
      "text/html": [
       " View run at <a href='https://wandb.ai/zhen_lab/gap-junction-segmentation/runs/sn6gmewx' target=\"_blank\">https://wandb.ai/zhen_lab/gap-junction-segmentation/runs/sn6gmewx</a>"
      ],
      "text/plain": [
       "<IPython.core.display.HTML object>"
      ]
     },
     "metadata": {},
     "output_type": "display_data"
    },
    {
     "name": "stdout",
     "output_type": "stream",
     "text": [
      "Epoch 1\n"
     ]
    },
    {
     "data": {
      "application/vnd.jupyter.widget-view+json": {
       "model_id": "eba3f6e35ab845648fab7ad934a024a1",
       "version_major": 2,
       "version_minor": 0
      },
      "text/plain": [
       "Training:   0%|          | 0/25 [00:00<?, ?it/s]"
      ]
     },
     "metadata": {},
     "output_type": "display_data"
    },
    {
     "data": {
      "application/vnd.jupyter.widget-view+json": {
       "model_id": "f0341dda82a349928d8e033a759d0499",
       "version_major": 2,
       "version_minor": 0
      },
      "text/plain": [
       "Validation:   0%|          | 0/5 [00:00<?, ?it/s]"
      ]
     },
     "metadata": {},
     "output_type": "display_data"
    },
    {
     "name": "stdout",
     "output_type": "stream",
     "text": [
      "Train | Loss: 0.9076, Recall: 0.4499, Precision: 0.0480, F1: 0.0867\n",
      "Val   | Loss: 0.9547, Recall: 0.6900, Precision: 0.0240, F1: 0.0463\n",
      "-----------------------------\n",
      "Epoch 2\n"
     ]
    },
    {
     "data": {
      "application/vnd.jupyter.widget-view+json": {
       "model_id": "3badfa19bcf944cf977c823f8fdee049",
       "version_major": 2,
       "version_minor": 0
      },
      "text/plain": [
       "Training:   0%|          | 0/25 [00:00<?, ?it/s]"
      ]
     },
     "metadata": {},
     "output_type": "display_data"
    },
    {
     "data": {
      "application/vnd.jupyter.widget-view+json": {
       "model_id": "860310e86cff4ddaac9f69b2e949f901",
       "version_major": 2,
       "version_minor": 0
      },
      "text/plain": [
       "Validation:   0%|          | 0/5 [00:00<?, ?it/s]"
      ]
     },
     "metadata": {},
     "output_type": "display_data"
    },
    {
     "name": "stdout",
     "output_type": "stream",
     "text": [
      "Train | Loss: 0.8761, Recall: 0.4152, Precision: 0.0872, F1: 0.1442\n",
      "Val   | Loss: 0.7998, Recall: 0.5638, Precision: 0.1576, F1: 0.2464\n",
      "-----------------------------\n",
      "Epoch 3\n"
     ]
    },
    {
     "data": {
      "application/vnd.jupyter.widget-view+json": {
       "model_id": "7aa8759ae3c64464968bcbbeb1507cc6",
       "version_major": 2,
       "version_minor": 0
      },
      "text/plain": [
       "Training:   0%|          | 0/25 [00:00<?, ?it/s]"
      ]
     },
     "metadata": {},
     "output_type": "display_data"
    },
    {
     "data": {
      "application/vnd.jupyter.widget-view+json": {
       "model_id": "b0c8cf5900f04149a7362c4772f3cd5d",
       "version_major": 2,
       "version_minor": 0
      },
      "text/plain": [
       "Validation:   0%|          | 0/5 [00:00<?, ?it/s]"
      ]
     },
     "metadata": {},
     "output_type": "display_data"
    },
    {
     "name": "stdout",
     "output_type": "stream",
     "text": [
      "Train | Loss: 0.8600, Recall: 0.4470, Precision: 0.0953, F1: 0.1571\n",
      "Val   | Loss: 0.9571, Recall: 0.9936, Precision: 0.0223, F1: 0.0437\n",
      "-----------------------------\n",
      "Epoch 4\n"
     ]
    },
    {
     "data": {
      "application/vnd.jupyter.widget-view+json": {
       "model_id": "53c3831a189742a18213fc13081e4bf6",
       "version_major": 2,
       "version_minor": 0
      },
      "text/plain": [
       "Training:   0%|          | 0/25 [00:00<?, ?it/s]"
      ]
     },
     "metadata": {},
     "output_type": "display_data"
    },
    {
     "data": {
      "application/vnd.jupyter.widget-view+json": {
       "model_id": "88686bf58a074420b3dae48c62828581",
       "version_major": 2,
       "version_minor": 0
      },
      "text/plain": [
       "Validation:   0%|          | 0/5 [00:00<?, ?it/s]"
      ]
     },
     "metadata": {},
     "output_type": "display_data"
    },
    {
     "name": "stdout",
     "output_type": "stream",
     "text": [
      "Train | Loss: 0.8601, Recall: 0.4620, Precision: 0.0832, F1: 0.1410\n",
      "Val   | Loss: 0.8217, Recall: 0.7008, Precision: 0.1169, F1: 0.2004\n",
      "-----------------------------\n",
      "Epoch 5\n"
     ]
    },
    {
     "data": {
      "application/vnd.jupyter.widget-view+json": {
       "model_id": "fa199be369fd456da114d11b151e6714",
       "version_major": 2,
       "version_minor": 0
      },
      "text/plain": [
       "Training:   0%|          | 0/25 [00:00<?, ?it/s]"
      ]
     },
     "metadata": {},
     "output_type": "display_data"
    },
    {
     "data": {
      "application/vnd.jupyter.widget-view+json": {
       "model_id": "4d9fc678fa2a448ab09005e364ceba88",
       "version_major": 2,
       "version_minor": 0
      },
      "text/plain": [
       "Validation:   0%|          | 0/5 [00:00<?, ?it/s]"
      ]
     },
     "metadata": {},
     "output_type": "display_data"
    },
    {
     "name": "stdout",
     "output_type": "stream",
     "text": [
      "Train | Loss: 0.8278, Recall: 0.3861, Precision: 0.1138, F1: 0.1758\n",
      "Val   | Loss: 0.7156, Recall: 0.4573, Precision: 0.2137, F1: 0.2913\n",
      "-----------------------------\n",
      "Epoch 6\n"
     ]
    },
    {
     "data": {
      "application/vnd.jupyter.widget-view+json": {
       "model_id": "66d9f4ae34c54dc0b87bea0c240ca042",
       "version_major": 2,
       "version_minor": 0
      },
      "text/plain": [
       "Training:   0%|          | 0/25 [00:00<?, ?it/s]"
      ]
     },
     "metadata": {},
     "output_type": "display_data"
    },
    {
     "data": {
      "application/vnd.jupyter.widget-view+json": {
       "model_id": "0e9e9d1647b745c5af115790e3137834",
       "version_major": 2,
       "version_minor": 0
      },
      "text/plain": [
       "Validation:   0%|          | 0/5 [00:00<?, ?it/s]"
      ]
     },
     "metadata": {},
     "output_type": "display_data"
    },
    {
     "name": "stdout",
     "output_type": "stream",
     "text": [
      "Train | Loss: 0.8067, Recall: 0.4091, Precision: 0.1349, F1: 0.2029\n",
      "Val   | Loss: 0.8753, Recall: 0.1633, Precision: 0.2085, F1: 0.1831\n",
      "-----------------------------\n",
      "Epoch 7\n"
     ]
    },
    {
     "data": {
      "application/vnd.jupyter.widget-view+json": {
       "model_id": "d035a84eb864474fb438f3677aba8593",
       "version_major": 2,
       "version_minor": 0
      },
      "text/plain": [
       "Training:   0%|          | 0/25 [00:00<?, ?it/s]"
      ]
     },
     "metadata": {},
     "output_type": "display_data"
    },
    {
     "data": {
      "application/vnd.jupyter.widget-view+json": {
       "model_id": "839e87986db147fea1a2397c79e51c95",
       "version_major": 2,
       "version_minor": 0
      },
      "text/plain": [
       "Validation:   0%|          | 0/5 [00:00<?, ?it/s]"
      ]
     },
     "metadata": {},
     "output_type": "display_data"
    },
    {
     "name": "stdout",
     "output_type": "stream",
     "text": [
      "Train | Loss: 0.8247, Recall: 0.4417, Precision: 0.1271, F1: 0.1974\n",
      "Val   | Loss: 0.9552, Recall: 0.9723, Precision: 0.0231, F1: 0.0451\n",
      "-----------------------------\n",
      "Epoch 8\n"
     ]
    },
    {
     "data": {
      "application/vnd.jupyter.widget-view+json": {
       "model_id": "d12d8f9596c842e885c99f2aae85d4bf",
       "version_major": 2,
       "version_minor": 0
      },
      "text/plain": [
       "Training:   0%|          | 0/25 [00:00<?, ?it/s]"
      ]
     },
     "metadata": {},
     "output_type": "display_data"
    },
    {
     "data": {
      "application/vnd.jupyter.widget-view+json": {
       "model_id": "9e2d0d0ba71645c696aa2a1489eda8ec",
       "version_major": 2,
       "version_minor": 0
      },
      "text/plain": [
       "Validation:   0%|          | 0/5 [00:00<?, ?it/s]"
      ]
     },
     "metadata": {},
     "output_type": "display_data"
    },
    {
     "name": "stdout",
     "output_type": "stream",
     "text": [
      "Train | Loss: 0.8034, Recall: 0.4497, Precision: 0.1285, F1: 0.1999\n",
      "Val   | Loss: 0.7902, Recall: 0.8028, Precision: 0.1264, F1: 0.2185\n",
      "-----------------------------\n",
      "Epoch 9\n"
     ]
    },
    {
     "data": {
      "application/vnd.jupyter.widget-view+json": {
       "model_id": "6e838c82bc3d4e6a9e24123694e13480",
       "version_major": 2,
       "version_minor": 0
      },
      "text/plain": [
       "Training:   0%|          | 0/25 [00:00<?, ?it/s]"
      ]
     },
     "metadata": {},
     "output_type": "display_data"
    },
    {
     "data": {
      "application/vnd.jupyter.widget-view+json": {
       "model_id": "a44471dcc4b34033b2e380ab0f3fc336",
       "version_major": 2,
       "version_minor": 0
      },
      "text/plain": [
       "Validation:   0%|          | 0/5 [00:00<?, ?it/s]"
      ]
     },
     "metadata": {},
     "output_type": "display_data"
    },
    {
     "name": "stdout",
     "output_type": "stream",
     "text": [
      "Train | Loss: 0.7954, Recall: 0.4300, Precision: 0.1353, F1: 0.2058\n",
      "Val   | Loss: 0.7765, Recall: 0.2389, Precision: 0.3097, F1: 0.2697\n",
      "-----------------------------\n",
      "Epoch 10\n"
     ]
    },
    {
     "data": {
      "application/vnd.jupyter.widget-view+json": {
       "model_id": "b4aa558991a34384a2d395148bddd88a",
       "version_major": 2,
       "version_minor": 0
      },
      "text/plain": [
       "Training:   0%|          | 0/25 [00:00<?, ?it/s]"
      ]
     },
     "metadata": {},
     "output_type": "display_data"
    },
    {
     "data": {
      "application/vnd.jupyter.widget-view+json": {
       "model_id": "c464103b1618450f929de4d665d9fc4e",
       "version_major": 2,
       "version_minor": 0
      },
      "text/plain": [
       "Validation:   0%|          | 0/5 [00:00<?, ?it/s]"
      ]
     },
     "metadata": {},
     "output_type": "display_data"
    },
    {
     "name": "stdout",
     "output_type": "stream",
     "text": [
      "Train | Loss: 0.8035, Recall: 0.4200, Precision: 0.1264, F1: 0.1943\n",
      "Val   | Loss: 0.6811, Recall: 0.4853, Precision: 0.2694, F1: 0.3465\n",
      "-----------------------------\n",
      "Epoch 11\n"
     ]
    },
    {
     "data": {
      "application/vnd.jupyter.widget-view+json": {
       "model_id": "49cf276a6a7b42d5a0bd7230e93f275a",
       "version_major": 2,
       "version_minor": 0
      },
      "text/plain": [
       "Training:   0%|          | 0/25 [00:00<?, ?it/s]"
      ]
     },
     "metadata": {},
     "output_type": "display_data"
    },
    {
     "data": {
      "application/vnd.jupyter.widget-view+json": {
       "model_id": "be6233f1a1e5430296c616537870a994",
       "version_major": 2,
       "version_minor": 0
      },
      "text/plain": [
       "Validation:   0%|          | 0/5 [00:00<?, ?it/s]"
      ]
     },
     "metadata": {},
     "output_type": "display_data"
    },
    {
     "name": "stdout",
     "output_type": "stream",
     "text": [
      "Train | Loss: 0.7868, Recall: 0.4772, Precision: 0.1373, F1: 0.2132\n",
      "Val   | Loss: 0.6817, Recall: 0.3733, Precision: 0.3193, F1: 0.3442\n",
      "-----------------------------\n",
      "Epoch 12\n"
     ]
    },
    {
     "data": {
      "application/vnd.jupyter.widget-view+json": {
       "model_id": "87b2584b1ce44b199b8eead290478a22",
       "version_major": 2,
       "version_minor": 0
      },
      "text/plain": [
       "Training:   0%|          | 0/25 [00:00<?, ?it/s]"
      ]
     },
     "metadata": {},
     "output_type": "display_data"
    },
    {
     "data": {
      "application/vnd.jupyter.widget-view+json": {
       "model_id": "a12a4a77a9124a5696590b87c5fa8a80",
       "version_major": 2,
       "version_minor": 0
      },
      "text/plain": [
       "Validation:   0%|          | 0/5 [00:00<?, ?it/s]"
      ]
     },
     "metadata": {},
     "output_type": "display_data"
    },
    {
     "name": "stdout",
     "output_type": "stream",
     "text": [
      "Train | Loss: 0.8008, Recall: 0.4106, Precision: 0.1374, F1: 0.2059\n",
      "Val   | Loss: 0.6636, Recall: 0.5881, Precision: 0.2281, F1: 0.3287\n",
      "-----------------------------\n",
      "Epoch 13\n"
     ]
    },
    {
     "data": {
      "application/vnd.jupyter.widget-view+json": {
       "model_id": "c629cb202246478abc0fa114e4f5d500",
       "version_major": 2,
       "version_minor": 0
      },
      "text/plain": [
       "Training:   0%|          | 0/25 [00:00<?, ?it/s]"
      ]
     },
     "metadata": {},
     "output_type": "display_data"
    },
    {
     "data": {
      "application/vnd.jupyter.widget-view+json": {
       "model_id": "b9c216e51da34051a78640a532af13f1",
       "version_major": 2,
       "version_minor": 0
      },
      "text/plain": [
       "Validation:   0%|          | 0/5 [00:00<?, ?it/s]"
      ]
     },
     "metadata": {},
     "output_type": "display_data"
    },
    {
     "name": "stdout",
     "output_type": "stream",
     "text": [
      "Train | Loss: 0.8000, Recall: 0.4366, Precision: 0.1291, F1: 0.1993\n",
      "Val   | Loss: 0.6762, Recall: 0.4070, Precision: 0.3049, F1: 0.3486\n",
      "-----------------------------\n",
      "Epoch 14\n"
     ]
    },
    {
     "data": {
      "application/vnd.jupyter.widget-view+json": {
       "model_id": "f2268c77bd0046da8f25b7389bdc8a39",
       "version_major": 2,
       "version_minor": 0
      },
      "text/plain": [
       "Training:   0%|          | 0/25 [00:00<?, ?it/s]"
      ]
     },
     "metadata": {},
     "output_type": "display_data"
    },
    {
     "data": {
      "application/vnd.jupyter.widget-view+json": {
       "model_id": "4aa85c9ef9b8466da2139783e8b6fced",
       "version_major": 2,
       "version_minor": 0
      },
      "text/plain": [
       "Validation:   0%|          | 0/5 [00:00<?, ?it/s]"
      ]
     },
     "metadata": {},
     "output_type": "display_data"
    },
    {
     "name": "stdout",
     "output_type": "stream",
     "text": [
      "Train | Loss: 0.7868, Recall: 0.4677, Precision: 0.1423, F1: 0.2182\n",
      "Val   | Loss: 0.7099, Recall: 0.7015, Precision: 0.1852, F1: 0.2931\n",
      "-----------------------------\n",
      "Epoch 15\n"
     ]
    },
    {
     "data": {
      "application/vnd.jupyter.widget-view+json": {
       "model_id": "c35cf200dade4b0fae366e65b64d8f78",
       "version_major": 2,
       "version_minor": 0
      },
      "text/plain": [
       "Training:   0%|          | 0/25 [00:00<?, ?it/s]"
      ]
     },
     "metadata": {},
     "output_type": "display_data"
    },
    {
     "data": {
      "application/vnd.jupyter.widget-view+json": {
       "model_id": "057b08487ac94afe8214efa49c3a2e5f",
       "version_major": 2,
       "version_minor": 0
      },
      "text/plain": [
       "Validation:   0%|          | 0/5 [00:00<?, ?it/s]"
      ]
     },
     "metadata": {},
     "output_type": "display_data"
    },
    {
     "name": "stdout",
     "output_type": "stream",
     "text": [
      "Train | Loss: 0.7825, Recall: 0.4140, Precision: 0.1720, F1: 0.2431\n",
      "Val   | Loss: 0.6871, Recall: 0.3890, Precision: 0.3121, F1: 0.3464\n",
      "-----------------------------\n",
      "Epoch 16\n"
     ]
    },
    {
     "data": {
      "application/vnd.jupyter.widget-view+json": {
       "model_id": "432531707ff34f8580968e7ccf3e344f",
       "version_major": 2,
       "version_minor": 0
      },
      "text/plain": [
       "Training:   0%|          | 0/25 [00:00<?, ?it/s]"
      ]
     },
     "metadata": {},
     "output_type": "display_data"
    },
    {
     "data": {
      "application/vnd.jupyter.widget-view+json": {
       "model_id": "3a7697752cef4d69a968fe7910c0487f",
       "version_major": 2,
       "version_minor": 0
      },
      "text/plain": [
       "Validation:   0%|          | 0/5 [00:00<?, ?it/s]"
      ]
     },
     "metadata": {},
     "output_type": "display_data"
    },
    {
     "name": "stdout",
     "output_type": "stream",
     "text": [
      "Train | Loss: 0.7517, Recall: 0.4721, Precision: 0.1814, F1: 0.2621\n",
      "Val   | Loss: 0.6420, Recall: 0.4646, Precision: 0.3204, F1: 0.3792\n",
      "-----------------------------\n",
      "Epoch 17\n"
     ]
    },
    {
     "data": {
      "application/vnd.jupyter.widget-view+json": {
       "model_id": "1b61ede781ff480187be9a821d169858",
       "version_major": 2,
       "version_minor": 0
      },
      "text/plain": [
       "Training:   0%|          | 0/25 [00:00<?, ?it/s]"
      ]
     },
     "metadata": {},
     "output_type": "display_data"
    },
    {
     "data": {
      "application/vnd.jupyter.widget-view+json": {
       "model_id": "fc2454a579814686b437b6b6820a8991",
       "version_major": 2,
       "version_minor": 0
      },
      "text/plain": [
       "Validation:   0%|          | 0/5 [00:00<?, ?it/s]"
      ]
     },
     "metadata": {},
     "output_type": "display_data"
    },
    {
     "name": "stdout",
     "output_type": "stream",
     "text": [
      "Train | Loss: 0.7676, Recall: 0.4044, Precision: 0.1845, F1: 0.2534\n",
      "Val   | Loss: 0.6478, Recall: 0.6283, Precision: 0.2447, F1: 0.3522\n",
      "-----------------------------\n",
      "Epoch 18\n"
     ]
    },
    {
     "data": {
      "application/vnd.jupyter.widget-view+json": {
       "model_id": "03d0a4052bec4e179c6c94bcbee4737e",
       "version_major": 2,
       "version_minor": 0
      },
      "text/plain": [
       "Training:   0%|          | 0/25 [00:00<?, ?it/s]"
      ]
     },
     "metadata": {},
     "output_type": "display_data"
    },
    {
     "data": {
      "application/vnd.jupyter.widget-view+json": {
       "model_id": "3f89ff424eca40daba61de1857895e04",
       "version_major": 2,
       "version_minor": 0
      },
      "text/plain": [
       "Validation:   0%|          | 0/5 [00:00<?, ?it/s]"
      ]
     },
     "metadata": {},
     "output_type": "display_data"
    },
    {
     "name": "stdout",
     "output_type": "stream",
     "text": [
      "Train | Loss: 0.7557, Recall: 0.4117, Precision: 0.1816, F1: 0.2521\n",
      "Val   | Loss: 0.6256, Recall: 0.4343, Precision: 0.3364, F1: 0.3792\n",
      "-----------------------------\n",
      "Epoch 19\n"
     ]
    },
    {
     "data": {
      "application/vnd.jupyter.widget-view+json": {
       "model_id": "22a025ee07d947fe8243946f74318382",
       "version_major": 2,
       "version_minor": 0
      },
      "text/plain": [
       "Training:   0%|          | 0/25 [00:00<?, ?it/s]"
      ]
     },
     "metadata": {},
     "output_type": "display_data"
    },
    {
     "data": {
      "application/vnd.jupyter.widget-view+json": {
       "model_id": "25ce69e3381244fb9ef20b005ffcbfe1",
       "version_major": 2,
       "version_minor": 0
      },
      "text/plain": [
       "Validation:   0%|          | 0/5 [00:00<?, ?it/s]"
      ]
     },
     "metadata": {},
     "output_type": "display_data"
    },
    {
     "name": "stdout",
     "output_type": "stream",
     "text": [
      "Train | Loss: 0.7825, Recall: 0.4757, Precision: 0.1427, F1: 0.2195\n",
      "Val   | Loss: 0.7344, Recall: 0.6751, Precision: 0.1790, F1: 0.2830\n",
      "-----------------------------\n",
      "Epoch 20\n"
     ]
    },
    {
     "data": {
      "application/vnd.jupyter.widget-view+json": {
       "model_id": "175cf3cc1a55426594727fa8edb9e30c",
       "version_major": 2,
       "version_minor": 0
      },
      "text/plain": [
       "Training:   0%|          | 0/25 [00:00<?, ?it/s]"
      ]
     },
     "metadata": {},
     "output_type": "display_data"
    },
    {
     "data": {
      "application/vnd.jupyter.widget-view+json": {
       "model_id": "2beb1136194b4717aaffd1b36135d432",
       "version_major": 2,
       "version_minor": 0
      },
      "text/plain": [
       "Validation:   0%|          | 0/5 [00:00<?, ?it/s]"
      ]
     },
     "metadata": {},
     "output_type": "display_data"
    },
    {
     "name": "stdout",
     "output_type": "stream",
     "text": [
      "Train | Loss: 0.7544, Recall: 0.4731, Precision: 0.1835, F1: 0.2645\n",
      "Val   | Loss: 0.8567, Recall: 0.9057, Precision: 0.0939, F1: 0.1701\n",
      "-----------------------------\n",
      "Epoch 21\n"
     ]
    },
    {
     "data": {
      "application/vnd.jupyter.widget-view+json": {
       "model_id": "2a8e97ef21e04a488c66aa38b225d6c8",
       "version_major": 2,
       "version_minor": 0
      },
      "text/plain": [
       "Training:   0%|          | 0/25 [00:00<?, ?it/s]"
      ]
     },
     "metadata": {},
     "output_type": "display_data"
    },
    {
     "data": {
      "application/vnd.jupyter.widget-view+json": {
       "model_id": "d0dd5a2f4bce4fdd8e83c194b56dffb8",
       "version_major": 2,
       "version_minor": 0
      },
      "text/plain": [
       "Validation:   0%|          | 0/5 [00:00<?, ?it/s]"
      ]
     },
     "metadata": {},
     "output_type": "display_data"
    },
    {
     "name": "stdout",
     "output_type": "stream",
     "text": [
      "Train | Loss: 0.7657, Recall: 0.4255, Precision: 0.1809, F1: 0.2539\n",
      "Val   | Loss: 0.6401, Recall: 0.4393, Precision: 0.3396, F1: 0.3831\n",
      "-----------------------------\n",
      "Epoch 22\n"
     ]
    },
    {
     "data": {
      "application/vnd.jupyter.widget-view+json": {
       "model_id": "9bc2eec5afd04458a2cda17d444a5e33",
       "version_major": 2,
       "version_minor": 0
      },
      "text/plain": [
       "Training:   0%|          | 0/25 [00:00<?, ?it/s]"
      ]
     },
     "metadata": {},
     "output_type": "display_data"
    },
    {
     "data": {
      "application/vnd.jupyter.widget-view+json": {
       "model_id": "50f78268d31e4efc8b7070c4035f2298",
       "version_major": 2,
       "version_minor": 0
      },
      "text/plain": [
       "Validation:   0%|          | 0/5 [00:00<?, ?it/s]"
      ]
     },
     "metadata": {},
     "output_type": "display_data"
    },
    {
     "name": "stdout",
     "output_type": "stream",
     "text": [
      "Train | Loss: 0.7618, Recall: 0.4773, Precision: 0.1740, F1: 0.2551\n",
      "Val   | Loss: 0.6216, Recall: 0.5929, Precision: 0.2805, F1: 0.3808\n",
      "-----------------------------\n",
      "Epoch 23\n"
     ]
    },
    {
     "data": {
      "application/vnd.jupyter.widget-view+json": {
       "model_id": "de4d3d7628564bfcab376fc78bc4f0a8",
       "version_major": 2,
       "version_minor": 0
      },
      "text/plain": [
       "Training:   0%|          | 0/25 [00:00<?, ?it/s]"
      ]
     },
     "metadata": {},
     "output_type": "display_data"
    },
    {
     "data": {
      "application/vnd.jupyter.widget-view+json": {
       "model_id": "5a250f1667e8408c92ba31ff432d5c8c",
       "version_major": 2,
       "version_minor": 0
      },
      "text/plain": [
       "Validation:   0%|          | 0/5 [00:00<?, ?it/s]"
      ]
     },
     "metadata": {},
     "output_type": "display_data"
    },
    {
     "name": "stdout",
     "output_type": "stream",
     "text": [
      "Train | Loss: 0.7637, Recall: 0.4275, Precision: 0.2041, F1: 0.2763\n",
      "Val   | Loss: 0.6772, Recall: 0.3512, Precision: 0.4012, F1: 0.3745\n",
      "-----------------------------\n",
      "Epoch 24\n"
     ]
    },
    {
     "data": {
      "application/vnd.jupyter.widget-view+json": {
       "model_id": "6a14340baf5848b1be1af466d75d639f",
       "version_major": 2,
       "version_minor": 0
      },
      "text/plain": [
       "Training:   0%|          | 0/25 [00:00<?, ?it/s]"
      ]
     },
     "metadata": {},
     "output_type": "display_data"
    },
    {
     "data": {
      "application/vnd.jupyter.widget-view+json": {
       "model_id": "876986952eec4cf0a81e0ef63d573ce9",
       "version_major": 2,
       "version_minor": 0
      },
      "text/plain": [
       "Validation:   0%|          | 0/5 [00:00<?, ?it/s]"
      ]
     },
     "metadata": {},
     "output_type": "display_data"
    },
    {
     "name": "stdout",
     "output_type": "stream",
     "text": [
      "Train | Loss: 0.7393, Recall: 0.4418, Precision: 0.1967, F1: 0.2722\n",
      "Val   | Loss: 0.5941, Recall: 0.5260, Precision: 0.3380, F1: 0.4115\n",
      "-----------------------------\n",
      "Epoch 25\n"
     ]
    },
    {
     "data": {
      "application/vnd.jupyter.widget-view+json": {
       "model_id": "cf1b55f024e9464ba11261a2fa920d52",
       "version_major": 2,
       "version_minor": 0
      },
      "text/plain": [
       "Training:   0%|          | 0/25 [00:00<?, ?it/s]"
      ]
     },
     "metadata": {},
     "output_type": "display_data"
    },
    {
     "data": {
      "application/vnd.jupyter.widget-view+json": {
       "model_id": "775e663b24ac4b99b4d3fbee0d6d8c2f",
       "version_major": 2,
       "version_minor": 0
      },
      "text/plain": [
       "Validation:   0%|          | 0/5 [00:00<?, ?it/s]"
      ]
     },
     "metadata": {},
     "output_type": "display_data"
    },
    {
     "name": "stdout",
     "output_type": "stream",
     "text": [
      "Train | Loss: 0.7406, Recall: 0.4473, Precision: 0.2026, F1: 0.2789\n",
      "Val   | Loss: 0.6656, Recall: 0.7042, Precision: 0.2266, F1: 0.3428\n",
      "-----------------------------\n",
      "Epoch 26\n"
     ]
    },
    {
     "data": {
      "application/vnd.jupyter.widget-view+json": {
       "model_id": "8d0ad76014b64466952efc47030a11ff",
       "version_major": 2,
       "version_minor": 0
      },
      "text/plain": [
       "Training:   0%|          | 0/25 [00:00<?, ?it/s]"
      ]
     },
     "metadata": {},
     "output_type": "display_data"
    },
    {
     "data": {
      "application/vnd.jupyter.widget-view+json": {
       "model_id": "796dd1592d69443ebde2475bc1580d7c",
       "version_major": 2,
       "version_minor": 0
      },
      "text/plain": [
       "Validation:   0%|          | 0/5 [00:00<?, ?it/s]"
      ]
     },
     "metadata": {},
     "output_type": "display_data"
    },
    {
     "name": "stdout",
     "output_type": "stream",
     "text": [
      "Train | Loss: 0.7354, Recall: 0.4556, Precision: 0.1972, F1: 0.2753\n",
      "Val   | Loss: 0.7269, Recall: 0.6662, Precision: 0.2057, F1: 0.3144\n",
      "-----------------------------\n",
      "Epoch 27\n"
     ]
    },
    {
     "data": {
      "application/vnd.jupyter.widget-view+json": {
       "model_id": "dee43a9d9d734d5fa98cca272cea09cf",
       "version_major": 2,
       "version_minor": 0
      },
      "text/plain": [
       "Training:   0%|          | 0/25 [00:00<?, ?it/s]"
      ]
     },
     "metadata": {},
     "output_type": "display_data"
    },
    {
     "data": {
      "application/vnd.jupyter.widget-view+json": {
       "model_id": "2d43b9368dcb4dec98d17731ac756e7b",
       "version_major": 2,
       "version_minor": 0
      },
      "text/plain": [
       "Validation:   0%|          | 0/5 [00:00<?, ?it/s]"
      ]
     },
     "metadata": {},
     "output_type": "display_data"
    },
    {
     "name": "stdout",
     "output_type": "stream",
     "text": [
      "Train | Loss: 0.7563, Recall: 0.4112, Precision: 0.2222, F1: 0.2885\n",
      "Val   | Loss: 0.6569, Recall: 0.4506, Precision: 0.3211, F1: 0.3750\n",
      "-----------------------------\n",
      "Epoch 28\n"
     ]
    },
    {
     "data": {
      "application/vnd.jupyter.widget-view+json": {
       "model_id": "cf520363302841cb898126eef523b538",
       "version_major": 2,
       "version_minor": 0
      },
      "text/plain": [
       "Training:   0%|          | 0/25 [00:00<?, ?it/s]"
      ]
     },
     "metadata": {},
     "output_type": "display_data"
    },
    {
     "data": {
      "application/vnd.jupyter.widget-view+json": {
       "model_id": "01bf1b4c96b6446db64788f79ffaeadb",
       "version_major": 2,
       "version_minor": 0
      },
      "text/plain": [
       "Validation:   0%|          | 0/5 [00:00<?, ?it/s]"
      ]
     },
     "metadata": {},
     "output_type": "display_data"
    },
    {
     "name": "stdout",
     "output_type": "stream",
     "text": [
      "Train | Loss: 0.7305, Recall: 0.4742, Precision: 0.2209, F1: 0.3014\n",
      "Val   | Loss: 0.6682, Recall: 0.6905, Precision: 0.2349, F1: 0.3505\n",
      "-----------------------------\n",
      "Epoch 29\n"
     ]
    },
    {
     "data": {
      "application/vnd.jupyter.widget-view+json": {
       "model_id": "4f0b4c0ae5124a158cefbae6c2340f5e",
       "version_major": 2,
       "version_minor": 0
      },
      "text/plain": [
       "Training:   0%|          | 0/25 [00:00<?, ?it/s]"
      ]
     },
     "metadata": {},
     "output_type": "display_data"
    },
    {
     "data": {
      "application/vnd.jupyter.widget-view+json": {
       "model_id": "145ded75d48c404da3e65124819b2a64",
       "version_major": 2,
       "version_minor": 0
      },
      "text/plain": [
       "Validation:   0%|          | 0/5 [00:00<?, ?it/s]"
      ]
     },
     "metadata": {},
     "output_type": "display_data"
    },
    {
     "name": "stdout",
     "output_type": "stream",
     "text": [
      "Train | Loss: 0.7269, Recall: 0.4340, Precision: 0.2452, F1: 0.3134\n",
      "Val   | Loss: 0.5971, Recall: 0.4889, Precision: 0.3603, F1: 0.4148\n",
      "-----------------------------\n",
      "Epoch 30\n"
     ]
    },
    {
     "data": {
      "application/vnd.jupyter.widget-view+json": {
       "model_id": "4ce0fa4dbac64ecc817f8b795bc05367",
       "version_major": 2,
       "version_minor": 0
      },
      "text/plain": [
       "Training:   0%|          | 0/25 [00:00<?, ?it/s]"
      ]
     },
     "metadata": {},
     "output_type": "display_data"
    },
    {
     "data": {
      "application/vnd.jupyter.widget-view+json": {
       "model_id": "356f53862428420c88fc92ea3761d3f9",
       "version_major": 2,
       "version_minor": 0
      },
      "text/plain": [
       "Validation:   0%|          | 0/5 [00:00<?, ?it/s]"
      ]
     },
     "metadata": {},
     "output_type": "display_data"
    },
    {
     "name": "stdout",
     "output_type": "stream",
     "text": [
      "Train | Loss: 0.7251, Recall: 0.4131, Precision: 0.2538, F1: 0.3144\n",
      "Val   | Loss: 0.6150, Recall: 0.4801, Precision: 0.3915, F1: 0.4313\n",
      "-----------------------------\n",
      "Epoch 31\n"
     ]
    },
    {
     "data": {
      "application/vnd.jupyter.widget-view+json": {
       "model_id": "bcf9c946ac124da8aac7a0df24e66b5a",
       "version_major": 2,
       "version_minor": 0
      },
      "text/plain": [
       "Training:   0%|          | 0/25 [00:00<?, ?it/s]"
      ]
     },
     "metadata": {},
     "output_type": "display_data"
    },
    {
     "data": {
      "application/vnd.jupyter.widget-view+json": {
       "model_id": "32a6fd683859483483fb50e1134d767c",
       "version_major": 2,
       "version_minor": 0
      },
      "text/plain": [
       "Validation:   0%|          | 0/5 [00:00<?, ?it/s]"
      ]
     },
     "metadata": {},
     "output_type": "display_data"
    },
    {
     "name": "stdout",
     "output_type": "stream",
     "text": [
      "Train | Loss: 0.7163, Recall: 0.4526, Precision: 0.2516, F1: 0.3234\n",
      "Val   | Loss: 0.7076, Recall: 0.3032, Precision: 0.5010, F1: 0.3778\n",
      "-----------------------------\n",
      "Epoch 32\n"
     ]
    },
    {
     "data": {
      "application/vnd.jupyter.widget-view+json": {
       "model_id": "877a8800de4b4b6185b58370330b179c",
       "version_major": 2,
       "version_minor": 0
      },
      "text/plain": [
       "Training:   0%|          | 0/25 [00:00<?, ?it/s]"
      ]
     },
     "metadata": {},
     "output_type": "display_data"
    },
    {
     "data": {
      "application/vnd.jupyter.widget-view+json": {
       "model_id": "0afadd9ae92c47f48447048beafbf3f0",
       "version_major": 2,
       "version_minor": 0
      },
      "text/plain": [
       "Validation:   0%|          | 0/5 [00:00<?, ?it/s]"
      ]
     },
     "metadata": {},
     "output_type": "display_data"
    },
    {
     "name": "stdout",
     "output_type": "stream",
     "text": [
      "Train | Loss: 0.7129, Recall: 0.4247, Precision: 0.2544, F1: 0.3182\n",
      "Val   | Loss: 0.6611, Recall: 0.6592, Precision: 0.2789, F1: 0.3920\n",
      "-----------------------------\n",
      "Epoch 33\n"
     ]
    },
    {
     "data": {
      "application/vnd.jupyter.widget-view+json": {
       "model_id": "312abf42bcdb44f5b7d780020b044b8c",
       "version_major": 2,
       "version_minor": 0
      },
      "text/plain": [
       "Training:   0%|          | 0/25 [00:00<?, ?it/s]"
      ]
     },
     "metadata": {},
     "output_type": "display_data"
    },
    {
     "data": {
      "application/vnd.jupyter.widget-view+json": {
       "model_id": "e8093263c6024f108bbab89d00954895",
       "version_major": 2,
       "version_minor": 0
      },
      "text/plain": [
       "Validation:   0%|          | 0/5 [00:00<?, ?it/s]"
      ]
     },
     "metadata": {},
     "output_type": "display_data"
    },
    {
     "name": "stdout",
     "output_type": "stream",
     "text": [
      "Train | Loss: 0.7241, Recall: 0.4584, Precision: 0.2642, F1: 0.3352\n",
      "Val   | Loss: 0.5991, Recall: 0.4050, Precision: 0.4943, F1: 0.4452\n",
      "-----------------------------\n",
      "Epoch 34\n"
     ]
    },
    {
     "data": {
      "application/vnd.jupyter.widget-view+json": {
       "model_id": "b1b2db68d42e4c4b81e2c86e3b50bdd8",
       "version_major": 2,
       "version_minor": 0
      },
      "text/plain": [
       "Training:   0%|          | 0/25 [00:00<?, ?it/s]"
      ]
     },
     "metadata": {},
     "output_type": "display_data"
    },
    {
     "data": {
      "application/vnd.jupyter.widget-view+json": {
       "model_id": "5319d9798df24d8aac8299853cfcb163",
       "version_major": 2,
       "version_minor": 0
      },
      "text/plain": [
       "Validation:   0%|          | 0/5 [00:00<?, ?it/s]"
      ]
     },
     "metadata": {},
     "output_type": "display_data"
    },
    {
     "name": "stdout",
     "output_type": "stream",
     "text": [
      "Train | Loss: 0.7193, Recall: 0.4700, Precision: 0.2431, F1: 0.3204\n",
      "Val   | Loss: 0.5598, Recall: 0.5689, Precision: 0.3751, F1: 0.4521\n",
      "-----------------------------\n",
      "Epoch 35\n"
     ]
    },
    {
     "data": {
      "application/vnd.jupyter.widget-view+json": {
       "model_id": "e5a3811bf1bf4ce2bcb587456767dd57",
       "version_major": 2,
       "version_minor": 0
      },
      "text/plain": [
       "Training:   0%|          | 0/25 [00:00<?, ?it/s]"
      ]
     },
     "metadata": {},
     "output_type": "display_data"
    },
    {
     "data": {
      "application/vnd.jupyter.widget-view+json": {
       "model_id": "0320c8e83e6a4a038e65f5852e08b58b",
       "version_major": 2,
       "version_minor": 0
      },
      "text/plain": [
       "Validation:   0%|          | 0/5 [00:00<?, ?it/s]"
      ]
     },
     "metadata": {},
     "output_type": "display_data"
    },
    {
     "name": "stdout",
     "output_type": "stream",
     "text": [
      "Train | Loss: 0.6955, Recall: 0.4646, Precision: 0.2916, F1: 0.3583\n",
      "Val   | Loss: 0.5771, Recall: 0.6741, Precision: 0.3166, F1: 0.4308\n",
      "-----------------------------\n",
      "Epoch 36\n"
     ]
    },
    {
     "data": {
      "application/vnd.jupyter.widget-view+json": {
       "model_id": "4a842e5971934f2a90091e4137ce0b9c",
       "version_major": 2,
       "version_minor": 0
      },
      "text/plain": [
       "Training:   0%|          | 0/25 [00:00<?, ?it/s]"
      ]
     },
     "metadata": {},
     "output_type": "display_data"
    },
    {
     "data": {
      "application/vnd.jupyter.widget-view+json": {
       "model_id": "4107a5b6f37d46c4b08db308c37850cc",
       "version_major": 2,
       "version_minor": 0
      },
      "text/plain": [
       "Validation:   0%|          | 0/5 [00:00<?, ?it/s]"
      ]
     },
     "metadata": {},
     "output_type": "display_data"
    },
    {
     "name": "stdout",
     "output_type": "stream",
     "text": [
      "Train | Loss: 0.7141, Recall: 0.4851, Precision: 0.2731, F1: 0.3494\n",
      "Val   | Loss: 0.6293, Recall: 0.3168, Precision: 0.6157, F1: 0.4183\n",
      "-----------------------------\n",
      "Epoch 37\n"
     ]
    },
    {
     "data": {
      "application/vnd.jupyter.widget-view+json": {
       "model_id": "139704a99e8f4f0da0f55c77e8fe2b9d",
       "version_major": 2,
       "version_minor": 0
      },
      "text/plain": [
       "Training:   0%|          | 0/25 [00:00<?, ?it/s]"
      ]
     },
     "metadata": {},
     "output_type": "display_data"
    },
    {
     "data": {
      "application/vnd.jupyter.widget-view+json": {
       "model_id": "8c50207c55224487b85a61c9f4e61faf",
       "version_major": 2,
       "version_minor": 0
      },
      "text/plain": [
       "Validation:   0%|          | 0/5 [00:00<?, ?it/s]"
      ]
     },
     "metadata": {},
     "output_type": "display_data"
    },
    {
     "name": "stdout",
     "output_type": "stream",
     "text": [
      "Train | Loss: 0.6831, Recall: 0.4689, Precision: 0.3203, F1: 0.3806\n",
      "Val   | Loss: 0.5888, Recall: 0.6290, Precision: 0.3378, F1: 0.4396\n",
      "-----------------------------\n",
      "Epoch 38\n"
     ]
    },
    {
     "data": {
      "application/vnd.jupyter.widget-view+json": {
       "model_id": "13e9737213c2409cabc6714466623849",
       "version_major": 2,
       "version_minor": 0
      },
      "text/plain": [
       "Training:   0%|          | 0/25 [00:00<?, ?it/s]"
      ]
     },
     "metadata": {},
     "output_type": "display_data"
    },
    {
     "data": {
      "application/vnd.jupyter.widget-view+json": {
       "model_id": "1dedf26283e242bc8a54877188535fb6",
       "version_major": 2,
       "version_minor": 0
      },
      "text/plain": [
       "Validation:   0%|          | 0/5 [00:00<?, ?it/s]"
      ]
     },
     "metadata": {},
     "output_type": "display_data"
    },
    {
     "name": "stdout",
     "output_type": "stream",
     "text": [
      "Train | Loss: 0.7116, Recall: 0.4710, Precision: 0.2643, F1: 0.3386\n",
      "Val   | Loss: 0.6121, Recall: 0.4417, Precision: 0.4834, F1: 0.4616\n",
      "-----------------------------\n",
      "Epoch 39\n"
     ]
    },
    {
     "data": {
      "application/vnd.jupyter.widget-view+json": {
       "model_id": "3d7d57b3a4e846b5b8e6d0ec2e0ea952",
       "version_major": 2,
       "version_minor": 0
      },
      "text/plain": [
       "Training:   0%|          | 0/25 [00:00<?, ?it/s]"
      ]
     },
     "metadata": {},
     "output_type": "display_data"
    },
    {
     "data": {
      "application/vnd.jupyter.widget-view+json": {
       "model_id": "203e456d56814748b0b7ad466d7d5053",
       "version_major": 2,
       "version_minor": 0
      },
      "text/plain": [
       "Validation:   0%|          | 0/5 [00:00<?, ?it/s]"
      ]
     },
     "metadata": {},
     "output_type": "display_data"
    },
    {
     "name": "stdout",
     "output_type": "stream",
     "text": [
      "Train | Loss: 0.6737, Recall: 0.4880, Precision: 0.3233, F1: 0.3890\n",
      "Val   | Loss: 0.5430, Recall: 0.6163, Precision: 0.4302, F1: 0.5067\n",
      "-----------------------------\n",
      "Epoch 40\n"
     ]
    },
    {
     "data": {
      "application/vnd.jupyter.widget-view+json": {
       "model_id": "957f2d1acd4e41fa97a88d914346a988",
       "version_major": 2,
       "version_minor": 0
      },
      "text/plain": [
       "Training:   0%|          | 0/25 [00:00<?, ?it/s]"
      ]
     },
     "metadata": {},
     "output_type": "display_data"
    },
    {
     "data": {
      "application/vnd.jupyter.widget-view+json": {
       "model_id": "f5c3276020ec486ea45e6556f31d4bec",
       "version_major": 2,
       "version_minor": 0
      },
      "text/plain": [
       "Validation:   0%|          | 0/5 [00:00<?, ?it/s]"
      ]
     },
     "metadata": {},
     "output_type": "display_data"
    },
    {
     "name": "stdout",
     "output_type": "stream",
     "text": [
      "Train | Loss: 0.6644, Recall: 0.4603, Precision: 0.3641, F1: 0.4066\n",
      "Val   | Loss: 0.5671, Recall: 0.5125, Precision: 0.4955, F1: 0.5038\n",
      "-----------------------------\n",
      "Epoch 41\n"
     ]
    },
    {
     "data": {
      "application/vnd.jupyter.widget-view+json": {
       "model_id": "fe6c1c877ff9401c959dad5758111b42",
       "version_major": 2,
       "version_minor": 0
      },
      "text/plain": [
       "Training:   0%|          | 0/25 [00:00<?, ?it/s]"
      ]
     },
     "metadata": {},
     "output_type": "display_data"
    },
    {
     "data": {
      "application/vnd.jupyter.widget-view+json": {
       "model_id": "cfabb46a404c4b3299fec640f6a7dbb9",
       "version_major": 2,
       "version_minor": 0
      },
      "text/plain": [
       "Validation:   0%|          | 0/5 [00:00<?, ?it/s]"
      ]
     },
     "metadata": {},
     "output_type": "display_data"
    },
    {
     "name": "stdout",
     "output_type": "stream",
     "text": [
      "Train | Loss: 0.6837, Recall: 0.4953, Precision: 0.3106, F1: 0.3818\n",
      "Val   | Loss: 0.5781, Recall: 0.7605, Precision: 0.3228, F1: 0.4532\n",
      "-----------------------------\n",
      "Epoch 42\n"
     ]
    },
    {
     "data": {
      "application/vnd.jupyter.widget-view+json": {
       "model_id": "8bcb818a9f2e4cc8ab1f6be456f5b51f",
       "version_major": 2,
       "version_minor": 0
      },
      "text/plain": [
       "Training:   0%|          | 0/25 [00:00<?, ?it/s]"
      ]
     },
     "metadata": {},
     "output_type": "display_data"
    },
    {
     "data": {
      "application/vnd.jupyter.widget-view+json": {
       "model_id": "c62eab11ab1b4962b4beaec857248131",
       "version_major": 2,
       "version_minor": 0
      },
      "text/plain": [
       "Validation:   0%|          | 0/5 [00:00<?, ?it/s]"
      ]
     },
     "metadata": {},
     "output_type": "display_data"
    },
    {
     "name": "stdout",
     "output_type": "stream",
     "text": [
      "Train | Loss: 0.6793, Recall: 0.5018, Precision: 0.3169, F1: 0.3885\n",
      "Val   | Loss: 0.6625, Recall: 0.2899, Precision: 0.6789, F1: 0.4063\n",
      "-----------------------------\n",
      "Epoch 43\n"
     ]
    },
    {
     "data": {
      "application/vnd.jupyter.widget-view+json": {
       "model_id": "921cdae7ee1241e98fc5d41da53dfbe8",
       "version_major": 2,
       "version_minor": 0
      },
      "text/plain": [
       "Training:   0%|          | 0/25 [00:00<?, ?it/s]"
      ]
     },
     "metadata": {},
     "output_type": "display_data"
    },
    {
     "data": {
      "application/vnd.jupyter.widget-view+json": {
       "model_id": "cb21a3e5e177429abb96556eeeee0553",
       "version_major": 2,
       "version_minor": 0
      },
      "text/plain": [
       "Validation:   0%|          | 0/5 [00:00<?, ?it/s]"
      ]
     },
     "metadata": {},
     "output_type": "display_data"
    },
    {
     "name": "stdout",
     "output_type": "stream",
     "text": [
      "Train | Loss: 0.6643, Recall: 0.4301, Precision: 0.3695, F1: 0.3975\n",
      "Val   | Loss: 0.5824, Recall: 0.4509, Precision: 0.5332, F1: 0.4886\n",
      "-----------------------------\n",
      "Epoch 44\n"
     ]
    },
    {
     "data": {
      "application/vnd.jupyter.widget-view+json": {
       "model_id": "8a943b2f31bf43c9b67f6a6991dbe905",
       "version_major": 2,
       "version_minor": 0
      },
      "text/plain": [
       "Training:   0%|          | 0/25 [00:00<?, ?it/s]"
      ]
     },
     "metadata": {},
     "output_type": "display_data"
    },
    {
     "data": {
      "application/vnd.jupyter.widget-view+json": {
       "model_id": "9a645e2172fb4f82967562693efdf57a",
       "version_major": 2,
       "version_minor": 0
      },
      "text/plain": [
       "Validation:   0%|          | 0/5 [00:00<?, ?it/s]"
      ]
     },
     "metadata": {},
     "output_type": "display_data"
    },
    {
     "name": "stdout",
     "output_type": "stream",
     "text": [
      "Train | Loss: 0.6747, Recall: 0.5024, Precision: 0.3043, F1: 0.3790\n",
      "Val   | Loss: 0.6676, Recall: 0.3173, Precision: 0.6128, F1: 0.4181\n",
      "-----------------------------\n",
      "Epoch 45\n"
     ]
    },
    {
     "data": {
      "application/vnd.jupyter.widget-view+json": {
       "model_id": "8f487fa2797b4d0b96c6063cc0be6c09",
       "version_major": 2,
       "version_minor": 0
      },
      "text/plain": [
       "Training:   0%|          | 0/25 [00:00<?, ?it/s]"
      ]
     },
     "metadata": {},
     "output_type": "display_data"
    },
    {
     "data": {
      "application/vnd.jupyter.widget-view+json": {
       "model_id": "607cf9157074420390f4db57edee37d7",
       "version_major": 2,
       "version_minor": 0
      },
      "text/plain": [
       "Validation:   0%|          | 0/5 [00:00<?, ?it/s]"
      ]
     },
     "metadata": {},
     "output_type": "display_data"
    },
    {
     "name": "stdout",
     "output_type": "stream",
     "text": [
      "Train | Loss: 0.6656, Recall: 0.4621, Precision: 0.3497, F1: 0.3981\n",
      "Val   | Loss: 0.5687, Recall: 0.5242, Precision: 0.4928, F1: 0.5080\n",
      "-----------------------------\n",
      "Epoch 46\n"
     ]
    },
    {
     "data": {
      "application/vnd.jupyter.widget-view+json": {
       "model_id": "76802a3890564fd9b2be675a1814b040",
       "version_major": 2,
       "version_minor": 0
      },
      "text/plain": [
       "Training:   0%|          | 0/25 [00:00<?, ?it/s]"
      ]
     },
     "metadata": {},
     "output_type": "display_data"
    },
    {
     "data": {
      "application/vnd.jupyter.widget-view+json": {
       "model_id": "0a9923e1686148cd9855908dc52e7557",
       "version_major": 2,
       "version_minor": 0
      },
      "text/plain": [
       "Validation:   0%|          | 0/5 [00:00<?, ?it/s]"
      ]
     },
     "metadata": {},
     "output_type": "display_data"
    },
    {
     "name": "stdout",
     "output_type": "stream",
     "text": [
      "Train | Loss: 0.6843, Recall: 0.4884, Precision: 0.3378, F1: 0.3994\n",
      "Val   | Loss: 0.6355, Recall: 0.3690, Precision: 0.5896, F1: 0.4539\n",
      "-----------------------------\n",
      "Epoch 47\n"
     ]
    },
    {
     "data": {
      "application/vnd.jupyter.widget-view+json": {
       "model_id": "9aeadfc2b7204ea3b5913447a84c3e36",
       "version_major": 2,
       "version_minor": 0
      },
      "text/plain": [
       "Training:   0%|          | 0/25 [00:00<?, ?it/s]"
      ]
     },
     "metadata": {},
     "output_type": "display_data"
    },
    {
     "data": {
      "application/vnd.jupyter.widget-view+json": {
       "model_id": "63fcc53c53b140ac813d8289c2fb8d5b",
       "version_major": 2,
       "version_minor": 0
      },
      "text/plain": [
       "Validation:   0%|          | 0/5 [00:00<?, ?it/s]"
      ]
     },
     "metadata": {},
     "output_type": "display_data"
    },
    {
     "name": "stdout",
     "output_type": "stream",
     "text": [
      "Train | Loss: 0.6725, Recall: 0.5271, Precision: 0.3248, F1: 0.4019\n",
      "Val   | Loss: 0.6416, Recall: 0.4158, Precision: 0.5824, F1: 0.4852\n",
      "-----------------------------\n",
      "Epoch 48\n"
     ]
    },
    {
     "data": {
      "application/vnd.jupyter.widget-view+json": {
       "model_id": "49720ab018364be18e186a52a4d1d343",
       "version_major": 2,
       "version_minor": 0
      },
      "text/plain": [
       "Training:   0%|          | 0/25 [00:00<?, ?it/s]"
      ]
     },
     "metadata": {},
     "output_type": "display_data"
    },
    {
     "data": {
      "application/vnd.jupyter.widget-view+json": {
       "model_id": "e0b93963be9740bf8ee9722b97d12aad",
       "version_major": 2,
       "version_minor": 0
      },
      "text/plain": [
       "Validation:   0%|          | 0/5 [00:00<?, ?it/s]"
      ]
     },
     "metadata": {},
     "output_type": "display_data"
    },
    {
     "name": "stdout",
     "output_type": "stream",
     "text": [
      "Train | Loss: 0.6517, Recall: 0.5115, Precision: 0.3472, F1: 0.4136\n",
      "Val   | Loss: 0.5218, Recall: 0.6201, Precision: 0.4805, F1: 0.5414\n",
      "-----------------------------\n",
      "Epoch 49\n"
     ]
    },
    {
     "data": {
      "application/vnd.jupyter.widget-view+json": {
       "model_id": "f3306dc35b854de99aeedc18b352613d",
       "version_major": 2,
       "version_minor": 0
      },
      "text/plain": [
       "Training:   0%|          | 0/25 [00:00<?, ?it/s]"
      ]
     },
     "metadata": {},
     "output_type": "display_data"
    },
    {
     "data": {
      "application/vnd.jupyter.widget-view+json": {
       "model_id": "11d1114650754d85a7a9b35be22cd05f",
       "version_major": 2,
       "version_minor": 0
      },
      "text/plain": [
       "Validation:   0%|          | 0/5 [00:00<?, ?it/s]"
      ]
     },
     "metadata": {},
     "output_type": "display_data"
    },
    {
     "name": "stdout",
     "output_type": "stream",
     "text": [
      "Train | Loss: 0.6507, Recall: 0.5219, Precision: 0.3536, F1: 0.4216\n",
      "Val   | Loss: 0.6443, Recall: 0.3189, Precision: 0.6846, F1: 0.4351\n",
      "-----------------------------\n",
      "Epoch 50\n"
     ]
    },
    {
     "data": {
      "application/vnd.jupyter.widget-view+json": {
       "model_id": "4aaa4ce332cc447e935be5cfe2673b6e",
       "version_major": 2,
       "version_minor": 0
      },
      "text/plain": [
       "Training:   0%|          | 0/25 [00:00<?, ?it/s]"
      ]
     },
     "metadata": {},
     "output_type": "display_data"
    },
    {
     "data": {
      "application/vnd.jupyter.widget-view+json": {
       "model_id": "fc0ba277cde649f1ac18fdaa03f81bd9",
       "version_major": 2,
       "version_minor": 0
      },
      "text/plain": [
       "Validation:   0%|          | 0/5 [00:00<?, ?it/s]"
      ]
     },
     "metadata": {},
     "output_type": "display_data"
    },
    {
     "name": "stdout",
     "output_type": "stream",
     "text": [
      "Train | Loss: 0.6583, Recall: 0.4998, Precision: 0.3515, F1: 0.4127\n",
      "Val   | Loss: 0.5631, Recall: 0.4550, Precision: 0.6313, F1: 0.5288\n",
      "-----------------------------\n",
      "Training Complete!\n",
      "Saved PyTorch Model to  /home/tommytang111/gap-junction-segmentation/models/sweep_model_sn6gmewx.pt\n"
     ]
    },
    {
     "data": {
      "text/html": [],
      "text/plain": [
       "<IPython.core.display.HTML object>"
      ]
     },
     "metadata": {},
     "output_type": "display_data"
    },
    {
     "data": {
      "text/html": [
       "<br>    <style><br>        .wandb-row {<br>            display: flex;<br>            flex-direction: row;<br>            flex-wrap: wrap;<br>            justify-content: flex-start;<br>            width: 100%;<br>        }<br>        .wandb-col {<br>            display: flex;<br>            flex-direction: column;<br>            flex-basis: 100%;<br>            flex: 1;<br>            padding: 10px;<br>        }<br>    </style><br><div class=\"wandb-row\"><div class=\"wandb-col\"><h3>Run history:</h3><br/><table class=\"wandb\"><tr><td>best_epoch</td><td>▁▁▁▁▂▂▂▂▂▂▃▃▃▃▃▃▃▄▄▄▄▄▄▄▅▅▆▆▆▆▇▇▇▇▇▇████</td></tr><tr><td>best_val_f1</td><td>▁▄▄▄▄▄▄▄▅▅▅▅▅▆▆▆▆▆▆▆▆▆▆▆▆▇▇▇▇▇██████████</td></tr><tr><td>best_val_loss</td><td>█▅▅▅▄▄▄▄▄▄▃▃▃▃▃▃▃▃▃▃▂▂▂▂▂▂▂▂▂▂▂▂▁▁▁▁▁▁▁▁</td></tr><tr><td>epoch</td><td>▁▁▁▁▂▂▂▂▂▃▃▃▃▃▃▄▄▄▄▄▅▅▅▅▅▅▆▆▆▆▆▆▇▇▇▇▇▇██</td></tr><tr><td>lr</td><td>▁▁▁▁▁▁▁▁▁▁▁▁▁▁▁▁▁▁▁▁▁▁▁▁▁▁▁▁▁▁▁▁▁▁▁▁▁▁▁▁</td></tr><tr><td>train_f1</td><td>▁▂▃▂▃▃▃▄▃▄▃▄▄▅▅▄▅▅▅▅▅▅▆▆▆▆▆▆▇▇▆▇█▇▇▇████</td></tr><tr><td>train_loss</td><td>█▇▇▇▆▆▅▅▅▅▅▅▄▄▄▄▄▄▄▃▃▄▃▃▃▃▃▂▃▂▂▁▂▂▁▁▂▂▁▁</td></tr><tr><td>train_precision</td><td>▁▁▁▂▂▂▂▂▂▂▂▃▃▃▃▃▃▃▄▄▄▄▄▅▅▅▅▆▆▇▇█▇▇██▇▇▇█</td></tr><tr><td>train_recall</td><td>▄▂▃▄▁▄▂▂▅▁▅▂▅▁▁▅▅▂▃▃▁▅▃▁▄▄▅▄▆▅▆▄▆▇▂▄▆█▇▆</td></tr><tr><td>val_f1</td><td>▄▁▃▄▃▃▄▅▅▅▅▅▆▅▆▃▆▆▆▆▅▆▅▆▆▆▇▇▆▆▇█▇▇▆█▇▇██</td></tr><tr><td>val_loss</td><td>█▅█▆▄█▅▅▄▄▃▄▄▃▃▄▆▃▃▃▃▃▃▂▂▃▂▂▂▃▂▁▂▂▃▂▃▃▁▂</td></tr><tr><td>val_precision</td><td>▁▂▁▂▃▁▂▄▄▄▃▄▄▃▄▂▄▄▅▄▃▄▃▅▅▄▆▅▄▇▆▅▆▄█▇▆▇▇█</td></tr><tr><td>val_recall</td><td>▅▄█▅▃█▆▁▃▂▃▅▂▃▅▅▇▃▄▄▅▃▅▃▃▅▃▄▅▂▃▅▄▆▁▂▂▃▅▃</td></tr></table><br/></div><div class=\"wandb-col\"><h3>Run summary:</h3><br/><table class=\"wandb\"><tr><td>best_epoch</td><td>47</td></tr><tr><td>best_val_f1</td><td>0.54144</td></tr><tr><td>best_val_loss</td><td>0.52181</td></tr><tr><td>epoch</td><td>50</td></tr><tr><td>lr</td><td>0.001</td></tr><tr><td>train_f1</td><td>0.41274</td></tr><tr><td>train_loss</td><td>0.65834</td></tr><tr><td>train_precision</td><td>0.35154</td></tr><tr><td>train_recall</td><td>0.49975</td></tr><tr><td>val_f1</td><td>0.52881</td></tr><tr><td>val_loss</td><td>0.56314</td></tr><tr><td>val_precision</td><td>0.63127</td></tr><tr><td>val_recall</td><td>0.45497</td></tr></table><br/></div></div>"
      ],
      "text/plain": [
       "<IPython.core.display.HTML object>"
      ]
     },
     "metadata": {},
     "output_type": "display_data"
    },
    {
     "data": {
      "text/html": [
       " View run <strong style=\"color:#cdcd00\">noble-sweep-2</strong> at: <a href='https://wandb.ai/zhen_lab/gap-junction-segmentation/runs/sn6gmewx' target=\"_blank\">https://wandb.ai/zhen_lab/gap-junction-segmentation/runs/sn6gmewx</a><br> View project at: <a href='https://wandb.ai/zhen_lab/gap-junction-segmentation' target=\"_blank\">https://wandb.ai/zhen_lab/gap-junction-segmentation</a><br>Synced 5 W&B file(s), 0 media file(s), 0 artifact file(s) and 0 other file(s)"
      ],
      "text/plain": [
       "<IPython.core.display.HTML object>"
      ]
     },
     "metadata": {},
     "output_type": "display_data"
    },
    {
     "data": {
      "text/html": [
       "Find logs at: <code>/home/tommytang111/gap-junction-segmentation/wandb/wandb/run-20250606_143140-sn6gmewx/logs</code>"
      ],
      "text/plain": [
       "<IPython.core.display.HTML object>"
      ]
     },
     "metadata": {},
     "output_type": "display_data"
    },
    {
     "name": "stderr",
     "output_type": "stream",
     "text": [
      "\u001b[34m\u001b[1mwandb\u001b[0m: Agent Starting Run: i6wipqyf with config:\n",
      "\u001b[34m\u001b[1mwandb\u001b[0m: \taugmentation: custom1\n",
      "\u001b[34m\u001b[1mwandb\u001b[0m: \tbatch_size: 8\n",
      "\u001b[34m\u001b[1mwandb\u001b[0m: \tdropout: 0\n",
      "\u001b[34m\u001b[1mwandb\u001b[0m: \tlearning_rate: 0.01\n",
      "\u001b[34m\u001b[1mwandb\u001b[0m: \tloss_function: GenDLoss\n",
      "\u001b[34m\u001b[1mwandb\u001b[0m: \toptimizer: AdamW\n",
      "\u001b[34m\u001b[1mwandb\u001b[0m: \u001b[33mWARNING\u001b[0m If you're specifying your api key in code, ensure this code is not shared publicly.\n",
      "\u001b[34m\u001b[1mwandb\u001b[0m: \u001b[33mWARNING\u001b[0m Consider setting the WANDB_API_KEY environment variable, or running `wandb login` from the command line.\n",
      "\u001b[34m\u001b[1mwandb\u001b[0m: Appending key for api.wandb.ai to your netrc file: /home/tommytang111/.netrc\n"
     ]
    },
    {
     "data": {
      "text/html": [
       "Ignoring project 'gap-junction-segmentation' when running a sweep."
      ],
      "text/plain": [
       "<IPython.core.display.HTML object>"
      ]
     },
     "metadata": {},
     "output_type": "display_data"
    },
    {
     "data": {
      "text/html": [
       "Ignoring entity 'zhen_lab' when running a sweep."
      ],
      "text/plain": [
       "<IPython.core.display.HTML object>"
      ]
     },
     "metadata": {},
     "output_type": "display_data"
    },
    {
     "data": {
      "text/html": [
       "Tracking run with wandb version 0.19.10"
      ],
      "text/plain": [
       "<IPython.core.display.HTML object>"
      ]
     },
     "metadata": {},
     "output_type": "display_data"
    },
    {
     "data": {
      "text/html": [
       "Run data is saved locally in <code>/home/tommytang111/gap-junction-segmentation/wandb/wandb/run-20250606_144439-i6wipqyf</code>"
      ],
      "text/plain": [
       "<IPython.core.display.HTML object>"
      ]
     },
     "metadata": {},
     "output_type": "display_data"
    },
    {
     "data": {
      "text/html": [
       "Syncing run <strong><a href='https://wandb.ai/zhen_lab/gap-junction-segmentation/runs/i6wipqyf' target=\"_blank\">frosty-sweep-3</a></strong> to <a href='https://wandb.ai/zhen_lab/gap-junction-segmentation' target=\"_blank\">Weights & Biases</a> (<a href='https://wandb.me/developer-guide' target=\"_blank\">docs</a>)<br>Sweep page: <a href='https://wandb.ai/zhen_lab/gap-junction-segmentation/sweeps/dwqzhjxz' target=\"_blank\">https://wandb.ai/zhen_lab/gap-junction-segmentation/sweeps/dwqzhjxz</a>"
      ],
      "text/plain": [
       "<IPython.core.display.HTML object>"
      ]
     },
     "metadata": {},
     "output_type": "display_data"
    },
    {
     "data": {
      "text/html": [
       " View project at <a href='https://wandb.ai/zhen_lab/gap-junction-segmentation' target=\"_blank\">https://wandb.ai/zhen_lab/gap-junction-segmentation</a>"
      ],
      "text/plain": [
       "<IPython.core.display.HTML object>"
      ]
     },
     "metadata": {},
     "output_type": "display_data"
    },
    {
     "data": {
      "text/html": [
       " View sweep at <a href='https://wandb.ai/zhen_lab/gap-junction-segmentation/sweeps/dwqzhjxz' target=\"_blank\">https://wandb.ai/zhen_lab/gap-junction-segmentation/sweeps/dwqzhjxz</a>"
      ],
      "text/plain": [
       "<IPython.core.display.HTML object>"
      ]
     },
     "metadata": {},
     "output_type": "display_data"
    },
    {
     "data": {
      "text/html": [
       " View run at <a href='https://wandb.ai/zhen_lab/gap-junction-segmentation/runs/i6wipqyf' target=\"_blank\">https://wandb.ai/zhen_lab/gap-junction-segmentation/runs/i6wipqyf</a>"
      ],
      "text/plain": [
       "<IPython.core.display.HTML object>"
      ]
     },
     "metadata": {},
     "output_type": "display_data"
    },
    {
     "name": "stdout",
     "output_type": "stream",
     "text": [
      "Epoch 1\n"
     ]
    },
    {
     "data": {
      "application/vnd.jupyter.widget-view+json": {
       "model_id": "f358a80d789b467d8226d133484d81ab",
       "version_major": 2,
       "version_minor": 0
      },
      "text/plain": [
       "Training:   0%|          | 0/25 [00:00<?, ?it/s]"
      ]
     },
     "metadata": {},
     "output_type": "display_data"
    },
    {
     "data": {
      "application/vnd.jupyter.widget-view+json": {
       "model_id": "9ca418ae5261423c982a9e0904043fdd",
       "version_major": 2,
       "version_minor": 0
      },
      "text/plain": [
       "Validation:   0%|          | 0/5 [00:00<?, ?it/s]"
      ]
     },
     "metadata": {},
     "output_type": "display_data"
    },
    {
     "name": "stdout",
     "output_type": "stream",
     "text": [
      "Train | Loss: 0.9543, Recall: 0.4369, Precision: 0.0182, F1: 0.0350\n",
      "Val   | Loss: 0.9183, Recall: 0.1870, Precision: 0.1096, F1: 0.1382\n",
      "-----------------------------\n",
      "Epoch 2\n"
     ]
    },
    {
     "data": {
      "application/vnd.jupyter.widget-view+json": {
       "model_id": "741cbd8c7f5f4db6a459f6df2972578a",
       "version_major": 2,
       "version_minor": 0
      },
      "text/plain": [
       "Training:   0%|          | 0/25 [00:00<?, ?it/s]"
      ]
     },
     "metadata": {},
     "output_type": "display_data"
    },
    {
     "data": {
      "application/vnd.jupyter.widget-view+json": {
       "model_id": "6d308fe9343e46ec82f5ba892713e67e",
       "version_major": 2,
       "version_minor": 0
      },
      "text/plain": [
       "Validation:   0%|          | 0/5 [00:00<?, ?it/s]"
      ]
     },
     "metadata": {},
     "output_type": "display_data"
    },
    {
     "name": "stdout",
     "output_type": "stream",
     "text": [
      "Train | Loss: 0.9598, Recall: 0.3314, Precision: 0.0143, F1: 0.0275\n",
      "Val   | Loss: 0.8609, Recall: 0.4264, Precision: 0.1174, F1: 0.1841\n",
      "-----------------------------\n",
      "Epoch 3\n"
     ]
    },
    {
     "data": {
      "application/vnd.jupyter.widget-view+json": {
       "model_id": "6c258926e9144169ba0bc4b35cfded30",
       "version_major": 2,
       "version_minor": 0
      },
      "text/plain": [
       "Training:   0%|          | 0/25 [00:00<?, ?it/s]"
      ]
     },
     "metadata": {},
     "output_type": "display_data"
    },
    {
     "data": {
      "application/vnd.jupyter.widget-view+json": {
       "model_id": "773d35fb2b1545408e0c8aa69d26c0f4",
       "version_major": 2,
       "version_minor": 0
      },
      "text/plain": [
       "Validation:   0%|          | 0/5 [00:00<?, ?it/s]"
      ]
     },
     "metadata": {},
     "output_type": "display_data"
    },
    {
     "name": "stdout",
     "output_type": "stream",
     "text": [
      "Train | Loss: 0.9303, Recall: 0.6803, Precision: 0.0348, F1: 0.0662\n",
      "Val   | Loss: 0.8749, Recall: 0.3268, Precision: 0.1275, F1: 0.1835\n",
      "-----------------------------\n",
      "Epoch 4\n"
     ]
    },
    {
     "data": {
      "application/vnd.jupyter.widget-view+json": {
       "model_id": "1bc6a5958ff74e7eb64e07bb09efd2a8",
       "version_major": 2,
       "version_minor": 0
      },
      "text/plain": [
       "Training:   0%|          | 0/25 [00:00<?, ?it/s]"
      ]
     },
     "metadata": {},
     "output_type": "display_data"
    },
    {
     "data": {
      "application/vnd.jupyter.widget-view+json": {
       "model_id": "28127215947640679e9fd76e50fc906b",
       "version_major": 2,
       "version_minor": 0
      },
      "text/plain": [
       "Validation:   0%|          | 0/5 [00:00<?, ?it/s]"
      ]
     },
     "metadata": {},
     "output_type": "display_data"
    },
    {
     "name": "stdout",
     "output_type": "stream",
     "text": [
      "Train | Loss: 0.8886, Recall: 0.4131, Precision: 0.0781, F1: 0.1313\n",
      "Val   | Loss: 0.8243, Recall: 0.4538, Precision: 0.1485, F1: 0.2238\n",
      "-----------------------------\n",
      "Epoch 5\n"
     ]
    },
    {
     "data": {
      "application/vnd.jupyter.widget-view+json": {
       "model_id": "a5a0e5b1c20140068530124af3588a99",
       "version_major": 2,
       "version_minor": 0
      },
      "text/plain": [
       "Training:   0%|          | 0/25 [00:00<?, ?it/s]"
      ]
     },
     "metadata": {},
     "output_type": "display_data"
    },
    {
     "data": {
      "application/vnd.jupyter.widget-view+json": {
       "model_id": "b9291664bf544836a9f94d1057bd73df",
       "version_major": 2,
       "version_minor": 0
      },
      "text/plain": [
       "Validation:   0%|          | 0/5 [00:00<?, ?it/s]"
      ]
     },
     "metadata": {},
     "output_type": "display_data"
    },
    {
     "name": "stdout",
     "output_type": "stream",
     "text": [
      "Train | Loss: 0.8791, Recall: 0.3479, Precision: 0.0670, F1: 0.1124\n",
      "Val   | Loss: 0.8404, Recall: 0.6857, Precision: 0.1001, F1: 0.1746\n",
      "-----------------------------\n",
      "Epoch 6\n"
     ]
    },
    {
     "data": {
      "application/vnd.jupyter.widget-view+json": {
       "model_id": "eea58f55d5c74a2baff201e6a151031c",
       "version_major": 2,
       "version_minor": 0
      },
      "text/plain": [
       "Training:   0%|          | 0/25 [00:00<?, ?it/s]"
      ]
     },
     "metadata": {},
     "output_type": "display_data"
    },
    {
     "data": {
      "application/vnd.jupyter.widget-view+json": {
       "model_id": "6750b0c0795f44e18940785e353756fc",
       "version_major": 2,
       "version_minor": 0
      },
      "text/plain": [
       "Validation:   0%|          | 0/5 [00:00<?, ?it/s]"
      ]
     },
     "metadata": {},
     "output_type": "display_data"
    },
    {
     "name": "stdout",
     "output_type": "stream",
     "text": [
      "Train | Loss: 0.9039, Recall: 0.2576, Precision: 0.0805, F1: 0.1227\n",
      "Val   | Loss: 0.9584, Recall: 0.0001, Precision: 0.0214, F1: 0.0002\n",
      "-----------------------------\n",
      "Epoch 7\n"
     ]
    },
    {
     "data": {
      "application/vnd.jupyter.widget-view+json": {
       "model_id": "74e6b7283bf646a287a1eb6c125fbe3c",
       "version_major": 2,
       "version_minor": 0
      },
      "text/plain": [
       "Training:   0%|          | 0/25 [00:00<?, ?it/s]"
      ]
     },
     "metadata": {},
     "output_type": "display_data"
    },
    {
     "data": {
      "application/vnd.jupyter.widget-view+json": {
       "model_id": "8b7c79b7340548e49ca8a9723097878f",
       "version_major": 2,
       "version_minor": 0
      },
      "text/plain": [
       "Validation:   0%|          | 0/5 [00:00<?, ?it/s]"
      ]
     },
     "metadata": {},
     "output_type": "display_data"
    },
    {
     "name": "stdout",
     "output_type": "stream",
     "text": [
      "Train | Loss: 0.8884, Recall: 0.4731, Precision: 0.0731, F1: 0.1266\n",
      "Val   | Loss: 0.8492, Recall: 0.3310, Precision: 0.1542, F1: 0.2104\n",
      "-----------------------------\n",
      "Epoch 8\n"
     ]
    },
    {
     "data": {
      "application/vnd.jupyter.widget-view+json": {
       "model_id": "f42864b508634852b26a67ea5cf9a510",
       "version_major": 2,
       "version_minor": 0
      },
      "text/plain": [
       "Training:   0%|          | 0/25 [00:00<?, ?it/s]"
      ]
     },
     "metadata": {},
     "output_type": "display_data"
    },
    {
     "data": {
      "application/vnd.jupyter.widget-view+json": {
       "model_id": "36ca5aba391b42ad8cd10d5522b266b0",
       "version_major": 2,
       "version_minor": 0
      },
      "text/plain": [
       "Validation:   0%|          | 0/5 [00:00<?, ?it/s]"
      ]
     },
     "metadata": {},
     "output_type": "display_data"
    },
    {
     "name": "stdout",
     "output_type": "stream",
     "text": [
      "Train | Loss: 0.8701, Recall: 0.3508, Precision: 0.0979, F1: 0.1531\n",
      "Val   | Loss: 0.7728, Recall: 0.3411, Precision: 0.2203, F1: 0.2677\n",
      "-----------------------------\n",
      "Epoch 9\n"
     ]
    },
    {
     "data": {
      "application/vnd.jupyter.widget-view+json": {
       "model_id": "c078bc02d6c04ac7bf442fbaf8161034",
       "version_major": 2,
       "version_minor": 0
      },
      "text/plain": [
       "Training:   0%|          | 0/25 [00:00<?, ?it/s]"
      ]
     },
     "metadata": {},
     "output_type": "display_data"
    },
    {
     "data": {
      "application/vnd.jupyter.widget-view+json": {
       "model_id": "d65442e13bd4415a8ea95aa09f92cf4a",
       "version_major": 2,
       "version_minor": 0
      },
      "text/plain": [
       "Validation:   0%|          | 0/5 [00:00<?, ?it/s]"
      ]
     },
     "metadata": {},
     "output_type": "display_data"
    },
    {
     "name": "stdout",
     "output_type": "stream",
     "text": [
      "Train | Loss: 0.8473, Recall: 0.3845, Precision: 0.1083, F1: 0.1689\n",
      "Val   | Loss: 0.7901, Recall: 0.2938, Precision: 0.2388, F1: 0.2635\n",
      "-----------------------------\n",
      "Epoch 10\n"
     ]
    },
    {
     "data": {
      "application/vnd.jupyter.widget-view+json": {
       "model_id": "6f511726946049729764186ec785c542",
       "version_major": 2,
       "version_minor": 0
      },
      "text/plain": [
       "Training:   0%|          | 0/25 [00:00<?, ?it/s]"
      ]
     },
     "metadata": {},
     "output_type": "display_data"
    },
    {
     "data": {
      "application/vnd.jupyter.widget-view+json": {
       "model_id": "33d29b6e301146d788c648be4b6cab41",
       "version_major": 2,
       "version_minor": 0
      },
      "text/plain": [
       "Validation:   0%|          | 0/5 [00:00<?, ?it/s]"
      ]
     },
     "metadata": {},
     "output_type": "display_data"
    },
    {
     "name": "stdout",
     "output_type": "stream",
     "text": [
      "Train | Loss: 0.8627, Recall: 0.3504, Precision: 0.0996, F1: 0.1551\n",
      "Val   | Loss: 0.9110, Recall: 0.0855, Precision: 0.1541, F1: 0.1100\n",
      "-----------------------------\n",
      "Epoch 11\n"
     ]
    },
    {
     "data": {
      "application/vnd.jupyter.widget-view+json": {
       "model_id": "d78a5270ba4b408a9c2c679d23f42a86",
       "version_major": 2,
       "version_minor": 0
      },
      "text/plain": [
       "Training:   0%|          | 0/25 [00:00<?, ?it/s]"
      ]
     },
     "metadata": {},
     "output_type": "display_data"
    },
    {
     "data": {
      "application/vnd.jupyter.widget-view+json": {
       "model_id": "92bc86a56fb3453fb37a4445bb7013f8",
       "version_major": 2,
       "version_minor": 0
      },
      "text/plain": [
       "Validation:   0%|          | 0/5 [00:00<?, ?it/s]"
      ]
     },
     "metadata": {},
     "output_type": "display_data"
    },
    {
     "name": "stdout",
     "output_type": "stream",
     "text": [
      "Train | Loss: 0.8562, Recall: 0.3817, Precision: 0.1037, F1: 0.1631\n",
      "Val   | Loss: 0.7516, Recall: 0.3276, Precision: 0.2442, F1: 0.2798\n",
      "-----------------------------\n",
      "Epoch 12\n"
     ]
    },
    {
     "data": {
      "application/vnd.jupyter.widget-view+json": {
       "model_id": "5179163563044ad8a272251aa875ef0e",
       "version_major": 2,
       "version_minor": 0
      },
      "text/plain": [
       "Training:   0%|          | 0/25 [00:00<?, ?it/s]"
      ]
     },
     "metadata": {},
     "output_type": "display_data"
    },
    {
     "data": {
      "application/vnd.jupyter.widget-view+json": {
       "model_id": "b2b85ca149fb41ab8c0099233579c46c",
       "version_major": 2,
       "version_minor": 0
      },
      "text/plain": [
       "Validation:   0%|          | 0/5 [00:00<?, ?it/s]"
      ]
     },
     "metadata": {},
     "output_type": "display_data"
    },
    {
     "name": "stdout",
     "output_type": "stream",
     "text": [
      "Train | Loss: 0.8441, Recall: 0.3511, Precision: 0.1036, F1: 0.1600\n",
      "Val   | Loss: 0.8680, Recall: 0.1194, Precision: 0.2335, F1: 0.1580\n",
      "-----------------------------\n",
      "Epoch 13\n"
     ]
    },
    {
     "data": {
      "application/vnd.jupyter.widget-view+json": {
       "model_id": "31b0b2c158594b97858fbd11b6127f90",
       "version_major": 2,
       "version_minor": 0
      },
      "text/plain": [
       "Training:   0%|          | 0/25 [00:00<?, ?it/s]"
      ]
     },
     "metadata": {},
     "output_type": "display_data"
    },
    {
     "data": {
      "application/vnd.jupyter.widget-view+json": {
       "model_id": "1aefa6db3cc34ff8887a1741b67db42c",
       "version_major": 2,
       "version_minor": 0
      },
      "text/plain": [
       "Validation:   0%|          | 0/5 [00:00<?, ?it/s]"
      ]
     },
     "metadata": {},
     "output_type": "display_data"
    },
    {
     "name": "stdout",
     "output_type": "stream",
     "text": [
      "Train | Loss: 0.8484, Recall: 0.3262, Precision: 0.1105, F1: 0.1651\n",
      "Val   | Loss: 0.8529, Recall: 0.1245, Precision: 0.2262, F1: 0.1606\n",
      "-----------------------------\n",
      "Epoch 14\n"
     ]
    },
    {
     "data": {
      "application/vnd.jupyter.widget-view+json": {
       "model_id": "72409e1d9a404e0ea722d69fc131cc14",
       "version_major": 2,
       "version_minor": 0
      },
      "text/plain": [
       "Training:   0%|          | 0/25 [00:00<?, ?it/s]"
      ]
     },
     "metadata": {},
     "output_type": "display_data"
    },
    {
     "data": {
      "application/vnd.jupyter.widget-view+json": {
       "model_id": "f7a7a5ee2bde439ea77eaebf626df095",
       "version_major": 2,
       "version_minor": 0
      },
      "text/plain": [
       "Validation:   0%|          | 0/5 [00:00<?, ?it/s]"
      ]
     },
     "metadata": {},
     "output_type": "display_data"
    },
    {
     "name": "stdout",
     "output_type": "stream",
     "text": [
      "Train | Loss: 0.8587, Recall: 0.4344, Precision: 0.0917, F1: 0.1514\n",
      "Val   | Loss: 0.8629, Recall: 0.1776, Precision: 0.2346, F1: 0.2022\n",
      "-----------------------------\n",
      "Epoch 15\n"
     ]
    },
    {
     "data": {
      "application/vnd.jupyter.widget-view+json": {
       "model_id": "965fbc3cb21a4893abceee3f687762a7",
       "version_major": 2,
       "version_minor": 0
      },
      "text/plain": [
       "Training:   0%|          | 0/25 [00:00<?, ?it/s]"
      ]
     },
     "metadata": {},
     "output_type": "display_data"
    },
    {
     "data": {
      "application/vnd.jupyter.widget-view+json": {
       "model_id": "0cbef2a2e88a45f48fd9249dbe85ead3",
       "version_major": 2,
       "version_minor": 0
      },
      "text/plain": [
       "Validation:   0%|          | 0/5 [00:00<?, ?it/s]"
      ]
     },
     "metadata": {},
     "output_type": "display_data"
    },
    {
     "name": "stdout",
     "output_type": "stream",
     "text": [
      "Train | Loss: 0.8410, Recall: 0.3933, Precision: 0.1059, F1: 0.1669\n",
      "Val   | Loss: 0.7504, Recall: 0.3279, Precision: 0.2575, F1: 0.2885\n",
      "-----------------------------\n",
      "Epoch 16\n"
     ]
    },
    {
     "data": {
      "application/vnd.jupyter.widget-view+json": {
       "model_id": "957a72705ea4452782efa4fc30efb25e",
       "version_major": 2,
       "version_minor": 0
      },
      "text/plain": [
       "Training:   0%|          | 0/25 [00:00<?, ?it/s]"
      ]
     },
     "metadata": {},
     "output_type": "display_data"
    },
    {
     "data": {
      "application/vnd.jupyter.widget-view+json": {
       "model_id": "8b2258d2061048bba4fd2117f4ec4abe",
       "version_major": 2,
       "version_minor": 0
      },
      "text/plain": [
       "Validation:   0%|          | 0/5 [00:00<?, ?it/s]"
      ]
     },
     "metadata": {},
     "output_type": "display_data"
    },
    {
     "name": "stdout",
     "output_type": "stream",
     "text": [
      "Train | Loss: 0.8497, Recall: 0.4373, Precision: 0.1025, F1: 0.1661\n",
      "Val   | Loss: 0.7758, Recall: 0.3120, Precision: 0.2304, F1: 0.2651\n",
      "-----------------------------\n",
      "Epoch 17\n"
     ]
    },
    {
     "data": {
      "application/vnd.jupyter.widget-view+json": {
       "model_id": "b0a59462b7f045da915eb90510a7fbd9",
       "version_major": 2,
       "version_minor": 0
      },
      "text/plain": [
       "Training:   0%|          | 0/25 [00:00<?, ?it/s]"
      ]
     },
     "metadata": {},
     "output_type": "display_data"
    },
    {
     "data": {
      "application/vnd.jupyter.widget-view+json": {
       "model_id": "df02ee1836d54c90b2d37f2a999bb10c",
       "version_major": 2,
       "version_minor": 0
      },
      "text/plain": [
       "Validation:   0%|          | 0/5 [00:00<?, ?it/s]"
      ]
     },
     "metadata": {},
     "output_type": "display_data"
    },
    {
     "name": "stdout",
     "output_type": "stream",
     "text": [
      "Train | Loss: 0.8457, Recall: 0.3313, Precision: 0.1068, F1: 0.1615\n",
      "Val   | Loss: 0.7396, Recall: 0.2985, Precision: 0.2634, F1: 0.2799\n",
      "-----------------------------\n",
      "Epoch 18\n"
     ]
    },
    {
     "data": {
      "application/vnd.jupyter.widget-view+json": {
       "model_id": "2cea0469c614459194359c99c3e6c7d3",
       "version_major": 2,
       "version_minor": 0
      },
      "text/plain": [
       "Training:   0%|          | 0/25 [00:00<?, ?it/s]"
      ]
     },
     "metadata": {},
     "output_type": "display_data"
    },
    {
     "data": {
      "application/vnd.jupyter.widget-view+json": {
       "model_id": "a97ff4161f8b440ab40c72ae7fe3a99d",
       "version_major": 2,
       "version_minor": 0
      },
      "text/plain": [
       "Validation:   0%|          | 0/5 [00:00<?, ?it/s]"
      ]
     },
     "metadata": {},
     "output_type": "display_data"
    },
    {
     "name": "stdout",
     "output_type": "stream",
     "text": [
      "Train | Loss: 0.8278, Recall: 0.3755, Precision: 0.1147, F1: 0.1757\n",
      "Val   | Loss: 0.8869, Recall: 0.1158, Precision: 0.2768, F1: 0.1633\n",
      "-----------------------------\n",
      "Epoch 19\n"
     ]
    },
    {
     "data": {
      "application/vnd.jupyter.widget-view+json": {
       "model_id": "48aa80d28fff4f6bb590ffe44267577a",
       "version_major": 2,
       "version_minor": 0
      },
      "text/plain": [
       "Training:   0%|          | 0/25 [00:00<?, ?it/s]"
      ]
     },
     "metadata": {},
     "output_type": "display_data"
    },
    {
     "data": {
      "application/vnd.jupyter.widget-view+json": {
       "model_id": "c126eede56e3485ebb815fa2c5f55e56",
       "version_major": 2,
       "version_minor": 0
      },
      "text/plain": [
       "Validation:   0%|          | 0/5 [00:00<?, ?it/s]"
      ]
     },
     "metadata": {},
     "output_type": "display_data"
    },
    {
     "name": "stdout",
     "output_type": "stream",
     "text": [
      "Train | Loss: 0.8439, Recall: 0.3546, Precision: 0.1173, F1: 0.1763\n",
      "Val   | Loss: 0.7420, Recall: 0.3254, Precision: 0.2520, F1: 0.2840\n",
      "-----------------------------\n",
      "Epoch 20\n"
     ]
    },
    {
     "data": {
      "application/vnd.jupyter.widget-view+json": {
       "model_id": "79284ee9e8a344349c76e11f514d12de",
       "version_major": 2,
       "version_minor": 0
      },
      "text/plain": [
       "Training:   0%|          | 0/25 [00:00<?, ?it/s]"
      ]
     },
     "metadata": {},
     "output_type": "display_data"
    },
    {
     "data": {
      "application/vnd.jupyter.widget-view+json": {
       "model_id": "7246af1bc6bb4be182185f6f663be4dc",
       "version_major": 2,
       "version_minor": 0
      },
      "text/plain": [
       "Validation:   0%|          | 0/5 [00:00<?, ?it/s]"
      ]
     },
     "metadata": {},
     "output_type": "display_data"
    },
    {
     "name": "stdout",
     "output_type": "stream",
     "text": [
      "Train | Loss: 0.8495, Recall: 0.3783, Precision: 0.1011, F1: 0.1595\n",
      "Val   | Loss: 0.7290, Recall: 0.3942, Precision: 0.2005, F1: 0.2658\n",
      "-----------------------------\n",
      "Epoch 21\n"
     ]
    },
    {
     "data": {
      "application/vnd.jupyter.widget-view+json": {
       "model_id": "b9adaad2f3d943139e23d8a077f69f74",
       "version_major": 2,
       "version_minor": 0
      },
      "text/plain": [
       "Training:   0%|          | 0/25 [00:00<?, ?it/s]"
      ]
     },
     "metadata": {},
     "output_type": "display_data"
    },
    {
     "data": {
      "application/vnd.jupyter.widget-view+json": {
       "model_id": "f00624596673434b9cee35b83daa156a",
       "version_major": 2,
       "version_minor": 0
      },
      "text/plain": [
       "Validation:   0%|          | 0/5 [00:00<?, ?it/s]"
      ]
     },
     "metadata": {},
     "output_type": "display_data"
    },
    {
     "name": "stdout",
     "output_type": "stream",
     "text": [
      "Train | Loss: 0.8311, Recall: 0.3708, Precision: 0.1241, F1: 0.1860\n",
      "Val   | Loss: 0.7266, Recall: 0.3930, Precision: 0.2204, F1: 0.2824\n",
      "-----------------------------\n",
      "Epoch 22\n"
     ]
    },
    {
     "data": {
      "application/vnd.jupyter.widget-view+json": {
       "model_id": "9009db36ad6647fcbad99e2a5221ef13",
       "version_major": 2,
       "version_minor": 0
      },
      "text/plain": [
       "Training:   0%|          | 0/25 [00:00<?, ?it/s]"
      ]
     },
     "metadata": {},
     "output_type": "display_data"
    },
    {
     "data": {
      "application/vnd.jupyter.widget-view+json": {
       "model_id": "7baab35d2c7b4d69a7b8d94060082dd4",
       "version_major": 2,
       "version_minor": 0
      },
      "text/plain": [
       "Validation:   0%|          | 0/5 [00:00<?, ?it/s]"
      ]
     },
     "metadata": {},
     "output_type": "display_data"
    },
    {
     "name": "stdout",
     "output_type": "stream",
     "text": [
      "Train | Loss: 0.8340, Recall: 0.3956, Precision: 0.1066, F1: 0.1679\n",
      "Val   | Loss: 0.7281, Recall: 0.3832, Precision: 0.2189, F1: 0.2786\n",
      "-----------------------------\n",
      "Epoch 23\n"
     ]
    },
    {
     "data": {
      "application/vnd.jupyter.widget-view+json": {
       "model_id": "54ec4f0fa20648698e14c4d0c5deb3ed",
       "version_major": 2,
       "version_minor": 0
      },
      "text/plain": [
       "Training:   0%|          | 0/25 [00:00<?, ?it/s]"
      ]
     },
     "metadata": {},
     "output_type": "display_data"
    },
    {
     "data": {
      "application/vnd.jupyter.widget-view+json": {
       "model_id": "25e1ec70d6184ed082e2435772765f51",
       "version_major": 2,
       "version_minor": 0
      },
      "text/plain": [
       "Validation:   0%|          | 0/5 [00:00<?, ?it/s]"
      ]
     },
     "metadata": {},
     "output_type": "display_data"
    },
    {
     "name": "stdout",
     "output_type": "stream",
     "text": [
      "Train | Loss: 0.8452, Recall: 0.3433, Precision: 0.1064, F1: 0.1624\n",
      "Val   | Loss: 0.7314, Recall: 0.3399, Precision: 0.2434, F1: 0.2837\n",
      "-----------------------------\n",
      "Epoch 24\n"
     ]
    },
    {
     "data": {
      "application/vnd.jupyter.widget-view+json": {
       "model_id": "9cb0e08ea7ff423199a5e974b8a61a4d",
       "version_major": 2,
       "version_minor": 0
      },
      "text/plain": [
       "Training:   0%|          | 0/25 [00:00<?, ?it/s]"
      ]
     },
     "metadata": {},
     "output_type": "display_data"
    },
    {
     "data": {
      "application/vnd.jupyter.widget-view+json": {
       "model_id": "9cc67d8de7924343ae4a9156b36ccf68",
       "version_major": 2,
       "version_minor": 0
      },
      "text/plain": [
       "Validation:   0%|          | 0/5 [00:00<?, ?it/s]"
      ]
     },
     "metadata": {},
     "output_type": "display_data"
    },
    {
     "name": "stdout",
     "output_type": "stream",
     "text": [
      "Train | Loss: 0.8457, Recall: 0.3194, Precision: 0.1229, F1: 0.1774\n",
      "Val   | Loss: 0.7514, Recall: 0.3216, Precision: 0.2401, F1: 0.2750\n",
      "-----------------------------\n",
      "Epoch 25\n"
     ]
    },
    {
     "data": {
      "application/vnd.jupyter.widget-view+json": {
       "model_id": "9d2e645fd8134013b499a3b14b4ca155",
       "version_major": 2,
       "version_minor": 0
      },
      "text/plain": [
       "Training:   0%|          | 0/25 [00:00<?, ?it/s]"
      ]
     },
     "metadata": {},
     "output_type": "display_data"
    },
    {
     "data": {
      "application/vnd.jupyter.widget-view+json": {
       "model_id": "cb6bff57621c4a2dbfe03745d65d275e",
       "version_major": 2,
       "version_minor": 0
      },
      "text/plain": [
       "Validation:   0%|          | 0/5 [00:00<?, ?it/s]"
      ]
     },
     "metadata": {},
     "output_type": "display_data"
    },
    {
     "name": "stdout",
     "output_type": "stream",
     "text": [
      "Train | Loss: 0.8290, Recall: 0.3991, Precision: 0.1162, F1: 0.1800\n",
      "Val   | Loss: 0.7217, Recall: 0.4159, Precision: 0.2027, F1: 0.2726\n",
      "-----------------------------\n",
      "Epoch 26\n"
     ]
    },
    {
     "data": {
      "application/vnd.jupyter.widget-view+json": {
       "model_id": "b1ba17b4e1d149dc9952d56d03805b49",
       "version_major": 2,
       "version_minor": 0
      },
      "text/plain": [
       "Training:   0%|          | 0/25 [00:00<?, ?it/s]"
      ]
     },
     "metadata": {},
     "output_type": "display_data"
    },
    {
     "data": {
      "application/vnd.jupyter.widget-view+json": {
       "model_id": "66a5073d4d044aa498c0d13728dec320",
       "version_major": 2,
       "version_minor": 0
      },
      "text/plain": [
       "Validation:   0%|          | 0/5 [00:00<?, ?it/s]"
      ]
     },
     "metadata": {},
     "output_type": "display_data"
    },
    {
     "name": "stdout",
     "output_type": "stream",
     "text": [
      "Train | Loss: 0.8453, Recall: 0.3445, Precision: 0.1172, F1: 0.1749\n",
      "Val   | Loss: 0.7495, Recall: 0.5482, Precision: 0.1721, F1: 0.2620\n",
      "-----------------------------\n",
      "Epoch 27\n"
     ]
    },
    {
     "data": {
      "application/vnd.jupyter.widget-view+json": {
       "model_id": "07a697d15e3c4d67a61cd3822bec16c9",
       "version_major": 2,
       "version_minor": 0
      },
      "text/plain": [
       "Training:   0%|          | 0/25 [00:00<?, ?it/s]"
      ]
     },
     "metadata": {},
     "output_type": "display_data"
    },
    {
     "data": {
      "application/vnd.jupyter.widget-view+json": {
       "model_id": "de662adf819044e580be0478a3ec2059",
       "version_major": 2,
       "version_minor": 0
      },
      "text/plain": [
       "Validation:   0%|          | 0/5 [00:00<?, ?it/s]"
      ]
     },
     "metadata": {},
     "output_type": "display_data"
    },
    {
     "name": "stdout",
     "output_type": "stream",
     "text": [
      "Train | Loss: 0.8225, Recall: 0.3718, Precision: 0.1318, F1: 0.1946\n",
      "Val   | Loss: 0.9583, Recall: 0.0000, Precision: 0.0000, F1: 0.0000\n",
      "-----------------------------\n",
      "Epoch 28\n"
     ]
    },
    {
     "data": {
      "application/vnd.jupyter.widget-view+json": {
       "model_id": "11bd0d7cd98546ca8c7bfbc1b6073654",
       "version_major": 2,
       "version_minor": 0
      },
      "text/plain": [
       "Training:   0%|          | 0/25 [00:00<?, ?it/s]"
      ]
     },
     "metadata": {},
     "output_type": "display_data"
    },
    {
     "data": {
      "application/vnd.jupyter.widget-view+json": {
       "model_id": "4f4cb7a191a94c7cb9b7628ef4b431c3",
       "version_major": 2,
       "version_minor": 0
      },
      "text/plain": [
       "Validation:   0%|          | 0/5 [00:00<?, ?it/s]"
      ]
     },
     "metadata": {},
     "output_type": "display_data"
    },
    {
     "name": "stdout",
     "output_type": "stream",
     "text": [
      "Train | Loss: 0.8609, Recall: 0.3767, Precision: 0.0923, F1: 0.1482\n",
      "Val   | Loss: 0.7906, Recall: 0.2958, Precision: 0.2290, F1: 0.2581\n",
      "-----------------------------\n",
      "Epoch 29\n"
     ]
    },
    {
     "data": {
      "application/vnd.jupyter.widget-view+json": {
       "model_id": "32b8fa7df1f74ebb891f4ba536becdd5",
       "version_major": 2,
       "version_minor": 0
      },
      "text/plain": [
       "Training:   0%|          | 0/25 [00:00<?, ?it/s]"
      ]
     },
     "metadata": {},
     "output_type": "display_data"
    },
    {
     "data": {
      "application/vnd.jupyter.widget-view+json": {
       "model_id": "183a511caf584464bfbf8c9731327677",
       "version_major": 2,
       "version_minor": 0
      },
      "text/plain": [
       "Validation:   0%|          | 0/5 [00:00<?, ?it/s]"
      ]
     },
     "metadata": {},
     "output_type": "display_data"
    },
    {
     "name": "stdout",
     "output_type": "stream",
     "text": [
      "Train | Loss: 0.8472, Recall: 0.3708, Precision: 0.1097, F1: 0.1693\n",
      "Val   | Loss: 0.7547, Recall: 0.4005, Precision: 0.2024, F1: 0.2689\n",
      "-----------------------------\n",
      "Epoch 30\n"
     ]
    },
    {
     "data": {
      "application/vnd.jupyter.widget-view+json": {
       "model_id": "9186e2531df74f9f9f0fc87188fccd90",
       "version_major": 2,
       "version_minor": 0
      },
      "text/plain": [
       "Training:   0%|          | 0/25 [00:00<?, ?it/s]"
      ]
     },
     "metadata": {},
     "output_type": "display_data"
    },
    {
     "data": {
      "application/vnd.jupyter.widget-view+json": {
       "model_id": "ae120460e73f44a58ee407f5cbadca17",
       "version_major": 2,
       "version_minor": 0
      },
      "text/plain": [
       "Validation:   0%|          | 0/5 [00:00<?, ?it/s]"
      ]
     },
     "metadata": {},
     "output_type": "display_data"
    },
    {
     "name": "stdout",
     "output_type": "stream",
     "text": [
      "Train | Loss: 0.8293, Recall: 0.4101, Precision: 0.1223, F1: 0.1885\n",
      "Val   | Loss: 0.7364, Recall: 0.3592, Precision: 0.2209, F1: 0.2736\n",
      "-----------------------------\n",
      "Epoch 31\n"
     ]
    },
    {
     "data": {
      "application/vnd.jupyter.widget-view+json": {
       "model_id": "b283dc9e5a25425085c9d8af9d3b9d39",
       "version_major": 2,
       "version_minor": 0
      },
      "text/plain": [
       "Training:   0%|          | 0/25 [00:00<?, ?it/s]"
      ]
     },
     "metadata": {},
     "output_type": "display_data"
    },
    {
     "data": {
      "application/vnd.jupyter.widget-view+json": {
       "model_id": "e9ec7f2d7c074c4fbe852621757156b4",
       "version_major": 2,
       "version_minor": 0
      },
      "text/plain": [
       "Validation:   0%|          | 0/5 [00:00<?, ?it/s]"
      ]
     },
     "metadata": {},
     "output_type": "display_data"
    },
    {
     "name": "stdout",
     "output_type": "stream",
     "text": [
      "Train | Loss: 0.8324, Recall: 0.3823, Precision: 0.1147, F1: 0.1765\n",
      "Val   | Loss: 0.6995, Recall: 0.4676, Precision: 0.2051, F1: 0.2851\n",
      "-----------------------------\n",
      "Epoch 32\n"
     ]
    },
    {
     "data": {
      "application/vnd.jupyter.widget-view+json": {
       "model_id": "d401130fcca44fa18d386a2e00efcb8a",
       "version_major": 2,
       "version_minor": 0
      },
      "text/plain": [
       "Training:   0%|          | 0/25 [00:00<?, ?it/s]"
      ]
     },
     "metadata": {},
     "output_type": "display_data"
    },
    {
     "data": {
      "application/vnd.jupyter.widget-view+json": {
       "model_id": "0eaf752278a24ef9ad9e8178b753f5f2",
       "version_major": 2,
       "version_minor": 0
      },
      "text/plain": [
       "Validation:   0%|          | 0/5 [00:00<?, ?it/s]"
      ]
     },
     "metadata": {},
     "output_type": "display_data"
    },
    {
     "name": "stdout",
     "output_type": "stream",
     "text": [
      "Train | Loss: 0.8114, Recall: 0.3731, Precision: 0.1319, F1: 0.1948\n",
      "Val   | Loss: 0.9545, Recall: 0.0054, Precision: 0.3231, F1: 0.0106\n",
      "-----------------------------\n",
      "Epoch 33\n"
     ]
    },
    {
     "data": {
      "application/vnd.jupyter.widget-view+json": {
       "model_id": "a763f15921434255bd22a87a71ab04e5",
       "version_major": 2,
       "version_minor": 0
      },
      "text/plain": [
       "Training:   0%|          | 0/25 [00:00<?, ?it/s]"
      ]
     },
     "metadata": {},
     "output_type": "display_data"
    },
    {
     "data": {
      "application/vnd.jupyter.widget-view+json": {
       "model_id": "6d8f2464cb6442fd88461eaf03e2b69f",
       "version_major": 2,
       "version_minor": 0
      },
      "text/plain": [
       "Validation:   0%|          | 0/5 [00:00<?, ?it/s]"
      ]
     },
     "metadata": {},
     "output_type": "display_data"
    },
    {
     "name": "stdout",
     "output_type": "stream",
     "text": [
      "Train | Loss: 0.7949, Recall: 0.4496, Precision: 0.1370, F1: 0.2100\n",
      "Val   | Loss: 0.9413, Recall: 0.0211, Precision: 0.4205, F1: 0.0402\n",
      "-----------------------------\n",
      "Epoch 34\n"
     ]
    },
    {
     "data": {
      "application/vnd.jupyter.widget-view+json": {
       "model_id": "bf44b7e391e94e94a3628e36f4f957b2",
       "version_major": 2,
       "version_minor": 0
      },
      "text/plain": [
       "Training:   0%|          | 0/25 [00:00<?, ?it/s]"
      ]
     },
     "metadata": {},
     "output_type": "display_data"
    },
    {
     "data": {
      "application/vnd.jupyter.widget-view+json": {
       "model_id": "f9a29737795d47bfa2034e20efb4476f",
       "version_major": 2,
       "version_minor": 0
      },
      "text/plain": [
       "Validation:   0%|          | 0/5 [00:00<?, ?it/s]"
      ]
     },
     "metadata": {},
     "output_type": "display_data"
    },
    {
     "name": "stdout",
     "output_type": "stream",
     "text": [
      "Train | Loss: 0.8181, Recall: 0.4123, Precision: 0.1099, F1: 0.1735\n",
      "Val   | Loss: 0.7835, Recall: 0.2478, Precision: 0.2927, F1: 0.2684\n",
      "-----------------------------\n",
      "Epoch 35\n"
     ]
    },
    {
     "data": {
      "application/vnd.jupyter.widget-view+json": {
       "model_id": "2574bbec628d419680d666a9dfedcf02",
       "version_major": 2,
       "version_minor": 0
      },
      "text/plain": [
       "Training:   0%|          | 0/25 [00:00<?, ?it/s]"
      ]
     },
     "metadata": {},
     "output_type": "display_data"
    },
    {
     "data": {
      "application/vnd.jupyter.widget-view+json": {
       "model_id": "125e849059624e009d030fab4b6ef4f4",
       "version_major": 2,
       "version_minor": 0
      },
      "text/plain": [
       "Validation:   0%|          | 0/5 [00:00<?, ?it/s]"
      ]
     },
     "metadata": {},
     "output_type": "display_data"
    },
    {
     "name": "stdout",
     "output_type": "stream",
     "text": [
      "Train | Loss: 0.8244, Recall: 0.3321, Precision: 0.1280, F1: 0.1848\n",
      "Val   | Loss: 0.7877, Recall: 0.6726, Precision: 0.1344, F1: 0.2241\n",
      "-----------------------------\n",
      "Epoch 36\n"
     ]
    },
    {
     "data": {
      "application/vnd.jupyter.widget-view+json": {
       "model_id": "b42f4edc63c44f3f8f6c94b71c9f682a",
       "version_major": 2,
       "version_minor": 0
      },
      "text/plain": [
       "Training:   0%|          | 0/25 [00:00<?, ?it/s]"
      ]
     },
     "metadata": {},
     "output_type": "display_data"
    },
    {
     "data": {
      "application/vnd.jupyter.widget-view+json": {
       "model_id": "764ca5d87cb94cbcaeb65617af438733",
       "version_major": 2,
       "version_minor": 0
      },
      "text/plain": [
       "Validation:   0%|          | 0/5 [00:00<?, ?it/s]"
      ]
     },
     "metadata": {},
     "output_type": "display_data"
    },
    {
     "name": "stdout",
     "output_type": "stream",
     "text": [
      "Train | Loss: 0.8091, Recall: 0.4557, Precision: 0.1023, F1: 0.1670\n",
      "Val   | Loss: 0.7288, Recall: 0.4207, Precision: 0.2088, F1: 0.2791\n",
      "-----------------------------\n",
      "Epoch 37\n"
     ]
    },
    {
     "data": {
      "application/vnd.jupyter.widget-view+json": {
       "model_id": "9ba23784138a4dd5a919535e83dc9328",
       "version_major": 2,
       "version_minor": 0
      },
      "text/plain": [
       "Training:   0%|          | 0/25 [00:00<?, ?it/s]"
      ]
     },
     "metadata": {},
     "output_type": "display_data"
    },
    {
     "data": {
      "application/vnd.jupyter.widget-view+json": {
       "model_id": "ad99bd438605410c941f715453bd8c5c",
       "version_major": 2,
       "version_minor": 0
      },
      "text/plain": [
       "Validation:   0%|          | 0/5 [00:00<?, ?it/s]"
      ]
     },
     "metadata": {},
     "output_type": "display_data"
    },
    {
     "name": "stdout",
     "output_type": "stream",
     "text": [
      "Train | Loss: 0.8790, Recall: 0.3408, Precision: 0.0863, F1: 0.1377\n",
      "Val   | Loss: 0.8222, Recall: 0.5020, Precision: 0.1151, F1: 0.1872\n",
      "-----------------------------\n",
      "Epoch 38\n"
     ]
    },
    {
     "data": {
      "application/vnd.jupyter.widget-view+json": {
       "model_id": "b42f01c0e243488b91331994e8268f25",
       "version_major": 2,
       "version_minor": 0
      },
      "text/plain": [
       "Training:   0%|          | 0/25 [00:00<?, ?it/s]"
      ]
     },
     "metadata": {},
     "output_type": "display_data"
    },
    {
     "data": {
      "application/vnd.jupyter.widget-view+json": {
       "model_id": "95b18f22ad494baab1c4b5f5c54f7361",
       "version_major": 2,
       "version_minor": 0
      },
      "text/plain": [
       "Validation:   0%|          | 0/5 [00:00<?, ?it/s]"
      ]
     },
     "metadata": {},
     "output_type": "display_data"
    },
    {
     "name": "stdout",
     "output_type": "stream",
     "text": [
      "Train | Loss: 0.8800, Recall: 0.3150, Precision: 0.0826, F1: 0.1308\n",
      "Val   | Loss: 0.7669, Recall: 0.3613, Precision: 0.1798, F1: 0.2402\n",
      "-----------------------------\n",
      "Epoch 39\n"
     ]
    },
    {
     "data": {
      "application/vnd.jupyter.widget-view+json": {
       "model_id": "8813c419d58a4acd8d9f70429f3c405a",
       "version_major": 2,
       "version_minor": 0
      },
      "text/plain": [
       "Training:   0%|          | 0/25 [00:00<?, ?it/s]"
      ]
     },
     "metadata": {},
     "output_type": "display_data"
    },
    {
     "data": {
      "application/vnd.jupyter.widget-view+json": {
       "model_id": "2b809794d35e4565ae7b55e90cdfb828",
       "version_major": 2,
       "version_minor": 0
      },
      "text/plain": [
       "Validation:   0%|          | 0/5 [00:00<?, ?it/s]"
      ]
     },
     "metadata": {},
     "output_type": "display_data"
    },
    {
     "name": "stdout",
     "output_type": "stream",
     "text": [
      "Train | Loss: 0.8698, Recall: 0.2949, Precision: 0.0993, F1: 0.1485\n",
      "Val   | Loss: 0.7675, Recall: 0.4621, Precision: 0.1617, F1: 0.2395\n",
      "-----------------------------\n",
      "Epoch 40\n"
     ]
    },
    {
     "data": {
      "application/vnd.jupyter.widget-view+json": {
       "model_id": "3c67fe62470547c7a25c7e626f00e0ce",
       "version_major": 2,
       "version_minor": 0
      },
      "text/plain": [
       "Training:   0%|          | 0/25 [00:00<?, ?it/s]"
      ]
     },
     "metadata": {},
     "output_type": "display_data"
    },
    {
     "data": {
      "application/vnd.jupyter.widget-view+json": {
       "model_id": "5127e7c5289b4ff8b46d5aafd65cf5f4",
       "version_major": 2,
       "version_minor": 0
      },
      "text/plain": [
       "Validation:   0%|          | 0/5 [00:00<?, ?it/s]"
      ]
     },
     "metadata": {},
     "output_type": "display_data"
    },
    {
     "name": "stdout",
     "output_type": "stream",
     "text": [
      "Train | Loss: 0.8664, Recall: 0.3208, Precision: 0.1160, F1: 0.1704\n",
      "Val   | Loss: 0.7438, Recall: 0.4468, Precision: 0.1860, F1: 0.2626\n",
      "-----------------------------\n",
      "Epoch 41\n"
     ]
    },
    {
     "data": {
      "application/vnd.jupyter.widget-view+json": {
       "model_id": "0674d9b56fcc4de5b8c34e2adbd4ecdd",
       "version_major": 2,
       "version_minor": 0
      },
      "text/plain": [
       "Training:   0%|          | 0/25 [00:00<?, ?it/s]"
      ]
     },
     "metadata": {},
     "output_type": "display_data"
    },
    {
     "data": {
      "application/vnd.jupyter.widget-view+json": {
       "model_id": "9253ddbaa6774472b7d7367b3249220e",
       "version_major": 2,
       "version_minor": 0
      },
      "text/plain": [
       "Validation:   0%|          | 0/5 [00:00<?, ?it/s]"
      ]
     },
     "metadata": {},
     "output_type": "display_data"
    },
    {
     "name": "stdout",
     "output_type": "stream",
     "text": [
      "Train | Loss: 0.8516, Recall: 0.3454, Precision: 0.1066, F1: 0.1629\n",
      "Val   | Loss: 0.7267, Recall: 0.3491, Precision: 0.2418, F1: 0.2857\n",
      "-----------------------------\n",
      "Epoch 42\n"
     ]
    },
    {
     "data": {
      "application/vnd.jupyter.widget-view+json": {
       "model_id": "e77d59621a9e49619339196dd9b952e7",
       "version_major": 2,
       "version_minor": 0
      },
      "text/plain": [
       "Training:   0%|          | 0/25 [00:00<?, ?it/s]"
      ]
     },
     "metadata": {},
     "output_type": "display_data"
    },
    {
     "data": {
      "application/vnd.jupyter.widget-view+json": {
       "model_id": "12035c18c34041d093093ec384fcc814",
       "version_major": 2,
       "version_minor": 0
      },
      "text/plain": [
       "Validation:   0%|          | 0/5 [00:00<?, ?it/s]"
      ]
     },
     "metadata": {},
     "output_type": "display_data"
    },
    {
     "name": "stdout",
     "output_type": "stream",
     "text": [
      "Train | Loss: 0.8320, Recall: 0.3451, Precision: 0.1163, F1: 0.1740\n",
      "Val   | Loss: 0.7594, Recall: 0.3280, Precision: 0.2376, F1: 0.2756\n",
      "-----------------------------\n",
      "Epoch 43\n"
     ]
    },
    {
     "data": {
      "application/vnd.jupyter.widget-view+json": {
       "model_id": "99da1fcf569b4324b30b9dce16a3c2a9",
       "version_major": 2,
       "version_minor": 0
      },
      "text/plain": [
       "Training:   0%|          | 0/25 [00:00<?, ?it/s]"
      ]
     },
     "metadata": {},
     "output_type": "display_data"
    },
    {
     "data": {
      "application/vnd.jupyter.widget-view+json": {
       "model_id": "3e7b611c74af4bbbb6e39f2f31ca7996",
       "version_major": 2,
       "version_minor": 0
      },
      "text/plain": [
       "Validation:   0%|          | 0/5 [00:00<?, ?it/s]"
      ]
     },
     "metadata": {},
     "output_type": "display_data"
    },
    {
     "name": "stdout",
     "output_type": "stream",
     "text": [
      "Train | Loss: 0.8221, Recall: 0.3794, Precision: 0.1219, F1: 0.1845\n",
      "Val   | Loss: 0.7590, Recall: 0.5669, Precision: 0.1596, F1: 0.2490\n",
      "-----------------------------\n",
      "Epoch 44\n"
     ]
    },
    {
     "data": {
      "application/vnd.jupyter.widget-view+json": {
       "model_id": "0ed6bf684de746f4bee943a1ddd08f07",
       "version_major": 2,
       "version_minor": 0
      },
      "text/plain": [
       "Training:   0%|          | 0/25 [00:00<?, ?it/s]"
      ]
     },
     "metadata": {},
     "output_type": "display_data"
    },
    {
     "data": {
      "application/vnd.jupyter.widget-view+json": {
       "model_id": "97c88309fc7a44e790a4d2b56c275c29",
       "version_major": 2,
       "version_minor": 0
      },
      "text/plain": [
       "Validation:   0%|          | 0/5 [00:00<?, ?it/s]"
      ]
     },
     "metadata": {},
     "output_type": "display_data"
    },
    {
     "name": "stdout",
     "output_type": "stream",
     "text": [
      "Train | Loss: 0.8155, Recall: 0.4207, Precision: 0.1339, F1: 0.2032\n",
      "Val   | Loss: 0.8995, Recall: 0.0939, Precision: 0.3838, F1: 0.1509\n",
      "-----------------------------\n",
      "Epoch 45\n"
     ]
    },
    {
     "data": {
      "application/vnd.jupyter.widget-view+json": {
       "model_id": "3261c8eee52640c5b62a9336d944482d",
       "version_major": 2,
       "version_minor": 0
      },
      "text/plain": [
       "Training:   0%|          | 0/25 [00:00<?, ?it/s]"
      ]
     },
     "metadata": {},
     "output_type": "display_data"
    },
    {
     "data": {
      "application/vnd.jupyter.widget-view+json": {
       "model_id": "bc23c9c49c714a7ebf360e04bcbf60c8",
       "version_major": 2,
       "version_minor": 0
      },
      "text/plain": [
       "Validation:   0%|          | 0/5 [00:00<?, ?it/s]"
      ]
     },
     "metadata": {},
     "output_type": "display_data"
    },
    {
     "name": "stdout",
     "output_type": "stream",
     "text": [
      "Train | Loss: 0.8125, Recall: 0.3746, Precision: 0.1328, F1: 0.1961\n",
      "Val   | Loss: 0.8041, Recall: 0.2227, Precision: 0.2768, F1: 0.2468\n",
      "-----------------------------\n",
      "Epoch 46\n"
     ]
    },
    {
     "data": {
      "application/vnd.jupyter.widget-view+json": {
       "model_id": "a9f67125c76d42da9fd9a89b115dd97d",
       "version_major": 2,
       "version_minor": 0
      },
      "text/plain": [
       "Training:   0%|          | 0/25 [00:00<?, ?it/s]"
      ]
     },
     "metadata": {},
     "output_type": "display_data"
    },
    {
     "data": {
      "application/vnd.jupyter.widget-view+json": {
       "model_id": "b326df1a72b84b3eb64c3279a61eaa85",
       "version_major": 2,
       "version_minor": 0
      },
      "text/plain": [
       "Validation:   0%|          | 0/5 [00:00<?, ?it/s]"
      ]
     },
     "metadata": {},
     "output_type": "display_data"
    },
    {
     "name": "stdout",
     "output_type": "stream",
     "text": [
      "Train | Loss: 0.8003, Recall: 0.4312, Precision: 0.1414, F1: 0.2130\n",
      "Val   | Loss: 0.8095, Recall: 0.2163, Precision: 0.2917, F1: 0.2484\n",
      "-----------------------------\n",
      "Epoch 47\n"
     ]
    },
    {
     "data": {
      "application/vnd.jupyter.widget-view+json": {
       "model_id": "f55b7c82531e43059171a215a61b35a3",
       "version_major": 2,
       "version_minor": 0
      },
      "text/plain": [
       "Training:   0%|          | 0/25 [00:00<?, ?it/s]"
      ]
     },
     "metadata": {},
     "output_type": "display_data"
    },
    {
     "data": {
      "application/vnd.jupyter.widget-view+json": {
       "model_id": "3e191dbe652c4bbb95df26bb26113acb",
       "version_major": 2,
       "version_minor": 0
      },
      "text/plain": [
       "Validation:   0%|          | 0/5 [00:00<?, ?it/s]"
      ]
     },
     "metadata": {},
     "output_type": "display_data"
    },
    {
     "name": "stdout",
     "output_type": "stream",
     "text": [
      "Train | Loss: 0.8047, Recall: 0.4037, Precision: 0.1453, F1: 0.2137\n",
      "Val   | Loss: 0.8033, Recall: 0.2498, Precision: 0.2687, F1: 0.2589\n",
      "-----------------------------\n",
      "Epoch 48\n"
     ]
    },
    {
     "data": {
      "application/vnd.jupyter.widget-view+json": {
       "model_id": "b09041272367450bbdcdbd1f103e7488",
       "version_major": 2,
       "version_minor": 0
      },
      "text/plain": [
       "Training:   0%|          | 0/25 [00:00<?, ?it/s]"
      ]
     },
     "metadata": {},
     "output_type": "display_data"
    },
    {
     "data": {
      "application/vnd.jupyter.widget-view+json": {
       "model_id": "6269646c9ea24366a8c0b11d31a201e2",
       "version_major": 2,
       "version_minor": 0
      },
      "text/plain": [
       "Validation:   0%|          | 0/5 [00:00<?, ?it/s]"
      ]
     },
     "metadata": {},
     "output_type": "display_data"
    },
    {
     "name": "stdout",
     "output_type": "stream",
     "text": [
      "Train | Loss: 0.8151, Recall: 0.3736, Precision: 0.1333, F1: 0.1965\n",
      "Val   | Loss: 0.7018, Recall: 0.3780, Precision: 0.2619, F1: 0.3094\n",
      "-----------------------------\n",
      "Epoch 49\n"
     ]
    },
    {
     "data": {
      "application/vnd.jupyter.widget-view+json": {
       "model_id": "a372929379c9423e9032e83557c83bc1",
       "version_major": 2,
       "version_minor": 0
      },
      "text/plain": [
       "Training:   0%|          | 0/25 [00:00<?, ?it/s]"
      ]
     },
     "metadata": {},
     "output_type": "display_data"
    },
    {
     "data": {
      "application/vnd.jupyter.widget-view+json": {
       "model_id": "358b2876a53f44549cc371fff177900c",
       "version_major": 2,
       "version_minor": 0
      },
      "text/plain": [
       "Validation:   0%|          | 0/5 [00:00<?, ?it/s]"
      ]
     },
     "metadata": {},
     "output_type": "display_data"
    },
    {
     "name": "stdout",
     "output_type": "stream",
     "text": [
      "Train | Loss: 0.7951, Recall: 0.3946, Precision: 0.1521, F1: 0.2196\n",
      "Val   | Loss: 0.7756, Recall: 0.2549, Precision: 0.3005, F1: 0.2758\n",
      "-----------------------------\n",
      "Epoch 50\n"
     ]
    },
    {
     "data": {
      "application/vnd.jupyter.widget-view+json": {
       "model_id": "718a200453474ac9b127a398c1a6c87a",
       "version_major": 2,
       "version_minor": 0
      },
      "text/plain": [
       "Training:   0%|          | 0/25 [00:00<?, ?it/s]"
      ]
     },
     "metadata": {},
     "output_type": "display_data"
    },
    {
     "data": {
      "application/vnd.jupyter.widget-view+json": {
       "model_id": "a5f8d42f4d9d47769aa77da3f5eb34a3",
       "version_major": 2,
       "version_minor": 0
      },
      "text/plain": [
       "Validation:   0%|          | 0/5 [00:00<?, ?it/s]"
      ]
     },
     "metadata": {},
     "output_type": "display_data"
    },
    {
     "name": "stdout",
     "output_type": "stream",
     "text": [
      "Train | Loss: 0.7963, Recall: 0.4104, Precision: 0.1489, F1: 0.2185\n",
      "Val   | Loss: 0.8479, Recall: 0.1620, Precision: 0.2856, F1: 0.2068\n",
      "-----------------------------\n",
      "Training Complete!\n",
      "Saved PyTorch Model to  /home/tommytang111/gap-junction-segmentation/models/sweep_model_i6wipqyf.pt\n"
     ]
    },
    {
     "data": {
      "text/html": [],
      "text/plain": [
       "<IPython.core.display.HTML object>"
      ]
     },
     "metadata": {},
     "output_type": "display_data"
    },
    {
     "data": {
      "text/html": [
       "<br>    <style><br>        .wandb-row {<br>            display: flex;<br>            flex-direction: row;<br>            flex-wrap: wrap;<br>            justify-content: flex-start;<br>            width: 100%;<br>        }<br>        .wandb-col {<br>            display: flex;<br>            flex-direction: column;<br>            flex-basis: 100%;<br>            flex: 1;<br>            padding: 10px;<br>        }<br>    </style><br><div class=\"wandb-row\"><div class=\"wandb-col\"><h3>Run history:</h3><br/><table class=\"wandb\"><tr><td>best_epoch</td><td>▁▁▁▁▁▁▂▂▂▂▂▂▃▃▃▃▃▃▃▃▃▃▃▃▃▃▃▃▃▃▃▃▃▃▃▃▃▃██</td></tr><tr><td>best_val_f1</td><td>▁▃▄▄▄▆▆▆▇▇▇▇▇▇▇▇▇▇▇▇▇▇▇▇▇▇▇▇▇▇▇▇▇▇▇▇▇▇██</td></tr><tr><td>best_val_loss</td><td>█▆▆▅▅▅▃▃▃▃▃▃▃▃▂▂▂▂▂▂▂▂▂▂▂▁▁▁▁▁▁▁▁▁▁▁▁▁▁▁</td></tr><tr><td>epoch</td><td>▁▁▁▁▂▂▂▂▂▂▃▃▃▃▃▄▄▄▄▄▅▅▅▅▅▆▆▆▆▆▆▇▇▇▇▇▇███</td></tr><tr><td>lr</td><td>█████████████████████████████████▁▁▁▁▁▁▁</td></tr><tr><td>train_f1</td><td>▁▁▂▅▄▅▆▆▆▆▆▆▆▆▆▆▆▇▆▆▇▆▇▅▆▆▇█▆▆▅▅▆▆▆▇▇█▇█</td></tr><tr><td>train_loss</td><td>██▇▅▅▅▃▄▃▃▃▃▃▂▃▃▃▃▃▂▂▄▃▂▃▁▂▂▂▅▄▄▃▃▂▂▁▁▂▁</td></tr><tr><td>train_precision</td><td>▁▁▂▄▄▄▆▅▆▆▅▆▆▆▆▆▇▆▆▇▆▇▆▇▆▇▆▇▆▅▅▆▆▆▇▇██▇█</td></tr><tr><td>train_recall</td><td>▄▂█▃▂▄▂▃▂▃▂▄▃▄▂▂▃▂▃▂▃▂▂▂▂▄▃▂▄▂▁▁▂▂▃▂▃▃▂▃</td></tr><tr><td>val_f1</td><td>▄▅▅▁▆▇▃▇▅▅█▇▇▅▇▇▇▇▇▇▁▇▇▇▇▂▇▆▇▅▆▇▇▇▇▇▇▇█▆</td></tr><tr><td>val_loss</td><td>▅▆▄▅█▃▃▇▂▆▅▂▃▂▆▂▂▂▂▂▂█▃▂▂██▃▃▂▃▂▂▃▃▄▄▄▁▅</td></tr><tr><td>val_precision</td><td>▃▃▃▃▃▄▅▅▄▅▅▅▅▅▅▅▄▅▅▅▄▄▁▅▄▄█▆▃▄▄▄▄▅▅▇▆▆▅▆</td></tr><tr><td>val_recall</td><td>▃▅▄▆█▄▄▂▄▂▃▄▄▄▂▅▅▅▄▄▇▁▄▅▅▁▁▄█▅▅▆▆▅▄▃▃▄▅▃</td></tr></table><br/></div><div class=\"wandb-col\"><h3>Run summary:</h3><br/><table class=\"wandb\"><tr><td>best_epoch</td><td>47</td></tr><tr><td>best_val_f1</td><td>0.3094</td></tr><tr><td>best_val_loss</td><td>0.69954</td></tr><tr><td>epoch</td><td>50</td></tr><tr><td>lr</td><td>0.005</td></tr><tr><td>train_f1</td><td>0.21851</td></tr><tr><td>train_loss</td><td>0.79625</td></tr><tr><td>train_precision</td><td>0.1489</td></tr><tr><td>train_recall</td><td>0.41037</td></tr><tr><td>val_f1</td><td>0.20676</td></tr><tr><td>val_loss</td><td>0.84791</td></tr><tr><td>val_precision</td><td>0.28563</td></tr><tr><td>val_recall</td><td>0.16202</td></tr></table><br/></div></div>"
      ],
      "text/plain": [
       "<IPython.core.display.HTML object>"
      ]
     },
     "metadata": {},
     "output_type": "display_data"
    },
    {
     "data": {
      "text/html": [
       " View run <strong style=\"color:#cdcd00\">frosty-sweep-3</strong> at: <a href='https://wandb.ai/zhen_lab/gap-junction-segmentation/runs/i6wipqyf' target=\"_blank\">https://wandb.ai/zhen_lab/gap-junction-segmentation/runs/i6wipqyf</a><br> View project at: <a href='https://wandb.ai/zhen_lab/gap-junction-segmentation' target=\"_blank\">https://wandb.ai/zhen_lab/gap-junction-segmentation</a><br>Synced 5 W&B file(s), 0 media file(s), 0 artifact file(s) and 0 other file(s)"
      ],
      "text/plain": [
       "<IPython.core.display.HTML object>"
      ]
     },
     "metadata": {},
     "output_type": "display_data"
    },
    {
     "data": {
      "text/html": [
       "Find logs at: <code>/home/tommytang111/gap-junction-segmentation/wandb/wandb/run-20250606_144439-i6wipqyf/logs</code>"
      ],
      "text/plain": [
       "<IPython.core.display.HTML object>"
      ]
     },
     "metadata": {},
     "output_type": "display_data"
    },
    {
     "name": "stderr",
     "output_type": "stream",
     "text": [
      "\u001b[34m\u001b[1mwandb\u001b[0m: Agent Starting Run: 2p8h82co with config:\n",
      "\u001b[34m\u001b[1mwandb\u001b[0m: \taugmentation: custom2\n",
      "\u001b[34m\u001b[1mwandb\u001b[0m: \tbatch_size: 8\n",
      "\u001b[34m\u001b[1mwandb\u001b[0m: \tdropout: 0.1\n",
      "\u001b[34m\u001b[1mwandb\u001b[0m: \tlearning_rate: 0.001\n",
      "\u001b[34m\u001b[1mwandb\u001b[0m: \tloss_function: GenDLoss\n",
      "\u001b[34m\u001b[1mwandb\u001b[0m: \toptimizer: AdamW\n",
      "\u001b[34m\u001b[1mwandb\u001b[0m: \u001b[33mWARNING\u001b[0m If you're specifying your api key in code, ensure this code is not shared publicly.\n",
      "\u001b[34m\u001b[1mwandb\u001b[0m: \u001b[33mWARNING\u001b[0m Consider setting the WANDB_API_KEY environment variable, or running `wandb login` from the command line.\n",
      "\u001b[34m\u001b[1mwandb\u001b[0m: Appending key for api.wandb.ai to your netrc file: /home/tommytang111/.netrc\n"
     ]
    },
    {
     "data": {
      "text/html": [
       "Ignoring project 'gap-junction-segmentation' when running a sweep."
      ],
      "text/plain": [
       "<IPython.core.display.HTML object>"
      ]
     },
     "metadata": {},
     "output_type": "display_data"
    },
    {
     "data": {
      "text/html": [
       "Ignoring entity 'zhen_lab' when running a sweep."
      ],
      "text/plain": [
       "<IPython.core.display.HTML object>"
      ]
     },
     "metadata": {},
     "output_type": "display_data"
    },
    {
     "data": {
      "text/html": [
       "Tracking run with wandb version 0.19.10"
      ],
      "text/plain": [
       "<IPython.core.display.HTML object>"
      ]
     },
     "metadata": {},
     "output_type": "display_data"
    },
    {
     "data": {
      "text/html": [
       "Run data is saved locally in <code>/home/tommytang111/gap-junction-segmentation/wandb/wandb/run-20250606_145703-2p8h82co</code>"
      ],
      "text/plain": [
       "<IPython.core.display.HTML object>"
      ]
     },
     "metadata": {},
     "output_type": "display_data"
    },
    {
     "data": {
      "text/html": [
       "Syncing run <strong><a href='https://wandb.ai/zhen_lab/gap-junction-segmentation/runs/2p8h82co' target=\"_blank\">desert-sweep-4</a></strong> to <a href='https://wandb.ai/zhen_lab/gap-junction-segmentation' target=\"_blank\">Weights & Biases</a> (<a href='https://wandb.me/developer-guide' target=\"_blank\">docs</a>)<br>Sweep page: <a href='https://wandb.ai/zhen_lab/gap-junction-segmentation/sweeps/dwqzhjxz' target=\"_blank\">https://wandb.ai/zhen_lab/gap-junction-segmentation/sweeps/dwqzhjxz</a>"
      ],
      "text/plain": [
       "<IPython.core.display.HTML object>"
      ]
     },
     "metadata": {},
     "output_type": "display_data"
    },
    {
     "data": {
      "text/html": [
       " View project at <a href='https://wandb.ai/zhen_lab/gap-junction-segmentation' target=\"_blank\">https://wandb.ai/zhen_lab/gap-junction-segmentation</a>"
      ],
      "text/plain": [
       "<IPython.core.display.HTML object>"
      ]
     },
     "metadata": {},
     "output_type": "display_data"
    },
    {
     "data": {
      "text/html": [
       " View sweep at <a href='https://wandb.ai/zhen_lab/gap-junction-segmentation/sweeps/dwqzhjxz' target=\"_blank\">https://wandb.ai/zhen_lab/gap-junction-segmentation/sweeps/dwqzhjxz</a>"
      ],
      "text/plain": [
       "<IPython.core.display.HTML object>"
      ]
     },
     "metadata": {},
     "output_type": "display_data"
    },
    {
     "data": {
      "text/html": [
       " View run at <a href='https://wandb.ai/zhen_lab/gap-junction-segmentation/runs/2p8h82co' target=\"_blank\">https://wandb.ai/zhen_lab/gap-junction-segmentation/runs/2p8h82co</a>"
      ],
      "text/plain": [
       "<IPython.core.display.HTML object>"
      ]
     },
     "metadata": {},
     "output_type": "display_data"
    },
    {
     "name": "stdout",
     "output_type": "stream",
     "text": [
      "Epoch 1\n"
     ]
    },
    {
     "data": {
      "application/vnd.jupyter.widget-view+json": {
       "model_id": "eb6e64e16d69487f8318f95f5f77cb1b",
       "version_major": 2,
       "version_minor": 0
      },
      "text/plain": [
       "Training:   0%|          | 0/25 [00:00<?, ?it/s]"
      ]
     },
     "metadata": {},
     "output_type": "display_data"
    },
    {
     "data": {
      "application/vnd.jupyter.widget-view+json": {
       "model_id": "d6f243a5a76f44c195265e90f26a66af",
       "version_major": 2,
       "version_minor": 0
      },
      "text/plain": [
       "Validation:   0%|          | 0/5 [00:00<?, ?it/s]"
      ]
     },
     "metadata": {},
     "output_type": "display_data"
    },
    {
     "name": "stdout",
     "output_type": "stream",
     "text": [
      "Train | Loss: 0.8887, Recall: 0.5861, Precision: 0.0499, F1: 0.0919\n",
      "Val   | Loss: 0.9320, Recall: 0.0349, Precision: 0.2907, F1: 0.0623\n",
      "-----------------------------\n",
      "Epoch 2\n"
     ]
    },
    {
     "data": {
      "application/vnd.jupyter.widget-view+json": {
       "model_id": "56c7697f92224cea84f3b169f7c61d7e",
       "version_major": 2,
       "version_minor": 0
      },
      "text/plain": [
       "Training:   0%|          | 0/25 [00:00<?, ?it/s]"
      ]
     },
     "metadata": {},
     "output_type": "display_data"
    },
    {
     "data": {
      "application/vnd.jupyter.widget-view+json": {
       "model_id": "7909a0c3b1814076b3199add17d203fa",
       "version_major": 2,
       "version_minor": 0
      },
      "text/plain": [
       "Validation:   0%|          | 0/5 [00:00<?, ?it/s]"
      ]
     },
     "metadata": {},
     "output_type": "display_data"
    },
    {
     "name": "stdout",
     "output_type": "stream",
     "text": [
      "Train | Loss: 0.8817, Recall: 0.4528, Precision: 0.0761, F1: 0.1304\n",
      "Val   | Loss: 0.8459, Recall: 0.2925, Precision: 0.1392, F1: 0.1887\n",
      "-----------------------------\n",
      "Epoch 3\n"
     ]
    },
    {
     "data": {
      "application/vnd.jupyter.widget-view+json": {
       "model_id": "ac5da21c06314f28873f4d2aa240ed43",
       "version_major": 2,
       "version_minor": 0
      },
      "text/plain": [
       "Training:   0%|          | 0/25 [00:00<?, ?it/s]"
      ]
     },
     "metadata": {},
     "output_type": "display_data"
    },
    {
     "data": {
      "application/vnd.jupyter.widget-view+json": {
       "model_id": "9f931426921f425791465d4e80c4b805",
       "version_major": 2,
       "version_minor": 0
      },
      "text/plain": [
       "Validation:   0%|          | 0/5 [00:00<?, ?it/s]"
      ]
     },
     "metadata": {},
     "output_type": "display_data"
    },
    {
     "name": "stdout",
     "output_type": "stream",
     "text": [
      "Train | Loss: 0.8673, Recall: 0.4005, Precision: 0.0925, F1: 0.1503\n",
      "Val   | Loss: 0.8434, Recall: 0.4136, Precision: 0.1482, F1: 0.2182\n",
      "-----------------------------\n",
      "Epoch 4\n"
     ]
    },
    {
     "data": {
      "application/vnd.jupyter.widget-view+json": {
       "model_id": "57f3c547d3ac4ba38c1731178f3855c6",
       "version_major": 2,
       "version_minor": 0
      },
      "text/plain": [
       "Training:   0%|          | 0/25 [00:00<?, ?it/s]"
      ]
     },
     "metadata": {},
     "output_type": "display_data"
    },
    {
     "data": {
      "application/vnd.jupyter.widget-view+json": {
       "model_id": "3e10ada00e6b4ac6a4d5cb869f821190",
       "version_major": 2,
       "version_minor": 0
      },
      "text/plain": [
       "Validation:   0%|          | 0/5 [00:00<?, ?it/s]"
      ]
     },
     "metadata": {},
     "output_type": "display_data"
    },
    {
     "name": "stdout",
     "output_type": "stream",
     "text": [
      "Train | Loss: 0.8713, Recall: 0.4781, Precision: 0.0787, F1: 0.1351\n",
      "Val   | Loss: 0.8629, Recall: 0.1224, Precision: 0.2650, F1: 0.1675\n",
      "-----------------------------\n",
      "Epoch 5\n"
     ]
    },
    {
     "data": {
      "application/vnd.jupyter.widget-view+json": {
       "model_id": "aed511dc1db04351b3e7d2504f8c067f",
       "version_major": 2,
       "version_minor": 0
      },
      "text/plain": [
       "Training:   0%|          | 0/25 [00:00<?, ?it/s]"
      ]
     },
     "metadata": {},
     "output_type": "display_data"
    },
    {
     "data": {
      "application/vnd.jupyter.widget-view+json": {
       "model_id": "8318e54d0e5241e095cc843bb32eef7f",
       "version_major": 2,
       "version_minor": 0
      },
      "text/plain": [
       "Validation:   0%|          | 0/5 [00:00<?, ?it/s]"
      ]
     },
     "metadata": {},
     "output_type": "display_data"
    },
    {
     "name": "stdout",
     "output_type": "stream",
     "text": [
      "Train | Loss: 0.8434, Recall: 0.4689, Precision: 0.0970, F1: 0.1608\n",
      "Val   | Loss: 0.9361, Recall: 0.0360, Precision: 0.1570, F1: 0.0585\n",
      "-----------------------------\n",
      "Epoch 6\n"
     ]
    },
    {
     "data": {
      "application/vnd.jupyter.widget-view+json": {
       "model_id": "8a97be175fca4cf097c8a44e180e43c1",
       "version_major": 2,
       "version_minor": 0
      },
      "text/plain": [
       "Training:   0%|          | 0/25 [00:00<?, ?it/s]"
      ]
     },
     "metadata": {},
     "output_type": "display_data"
    },
    {
     "data": {
      "application/vnd.jupyter.widget-view+json": {
       "model_id": "7c4ed22e19634e2796b5345c43028cbc",
       "version_major": 2,
       "version_minor": 0
      },
      "text/plain": [
       "Validation:   0%|          | 0/5 [00:00<?, ?it/s]"
      ]
     },
     "metadata": {},
     "output_type": "display_data"
    },
    {
     "name": "stdout",
     "output_type": "stream",
     "text": [
      "Train | Loss: 0.8225, Recall: 0.4559, Precision: 0.1294, F1: 0.2016\n",
      "Val   | Loss: 0.7509, Recall: 0.6436, Precision: 0.1716, F1: 0.2710\n",
      "-----------------------------\n",
      "Epoch 7\n"
     ]
    },
    {
     "data": {
      "application/vnd.jupyter.widget-view+json": {
       "model_id": "68b85ffbf92e4f7ca183801c7cfdca96",
       "version_major": 2,
       "version_minor": 0
      },
      "text/plain": [
       "Training:   0%|          | 0/25 [00:00<?, ?it/s]"
      ]
     },
     "metadata": {},
     "output_type": "display_data"
    },
    {
     "data": {
      "application/vnd.jupyter.widget-view+json": {
       "model_id": "c6f84d110b8146f8b5ea1acb38689da9",
       "version_major": 2,
       "version_minor": 0
      },
      "text/plain": [
       "Validation:   0%|          | 0/5 [00:00<?, ?it/s]"
      ]
     },
     "metadata": {},
     "output_type": "display_data"
    },
    {
     "name": "stdout",
     "output_type": "stream",
     "text": [
      "Train | Loss: 0.8176, Recall: 0.4471, Precision: 0.1225, F1: 0.1923\n",
      "Val   | Loss: 0.7763, Recall: 0.5122, Precision: 0.1686, F1: 0.2537\n",
      "-----------------------------\n",
      "Epoch 8\n"
     ]
    },
    {
     "data": {
      "application/vnd.jupyter.widget-view+json": {
       "model_id": "e0de7ee4dd1441ae826bb7c9e69103e0",
       "version_major": 2,
       "version_minor": 0
      },
      "text/plain": [
       "Training:   0%|          | 0/25 [00:00<?, ?it/s]"
      ]
     },
     "metadata": {},
     "output_type": "display_data"
    },
    {
     "data": {
      "application/vnd.jupyter.widget-view+json": {
       "model_id": "a8e0fe9d116441f69c1a0c34102a6ae5",
       "version_major": 2,
       "version_minor": 0
      },
      "text/plain": [
       "Validation:   0%|          | 0/5 [00:00<?, ?it/s]"
      ]
     },
     "metadata": {},
     "output_type": "display_data"
    },
    {
     "name": "stdout",
     "output_type": "stream",
     "text": [
      "Train | Loss: 0.8646, Recall: 0.4041, Precision: 0.0899, F1: 0.1470\n",
      "Val   | Loss: 0.7814, Recall: 0.5603, Precision: 0.1725, F1: 0.2638\n",
      "-----------------------------\n",
      "Epoch 9\n"
     ]
    },
    {
     "data": {
      "application/vnd.jupyter.widget-view+json": {
       "model_id": "ce170532234a4014a3f35830ec366712",
       "version_major": 2,
       "version_minor": 0
      },
      "text/plain": [
       "Training:   0%|          | 0/25 [00:00<?, ?it/s]"
      ]
     },
     "metadata": {},
     "output_type": "display_data"
    },
    {
     "data": {
      "application/vnd.jupyter.widget-view+json": {
       "model_id": "c9b39deeaae64b508a335bf4df04276a",
       "version_major": 2,
       "version_minor": 0
      },
      "text/plain": [
       "Validation:   0%|          | 0/5 [00:00<?, ?it/s]"
      ]
     },
     "metadata": {},
     "output_type": "display_data"
    },
    {
     "name": "stdout",
     "output_type": "stream",
     "text": [
      "Train | Loss: 0.8287, Recall: 0.4669, Precision: 0.0983, F1: 0.1624\n",
      "Val   | Loss: 0.8150, Recall: 0.2626, Precision: 0.2543, F1: 0.2584\n",
      "-----------------------------\n",
      "Epoch 10\n"
     ]
    },
    {
     "data": {
      "application/vnd.jupyter.widget-view+json": {
       "model_id": "becdea5e584245e4b98ab9d52b038569",
       "version_major": 2,
       "version_minor": 0
      },
      "text/plain": [
       "Training:   0%|          | 0/25 [00:00<?, ?it/s]"
      ]
     },
     "metadata": {},
     "output_type": "display_data"
    },
    {
     "data": {
      "application/vnd.jupyter.widget-view+json": {
       "model_id": "de8f659f69d34139ad79ef3062aaf73d",
       "version_major": 2,
       "version_minor": 0
      },
      "text/plain": [
       "Validation:   0%|          | 0/5 [00:00<?, ?it/s]"
      ]
     },
     "metadata": {},
     "output_type": "display_data"
    },
    {
     "name": "stdout",
     "output_type": "stream",
     "text": [
      "Train | Loss: 0.8388, Recall: 0.3403, Precision: 0.1229, F1: 0.1806\n",
      "Val   | Loss: 0.8423, Recall: 0.1348, Precision: 0.2981, F1: 0.1857\n",
      "-----------------------------\n",
      "Epoch 11\n"
     ]
    },
    {
     "data": {
      "application/vnd.jupyter.widget-view+json": {
       "model_id": "23765140f6a3483d8b9ed4911347bf6c",
       "version_major": 2,
       "version_minor": 0
      },
      "text/plain": [
       "Training:   0%|          | 0/25 [00:00<?, ?it/s]"
      ]
     },
     "metadata": {},
     "output_type": "display_data"
    },
    {
     "data": {
      "application/vnd.jupyter.widget-view+json": {
       "model_id": "ed1081e016584832921bd39b053d20be",
       "version_major": 2,
       "version_minor": 0
      },
      "text/plain": [
       "Validation:   0%|          | 0/5 [00:00<?, ?it/s]"
      ]
     },
     "metadata": {},
     "output_type": "display_data"
    },
    {
     "name": "stdout",
     "output_type": "stream",
     "text": [
      "Train | Loss: 0.8272, Recall: 0.4610, Precision: 0.1066, F1: 0.1732\n",
      "Val   | Loss: 0.7122, Recall: 0.4897, Precision: 0.2179, F1: 0.3016\n",
      "-----------------------------\n",
      "Epoch 12\n"
     ]
    },
    {
     "data": {
      "application/vnd.jupyter.widget-view+json": {
       "model_id": "2ec6a949e6a04aa6ab1b7bbf09ae990e",
       "version_major": 2,
       "version_minor": 0
      },
      "text/plain": [
       "Training:   0%|          | 0/25 [00:00<?, ?it/s]"
      ]
     },
     "metadata": {},
     "output_type": "display_data"
    },
    {
     "data": {
      "application/vnd.jupyter.widget-view+json": {
       "model_id": "9384a93742204809a59f3744cbed6792",
       "version_major": 2,
       "version_minor": 0
      },
      "text/plain": [
       "Validation:   0%|          | 0/5 [00:00<?, ?it/s]"
      ]
     },
     "metadata": {},
     "output_type": "display_data"
    },
    {
     "name": "stdout",
     "output_type": "stream",
     "text": [
      "Train | Loss: 0.8064, Recall: 0.3975, Precision: 0.1456, F1: 0.2132\n",
      "Val   | Loss: 0.7633, Recall: 0.6430, Precision: 0.1632, F1: 0.2603\n",
      "-----------------------------\n",
      "Epoch 13\n"
     ]
    },
    {
     "data": {
      "application/vnd.jupyter.widget-view+json": {
       "model_id": "652f93453d5643a89dd23ab450af50c0",
       "version_major": 2,
       "version_minor": 0
      },
      "text/plain": [
       "Training:   0%|          | 0/25 [00:00<?, ?it/s]"
      ]
     },
     "metadata": {},
     "output_type": "display_data"
    },
    {
     "data": {
      "application/vnd.jupyter.widget-view+json": {
       "model_id": "1a7f6031fee044b29e62ff97cfacbda0",
       "version_major": 2,
       "version_minor": 0
      },
      "text/plain": [
       "Validation:   0%|          | 0/5 [00:00<?, ?it/s]"
      ]
     },
     "metadata": {},
     "output_type": "display_data"
    },
    {
     "name": "stdout",
     "output_type": "stream",
     "text": [
      "Train | Loss: 0.7867, Recall: 0.4183, Precision: 0.1610, F1: 0.2325\n",
      "Val   | Loss: 0.8345, Recall: 0.1354, Precision: 0.3815, F1: 0.1999\n",
      "-----------------------------\n",
      "Epoch 14\n"
     ]
    },
    {
     "data": {
      "application/vnd.jupyter.widget-view+json": {
       "model_id": "32f48fe2fb5047b7b1a658bf427840d1",
       "version_major": 2,
       "version_minor": 0
      },
      "text/plain": [
       "Training:   0%|          | 0/25 [00:00<?, ?it/s]"
      ]
     },
     "metadata": {},
     "output_type": "display_data"
    },
    {
     "data": {
      "application/vnd.jupyter.widget-view+json": {
       "model_id": "602d00c6407b4be0a4565aafa80bf06d",
       "version_major": 2,
       "version_minor": 0
      },
      "text/plain": [
       "Validation:   0%|          | 0/5 [00:00<?, ?it/s]"
      ]
     },
     "metadata": {},
     "output_type": "display_data"
    },
    {
     "name": "stdout",
     "output_type": "stream",
     "text": [
      "Train | Loss: 0.7992, Recall: 0.4414, Precision: 0.1474, F1: 0.2210\n",
      "Val   | Loss: 0.7204, Recall: 0.3863, Precision: 0.2830, F1: 0.3267\n",
      "-----------------------------\n",
      "Epoch 15\n"
     ]
    },
    {
     "data": {
      "application/vnd.jupyter.widget-view+json": {
       "model_id": "a9e6d62716844ede8ff0ab46ff5fe278",
       "version_major": 2,
       "version_minor": 0
      },
      "text/plain": [
       "Training:   0%|          | 0/25 [00:00<?, ?it/s]"
      ]
     },
     "metadata": {},
     "output_type": "display_data"
    },
    {
     "data": {
      "application/vnd.jupyter.widget-view+json": {
       "model_id": "5c3593df6ec34caa88c9fc50b32bfb2a",
       "version_major": 2,
       "version_minor": 0
      },
      "text/plain": [
       "Validation:   0%|          | 0/5 [00:00<?, ?it/s]"
      ]
     },
     "metadata": {},
     "output_type": "display_data"
    },
    {
     "name": "stdout",
     "output_type": "stream",
     "text": [
      "Train | Loss: 0.7910, Recall: 0.4656, Precision: 0.1411, F1: 0.2165\n",
      "Val   | Loss: 0.7667, Recall: 0.7056, Precision: 0.1505, F1: 0.2481\n",
      "-----------------------------\n",
      "Epoch 16\n"
     ]
    },
    {
     "data": {
      "application/vnd.jupyter.widget-view+json": {
       "model_id": "8755eda466c542a19735e19c694b88f8",
       "version_major": 2,
       "version_minor": 0
      },
      "text/plain": [
       "Training:   0%|          | 0/25 [00:00<?, ?it/s]"
      ]
     },
     "metadata": {},
     "output_type": "display_data"
    },
    {
     "data": {
      "application/vnd.jupyter.widget-view+json": {
       "model_id": "651ee2ebc045499590780d16c2cde639",
       "version_major": 2,
       "version_minor": 0
      },
      "text/plain": [
       "Validation:   0%|          | 0/5 [00:00<?, ?it/s]"
      ]
     },
     "metadata": {},
     "output_type": "display_data"
    },
    {
     "name": "stdout",
     "output_type": "stream",
     "text": [
      "Train | Loss: 0.7968, Recall: 0.4561, Precision: 0.1337, F1: 0.2068\n",
      "Val   | Loss: 0.6943, Recall: 0.4839, Precision: 0.2412, F1: 0.3219\n",
      "-----------------------------\n",
      "Epoch 17\n"
     ]
    },
    {
     "data": {
      "application/vnd.jupyter.widget-view+json": {
       "model_id": "d39a3d891adb47a29fd2ef20ada320fc",
       "version_major": 2,
       "version_minor": 0
      },
      "text/plain": [
       "Training:   0%|          | 0/25 [00:00<?, ?it/s]"
      ]
     },
     "metadata": {},
     "output_type": "display_data"
    },
    {
     "data": {
      "application/vnd.jupyter.widget-view+json": {
       "model_id": "c2d64e0a3353491aba724e8bceb1dc17",
       "version_major": 2,
       "version_minor": 0
      },
      "text/plain": [
       "Validation:   0%|          | 0/5 [00:00<?, ?it/s]"
      ]
     },
     "metadata": {},
     "output_type": "display_data"
    },
    {
     "name": "stdout",
     "output_type": "stream",
     "text": [
      "Train | Loss: 0.7950, Recall: 0.4851, Precision: 0.1572, F1: 0.2374\n",
      "Val   | Loss: 0.7370, Recall: 0.7827, Precision: 0.1507, F1: 0.2528\n",
      "-----------------------------\n",
      "Epoch 18\n"
     ]
    },
    {
     "data": {
      "application/vnd.jupyter.widget-view+json": {
       "model_id": "916bcbe62c0a4acaba5ce4df22677a14",
       "version_major": 2,
       "version_minor": 0
      },
      "text/plain": [
       "Training:   0%|          | 0/25 [00:00<?, ?it/s]"
      ]
     },
     "metadata": {},
     "output_type": "display_data"
    },
    {
     "data": {
      "application/vnd.jupyter.widget-view+json": {
       "model_id": "5ea5808f09b54b389ce615e6f4f6e924",
       "version_major": 2,
       "version_minor": 0
      },
      "text/plain": [
       "Validation:   0%|          | 0/5 [00:00<?, ?it/s]"
      ]
     },
     "metadata": {},
     "output_type": "display_data"
    },
    {
     "name": "stdout",
     "output_type": "stream",
     "text": [
      "Train | Loss: 0.7428, Recall: 0.4935, Precision: 0.1751, F1: 0.2585\n",
      "Val   | Loss: 0.7891, Recall: 0.2374, Precision: 0.3759, F1: 0.2910\n",
      "-----------------------------\n",
      "Epoch 19\n"
     ]
    },
    {
     "data": {
      "application/vnd.jupyter.widget-view+json": {
       "model_id": "77a5f42e17154d24aa0e0cdeb1d1c1c9",
       "version_major": 2,
       "version_minor": 0
      },
      "text/plain": [
       "Training:   0%|          | 0/25 [00:00<?, ?it/s]"
      ]
     },
     "metadata": {},
     "output_type": "display_data"
    },
    {
     "data": {
      "application/vnd.jupyter.widget-view+json": {
       "model_id": "19a1a4c2a57c4a37abd317b84d944ab3",
       "version_major": 2,
       "version_minor": 0
      },
      "text/plain": [
       "Validation:   0%|          | 0/5 [00:00<?, ?it/s]"
      ]
     },
     "metadata": {},
     "output_type": "display_data"
    },
    {
     "name": "stdout",
     "output_type": "stream",
     "text": [
      "Train | Loss: 0.7577, Recall: 0.4848, Precision: 0.1658, F1: 0.2471\n",
      "Val   | Loss: 0.7177, Recall: 0.3499, Precision: 0.3164, F1: 0.3323\n",
      "-----------------------------\n",
      "Epoch 20\n"
     ]
    },
    {
     "data": {
      "application/vnd.jupyter.widget-view+json": {
       "model_id": "7085480dad35424d8bacff649ba586bf",
       "version_major": 2,
       "version_minor": 0
      },
      "text/plain": [
       "Training:   0%|          | 0/25 [00:00<?, ?it/s]"
      ]
     },
     "metadata": {},
     "output_type": "display_data"
    },
    {
     "data": {
      "application/vnd.jupyter.widget-view+json": {
       "model_id": "f0ee75d6ec474074956570a328bc125f",
       "version_major": 2,
       "version_minor": 0
      },
      "text/plain": [
       "Validation:   0%|          | 0/5 [00:00<?, ?it/s]"
      ]
     },
     "metadata": {},
     "output_type": "display_data"
    },
    {
     "name": "stdout",
     "output_type": "stream",
     "text": [
      "Train | Loss: 0.7598, Recall: 0.4629, Precision: 0.1839, F1: 0.2632\n",
      "Val   | Loss: 0.8440, Recall: 0.1072, Precision: 0.4297, F1: 0.1716\n",
      "-----------------------------\n",
      "Epoch 21\n"
     ]
    },
    {
     "data": {
      "application/vnd.jupyter.widget-view+json": {
       "model_id": "3b51680a000e4d7b9fd017643888b56a",
       "version_major": 2,
       "version_minor": 0
      },
      "text/plain": [
       "Training:   0%|          | 0/25 [00:00<?, ?it/s]"
      ]
     },
     "metadata": {},
     "output_type": "display_data"
    },
    {
     "data": {
      "application/vnd.jupyter.widget-view+json": {
       "model_id": "d50d24d193c14fb6b8f220225fc5b285",
       "version_major": 2,
       "version_minor": 0
      },
      "text/plain": [
       "Validation:   0%|          | 0/5 [00:00<?, ?it/s]"
      ]
     },
     "metadata": {},
     "output_type": "display_data"
    },
    {
     "name": "stdout",
     "output_type": "stream",
     "text": [
      "Train | Loss: 0.7747, Recall: 0.4466, Precision: 0.1741, F1: 0.2506\n",
      "Val   | Loss: 0.7987, Recall: 0.2231, Precision: 0.4305, F1: 0.2939\n",
      "-----------------------------\n",
      "Epoch 22\n"
     ]
    },
    {
     "data": {
      "application/vnd.jupyter.widget-view+json": {
       "model_id": "6ac1a55452f24ccaa42f07ed50cfe48d",
       "version_major": 2,
       "version_minor": 0
      },
      "text/plain": [
       "Training:   0%|          | 0/25 [00:00<?, ?it/s]"
      ]
     },
     "metadata": {},
     "output_type": "display_data"
    },
    {
     "data": {
      "application/vnd.jupyter.widget-view+json": {
       "model_id": "685d9483f73c4b18b969723726e6fe03",
       "version_major": 2,
       "version_minor": 0
      },
      "text/plain": [
       "Validation:   0%|          | 0/5 [00:00<?, ?it/s]"
      ]
     },
     "metadata": {},
     "output_type": "display_data"
    },
    {
     "name": "stdout",
     "output_type": "stream",
     "text": [
      "Train | Loss: 0.7511, Recall: 0.4875, Precision: 0.1748, F1: 0.2574\n",
      "Val   | Loss: 0.6716, Recall: 0.4074, Precision: 0.3055, F1: 0.3491\n",
      "-----------------------------\n",
      "Epoch 23\n"
     ]
    },
    {
     "data": {
      "application/vnd.jupyter.widget-view+json": {
       "model_id": "83322a56ef8447889fa01fb5f96ee991",
       "version_major": 2,
       "version_minor": 0
      },
      "text/plain": [
       "Training:   0%|          | 0/25 [00:00<?, ?it/s]"
      ]
     },
     "metadata": {},
     "output_type": "display_data"
    },
    {
     "data": {
      "application/vnd.jupyter.widget-view+json": {
       "model_id": "902fddfc785141e4b6ca2782c6e0e5d3",
       "version_major": 2,
       "version_minor": 0
      },
      "text/plain": [
       "Validation:   0%|          | 0/5 [00:00<?, ?it/s]"
      ]
     },
     "metadata": {},
     "output_type": "display_data"
    },
    {
     "name": "stdout",
     "output_type": "stream",
     "text": [
      "Train | Loss: 0.7448, Recall: 0.4512, Precision: 0.1806, F1: 0.2580\n",
      "Val   | Loss: 0.6590, Recall: 0.6210, Precision: 0.2182, F1: 0.3230\n",
      "-----------------------------\n",
      "Epoch 24\n"
     ]
    },
    {
     "data": {
      "application/vnd.jupyter.widget-view+json": {
       "model_id": "76e3227c744f44ae96be2f3bd606b6e2",
       "version_major": 2,
       "version_minor": 0
      },
      "text/plain": [
       "Training:   0%|          | 0/25 [00:00<?, ?it/s]"
      ]
     },
     "metadata": {},
     "output_type": "display_data"
    },
    {
     "data": {
      "application/vnd.jupyter.widget-view+json": {
       "model_id": "4eef1725e2c14c7f90089a78720e90d0",
       "version_major": 2,
       "version_minor": 0
      },
      "text/plain": [
       "Validation:   0%|          | 0/5 [00:00<?, ?it/s]"
      ]
     },
     "metadata": {},
     "output_type": "display_data"
    },
    {
     "name": "stdout",
     "output_type": "stream",
     "text": [
      "Train | Loss: 0.7309, Recall: 0.4778, Precision: 0.2145, F1: 0.2961\n",
      "Val   | Loss: 0.7384, Recall: 0.7468, Precision: 0.1648, F1: 0.2700\n",
      "-----------------------------\n",
      "Epoch 25\n"
     ]
    },
    {
     "data": {
      "application/vnd.jupyter.widget-view+json": {
       "model_id": "b4b47f065083484682d6bace998000a3",
       "version_major": 2,
       "version_minor": 0
      },
      "text/plain": [
       "Training:   0%|          | 0/25 [00:00<?, ?it/s]"
      ]
     },
     "metadata": {},
     "output_type": "display_data"
    },
    {
     "data": {
      "application/vnd.jupyter.widget-view+json": {
       "model_id": "771f0ae2e5994b7fa90310140d157bc3",
       "version_major": 2,
       "version_minor": 0
      },
      "text/plain": [
       "Validation:   0%|          | 0/5 [00:00<?, ?it/s]"
      ]
     },
     "metadata": {},
     "output_type": "display_data"
    },
    {
     "name": "stdout",
     "output_type": "stream",
     "text": [
      "Train | Loss: 0.7174, Recall: 0.4661, Precision: 0.2077, F1: 0.2874\n",
      "Val   | Loss: 0.8051, Recall: 0.2224, Precision: 0.3887, F1: 0.2829\n",
      "-----------------------------\n",
      "Epoch 26\n"
     ]
    },
    {
     "data": {
      "application/vnd.jupyter.widget-view+json": {
       "model_id": "3593cc57879a4f2fbaa29ef76d18232a",
       "version_major": 2,
       "version_minor": 0
      },
      "text/plain": [
       "Training:   0%|          | 0/25 [00:00<?, ?it/s]"
      ]
     },
     "metadata": {},
     "output_type": "display_data"
    },
    {
     "data": {
      "application/vnd.jupyter.widget-view+json": {
       "model_id": "80fa918a414a4d4d81fb6db40c32c6e9",
       "version_major": 2,
       "version_minor": 0
      },
      "text/plain": [
       "Validation:   0%|          | 0/5 [00:00<?, ?it/s]"
      ]
     },
     "metadata": {},
     "output_type": "display_data"
    },
    {
     "name": "stdout",
     "output_type": "stream",
     "text": [
      "Train | Loss: 0.7363, Recall: 0.4273, Precision: 0.2557, F1: 0.3199\n",
      "Val   | Loss: 0.6627, Recall: 0.3663, Precision: 0.4345, F1: 0.3975\n",
      "-----------------------------\n",
      "Epoch 27\n"
     ]
    },
    {
     "data": {
      "application/vnd.jupyter.widget-view+json": {
       "model_id": "05f9005b5fda42de847742310f75e1a6",
       "version_major": 2,
       "version_minor": 0
      },
      "text/plain": [
       "Training:   0%|          | 0/25 [00:00<?, ?it/s]"
      ]
     },
     "metadata": {},
     "output_type": "display_data"
    },
    {
     "data": {
      "application/vnd.jupyter.widget-view+json": {
       "model_id": "357b44998724475bbf54e8dbf8740856",
       "version_major": 2,
       "version_minor": 0
      },
      "text/plain": [
       "Validation:   0%|          | 0/5 [00:00<?, ?it/s]"
      ]
     },
     "metadata": {},
     "output_type": "display_data"
    },
    {
     "name": "stdout",
     "output_type": "stream",
     "text": [
      "Train | Loss: 0.7061, Recall: 0.4868, Precision: 0.2293, F1: 0.3118\n",
      "Val   | Loss: 0.7221, Recall: 0.6925, Precision: 0.1974, F1: 0.3072\n",
      "-----------------------------\n",
      "Epoch 28\n"
     ]
    },
    {
     "data": {
      "application/vnd.jupyter.widget-view+json": {
       "model_id": "f21958464a5544228582dbbddadd38cb",
       "version_major": 2,
       "version_minor": 0
      },
      "text/plain": [
       "Training:   0%|          | 0/25 [00:00<?, ?it/s]"
      ]
     },
     "metadata": {},
     "output_type": "display_data"
    },
    {
     "data": {
      "application/vnd.jupyter.widget-view+json": {
       "model_id": "2fa62faaa8104286b67e6eaf78876749",
       "version_major": 2,
       "version_minor": 0
      },
      "text/plain": [
       "Validation:   0%|          | 0/5 [00:00<?, ?it/s]"
      ]
     },
     "metadata": {},
     "output_type": "display_data"
    },
    {
     "name": "stdout",
     "output_type": "stream",
     "text": [
      "Train | Loss: 0.6921, Recall: 0.5232, Precision: 0.2312, F1: 0.3207\n",
      "Val   | Loss: 0.7989, Recall: 0.1608, Precision: 0.4836, F1: 0.2413\n",
      "-----------------------------\n",
      "Epoch 29\n"
     ]
    },
    {
     "data": {
      "application/vnd.jupyter.widget-view+json": {
       "model_id": "73fbeefd2a704632adf858a0f9c8d20e",
       "version_major": 2,
       "version_minor": 0
      },
      "text/plain": [
       "Training:   0%|          | 0/25 [00:00<?, ?it/s]"
      ]
     },
     "metadata": {},
     "output_type": "display_data"
    },
    {
     "data": {
      "application/vnd.jupyter.widget-view+json": {
       "model_id": "d0961988965a45d484f066fd43611c54",
       "version_major": 2,
       "version_minor": 0
      },
      "text/plain": [
       "Validation:   0%|          | 0/5 [00:00<?, ?it/s]"
      ]
     },
     "metadata": {},
     "output_type": "display_data"
    },
    {
     "name": "stdout",
     "output_type": "stream",
     "text": [
      "Train | Loss: 0.7117, Recall: 0.4537, Precision: 0.2526, F1: 0.3245\n",
      "Val   | Loss: 0.6957, Recall: 0.2759, Precision: 0.5477, F1: 0.3670\n",
      "-----------------------------\n",
      "Epoch 30\n"
     ]
    },
    {
     "data": {
      "application/vnd.jupyter.widget-view+json": {
       "model_id": "1182d835e2b248598b4b28a17ed7078a",
       "version_major": 2,
       "version_minor": 0
      },
      "text/plain": [
       "Training:   0%|          | 0/25 [00:00<?, ?it/s]"
      ]
     },
     "metadata": {},
     "output_type": "display_data"
    },
    {
     "data": {
      "application/vnd.jupyter.widget-view+json": {
       "model_id": "4e3817b3fcea40ffb4a905ab2ea86876",
       "version_major": 2,
       "version_minor": 0
      },
      "text/plain": [
       "Validation:   0%|          | 0/5 [00:00<?, ?it/s]"
      ]
     },
     "metadata": {},
     "output_type": "display_data"
    },
    {
     "name": "stdout",
     "output_type": "stream",
     "text": [
      "Train | Loss: 0.7222, Recall: 0.4483, Precision: 0.2463, F1: 0.3180\n",
      "Val   | Loss: 0.6059, Recall: 0.6281, Precision: 0.2817, F1: 0.3890\n",
      "-----------------------------\n",
      "Epoch 31\n"
     ]
    },
    {
     "data": {
      "application/vnd.jupyter.widget-view+json": {
       "model_id": "a8e0666c46414c48a1cac02b2c67109a",
       "version_major": 2,
       "version_minor": 0
      },
      "text/plain": [
       "Training:   0%|          | 0/25 [00:00<?, ?it/s]"
      ]
     },
     "metadata": {},
     "output_type": "display_data"
    },
    {
     "data": {
      "application/vnd.jupyter.widget-view+json": {
       "model_id": "1217af76f4df42a5be6c9565397043f7",
       "version_major": 2,
       "version_minor": 0
      },
      "text/plain": [
       "Validation:   0%|          | 0/5 [00:00<?, ?it/s]"
      ]
     },
     "metadata": {},
     "output_type": "display_data"
    },
    {
     "name": "stdout",
     "output_type": "stream",
     "text": [
      "Train | Loss: 0.7322, Recall: 0.4193, Precision: 0.2298, F1: 0.2969\n",
      "Val   | Loss: 0.6447, Recall: 0.6032, Precision: 0.2645, F1: 0.3678\n",
      "-----------------------------\n",
      "Epoch 32\n"
     ]
    },
    {
     "data": {
      "application/vnd.jupyter.widget-view+json": {
       "model_id": "370d98769acb494eb874865032f299b6",
       "version_major": 2,
       "version_minor": 0
      },
      "text/plain": [
       "Training:   0%|          | 0/25 [00:00<?, ?it/s]"
      ]
     },
     "metadata": {},
     "output_type": "display_data"
    },
    {
     "data": {
      "application/vnd.jupyter.widget-view+json": {
       "model_id": "82389c4e3f254c908392853ab1b81209",
       "version_major": 2,
       "version_minor": 0
      },
      "text/plain": [
       "Validation:   0%|          | 0/5 [00:00<?, ?it/s]"
      ]
     },
     "metadata": {},
     "output_type": "display_data"
    },
    {
     "name": "stdout",
     "output_type": "stream",
     "text": [
      "Train | Loss: 0.7033, Recall: 0.4847, Precision: 0.2310, F1: 0.3129\n",
      "Val   | Loss: 0.7154, Recall: 0.2456, Precision: 0.5316, F1: 0.3359\n",
      "-----------------------------\n",
      "Epoch 33\n"
     ]
    },
    {
     "data": {
      "application/vnd.jupyter.widget-view+json": {
       "model_id": "93f58e2d8777499d87b8b1e96fa0a221",
       "version_major": 2,
       "version_minor": 0
      },
      "text/plain": [
       "Training:   0%|          | 0/25 [00:00<?, ?it/s]"
      ]
     },
     "metadata": {},
     "output_type": "display_data"
    },
    {
     "data": {
      "application/vnd.jupyter.widget-view+json": {
       "model_id": "b87bd26a54ad4ef998c38cd47bac4cfb",
       "version_major": 2,
       "version_minor": 0
      },
      "text/plain": [
       "Validation:   0%|          | 0/5 [00:00<?, ?it/s]"
      ]
     },
     "metadata": {},
     "output_type": "display_data"
    },
    {
     "name": "stdout",
     "output_type": "stream",
     "text": [
      "Train | Loss: 0.6816, Recall: 0.4680, Precision: 0.3004, F1: 0.3659\n",
      "Val   | Loss: 0.7105, Recall: 0.2575, Precision: 0.5191, F1: 0.3442\n",
      "-----------------------------\n",
      "Epoch 34\n"
     ]
    },
    {
     "data": {
      "application/vnd.jupyter.widget-view+json": {
       "model_id": "c547f9b1f8bc4cbd9369eb05c9369137",
       "version_major": 2,
       "version_minor": 0
      },
      "text/plain": [
       "Training:   0%|          | 0/25 [00:00<?, ?it/s]"
      ]
     },
     "metadata": {},
     "output_type": "display_data"
    },
    {
     "data": {
      "application/vnd.jupyter.widget-view+json": {
       "model_id": "c5d81a75007c4f76bbf3a510452503b2",
       "version_major": 2,
       "version_minor": 0
      },
      "text/plain": [
       "Validation:   0%|          | 0/5 [00:00<?, ?it/s]"
      ]
     },
     "metadata": {},
     "output_type": "display_data"
    },
    {
     "name": "stdout",
     "output_type": "stream",
     "text": [
      "Train | Loss: 0.6815, Recall: 0.4984, Precision: 0.2868, F1: 0.3641\n",
      "Val   | Loss: 0.7266, Recall: 0.2200, Precision: 0.6238, F1: 0.3253\n",
      "-----------------------------\n",
      "Epoch 35\n"
     ]
    },
    {
     "data": {
      "application/vnd.jupyter.widget-view+json": {
       "model_id": "22ce95c3f77f4c48b92aeb4600ace35f",
       "version_major": 2,
       "version_minor": 0
      },
      "text/plain": [
       "Training:   0%|          | 0/25 [00:00<?, ?it/s]"
      ]
     },
     "metadata": {},
     "output_type": "display_data"
    },
    {
     "data": {
      "application/vnd.jupyter.widget-view+json": {
       "model_id": "c51ffacaa9904c8889ea7bf940690129",
       "version_major": 2,
       "version_minor": 0
      },
      "text/plain": [
       "Validation:   0%|          | 0/5 [00:00<?, ?it/s]"
      ]
     },
     "metadata": {},
     "output_type": "display_data"
    },
    {
     "name": "stdout",
     "output_type": "stream",
     "text": [
      "Train | Loss: 0.6957, Recall: 0.4262, Precision: 0.3051, F1: 0.3556\n",
      "Val   | Loss: 0.6478, Recall: 0.6785, Precision: 0.2770, F1: 0.3934\n",
      "-----------------------------\n",
      "Epoch 36\n"
     ]
    },
    {
     "data": {
      "application/vnd.jupyter.widget-view+json": {
       "model_id": "90efbec1b74347e08e9ce52d67711721",
       "version_major": 2,
       "version_minor": 0
      },
      "text/plain": [
       "Training:   0%|          | 0/25 [00:00<?, ?it/s]"
      ]
     },
     "metadata": {},
     "output_type": "display_data"
    },
    {
     "data": {
      "application/vnd.jupyter.widget-view+json": {
       "model_id": "9e50265769884b8ba722e12c7fbc48e1",
       "version_major": 2,
       "version_minor": 0
      },
      "text/plain": [
       "Validation:   0%|          | 0/5 [00:00<?, ?it/s]"
      ]
     },
     "metadata": {},
     "output_type": "display_data"
    },
    {
     "name": "stdout",
     "output_type": "stream",
     "text": [
      "Train | Loss: 0.6885, Recall: 0.4553, Precision: 0.3131, F1: 0.3710\n",
      "Val   | Loss: 0.7846, Recall: 0.1626, Precision: 0.6724, F1: 0.2618\n",
      "-----------------------------\n",
      "Epoch 37\n"
     ]
    },
    {
     "data": {
      "application/vnd.jupyter.widget-view+json": {
       "model_id": "132789779ed34a409a266b755b0f15d6",
       "version_major": 2,
       "version_minor": 0
      },
      "text/plain": [
       "Training:   0%|          | 0/25 [00:00<?, ?it/s]"
      ]
     },
     "metadata": {},
     "output_type": "display_data"
    },
    {
     "data": {
      "application/vnd.jupyter.widget-view+json": {
       "model_id": "fd3051ec0f6b4391bec6ba10af4857e4",
       "version_major": 2,
       "version_minor": 0
      },
      "text/plain": [
       "Validation:   0%|          | 0/5 [00:00<?, ?it/s]"
      ]
     },
     "metadata": {},
     "output_type": "display_data"
    },
    {
     "name": "stdout",
     "output_type": "stream",
     "text": [
      "Train | Loss: 0.6774, Recall: 0.4786, Precision: 0.3095, F1: 0.3759\n",
      "Val   | Loss: 0.6106, Recall: 0.6588, Precision: 0.3484, F1: 0.4557\n",
      "-----------------------------\n",
      "Epoch 38\n"
     ]
    },
    {
     "data": {
      "application/vnd.jupyter.widget-view+json": {
       "model_id": "f027bc0ddda746d7bc6a5cb04abc3cae",
       "version_major": 2,
       "version_minor": 0
      },
      "text/plain": [
       "Training:   0%|          | 0/25 [00:00<?, ?it/s]"
      ]
     },
     "metadata": {},
     "output_type": "display_data"
    },
    {
     "data": {
      "application/vnd.jupyter.widget-view+json": {
       "model_id": "0e7a0665b7cf4bdcaf465b0298ab18ed",
       "version_major": 2,
       "version_minor": 0
      },
      "text/plain": [
       "Validation:   0%|          | 0/5 [00:00<?, ?it/s]"
      ]
     },
     "metadata": {},
     "output_type": "display_data"
    },
    {
     "name": "stdout",
     "output_type": "stream",
     "text": [
      "Train | Loss: 0.6697, Recall: 0.4793, Precision: 0.3297, F1: 0.3907\n",
      "Val   | Loss: 0.5544, Recall: 0.4830, Precision: 0.5528, F1: 0.5155\n",
      "-----------------------------\n",
      "Epoch 39\n"
     ]
    },
    {
     "data": {
      "application/vnd.jupyter.widget-view+json": {
       "model_id": "cfb29e55dd704ffd9ede01f51fae0ba8",
       "version_major": 2,
       "version_minor": 0
      },
      "text/plain": [
       "Training:   0%|          | 0/25 [00:00<?, ?it/s]"
      ]
     },
     "metadata": {},
     "output_type": "display_data"
    },
    {
     "data": {
      "application/vnd.jupyter.widget-view+json": {
       "model_id": "1cbd5082465a42018ddc3d5fb5bdb875",
       "version_major": 2,
       "version_minor": 0
      },
      "text/plain": [
       "Validation:   0%|          | 0/5 [00:00<?, ?it/s]"
      ]
     },
     "metadata": {},
     "output_type": "display_data"
    },
    {
     "name": "stdout",
     "output_type": "stream",
     "text": [
      "Train | Loss: 0.6577, Recall: 0.4978, Precision: 0.3482, F1: 0.4097\n",
      "Val   | Loss: 0.5691, Recall: 0.7015, Precision: 0.3608, F1: 0.4765\n",
      "-----------------------------\n",
      "Epoch 40\n"
     ]
    },
    {
     "data": {
      "application/vnd.jupyter.widget-view+json": {
       "model_id": "d6cb5a6c2b0a48b7bc512480c2e5569d",
       "version_major": 2,
       "version_minor": 0
      },
      "text/plain": [
       "Training:   0%|          | 0/25 [00:00<?, ?it/s]"
      ]
     },
     "metadata": {},
     "output_type": "display_data"
    },
    {
     "data": {
      "application/vnd.jupyter.widget-view+json": {
       "model_id": "0aad06cdf9c447c3beae9812b1d3eff0",
       "version_major": 2,
       "version_minor": 0
      },
      "text/plain": [
       "Validation:   0%|          | 0/5 [00:00<?, ?it/s]"
      ]
     },
     "metadata": {},
     "output_type": "display_data"
    },
    {
     "name": "stdout",
     "output_type": "stream",
     "text": [
      "Train | Loss: 0.6536, Recall: 0.4674, Precision: 0.3556, F1: 0.4039\n",
      "Val   | Loss: 0.6385, Recall: 0.7022, Precision: 0.2927, F1: 0.4132\n",
      "-----------------------------\n",
      "Epoch 41\n"
     ]
    },
    {
     "data": {
      "application/vnd.jupyter.widget-view+json": {
       "model_id": "27bb02c2e8a347a2b8891d640b40d658",
       "version_major": 2,
       "version_minor": 0
      },
      "text/plain": [
       "Training:   0%|          | 0/25 [00:00<?, ?it/s]"
      ]
     },
     "metadata": {},
     "output_type": "display_data"
    },
    {
     "data": {
      "application/vnd.jupyter.widget-view+json": {
       "model_id": "eca6686a8eda4cf8a7ed5454e8b2103a",
       "version_major": 2,
       "version_minor": 0
      },
      "text/plain": [
       "Validation:   0%|          | 0/5 [00:00<?, ?it/s]"
      ]
     },
     "metadata": {},
     "output_type": "display_data"
    },
    {
     "name": "stdout",
     "output_type": "stream",
     "text": [
      "Train | Loss: 0.6530, Recall: 0.5057, Precision: 0.3470, F1: 0.4116\n",
      "Val   | Loss: 0.6166, Recall: 0.3743, Precision: 0.5693, F1: 0.4517\n",
      "-----------------------------\n",
      "Epoch 42\n"
     ]
    },
    {
     "data": {
      "application/vnd.jupyter.widget-view+json": {
       "model_id": "08ffb7fdd49646a2a8ccaaf3176e6cb9",
       "version_major": 2,
       "version_minor": 0
      },
      "text/plain": [
       "Training:   0%|          | 0/25 [00:00<?, ?it/s]"
      ]
     },
     "metadata": {},
     "output_type": "display_data"
    },
    {
     "data": {
      "application/vnd.jupyter.widget-view+json": {
       "model_id": "48f21eb1153b4384b3212570088875e2",
       "version_major": 2,
       "version_minor": 0
      },
      "text/plain": [
       "Validation:   0%|          | 0/5 [00:00<?, ?it/s]"
      ]
     },
     "metadata": {},
     "output_type": "display_data"
    },
    {
     "name": "stdout",
     "output_type": "stream",
     "text": [
      "Train | Loss: 0.6319, Recall: 0.4944, Precision: 0.3693, F1: 0.4228\n",
      "Val   | Loss: 0.5600, Recall: 0.7300, Precision: 0.3350, F1: 0.4593\n",
      "-----------------------------\n",
      "Epoch 43\n"
     ]
    },
    {
     "data": {
      "application/vnd.jupyter.widget-view+json": {
       "model_id": "60834dce95fb4618b296123015df0078",
       "version_major": 2,
       "version_minor": 0
      },
      "text/plain": [
       "Training:   0%|          | 0/25 [00:00<?, ?it/s]"
      ]
     },
     "metadata": {},
     "output_type": "display_data"
    },
    {
     "data": {
      "application/vnd.jupyter.widget-view+json": {
       "model_id": "faebc655e3d34e2d83ca4cc80d7d37e9",
       "version_major": 2,
       "version_minor": 0
      },
      "text/plain": [
       "Validation:   0%|          | 0/5 [00:00<?, ?it/s]"
      ]
     },
     "metadata": {},
     "output_type": "display_data"
    },
    {
     "name": "stdout",
     "output_type": "stream",
     "text": [
      "Train | Loss: 0.6403, Recall: 0.4939, Precision: 0.3577, F1: 0.4149\n",
      "Val   | Loss: 0.7192, Recall: 0.2773, Precision: 0.6275, F1: 0.3847\n",
      "-----------------------------\n",
      "Epoch 44\n"
     ]
    },
    {
     "data": {
      "application/vnd.jupyter.widget-view+json": {
       "model_id": "30a877549ef046f5a2351d7bc62ab880",
       "version_major": 2,
       "version_minor": 0
      },
      "text/plain": [
       "Training:   0%|          | 0/25 [00:00<?, ?it/s]"
      ]
     },
     "metadata": {},
     "output_type": "display_data"
    },
    {
     "data": {
      "application/vnd.jupyter.widget-view+json": {
       "model_id": "74273fc157a2476fa9ed2ccfb5ce92ee",
       "version_major": 2,
       "version_minor": 0
      },
      "text/plain": [
       "Validation:   0%|          | 0/5 [00:00<?, ?it/s]"
      ]
     },
     "metadata": {},
     "output_type": "display_data"
    },
    {
     "name": "stdout",
     "output_type": "stream",
     "text": [
      "Train | Loss: 0.6422, Recall: 0.5015, Precision: 0.3491, F1: 0.4116\n",
      "Val   | Loss: 0.5287, Recall: 0.5583, Precision: 0.4652, F1: 0.5075\n",
      "-----------------------------\n",
      "Epoch 45\n"
     ]
    },
    {
     "data": {
      "application/vnd.jupyter.widget-view+json": {
       "model_id": "ad312ce0e608458593c2e81677e674b5",
       "version_major": 2,
       "version_minor": 0
      },
      "text/plain": [
       "Training:   0%|          | 0/25 [00:00<?, ?it/s]"
      ]
     },
     "metadata": {},
     "output_type": "display_data"
    },
    {
     "data": {
      "application/vnd.jupyter.widget-view+json": {
       "model_id": "b3abd64d448f4e328c99473e39fd3d84",
       "version_major": 2,
       "version_minor": 0
      },
      "text/plain": [
       "Validation:   0%|          | 0/5 [00:00<?, ?it/s]"
      ]
     },
     "metadata": {},
     "output_type": "display_data"
    },
    {
     "name": "stdout",
     "output_type": "stream",
     "text": [
      "Train | Loss: 0.6514, Recall: 0.5012, Precision: 0.3587, F1: 0.4181\n",
      "Val   | Loss: 0.5552, Recall: 0.6488, Precision: 0.3358, F1: 0.4425\n",
      "-----------------------------\n",
      "Epoch 46\n"
     ]
    },
    {
     "data": {
      "application/vnd.jupyter.widget-view+json": {
       "model_id": "77066f61ee0244e89d368e936b04d140",
       "version_major": 2,
       "version_minor": 0
      },
      "text/plain": [
       "Training:   0%|          | 0/25 [00:00<?, ?it/s]"
      ]
     },
     "metadata": {},
     "output_type": "display_data"
    },
    {
     "data": {
      "application/vnd.jupyter.widget-view+json": {
       "model_id": "35d102c4543441bf8a7bd7931cb0938e",
       "version_major": 2,
       "version_minor": 0
      },
      "text/plain": [
       "Validation:   0%|          | 0/5 [00:00<?, ?it/s]"
      ]
     },
     "metadata": {},
     "output_type": "display_data"
    },
    {
     "name": "stdout",
     "output_type": "stream",
     "text": [
      "Train | Loss: 0.6699, Recall: 0.5229, Precision: 0.3416, F1: 0.4132\n",
      "Val   | Loss: 0.7366, Recall: 0.1980, Precision: 0.7261, F1: 0.3112\n",
      "-----------------------------\n",
      "Epoch 47\n"
     ]
    },
    {
     "data": {
      "application/vnd.jupyter.widget-view+json": {
       "model_id": "7cce70c13d57470e99c1f795e0484389",
       "version_major": 2,
       "version_minor": 0
      },
      "text/plain": [
       "Training:   0%|          | 0/25 [00:00<?, ?it/s]"
      ]
     },
     "metadata": {},
     "output_type": "display_data"
    },
    {
     "data": {
      "application/vnd.jupyter.widget-view+json": {
       "model_id": "2e49c96a9d7646a6b410bf6ffe6cd0a1",
       "version_major": 2,
       "version_minor": 0
      },
      "text/plain": [
       "Validation:   0%|          | 0/5 [00:00<?, ?it/s]"
      ]
     },
     "metadata": {},
     "output_type": "display_data"
    },
    {
     "name": "stdout",
     "output_type": "stream",
     "text": [
      "Train | Loss: 0.6640, Recall: 0.4984, Precision: 0.3771, F1: 0.4293\n",
      "Val   | Loss: 0.5155, Recall: 0.6134, Precision: 0.4441, F1: 0.5152\n",
      "-----------------------------\n",
      "Epoch 48\n"
     ]
    },
    {
     "data": {
      "application/vnd.jupyter.widget-view+json": {
       "model_id": "ea0d5170ea5b44f9bed094380942b078",
       "version_major": 2,
       "version_minor": 0
      },
      "text/plain": [
       "Training:   0%|          | 0/25 [00:00<?, ?it/s]"
      ]
     },
     "metadata": {},
     "output_type": "display_data"
    },
    {
     "data": {
      "application/vnd.jupyter.widget-view+json": {
       "model_id": "b68cd8ddee554ed5b89602d95520a582",
       "version_major": 2,
       "version_minor": 0
      },
      "text/plain": [
       "Validation:   0%|          | 0/5 [00:00<?, ?it/s]"
      ]
     },
     "metadata": {},
     "output_type": "display_data"
    },
    {
     "name": "stdout",
     "output_type": "stream",
     "text": [
      "Train | Loss: 0.6483, Recall: 0.5214, Precision: 0.3542, F1: 0.4218\n",
      "Val   | Loss: 0.5870, Recall: 0.4420, Precision: 0.5815, F1: 0.5023\n",
      "-----------------------------\n",
      "Epoch 49\n"
     ]
    },
    {
     "data": {
      "application/vnd.jupyter.widget-view+json": {
       "model_id": "d2e951f5fa0749468d586ce7459c4e7c",
       "version_major": 2,
       "version_minor": 0
      },
      "text/plain": [
       "Training:   0%|          | 0/25 [00:00<?, ?it/s]"
      ]
     },
     "metadata": {},
     "output_type": "display_data"
    },
    {
     "data": {
      "application/vnd.jupyter.widget-view+json": {
       "model_id": "5d27b7d15b5e4127983160debfd5c737",
       "version_major": 2,
       "version_minor": 0
      },
      "text/plain": [
       "Validation:   0%|          | 0/5 [00:00<?, ?it/s]"
      ]
     },
     "metadata": {},
     "output_type": "display_data"
    },
    {
     "name": "stdout",
     "output_type": "stream",
     "text": [
      "Train | Loss: 0.6480, Recall: 0.5179, Precision: 0.3678, F1: 0.4301\n",
      "Val   | Loss: 0.7066, Recall: 0.2474, Precision: 0.7337, F1: 0.3700\n",
      "-----------------------------\n",
      "Epoch 50\n"
     ]
    },
    {
     "data": {
      "application/vnd.jupyter.widget-view+json": {
       "model_id": "39721e0957574cbfa10b5a77b69b5edc",
       "version_major": 2,
       "version_minor": 0
      },
      "text/plain": [
       "Training:   0%|          | 0/25 [00:00<?, ?it/s]"
      ]
     },
     "metadata": {},
     "output_type": "display_data"
    },
    {
     "data": {
      "application/vnd.jupyter.widget-view+json": {
       "model_id": "23ad1d7ed8f4475593818ee5b4063fd6",
       "version_major": 2,
       "version_minor": 0
      },
      "text/plain": [
       "Validation:   0%|          | 0/5 [00:00<?, ?it/s]"
      ]
     },
     "metadata": {},
     "output_type": "display_data"
    },
    {
     "name": "stdout",
     "output_type": "stream",
     "text": [
      "Train | Loss: 0.6130, Recall: 0.5278, Precision: 0.4040, F1: 0.4577\n",
      "Val   | Loss: 0.8100, Recall: 0.8660, Precision: 0.1207, F1: 0.2118\n",
      "-----------------------------\n",
      "Training Complete!\n",
      "Saved PyTorch Model to  /home/tommytang111/gap-junction-segmentation/models/sweep_model_2p8h82co.pt\n"
     ]
    },
    {
     "data": {
      "text/html": [],
      "text/plain": [
       "<IPython.core.display.HTML object>"
      ]
     },
     "metadata": {},
     "output_type": "display_data"
    },
    {
     "data": {
      "text/html": [
       "<br>    <style><br>        .wandb-row {<br>            display: flex;<br>            flex-direction: row;<br>            flex-wrap: wrap;<br>            justify-content: flex-start;<br>            width: 100%;<br>        }<br>        .wandb-col {<br>            display: flex;<br>            flex-direction: column;<br>            flex-basis: 100%;<br>            flex: 1;<br>            padding: 10px;<br>        }<br>    </style><br><div class=\"wandb-row\"><div class=\"wandb-col\"><h3>Run history:</h3><br/><table class=\"wandb\"><tr><td>best_epoch</td><td>▁▁▁▁▂▂▂▂▃▃▃▃▃▃▄▄▅▅▅▅▆▆▆▆▆▆▆▆▆███████████</td></tr><tr><td>best_val_f1</td><td>▁▃▃▃▃▄▄▄▄▅▅▅▅▅▅▅▅▅▅▅▆▆▆▆▆▆▆▆▆▇██████████</td></tr><tr><td>best_val_loss</td><td>█▇▇▇▇▅▅▅▅▄▄▄▄▄▄▄▄▃▃▃▃▃▃▃▃▃▃▃▃▃▂▂▂▂▂▁▁▁▁▁</td></tr><tr><td>epoch</td><td>▁▁▁▁▂▂▂▂▂▃▃▃▃▃▃▄▄▄▄▄▅▅▅▅▅▆▆▆▆▆▆▇▇▇▇▇▇███</td></tr><tr><td>lr</td><td>▁▁▁▁▁▁▁▁▁▁▁▁▁▁▁▁▁▁▁▁▁▁▁▁▁▁▁▁▁▁▁▁▁▁▁▁▁▁▁▁</td></tr><tr><td>train_f1</td><td>▁▂▂▂▂▃▂▂▃▃▄▃▃▃▄▄▄▄▄▄▅▅▅▅▅▅▆▆▆▆▇▇▇▇▇▇▇▇▇█</td></tr><tr><td>train_loss</td><td>██▇█▇▆▇▆▇▆▆▆▆▆▄▅▅▅▄▄▄▃▃▄▄▃▃▃▃▃▂▂▂▁▂▂▂▂▂▁</td></tr><tr><td>train_precision</td><td>▁▂▂▂▂▂▂▂▂▂▃▃▃▃▃▃▄▃▃▄▄▅▅▅▅▅▅▆▆▆▆▇▇▇▇▇▇▇▇█</td></tr><tr><td>train_recall</td><td>█▄▃▅▄▃▅▁▄▃▄▅▄▅▅▄▄▅▄▅▃▅▆▄▄▅▅▆▃▄▅▅▅▆▅▆▆▆▆▆</td></tr><tr><td>val_f1</td><td>▁▃▃▃▁▄▄▄▃▅▃▅▄▅▄▅▃▅▅▅▄▆▅▄▆▆▅▅▅▆▇█▆▇▇█▇▅█▃</td></tr><tr><td>val_loss</td><td>█▆▆▇█▅▆▆▄▅▄▅▄▅▆▆▆▄▃▅▃▄▆▄▃▄▅▃▅▃▂▃▃▂▄▂▅▁▂▆</td></tr><tr><td>val_precision</td><td>▃▁▁▃▁▂▂▃▃▂▄▁▂▁▄▅▅▃▂▂▅▂▅▆▃▆▆▃▇▄▄▃▆▃▇▃█▅▆▁</td></tr><tr><td>val_recall</td><td>▁▃▄▂▁▅▅▃▂▅▂▄▇▅▇▄▂▃▄▆▃▄▇▃▆▃▃▆▂▆▇▇▄▇▃▆▂▆▄█</td></tr></table><br/></div><div class=\"wandb-col\"><h3>Run summary:</h3><br/><table class=\"wandb\"><tr><td>best_epoch</td><td>37</td></tr><tr><td>best_val_f1</td><td>0.51551</td></tr><tr><td>best_val_loss</td><td>0.5155</td></tr><tr><td>epoch</td><td>50</td></tr><tr><td>lr</td><td>0.001</td></tr><tr><td>train_f1</td><td>0.45769</td></tr><tr><td>train_loss</td><td>0.61301</td></tr><tr><td>train_precision</td><td>0.40402</td></tr><tr><td>train_recall</td><td>0.52779</td></tr><tr><td>val_f1</td><td>0.21181</td></tr><tr><td>val_loss</td><td>0.80998</td></tr><tr><td>val_precision</td><td>0.12066</td></tr><tr><td>val_recall</td><td>0.86597</td></tr></table><br/></div></div>"
      ],
      "text/plain": [
       "<IPython.core.display.HTML object>"
      ]
     },
     "metadata": {},
     "output_type": "display_data"
    },
    {
     "data": {
      "text/html": [
       " View run <strong style=\"color:#cdcd00\">desert-sweep-4</strong> at: <a href='https://wandb.ai/zhen_lab/gap-junction-segmentation/runs/2p8h82co' target=\"_blank\">https://wandb.ai/zhen_lab/gap-junction-segmentation/runs/2p8h82co</a><br> View project at: <a href='https://wandb.ai/zhen_lab/gap-junction-segmentation' target=\"_blank\">https://wandb.ai/zhen_lab/gap-junction-segmentation</a><br>Synced 5 W&B file(s), 0 media file(s), 0 artifact file(s) and 0 other file(s)"
      ],
      "text/plain": [
       "<IPython.core.display.HTML object>"
      ]
     },
     "metadata": {},
     "output_type": "display_data"
    },
    {
     "data": {
      "text/html": [
       "Find logs at: <code>/home/tommytang111/gap-junction-segmentation/wandb/wandb/run-20250606_145703-2p8h82co/logs</code>"
      ],
      "text/plain": [
       "<IPython.core.display.HTML object>"
      ]
     },
     "metadata": {},
     "output_type": "display_data"
    },
    {
     "name": "stderr",
     "output_type": "stream",
     "text": [
      "\u001b[34m\u001b[1mwandb\u001b[0m: Agent Starting Run: y21y27lq with config:\n",
      "\u001b[34m\u001b[1mwandb\u001b[0m: \taugmentation: custom1\n",
      "\u001b[34m\u001b[1mwandb\u001b[0m: \tbatch_size: 8\n",
      "\u001b[34m\u001b[1mwandb\u001b[0m: \tdropout: 0\n",
      "\u001b[34m\u001b[1mwandb\u001b[0m: \tlearning_rate: 0.0001\n",
      "\u001b[34m\u001b[1mwandb\u001b[0m: \tloss_function: GenDLoss\n",
      "\u001b[34m\u001b[1mwandb\u001b[0m: \toptimizer: AdamW\n",
      "\u001b[34m\u001b[1mwandb\u001b[0m: \u001b[33mWARNING\u001b[0m If you're specifying your api key in code, ensure this code is not shared publicly.\n",
      "\u001b[34m\u001b[1mwandb\u001b[0m: \u001b[33mWARNING\u001b[0m Consider setting the WANDB_API_KEY environment variable, or running `wandb login` from the command line.\n",
      "\u001b[34m\u001b[1mwandb\u001b[0m: Appending key for api.wandb.ai to your netrc file: /home/tommytang111/.netrc\n"
     ]
    },
    {
     "data": {
      "text/html": [
       "Ignoring project 'gap-junction-segmentation' when running a sweep."
      ],
      "text/plain": [
       "<IPython.core.display.HTML object>"
      ]
     },
     "metadata": {},
     "output_type": "display_data"
    },
    {
     "data": {
      "text/html": [
       "Ignoring entity 'zhen_lab' when running a sweep."
      ],
      "text/plain": [
       "<IPython.core.display.HTML object>"
      ]
     },
     "metadata": {},
     "output_type": "display_data"
    },
    {
     "data": {
      "text/html": [
       "Tracking run with wandb version 0.19.10"
      ],
      "text/plain": [
       "<IPython.core.display.HTML object>"
      ]
     },
     "metadata": {},
     "output_type": "display_data"
    },
    {
     "data": {
      "text/html": [
       "Run data is saved locally in <code>/home/tommytang111/gap-junction-segmentation/wandb/wandb/run-20250606_151013-y21y27lq</code>"
      ],
      "text/plain": [
       "<IPython.core.display.HTML object>"
      ]
     },
     "metadata": {},
     "output_type": "display_data"
    },
    {
     "data": {
      "text/html": [
       "Syncing run <strong><a href='https://wandb.ai/zhen_lab/gap-junction-segmentation/runs/y21y27lq' target=\"_blank\">dark-sweep-5</a></strong> to <a href='https://wandb.ai/zhen_lab/gap-junction-segmentation' target=\"_blank\">Weights & Biases</a> (<a href='https://wandb.me/developer-guide' target=\"_blank\">docs</a>)<br>Sweep page: <a href='https://wandb.ai/zhen_lab/gap-junction-segmentation/sweeps/dwqzhjxz' target=\"_blank\">https://wandb.ai/zhen_lab/gap-junction-segmentation/sweeps/dwqzhjxz</a>"
      ],
      "text/plain": [
       "<IPython.core.display.HTML object>"
      ]
     },
     "metadata": {},
     "output_type": "display_data"
    },
    {
     "data": {
      "text/html": [
       " View project at <a href='https://wandb.ai/zhen_lab/gap-junction-segmentation' target=\"_blank\">https://wandb.ai/zhen_lab/gap-junction-segmentation</a>"
      ],
      "text/plain": [
       "<IPython.core.display.HTML object>"
      ]
     },
     "metadata": {},
     "output_type": "display_data"
    },
    {
     "data": {
      "text/html": [
       " View sweep at <a href='https://wandb.ai/zhen_lab/gap-junction-segmentation/sweeps/dwqzhjxz' target=\"_blank\">https://wandb.ai/zhen_lab/gap-junction-segmentation/sweeps/dwqzhjxz</a>"
      ],
      "text/plain": [
       "<IPython.core.display.HTML object>"
      ]
     },
     "metadata": {},
     "output_type": "display_data"
    },
    {
     "data": {
      "text/html": [
       " View run at <a href='https://wandb.ai/zhen_lab/gap-junction-segmentation/runs/y21y27lq' target=\"_blank\">https://wandb.ai/zhen_lab/gap-junction-segmentation/runs/y21y27lq</a>"
      ],
      "text/plain": [
       "<IPython.core.display.HTML object>"
      ]
     },
     "metadata": {},
     "output_type": "display_data"
    },
    {
     "name": "stdout",
     "output_type": "stream",
     "text": [
      "Epoch 1\n"
     ]
    },
    {
     "data": {
      "application/vnd.jupyter.widget-view+json": {
       "model_id": "9a499f27a9564e3abaa1d730c4df5635",
       "version_major": 2,
       "version_minor": 0
      },
      "text/plain": [
       "Training:   0%|          | 0/25 [00:00<?, ?it/s]"
      ]
     },
     "metadata": {},
     "output_type": "display_data"
    },
    {
     "data": {
      "application/vnd.jupyter.widget-view+json": {
       "model_id": "98eb7999f755478d9d804fb51bcf1f61",
       "version_major": 2,
       "version_minor": 0
      },
      "text/plain": [
       "Validation:   0%|          | 0/5 [00:00<?, ?it/s]"
      ]
     },
     "metadata": {},
     "output_type": "display_data"
    },
    {
     "name": "stdout",
     "output_type": "stream",
     "text": [
      "Train | Loss: 0.9555, Recall: 0.8149, Precision: 0.0357, F1: 0.0684\n",
      "Val   | Loss: 0.9355, Recall: 0.1560, Precision: 0.3724, F1: 0.2199\n",
      "-----------------------------\n",
      "Epoch 2\n"
     ]
    },
    {
     "data": {
      "application/vnd.jupyter.widget-view+json": {
       "model_id": "256fbb36e77048978941ca631737b93b",
       "version_major": 2,
       "version_minor": 0
      },
      "text/plain": [
       "Training:   0%|          | 0/25 [00:00<?, ?it/s]"
      ]
     },
     "metadata": {},
     "output_type": "display_data"
    },
    {
     "data": {
      "application/vnd.jupyter.widget-view+json": {
       "model_id": "cb8fe07c75d64ff888b9717fe9fe914d",
       "version_major": 2,
       "version_minor": 0
      },
      "text/plain": [
       "Validation:   0%|          | 0/5 [00:00<?, ?it/s]"
      ]
     },
     "metadata": {},
     "output_type": "display_data"
    },
    {
     "name": "stdout",
     "output_type": "stream",
     "text": [
      "Train | Loss: 0.9029, Recall: 0.6931, Precision: 0.0470, F1: 0.0880\n",
      "Val   | Loss: 0.8093, Recall: 0.3269, Precision: 0.2978, F1: 0.3117\n",
      "-----------------------------\n",
      "Epoch 3\n"
     ]
    },
    {
     "data": {
      "application/vnd.jupyter.widget-view+json": {
       "model_id": "08726163a416417aa34c65b147635849",
       "version_major": 2,
       "version_minor": 0
      },
      "text/plain": [
       "Training:   0%|          | 0/25 [00:00<?, ?it/s]"
      ]
     },
     "metadata": {},
     "output_type": "display_data"
    },
    {
     "data": {
      "application/vnd.jupyter.widget-view+json": {
       "model_id": "37ca3bec72d3445cb843c6a77ed70e09",
       "version_major": 2,
       "version_minor": 0
      },
      "text/plain": [
       "Validation:   0%|          | 0/5 [00:00<?, ?it/s]"
      ]
     },
     "metadata": {},
     "output_type": "display_data"
    },
    {
     "name": "stdout",
     "output_type": "stream",
     "text": [
      "Train | Loss: 0.8361, Recall: 0.5528, Precision: 0.0963, F1: 0.1640\n",
      "Val   | Loss: 0.7077, Recall: 0.5987, Precision: 0.2695, F1: 0.3717\n",
      "-----------------------------\n",
      "Epoch 4\n"
     ]
    },
    {
     "data": {
      "application/vnd.jupyter.widget-view+json": {
       "model_id": "9628a059a8f944a7b7fb2391b32ca366",
       "version_major": 2,
       "version_minor": 0
      },
      "text/plain": [
       "Training:   0%|          | 0/25 [00:00<?, ?it/s]"
      ]
     },
     "metadata": {},
     "output_type": "display_data"
    },
    {
     "data": {
      "application/vnd.jupyter.widget-view+json": {
       "model_id": "64e50d816af54e05b6f733387c672fc3",
       "version_major": 2,
       "version_minor": 0
      },
      "text/plain": [
       "Validation:   0%|          | 0/5 [00:00<?, ?it/s]"
      ]
     },
     "metadata": {},
     "output_type": "display_data"
    },
    {
     "name": "stdout",
     "output_type": "stream",
     "text": [
      "Train | Loss: 0.7462, Recall: 0.4828, Precision: 0.2391, F1: 0.3199\n",
      "Val   | Loss: 0.6163, Recall: 0.5041, Precision: 0.4694, F1: 0.4861\n",
      "-----------------------------\n",
      "Epoch 5\n"
     ]
    },
    {
     "data": {
      "application/vnd.jupyter.widget-view+json": {
       "model_id": "e83ba28917d0467496c63c01d408cb07",
       "version_major": 2,
       "version_minor": 0
      },
      "text/plain": [
       "Training:   0%|          | 0/25 [00:00<?, ?it/s]"
      ]
     },
     "metadata": {},
     "output_type": "display_data"
    },
    {
     "data": {
      "application/vnd.jupyter.widget-view+json": {
       "model_id": "6235bff5e5674448807239048373b853",
       "version_major": 2,
       "version_minor": 0
      },
      "text/plain": [
       "Validation:   0%|          | 0/5 [00:00<?, ?it/s]"
      ]
     },
     "metadata": {},
     "output_type": "display_data"
    },
    {
     "name": "stdout",
     "output_type": "stream",
     "text": [
      "Train | Loss: 0.7250, Recall: 0.4814, Precision: 0.2618, F1: 0.3392\n",
      "Val   | Loss: 0.5805, Recall: 0.6089, Precision: 0.3986, F1: 0.4818\n",
      "-----------------------------\n",
      "Epoch 6\n"
     ]
    },
    {
     "data": {
      "application/vnd.jupyter.widget-view+json": {
       "model_id": "68fe4fe2c9ab494daeb07dd03b2986c5",
       "version_major": 2,
       "version_minor": 0
      },
      "text/plain": [
       "Training:   0%|          | 0/25 [00:00<?, ?it/s]"
      ]
     },
     "metadata": {},
     "output_type": "display_data"
    },
    {
     "data": {
      "application/vnd.jupyter.widget-view+json": {
       "model_id": "10f203568f8c48f0be7af28f5fe384ad",
       "version_major": 2,
       "version_minor": 0
      },
      "text/plain": [
       "Validation:   0%|          | 0/5 [00:00<?, ?it/s]"
      ]
     },
     "metadata": {},
     "output_type": "display_data"
    },
    {
     "name": "stdout",
     "output_type": "stream",
     "text": [
      "Train | Loss: 0.7151, Recall: 0.4374, Precision: 0.2895, F1: 0.3484\n",
      "Val   | Loss: 0.6391, Recall: 0.7140, Precision: 0.3148, F1: 0.4369\n",
      "-----------------------------\n",
      "Epoch 7\n"
     ]
    },
    {
     "data": {
      "application/vnd.jupyter.widget-view+json": {
       "model_id": "7f82f9d2d5b443fbb1ce2d04453bb773",
       "version_major": 2,
       "version_minor": 0
      },
      "text/plain": [
       "Training:   0%|          | 0/25 [00:00<?, ?it/s]"
      ]
     },
     "metadata": {},
     "output_type": "display_data"
    },
    {
     "data": {
      "application/vnd.jupyter.widget-view+json": {
       "model_id": "633297e642f24a02b762d09971628b1f",
       "version_major": 2,
       "version_minor": 0
      },
      "text/plain": [
       "Validation:   0%|          | 0/5 [00:00<?, ?it/s]"
      ]
     },
     "metadata": {},
     "output_type": "display_data"
    },
    {
     "name": "stdout",
     "output_type": "stream",
     "text": [
      "Train | Loss: 0.7024, Recall: 0.4839, Precision: 0.2932, F1: 0.3651\n",
      "Val   | Loss: 0.5746, Recall: 0.6256, Precision: 0.4041, F1: 0.4910\n",
      "-----------------------------\n",
      "Epoch 8\n"
     ]
    },
    {
     "data": {
      "application/vnd.jupyter.widget-view+json": {
       "model_id": "505688e10926447a9e8396bb1e6b97c9",
       "version_major": 2,
       "version_minor": 0
      },
      "text/plain": [
       "Training:   0%|          | 0/25 [00:00<?, ?it/s]"
      ]
     },
     "metadata": {},
     "output_type": "display_data"
    },
    {
     "data": {
      "application/vnd.jupyter.widget-view+json": {
       "model_id": "d545ffd72fe54137a9b31ffbfce7544b",
       "version_major": 2,
       "version_minor": 0
      },
      "text/plain": [
       "Validation:   0%|          | 0/5 [00:00<?, ?it/s]"
      ]
     },
     "metadata": {},
     "output_type": "display_data"
    },
    {
     "name": "stdout",
     "output_type": "stream",
     "text": [
      "Train | Loss: 0.6858, Recall: 0.5092, Precision: 0.2967, F1: 0.3749\n",
      "Val   | Loss: 0.5586, Recall: 0.6778, Precision: 0.3766, F1: 0.4842\n",
      "-----------------------------\n",
      "Epoch 9\n"
     ]
    },
    {
     "data": {
      "application/vnd.jupyter.widget-view+json": {
       "model_id": "b9f30365217f467e94c090fe259abd4d",
       "version_major": 2,
       "version_minor": 0
      },
      "text/plain": [
       "Training:   0%|          | 0/25 [00:00<?, ?it/s]"
      ]
     },
     "metadata": {},
     "output_type": "display_data"
    },
    {
     "data": {
      "application/vnd.jupyter.widget-view+json": {
       "model_id": "d11d9d577b924cba9177fd1dc732ca0f",
       "version_major": 2,
       "version_minor": 0
      },
      "text/plain": [
       "Validation:   0%|          | 0/5 [00:00<?, ?it/s]"
      ]
     },
     "metadata": {},
     "output_type": "display_data"
    },
    {
     "name": "stdout",
     "output_type": "stream",
     "text": [
      "Train | Loss: 0.6768, Recall: 0.5110, Precision: 0.3223, F1: 0.3953\n",
      "Val   | Loss: 0.5578, Recall: 0.7541, Precision: 0.3706, F1: 0.4970\n",
      "-----------------------------\n",
      "Epoch 10\n"
     ]
    },
    {
     "data": {
      "application/vnd.jupyter.widget-view+json": {
       "model_id": "23123713791b4b52abf58cf8944b2c76",
       "version_major": 2,
       "version_minor": 0
      },
      "text/plain": [
       "Training:   0%|          | 0/25 [00:00<?, ?it/s]"
      ]
     },
     "metadata": {},
     "output_type": "display_data"
    },
    {
     "data": {
      "application/vnd.jupyter.widget-view+json": {
       "model_id": "f95565ce9e0b4da79b87610cb6a6059c",
       "version_major": 2,
       "version_minor": 0
      },
      "text/plain": [
       "Validation:   0%|          | 0/5 [00:00<?, ?it/s]"
      ]
     },
     "metadata": {},
     "output_type": "display_data"
    },
    {
     "name": "stdout",
     "output_type": "stream",
     "text": [
      "Train | Loss: 0.6579, Recall: 0.5194, Precision: 0.3727, F1: 0.4340\n",
      "Val   | Loss: 0.5259, Recall: 0.6969, Precision: 0.4020, F1: 0.5099\n",
      "-----------------------------\n",
      "Epoch 11\n"
     ]
    },
    {
     "data": {
      "application/vnd.jupyter.widget-view+json": {
       "model_id": "e5fcf367e1974115a0a9370c1bf09a5c",
       "version_major": 2,
       "version_minor": 0
      },
      "text/plain": [
       "Training:   0%|          | 0/25 [00:00<?, ?it/s]"
      ]
     },
     "metadata": {},
     "output_type": "display_data"
    },
    {
     "data": {
      "application/vnd.jupyter.widget-view+json": {
       "model_id": "1b3a3f9ce7c044c48e7a3feb01af7151",
       "version_major": 2,
       "version_minor": 0
      },
      "text/plain": [
       "Validation:   0%|          | 0/5 [00:00<?, ?it/s]"
      ]
     },
     "metadata": {},
     "output_type": "display_data"
    },
    {
     "name": "stdout",
     "output_type": "stream",
     "text": [
      "Train | Loss: 0.6446, Recall: 0.5181, Precision: 0.3879, F1: 0.4436\n",
      "Val   | Loss: 0.5654, Recall: 0.7267, Precision: 0.3712, F1: 0.4914\n",
      "-----------------------------\n",
      "Epoch 12\n"
     ]
    },
    {
     "data": {
      "application/vnd.jupyter.widget-view+json": {
       "model_id": "bec7cfe6b60044b9bf802901d0b85351",
       "version_major": 2,
       "version_minor": 0
      },
      "text/plain": [
       "Training:   0%|          | 0/25 [00:00<?, ?it/s]"
      ]
     },
     "metadata": {},
     "output_type": "display_data"
    },
    {
     "data": {
      "application/vnd.jupyter.widget-view+json": {
       "model_id": "4e967d42790446038cb2632b506dfb8d",
       "version_major": 2,
       "version_minor": 0
      },
      "text/plain": [
       "Validation:   0%|          | 0/5 [00:00<?, ?it/s]"
      ]
     },
     "metadata": {},
     "output_type": "display_data"
    },
    {
     "name": "stdout",
     "output_type": "stream",
     "text": [
      "Train | Loss: 0.6335, Recall: 0.5264, Precision: 0.3849, F1: 0.4447\n",
      "Val   | Loss: 0.5457, Recall: 0.7360, Precision: 0.3914, F1: 0.5110\n",
      "-----------------------------\n",
      "Epoch 13\n"
     ]
    },
    {
     "data": {
      "application/vnd.jupyter.widget-view+json": {
       "model_id": "594402abbc4c43cdb530cb86d096d91b",
       "version_major": 2,
       "version_minor": 0
      },
      "text/plain": [
       "Training:   0%|          | 0/25 [00:00<?, ?it/s]"
      ]
     },
     "metadata": {},
     "output_type": "display_data"
    },
    {
     "data": {
      "application/vnd.jupyter.widget-view+json": {
       "model_id": "7462b214a7904cb38f5ebab23f731610",
       "version_major": 2,
       "version_minor": 0
      },
      "text/plain": [
       "Validation:   0%|          | 0/5 [00:00<?, ?it/s]"
      ]
     },
     "metadata": {},
     "output_type": "display_data"
    },
    {
     "name": "stdout",
     "output_type": "stream",
     "text": [
      "Train | Loss: 0.6424, Recall: 0.5277, Precision: 0.3871, F1: 0.4466\n",
      "Val   | Loss: 0.5382, Recall: 0.6823, Precision: 0.3693, F1: 0.4792\n",
      "-----------------------------\n",
      "Epoch 14\n"
     ]
    },
    {
     "data": {
      "application/vnd.jupyter.widget-view+json": {
       "model_id": "38746287eaf24e359a14eeedf49ae629",
       "version_major": 2,
       "version_minor": 0
      },
      "text/plain": [
       "Training:   0%|          | 0/25 [00:00<?, ?it/s]"
      ]
     },
     "metadata": {},
     "output_type": "display_data"
    },
    {
     "data": {
      "application/vnd.jupyter.widget-view+json": {
       "model_id": "93e427ea57744d438b51f6f87ba1ec7b",
       "version_major": 2,
       "version_minor": 0
      },
      "text/plain": [
       "Validation:   0%|          | 0/5 [00:00<?, ?it/s]"
      ]
     },
     "metadata": {},
     "output_type": "display_data"
    },
    {
     "name": "stdout",
     "output_type": "stream",
     "text": [
      "Train | Loss: 0.6497, Recall: 0.5096, Precision: 0.3848, F1: 0.4385\n",
      "Val   | Loss: 0.5828, Recall: 0.7170, Precision: 0.3415, F1: 0.4626\n",
      "-----------------------------\n",
      "Epoch 15\n"
     ]
    },
    {
     "data": {
      "application/vnd.jupyter.widget-view+json": {
       "model_id": "98d02ce184a4438fa1f7a229bc0f5486",
       "version_major": 2,
       "version_minor": 0
      },
      "text/plain": [
       "Training:   0%|          | 0/25 [00:00<?, ?it/s]"
      ]
     },
     "metadata": {},
     "output_type": "display_data"
    },
    {
     "data": {
      "application/vnd.jupyter.widget-view+json": {
       "model_id": "10693c1f4e7a4b1fa36a73f0fdf1f3a7",
       "version_major": 2,
       "version_minor": 0
      },
      "text/plain": [
       "Validation:   0%|          | 0/5 [00:00<?, ?it/s]"
      ]
     },
     "metadata": {},
     "output_type": "display_data"
    },
    {
     "name": "stdout",
     "output_type": "stream",
     "text": [
      "Train | Loss: 0.6611, Recall: 0.4808, Precision: 0.3937, F1: 0.4329\n",
      "Val   | Loss: 0.5502, Recall: 0.6714, Precision: 0.4138, F1: 0.5120\n",
      "-----------------------------\n",
      "Epoch 16\n"
     ]
    },
    {
     "data": {
      "application/vnd.jupyter.widget-view+json": {
       "model_id": "7cf1840dcea6497fa3a420f07c33adc0",
       "version_major": 2,
       "version_minor": 0
      },
      "text/plain": [
       "Training:   0%|          | 0/25 [00:00<?, ?it/s]"
      ]
     },
     "metadata": {},
     "output_type": "display_data"
    },
    {
     "data": {
      "application/vnd.jupyter.widget-view+json": {
       "model_id": "910a5d3a4b134502b4982957ca220260",
       "version_major": 2,
       "version_minor": 0
      },
      "text/plain": [
       "Validation:   0%|          | 0/5 [00:00<?, ?it/s]"
      ]
     },
     "metadata": {},
     "output_type": "display_data"
    },
    {
     "name": "stdout",
     "output_type": "stream",
     "text": [
      "Train | Loss: 0.6261, Recall: 0.5350, Precision: 0.3903, F1: 0.4514\n",
      "Val   | Loss: 0.5361, Recall: 0.6255, Precision: 0.4893, F1: 0.5491\n",
      "-----------------------------\n",
      "Epoch 17\n"
     ]
    },
    {
     "data": {
      "application/vnd.jupyter.widget-view+json": {
       "model_id": "7adbeb2360a440dd896287251a653dd7",
       "version_major": 2,
       "version_minor": 0
      },
      "text/plain": [
       "Training:   0%|          | 0/25 [00:00<?, ?it/s]"
      ]
     },
     "metadata": {},
     "output_type": "display_data"
    },
    {
     "data": {
      "application/vnd.jupyter.widget-view+json": {
       "model_id": "77ee816cc93d4614a0775df13091899f",
       "version_major": 2,
       "version_minor": 0
      },
      "text/plain": [
       "Validation:   0%|          | 0/5 [00:00<?, ?it/s]"
      ]
     },
     "metadata": {},
     "output_type": "display_data"
    },
    {
     "name": "stdout",
     "output_type": "stream",
     "text": [
      "Train | Loss: 0.6388, Recall: 0.5100, Precision: 0.3966, F1: 0.4462\n",
      "Val   | Loss: 0.5283, Recall: 0.7421, Precision: 0.4044, F1: 0.5235\n",
      "-----------------------------\n",
      "Epoch 18\n"
     ]
    },
    {
     "data": {
      "application/vnd.jupyter.widget-view+json": {
       "model_id": "829254e15b7f4e039af45e40577290cd",
       "version_major": 2,
       "version_minor": 0
      },
      "text/plain": [
       "Training:   0%|          | 0/25 [00:00<?, ?it/s]"
      ]
     },
     "metadata": {},
     "output_type": "display_data"
    },
    {
     "data": {
      "application/vnd.jupyter.widget-view+json": {
       "model_id": "b00019369dc34018a906abdcbfc669dc",
       "version_major": 2,
       "version_minor": 0
      },
      "text/plain": [
       "Validation:   0%|          | 0/5 [00:00<?, ?it/s]"
      ]
     },
     "metadata": {},
     "output_type": "display_data"
    },
    {
     "name": "stdout",
     "output_type": "stream",
     "text": [
      "Train | Loss: 0.6269, Recall: 0.5157, Precision: 0.3890, F1: 0.4435\n",
      "Val   | Loss: 0.5166, Recall: 0.6835, Precision: 0.4266, F1: 0.5253\n",
      "-----------------------------\n",
      "Epoch 19\n"
     ]
    },
    {
     "data": {
      "application/vnd.jupyter.widget-view+json": {
       "model_id": "f5be2d77c88c47a39d7df71122f1c798",
       "version_major": 2,
       "version_minor": 0
      },
      "text/plain": [
       "Training:   0%|          | 0/25 [00:00<?, ?it/s]"
      ]
     },
     "metadata": {},
     "output_type": "display_data"
    },
    {
     "data": {
      "application/vnd.jupyter.widget-view+json": {
       "model_id": "1c6bc0270a414e1e8ad8909a013447ca",
       "version_major": 2,
       "version_minor": 0
      },
      "text/plain": [
       "Validation:   0%|          | 0/5 [00:00<?, ?it/s]"
      ]
     },
     "metadata": {},
     "output_type": "display_data"
    },
    {
     "name": "stdout",
     "output_type": "stream",
     "text": [
      "Train | Loss: 0.6050, Recall: 0.5563, Precision: 0.4175, F1: 0.4770\n",
      "Val   | Loss: 0.4961, Recall: 0.6555, Precision: 0.4865, F1: 0.5585\n",
      "-----------------------------\n",
      "Epoch 20\n"
     ]
    },
    {
     "data": {
      "application/vnd.jupyter.widget-view+json": {
       "model_id": "23589e4d289e483f8eb0147c6acfe0d1",
       "version_major": 2,
       "version_minor": 0
      },
      "text/plain": [
       "Training:   0%|          | 0/25 [00:00<?, ?it/s]"
      ]
     },
     "metadata": {},
     "output_type": "display_data"
    },
    {
     "data": {
      "application/vnd.jupyter.widget-view+json": {
       "model_id": "1506d2da62c64887b630a9371dc65b95",
       "version_major": 2,
       "version_minor": 0
      },
      "text/plain": [
       "Validation:   0%|          | 0/5 [00:00<?, ?it/s]"
      ]
     },
     "metadata": {},
     "output_type": "display_data"
    },
    {
     "name": "stdout",
     "output_type": "stream",
     "text": [
      "Train | Loss: 0.6190, Recall: 0.5258, Precision: 0.4077, F1: 0.4592\n",
      "Val   | Loss: 0.5413, Recall: 0.7819, Precision: 0.3656, F1: 0.4983\n",
      "-----------------------------\n",
      "Epoch 21\n"
     ]
    },
    {
     "data": {
      "application/vnd.jupyter.widget-view+json": {
       "model_id": "38133779abb9401abf405ad86862b41f",
       "version_major": 2,
       "version_minor": 0
      },
      "text/plain": [
       "Training:   0%|          | 0/25 [00:00<?, ?it/s]"
      ]
     },
     "metadata": {},
     "output_type": "display_data"
    },
    {
     "data": {
      "application/vnd.jupyter.widget-view+json": {
       "model_id": "96b7f0d2db874383b170603b275c881c",
       "version_major": 2,
       "version_minor": 0
      },
      "text/plain": [
       "Validation:   0%|          | 0/5 [00:00<?, ?it/s]"
      ]
     },
     "metadata": {},
     "output_type": "display_data"
    },
    {
     "name": "stdout",
     "output_type": "stream",
     "text": [
      "Train | Loss: 0.6412, Recall: 0.5319, Precision: 0.3721, F1: 0.4379\n",
      "Val   | Loss: 0.5602, Recall: 0.6937, Precision: 0.4161, F1: 0.5202\n",
      "-----------------------------\n",
      "Epoch 22\n"
     ]
    },
    {
     "data": {
      "application/vnd.jupyter.widget-view+json": {
       "model_id": "4295c2dca5754e5a9787248f7808614c",
       "version_major": 2,
       "version_minor": 0
      },
      "text/plain": [
       "Training:   0%|          | 0/25 [00:00<?, ?it/s]"
      ]
     },
     "metadata": {},
     "output_type": "display_data"
    },
    {
     "data": {
      "application/vnd.jupyter.widget-view+json": {
       "model_id": "9ac0a68bf946429caeef2d438880eb99",
       "version_major": 2,
       "version_minor": 0
      },
      "text/plain": [
       "Validation:   0%|          | 0/5 [00:00<?, ?it/s]"
      ]
     },
     "metadata": {},
     "output_type": "display_data"
    },
    {
     "name": "stdout",
     "output_type": "stream",
     "text": [
      "Train | Loss: 0.6225, Recall: 0.5671, Precision: 0.3929, F1: 0.4642\n",
      "Val   | Loss: 0.5943, Recall: 0.5710, Precision: 0.4080, F1: 0.4759\n",
      "-----------------------------\n",
      "Epoch 23\n"
     ]
    },
    {
     "data": {
      "application/vnd.jupyter.widget-view+json": {
       "model_id": "8f5bba6bed964ccb9f01ea3ebff82c35",
       "version_major": 2,
       "version_minor": 0
      },
      "text/plain": [
       "Training:   0%|          | 0/25 [00:00<?, ?it/s]"
      ]
     },
     "metadata": {},
     "output_type": "display_data"
    },
    {
     "data": {
      "application/vnd.jupyter.widget-view+json": {
       "model_id": "5ec2160096b143d1a4292c11f33f47fd",
       "version_major": 2,
       "version_minor": 0
      },
      "text/plain": [
       "Validation:   0%|          | 0/5 [00:00<?, ?it/s]"
      ]
     },
     "metadata": {},
     "output_type": "display_data"
    },
    {
     "name": "stdout",
     "output_type": "stream",
     "text": [
      "Train | Loss: 0.6261, Recall: 0.5288, Precision: 0.4251, F1: 0.4713\n",
      "Val   | Loss: 0.4889, Recall: 0.7203, Precision: 0.4698, F1: 0.5687\n",
      "-----------------------------\n",
      "Epoch 24\n"
     ]
    },
    {
     "data": {
      "application/vnd.jupyter.widget-view+json": {
       "model_id": "74c90f682940424c8255b64fbaca1274",
       "version_major": 2,
       "version_minor": 0
      },
      "text/plain": [
       "Training:   0%|          | 0/25 [00:00<?, ?it/s]"
      ]
     },
     "metadata": {},
     "output_type": "display_data"
    },
    {
     "data": {
      "application/vnd.jupyter.widget-view+json": {
       "model_id": "31a399c12c524bad9ff643dfe9ad503b",
       "version_major": 2,
       "version_minor": 0
      },
      "text/plain": [
       "Validation:   0%|          | 0/5 [00:00<?, ?it/s]"
      ]
     },
     "metadata": {},
     "output_type": "display_data"
    },
    {
     "name": "stdout",
     "output_type": "stream",
     "text": [
      "Train | Loss: 0.6010, Recall: 0.5751, Precision: 0.4055, F1: 0.4756\n",
      "Val   | Loss: 0.5121, Recall: 0.7098, Precision: 0.4513, F1: 0.5518\n",
      "-----------------------------\n",
      "Epoch 25\n"
     ]
    },
    {
     "data": {
      "application/vnd.jupyter.widget-view+json": {
       "model_id": "f46ac7af18404f91b600a477a3c5907d",
       "version_major": 2,
       "version_minor": 0
      },
      "text/plain": [
       "Training:   0%|          | 0/25 [00:00<?, ?it/s]"
      ]
     },
     "metadata": {},
     "output_type": "display_data"
    },
    {
     "data": {
      "application/vnd.jupyter.widget-view+json": {
       "model_id": "f87808961cd04da99a8d29f6a77f017f",
       "version_major": 2,
       "version_minor": 0
      },
      "text/plain": [
       "Validation:   0%|          | 0/5 [00:00<?, ?it/s]"
      ]
     },
     "metadata": {},
     "output_type": "display_data"
    },
    {
     "name": "stdout",
     "output_type": "stream",
     "text": [
      "Train | Loss: 0.6101, Recall: 0.5432, Precision: 0.4223, F1: 0.4751\n",
      "Val   | Loss: 0.4804, Recall: 0.6503, Precision: 0.5055, F1: 0.5688\n",
      "-----------------------------\n",
      "Epoch 26\n"
     ]
    },
    {
     "data": {
      "application/vnd.jupyter.widget-view+json": {
       "model_id": "585a6a87fcf944e79bfa7878275b2880",
       "version_major": 2,
       "version_minor": 0
      },
      "text/plain": [
       "Training:   0%|          | 0/25 [00:00<?, ?it/s]"
      ]
     },
     "metadata": {},
     "output_type": "display_data"
    },
    {
     "data": {
      "application/vnd.jupyter.widget-view+json": {
       "model_id": "efecab614f0842819fb18185b0348898",
       "version_major": 2,
       "version_minor": 0
      },
      "text/plain": [
       "Validation:   0%|          | 0/5 [00:00<?, ?it/s]"
      ]
     },
     "metadata": {},
     "output_type": "display_data"
    },
    {
     "name": "stdout",
     "output_type": "stream",
     "text": [
      "Train | Loss: 0.5902, Recall: 0.5523, Precision: 0.4401, F1: 0.4898\n",
      "Val   | Loss: 0.4821, Recall: 0.6434, Precision: 0.5348, F1: 0.5841\n",
      "-----------------------------\n",
      "Epoch 27\n"
     ]
    },
    {
     "data": {
      "application/vnd.jupyter.widget-view+json": {
       "model_id": "dc97b1f12abd49cc832924dcc0c5a89f",
       "version_major": 2,
       "version_minor": 0
      },
      "text/plain": [
       "Training:   0%|          | 0/25 [00:00<?, ?it/s]"
      ]
     },
     "metadata": {},
     "output_type": "display_data"
    },
    {
     "data": {
      "application/vnd.jupyter.widget-view+json": {
       "model_id": "d99700518bad4e149736b4786d984306",
       "version_major": 2,
       "version_minor": 0
      },
      "text/plain": [
       "Validation:   0%|          | 0/5 [00:00<?, ?it/s]"
      ]
     },
     "metadata": {},
     "output_type": "display_data"
    },
    {
     "name": "stdout",
     "output_type": "stream",
     "text": [
      "Train | Loss: 0.6185, Recall: 0.5754, Precision: 0.3936, F1: 0.4674\n",
      "Val   | Loss: 0.5317, Recall: 0.7042, Precision: 0.4313, F1: 0.5350\n",
      "-----------------------------\n",
      "Epoch 28\n"
     ]
    },
    {
     "data": {
      "application/vnd.jupyter.widget-view+json": {
       "model_id": "fd91a1514e044f119726d546e9c311cf",
       "version_major": 2,
       "version_minor": 0
      },
      "text/plain": [
       "Training:   0%|          | 0/25 [00:00<?, ?it/s]"
      ]
     },
     "metadata": {},
     "output_type": "display_data"
    },
    {
     "data": {
      "application/vnd.jupyter.widget-view+json": {
       "model_id": "4c77e8197db847998231c0f4c59e07bc",
       "version_major": 2,
       "version_minor": 0
      },
      "text/plain": [
       "Validation:   0%|          | 0/5 [00:00<?, ?it/s]"
      ]
     },
     "metadata": {},
     "output_type": "display_data"
    },
    {
     "name": "stdout",
     "output_type": "stream",
     "text": [
      "Train | Loss: 0.6177, Recall: 0.5384, Precision: 0.4035, F1: 0.4613\n",
      "Val   | Loss: 0.4753, Recall: 0.6975, Precision: 0.4406, F1: 0.5401\n",
      "-----------------------------\n",
      "Epoch 29\n"
     ]
    },
    {
     "data": {
      "application/vnd.jupyter.widget-view+json": {
       "model_id": "a3ef2c2ed5ab459184a2297156d77a27",
       "version_major": 2,
       "version_minor": 0
      },
      "text/plain": [
       "Training:   0%|          | 0/25 [00:00<?, ?it/s]"
      ]
     },
     "metadata": {},
     "output_type": "display_data"
    },
    {
     "data": {
      "application/vnd.jupyter.widget-view+json": {
       "model_id": "c161c7e4fb694a17ac5ad5e71e7bb284",
       "version_major": 2,
       "version_minor": 0
      },
      "text/plain": [
       "Validation:   0%|          | 0/5 [00:00<?, ?it/s]"
      ]
     },
     "metadata": {},
     "output_type": "display_data"
    },
    {
     "name": "stdout",
     "output_type": "stream",
     "text": [
      "Train | Loss: 0.6241, Recall: 0.5635, Precision: 0.3761, F1: 0.4511\n",
      "Val   | Loss: 0.5433, Recall: 0.6913, Precision: 0.3855, F1: 0.4949\n",
      "-----------------------------\n",
      "Epoch 30\n"
     ]
    },
    {
     "data": {
      "application/vnd.jupyter.widget-view+json": {
       "model_id": "19122585490d4258b3934b01fc3a32a6",
       "version_major": 2,
       "version_minor": 0
      },
      "text/plain": [
       "Training:   0%|          | 0/25 [00:00<?, ?it/s]"
      ]
     },
     "metadata": {},
     "output_type": "display_data"
    },
    {
     "data": {
      "application/vnd.jupyter.widget-view+json": {
       "model_id": "f315d605b56746c08a193a48e6e9e4db",
       "version_major": 2,
       "version_minor": 0
      },
      "text/plain": [
       "Validation:   0%|          | 0/5 [00:00<?, ?it/s]"
      ]
     },
     "metadata": {},
     "output_type": "display_data"
    },
    {
     "name": "stdout",
     "output_type": "stream",
     "text": [
      "Train | Loss: 0.5983, Recall: 0.5584, Precision: 0.4125, F1: 0.4745\n",
      "Val   | Loss: 0.5221, Recall: 0.6819, Precision: 0.4816, F1: 0.5645\n",
      "-----------------------------\n",
      "Epoch 31\n"
     ]
    },
    {
     "data": {
      "application/vnd.jupyter.widget-view+json": {
       "model_id": "fedc333b7dcf4c07babc983ba80f9145",
       "version_major": 2,
       "version_minor": 0
      },
      "text/plain": [
       "Training:   0%|          | 0/25 [00:00<?, ?it/s]"
      ]
     },
     "metadata": {},
     "output_type": "display_data"
    },
    {
     "data": {
      "application/vnd.jupyter.widget-view+json": {
       "model_id": "ceb6148c21c644e7b0daa0a448bceec0",
       "version_major": 2,
       "version_minor": 0
      },
      "text/plain": [
       "Validation:   0%|          | 0/5 [00:00<?, ?it/s]"
      ]
     },
     "metadata": {},
     "output_type": "display_data"
    },
    {
     "name": "stdout",
     "output_type": "stream",
     "text": [
      "Train | Loss: 0.6034, Recall: 0.5375, Precision: 0.4475, F1: 0.4884\n",
      "Val   | Loss: 0.4680, Recall: 0.6832, Precision: 0.5007, F1: 0.5779\n",
      "-----------------------------\n",
      "Epoch 32\n"
     ]
    },
    {
     "data": {
      "application/vnd.jupyter.widget-view+json": {
       "model_id": "3ff10f5dde274f8eb3f172ae4dd2cb9a",
       "version_major": 2,
       "version_minor": 0
      },
      "text/plain": [
       "Training:   0%|          | 0/25 [00:00<?, ?it/s]"
      ]
     },
     "metadata": {},
     "output_type": "display_data"
    },
    {
     "data": {
      "application/vnd.jupyter.widget-view+json": {
       "model_id": "c3d92afe747e444881efdbf20aea62ec",
       "version_major": 2,
       "version_minor": 0
      },
      "text/plain": [
       "Validation:   0%|          | 0/5 [00:00<?, ?it/s]"
      ]
     },
     "metadata": {},
     "output_type": "display_data"
    },
    {
     "name": "stdout",
     "output_type": "stream",
     "text": [
      "Train | Loss: 0.5976, Recall: 0.5461, Precision: 0.4315, F1: 0.4821\n",
      "Val   | Loss: 0.5246, Recall: 0.7055, Precision: 0.4437, F1: 0.5448\n",
      "-----------------------------\n",
      "Epoch 33\n"
     ]
    },
    {
     "data": {
      "application/vnd.jupyter.widget-view+json": {
       "model_id": "adfaf57c803a4c86bea994123b3b20b6",
       "version_major": 2,
       "version_minor": 0
      },
      "text/plain": [
       "Training:   0%|          | 0/25 [00:00<?, ?it/s]"
      ]
     },
     "metadata": {},
     "output_type": "display_data"
    },
    {
     "data": {
      "application/vnd.jupyter.widget-view+json": {
       "model_id": "639b82749c7f497887905f1d57582c84",
       "version_major": 2,
       "version_minor": 0
      },
      "text/plain": [
       "Validation:   0%|          | 0/5 [00:00<?, ?it/s]"
      ]
     },
     "metadata": {},
     "output_type": "display_data"
    },
    {
     "name": "stdout",
     "output_type": "stream",
     "text": [
      "Train | Loss: 0.5935, Recall: 0.5732, Precision: 0.4359, F1: 0.4952\n",
      "Val   | Loss: 0.4723, Recall: 0.6309, Precision: 0.5717, F1: 0.5998\n",
      "-----------------------------\n",
      "Epoch 34\n"
     ]
    },
    {
     "data": {
      "application/vnd.jupyter.widget-view+json": {
       "model_id": "155a6280746844efa71741d898d94286",
       "version_major": 2,
       "version_minor": 0
      },
      "text/plain": [
       "Training:   0%|          | 0/25 [00:00<?, ?it/s]"
      ]
     },
     "metadata": {},
     "output_type": "display_data"
    },
    {
     "data": {
      "application/vnd.jupyter.widget-view+json": {
       "model_id": "c950e112fead4c04a6ba98abb3eab649",
       "version_major": 2,
       "version_minor": 0
      },
      "text/plain": [
       "Validation:   0%|          | 0/5 [00:00<?, ?it/s]"
      ]
     },
     "metadata": {},
     "output_type": "display_data"
    },
    {
     "name": "stdout",
     "output_type": "stream",
     "text": [
      "Train | Loss: 0.6046, Recall: 0.5565, Precision: 0.3738, F1: 0.4472\n",
      "Val   | Loss: 0.4723, Recall: 0.6982, Precision: 0.4856, F1: 0.5728\n",
      "-----------------------------\n",
      "Epoch 35\n"
     ]
    },
    {
     "data": {
      "application/vnd.jupyter.widget-view+json": {
       "model_id": "27766a74dd0d47d29698e9df5c174195",
       "version_major": 2,
       "version_minor": 0
      },
      "text/plain": [
       "Training:   0%|          | 0/25 [00:00<?, ?it/s]"
      ]
     },
     "metadata": {},
     "output_type": "display_data"
    },
    {
     "data": {
      "application/vnd.jupyter.widget-view+json": {
       "model_id": "f60966624af24de484eea2c774fe1536",
       "version_major": 2,
       "version_minor": 0
      },
      "text/plain": [
       "Validation:   0%|          | 0/5 [00:00<?, ?it/s]"
      ]
     },
     "metadata": {},
     "output_type": "display_data"
    },
    {
     "name": "stdout",
     "output_type": "stream",
     "text": [
      "Train | Loss: 0.5936, Recall: 0.5373, Precision: 0.4475, F1: 0.4883\n",
      "Val   | Loss: 0.5178, Recall: 0.5441, Precision: 0.5169, F1: 0.5302\n",
      "-----------------------------\n",
      "Epoch 36\n"
     ]
    },
    {
     "data": {
      "application/vnd.jupyter.widget-view+json": {
       "model_id": "a8b4d90d98ff4fc0b8efe89b67979d25",
       "version_major": 2,
       "version_minor": 0
      },
      "text/plain": [
       "Training:   0%|          | 0/25 [00:00<?, ?it/s]"
      ]
     },
     "metadata": {},
     "output_type": "display_data"
    },
    {
     "data": {
      "application/vnd.jupyter.widget-view+json": {
       "model_id": "226e0131eff046edb04974bee55d0418",
       "version_major": 2,
       "version_minor": 0
      },
      "text/plain": [
       "Validation:   0%|          | 0/5 [00:00<?, ?it/s]"
      ]
     },
     "metadata": {},
     "output_type": "display_data"
    },
    {
     "name": "stdout",
     "output_type": "stream",
     "text": [
      "Train | Loss: 0.5902, Recall: 0.5524, Precision: 0.4437, F1: 0.4921\n",
      "Val   | Loss: 0.5047, Recall: 0.6183, Precision: 0.5747, F1: 0.5957\n",
      "-----------------------------\n",
      "Epoch 37\n"
     ]
    },
    {
     "data": {
      "application/vnd.jupyter.widget-view+json": {
       "model_id": "98383b98a9334d56b72f0f6952ba627f",
       "version_major": 2,
       "version_minor": 0
      },
      "text/plain": [
       "Training:   0%|          | 0/25 [00:00<?, ?it/s]"
      ]
     },
     "metadata": {},
     "output_type": "display_data"
    },
    {
     "data": {
      "application/vnd.jupyter.widget-view+json": {
       "model_id": "3ac5912dbc014a9fbf7ff2eb40f1f70e",
       "version_major": 2,
       "version_minor": 0
      },
      "text/plain": [
       "Validation:   0%|          | 0/5 [00:00<?, ?it/s]"
      ]
     },
     "metadata": {},
     "output_type": "display_data"
    },
    {
     "name": "stdout",
     "output_type": "stream",
     "text": [
      "Train | Loss: 0.6059, Recall: 0.5581, Precision: 0.3936, F1: 0.4616\n",
      "Val   | Loss: 0.4926, Recall: 0.6484, Precision: 0.5210, F1: 0.5777\n",
      "-----------------------------\n",
      "Epoch 38\n"
     ]
    },
    {
     "data": {
      "application/vnd.jupyter.widget-view+json": {
       "model_id": "0204b03c2986462bb978a01ad8bfc793",
       "version_major": 2,
       "version_minor": 0
      },
      "text/plain": [
       "Training:   0%|          | 0/25 [00:00<?, ?it/s]"
      ]
     },
     "metadata": {},
     "output_type": "display_data"
    },
    {
     "data": {
      "application/vnd.jupyter.widget-view+json": {
       "model_id": "599c4d787e834f239324f64f6ea157dc",
       "version_major": 2,
       "version_minor": 0
      },
      "text/plain": [
       "Validation:   0%|          | 0/5 [00:00<?, ?it/s]"
      ]
     },
     "metadata": {},
     "output_type": "display_data"
    },
    {
     "name": "stdout",
     "output_type": "stream",
     "text": [
      "Train | Loss: 0.5822, Recall: 0.5703, Precision: 0.4574, F1: 0.5077\n",
      "Val   | Loss: 0.5360, Recall: 0.6562, Precision: 0.4586, F1: 0.5399\n",
      "-----------------------------\n",
      "Epoch 39\n"
     ]
    },
    {
     "data": {
      "application/vnd.jupyter.widget-view+json": {
       "model_id": "8b642fb0c95e4fbbb6ce1c04ce31a08c",
       "version_major": 2,
       "version_minor": 0
      },
      "text/plain": [
       "Training:   0%|          | 0/25 [00:00<?, ?it/s]"
      ]
     },
     "metadata": {},
     "output_type": "display_data"
    },
    {
     "data": {
      "application/vnd.jupyter.widget-view+json": {
       "model_id": "3ee2b6adcfbc476eaea93fc54e260624",
       "version_major": 2,
       "version_minor": 0
      },
      "text/plain": [
       "Validation:   0%|          | 0/5 [00:00<?, ?it/s]"
      ]
     },
     "metadata": {},
     "output_type": "display_data"
    },
    {
     "name": "stdout",
     "output_type": "stream",
     "text": [
      "Train | Loss: 0.6012, Recall: 0.5736, Precision: 0.4072, F1: 0.4763\n",
      "Val   | Loss: 0.5014, Recall: 0.6286, Precision: 0.5128, F1: 0.5648\n",
      "-----------------------------\n",
      "Epoch 40\n"
     ]
    },
    {
     "data": {
      "application/vnd.jupyter.widget-view+json": {
       "model_id": "9d508e22a6c2440284e5638a1dfb63d1",
       "version_major": 2,
       "version_minor": 0
      },
      "text/plain": [
       "Training:   0%|          | 0/25 [00:00<?, ?it/s]"
      ]
     },
     "metadata": {},
     "output_type": "display_data"
    },
    {
     "data": {
      "application/vnd.jupyter.widget-view+json": {
       "model_id": "d7c37bae632047bd8e01c12c82f61ed8",
       "version_major": 2,
       "version_minor": 0
      },
      "text/plain": [
       "Validation:   0%|          | 0/5 [00:00<?, ?it/s]"
      ]
     },
     "metadata": {},
     "output_type": "display_data"
    },
    {
     "name": "stdout",
     "output_type": "stream",
     "text": [
      "Train | Loss: 0.5883, Recall: 0.5214, Precision: 0.4578, F1: 0.4875\n",
      "Val   | Loss: 0.5305, Recall: 0.5895, Precision: 0.5526, F1: 0.5704\n",
      "-----------------------------\n",
      "Epoch 41\n"
     ]
    },
    {
     "data": {
      "application/vnd.jupyter.widget-view+json": {
       "model_id": "30251d99ed654bfbb19e5e09f6c6c1e4",
       "version_major": 2,
       "version_minor": 0
      },
      "text/plain": [
       "Training:   0%|          | 0/25 [00:00<?, ?it/s]"
      ]
     },
     "metadata": {},
     "output_type": "display_data"
    },
    {
     "data": {
      "application/vnd.jupyter.widget-view+json": {
       "model_id": "e5a12483b2914deeada29a8f7dd899d8",
       "version_major": 2,
       "version_minor": 0
      },
      "text/plain": [
       "Validation:   0%|          | 0/5 [00:00<?, ?it/s]"
      ]
     },
     "metadata": {},
     "output_type": "display_data"
    },
    {
     "name": "stdout",
     "output_type": "stream",
     "text": [
      "Train | Loss: 0.6315, Recall: 0.5714, Precision: 0.3733, F1: 0.4516\n",
      "Val   | Loss: 0.5123, Recall: 0.6318, Precision: 0.4936, F1: 0.5542\n",
      "-----------------------------\n",
      "Epoch 42\n"
     ]
    },
    {
     "data": {
      "application/vnd.jupyter.widget-view+json": {
       "model_id": "a61e9c79ed324c308932922bb4aa1cf2",
       "version_major": 2,
       "version_minor": 0
      },
      "text/plain": [
       "Training:   0%|          | 0/25 [00:00<?, ?it/s]"
      ]
     },
     "metadata": {},
     "output_type": "display_data"
    },
    {
     "data": {
      "application/vnd.jupyter.widget-view+json": {
       "model_id": "125332859d404e04a952b2cbd868aadc",
       "version_major": 2,
       "version_minor": 0
      },
      "text/plain": [
       "Validation:   0%|          | 0/5 [00:00<?, ?it/s]"
      ]
     },
     "metadata": {},
     "output_type": "display_data"
    },
    {
     "name": "stdout",
     "output_type": "stream",
     "text": [
      "Train | Loss: 0.5813, Recall: 0.5198, Precision: 0.4637, F1: 0.4902\n",
      "Val   | Loss: 0.4549, Recall: 0.6411, Precision: 0.5604, F1: 0.5980\n",
      "-----------------------------\n",
      "Epoch 43\n"
     ]
    },
    {
     "data": {
      "application/vnd.jupyter.widget-view+json": {
       "model_id": "f13a299fecb54bbcac3eb67bb81fecef",
       "version_major": 2,
       "version_minor": 0
      },
      "text/plain": [
       "Training:   0%|          | 0/25 [00:00<?, ?it/s]"
      ]
     },
     "metadata": {},
     "output_type": "display_data"
    },
    {
     "data": {
      "application/vnd.jupyter.widget-view+json": {
       "model_id": "7060382962aa449bacb864b5c0af5ac2",
       "version_major": 2,
       "version_minor": 0
      },
      "text/plain": [
       "Validation:   0%|          | 0/5 [00:00<?, ?it/s]"
      ]
     },
     "metadata": {},
     "output_type": "display_data"
    },
    {
     "name": "stdout",
     "output_type": "stream",
     "text": [
      "Train | Loss: 0.5809, Recall: 0.5515, Precision: 0.4653, F1: 0.5048\n",
      "Val   | Loss: 0.4852, Recall: 0.6994, Precision: 0.5150, F1: 0.5932\n",
      "-----------------------------\n",
      "Epoch 44\n"
     ]
    },
    {
     "data": {
      "application/vnd.jupyter.widget-view+json": {
       "model_id": "1b3c540094b14625b9a64c5a0080683d",
       "version_major": 2,
       "version_minor": 0
      },
      "text/plain": [
       "Training:   0%|          | 0/25 [00:00<?, ?it/s]"
      ]
     },
     "metadata": {},
     "output_type": "display_data"
    },
    {
     "data": {
      "application/vnd.jupyter.widget-view+json": {
       "model_id": "67510126c1f14bc9a2b07c0b78c440b5",
       "version_major": 2,
       "version_minor": 0
      },
      "text/plain": [
       "Validation:   0%|          | 0/5 [00:00<?, ?it/s]"
      ]
     },
     "metadata": {},
     "output_type": "display_data"
    },
    {
     "name": "stdout",
     "output_type": "stream",
     "text": [
      "Train | Loss: 0.5868, Recall: 0.5514, Precision: 0.4538, F1: 0.4979\n",
      "Val   | Loss: 0.5106, Recall: 0.6006, Precision: 0.5226, F1: 0.5589\n",
      "-----------------------------\n",
      "Epoch 45\n"
     ]
    },
    {
     "data": {
      "application/vnd.jupyter.widget-view+json": {
       "model_id": "2fd5b0b623cf4db0844390c7b703cdfc",
       "version_major": 2,
       "version_minor": 0
      },
      "text/plain": [
       "Training:   0%|          | 0/25 [00:00<?, ?it/s]"
      ]
     },
     "metadata": {},
     "output_type": "display_data"
    },
    {
     "data": {
      "application/vnd.jupyter.widget-view+json": {
       "model_id": "2d6a104795804a06907b29ccca484016",
       "version_major": 2,
       "version_minor": 0
      },
      "text/plain": [
       "Validation:   0%|          | 0/5 [00:00<?, ?it/s]"
      ]
     },
     "metadata": {},
     "output_type": "display_data"
    },
    {
     "name": "stdout",
     "output_type": "stream",
     "text": [
      "Train | Loss: 0.5839, Recall: 0.5426, Precision: 0.4551, F1: 0.4950\n",
      "Val   | Loss: 0.4893, Recall: 0.6082, Precision: 0.5766, F1: 0.5920\n",
      "-----------------------------\n",
      "Epoch 46\n"
     ]
    },
    {
     "data": {
      "application/vnd.jupyter.widget-view+json": {
       "model_id": "6f09cebd615f485cb84da1a47ce1ee70",
       "version_major": 2,
       "version_minor": 0
      },
      "text/plain": [
       "Training:   0%|          | 0/25 [00:00<?, ?it/s]"
      ]
     },
     "metadata": {},
     "output_type": "display_data"
    },
    {
     "data": {
      "application/vnd.jupyter.widget-view+json": {
       "model_id": "f636d1aef3ca4a60a29586dce8008de4",
       "version_major": 2,
       "version_minor": 0
      },
      "text/plain": [
       "Validation:   0%|          | 0/5 [00:00<?, ?it/s]"
      ]
     },
     "metadata": {},
     "output_type": "display_data"
    },
    {
     "name": "stdout",
     "output_type": "stream",
     "text": [
      "Train | Loss: 0.5699, Recall: 0.5457, Precision: 0.4745, F1: 0.5076\n",
      "Val   | Loss: 0.5350, Recall: 0.7699, Precision: 0.4139, F1: 0.5384\n",
      "-----------------------------\n",
      "Epoch 47\n"
     ]
    },
    {
     "data": {
      "application/vnd.jupyter.widget-view+json": {
       "model_id": "baa2010ed387402f8aca551be4f75912",
       "version_major": 2,
       "version_minor": 0
      },
      "text/plain": [
       "Training:   0%|          | 0/25 [00:00<?, ?it/s]"
      ]
     },
     "metadata": {},
     "output_type": "display_data"
    },
    {
     "data": {
      "application/vnd.jupyter.widget-view+json": {
       "model_id": "54a177c01b72480683c926df7878d424",
       "version_major": 2,
       "version_minor": 0
      },
      "text/plain": [
       "Validation:   0%|          | 0/5 [00:00<?, ?it/s]"
      ]
     },
     "metadata": {},
     "output_type": "display_data"
    },
    {
     "name": "stdout",
     "output_type": "stream",
     "text": [
      "Train | Loss: 0.5716, Recall: 0.5581, Precision: 0.4814, F1: 0.5169\n",
      "Val   | Loss: 0.4731, Recall: 0.6361, Precision: 0.5506, F1: 0.5903\n",
      "-----------------------------\n",
      "Epoch 48\n"
     ]
    },
    {
     "data": {
      "application/vnd.jupyter.widget-view+json": {
       "model_id": "13476a43391e4bfaa4b2c4bb5978a91f",
       "version_major": 2,
       "version_minor": 0
      },
      "text/plain": [
       "Training:   0%|          | 0/25 [00:00<?, ?it/s]"
      ]
     },
     "metadata": {},
     "output_type": "display_data"
    },
    {
     "data": {
      "application/vnd.jupyter.widget-view+json": {
       "model_id": "a9197bc94f01494586d1a8c7b13a1f30",
       "version_major": 2,
       "version_minor": 0
      },
      "text/plain": [
       "Validation:   0%|          | 0/5 [00:00<?, ?it/s]"
      ]
     },
     "metadata": {},
     "output_type": "display_data"
    },
    {
     "name": "stdout",
     "output_type": "stream",
     "text": [
      "Train | Loss: 0.5876, Recall: 0.5664, Precision: 0.4064, F1: 0.4733\n",
      "Val   | Loss: 0.5134, Recall: 0.6631, Precision: 0.5066, F1: 0.5744\n",
      "-----------------------------\n",
      "Epoch 49\n"
     ]
    },
    {
     "data": {
      "application/vnd.jupyter.widget-view+json": {
       "model_id": "4fac04f0735e4b1398cb1992bb3df699",
       "version_major": 2,
       "version_minor": 0
      },
      "text/plain": [
       "Training:   0%|          | 0/25 [00:00<?, ?it/s]"
      ]
     },
     "metadata": {},
     "output_type": "display_data"
    },
    {
     "data": {
      "application/vnd.jupyter.widget-view+json": {
       "model_id": "07bddd7c70724874867943ec5875d869",
       "version_major": 2,
       "version_minor": 0
      },
      "text/plain": [
       "Validation:   0%|          | 0/5 [00:00<?, ?it/s]"
      ]
     },
     "metadata": {},
     "output_type": "display_data"
    },
    {
     "name": "stdout",
     "output_type": "stream",
     "text": [
      "Train | Loss: 0.5844, Recall: 0.5263, Precision: 0.4503, F1: 0.4853\n",
      "Val   | Loss: 0.5031, Recall: 0.6879, Precision: 0.4495, F1: 0.5437\n",
      "-----------------------------\n",
      "Epoch 50\n"
     ]
    },
    {
     "data": {
      "application/vnd.jupyter.widget-view+json": {
       "model_id": "f9e38eecc46c4258b625a27982e6c051",
       "version_major": 2,
       "version_minor": 0
      },
      "text/plain": [
       "Training:   0%|          | 0/25 [00:00<?, ?it/s]"
      ]
     },
     "metadata": {},
     "output_type": "display_data"
    },
    {
     "data": {
      "application/vnd.jupyter.widget-view+json": {
       "model_id": "71fe9b7854df44a0adb5aa65f95ea7a2",
       "version_major": 2,
       "version_minor": 0
      },
      "text/plain": [
       "Validation:   0%|          | 0/5 [00:00<?, ?it/s]"
      ]
     },
     "metadata": {},
     "output_type": "display_data"
    },
    {
     "name": "stdout",
     "output_type": "stream",
     "text": [
      "Train | Loss: 0.5905, Recall: 0.5580, Precision: 0.4562, F1: 0.5020\n",
      "Val   | Loss: 0.4862, Recall: 0.6995, Precision: 0.4462, F1: 0.5448\n",
      "-----------------------------\n",
      "Training Complete!\n",
      "Saved PyTorch Model to  /home/tommytang111/gap-junction-segmentation/models/sweep_model_y21y27lq.pt\n"
     ]
    },
    {
     "data": {
      "text/html": [],
      "text/plain": [
       "<IPython.core.display.HTML object>"
      ]
     },
     "metadata": {},
     "output_type": "display_data"
    },
    {
     "data": {
      "text/html": [
       "<br>    <style><br>        .wandb-row {<br>            display: flex;<br>            flex-direction: row;<br>            flex-wrap: wrap;<br>            justify-content: flex-start;<br>            width: 100%;<br>        }<br>        .wandb-col {<br>            display: flex;<br>            flex-direction: column;<br>            flex-basis: 100%;<br>            flex: 1;<br>            padding: 10px;<br>        }<br>    </style><br><div class=\"wandb-row\"><div class=\"wandb-col\"><h3>Run history:</h3><br/><table class=\"wandb\"><tr><td>best_epoch</td><td>▁▁▁▂▂▂▂▃▃▃▃▃▄▄▄▅▅▅▅▆▆▆▆▆▆▆▆█████████████</td></tr><tr><td>best_val_f1</td><td>▁▃▄▆▆▆▆▆▆▆▆▆▆▇▇▇▇▇▇▇▇███████████████████</td></tr><tr><td>best_val_loss</td><td>█▆▅▃▃▃▃▂▂▂▂▂▂▂▂▂▂▂▂▁▁▁▁▁▁▁▁▁▁▁▁▁▁▁▁▁▁▁▁▁</td></tr><tr><td>epoch</td><td>▁▁▂▂▂▂▂▂▃▃▃▃▃▃▄▄▄▄▄▄▅▅▅▅▅▆▆▆▆▆▆▇▇▇▇▇▇███</td></tr><tr><td>lr</td><td>▁▁▁▁▁▁▁▁▁▁▁▁▁▁▁▁▁▁▁▁▁▁▁▁▁▁▁▁▁▁▁▁▁▁▁▁▁▁▁▁</td></tr><tr><td>train_f1</td><td>▁▁▂▅▅▆▆▇▇▇▇▇▇▇▇▇▇▇▇▇█▇▇▇▇▇█▇███▇█▇██████</td></tr><tr><td>train_loss</td><td>█▇▆▄▄▃▃▃▃▂▂▂▃▂▂▂▂▂▂▂▂▂▂▂▂▁▂▁▁▂▂▁▂▁▁▁▁▁▁▁</td></tr><tr><td>train_precision</td><td>▁▁▂▄▅▅▅▆▆▇▇▆▇▇▇▇▇▆▇▇▇▇▇▇▆▇▇▇▆▇██▆█████▇█</td></tr><tr><td>train_recall</td><td>█▆▃▂▁▂▂▃▂▃▂▂▃▂▂▃▃▃▄▃▄▃▃▃▃▄▃▃▃▃▄▃▃▃▃▃▃▃▃▃</td></tr><tr><td>val_f1</td><td>▁▃▄▆▆▆▆▆▆▆▆▅▆▇▇▇▆▇▆▇▇▇▇▆▇██▇██▇▇▇███▇██▇</td></tr><tr><td>val_loss</td><td>█▆▅▃▃▃▂▂▃▂▃▂▂▂▂▂▃▃▁▂▁▂▁▂▂▂▁▁▂▂▂▂▂▂▁▂▂▂▂▁</td></tr><tr><td>val_precision</td><td>▃▂▁▆▄▄▃▃▄▄▃▄▆▄▅▃▄▄▅▆▅▅▄▆▆█▆▇█▇▇▇▆█▇█▄▇▆▅</td></tr><tr><td>val_recall</td><td>▁▃▆▅▆▆▇█▇▇▇▇▇▆█▇█▇▆▇▇▆▇▇▇▆▇▅▆▇▆▆▆▆▇▆█▆▇▇</td></tr></table><br/></div><div class=\"wandb-col\"><h3>Run summary:</h3><br/><table class=\"wandb\"><tr><td>best_epoch</td><td>32</td></tr><tr><td>best_val_f1</td><td>0.59984</td></tr><tr><td>best_val_loss</td><td>0.45494</td></tr><tr><td>epoch</td><td>50</td></tr><tr><td>lr</td><td>0.0001</td></tr><tr><td>train_f1</td><td>0.50199</td></tr><tr><td>train_loss</td><td>0.59052</td></tr><tr><td>train_precision</td><td>0.4562</td></tr><tr><td>train_recall</td><td>0.55799</td></tr><tr><td>val_f1</td><td>0.54482</td></tr><tr><td>val_loss</td><td>0.48617</td></tr><tr><td>val_precision</td><td>0.44617</td></tr><tr><td>val_recall</td><td>0.69948</td></tr></table><br/></div></div>"
      ],
      "text/plain": [
       "<IPython.core.display.HTML object>"
      ]
     },
     "metadata": {},
     "output_type": "display_data"
    },
    {
     "data": {
      "text/html": [
       " View run <strong style=\"color:#cdcd00\">dark-sweep-5</strong> at: <a href='https://wandb.ai/zhen_lab/gap-junction-segmentation/runs/y21y27lq' target=\"_blank\">https://wandb.ai/zhen_lab/gap-junction-segmentation/runs/y21y27lq</a><br> View project at: <a href='https://wandb.ai/zhen_lab/gap-junction-segmentation' target=\"_blank\">https://wandb.ai/zhen_lab/gap-junction-segmentation</a><br>Synced 5 W&B file(s), 0 media file(s), 0 artifact file(s) and 0 other file(s)"
      ],
      "text/plain": [
       "<IPython.core.display.HTML object>"
      ]
     },
     "metadata": {},
     "output_type": "display_data"
    },
    {
     "data": {
      "text/html": [
       "Find logs at: <code>/home/tommytang111/gap-junction-segmentation/wandb/wandb/run-20250606_151013-y21y27lq/logs</code>"
      ],
      "text/plain": [
       "<IPython.core.display.HTML object>"
      ]
     },
     "metadata": {},
     "output_type": "display_data"
    },
    {
     "name": "stderr",
     "output_type": "stream",
     "text": [
      "\u001b[34m\u001b[1mwandb\u001b[0m: Agent Starting Run: n20ce5v8 with config:\n",
      "\u001b[34m\u001b[1mwandb\u001b[0m: \taugmentation: custom2\n",
      "\u001b[34m\u001b[1mwandb\u001b[0m: \tbatch_size: 8\n",
      "\u001b[34m\u001b[1mwandb\u001b[0m: \tdropout: 0\n",
      "\u001b[34m\u001b[1mwandb\u001b[0m: \tlearning_rate: 0.0001\n",
      "\u001b[34m\u001b[1mwandb\u001b[0m: \tloss_function: GenDLoss\n",
      "\u001b[34m\u001b[1mwandb\u001b[0m: \toptimizer: AdamW\n",
      "\u001b[34m\u001b[1mwandb\u001b[0m: \u001b[33mWARNING\u001b[0m If you're specifying your api key in code, ensure this code is not shared publicly.\n",
      "\u001b[34m\u001b[1mwandb\u001b[0m: \u001b[33mWARNING\u001b[0m Consider setting the WANDB_API_KEY environment variable, or running `wandb login` from the command line.\n",
      "\u001b[34m\u001b[1mwandb\u001b[0m: Appending key for api.wandb.ai to your netrc file: /home/tommytang111/.netrc\n"
     ]
    },
    {
     "data": {
      "text/html": [
       "Ignoring project 'gap-junction-segmentation' when running a sweep."
      ],
      "text/plain": [
       "<IPython.core.display.HTML object>"
      ]
     },
     "metadata": {},
     "output_type": "display_data"
    },
    {
     "data": {
      "text/html": [
       "Ignoring entity 'zhen_lab' when running a sweep."
      ],
      "text/plain": [
       "<IPython.core.display.HTML object>"
      ]
     },
     "metadata": {},
     "output_type": "display_data"
    },
    {
     "data": {
      "text/html": [
       "Tracking run with wandb version 0.19.10"
      ],
      "text/plain": [
       "<IPython.core.display.HTML object>"
      ]
     },
     "metadata": {},
     "output_type": "display_data"
    },
    {
     "data": {
      "text/html": [
       "Run data is saved locally in <code>/home/tommytang111/gap-junction-segmentation/wandb/wandb/run-20250606_152347-n20ce5v8</code>"
      ],
      "text/plain": [
       "<IPython.core.display.HTML object>"
      ]
     },
     "metadata": {},
     "output_type": "display_data"
    },
    {
     "data": {
      "text/html": [
       "Syncing run <strong><a href='https://wandb.ai/zhen_lab/gap-junction-segmentation/runs/n20ce5v8' target=\"_blank\">fresh-sweep-6</a></strong> to <a href='https://wandb.ai/zhen_lab/gap-junction-segmentation' target=\"_blank\">Weights & Biases</a> (<a href='https://wandb.me/developer-guide' target=\"_blank\">docs</a>)<br>Sweep page: <a href='https://wandb.ai/zhen_lab/gap-junction-segmentation/sweeps/dwqzhjxz' target=\"_blank\">https://wandb.ai/zhen_lab/gap-junction-segmentation/sweeps/dwqzhjxz</a>"
      ],
      "text/plain": [
       "<IPython.core.display.HTML object>"
      ]
     },
     "metadata": {},
     "output_type": "display_data"
    },
    {
     "data": {
      "text/html": [
       " View project at <a href='https://wandb.ai/zhen_lab/gap-junction-segmentation' target=\"_blank\">https://wandb.ai/zhen_lab/gap-junction-segmentation</a>"
      ],
      "text/plain": [
       "<IPython.core.display.HTML object>"
      ]
     },
     "metadata": {},
     "output_type": "display_data"
    },
    {
     "data": {
      "text/html": [
       " View sweep at <a href='https://wandb.ai/zhen_lab/gap-junction-segmentation/sweeps/dwqzhjxz' target=\"_blank\">https://wandb.ai/zhen_lab/gap-junction-segmentation/sweeps/dwqzhjxz</a>"
      ],
      "text/plain": [
       "<IPython.core.display.HTML object>"
      ]
     },
     "metadata": {},
     "output_type": "display_data"
    },
    {
     "data": {
      "text/html": [
       " View run at <a href='https://wandb.ai/zhen_lab/gap-junction-segmentation/runs/n20ce5v8' target=\"_blank\">https://wandb.ai/zhen_lab/gap-junction-segmentation/runs/n20ce5v8</a>"
      ],
      "text/plain": [
       "<IPython.core.display.HTML object>"
      ]
     },
     "metadata": {},
     "output_type": "display_data"
    },
    {
     "name": "stdout",
     "output_type": "stream",
     "text": [
      "Epoch 1\n"
     ]
    },
    {
     "data": {
      "application/vnd.jupyter.widget-view+json": {
       "model_id": "865bbf3a53f744bb8146ec0a9fb769cf",
       "version_major": 2,
       "version_minor": 0
      },
      "text/plain": [
       "Training:   0%|          | 0/25 [00:00<?, ?it/s]"
      ]
     },
     "metadata": {},
     "output_type": "display_data"
    },
    {
     "data": {
      "application/vnd.jupyter.widget-view+json": {
       "model_id": "3777a88b225b43df8e4d922f0a76aadc",
       "version_major": 2,
       "version_minor": 0
      },
      "text/plain": [
       "Validation:   0%|          | 0/5 [00:00<?, ?it/s]"
      ]
     },
     "metadata": {},
     "output_type": "display_data"
    },
    {
     "name": "stdout",
     "output_type": "stream",
     "text": [
      "Train | Loss: 0.9522, Recall: 0.8332, Precision: 0.0381, F1: 0.0729\n",
      "Val   | Loss: 0.9414, Recall: 0.0042, Precision: 0.1660, F1: 0.0083\n",
      "-----------------------------\n",
      "Epoch 2\n"
     ]
    },
    {
     "data": {
      "application/vnd.jupyter.widget-view+json": {
       "model_id": "fe97f516e8474ba6a588a00d9c986a37",
       "version_major": 2,
       "version_minor": 0
      },
      "text/plain": [
       "Training:   0%|          | 0/25 [00:00<?, ?it/s]"
      ]
     },
     "metadata": {},
     "output_type": "display_data"
    },
    {
     "data": {
      "application/vnd.jupyter.widget-view+json": {
       "model_id": "f5859b9755b043ce99f3e7c93eb6c1cb",
       "version_major": 2,
       "version_minor": 0
      },
      "text/plain": [
       "Validation:   0%|          | 0/5 [00:00<?, ?it/s]"
      ]
     },
     "metadata": {},
     "output_type": "display_data"
    },
    {
     "name": "stdout",
     "output_type": "stream",
     "text": [
      "Train | Loss: 0.8807, Recall: 0.7037, Precision: 0.0906, F1: 0.1606\n",
      "Val   | Loss: 0.7846, Recall: 0.6552, Precision: 0.1964, F1: 0.3022\n",
      "-----------------------------\n",
      "Epoch 3\n"
     ]
    },
    {
     "data": {
      "application/vnd.jupyter.widget-view+json": {
       "model_id": "705a20991e4d47c6a3465485e009a751",
       "version_major": 2,
       "version_minor": 0
      },
      "text/plain": [
       "Training:   0%|          | 0/25 [00:00<?, ?it/s]"
      ]
     },
     "metadata": {},
     "output_type": "display_data"
    },
    {
     "data": {
      "application/vnd.jupyter.widget-view+json": {
       "model_id": "73dcc15ba17f4e34a0a8a5a5533892e4",
       "version_major": 2,
       "version_minor": 0
      },
      "text/plain": [
       "Validation:   0%|          | 0/5 [00:00<?, ?it/s]"
      ]
     },
     "metadata": {},
     "output_type": "display_data"
    },
    {
     "name": "stdout",
     "output_type": "stream",
     "text": [
      "Train | Loss: 0.7731, Recall: 0.5359, Precision: 0.1956, F1: 0.2866\n",
      "Val   | Loss: 0.6536, Recall: 0.5846, Precision: 0.3077, F1: 0.4032\n",
      "-----------------------------\n",
      "Epoch 4\n"
     ]
    },
    {
     "data": {
      "application/vnd.jupyter.widget-view+json": {
       "model_id": "ecf4b6f1f55543a59b9f2a9055ebd018",
       "version_major": 2,
       "version_minor": 0
      },
      "text/plain": [
       "Training:   0%|          | 0/25 [00:00<?, ?it/s]"
      ]
     },
     "metadata": {},
     "output_type": "display_data"
    },
    {
     "data": {
      "application/vnd.jupyter.widget-view+json": {
       "model_id": "d274912d9b5d4c2185abe473b4bab86a",
       "version_major": 2,
       "version_minor": 0
      },
      "text/plain": [
       "Validation:   0%|          | 0/5 [00:00<?, ?it/s]"
      ]
     },
     "metadata": {},
     "output_type": "display_data"
    },
    {
     "name": "stdout",
     "output_type": "stream",
     "text": [
      "Train | Loss: 0.7194, Recall: 0.4893, Precision: 0.2818, F1: 0.3576\n",
      "Val   | Loss: 0.6665, Recall: 0.4393, Precision: 0.4795, F1: 0.4585\n",
      "-----------------------------\n",
      "Epoch 5\n"
     ]
    },
    {
     "data": {
      "application/vnd.jupyter.widget-view+json": {
       "model_id": "eca91c567a2848ad945722b3ee7a43e7",
       "version_major": 2,
       "version_minor": 0
      },
      "text/plain": [
       "Training:   0%|          | 0/25 [00:00<?, ?it/s]"
      ]
     },
     "metadata": {},
     "output_type": "display_data"
    },
    {
     "data": {
      "application/vnd.jupyter.widget-view+json": {
       "model_id": "d1aff1eaef1c4f838d4da58a56327411",
       "version_major": 2,
       "version_minor": 0
      },
      "text/plain": [
       "Validation:   0%|          | 0/5 [00:00<?, ?it/s]"
      ]
     },
     "metadata": {},
     "output_type": "display_data"
    },
    {
     "name": "stdout",
     "output_type": "stream",
     "text": [
      "Train | Loss: 0.7075, Recall: 0.5057, Precision: 0.2841, F1: 0.3638\n",
      "Val   | Loss: 0.6779, Recall: 0.4201, Precision: 0.5420, F1: 0.4733\n",
      "-----------------------------\n",
      "Epoch 6\n"
     ]
    },
    {
     "data": {
      "application/vnd.jupyter.widget-view+json": {
       "model_id": "9f1abe55da0b4a1fbe896753104152e7",
       "version_major": 2,
       "version_minor": 0
      },
      "text/plain": [
       "Training:   0%|          | 0/25 [00:00<?, ?it/s]"
      ]
     },
     "metadata": {},
     "output_type": "display_data"
    },
    {
     "data": {
      "application/vnd.jupyter.widget-view+json": {
       "model_id": "fa87f5b68ce6417aa52db636a0fad782",
       "version_major": 2,
       "version_minor": 0
      },
      "text/plain": [
       "Validation:   0%|          | 0/5 [00:00<?, ?it/s]"
      ]
     },
     "metadata": {},
     "output_type": "display_data"
    },
    {
     "name": "stdout",
     "output_type": "stream",
     "text": [
      "Train | Loss: 0.6975, Recall: 0.4822, Precision: 0.3034, F1: 0.3724\n",
      "Val   | Loss: 0.6132, Recall: 0.7816, Precision: 0.2575, F1: 0.3873\n",
      "-----------------------------\n",
      "Epoch 7\n"
     ]
    },
    {
     "data": {
      "application/vnd.jupyter.widget-view+json": {
       "model_id": "3efd099eea774c54993161a2b967601a",
       "version_major": 2,
       "version_minor": 0
      },
      "text/plain": [
       "Training:   0%|          | 0/25 [00:00<?, ?it/s]"
      ]
     },
     "metadata": {},
     "output_type": "display_data"
    },
    {
     "data": {
      "application/vnd.jupyter.widget-view+json": {
       "model_id": "b9a66a3e053d4705989888f24b70a57f",
       "version_major": 2,
       "version_minor": 0
      },
      "text/plain": [
       "Validation:   0%|          | 0/5 [00:00<?, ?it/s]"
      ]
     },
     "metadata": {},
     "output_type": "display_data"
    },
    {
     "name": "stdout",
     "output_type": "stream",
     "text": [
      "Train | Loss: 0.6522, Recall: 0.5077, Precision: 0.3450, F1: 0.4108\n",
      "Val   | Loss: 0.5011, Recall: 0.6789, Precision: 0.4655, F1: 0.5523\n",
      "-----------------------------\n",
      "Epoch 8\n"
     ]
    },
    {
     "data": {
      "application/vnd.jupyter.widget-view+json": {
       "model_id": "e6cec2aa3b654eddbbda21edf4147180",
       "version_major": 2,
       "version_minor": 0
      },
      "text/plain": [
       "Training:   0%|          | 0/25 [00:00<?, ?it/s]"
      ]
     },
     "metadata": {},
     "output_type": "display_data"
    },
    {
     "data": {
      "application/vnd.jupyter.widget-view+json": {
       "model_id": "cac93324d9734a8ca5ea6f0be3bbecf2",
       "version_major": 2,
       "version_minor": 0
      },
      "text/plain": [
       "Validation:   0%|          | 0/5 [00:00<?, ?it/s]"
      ]
     },
     "metadata": {},
     "output_type": "display_data"
    },
    {
     "name": "stdout",
     "output_type": "stream",
     "text": [
      "Train | Loss: 0.6480, Recall: 0.5437, Precision: 0.3506, F1: 0.4263\n",
      "Val   | Loss: 0.5648, Recall: 0.5585, Precision: 0.4943, F1: 0.5244\n",
      "-----------------------------\n",
      "Epoch 9\n"
     ]
    },
    {
     "data": {
      "application/vnd.jupyter.widget-view+json": {
       "model_id": "6e13abf091f943d3b722eb9b30126b11",
       "version_major": 2,
       "version_minor": 0
      },
      "text/plain": [
       "Training:   0%|          | 0/25 [00:00<?, ?it/s]"
      ]
     },
     "metadata": {},
     "output_type": "display_data"
    },
    {
     "data": {
      "application/vnd.jupyter.widget-view+json": {
       "model_id": "8ede8d4b4d164a339156259e0579f0e6",
       "version_major": 2,
       "version_minor": 0
      },
      "text/plain": [
       "Validation:   0%|          | 0/5 [00:00<?, ?it/s]"
      ]
     },
     "metadata": {},
     "output_type": "display_data"
    },
    {
     "name": "stdout",
     "output_type": "stream",
     "text": [
      "Train | Loss: 0.6305, Recall: 0.5182, Precision: 0.4129, F1: 0.4596\n",
      "Val   | Loss: 0.5659, Recall: 0.7328, Precision: 0.3858, F1: 0.5054\n",
      "-----------------------------\n",
      "Epoch 10\n"
     ]
    },
    {
     "data": {
      "application/vnd.jupyter.widget-view+json": {
       "model_id": "edaba6e33280474d83c9642e66d79250",
       "version_major": 2,
       "version_minor": 0
      },
      "text/plain": [
       "Training:   0%|          | 0/25 [00:00<?, ?it/s]"
      ]
     },
     "metadata": {},
     "output_type": "display_data"
    },
    {
     "data": {
      "application/vnd.jupyter.widget-view+json": {
       "model_id": "51677186d0714c11be897c7b8ac2e76b",
       "version_major": 2,
       "version_minor": 0
      },
      "text/plain": [
       "Validation:   0%|          | 0/5 [00:00<?, ?it/s]"
      ]
     },
     "metadata": {},
     "output_type": "display_data"
    },
    {
     "name": "stdout",
     "output_type": "stream",
     "text": [
      "Train | Loss: 0.6408, Recall: 0.5383, Precision: 0.3903, F1: 0.4525\n",
      "Val   | Loss: 0.5246, Recall: 0.7018, Precision: 0.3995, F1: 0.5091\n",
      "-----------------------------\n",
      "Epoch 11\n"
     ]
    },
    {
     "data": {
      "application/vnd.jupyter.widget-view+json": {
       "model_id": "7d97c3bea2764ec885345d61da3a20e7",
       "version_major": 2,
       "version_minor": 0
      },
      "text/plain": [
       "Training:   0%|          | 0/25 [00:00<?, ?it/s]"
      ]
     },
     "metadata": {},
     "output_type": "display_data"
    },
    {
     "data": {
      "application/vnd.jupyter.widget-view+json": {
       "model_id": "8a4b558b233e4e919c8d90523d4a6251",
       "version_major": 2,
       "version_minor": 0
      },
      "text/plain": [
       "Validation:   0%|          | 0/5 [00:00<?, ?it/s]"
      ]
     },
     "metadata": {},
     "output_type": "display_data"
    },
    {
     "name": "stdout",
     "output_type": "stream",
     "text": [
      "Train | Loss: 0.6231, Recall: 0.5263, Precision: 0.4098, F1: 0.4608\n",
      "Val   | Loss: 0.5248, Recall: 0.6144, Precision: 0.4970, F1: 0.5495\n",
      "-----------------------------\n",
      "Epoch 12\n"
     ]
    },
    {
     "data": {
      "application/vnd.jupyter.widget-view+json": {
       "model_id": "c6fecb84369444c8a4285a3652c82d78",
       "version_major": 2,
       "version_minor": 0
      },
      "text/plain": [
       "Training:   0%|          | 0/25 [00:00<?, ?it/s]"
      ]
     },
     "metadata": {},
     "output_type": "display_data"
    },
    {
     "data": {
      "application/vnd.jupyter.widget-view+json": {
       "model_id": "77ef1ecdaa0b4176a89740da702af94b",
       "version_major": 2,
       "version_minor": 0
      },
      "text/plain": [
       "Validation:   0%|          | 0/5 [00:00<?, ?it/s]"
      ]
     },
     "metadata": {},
     "output_type": "display_data"
    },
    {
     "name": "stdout",
     "output_type": "stream",
     "text": [
      "Train | Loss: 0.6188, Recall: 0.5703, Precision: 0.3805, F1: 0.4564\n",
      "Val   | Loss: 0.5460, Recall: 0.7776, Precision: 0.3610, F1: 0.4931\n",
      "-----------------------------\n",
      "Epoch 13\n"
     ]
    },
    {
     "data": {
      "application/vnd.jupyter.widget-view+json": {
       "model_id": "9ca6fc7355e44fc39317c0f4ba8d9eb5",
       "version_major": 2,
       "version_minor": 0
      },
      "text/plain": [
       "Training:   0%|          | 0/25 [00:00<?, ?it/s]"
      ]
     },
     "metadata": {},
     "output_type": "display_data"
    },
    {
     "data": {
      "application/vnd.jupyter.widget-view+json": {
       "model_id": "ed94339bbd99415399ce17147476468c",
       "version_major": 2,
       "version_minor": 0
      },
      "text/plain": [
       "Validation:   0%|          | 0/5 [00:00<?, ?it/s]"
      ]
     },
     "metadata": {},
     "output_type": "display_data"
    },
    {
     "name": "stdout",
     "output_type": "stream",
     "text": [
      "Train | Loss: 0.6046, Recall: 0.5507, Precision: 0.3977, F1: 0.4619\n",
      "Val   | Loss: 0.5350, Recall: 0.6784, Precision: 0.3923, F1: 0.4971\n",
      "-----------------------------\n",
      "Epoch 14\n"
     ]
    },
    {
     "data": {
      "application/vnd.jupyter.widget-view+json": {
       "model_id": "37db64b0bcc44e90b697d551f55a3603",
       "version_major": 2,
       "version_minor": 0
      },
      "text/plain": [
       "Training:   0%|          | 0/25 [00:00<?, ?it/s]"
      ]
     },
     "metadata": {},
     "output_type": "display_data"
    },
    {
     "data": {
      "application/vnd.jupyter.widget-view+json": {
       "model_id": "416511a418fb44e5a9548cb1c3b82c2e",
       "version_major": 2,
       "version_minor": 0
      },
      "text/plain": [
       "Validation:   0%|          | 0/5 [00:00<?, ?it/s]"
      ]
     },
     "metadata": {},
     "output_type": "display_data"
    },
    {
     "name": "stdout",
     "output_type": "stream",
     "text": [
      "Train | Loss: 0.5960, Recall: 0.5319, Precision: 0.4343, F1: 0.4782\n",
      "Val   | Loss: 0.5041, Recall: 0.7153, Precision: 0.4225, F1: 0.5312\n",
      "-----------------------------\n",
      "Epoch 15\n"
     ]
    },
    {
     "data": {
      "application/vnd.jupyter.widget-view+json": {
       "model_id": "4fa5927884aa4e468092f2959e58b377",
       "version_major": 2,
       "version_minor": 0
      },
      "text/plain": [
       "Training:   0%|          | 0/25 [00:00<?, ?it/s]"
      ]
     },
     "metadata": {},
     "output_type": "display_data"
    },
    {
     "data": {
      "application/vnd.jupyter.widget-view+json": {
       "model_id": "fc9a8528bc234f58abce26cf8a228701",
       "version_major": 2,
       "version_minor": 0
      },
      "text/plain": [
       "Validation:   0%|          | 0/5 [00:00<?, ?it/s]"
      ]
     },
     "metadata": {},
     "output_type": "display_data"
    },
    {
     "name": "stdout",
     "output_type": "stream",
     "text": [
      "Train | Loss: 0.5947, Recall: 0.5509, Precision: 0.4275, F1: 0.4814\n",
      "Val   | Loss: 0.5026, Recall: 0.6979, Precision: 0.4648, F1: 0.5580\n",
      "-----------------------------\n",
      "Epoch 16\n"
     ]
    },
    {
     "data": {
      "application/vnd.jupyter.widget-view+json": {
       "model_id": "fda4800b3f9645809a523360c65ddfdf",
       "version_major": 2,
       "version_minor": 0
      },
      "text/plain": [
       "Training:   0%|          | 0/25 [00:00<?, ?it/s]"
      ]
     },
     "metadata": {},
     "output_type": "display_data"
    },
    {
     "data": {
      "application/vnd.jupyter.widget-view+json": {
       "model_id": "a68ead01bb5b4bb09578aef534839339",
       "version_major": 2,
       "version_minor": 0
      },
      "text/plain": [
       "Validation:   0%|          | 0/5 [00:00<?, ?it/s]"
      ]
     },
     "metadata": {},
     "output_type": "display_data"
    },
    {
     "name": "stdout",
     "output_type": "stream",
     "text": [
      "Train | Loss: 0.5941, Recall: 0.5398, Precision: 0.4164, F1: 0.4702\n",
      "Val   | Loss: 0.5018, Recall: 0.7024, Precision: 0.4021, F1: 0.5115\n",
      "-----------------------------\n",
      "Epoch 17\n"
     ]
    },
    {
     "data": {
      "application/vnd.jupyter.widget-view+json": {
       "model_id": "8b9e4b690e39409ba2894d9b0904ee0f",
       "version_major": 2,
       "version_minor": 0
      },
      "text/plain": [
       "Training:   0%|          | 0/25 [00:00<?, ?it/s]"
      ]
     },
     "metadata": {},
     "output_type": "display_data"
    },
    {
     "data": {
      "application/vnd.jupyter.widget-view+json": {
       "model_id": "fc1384f55b044e3e822a8b782f456462",
       "version_major": 2,
       "version_minor": 0
      },
      "text/plain": [
       "Validation:   0%|          | 0/5 [00:00<?, ?it/s]"
      ]
     },
     "metadata": {},
     "output_type": "display_data"
    },
    {
     "name": "stdout",
     "output_type": "stream",
     "text": [
      "Train | Loss: 0.6040, Recall: 0.5491, Precision: 0.4245, F1: 0.4788\n",
      "Val   | Loss: 0.4970, Recall: 0.5950, Precision: 0.4922, F1: 0.5387\n",
      "-----------------------------\n",
      "Epoch 18\n"
     ]
    },
    {
     "data": {
      "application/vnd.jupyter.widget-view+json": {
       "model_id": "0f3305b4ce334832b8380ce1fb40f47a",
       "version_major": 2,
       "version_minor": 0
      },
      "text/plain": [
       "Training:   0%|          | 0/25 [00:00<?, ?it/s]"
      ]
     },
     "metadata": {},
     "output_type": "display_data"
    },
    {
     "data": {
      "application/vnd.jupyter.widget-view+json": {
       "model_id": "2f517bbf57404dc6bd2f1b311941f5f6",
       "version_major": 2,
       "version_minor": 0
      },
      "text/plain": [
       "Validation:   0%|          | 0/5 [00:00<?, ?it/s]"
      ]
     },
     "metadata": {},
     "output_type": "display_data"
    },
    {
     "name": "stdout",
     "output_type": "stream",
     "text": [
      "Train | Loss: 0.5919, Recall: 0.5288, Precision: 0.4219, F1: 0.4694\n",
      "Val   | Loss: 0.4808, Recall: 0.6298, Precision: 0.5431, F1: 0.5833\n",
      "-----------------------------\n",
      "Epoch 19\n"
     ]
    },
    {
     "data": {
      "application/vnd.jupyter.widget-view+json": {
       "model_id": "15069ca408f34a10afb20113a35e6e4b",
       "version_major": 2,
       "version_minor": 0
      },
      "text/plain": [
       "Training:   0%|          | 0/25 [00:00<?, ?it/s]"
      ]
     },
     "metadata": {},
     "output_type": "display_data"
    },
    {
     "data": {
      "application/vnd.jupyter.widget-view+json": {
       "model_id": "39f115c647a04d0db40d7b80c361fe24",
       "version_major": 2,
       "version_minor": 0
      },
      "text/plain": [
       "Validation:   0%|          | 0/5 [00:00<?, ?it/s]"
      ]
     },
     "metadata": {},
     "output_type": "display_data"
    },
    {
     "name": "stdout",
     "output_type": "stream",
     "text": [
      "Train | Loss: 0.5929, Recall: 0.5594, Precision: 0.4253, F1: 0.4832\n",
      "Val   | Loss: 0.5200, Recall: 0.7246, Precision: 0.4426, F1: 0.5495\n",
      "-----------------------------\n",
      "Epoch 20\n"
     ]
    },
    {
     "data": {
      "application/vnd.jupyter.widget-view+json": {
       "model_id": "b1f32c4405db4c9db42ca13a086b21ac",
       "version_major": 2,
       "version_minor": 0
      },
      "text/plain": [
       "Training:   0%|          | 0/25 [00:00<?, ?it/s]"
      ]
     },
     "metadata": {},
     "output_type": "display_data"
    },
    {
     "data": {
      "application/vnd.jupyter.widget-view+json": {
       "model_id": "d003419011064c2299c94cc0dbb97e91",
       "version_major": 2,
       "version_minor": 0
      },
      "text/plain": [
       "Validation:   0%|          | 0/5 [00:00<?, ?it/s]"
      ]
     },
     "metadata": {},
     "output_type": "display_data"
    },
    {
     "name": "stdout",
     "output_type": "stream",
     "text": [
      "Train | Loss: 0.5805, Recall: 0.5711, Precision: 0.4237, F1: 0.4864\n",
      "Val   | Loss: 0.4934, Recall: 0.6070, Precision: 0.5315, F1: 0.5667\n",
      "-----------------------------\n",
      "Epoch 21\n"
     ]
    },
    {
     "data": {
      "application/vnd.jupyter.widget-view+json": {
       "model_id": "7d0418d506a84e368671b009cfd9c08e",
       "version_major": 2,
       "version_minor": 0
      },
      "text/plain": [
       "Training:   0%|          | 0/25 [00:00<?, ?it/s]"
      ]
     },
     "metadata": {},
     "output_type": "display_data"
    },
    {
     "data": {
      "application/vnd.jupyter.widget-view+json": {
       "model_id": "58b392f754854225beed01e37b243172",
       "version_major": 2,
       "version_minor": 0
      },
      "text/plain": [
       "Validation:   0%|          | 0/5 [00:00<?, ?it/s]"
      ]
     },
     "metadata": {},
     "output_type": "display_data"
    },
    {
     "name": "stdout",
     "output_type": "stream",
     "text": [
      "Train | Loss: 0.5821, Recall: 0.5893, Precision: 0.4196, F1: 0.4902\n",
      "Val   | Loss: 0.4647, Recall: 0.6279, Precision: 0.5671, F1: 0.5959\n",
      "-----------------------------\n",
      "Epoch 22\n"
     ]
    },
    {
     "data": {
      "application/vnd.jupyter.widget-view+json": {
       "model_id": "dcf631ead4d947789844c88e155d0eea",
       "version_major": 2,
       "version_minor": 0
      },
      "text/plain": [
       "Training:   0%|          | 0/25 [00:00<?, ?it/s]"
      ]
     },
     "metadata": {},
     "output_type": "display_data"
    },
    {
     "data": {
      "application/vnd.jupyter.widget-view+json": {
       "model_id": "f9cca6581846410ab9c5a4439a3a2d9b",
       "version_major": 2,
       "version_minor": 0
      },
      "text/plain": [
       "Validation:   0%|          | 0/5 [00:00<?, ?it/s]"
      ]
     },
     "metadata": {},
     "output_type": "display_data"
    },
    {
     "name": "stdout",
     "output_type": "stream",
     "text": [
      "Train | Loss: 0.5920, Recall: 0.5572, Precision: 0.4567, F1: 0.5020\n",
      "Val   | Loss: 0.4798, Recall: 0.6748, Precision: 0.5098, F1: 0.5808\n",
      "-----------------------------\n",
      "Epoch 23\n"
     ]
    },
    {
     "data": {
      "application/vnd.jupyter.widget-view+json": {
       "model_id": "1ecc35a9d16445ff929079e442d27317",
       "version_major": 2,
       "version_minor": 0
      },
      "text/plain": [
       "Training:   0%|          | 0/25 [00:00<?, ?it/s]"
      ]
     },
     "metadata": {},
     "output_type": "display_data"
    },
    {
     "data": {
      "application/vnd.jupyter.widget-view+json": {
       "model_id": "767a7e763829465faffa381fd3cbfc9f",
       "version_major": 2,
       "version_minor": 0
      },
      "text/plain": [
       "Validation:   0%|          | 0/5 [00:00<?, ?it/s]"
      ]
     },
     "metadata": {},
     "output_type": "display_data"
    },
    {
     "name": "stdout",
     "output_type": "stream",
     "text": [
      "Train | Loss: 0.5931, Recall: 0.5916, Precision: 0.4354, F1: 0.5016\n",
      "Val   | Loss: 0.5115, Recall: 0.6714, Precision: 0.5087, F1: 0.5788\n",
      "-----------------------------\n",
      "Epoch 24\n"
     ]
    },
    {
     "data": {
      "application/vnd.jupyter.widget-view+json": {
       "model_id": "a9bc5fc631cf4503b3120e5b6bb8e202",
       "version_major": 2,
       "version_minor": 0
      },
      "text/plain": [
       "Training:   0%|          | 0/25 [00:00<?, ?it/s]"
      ]
     },
     "metadata": {},
     "output_type": "display_data"
    },
    {
     "data": {
      "application/vnd.jupyter.widget-view+json": {
       "model_id": "b7d085dec99049fb9a8f60dae6d1db9f",
       "version_major": 2,
       "version_minor": 0
      },
      "text/plain": [
       "Validation:   0%|          | 0/5 [00:00<?, ?it/s]"
      ]
     },
     "metadata": {},
     "output_type": "display_data"
    },
    {
     "name": "stdout",
     "output_type": "stream",
     "text": [
      "Train | Loss: 0.6083, Recall: 0.5633, Precision: 0.4226, F1: 0.4830\n",
      "Val   | Loss: 0.4992, Recall: 0.5708, Precision: 0.5987, F1: 0.5844\n",
      "-----------------------------\n",
      "Epoch 25\n"
     ]
    },
    {
     "data": {
      "application/vnd.jupyter.widget-view+json": {
       "model_id": "68bad07647144d4b836e818690d5e6b6",
       "version_major": 2,
       "version_minor": 0
      },
      "text/plain": [
       "Training:   0%|          | 0/25 [00:00<?, ?it/s]"
      ]
     },
     "metadata": {},
     "output_type": "display_data"
    },
    {
     "data": {
      "application/vnd.jupyter.widget-view+json": {
       "model_id": "2ead71e6c90f48c38805bddfa96bd4dc",
       "version_major": 2,
       "version_minor": 0
      },
      "text/plain": [
       "Validation:   0%|          | 0/5 [00:00<?, ?it/s]"
      ]
     },
     "metadata": {},
     "output_type": "display_data"
    },
    {
     "name": "stdout",
     "output_type": "stream",
     "text": [
      "Train | Loss: 0.5999, Recall: 0.5211, Precision: 0.4119, F1: 0.4601\n",
      "Val   | Loss: 0.4789, Recall: 0.6459, Precision: 0.5843, F1: 0.6135\n",
      "-----------------------------\n",
      "Epoch 26\n"
     ]
    },
    {
     "data": {
      "application/vnd.jupyter.widget-view+json": {
       "model_id": "d8aa0cb1cf6b48ed981120d1274eae8e",
       "version_major": 2,
       "version_minor": 0
      },
      "text/plain": [
       "Training:   0%|          | 0/25 [00:00<?, ?it/s]"
      ]
     },
     "metadata": {},
     "output_type": "display_data"
    },
    {
     "data": {
      "application/vnd.jupyter.widget-view+json": {
       "model_id": "83bb0d6716344b078dfef704cd70a36e",
       "version_major": 2,
       "version_minor": 0
      },
      "text/plain": [
       "Validation:   0%|          | 0/5 [00:00<?, ?it/s]"
      ]
     },
     "metadata": {},
     "output_type": "display_data"
    },
    {
     "name": "stdout",
     "output_type": "stream",
     "text": [
      "Train | Loss: 0.5710, Recall: 0.5550, Precision: 0.4581, F1: 0.5019\n",
      "Val   | Loss: 0.4775, Recall: 0.6858, Precision: 0.4582, F1: 0.5493\n",
      "-----------------------------\n",
      "Epoch 27\n"
     ]
    },
    {
     "data": {
      "application/vnd.jupyter.widget-view+json": {
       "model_id": "e2d3b9de3bc84dd88e7b15b6556acaf5",
       "version_major": 2,
       "version_minor": 0
      },
      "text/plain": [
       "Training:   0%|          | 0/25 [00:00<?, ?it/s]"
      ]
     },
     "metadata": {},
     "output_type": "display_data"
    },
    {
     "data": {
      "application/vnd.jupyter.widget-view+json": {
       "model_id": "2accf78ca217412a8831c5ac9e351a40",
       "version_major": 2,
       "version_minor": 0
      },
      "text/plain": [
       "Validation:   0%|          | 0/5 [00:00<?, ?it/s]"
      ]
     },
     "metadata": {},
     "output_type": "display_data"
    },
    {
     "name": "stdout",
     "output_type": "stream",
     "text": [
      "Train | Loss: 0.5626, Recall: 0.5808, Precision: 0.4554, F1: 0.5105\n",
      "Val   | Loss: 0.5114, Recall: 0.6830, Precision: 0.4442, F1: 0.5383\n",
      "-----------------------------\n",
      "Epoch 28\n"
     ]
    },
    {
     "data": {
      "application/vnd.jupyter.widget-view+json": {
       "model_id": "7bcc042a28174efca22ffc7fa5891b61",
       "version_major": 2,
       "version_minor": 0
      },
      "text/plain": [
       "Training:   0%|          | 0/25 [00:00<?, ?it/s]"
      ]
     },
     "metadata": {},
     "output_type": "display_data"
    },
    {
     "data": {
      "application/vnd.jupyter.widget-view+json": {
       "model_id": "6a96fcaf9e6442a08577ba23ec669f7d",
       "version_major": 2,
       "version_minor": 0
      },
      "text/plain": [
       "Validation:   0%|          | 0/5 [00:00<?, ?it/s]"
      ]
     },
     "metadata": {},
     "output_type": "display_data"
    },
    {
     "name": "stdout",
     "output_type": "stream",
     "text": [
      "Train | Loss: 0.5920, Recall: 0.5646, Precision: 0.4162, F1: 0.4792\n",
      "Val   | Loss: 0.5268, Recall: 0.6500, Precision: 0.5175, F1: 0.5763\n",
      "-----------------------------\n",
      "Epoch 29\n"
     ]
    },
    {
     "data": {
      "application/vnd.jupyter.widget-view+json": {
       "model_id": "53f6a55650e3452a8138eb42adfadd08",
       "version_major": 2,
       "version_minor": 0
      },
      "text/plain": [
       "Training:   0%|          | 0/25 [00:00<?, ?it/s]"
      ]
     },
     "metadata": {},
     "output_type": "display_data"
    },
    {
     "data": {
      "application/vnd.jupyter.widget-view+json": {
       "model_id": "6a630b36d2504da18dd16eba11a7c79c",
       "version_major": 2,
       "version_minor": 0
      },
      "text/plain": [
       "Validation:   0%|          | 0/5 [00:00<?, ?it/s]"
      ]
     },
     "metadata": {},
     "output_type": "display_data"
    },
    {
     "name": "stdout",
     "output_type": "stream",
     "text": [
      "Train | Loss: 0.5883, Recall: 0.6046, Precision: 0.4169, F1: 0.4935\n",
      "Val   | Loss: 0.5261, Recall: 0.5437, Precision: 0.6275, F1: 0.5826\n",
      "-----------------------------\n",
      "Epoch 30\n"
     ]
    },
    {
     "data": {
      "application/vnd.jupyter.widget-view+json": {
       "model_id": "8d59f51b60ad41a79b184be9cea46600",
       "version_major": 2,
       "version_minor": 0
      },
      "text/plain": [
       "Training:   0%|          | 0/25 [00:00<?, ?it/s]"
      ]
     },
     "metadata": {},
     "output_type": "display_data"
    },
    {
     "data": {
      "application/vnd.jupyter.widget-view+json": {
       "model_id": "010bd23a222e424e871f811f8096c8ff",
       "version_major": 2,
       "version_minor": 0
      },
      "text/plain": [
       "Validation:   0%|          | 0/5 [00:00<?, ?it/s]"
      ]
     },
     "metadata": {},
     "output_type": "display_data"
    },
    {
     "name": "stdout",
     "output_type": "stream",
     "text": [
      "Train | Loss: 0.5442, Recall: 0.5503, Precision: 0.5122, F1: 0.5306\n",
      "Val   | Loss: 0.4953, Recall: 0.6056, Precision: 0.6130, F1: 0.6093\n",
      "-----------------------------\n",
      "Epoch 31\n"
     ]
    },
    {
     "data": {
      "application/vnd.jupyter.widget-view+json": {
       "model_id": "5e8b423d5eda4cb79a6c3512a5dfc6fc",
       "version_major": 2,
       "version_minor": 0
      },
      "text/plain": [
       "Training:   0%|          | 0/25 [00:00<?, ?it/s]"
      ]
     },
     "metadata": {},
     "output_type": "display_data"
    },
    {
     "data": {
      "application/vnd.jupyter.widget-view+json": {
       "model_id": "fe959dc5f0464d36a43b5e4340d0f8a7",
       "version_major": 2,
       "version_minor": 0
      },
      "text/plain": [
       "Validation:   0%|          | 0/5 [00:00<?, ?it/s]"
      ]
     },
     "metadata": {},
     "output_type": "display_data"
    },
    {
     "name": "stdout",
     "output_type": "stream",
     "text": [
      "Train | Loss: 0.5552, Recall: 0.6015, Precision: 0.4506, F1: 0.5153\n",
      "Val   | Loss: 0.4872, Recall: 0.6302, Precision: 0.5533, F1: 0.5893\n",
      "-----------------------------\n",
      "Epoch 32\n"
     ]
    },
    {
     "data": {
      "application/vnd.jupyter.widget-view+json": {
       "model_id": "1e5e7a5aa2844d2d899380e30958e209",
       "version_major": 2,
       "version_minor": 0
      },
      "text/plain": [
       "Training:   0%|          | 0/25 [00:00<?, ?it/s]"
      ]
     },
     "metadata": {},
     "output_type": "display_data"
    },
    {
     "data": {
      "application/vnd.jupyter.widget-view+json": {
       "model_id": "563ed6d357df4af28723a5600c73af72",
       "version_major": 2,
       "version_minor": 0
      },
      "text/plain": [
       "Validation:   0%|          | 0/5 [00:00<?, ?it/s]"
      ]
     },
     "metadata": {},
     "output_type": "display_data"
    },
    {
     "name": "stdout",
     "output_type": "stream",
     "text": [
      "Train | Loss: 0.5922, Recall: 0.5423, Precision: 0.4500, F1: 0.4918\n",
      "Val   | Loss: 0.4873, Recall: 0.6044, Precision: 0.6106, F1: 0.6075\n",
      "-----------------------------\n",
      "Epoch 33\n"
     ]
    },
    {
     "data": {
      "application/vnd.jupyter.widget-view+json": {
       "model_id": "c5b1808bb022435aa3bb7f009e111418",
       "version_major": 2,
       "version_minor": 0
      },
      "text/plain": [
       "Training:   0%|          | 0/25 [00:00<?, ?it/s]"
      ]
     },
     "metadata": {},
     "output_type": "display_data"
    },
    {
     "data": {
      "application/vnd.jupyter.widget-view+json": {
       "model_id": "3034a29d58d94ebcbba2caed27f1c3bf",
       "version_major": 2,
       "version_minor": 0
      },
      "text/plain": [
       "Validation:   0%|          | 0/5 [00:00<?, ?it/s]"
      ]
     },
     "metadata": {},
     "output_type": "display_data"
    },
    {
     "name": "stdout",
     "output_type": "stream",
     "text": [
      "Train | Loss: 0.5470, Recall: 0.5876, Precision: 0.5018, F1: 0.5413\n",
      "Val   | Loss: 0.4472, Recall: 0.6843, Precision: 0.5475, F1: 0.6083\n",
      "-----------------------------\n",
      "Epoch 34\n"
     ]
    },
    {
     "data": {
      "application/vnd.jupyter.widget-view+json": {
       "model_id": "dbbb6a8fa15449d39425b47fbe14c595",
       "version_major": 2,
       "version_minor": 0
      },
      "text/plain": [
       "Training:   0%|          | 0/25 [00:00<?, ?it/s]"
      ]
     },
     "metadata": {},
     "output_type": "display_data"
    },
    {
     "data": {
      "application/vnd.jupyter.widget-view+json": {
       "model_id": "15f1aaa3cc984ab2b44bae7975a62970",
       "version_major": 2,
       "version_minor": 0
      },
      "text/plain": [
       "Validation:   0%|          | 0/5 [00:00<?, ?it/s]"
      ]
     },
     "metadata": {},
     "output_type": "display_data"
    },
    {
     "name": "stdout",
     "output_type": "stream",
     "text": [
      "Train | Loss: 0.5237, Recall: 0.5868, Precision: 0.5093, F1: 0.5453\n",
      "Val   | Loss: 0.4609, Recall: 0.6258, Precision: 0.6310, F1: 0.6284\n",
      "-----------------------------\n",
      "Epoch 35\n"
     ]
    },
    {
     "data": {
      "application/vnd.jupyter.widget-view+json": {
       "model_id": "924802506fcb464fb9ce8c02a72c83a9",
       "version_major": 2,
       "version_minor": 0
      },
      "text/plain": [
       "Training:   0%|          | 0/25 [00:00<?, ?it/s]"
      ]
     },
     "metadata": {},
     "output_type": "display_data"
    },
    {
     "data": {
      "application/vnd.jupyter.widget-view+json": {
       "model_id": "d1758400e039435dbbdab8b95ea63113",
       "version_major": 2,
       "version_minor": 0
      },
      "text/plain": [
       "Validation:   0%|          | 0/5 [00:00<?, ?it/s]"
      ]
     },
     "metadata": {},
     "output_type": "display_data"
    },
    {
     "name": "stdout",
     "output_type": "stream",
     "text": [
      "Train | Loss: 0.5283, Recall: 0.5991, Precision: 0.5120, F1: 0.5521\n",
      "Val   | Loss: 0.4842, Recall: 0.6902, Precision: 0.5216, F1: 0.5942\n",
      "-----------------------------\n",
      "Epoch 36\n"
     ]
    },
    {
     "data": {
      "application/vnd.jupyter.widget-view+json": {
       "model_id": "a59c951dec894b9fb8cd2be3ffe928b7",
       "version_major": 2,
       "version_minor": 0
      },
      "text/plain": [
       "Training:   0%|          | 0/25 [00:00<?, ?it/s]"
      ]
     },
     "metadata": {},
     "output_type": "display_data"
    },
    {
     "data": {
      "application/vnd.jupyter.widget-view+json": {
       "model_id": "196d3f6cd25e44d7a9bd8b1bebc7b1d8",
       "version_major": 2,
       "version_minor": 0
      },
      "text/plain": [
       "Validation:   0%|          | 0/5 [00:00<?, ?it/s]"
      ]
     },
     "metadata": {},
     "output_type": "display_data"
    },
    {
     "name": "stdout",
     "output_type": "stream",
     "text": [
      "Train | Loss: 0.5394, Recall: 0.5730, Precision: 0.5084, F1: 0.5387\n",
      "Val   | Loss: 0.4730, Recall: 0.6464, Precision: 0.6029, F1: 0.6239\n",
      "-----------------------------\n",
      "Epoch 37\n"
     ]
    },
    {
     "data": {
      "application/vnd.jupyter.widget-view+json": {
       "model_id": "bdb665f85c1c4f92983f3a2f033cdfe9",
       "version_major": 2,
       "version_minor": 0
      },
      "text/plain": [
       "Training:   0%|          | 0/25 [00:00<?, ?it/s]"
      ]
     },
     "metadata": {},
     "output_type": "display_data"
    },
    {
     "data": {
      "application/vnd.jupyter.widget-view+json": {
       "model_id": "d044c1ace79c42d2b58732d4dfded129",
       "version_major": 2,
       "version_minor": 0
      },
      "text/plain": [
       "Validation:   0%|          | 0/5 [00:00<?, ?it/s]"
      ]
     },
     "metadata": {},
     "output_type": "display_data"
    },
    {
     "name": "stdout",
     "output_type": "stream",
     "text": [
      "Train | Loss: 0.5455, Recall: 0.6118, Precision: 0.4847, F1: 0.5409\n",
      "Val   | Loss: 0.4621, Recall: 0.6176, Precision: 0.6007, F1: 0.6090\n",
      "-----------------------------\n",
      "Epoch 38\n"
     ]
    },
    {
     "data": {
      "application/vnd.jupyter.widget-view+json": {
       "model_id": "244ad6684ed7472aa47563ec616cd4c5",
       "version_major": 2,
       "version_minor": 0
      },
      "text/plain": [
       "Training:   0%|          | 0/25 [00:00<?, ?it/s]"
      ]
     },
     "metadata": {},
     "output_type": "display_data"
    },
    {
     "data": {
      "application/vnd.jupyter.widget-view+json": {
       "model_id": "8328db7c216c492683e7088f5af46838",
       "version_major": 2,
       "version_minor": 0
      },
      "text/plain": [
       "Validation:   0%|          | 0/5 [00:00<?, ?it/s]"
      ]
     },
     "metadata": {},
     "output_type": "display_data"
    },
    {
     "name": "stdout",
     "output_type": "stream",
     "text": [
      "Train | Loss: 0.5649, Recall: 0.5913, Precision: 0.4990, F1: 0.5413\n",
      "Val   | Loss: 0.4634, Recall: 0.7218, Precision: 0.5263, F1: 0.6087\n",
      "-----------------------------\n",
      "Epoch 39\n"
     ]
    },
    {
     "data": {
      "application/vnd.jupyter.widget-view+json": {
       "model_id": "a1d57e6137044173ae28e3eee2128dd1",
       "version_major": 2,
       "version_minor": 0
      },
      "text/plain": [
       "Training:   0%|          | 0/25 [00:00<?, ?it/s]"
      ]
     },
     "metadata": {},
     "output_type": "display_data"
    },
    {
     "data": {
      "application/vnd.jupyter.widget-view+json": {
       "model_id": "7a2ab1b83c4044e1aeb36caf55d68453",
       "version_major": 2,
       "version_minor": 0
      },
      "text/plain": [
       "Validation:   0%|          | 0/5 [00:00<?, ?it/s]"
      ]
     },
     "metadata": {},
     "output_type": "display_data"
    },
    {
     "name": "stdout",
     "output_type": "stream",
     "text": [
      "Train | Loss: 0.5278, Recall: 0.6092, Precision: 0.4899, F1: 0.5431\n",
      "Val   | Loss: 0.4640, Recall: 0.6541, Precision: 0.5701, F1: 0.6092\n",
      "-----------------------------\n",
      "Epoch 40\n"
     ]
    },
    {
     "data": {
      "application/vnd.jupyter.widget-view+json": {
       "model_id": "c83878eb5cb04cf69184808a580ffbe3",
       "version_major": 2,
       "version_minor": 0
      },
      "text/plain": [
       "Training:   0%|          | 0/25 [00:00<?, ?it/s]"
      ]
     },
     "metadata": {},
     "output_type": "display_data"
    },
    {
     "data": {
      "application/vnd.jupyter.widget-view+json": {
       "model_id": "d1257cc49cee4841afe2ebb0ad91e870",
       "version_major": 2,
       "version_minor": 0
      },
      "text/plain": [
       "Validation:   0%|          | 0/5 [00:00<?, ?it/s]"
      ]
     },
     "metadata": {},
     "output_type": "display_data"
    },
    {
     "name": "stdout",
     "output_type": "stream",
     "text": [
      "Train | Loss: 0.5333, Recall: 0.5698, Precision: 0.5185, F1: 0.5429\n",
      "Val   | Loss: 0.4680, Recall: 0.6155, Precision: 0.6092, F1: 0.6123\n",
      "-----------------------------\n",
      "Epoch 41\n"
     ]
    },
    {
     "data": {
      "application/vnd.jupyter.widget-view+json": {
       "model_id": "9560e83a9add43c68b41065c5c78da52",
       "version_major": 2,
       "version_minor": 0
      },
      "text/plain": [
       "Training:   0%|          | 0/25 [00:00<?, ?it/s]"
      ]
     },
     "metadata": {},
     "output_type": "display_data"
    },
    {
     "data": {
      "application/vnd.jupyter.widget-view+json": {
       "model_id": "35672dde8114443fa99e443bb7dbf6f2",
       "version_major": 2,
       "version_minor": 0
      },
      "text/plain": [
       "Validation:   0%|          | 0/5 [00:00<?, ?it/s]"
      ]
     },
     "metadata": {},
     "output_type": "display_data"
    },
    {
     "name": "stdout",
     "output_type": "stream",
     "text": [
      "Train | Loss: 0.5319, Recall: 0.6160, Precision: 0.4962, F1: 0.5496\n",
      "Val   | Loss: 0.4503, Recall: 0.6350, Precision: 0.6311, F1: 0.6330\n",
      "-----------------------------\n",
      "Epoch 42\n"
     ]
    },
    {
     "data": {
      "application/vnd.jupyter.widget-view+json": {
       "model_id": "8c340f05ebb641e88d876d4f2e49fc8d",
       "version_major": 2,
       "version_minor": 0
      },
      "text/plain": [
       "Training:   0%|          | 0/25 [00:00<?, ?it/s]"
      ]
     },
     "metadata": {},
     "output_type": "display_data"
    },
    {
     "data": {
      "application/vnd.jupyter.widget-view+json": {
       "model_id": "e15d18ca4ba24293a107c52586e621d4",
       "version_major": 2,
       "version_minor": 0
      },
      "text/plain": [
       "Validation:   0%|          | 0/5 [00:00<?, ?it/s]"
      ]
     },
     "metadata": {},
     "output_type": "display_data"
    },
    {
     "name": "stdout",
     "output_type": "stream",
     "text": [
      "Train | Loss: 0.5320, Recall: 0.6030, Precision: 0.4937, F1: 0.5429\n",
      "Val   | Loss: 0.4440, Recall: 0.6127, Precision: 0.6538, F1: 0.6326\n",
      "-----------------------------\n",
      "Epoch 43\n"
     ]
    },
    {
     "data": {
      "application/vnd.jupyter.widget-view+json": {
       "model_id": "04c97fb56d124eabb05115e8ceea3c47",
       "version_major": 2,
       "version_minor": 0
      },
      "text/plain": [
       "Training:   0%|          | 0/25 [00:00<?, ?it/s]"
      ]
     },
     "metadata": {},
     "output_type": "display_data"
    },
    {
     "data": {
      "application/vnd.jupyter.widget-view+json": {
       "model_id": "1d943024a39c4026acb59e6b07aebb7d",
       "version_major": 2,
       "version_minor": 0
      },
      "text/plain": [
       "Validation:   0%|          | 0/5 [00:00<?, ?it/s]"
      ]
     },
     "metadata": {},
     "output_type": "display_data"
    },
    {
     "name": "stdout",
     "output_type": "stream",
     "text": [
      "Train | Loss: 0.5504, Recall: 0.5520, Precision: 0.5211, F1: 0.5361\n",
      "Val   | Loss: 0.4470, Recall: 0.7242, Precision: 0.5189, F1: 0.6046\n",
      "-----------------------------\n",
      "Epoch 44\n"
     ]
    },
    {
     "data": {
      "application/vnd.jupyter.widget-view+json": {
       "model_id": "20ba8de2de88431d9e8eb55eed89cbe4",
       "version_major": 2,
       "version_minor": 0
      },
      "text/plain": [
       "Training:   0%|          | 0/25 [00:00<?, ?it/s]"
      ]
     },
     "metadata": {},
     "output_type": "display_data"
    },
    {
     "data": {
      "application/vnd.jupyter.widget-view+json": {
       "model_id": "2caee085451b49f4a03cb1b46e2faeb7",
       "version_major": 2,
       "version_minor": 0
      },
      "text/plain": [
       "Validation:   0%|          | 0/5 [00:00<?, ?it/s]"
      ]
     },
     "metadata": {},
     "output_type": "display_data"
    },
    {
     "name": "stdout",
     "output_type": "stream",
     "text": [
      "Train | Loss: 0.5334, Recall: 0.6276, Precision: 0.5032, F1: 0.5586\n",
      "Val   | Loss: 0.5209, Recall: 0.5305, Precision: 0.6719, F1: 0.5929\n",
      "-----------------------------\n",
      "Epoch 45\n"
     ]
    },
    {
     "data": {
      "application/vnd.jupyter.widget-view+json": {
       "model_id": "8c83969592994248bfab4ad4a633e07f",
       "version_major": 2,
       "version_minor": 0
      },
      "text/plain": [
       "Training:   0%|          | 0/25 [00:00<?, ?it/s]"
      ]
     },
     "metadata": {},
     "output_type": "display_data"
    },
    {
     "data": {
      "application/vnd.jupyter.widget-view+json": {
       "model_id": "6bc0d8e559d0403ebaa793a45949bb85",
       "version_major": 2,
       "version_minor": 0
      },
      "text/plain": [
       "Validation:   0%|          | 0/5 [00:00<?, ?it/s]"
      ]
     },
     "metadata": {},
     "output_type": "display_data"
    },
    {
     "name": "stdout",
     "output_type": "stream",
     "text": [
      "Train | Loss: 0.5447, Recall: 0.5839, Precision: 0.5073, F1: 0.5429\n",
      "Val   | Loss: 0.4632, Recall: 0.6650, Precision: 0.5609, F1: 0.6085\n",
      "-----------------------------\n",
      "Epoch 46\n"
     ]
    },
    {
     "data": {
      "application/vnd.jupyter.widget-view+json": {
       "model_id": "153c9c2ee60d4379b26b2dd489728757",
       "version_major": 2,
       "version_minor": 0
      },
      "text/plain": [
       "Training:   0%|          | 0/25 [00:00<?, ?it/s]"
      ]
     },
     "metadata": {},
     "output_type": "display_data"
    },
    {
     "data": {
      "application/vnd.jupyter.widget-view+json": {
       "model_id": "60f6bb5195cb463a9370ba39c7242de1",
       "version_major": 2,
       "version_minor": 0
      },
      "text/plain": [
       "Validation:   0%|          | 0/5 [00:00<?, ?it/s]"
      ]
     },
     "metadata": {},
     "output_type": "display_data"
    },
    {
     "name": "stdout",
     "output_type": "stream",
     "text": [
      "Train | Loss: 0.5272, Recall: 0.5810, Precision: 0.5194, F1: 0.5485\n",
      "Val   | Loss: 0.4495, Recall: 0.6004, Precision: 0.6446, F1: 0.6218\n",
      "-----------------------------\n",
      "Epoch 47\n"
     ]
    },
    {
     "data": {
      "application/vnd.jupyter.widget-view+json": {
       "model_id": "8f8a9f9ba8c243078042c677ec4151f4",
       "version_major": 2,
       "version_minor": 0
      },
      "text/plain": [
       "Training:   0%|          | 0/25 [00:00<?, ?it/s]"
      ]
     },
     "metadata": {},
     "output_type": "display_data"
    },
    {
     "data": {
      "application/vnd.jupyter.widget-view+json": {
       "model_id": "77a45cdeda4b4f64afd9157ea9a7a562",
       "version_major": 2,
       "version_minor": 0
      },
      "text/plain": [
       "Validation:   0%|          | 0/5 [00:00<?, ?it/s]"
      ]
     },
     "metadata": {},
     "output_type": "display_data"
    },
    {
     "name": "stdout",
     "output_type": "stream",
     "text": [
      "Train | Loss: 0.5346, Recall: 0.5689, Precision: 0.5226, F1: 0.5448\n",
      "Val   | Loss: 0.4578, Recall: 0.6672, Precision: 0.5836, F1: 0.6226\n",
      "-----------------------------\n",
      "Epoch 48\n"
     ]
    },
    {
     "data": {
      "application/vnd.jupyter.widget-view+json": {
       "model_id": "a67f2244f8f1434683fba06cc96a74d5",
       "version_major": 2,
       "version_minor": 0
      },
      "text/plain": [
       "Training:   0%|          | 0/25 [00:00<?, ?it/s]"
      ]
     },
     "metadata": {},
     "output_type": "display_data"
    },
    {
     "data": {
      "application/vnd.jupyter.widget-view+json": {
       "model_id": "645d2a4a3c644cc58005584be47c209f",
       "version_major": 2,
       "version_minor": 0
      },
      "text/plain": [
       "Validation:   0%|          | 0/5 [00:00<?, ?it/s]"
      ]
     },
     "metadata": {},
     "output_type": "display_data"
    },
    {
     "name": "stdout",
     "output_type": "stream",
     "text": [
      "Train | Loss: 0.5503, Recall: 0.6048, Precision: 0.4947, F1: 0.5442\n",
      "Val   | Loss: 0.4296, Recall: 0.6787, Precision: 0.5881, F1: 0.6301\n",
      "-----------------------------\n",
      "Epoch 49\n"
     ]
    },
    {
     "data": {
      "application/vnd.jupyter.widget-view+json": {
       "model_id": "e1aec35022f44834b8dfb983bf634ce9",
       "version_major": 2,
       "version_minor": 0
      },
      "text/plain": [
       "Training:   0%|          | 0/25 [00:00<?, ?it/s]"
      ]
     },
     "metadata": {},
     "output_type": "display_data"
    },
    {
     "data": {
      "application/vnd.jupyter.widget-view+json": {
       "model_id": "591c82b9327b4922a7eb468ceb869b72",
       "version_major": 2,
       "version_minor": 0
      },
      "text/plain": [
       "Validation:   0%|          | 0/5 [00:00<?, ?it/s]"
      ]
     },
     "metadata": {},
     "output_type": "display_data"
    },
    {
     "name": "stdout",
     "output_type": "stream",
     "text": [
      "Train | Loss: 0.5333, Recall: 0.5761, Precision: 0.5271, F1: 0.5505\n",
      "Val   | Loss: 0.4360, Recall: 0.6570, Precision: 0.6053, F1: 0.6301\n",
      "-----------------------------\n",
      "Epoch 50\n"
     ]
    },
    {
     "data": {
      "application/vnd.jupyter.widget-view+json": {
       "model_id": "cf7820254be74751af51bd12505b8d24",
       "version_major": 2,
       "version_minor": 0
      },
      "text/plain": [
       "Training:   0%|          | 0/25 [00:00<?, ?it/s]"
      ]
     },
     "metadata": {},
     "output_type": "display_data"
    },
    {
     "data": {
      "application/vnd.jupyter.widget-view+json": {
       "model_id": "5d2ff6cb2ea04b138292b6a37c1ab55f",
       "version_major": 2,
       "version_minor": 0
      },
      "text/plain": [
       "Validation:   0%|          | 0/5 [00:00<?, ?it/s]"
      ]
     },
     "metadata": {},
     "output_type": "display_data"
    },
    {
     "name": "stdout",
     "output_type": "stream",
     "text": [
      "Train | Loss: 0.5532, Recall: 0.6273, Precision: 0.4627, F1: 0.5326\n",
      "Val   | Loss: 0.4518, Recall: 0.6720, Precision: 0.5760, F1: 0.6203\n",
      "-----------------------------\n",
      "Training Complete!\n",
      "Saved PyTorch Model to  /home/tommytang111/gap-junction-segmentation/models/sweep_model_n20ce5v8.pt\n"
     ]
    },
    {
     "data": {
      "text/html": [],
      "text/plain": [
       "<IPython.core.display.HTML object>"
      ]
     },
     "metadata": {},
     "output_type": "display_data"
    },
    {
     "data": {
      "text/html": [
       "<br>    <style><br>        .wandb-row {<br>            display: flex;<br>            flex-direction: row;<br>            flex-wrap: wrap;<br>            justify-content: flex-start;<br>            width: 100%;<br>        }<br>        .wandb-col {<br>            display: flex;<br>            flex-direction: column;<br>            flex-basis: 100%;<br>            flex: 1;<br>            padding: 10px;<br>        }<br>    </style><br><div class=\"wandb-row\"><div class=\"wandb-col\"><h3>Run history:</h3><br/><table class=\"wandb\"><tr><td>best_epoch</td><td>▁▁▁▂▂▂▂▂▂▂▂▃▃▃▄▄▅▅▅▅▅▅▅▅▅▅▅▇▇▇▇▇████████</td></tr><tr><td>best_val_f1</td><td>▁▄▅▆▆▇▇▇▇▇▇▇▇▇▇▇████████████████████████</td></tr><tr><td>best_val_loss</td><td>█▆▄▄▄▂▂▂▂▂▂▂▂▂▂▂▂▁▁▁▁▁▁▁▁▁▁▁▁▁▁▁▁▁▁▁▁▁▁▁</td></tr><tr><td>epoch</td><td>▁▁▁▁▂▂▂▂▃▃▃▃▃▃▄▄▄▄▄▄▅▅▅▅▅▆▆▆▆▆▆▇▇▇▇▇▇███</td></tr><tr><td>lr</td><td>█████████████████████████▁▁▁▁▁▁▁▁▁▁▁▁▁▁▁</td></tr><tr><td>train_f1</td><td>▁▂▄▅▅▆▆▇▆▇▇▇▇▇▇▇▇▇▇▇▇▇▇▇█▇██████████████</td></tr><tr><td>train_loss</td><td>█▇▅▄▄▃▃▃▃▃▂▂▂▂▂▂▂▂▂▂▂▂▂▂▁▂▁▁▁▁▂▁▁▁▁▁▁▁▁▁</td></tr><tr><td>train_precision</td><td>▁▂▃▄▅▅▅▆▆▆▆▇▇▆▇▇▆▇▇▇▇▇▆▆█▇█████▇████████</td></tr><tr><td>train_recall</td><td>█▅▁▁▁▂▂▂▃▂▂▂▂▂▃▃▂▃▃▂▃▃▃▂▃▃▃▃▃▄▄▃▄▃▂▃▃▃▃▄</td></tr><tr><td>val_f1</td><td>▁▄▅▆▆▇▇▇▇▇▆▇▇▇▇▇▇█▇▇█▇▇▇▇███████████████</td></tr><tr><td>val_loss</td><td>█▆▄▄▄▂▃▃▂▂▂▂▂▂▂▂▁▂▂▂▂▂▂▂▂▁▁▂▂▁▁▂▁▁▁▁▁▁▁▁</td></tr><tr><td>val_precision</td><td>▁▁▃▅▆▅▆▄▄▆▄▅▅▄▆▅▆▇▆▆▇▅▅█▇▇▆█▆▇▆▇██▆▇█▇▇▇</td></tr><tr><td>val_recall</td><td>▁▇▇▅▅▇▆██▇▇███▇▇▇▇▇▆██▇▆▇▇█▇█▇█▇▇▇▇▆▇▇▇▇</td></tr></table><br/></div><div class=\"wandb-col\"><h3>Run summary:</h3><br/><table class=\"wandb\"><tr><td>best_epoch</td><td>40</td></tr><tr><td>best_val_f1</td><td>0.63304</td></tr><tr><td>best_val_loss</td><td>0.42965</td></tr><tr><td>epoch</td><td>50</td></tr><tr><td>lr</td><td>5e-05</td></tr><tr><td>train_f1</td><td>0.53261</td></tr><tr><td>train_loss</td><td>0.55316</td></tr><tr><td>train_precision</td><td>0.46274</td></tr><tr><td>train_recall</td><td>0.62734</td></tr><tr><td>val_f1</td><td>0.62033</td></tr><tr><td>val_loss</td><td>0.45184</td></tr><tr><td>val_precision</td><td>0.57604</td></tr><tr><td>val_recall</td><td>0.672</td></tr></table><br/></div></div>"
      ],
      "text/plain": [
       "<IPython.core.display.HTML object>"
      ]
     },
     "metadata": {},
     "output_type": "display_data"
    },
    {
     "data": {
      "text/html": [
       " View run <strong style=\"color:#cdcd00\">fresh-sweep-6</strong> at: <a href='https://wandb.ai/zhen_lab/gap-junction-segmentation/runs/n20ce5v8' target=\"_blank\">https://wandb.ai/zhen_lab/gap-junction-segmentation/runs/n20ce5v8</a><br> View project at: <a href='https://wandb.ai/zhen_lab/gap-junction-segmentation' target=\"_blank\">https://wandb.ai/zhen_lab/gap-junction-segmentation</a><br>Synced 5 W&B file(s), 0 media file(s), 0 artifact file(s) and 0 other file(s)"
      ],
      "text/plain": [
       "<IPython.core.display.HTML object>"
      ]
     },
     "metadata": {},
     "output_type": "display_data"
    },
    {
     "data": {
      "text/html": [
       "Find logs at: <code>/home/tommytang111/gap-junction-segmentation/wandb/wandb/run-20250606_152347-n20ce5v8/logs</code>"
      ],
      "text/plain": [
       "<IPython.core.display.HTML object>"
      ]
     },
     "metadata": {},
     "output_type": "display_data"
    },
    {
     "name": "stderr",
     "output_type": "stream",
     "text": [
      "\u001b[34m\u001b[1mwandb\u001b[0m: Agent Starting Run: tteeqd9t with config:\n",
      "\u001b[34m\u001b[1mwandb\u001b[0m: \taugmentation: custom2\n",
      "\u001b[34m\u001b[1mwandb\u001b[0m: \tbatch_size: 8\n",
      "\u001b[34m\u001b[1mwandb\u001b[0m: \tdropout: 0.1\n",
      "\u001b[34m\u001b[1mwandb\u001b[0m: \tlearning_rate: 0.01\n",
      "\u001b[34m\u001b[1mwandb\u001b[0m: \tloss_function: GenDLoss\n",
      "\u001b[34m\u001b[1mwandb\u001b[0m: \toptimizer: AdamW\n",
      "\u001b[34m\u001b[1mwandb\u001b[0m: \u001b[33mWARNING\u001b[0m If you're specifying your api key in code, ensure this code is not shared publicly.\n",
      "\u001b[34m\u001b[1mwandb\u001b[0m: \u001b[33mWARNING\u001b[0m Consider setting the WANDB_API_KEY environment variable, or running `wandb login` from the command line.\n",
      "\u001b[34m\u001b[1mwandb\u001b[0m: Appending key for api.wandb.ai to your netrc file: /home/tommytang111/.netrc\n"
     ]
    },
    {
     "data": {
      "text/html": [
       "Ignoring project 'gap-junction-segmentation' when running a sweep."
      ],
      "text/plain": [
       "<IPython.core.display.HTML object>"
      ]
     },
     "metadata": {},
     "output_type": "display_data"
    },
    {
     "data": {
      "text/html": [
       "Ignoring entity 'zhen_lab' when running a sweep."
      ],
      "text/plain": [
       "<IPython.core.display.HTML object>"
      ]
     },
     "metadata": {},
     "output_type": "display_data"
    },
    {
     "data": {
      "text/html": [
       "Tracking run with wandb version 0.19.10"
      ],
      "text/plain": [
       "<IPython.core.display.HTML object>"
      ]
     },
     "metadata": {},
     "output_type": "display_data"
    },
    {
     "data": {
      "text/html": [
       "Run data is saved locally in <code>/home/tommytang111/gap-junction-segmentation/wandb/wandb/run-20250606_153722-tteeqd9t</code>"
      ],
      "text/plain": [
       "<IPython.core.display.HTML object>"
      ]
     },
     "metadata": {},
     "output_type": "display_data"
    },
    {
     "data": {
      "text/html": [
       "Syncing run <strong><a href='https://wandb.ai/zhen_lab/gap-junction-segmentation/runs/tteeqd9t' target=\"_blank\">lunar-sweep-7</a></strong> to <a href='https://wandb.ai/zhen_lab/gap-junction-segmentation' target=\"_blank\">Weights & Biases</a> (<a href='https://wandb.me/developer-guide' target=\"_blank\">docs</a>)<br>Sweep page: <a href='https://wandb.ai/zhen_lab/gap-junction-segmentation/sweeps/dwqzhjxz' target=\"_blank\">https://wandb.ai/zhen_lab/gap-junction-segmentation/sweeps/dwqzhjxz</a>"
      ],
      "text/plain": [
       "<IPython.core.display.HTML object>"
      ]
     },
     "metadata": {},
     "output_type": "display_data"
    },
    {
     "data": {
      "text/html": [
       " View project at <a href='https://wandb.ai/zhen_lab/gap-junction-segmentation' target=\"_blank\">https://wandb.ai/zhen_lab/gap-junction-segmentation</a>"
      ],
      "text/plain": [
       "<IPython.core.display.HTML object>"
      ]
     },
     "metadata": {},
     "output_type": "display_data"
    },
    {
     "data": {
      "text/html": [
       " View sweep at <a href='https://wandb.ai/zhen_lab/gap-junction-segmentation/sweeps/dwqzhjxz' target=\"_blank\">https://wandb.ai/zhen_lab/gap-junction-segmentation/sweeps/dwqzhjxz</a>"
      ],
      "text/plain": [
       "<IPython.core.display.HTML object>"
      ]
     },
     "metadata": {},
     "output_type": "display_data"
    },
    {
     "data": {
      "text/html": [
       " View run at <a href='https://wandb.ai/zhen_lab/gap-junction-segmentation/runs/tteeqd9t' target=\"_blank\">https://wandb.ai/zhen_lab/gap-junction-segmentation/runs/tteeqd9t</a>"
      ],
      "text/plain": [
       "<IPython.core.display.HTML object>"
      ]
     },
     "metadata": {},
     "output_type": "display_data"
    },
    {
     "name": "stdout",
     "output_type": "stream",
     "text": [
      "Epoch 1\n"
     ]
    },
    {
     "data": {
      "application/vnd.jupyter.widget-view+json": {
       "model_id": "632e0d46766343ebbcc5e2f44b0ff4f1",
       "version_major": 2,
       "version_minor": 0
      },
      "text/plain": [
       "Training:   0%|          | 0/25 [00:00<?, ?it/s]"
      ]
     },
     "metadata": {},
     "output_type": "display_data"
    },
    {
     "data": {
      "application/vnd.jupyter.widget-view+json": {
       "model_id": "587785d8544b4ad3a5bf73f9ca7a6d09",
       "version_major": 2,
       "version_minor": 0
      },
      "text/plain": [
       "Validation:   0%|          | 0/5 [00:00<?, ?it/s]"
      ]
     },
     "metadata": {},
     "output_type": "display_data"
    },
    {
     "name": "stdout",
     "output_type": "stream",
     "text": [
      "Train | Loss: 0.8835, Recall: 0.3704, Precision: 0.0512, F1: 0.0900\n",
      "Val   | Loss: 0.9348, Recall: 0.0975, Precision: 0.0831, F1: 0.0897\n",
      "-----------------------------\n",
      "Epoch 2\n"
     ]
    },
    {
     "data": {
      "application/vnd.jupyter.widget-view+json": {
       "model_id": "40990ab1454b4fc69fc4de0918012a6f",
       "version_major": 2,
       "version_minor": 0
      },
      "text/plain": [
       "Training:   0%|          | 0/25 [00:00<?, ?it/s]"
      ]
     },
     "metadata": {},
     "output_type": "display_data"
    },
    {
     "data": {
      "application/vnd.jupyter.widget-view+json": {
       "model_id": "6567f36308974ca99f96cd4313f47ef6",
       "version_major": 2,
       "version_minor": 0
      },
      "text/plain": [
       "Validation:   0%|          | 0/5 [00:00<?, ?it/s]"
      ]
     },
     "metadata": {},
     "output_type": "display_data"
    },
    {
     "name": "stdout",
     "output_type": "stream",
     "text": [
      "Train | Loss: 0.8602, Recall: 0.2679, Precision: 0.1014, F1: 0.1472\n",
      "Val   | Loss: 0.7667, Recall: 0.4513, Precision: 0.1743, F1: 0.2515\n",
      "-----------------------------\n",
      "Epoch 3\n"
     ]
    },
    {
     "data": {
      "application/vnd.jupyter.widget-view+json": {
       "model_id": "d3689faaa1d94edca6a0995b953ae58e",
       "version_major": 2,
       "version_minor": 0
      },
      "text/plain": [
       "Training:   0%|          | 0/25 [00:00<?, ?it/s]"
      ]
     },
     "metadata": {},
     "output_type": "display_data"
    },
    {
     "data": {
      "application/vnd.jupyter.widget-view+json": {
       "model_id": "6f9311d73ea94f71ab76ee84caf2ee8c",
       "version_major": 2,
       "version_minor": 0
      },
      "text/plain": [
       "Validation:   0%|          | 0/5 [00:00<?, ?it/s]"
      ]
     },
     "metadata": {},
     "output_type": "display_data"
    },
    {
     "name": "stdout",
     "output_type": "stream",
     "text": [
      "Train | Loss: 0.8611, Recall: 0.3148, Precision: 0.1038, F1: 0.1561\n",
      "Val   | Loss: 0.7415, Recall: 0.4789, Precision: 0.1807, F1: 0.2624\n",
      "-----------------------------\n",
      "Epoch 4\n"
     ]
    },
    {
     "data": {
      "application/vnd.jupyter.widget-view+json": {
       "model_id": "36cd301090b94e39b86a9b5673770f71",
       "version_major": 2,
       "version_minor": 0
      },
      "text/plain": [
       "Training:   0%|          | 0/25 [00:00<?, ?it/s]"
      ]
     },
     "metadata": {},
     "output_type": "display_data"
    },
    {
     "data": {
      "application/vnd.jupyter.widget-view+json": {
       "model_id": "ae5d75d2686a4668acc25ecc60c8c3fc",
       "version_major": 2,
       "version_minor": 0
      },
      "text/plain": [
       "Validation:   0%|          | 0/5 [00:00<?, ?it/s]"
      ]
     },
     "metadata": {},
     "output_type": "display_data"
    },
    {
     "name": "stdout",
     "output_type": "stream",
     "text": [
      "Train | Loss: 0.8592, Recall: 0.4684, Precision: 0.0860, F1: 0.1453\n",
      "Val   | Loss: 0.9254, Recall: 0.8931, Precision: 0.0413, F1: 0.0789\n",
      "-----------------------------\n",
      "Epoch 5\n"
     ]
    },
    {
     "data": {
      "application/vnd.jupyter.widget-view+json": {
       "model_id": "f5edfe298deb48b98e2c47340b1ed423",
       "version_major": 2,
       "version_minor": 0
      },
      "text/plain": [
       "Training:   0%|          | 0/25 [00:00<?, ?it/s]"
      ]
     },
     "metadata": {},
     "output_type": "display_data"
    },
    {
     "data": {
      "application/vnd.jupyter.widget-view+json": {
       "model_id": "aedca1096956477bb041656de366f511",
       "version_major": 2,
       "version_minor": 0
      },
      "text/plain": [
       "Validation:   0%|          | 0/5 [00:00<?, ?it/s]"
      ]
     },
     "metadata": {},
     "output_type": "display_data"
    },
    {
     "name": "stdout",
     "output_type": "stream",
     "text": [
      "Train | Loss: 0.8367, Recall: 0.3933, Precision: 0.1266, F1: 0.1915\n",
      "Val   | Loss: 0.8505, Recall: 0.8092, Precision: 0.0957, F1: 0.1712\n",
      "-----------------------------\n",
      "Epoch 6\n"
     ]
    },
    {
     "data": {
      "application/vnd.jupyter.widget-view+json": {
       "model_id": "919720a3a0374940935154e9071b1ea8",
       "version_major": 2,
       "version_minor": 0
      },
      "text/plain": [
       "Training:   0%|          | 0/25 [00:00<?, ?it/s]"
      ]
     },
     "metadata": {},
     "output_type": "display_data"
    },
    {
     "data": {
      "application/vnd.jupyter.widget-view+json": {
       "model_id": "f2e37e2e080949d2b7525e89a3ba7e6f",
       "version_major": 2,
       "version_minor": 0
      },
      "text/plain": [
       "Validation:   0%|          | 0/5 [00:00<?, ?it/s]"
      ]
     },
     "metadata": {},
     "output_type": "display_data"
    },
    {
     "name": "stdout",
     "output_type": "stream",
     "text": [
      "Train | Loss: 0.8287, Recall: 0.4240, Precision: 0.1134, F1: 0.1790\n",
      "Val   | Loss: 0.9413, Recall: 0.0240, Precision: 0.2958, F1: 0.0444\n",
      "-----------------------------\n",
      "Epoch 7\n"
     ]
    },
    {
     "data": {
      "application/vnd.jupyter.widget-view+json": {
       "model_id": "39bbf27f49b547139241bc2acfa14b45",
       "version_major": 2,
       "version_minor": 0
      },
      "text/plain": [
       "Training:   0%|          | 0/25 [00:00<?, ?it/s]"
      ]
     },
     "metadata": {},
     "output_type": "display_data"
    },
    {
     "data": {
      "application/vnd.jupyter.widget-view+json": {
       "model_id": "bd0a811b60cf4dd1aea30eb2990f33d1",
       "version_major": 2,
       "version_minor": 0
      },
      "text/plain": [
       "Validation:   0%|          | 0/5 [00:00<?, ?it/s]"
      ]
     },
     "metadata": {},
     "output_type": "display_data"
    },
    {
     "name": "stdout",
     "output_type": "stream",
     "text": [
      "Train | Loss: 0.8391, Recall: 0.3958, Precision: 0.1045, F1: 0.1653\n",
      "Val   | Loss: 0.8599, Recall: 0.8238, Precision: 0.0855, F1: 0.1549\n",
      "-----------------------------\n",
      "Epoch 8\n"
     ]
    },
    {
     "data": {
      "application/vnd.jupyter.widget-view+json": {
       "model_id": "4a333587d27e47f29304252a027d9223",
       "version_major": 2,
       "version_minor": 0
      },
      "text/plain": [
       "Training:   0%|          | 0/25 [00:00<?, ?it/s]"
      ]
     },
     "metadata": {},
     "output_type": "display_data"
    },
    {
     "data": {
      "application/vnd.jupyter.widget-view+json": {
       "model_id": "7f74789c3e754c9c89f82ee45db35d4d",
       "version_major": 2,
       "version_minor": 0
      },
      "text/plain": [
       "Validation:   0%|          | 0/5 [00:00<?, ?it/s]"
      ]
     },
     "metadata": {},
     "output_type": "display_data"
    },
    {
     "name": "stdout",
     "output_type": "stream",
     "text": [
      "Train | Loss: 0.8248, Recall: 0.3440, Precision: 0.1415, F1: 0.2005\n",
      "Val   | Loss: 0.7379, Recall: 0.4844, Precision: 0.1880, F1: 0.2709\n",
      "-----------------------------\n",
      "Epoch 9\n"
     ]
    },
    {
     "data": {
      "application/vnd.jupyter.widget-view+json": {
       "model_id": "d325007682fc4882b860deb4261e8d48",
       "version_major": 2,
       "version_minor": 0
      },
      "text/plain": [
       "Training:   0%|          | 0/25 [00:00<?, ?it/s]"
      ]
     },
     "metadata": {},
     "output_type": "display_data"
    },
    {
     "data": {
      "application/vnd.jupyter.widget-view+json": {
       "model_id": "c9595157a8f4498c815435267479b958",
       "version_major": 2,
       "version_minor": 0
      },
      "text/plain": [
       "Validation:   0%|          | 0/5 [00:00<?, ?it/s]"
      ]
     },
     "metadata": {},
     "output_type": "display_data"
    },
    {
     "name": "stdout",
     "output_type": "stream",
     "text": [
      "Train | Loss: 0.8214, Recall: 0.3730, Precision: 0.1282, F1: 0.1908\n",
      "Val   | Loss: 0.7739, Recall: 0.3128, Precision: 0.2131, F1: 0.2535\n",
      "-----------------------------\n",
      "Epoch 10\n"
     ]
    },
    {
     "data": {
      "application/vnd.jupyter.widget-view+json": {
       "model_id": "5d7bb4f858ee42b9ad67037a1d2e85e6",
       "version_major": 2,
       "version_minor": 0
      },
      "text/plain": [
       "Training:   0%|          | 0/25 [00:00<?, ?it/s]"
      ]
     },
     "metadata": {},
     "output_type": "display_data"
    },
    {
     "data": {
      "application/vnd.jupyter.widget-view+json": {
       "model_id": "aa6cb94133d04d3f937a0fac13b89d1d",
       "version_major": 2,
       "version_minor": 0
      },
      "text/plain": [
       "Validation:   0%|          | 0/5 [00:00<?, ?it/s]"
      ]
     },
     "metadata": {},
     "output_type": "display_data"
    },
    {
     "name": "stdout",
     "output_type": "stream",
     "text": [
      "Train | Loss: 0.8146, Recall: 0.4031, Precision: 0.1337, F1: 0.2008\n",
      "Val   | Loss: 0.8241, Recall: 0.7442, Precision: 0.1137, F1: 0.1972\n",
      "-----------------------------\n",
      "Epoch 11\n"
     ]
    },
    {
     "data": {
      "application/vnd.jupyter.widget-view+json": {
       "model_id": "d13f136279114b039decdabc49020799",
       "version_major": 2,
       "version_minor": 0
      },
      "text/plain": [
       "Training:   0%|          | 0/25 [00:00<?, ?it/s]"
      ]
     },
     "metadata": {},
     "output_type": "display_data"
    },
    {
     "data": {
      "application/vnd.jupyter.widget-view+json": {
       "model_id": "a39c911c309e40418795ca95ffa94052",
       "version_major": 2,
       "version_minor": 0
      },
      "text/plain": [
       "Validation:   0%|          | 0/5 [00:00<?, ?it/s]"
      ]
     },
     "metadata": {},
     "output_type": "display_data"
    },
    {
     "name": "stdout",
     "output_type": "stream",
     "text": [
      "Train | Loss: 0.8065, Recall: 0.3928, Precision: 0.1353, F1: 0.2013\n",
      "Val   | Loss: 0.7252, Recall: 0.3554, Precision: 0.2434, F1: 0.2889\n",
      "-----------------------------\n",
      "Epoch 12\n"
     ]
    },
    {
     "data": {
      "application/vnd.jupyter.widget-view+json": {
       "model_id": "d7a08a2620b74b2ab94c1bfe6d7eb8cd",
       "version_major": 2,
       "version_minor": 0
      },
      "text/plain": [
       "Training:   0%|          | 0/25 [00:00<?, ?it/s]"
      ]
     },
     "metadata": {},
     "output_type": "display_data"
    },
    {
     "data": {
      "application/vnd.jupyter.widget-view+json": {
       "model_id": "ffe248bea3e74939b3ca91f022fa9c35",
       "version_major": 2,
       "version_minor": 0
      },
      "text/plain": [
       "Validation:   0%|          | 0/5 [00:00<?, ?it/s]"
      ]
     },
     "metadata": {},
     "output_type": "display_data"
    },
    {
     "name": "stdout",
     "output_type": "stream",
     "text": [
      "Train | Loss: 0.8050, Recall: 0.3581, Precision: 0.1463, F1: 0.2077\n",
      "Val   | Loss: 0.8550, Recall: 0.1689, Precision: 0.3153, F1: 0.2200\n",
      "-----------------------------\n",
      "Epoch 13\n"
     ]
    },
    {
     "data": {
      "application/vnd.jupyter.widget-view+json": {
       "model_id": "cc9e8bfff9554a0db088de9e0d089fb6",
       "version_major": 2,
       "version_minor": 0
      },
      "text/plain": [
       "Training:   0%|          | 0/25 [00:00<?, ?it/s]"
      ]
     },
     "metadata": {},
     "output_type": "display_data"
    },
    {
     "data": {
      "application/vnd.jupyter.widget-view+json": {
       "model_id": "e7fea80df34843a48aade339ba3ee656",
       "version_major": 2,
       "version_minor": 0
      },
      "text/plain": [
       "Validation:   0%|          | 0/5 [00:00<?, ?it/s]"
      ]
     },
     "metadata": {},
     "output_type": "display_data"
    },
    {
     "name": "stdout",
     "output_type": "stream",
     "text": [
      "Train | Loss: 0.7775, Recall: 0.3993, Precision: 0.1623, F1: 0.2307\n",
      "Val   | Loss: 0.7047, Recall: 0.4265, Precision: 0.2319, F1: 0.3005\n",
      "-----------------------------\n",
      "Epoch 14\n"
     ]
    },
    {
     "data": {
      "application/vnd.jupyter.widget-view+json": {
       "model_id": "fe51d702b9e54316baae83651516e863",
       "version_major": 2,
       "version_minor": 0
      },
      "text/plain": [
       "Training:   0%|          | 0/25 [00:00<?, ?it/s]"
      ]
     },
     "metadata": {},
     "output_type": "display_data"
    },
    {
     "data": {
      "application/vnd.jupyter.widget-view+json": {
       "model_id": "b54f586b15b6458394c496c8c043a8a1",
       "version_major": 2,
       "version_minor": 0
      },
      "text/plain": [
       "Validation:   0%|          | 0/5 [00:00<?, ?it/s]"
      ]
     },
     "metadata": {},
     "output_type": "display_data"
    },
    {
     "name": "stdout",
     "output_type": "stream",
     "text": [
      "Train | Loss: 0.7844, Recall: 0.4085, Precision: 0.1561, F1: 0.2258\n",
      "Val   | Loss: 0.9444, Recall: 0.0205, Precision: 0.2477, F1: 0.0379\n",
      "-----------------------------\n",
      "Epoch 15\n"
     ]
    },
    {
     "data": {
      "application/vnd.jupyter.widget-view+json": {
       "model_id": "6f189f81943f41f0a1af4c3419cb6ad8",
       "version_major": 2,
       "version_minor": 0
      },
      "text/plain": [
       "Training:   0%|          | 0/25 [00:00<?, ?it/s]"
      ]
     },
     "metadata": {},
     "output_type": "display_data"
    },
    {
     "data": {
      "application/vnd.jupyter.widget-view+json": {
       "model_id": "0790ef52d59441f3b77a36c5e2a5f437",
       "version_major": 2,
       "version_minor": 0
      },
      "text/plain": [
       "Validation:   0%|          | 0/5 [00:00<?, ?it/s]"
      ]
     },
     "metadata": {},
     "output_type": "display_data"
    },
    {
     "name": "stdout",
     "output_type": "stream",
     "text": [
      "Train | Loss: 0.7876, Recall: 0.4610, Precision: 0.1491, F1: 0.2254\n",
      "Val   | Loss: 0.7655, Recall: 0.2676, Precision: 0.2781, F1: 0.2728\n",
      "-----------------------------\n",
      "Epoch 16\n"
     ]
    },
    {
     "data": {
      "application/vnd.jupyter.widget-view+json": {
       "model_id": "60a48a021ab849c5a875373f288cf486",
       "version_major": 2,
       "version_minor": 0
      },
      "text/plain": [
       "Training:   0%|          | 0/25 [00:00<?, ?it/s]"
      ]
     },
     "metadata": {},
     "output_type": "display_data"
    },
    {
     "data": {
      "application/vnd.jupyter.widget-view+json": {
       "model_id": "7af1a8bf1a5a4574adc0d0cf63a333e5",
       "version_major": 2,
       "version_minor": 0
      },
      "text/plain": [
       "Validation:   0%|          | 0/5 [00:00<?, ?it/s]"
      ]
     },
     "metadata": {},
     "output_type": "display_data"
    },
    {
     "name": "stdout",
     "output_type": "stream",
     "text": [
      "Train | Loss: 0.7771, Recall: 0.4274, Precision: 0.1685, F1: 0.2417\n",
      "Val   | Loss: 0.8194, Recall: 0.2381, Precision: 0.2636, F1: 0.2502\n",
      "-----------------------------\n",
      "Epoch 17\n"
     ]
    },
    {
     "data": {
      "application/vnd.jupyter.widget-view+json": {
       "model_id": "bb294c46a7b74e6db62cf2a3bcadae60",
       "version_major": 2,
       "version_minor": 0
      },
      "text/plain": [
       "Training:   0%|          | 0/25 [00:00<?, ?it/s]"
      ]
     },
     "metadata": {},
     "output_type": "display_data"
    },
    {
     "data": {
      "application/vnd.jupyter.widget-view+json": {
       "model_id": "fb67a08423174757beb27d7d727fe14a",
       "version_major": 2,
       "version_minor": 0
      },
      "text/plain": [
       "Validation:   0%|          | 0/5 [00:00<?, ?it/s]"
      ]
     },
     "metadata": {},
     "output_type": "display_data"
    },
    {
     "name": "stdout",
     "output_type": "stream",
     "text": [
      "Train | Loss: 0.7772, Recall: 0.4221, Precision: 0.1569, F1: 0.2288\n",
      "Val   | Loss: 0.6914, Recall: 0.3632, Precision: 0.2787, F1: 0.3154\n",
      "-----------------------------\n",
      "Epoch 18\n"
     ]
    },
    {
     "data": {
      "application/vnd.jupyter.widget-view+json": {
       "model_id": "6989913647d14fd590a82c90819d10a4",
       "version_major": 2,
       "version_minor": 0
      },
      "text/plain": [
       "Training:   0%|          | 0/25 [00:00<?, ?it/s]"
      ]
     },
     "metadata": {},
     "output_type": "display_data"
    },
    {
     "data": {
      "application/vnd.jupyter.widget-view+json": {
       "model_id": "6693e98e1d9c4d54a3bf8e28cc16bb83",
       "version_major": 2,
       "version_minor": 0
      },
      "text/plain": [
       "Validation:   0%|          | 0/5 [00:00<?, ?it/s]"
      ]
     },
     "metadata": {},
     "output_type": "display_data"
    },
    {
     "name": "stdout",
     "output_type": "stream",
     "text": [
      "Train | Loss: 0.8007, Recall: 0.3792, Precision: 0.1242, F1: 0.1872\n",
      "Val   | Loss: 0.7249, Recall: 0.6226, Precision: 0.1618, F1: 0.2569\n",
      "-----------------------------\n",
      "Epoch 19\n"
     ]
    },
    {
     "data": {
      "application/vnd.jupyter.widget-view+json": {
       "model_id": "c91e34afaa06449197f47bbd73a6e3fb",
       "version_major": 2,
       "version_minor": 0
      },
      "text/plain": [
       "Training:   0%|          | 0/25 [00:00<?, ?it/s]"
      ]
     },
     "metadata": {},
     "output_type": "display_data"
    },
    {
     "data": {
      "application/vnd.jupyter.widget-view+json": {
       "model_id": "1cd964554e9e4a58a6dc7c431fcb2b26",
       "version_major": 2,
       "version_minor": 0
      },
      "text/plain": [
       "Validation:   0%|          | 0/5 [00:00<?, ?it/s]"
      ]
     },
     "metadata": {},
     "output_type": "display_data"
    },
    {
     "name": "stdout",
     "output_type": "stream",
     "text": [
      "Train | Loss: 0.7819, Recall: 0.4643, Precision: 0.1350, F1: 0.2092\n",
      "Val   | Loss: 0.6798, Recall: 0.5434, Precision: 0.2072, F1: 0.3000\n",
      "-----------------------------\n",
      "Epoch 20\n"
     ]
    },
    {
     "data": {
      "application/vnd.jupyter.widget-view+json": {
       "model_id": "0d5349b97b6e4a08a50fee8c058e193f",
       "version_major": 2,
       "version_minor": 0
      },
      "text/plain": [
       "Training:   0%|          | 0/25 [00:00<?, ?it/s]"
      ]
     },
     "metadata": {},
     "output_type": "display_data"
    },
    {
     "data": {
      "application/vnd.jupyter.widget-view+json": {
       "model_id": "75483ca2378049c58097e86f3378dd82",
       "version_major": 2,
       "version_minor": 0
      },
      "text/plain": [
       "Validation:   0%|          | 0/5 [00:00<?, ?it/s]"
      ]
     },
     "metadata": {},
     "output_type": "display_data"
    },
    {
     "name": "stdout",
     "output_type": "stream",
     "text": [
      "Train | Loss: 0.7614, Recall: 0.4540, Precision: 0.1534, F1: 0.2293\n",
      "Val   | Loss: 0.8899, Recall: 0.8510, Precision: 0.0666, F1: 0.1235\n",
      "-----------------------------\n",
      "Epoch 21\n"
     ]
    },
    {
     "data": {
      "application/vnd.jupyter.widget-view+json": {
       "model_id": "0990597e217c422baa9aeb4755380222",
       "version_major": 2,
       "version_minor": 0
      },
      "text/plain": [
       "Training:   0%|          | 0/25 [00:00<?, ?it/s]"
      ]
     },
     "metadata": {},
     "output_type": "display_data"
    },
    {
     "data": {
      "application/vnd.jupyter.widget-view+json": {
       "model_id": "f027fe7fa52f4f1db645ee263ed6df25",
       "version_major": 2,
       "version_minor": 0
      },
      "text/plain": [
       "Validation:   0%|          | 0/5 [00:00<?, ?it/s]"
      ]
     },
     "metadata": {},
     "output_type": "display_data"
    },
    {
     "name": "stdout",
     "output_type": "stream",
     "text": [
      "Train | Loss: 0.7674, Recall: 0.4118, Precision: 0.1688, F1: 0.2394\n",
      "Val   | Loss: 0.6578, Recall: 0.4819, Precision: 0.2607, F1: 0.3384\n",
      "-----------------------------\n",
      "Epoch 22\n"
     ]
    },
    {
     "data": {
      "application/vnd.jupyter.widget-view+json": {
       "model_id": "72b1962f365a4ab894bdc4e4a9090322",
       "version_major": 2,
       "version_minor": 0
      },
      "text/plain": [
       "Training:   0%|          | 0/25 [00:00<?, ?it/s]"
      ]
     },
     "metadata": {},
     "output_type": "display_data"
    },
    {
     "data": {
      "application/vnd.jupyter.widget-view+json": {
       "model_id": "520a8239e1954740a221c337df1d45fb",
       "version_major": 2,
       "version_minor": 0
      },
      "text/plain": [
       "Validation:   0%|          | 0/5 [00:00<?, ?it/s]"
      ]
     },
     "metadata": {},
     "output_type": "display_data"
    },
    {
     "name": "stdout",
     "output_type": "stream",
     "text": [
      "Train | Loss: 0.7717, Recall: 0.4492, Precision: 0.1558, F1: 0.2313\n",
      "Val   | Loss: 0.7184, Recall: 0.3586, Precision: 0.2985, F1: 0.3258\n",
      "-----------------------------\n",
      "Epoch 23\n"
     ]
    },
    {
     "data": {
      "application/vnd.jupyter.widget-view+json": {
       "model_id": "7dd1cae136e34d619aac91d91a590fd6",
       "version_major": 2,
       "version_minor": 0
      },
      "text/plain": [
       "Training:   0%|          | 0/25 [00:00<?, ?it/s]"
      ]
     },
     "metadata": {},
     "output_type": "display_data"
    },
    {
     "data": {
      "application/vnd.jupyter.widget-view+json": {
       "model_id": "c290783e75ea44d5bde5c760efd9e4bc",
       "version_major": 2,
       "version_minor": 0
      },
      "text/plain": [
       "Validation:   0%|          | 0/5 [00:00<?, ?it/s]"
      ]
     },
     "metadata": {},
     "output_type": "display_data"
    },
    {
     "name": "stdout",
     "output_type": "stream",
     "text": [
      "Train | Loss: 0.7467, Recall: 0.4455, Precision: 0.1627, F1: 0.2384\n",
      "Val   | Loss: 0.7503, Recall: 0.6390, Precision: 0.1555, F1: 0.2501\n",
      "-----------------------------\n",
      "Epoch 24\n"
     ]
    },
    {
     "data": {
      "application/vnd.jupyter.widget-view+json": {
       "model_id": "9e29bf928e62415482512e31ed3ca4ea",
       "version_major": 2,
       "version_minor": 0
      },
      "text/plain": [
       "Training:   0%|          | 0/25 [00:00<?, ?it/s]"
      ]
     },
     "metadata": {},
     "output_type": "display_data"
    },
    {
     "data": {
      "application/vnd.jupyter.widget-view+json": {
       "model_id": "aff615c661cc46c3b8ff897aa7ec28bd",
       "version_major": 2,
       "version_minor": 0
      },
      "text/plain": [
       "Validation:   0%|          | 0/5 [00:00<?, ?it/s]"
      ]
     },
     "metadata": {},
     "output_type": "display_data"
    },
    {
     "name": "stdout",
     "output_type": "stream",
     "text": [
      "Train | Loss: 0.7720, Recall: 0.4290, Precision: 0.1582, F1: 0.2312\n",
      "Val   | Loss: 0.6691, Recall: 0.5759, Precision: 0.2272, F1: 0.3259\n",
      "-----------------------------\n",
      "Epoch 25\n"
     ]
    },
    {
     "data": {
      "application/vnd.jupyter.widget-view+json": {
       "model_id": "b999a4dbaec54539a78b1813500f3e45",
       "version_major": 2,
       "version_minor": 0
      },
      "text/plain": [
       "Training:   0%|          | 0/25 [00:00<?, ?it/s]"
      ]
     },
     "metadata": {},
     "output_type": "display_data"
    },
    {
     "data": {
      "application/vnd.jupyter.widget-view+json": {
       "model_id": "ea4a6e6f07e74216bc9766029ecf386b",
       "version_major": 2,
       "version_minor": 0
      },
      "text/plain": [
       "Validation:   0%|          | 0/5 [00:00<?, ?it/s]"
      ]
     },
     "metadata": {},
     "output_type": "display_data"
    },
    {
     "name": "stdout",
     "output_type": "stream",
     "text": [
      "Train | Loss: 0.7743, Recall: 0.4441, Precision: 0.1747, F1: 0.2508\n",
      "Val   | Loss: 0.9299, Recall: 0.9441, Precision: 0.0408, F1: 0.0783\n",
      "-----------------------------\n",
      "Epoch 26\n"
     ]
    },
    {
     "data": {
      "application/vnd.jupyter.widget-view+json": {
       "model_id": "2257d60eb63d4f21a94c9b0a611e2c18",
       "version_major": 2,
       "version_minor": 0
      },
      "text/plain": [
       "Training:   0%|          | 0/25 [00:00<?, ?it/s]"
      ]
     },
     "metadata": {},
     "output_type": "display_data"
    },
    {
     "data": {
      "application/vnd.jupyter.widget-view+json": {
       "model_id": "58bbfc93dfbd4ecf9ac8ad5bd54f8adf",
       "version_major": 2,
       "version_minor": 0
      },
      "text/plain": [
       "Validation:   0%|          | 0/5 [00:00<?, ?it/s]"
      ]
     },
     "metadata": {},
     "output_type": "display_data"
    },
    {
     "name": "stdout",
     "output_type": "stream",
     "text": [
      "Train | Loss: 0.7595, Recall: 0.4466, Precision: 0.1843, F1: 0.2609\n",
      "Val   | Loss: 0.7117, Recall: 0.4600, Precision: 0.2864, F1: 0.3530\n",
      "-----------------------------\n",
      "Epoch 27\n"
     ]
    },
    {
     "data": {
      "application/vnd.jupyter.widget-view+json": {
       "model_id": "acaa17a1eb9548299d18c806f8e655d3",
       "version_major": 2,
       "version_minor": 0
      },
      "text/plain": [
       "Training:   0%|          | 0/25 [00:00<?, ?it/s]"
      ]
     },
     "metadata": {},
     "output_type": "display_data"
    },
    {
     "data": {
      "application/vnd.jupyter.widget-view+json": {
       "model_id": "55330dc3112a42a7914a15c70c1f7e63",
       "version_major": 2,
       "version_minor": 0
      },
      "text/plain": [
       "Validation:   0%|          | 0/5 [00:00<?, ?it/s]"
      ]
     },
     "metadata": {},
     "output_type": "display_data"
    },
    {
     "name": "stdout",
     "output_type": "stream",
     "text": [
      "Train | Loss: 0.7606, Recall: 0.4676, Precision: 0.1461, F1: 0.2226\n",
      "Val   | Loss: 0.7664, Recall: 0.6925, Precision: 0.1454, F1: 0.2404\n",
      "-----------------------------\n",
      "Epoch 28\n"
     ]
    },
    {
     "data": {
      "application/vnd.jupyter.widget-view+json": {
       "model_id": "8093a2ea0fcd411393011083b035e457",
       "version_major": 2,
       "version_minor": 0
      },
      "text/plain": [
       "Training:   0%|          | 0/25 [00:00<?, ?it/s]"
      ]
     },
     "metadata": {},
     "output_type": "display_data"
    },
    {
     "data": {
      "application/vnd.jupyter.widget-view+json": {
       "model_id": "33a75dfa0b86457da4863ddb0e0fbb66",
       "version_major": 2,
       "version_minor": 0
      },
      "text/plain": [
       "Validation:   0%|          | 0/5 [00:00<?, ?it/s]"
      ]
     },
     "metadata": {},
     "output_type": "display_data"
    },
    {
     "name": "stdout",
     "output_type": "stream",
     "text": [
      "Train | Loss: 0.7443, Recall: 0.4291, Precision: 0.2154, F1: 0.2868\n",
      "Val   | Loss: 0.8180, Recall: 0.1767, Precision: 0.5166, F1: 0.2634\n",
      "-----------------------------\n",
      "Epoch 29\n"
     ]
    },
    {
     "data": {
      "application/vnd.jupyter.widget-view+json": {
       "model_id": "7031f22d12764ccaa2cc6cf753d82ccf",
       "version_major": 2,
       "version_minor": 0
      },
      "text/plain": [
       "Training:   0%|          | 0/25 [00:00<?, ?it/s]"
      ]
     },
     "metadata": {},
     "output_type": "display_data"
    },
    {
     "data": {
      "application/vnd.jupyter.widget-view+json": {
       "model_id": "a6daf1242f544d3d91ac2ce262ff3b87",
       "version_major": 2,
       "version_minor": 0
      },
      "text/plain": [
       "Validation:   0%|          | 0/5 [00:00<?, ?it/s]"
      ]
     },
     "metadata": {},
     "output_type": "display_data"
    },
    {
     "name": "stdout",
     "output_type": "stream",
     "text": [
      "Train | Loss: 0.7236, Recall: 0.4807, Precision: 0.1919, F1: 0.2743\n",
      "Val   | Loss: 0.8000, Recall: 0.2546, Precision: 0.3463, F1: 0.2934\n",
      "-----------------------------\n",
      "Epoch 30\n"
     ]
    },
    {
     "data": {
      "application/vnd.jupyter.widget-view+json": {
       "model_id": "c3c9731f5d6a40cabba558c8de463dd0",
       "version_major": 2,
       "version_minor": 0
      },
      "text/plain": [
       "Training:   0%|          | 0/25 [00:00<?, ?it/s]"
      ]
     },
     "metadata": {},
     "output_type": "display_data"
    },
    {
     "data": {
      "application/vnd.jupyter.widget-view+json": {
       "model_id": "4e3202dd0cb64057bcbc5cd9743b37b4",
       "version_major": 2,
       "version_minor": 0
      },
      "text/plain": [
       "Validation:   0%|          | 0/5 [00:00<?, ?it/s]"
      ]
     },
     "metadata": {},
     "output_type": "display_data"
    },
    {
     "name": "stdout",
     "output_type": "stream",
     "text": [
      "Train | Loss: 0.7400, Recall: 0.4259, Precision: 0.2134, F1: 0.2844\n",
      "Val   | Loss: 0.6827, Recall: 0.3606, Precision: 0.3778, F1: 0.3690\n",
      "-----------------------------\n",
      "Epoch 31\n"
     ]
    },
    {
     "data": {
      "application/vnd.jupyter.widget-view+json": {
       "model_id": "a2d9b504c9d64d93a009be8ac3d7d126",
       "version_major": 2,
       "version_minor": 0
      },
      "text/plain": [
       "Training:   0%|          | 0/25 [00:00<?, ?it/s]"
      ]
     },
     "metadata": {},
     "output_type": "display_data"
    },
    {
     "data": {
      "application/vnd.jupyter.widget-view+json": {
       "model_id": "6c76ada5ba3c497cab4624e4e9427b7b",
       "version_major": 2,
       "version_minor": 0
      },
      "text/plain": [
       "Validation:   0%|          | 0/5 [00:00<?, ?it/s]"
      ]
     },
     "metadata": {},
     "output_type": "display_data"
    },
    {
     "name": "stdout",
     "output_type": "stream",
     "text": [
      "Train | Loss: 0.7500, Recall: 0.4213, Precision: 0.1976, F1: 0.2690\n",
      "Val   | Loss: 0.7439, Recall: 0.8075, Precision: 0.1476, F1: 0.2496\n",
      "-----------------------------\n",
      "Epoch 32\n"
     ]
    },
    {
     "data": {
      "application/vnd.jupyter.widget-view+json": {
       "model_id": "27094324a59040418f22e3d4ec0594dc",
       "version_major": 2,
       "version_minor": 0
      },
      "text/plain": [
       "Training:   0%|          | 0/25 [00:00<?, ?it/s]"
      ]
     },
     "metadata": {},
     "output_type": "display_data"
    },
    {
     "data": {
      "application/vnd.jupyter.widget-view+json": {
       "model_id": "de71ff9596554909aaca29e30e5f9162",
       "version_major": 2,
       "version_minor": 0
      },
      "text/plain": [
       "Validation:   0%|          | 0/5 [00:00<?, ?it/s]"
      ]
     },
     "metadata": {},
     "output_type": "display_data"
    },
    {
     "name": "stdout",
     "output_type": "stream",
     "text": [
      "Train | Loss: 0.7330, Recall: 0.4521, Precision: 0.2191, F1: 0.2952\n",
      "Val   | Loss: 0.6660, Recall: 0.5323, Precision: 0.2582, F1: 0.3477\n",
      "-----------------------------\n",
      "Epoch 33\n"
     ]
    },
    {
     "data": {
      "application/vnd.jupyter.widget-view+json": {
       "model_id": "e2a5b2e620ae4de9942e2fed2588b28f",
       "version_major": 2,
       "version_minor": 0
      },
      "text/plain": [
       "Training:   0%|          | 0/25 [00:00<?, ?it/s]"
      ]
     },
     "metadata": {},
     "output_type": "display_data"
    },
    {
     "data": {
      "application/vnd.jupyter.widget-view+json": {
       "model_id": "a5a9d050e4c340479999b343ca3aeeec",
       "version_major": 2,
       "version_minor": 0
      },
      "text/plain": [
       "Validation:   0%|          | 0/5 [00:00<?, ?it/s]"
      ]
     },
     "metadata": {},
     "output_type": "display_data"
    },
    {
     "name": "stdout",
     "output_type": "stream",
     "text": [
      "Train | Loss: 0.7029, Recall: 0.4474, Precision: 0.2558, F1: 0.3255\n",
      "Val   | Loss: 0.7247, Recall: 0.7803, Precision: 0.1689, F1: 0.2778\n",
      "-----------------------------\n",
      "Epoch 34\n"
     ]
    },
    {
     "data": {
      "application/vnd.jupyter.widget-view+json": {
       "model_id": "8fe85fee43ea4426a7f66abfea5d7037",
       "version_major": 2,
       "version_minor": 0
      },
      "text/plain": [
       "Training:   0%|          | 0/25 [00:00<?, ?it/s]"
      ]
     },
     "metadata": {},
     "output_type": "display_data"
    },
    {
     "data": {
      "application/vnd.jupyter.widget-view+json": {
       "model_id": "ac016286fa69401b968055c7132f1650",
       "version_major": 2,
       "version_minor": 0
      },
      "text/plain": [
       "Validation:   0%|          | 0/5 [00:00<?, ?it/s]"
      ]
     },
     "metadata": {},
     "output_type": "display_data"
    },
    {
     "name": "stdout",
     "output_type": "stream",
     "text": [
      "Train | Loss: 0.7029, Recall: 0.4576, Precision: 0.2654, F1: 0.3360\n",
      "Val   | Loss: 0.6636, Recall: 0.3760, Precision: 0.4617, F1: 0.4145\n",
      "-----------------------------\n",
      "Epoch 35\n"
     ]
    },
    {
     "data": {
      "application/vnd.jupyter.widget-view+json": {
       "model_id": "16c9ad39a80447ae9001309a3f3c97ec",
       "version_major": 2,
       "version_minor": 0
      },
      "text/plain": [
       "Training:   0%|          | 0/25 [00:00<?, ?it/s]"
      ]
     },
     "metadata": {},
     "output_type": "display_data"
    },
    {
     "data": {
      "application/vnd.jupyter.widget-view+json": {
       "model_id": "811a73fccbf84422a94191fcb2da03af",
       "version_major": 2,
       "version_minor": 0
      },
      "text/plain": [
       "Validation:   0%|          | 0/5 [00:00<?, ?it/s]"
      ]
     },
     "metadata": {},
     "output_type": "display_data"
    },
    {
     "name": "stdout",
     "output_type": "stream",
     "text": [
      "Train | Loss: 0.6729, Recall: 0.4492, Precision: 0.3038, F1: 0.3624\n",
      "Val   | Loss: 0.5893, Recall: 0.4549, Precision: 0.4981, F1: 0.4755\n",
      "-----------------------------\n",
      "Epoch 36\n"
     ]
    },
    {
     "data": {
      "application/vnd.jupyter.widget-view+json": {
       "model_id": "c458b66ef8f545dcaf6a804171dc87f3",
       "version_major": 2,
       "version_minor": 0
      },
      "text/plain": [
       "Training:   0%|          | 0/25 [00:00<?, ?it/s]"
      ]
     },
     "metadata": {},
     "output_type": "display_data"
    },
    {
     "data": {
      "application/vnd.jupyter.widget-view+json": {
       "model_id": "5a52403c7629497b95e0a8acb74e611b",
       "version_major": 2,
       "version_minor": 0
      },
      "text/plain": [
       "Validation:   0%|          | 0/5 [00:00<?, ?it/s]"
      ]
     },
     "metadata": {},
     "output_type": "display_data"
    },
    {
     "name": "stdout",
     "output_type": "stream",
     "text": [
      "Train | Loss: 0.6780, Recall: 0.4795, Precision: 0.2797, F1: 0.3533\n",
      "Val   | Loss: 0.6152, Recall: 0.4205, Precision: 0.5239, F1: 0.4666\n",
      "-----------------------------\n",
      "Epoch 37\n"
     ]
    },
    {
     "data": {
      "application/vnd.jupyter.widget-view+json": {
       "model_id": "96ccb19d48824eb1bf0756679ac2e494",
       "version_major": 2,
       "version_minor": 0
      },
      "text/plain": [
       "Training:   0%|          | 0/25 [00:00<?, ?it/s]"
      ]
     },
     "metadata": {},
     "output_type": "display_data"
    },
    {
     "data": {
      "application/vnd.jupyter.widget-view+json": {
       "model_id": "d4c79847e5dc4b41959b5630369cf811",
       "version_major": 2,
       "version_minor": 0
      },
      "text/plain": [
       "Validation:   0%|          | 0/5 [00:00<?, ?it/s]"
      ]
     },
     "metadata": {},
     "output_type": "display_data"
    },
    {
     "name": "stdout",
     "output_type": "stream",
     "text": [
      "Train | Loss: 0.6527, Recall: 0.4889, Precision: 0.3020, F1: 0.3734\n",
      "Val   | Loss: 0.5549, Recall: 0.4988, Precision: 0.4580, F1: 0.4775\n",
      "-----------------------------\n",
      "Epoch 38\n"
     ]
    },
    {
     "data": {
      "application/vnd.jupyter.widget-view+json": {
       "model_id": "61dca83dc9bd4400a7bf23ca3e83da15",
       "version_major": 2,
       "version_minor": 0
      },
      "text/plain": [
       "Training:   0%|          | 0/25 [00:00<?, ?it/s]"
      ]
     },
     "metadata": {},
     "output_type": "display_data"
    },
    {
     "data": {
      "application/vnd.jupyter.widget-view+json": {
       "model_id": "4b0756653e8f4bcda24b4ccb9827010c",
       "version_major": 2,
       "version_minor": 0
      },
      "text/plain": [
       "Validation:   0%|          | 0/5 [00:00<?, ?it/s]"
      ]
     },
     "metadata": {},
     "output_type": "display_data"
    },
    {
     "name": "stdout",
     "output_type": "stream",
     "text": [
      "Train | Loss: 0.6781, Recall: 0.4907, Precision: 0.2755, F1: 0.3529\n",
      "Val   | Loss: 0.6521, Recall: 0.3636, Precision: 0.5532, F1: 0.4388\n",
      "-----------------------------\n",
      "Epoch 39\n"
     ]
    },
    {
     "data": {
      "application/vnd.jupyter.widget-view+json": {
       "model_id": "d9196e2260da4b368ffbcfd1adf2b94e",
       "version_major": 2,
       "version_minor": 0
      },
      "text/plain": [
       "Training:   0%|          | 0/25 [00:00<?, ?it/s]"
      ]
     },
     "metadata": {},
     "output_type": "display_data"
    },
    {
     "data": {
      "application/vnd.jupyter.widget-view+json": {
       "model_id": "2b67dd91de394d409fea49dc56bdb488",
       "version_major": 2,
       "version_minor": 0
      },
      "text/plain": [
       "Validation:   0%|          | 0/5 [00:00<?, ?it/s]"
      ]
     },
     "metadata": {},
     "output_type": "display_data"
    },
    {
     "name": "stdout",
     "output_type": "stream",
     "text": [
      "Train | Loss: 0.7002, Recall: 0.4720, Precision: 0.2578, F1: 0.3335\n",
      "Val   | Loss: 0.8597, Recall: 0.8804, Precision: 0.0913, F1: 0.1655\n",
      "-----------------------------\n",
      "Epoch 40\n"
     ]
    },
    {
     "data": {
      "application/vnd.jupyter.widget-view+json": {
       "model_id": "aacaa87419c34deeb890e75172410995",
       "version_major": 2,
       "version_minor": 0
      },
      "text/plain": [
       "Training:   0%|          | 0/25 [00:00<?, ?it/s]"
      ]
     },
     "metadata": {},
     "output_type": "display_data"
    },
    {
     "data": {
      "application/vnd.jupyter.widget-view+json": {
       "model_id": "fd39898f5a84475abc3e0361d2977e2a",
       "version_major": 2,
       "version_minor": 0
      },
      "text/plain": [
       "Validation:   0%|          | 0/5 [00:00<?, ?it/s]"
      ]
     },
     "metadata": {},
     "output_type": "display_data"
    },
    {
     "name": "stdout",
     "output_type": "stream",
     "text": [
      "Train | Loss: 0.6941, Recall: 0.4629, Precision: 0.2615, F1: 0.3342\n",
      "Val   | Loss: 0.5760, Recall: 0.7352, Precision: 0.2733, F1: 0.3984\n",
      "-----------------------------\n",
      "Epoch 41\n"
     ]
    },
    {
     "data": {
      "application/vnd.jupyter.widget-view+json": {
       "model_id": "c1bf477dde7941739e8f4e6fd66fdd33",
       "version_major": 2,
       "version_minor": 0
      },
      "text/plain": [
       "Training:   0%|          | 0/25 [00:00<?, ?it/s]"
      ]
     },
     "metadata": {},
     "output_type": "display_data"
    },
    {
     "data": {
      "application/vnd.jupyter.widget-view+json": {
       "model_id": "afa77a118798444395e94be4ba16880e",
       "version_major": 2,
       "version_minor": 0
      },
      "text/plain": [
       "Validation:   0%|          | 0/5 [00:00<?, ?it/s]"
      ]
     },
     "metadata": {},
     "output_type": "display_data"
    },
    {
     "name": "stdout",
     "output_type": "stream",
     "text": [
      "Train | Loss: 0.6502, Recall: 0.4456, Precision: 0.3422, F1: 0.3871\n",
      "Val   | Loss: 0.5402, Recall: 0.5666, Precision: 0.4461, F1: 0.4992\n",
      "-----------------------------\n",
      "Epoch 42\n"
     ]
    },
    {
     "data": {
      "application/vnd.jupyter.widget-view+json": {
       "model_id": "830d6c6b57834bdeb2d38559de521048",
       "version_major": 2,
       "version_minor": 0
      },
      "text/plain": [
       "Training:   0%|          | 0/25 [00:00<?, ?it/s]"
      ]
     },
     "metadata": {},
     "output_type": "display_data"
    },
    {
     "data": {
      "application/vnd.jupyter.widget-view+json": {
       "model_id": "00e661b696da4b549198b96719c47013",
       "version_major": 2,
       "version_minor": 0
      },
      "text/plain": [
       "Validation:   0%|          | 0/5 [00:00<?, ?it/s]"
      ]
     },
     "metadata": {},
     "output_type": "display_data"
    },
    {
     "name": "stdout",
     "output_type": "stream",
     "text": [
      "Train | Loss: 0.6558, Recall: 0.4913, Precision: 0.2986, F1: 0.3715\n",
      "Val   | Loss: 0.6197, Recall: 0.7799, Precision: 0.2634, F1: 0.3937\n",
      "-----------------------------\n",
      "Epoch 43\n"
     ]
    },
    {
     "data": {
      "application/vnd.jupyter.widget-view+json": {
       "model_id": "c151ec8c0e6449fd8aa2e591e4fcfa58",
       "version_major": 2,
       "version_minor": 0
      },
      "text/plain": [
       "Training:   0%|          | 0/25 [00:00<?, ?it/s]"
      ]
     },
     "metadata": {},
     "output_type": "display_data"
    },
    {
     "data": {
      "application/vnd.jupyter.widget-view+json": {
       "model_id": "fb5161514baf47459fe430e160db4d20",
       "version_major": 2,
       "version_minor": 0
      },
      "text/plain": [
       "Validation:   0%|          | 0/5 [00:00<?, ?it/s]"
      ]
     },
     "metadata": {},
     "output_type": "display_data"
    },
    {
     "name": "stdout",
     "output_type": "stream",
     "text": [
      "Train | Loss: 0.6836, Recall: 0.3871, Precision: 0.3393, F1: 0.3616\n",
      "Val   | Loss: 0.8723, Recall: 0.4294, Precision: 0.1111, F1: 0.1766\n",
      "-----------------------------\n",
      "Epoch 44\n"
     ]
    },
    {
     "data": {
      "application/vnd.jupyter.widget-view+json": {
       "model_id": "ea3bcc2221254397a8fa033d7b657016",
       "version_major": 2,
       "version_minor": 0
      },
      "text/plain": [
       "Training:   0%|          | 0/25 [00:00<?, ?it/s]"
      ]
     },
     "metadata": {},
     "output_type": "display_data"
    },
    {
     "data": {
      "application/vnd.jupyter.widget-view+json": {
       "model_id": "fee9d31fbc7044848ac0b120581b728f",
       "version_major": 2,
       "version_minor": 0
      },
      "text/plain": [
       "Validation:   0%|          | 0/5 [00:00<?, ?it/s]"
      ]
     },
     "metadata": {},
     "output_type": "display_data"
    },
    {
     "name": "stdout",
     "output_type": "stream",
     "text": [
      "Train | Loss: 0.8500, Recall: 0.2858, Precision: 0.1307, F1: 0.1794\n",
      "Val   | Loss: 0.7398, Recall: 0.6587, Precision: 0.1559, F1: 0.2521\n",
      "-----------------------------\n",
      "Epoch 45\n"
     ]
    },
    {
     "data": {
      "application/vnd.jupyter.widget-view+json": {
       "model_id": "6d4f0d2ea36848f19640d16730043a34",
       "version_major": 2,
       "version_minor": 0
      },
      "text/plain": [
       "Training:   0%|          | 0/25 [00:00<?, ?it/s]"
      ]
     },
     "metadata": {},
     "output_type": "display_data"
    },
    {
     "data": {
      "application/vnd.jupyter.widget-view+json": {
       "model_id": "94c78ce9a4b244809be2a0f1aa79363c",
       "version_major": 2,
       "version_minor": 0
      },
      "text/plain": [
       "Validation:   0%|          | 0/5 [00:00<?, ?it/s]"
      ]
     },
     "metadata": {},
     "output_type": "display_data"
    },
    {
     "name": "stdout",
     "output_type": "stream",
     "text": [
      "Train | Loss: 0.7666, Recall: 0.3475, Precision: 0.2222, F1: 0.2710\n",
      "Val   | Loss: 0.7804, Recall: 0.2709, Precision: 0.4037, F1: 0.3242\n",
      "-----------------------------\n",
      "Epoch 46\n"
     ]
    },
    {
     "data": {
      "application/vnd.jupyter.widget-view+json": {
       "model_id": "0f6cb31e00d549969df254aabe081178",
       "version_major": 2,
       "version_minor": 0
      },
      "text/plain": [
       "Training:   0%|          | 0/25 [00:00<?, ?it/s]"
      ]
     },
     "metadata": {},
     "output_type": "display_data"
    },
    {
     "data": {
      "application/vnd.jupyter.widget-view+json": {
       "model_id": "270b5e115b344a2da8c672903ec874f3",
       "version_major": 2,
       "version_minor": 0
      },
      "text/plain": [
       "Validation:   0%|          | 0/5 [00:00<?, ?it/s]"
      ]
     },
     "metadata": {},
     "output_type": "display_data"
    },
    {
     "name": "stdout",
     "output_type": "stream",
     "text": [
      "Train | Loss: 0.7304, Recall: 0.3965, Precision: 0.2217, F1: 0.2844\n",
      "Val   | Loss: 0.9543, Recall: 0.9807, Precision: 0.0235, F1: 0.0460\n",
      "-----------------------------\n",
      "Epoch 47\n"
     ]
    },
    {
     "data": {
      "application/vnd.jupyter.widget-view+json": {
       "model_id": "adb476901fc94713a02fdeff5635ad48",
       "version_major": 2,
       "version_minor": 0
      },
      "text/plain": [
       "Training:   0%|          | 0/25 [00:00<?, ?it/s]"
      ]
     },
     "metadata": {},
     "output_type": "display_data"
    },
    {
     "data": {
      "application/vnd.jupyter.widget-view+json": {
       "model_id": "d09947bbbbcf46738bf9304dfdbc1de8",
       "version_major": 2,
       "version_minor": 0
      },
      "text/plain": [
       "Validation:   0%|          | 0/5 [00:00<?, ?it/s]"
      ]
     },
     "metadata": {},
     "output_type": "display_data"
    },
    {
     "name": "stdout",
     "output_type": "stream",
     "text": [
      "Train | Loss: 0.7208, Recall: 0.3888, Precision: 0.3055, F1: 0.3421\n",
      "Val   | Loss: 0.8074, Recall: 0.2568, Precision: 0.4196, F1: 0.3186\n",
      "-----------------------------\n",
      "Epoch 48\n"
     ]
    },
    {
     "data": {
      "application/vnd.jupyter.widget-view+json": {
       "model_id": "8ee588908ee948a2ad72b6f1e261317d",
       "version_major": 2,
       "version_minor": 0
      },
      "text/plain": [
       "Training:   0%|          | 0/25 [00:00<?, ?it/s]"
      ]
     },
     "metadata": {},
     "output_type": "display_data"
    },
    {
     "data": {
      "application/vnd.jupyter.widget-view+json": {
       "model_id": "ff9d45d9080643ef8e5f759d59148fc0",
       "version_major": 2,
       "version_minor": 0
      },
      "text/plain": [
       "Validation:   0%|          | 0/5 [00:00<?, ?it/s]"
      ]
     },
     "metadata": {},
     "output_type": "display_data"
    },
    {
     "name": "stdout",
     "output_type": "stream",
     "text": [
      "Train | Loss: 0.7004, Recall: 0.4529, Precision: 0.2989, F1: 0.3601\n",
      "Val   | Loss: 0.7521, Recall: 0.2264, Precision: 0.5406, F1: 0.3192\n",
      "-----------------------------\n",
      "Epoch 49\n"
     ]
    },
    {
     "data": {
      "application/vnd.jupyter.widget-view+json": {
       "model_id": "6ddcd88c897246e490cd7352d1f89b48",
       "version_major": 2,
       "version_minor": 0
      },
      "text/plain": [
       "Training:   0%|          | 0/25 [00:00<?, ?it/s]"
      ]
     },
     "metadata": {},
     "output_type": "display_data"
    },
    {
     "data": {
      "application/vnd.jupyter.widget-view+json": {
       "model_id": "35c4e9ee3c794795b429563aa6752045",
       "version_major": 2,
       "version_minor": 0
      },
      "text/plain": [
       "Validation:   0%|          | 0/5 [00:00<?, ?it/s]"
      ]
     },
     "metadata": {},
     "output_type": "display_data"
    },
    {
     "name": "stdout",
     "output_type": "stream",
     "text": [
      "Train | Loss: 0.6727, Recall: 0.4180, Precision: 0.3408, F1: 0.3754\n",
      "Val   | Loss: 0.6232, Recall: 0.6802, Precision: 0.3138, F1: 0.4295\n",
      "-----------------------------\n",
      "Epoch 50\n"
     ]
    },
    {
     "data": {
      "application/vnd.jupyter.widget-view+json": {
       "model_id": "a889e70066fd4dfc8647a9832862eb6e",
       "version_major": 2,
       "version_minor": 0
      },
      "text/plain": [
       "Training:   0%|          | 0/25 [00:00<?, ?it/s]"
      ]
     },
     "metadata": {},
     "output_type": "display_data"
    },
    {
     "data": {
      "application/vnd.jupyter.widget-view+json": {
       "model_id": "c37677aa2b384d83a3d5b8ca5e409be1",
       "version_major": 2,
       "version_minor": 0
      },
      "text/plain": [
       "Validation:   0%|          | 0/5 [00:00<?, ?it/s]"
      ]
     },
     "metadata": {},
     "output_type": "display_data"
    },
    {
     "name": "stdout",
     "output_type": "stream",
     "text": [
      "Train | Loss: 0.6726, Recall: 0.4500, Precision: 0.3529, F1: 0.3956\n",
      "Val   | Loss: 0.5436, Recall: 0.4510, Precision: 0.5816, F1: 0.5080\n",
      "-----------------------------\n",
      "Training Complete!\n",
      "Saved PyTorch Model to  /home/tommytang111/gap-junction-segmentation/models/sweep_model_tteeqd9t.pt\n"
     ]
    },
    {
     "data": {
      "text/html": [],
      "text/plain": [
       "<IPython.core.display.HTML object>"
      ]
     },
     "metadata": {},
     "output_type": "display_data"
    },
    {
     "data": {
      "text/html": [
       "<br>    <style><br>        .wandb-row {<br>            display: flex;<br>            flex-direction: row;<br>            flex-wrap: wrap;<br>            justify-content: flex-start;<br>            width: 100%;<br>        }<br>        .wandb-col {<br>            display: flex;<br>            flex-direction: column;<br>            flex-basis: 100%;<br>            flex: 1;<br>            padding: 10px;<br>        }<br>    </style><br><div class=\"wandb-row\"><div class=\"wandb-col\"><h3>Run history:</h3><br/><table class=\"wandb\"><tr><td>best_epoch</td><td>▁▁▁▁▁▂▂▂▂▂▃▃▃▃▃▄▄▄▄▄▅▅▅▅▅▅▆▆▆▆▆▆▇▇▇▇▇▇▇█</td></tr><tr><td>best_val_f1</td><td>▁▄▄▄▄▄▄▄▄▄▅▅▅▅▅▅▅▅▅▅▅▅▅▆▆▆▆▇▇▇▇▇████████</td></tr><tr><td>best_val_loss</td><td>█▅▅▅▅▅▅▅▄▄▄▄▄▄▄▃▃▃▃▃▃▃▃▃▃▃▃▃▂▂▁▁▁▁▁▁▁▁▁▁</td></tr><tr><td>epoch</td><td>▁▁▁▁▂▂▂▂▂▂▃▃▃▃▃▄▄▄▄▄▅▅▅▅▅▅▆▆▆▆▆▇▇▇▇▇▇███</td></tr><tr><td>lr</td><td>█████████████████████████▁▁▁▁▁▁▁▁▁▁▁▁▁▁▁</td></tr><tr><td>train_f1</td><td>▁▂▃▂▃▃▄▃▄▄▄▄▄▄▃▄▄▄▄▄▅▄▆▅▅▆▇▇▇▇▇▇█▇▇▅▅▇▇█</td></tr><tr><td>train_loss</td><td>█▇▇▇▇▇▆▆▆▆▅▅▅▅▅▅▄▅▅▄▅▄▄▄▃▄▃▃▃▂▁▂▃▂▁▂▇▄▃▂</td></tr><tr><td>train_precision</td><td>▁▂▂▂▃▂▃▃▃▃▄▃▃▄▃▃▃▄▃▄▄▄▃▅▄▄▅▆▆▇▇▆▆█▇▃▅▅▇█</td></tr><tr><td>train_recall</td><td>▄▁▂▇▅▅▃▅▅▄▅▇▆▆▄▇▆▇▇▆▇▇▆█▆▇▇▇▇██▇▇▇▅▄▅▅▇▇</td></tr><tr><td>val_f1</td><td>▂▄▄▂▃▃▄▄▃▅▅▁▄▄▅▅▂▅▅▄▂▆▄▅▆▆▅▇█▇▇▃▆█▆▅▁▅▅█</td></tr><tr><td>val_loss</td><td>█▅▄█▆▆▄▅▆▄█▅▆▄▄▇▃▄▅▃▄▅▅▃▄▄▃▂▂▁▆▂▁▂▇▅█▆▅▁</td></tr><tr><td>val_precision</td><td>▂▃▃▁▂▂▃▃▄▅▄▄▄▃▃▄▄▃▄▁▃▇▅▅▃▃▆▇▇▆▂▄▆▄▂▆▁▆▇█</td></tr><tr><td>val_recall</td><td>▄▄▇▇▁▄▃▆▃▂▁▃▃▃▅▇▄▃▅█▆▂▃▃▇▇▄▄▄▄▇▆▅▇▄▃█▃▃▄</td></tr></table><br/></div><div class=\"wandb-col\"><h3>Run summary:</h3><br/><table class=\"wandb\"><tr><td>best_epoch</td><td>49</td></tr><tr><td>best_val_f1</td><td>0.50804</td></tr><tr><td>best_val_loss</td><td>0.54015</td></tr><tr><td>epoch</td><td>50</td></tr><tr><td>lr</td><td>0.005</td></tr><tr><td>train_f1</td><td>0.39559</td></tr><tr><td>train_loss</td><td>0.67259</td></tr><tr><td>train_precision</td><td>0.3529</td></tr><tr><td>train_recall</td><td>0.45004</td></tr><tr><td>val_f1</td><td>0.50804</td></tr><tr><td>val_loss</td><td>0.54358</td></tr><tr><td>val_precision</td><td>0.58164</td></tr><tr><td>val_recall</td><td>0.45098</td></tr></table><br/></div></div>"
      ],
      "text/plain": [
       "<IPython.core.display.HTML object>"
      ]
     },
     "metadata": {},
     "output_type": "display_data"
    },
    {
     "data": {
      "text/html": [
       " View run <strong style=\"color:#cdcd00\">lunar-sweep-7</strong> at: <a href='https://wandb.ai/zhen_lab/gap-junction-segmentation/runs/tteeqd9t' target=\"_blank\">https://wandb.ai/zhen_lab/gap-junction-segmentation/runs/tteeqd9t</a><br> View project at: <a href='https://wandb.ai/zhen_lab/gap-junction-segmentation' target=\"_blank\">https://wandb.ai/zhen_lab/gap-junction-segmentation</a><br>Synced 5 W&B file(s), 0 media file(s), 0 artifact file(s) and 0 other file(s)"
      ],
      "text/plain": [
       "<IPython.core.display.HTML object>"
      ]
     },
     "metadata": {},
     "output_type": "display_data"
    },
    {
     "data": {
      "text/html": [
       "Find logs at: <code>/home/tommytang111/gap-junction-segmentation/wandb/wandb/run-20250606_153722-tteeqd9t/logs</code>"
      ],
      "text/plain": [
       "<IPython.core.display.HTML object>"
      ]
     },
     "metadata": {},
     "output_type": "display_data"
    },
    {
     "name": "stderr",
     "output_type": "stream",
     "text": [
      "\u001b[34m\u001b[1mwandb\u001b[0m: Agent Starting Run: 72cm8l7n with config:\n",
      "\u001b[34m\u001b[1mwandb\u001b[0m: \taugmentation: custom2\n",
      "\u001b[34m\u001b[1mwandb\u001b[0m: \tbatch_size: 8\n",
      "\u001b[34m\u001b[1mwandb\u001b[0m: \tdropout: 0\n",
      "\u001b[34m\u001b[1mwandb\u001b[0m: \tlearning_rate: 0.001\n",
      "\u001b[34m\u001b[1mwandb\u001b[0m: \tloss_function: GenDLoss\n",
      "\u001b[34m\u001b[1mwandb\u001b[0m: \toptimizer: AdamW\n",
      "\u001b[34m\u001b[1mwandb\u001b[0m: \u001b[33mWARNING\u001b[0m If you're specifying your api key in code, ensure this code is not shared publicly.\n",
      "\u001b[34m\u001b[1mwandb\u001b[0m: \u001b[33mWARNING\u001b[0m Consider setting the WANDB_API_KEY environment variable, or running `wandb login` from the command line.\n",
      "\u001b[34m\u001b[1mwandb\u001b[0m: Appending key for api.wandb.ai to your netrc file: /home/tommytang111/.netrc\n"
     ]
    },
    {
     "data": {
      "text/html": [
       "Ignoring project 'gap-junction-segmentation' when running a sweep."
      ],
      "text/plain": [
       "<IPython.core.display.HTML object>"
      ]
     },
     "metadata": {},
     "output_type": "display_data"
    },
    {
     "data": {
      "text/html": [
       "Ignoring entity 'zhen_lab' when running a sweep."
      ],
      "text/plain": [
       "<IPython.core.display.HTML object>"
      ]
     },
     "metadata": {},
     "output_type": "display_data"
    },
    {
     "data": {
      "text/html": [
       "Tracking run with wandb version 0.19.10"
      ],
      "text/plain": [
       "<IPython.core.display.HTML object>"
      ]
     },
     "metadata": {},
     "output_type": "display_data"
    },
    {
     "data": {
      "text/html": [
       "Run data is saved locally in <code>/home/tommytang111/gap-junction-segmentation/wandb/wandb/run-20250606_155102-72cm8l7n</code>"
      ],
      "text/plain": [
       "<IPython.core.display.HTML object>"
      ]
     },
     "metadata": {},
     "output_type": "display_data"
    },
    {
     "data": {
      "text/html": [
       "Syncing run <strong><a href='https://wandb.ai/zhen_lab/gap-junction-segmentation/runs/72cm8l7n' target=\"_blank\">floral-sweep-8</a></strong> to <a href='https://wandb.ai/zhen_lab/gap-junction-segmentation' target=\"_blank\">Weights & Biases</a> (<a href='https://wandb.me/developer-guide' target=\"_blank\">docs</a>)<br>Sweep page: <a href='https://wandb.ai/zhen_lab/gap-junction-segmentation/sweeps/dwqzhjxz' target=\"_blank\">https://wandb.ai/zhen_lab/gap-junction-segmentation/sweeps/dwqzhjxz</a>"
      ],
      "text/plain": [
       "<IPython.core.display.HTML object>"
      ]
     },
     "metadata": {},
     "output_type": "display_data"
    },
    {
     "data": {
      "text/html": [
       " View project at <a href='https://wandb.ai/zhen_lab/gap-junction-segmentation' target=\"_blank\">https://wandb.ai/zhen_lab/gap-junction-segmentation</a>"
      ],
      "text/plain": [
       "<IPython.core.display.HTML object>"
      ]
     },
     "metadata": {},
     "output_type": "display_data"
    },
    {
     "data": {
      "text/html": [
       " View sweep at <a href='https://wandb.ai/zhen_lab/gap-junction-segmentation/sweeps/dwqzhjxz' target=\"_blank\">https://wandb.ai/zhen_lab/gap-junction-segmentation/sweeps/dwqzhjxz</a>"
      ],
      "text/plain": [
       "<IPython.core.display.HTML object>"
      ]
     },
     "metadata": {},
     "output_type": "display_data"
    },
    {
     "data": {
      "text/html": [
       " View run at <a href='https://wandb.ai/zhen_lab/gap-junction-segmentation/runs/72cm8l7n' target=\"_blank\">https://wandb.ai/zhen_lab/gap-junction-segmentation/runs/72cm8l7n</a>"
      ],
      "text/plain": [
       "<IPython.core.display.HTML object>"
      ]
     },
     "metadata": {},
     "output_type": "display_data"
    },
    {
     "name": "stdout",
     "output_type": "stream",
     "text": [
      "Epoch 1\n"
     ]
    },
    {
     "data": {
      "application/vnd.jupyter.widget-view+json": {
       "model_id": "a70f2ac0ff1347329df37a27b37881b1",
       "version_major": 2,
       "version_minor": 0
      },
      "text/plain": [
       "Training:   0%|          | 0/25 [00:00<?, ?it/s]"
      ]
     },
     "metadata": {},
     "output_type": "display_data"
    },
    {
     "data": {
      "application/vnd.jupyter.widget-view+json": {
       "model_id": "4bd5a53c40a84ef3ae47dac3ee086513",
       "version_major": 2,
       "version_minor": 0
      },
      "text/plain": [
       "Validation:   0%|          | 0/5 [00:00<?, ?it/s]"
      ]
     },
     "metadata": {},
     "output_type": "display_data"
    },
    {
     "name": "stdout",
     "output_type": "stream",
     "text": [
      "Train | Loss: 0.9041, Recall: 0.5233, Precision: 0.0370, F1: 0.0692\n",
      "Val   | Loss: 0.8153, Recall: 0.2985, Precision: 0.1688, F1: 0.2156\n",
      "-----------------------------\n",
      "Epoch 2\n"
     ]
    },
    {
     "data": {
      "application/vnd.jupyter.widget-view+json": {
       "model_id": "3176c1f5935942ab8479d28f0d217ada",
       "version_major": 2,
       "version_minor": 0
      },
      "text/plain": [
       "Training:   0%|          | 0/25 [00:00<?, ?it/s]"
      ]
     },
     "metadata": {},
     "output_type": "display_data"
    },
    {
     "data": {
      "application/vnd.jupyter.widget-view+json": {
       "model_id": "2ba552dcd9ea47eda5ee035beb489fe2",
       "version_major": 2,
       "version_minor": 0
      },
      "text/plain": [
       "Validation:   0%|          | 0/5 [00:00<?, ?it/s]"
      ]
     },
     "metadata": {},
     "output_type": "display_data"
    },
    {
     "name": "stdout",
     "output_type": "stream",
     "text": [
      "Train | Loss: 0.8356, Recall: 0.4142, Precision: 0.1120, F1: 0.1763\n",
      "Val   | Loss: 0.9559, Recall: 0.9884, Precision: 0.0230, F1: 0.0449\n",
      "-----------------------------\n",
      "Epoch 3\n"
     ]
    },
    {
     "data": {
      "application/vnd.jupyter.widget-view+json": {
       "model_id": "98147133f6fc47e8ae97712f44d6eb58",
       "version_major": 2,
       "version_minor": 0
      },
      "text/plain": [
       "Training:   0%|          | 0/25 [00:00<?, ?it/s]"
      ]
     },
     "metadata": {},
     "output_type": "display_data"
    },
    {
     "data": {
      "application/vnd.jupyter.widget-view+json": {
       "model_id": "e958018b5fae42238daac1ae89327280",
       "version_major": 2,
       "version_minor": 0
      },
      "text/plain": [
       "Validation:   0%|          | 0/5 [00:00<?, ?it/s]"
      ]
     },
     "metadata": {},
     "output_type": "display_data"
    },
    {
     "name": "stdout",
     "output_type": "stream",
     "text": [
      "Train | Loss: 0.8250, Recall: 0.4087, Precision: 0.1119, F1: 0.1758\n",
      "Val   | Loss: 0.8124, Recall: 0.7161, Precision: 0.1308, F1: 0.2212\n",
      "-----------------------------\n",
      "Epoch 4\n"
     ]
    },
    {
     "data": {
      "application/vnd.jupyter.widget-view+json": {
       "model_id": "f96d0c69887641bb8a6980b482794186",
       "version_major": 2,
       "version_minor": 0
      },
      "text/plain": [
       "Training:   0%|          | 0/25 [00:00<?, ?it/s]"
      ]
     },
     "metadata": {},
     "output_type": "display_data"
    },
    {
     "data": {
      "application/vnd.jupyter.widget-view+json": {
       "model_id": "f456398a7d494bf695ffc145076dd29d",
       "version_major": 2,
       "version_minor": 0
      },
      "text/plain": [
       "Validation:   0%|          | 0/5 [00:00<?, ?it/s]"
      ]
     },
     "metadata": {},
     "output_type": "display_data"
    },
    {
     "name": "stdout",
     "output_type": "stream",
     "text": [
      "Train | Loss: 0.8347, Recall: 0.3393, Precision: 0.1235, F1: 0.1811\n",
      "Val   | Loss: 0.8955, Recall: 0.7233, Precision: 0.0666, F1: 0.1220\n",
      "-----------------------------\n",
      "Epoch 5\n"
     ]
    },
    {
     "data": {
      "application/vnd.jupyter.widget-view+json": {
       "model_id": "5db9ed8599604e1e9d4d7215bcf963f6",
       "version_major": 2,
       "version_minor": 0
      },
      "text/plain": [
       "Training:   0%|          | 0/25 [00:00<?, ?it/s]"
      ]
     },
     "metadata": {},
     "output_type": "display_data"
    },
    {
     "data": {
      "application/vnd.jupyter.widget-view+json": {
       "model_id": "7f44982bfad04441b12d7458a74426f4",
       "version_major": 2,
       "version_minor": 0
      },
      "text/plain": [
       "Validation:   0%|          | 0/5 [00:00<?, ?it/s]"
      ]
     },
     "metadata": {},
     "output_type": "display_data"
    },
    {
     "name": "stdout",
     "output_type": "stream",
     "text": [
      "Train | Loss: 0.8075, Recall: 0.4621, Precision: 0.1306, F1: 0.2036\n",
      "Val   | Loss: 0.7556, Recall: 0.4941, Precision: 0.2179, F1: 0.3024\n",
      "-----------------------------\n",
      "Epoch 6\n"
     ]
    },
    {
     "data": {
      "application/vnd.jupyter.widget-view+json": {
       "model_id": "f2f159b4727c4665bac318db3308e954",
       "version_major": 2,
       "version_minor": 0
      },
      "text/plain": [
       "Training:   0%|          | 0/25 [00:00<?, ?it/s]"
      ]
     },
     "metadata": {},
     "output_type": "display_data"
    },
    {
     "data": {
      "application/vnd.jupyter.widget-view+json": {
       "model_id": "10de5ae0da634e63bc0ade1d3bffb995",
       "version_major": 2,
       "version_minor": 0
      },
      "text/plain": [
       "Validation:   0%|          | 0/5 [00:00<?, ?it/s]"
      ]
     },
     "metadata": {},
     "output_type": "display_data"
    },
    {
     "name": "stdout",
     "output_type": "stream",
     "text": [
      "Train | Loss: 0.8091, Recall: 0.4186, Precision: 0.1421, F1: 0.2122\n",
      "Val   | Loss: 0.8983, Recall: 0.0935, Precision: 0.2330, F1: 0.1334\n",
      "-----------------------------\n",
      "Epoch 7\n"
     ]
    },
    {
     "data": {
      "application/vnd.jupyter.widget-view+json": {
       "model_id": "fca9be1bcb964eec878b1ea95a4a236e",
       "version_major": 2,
       "version_minor": 0
      },
      "text/plain": [
       "Training:   0%|          | 0/25 [00:00<?, ?it/s]"
      ]
     },
     "metadata": {},
     "output_type": "display_data"
    },
    {
     "data": {
      "application/vnd.jupyter.widget-view+json": {
       "model_id": "895cff6e645c4cdb99b2ecede83166fe",
       "version_major": 2,
       "version_minor": 0
      },
      "text/plain": [
       "Validation:   0%|          | 0/5 [00:00<?, ?it/s]"
      ]
     },
     "metadata": {},
     "output_type": "display_data"
    },
    {
     "name": "stdout",
     "output_type": "stream",
     "text": [
      "Train | Loss: 0.7847, Recall: 0.4779, Precision: 0.1390, F1: 0.2154\n",
      "Val   | Loss: 0.7498, Recall: 0.6586, Precision: 0.1821, F1: 0.2854\n",
      "-----------------------------\n",
      "Epoch 8\n"
     ]
    },
    {
     "data": {
      "application/vnd.jupyter.widget-view+json": {
       "model_id": "cad67f3082244155b213a46ca57b533e",
       "version_major": 2,
       "version_minor": 0
      },
      "text/plain": [
       "Training:   0%|          | 0/25 [00:00<?, ?it/s]"
      ]
     },
     "metadata": {},
     "output_type": "display_data"
    },
    {
     "data": {
      "application/vnd.jupyter.widget-view+json": {
       "model_id": "ad14fbc8d86b40c1807de7f430f46ce0",
       "version_major": 2,
       "version_minor": 0
      },
      "text/plain": [
       "Validation:   0%|          | 0/5 [00:00<?, ?it/s]"
      ]
     },
     "metadata": {},
     "output_type": "display_data"
    },
    {
     "name": "stdout",
     "output_type": "stream",
     "text": [
      "Train | Loss: 0.8022, Recall: 0.4197, Precision: 0.1515, F1: 0.2226\n",
      "Val   | Loss: 0.8240, Recall: 0.1987, Precision: 0.3404, F1: 0.2509\n",
      "-----------------------------\n",
      "Epoch 9\n"
     ]
    },
    {
     "data": {
      "application/vnd.jupyter.widget-view+json": {
       "model_id": "a04961e87e0149b384fdb217837b8709",
       "version_major": 2,
       "version_minor": 0
      },
      "text/plain": [
       "Training:   0%|          | 0/25 [00:00<?, ?it/s]"
      ]
     },
     "metadata": {},
     "output_type": "display_data"
    },
    {
     "data": {
      "application/vnd.jupyter.widget-view+json": {
       "model_id": "a9f417d096fb4adcba6eb269d7c56af9",
       "version_major": 2,
       "version_minor": 0
      },
      "text/plain": [
       "Validation:   0%|          | 0/5 [00:00<?, ?it/s]"
      ]
     },
     "metadata": {},
     "output_type": "display_data"
    },
    {
     "name": "stdout",
     "output_type": "stream",
     "text": [
      "Train | Loss: 0.7711, Recall: 0.4724, Precision: 0.1734, F1: 0.2537\n",
      "Val   | Loss: 0.6668, Recall: 0.6062, Precision: 0.2361, F1: 0.3398\n",
      "-----------------------------\n",
      "Epoch 10\n"
     ]
    },
    {
     "data": {
      "application/vnd.jupyter.widget-view+json": {
       "model_id": "22314089046c44a289211c40bdf25f31",
       "version_major": 2,
       "version_minor": 0
      },
      "text/plain": [
       "Training:   0%|          | 0/25 [00:00<?, ?it/s]"
      ]
     },
     "metadata": {},
     "output_type": "display_data"
    },
    {
     "data": {
      "application/vnd.jupyter.widget-view+json": {
       "model_id": "2ff89121c6c2490293dd371c6c0c2106",
       "version_major": 2,
       "version_minor": 0
      },
      "text/plain": [
       "Validation:   0%|          | 0/5 [00:00<?, ?it/s]"
      ]
     },
     "metadata": {},
     "output_type": "display_data"
    },
    {
     "name": "stdout",
     "output_type": "stream",
     "text": [
      "Train | Loss: 0.7662, Recall: 0.4765, Precision: 0.1625, F1: 0.2423\n",
      "Val   | Loss: 0.6665, Recall: 0.5334, Precision: 0.2822, F1: 0.3691\n",
      "-----------------------------\n",
      "Epoch 11\n"
     ]
    },
    {
     "data": {
      "application/vnd.jupyter.widget-view+json": {
       "model_id": "3d949e1363424c71bb3ff8428f96ca60",
       "version_major": 2,
       "version_minor": 0
      },
      "text/plain": [
       "Training:   0%|          | 0/25 [00:00<?, ?it/s]"
      ]
     },
     "metadata": {},
     "output_type": "display_data"
    },
    {
     "data": {
      "application/vnd.jupyter.widget-view+json": {
       "model_id": "af127f90e14642b488e0f557ee772466",
       "version_major": 2,
       "version_minor": 0
      },
      "text/plain": [
       "Validation:   0%|          | 0/5 [00:00<?, ?it/s]"
      ]
     },
     "metadata": {},
     "output_type": "display_data"
    },
    {
     "name": "stdout",
     "output_type": "stream",
     "text": [
      "Train | Loss: 0.7740, Recall: 0.4854, Precision: 0.1537, F1: 0.2335\n",
      "Val   | Loss: 0.6845, Recall: 0.3807, Precision: 0.3187, F1: 0.3470\n",
      "-----------------------------\n",
      "Epoch 12\n"
     ]
    },
    {
     "data": {
      "application/vnd.jupyter.widget-view+json": {
       "model_id": "3f230a2d99f54e9dadf80e8b9948fe15",
       "version_major": 2,
       "version_minor": 0
      },
      "text/plain": [
       "Training:   0%|          | 0/25 [00:00<?, ?it/s]"
      ]
     },
     "metadata": {},
     "output_type": "display_data"
    },
    {
     "data": {
      "application/vnd.jupyter.widget-view+json": {
       "model_id": "b324c8778902455080afec35f9455a41",
       "version_major": 2,
       "version_minor": 0
      },
      "text/plain": [
       "Validation:   0%|          | 0/5 [00:00<?, ?it/s]"
      ]
     },
     "metadata": {},
     "output_type": "display_data"
    },
    {
     "name": "stdout",
     "output_type": "stream",
     "text": [
      "Train | Loss: 0.7696, Recall: 0.4530, Precision: 0.1770, F1: 0.2545\n",
      "Val   | Loss: 0.7972, Recall: 0.1530, Precision: 0.4927, F1: 0.2335\n",
      "-----------------------------\n",
      "Epoch 13\n"
     ]
    },
    {
     "data": {
      "application/vnd.jupyter.widget-view+json": {
       "model_id": "54d782bfe0584222b6f2c0ab0adbe6c9",
       "version_major": 2,
       "version_minor": 0
      },
      "text/plain": [
       "Training:   0%|          | 0/25 [00:00<?, ?it/s]"
      ]
     },
     "metadata": {},
     "output_type": "display_data"
    },
    {
     "data": {
      "application/vnd.jupyter.widget-view+json": {
       "model_id": "52e62c00ced24a9192f8ee129a816b62",
       "version_major": 2,
       "version_minor": 0
      },
      "text/plain": [
       "Validation:   0%|          | 0/5 [00:00<?, ?it/s]"
      ]
     },
     "metadata": {},
     "output_type": "display_data"
    },
    {
     "name": "stdout",
     "output_type": "stream",
     "text": [
      "Train | Loss: 0.7569, Recall: 0.4622, Precision: 0.1776, F1: 0.2566\n",
      "Val   | Loss: 0.6507, Recall: 0.5274, Precision: 0.3006, F1: 0.3829\n",
      "-----------------------------\n",
      "Epoch 14\n"
     ]
    },
    {
     "data": {
      "application/vnd.jupyter.widget-view+json": {
       "model_id": "13ff1f514b8c4fadbce753f9e44fe511",
       "version_major": 2,
       "version_minor": 0
      },
      "text/plain": [
       "Training:   0%|          | 0/25 [00:00<?, ?it/s]"
      ]
     },
     "metadata": {},
     "output_type": "display_data"
    },
    {
     "data": {
      "application/vnd.jupyter.widget-view+json": {
       "model_id": "792edf8c1a6f4e88aa4773285d83a33f",
       "version_major": 2,
       "version_minor": 0
      },
      "text/plain": [
       "Validation:   0%|          | 0/5 [00:00<?, ?it/s]"
      ]
     },
     "metadata": {},
     "output_type": "display_data"
    },
    {
     "name": "stdout",
     "output_type": "stream",
     "text": [
      "Train | Loss: 0.7272, Recall: 0.4823, Precision: 0.2008, F1: 0.2836\n",
      "Val   | Loss: 0.6560, Recall: 0.5916, Precision: 0.2531, F1: 0.3545\n",
      "-----------------------------\n",
      "Epoch 15\n"
     ]
    },
    {
     "data": {
      "application/vnd.jupyter.widget-view+json": {
       "model_id": "61edd7ad18164fabbe1f76e5061d94dd",
       "version_major": 2,
       "version_minor": 0
      },
      "text/plain": [
       "Training:   0%|          | 0/25 [00:00<?, ?it/s]"
      ]
     },
     "metadata": {},
     "output_type": "display_data"
    },
    {
     "data": {
      "application/vnd.jupyter.widget-view+json": {
       "model_id": "4f7421d32ce546a582591d689f2d651d",
       "version_major": 2,
       "version_minor": 0
      },
      "text/plain": [
       "Validation:   0%|          | 0/5 [00:00<?, ?it/s]"
      ]
     },
     "metadata": {},
     "output_type": "display_data"
    },
    {
     "name": "stdout",
     "output_type": "stream",
     "text": [
      "Train | Loss: 0.7419, Recall: 0.4786, Precision: 0.2085, F1: 0.2905\n",
      "Val   | Loss: 0.6877, Recall: 0.2970, Precision: 0.4668, F1: 0.3631\n",
      "-----------------------------\n",
      "Epoch 16\n"
     ]
    },
    {
     "data": {
      "application/vnd.jupyter.widget-view+json": {
       "model_id": "01f912440b12489a8f79c068977e81c7",
       "version_major": 2,
       "version_minor": 0
      },
      "text/plain": [
       "Training:   0%|          | 0/25 [00:00<?, ?it/s]"
      ]
     },
     "metadata": {},
     "output_type": "display_data"
    },
    {
     "data": {
      "application/vnd.jupyter.widget-view+json": {
       "model_id": "07cf9c0e64ce445cac5a8d771944a112",
       "version_major": 2,
       "version_minor": 0
      },
      "text/plain": [
       "Validation:   0%|          | 0/5 [00:00<?, ?it/s]"
      ]
     },
     "metadata": {},
     "output_type": "display_data"
    },
    {
     "name": "stdout",
     "output_type": "stream",
     "text": [
      "Train | Loss: 0.7310, Recall: 0.4341, Precision: 0.2252, F1: 0.2966\n",
      "Val   | Loss: 0.6365, Recall: 0.5219, Precision: 0.3203, F1: 0.3970\n",
      "-----------------------------\n",
      "Epoch 17\n"
     ]
    },
    {
     "data": {
      "application/vnd.jupyter.widget-view+json": {
       "model_id": "2a83bd197b6244178468a140780831a5",
       "version_major": 2,
       "version_minor": 0
      },
      "text/plain": [
       "Training:   0%|          | 0/25 [00:00<?, ?it/s]"
      ]
     },
     "metadata": {},
     "output_type": "display_data"
    },
    {
     "data": {
      "application/vnd.jupyter.widget-view+json": {
       "model_id": "8abc50ca27ea4c228d2fc2da09e986b6",
       "version_major": 2,
       "version_minor": 0
      },
      "text/plain": [
       "Validation:   0%|          | 0/5 [00:00<?, ?it/s]"
      ]
     },
     "metadata": {},
     "output_type": "display_data"
    },
    {
     "name": "stdout",
     "output_type": "stream",
     "text": [
      "Train | Loss: 0.7378, Recall: 0.4434, Precision: 0.2281, F1: 0.3013\n",
      "Val   | Loss: 0.8344, Recall: 0.8259, Precision: 0.1132, F1: 0.1991\n",
      "-----------------------------\n",
      "Epoch 18\n"
     ]
    },
    {
     "data": {
      "application/vnd.jupyter.widget-view+json": {
       "model_id": "ba3b4bd582ed421698a7c51b6b1e99b3",
       "version_major": 2,
       "version_minor": 0
      },
      "text/plain": [
       "Training:   0%|          | 0/25 [00:00<?, ?it/s]"
      ]
     },
     "metadata": {},
     "output_type": "display_data"
    },
    {
     "data": {
      "application/vnd.jupyter.widget-view+json": {
       "model_id": "29d3e14256184c859365b1d893468350",
       "version_major": 2,
       "version_minor": 0
      },
      "text/plain": [
       "Validation:   0%|          | 0/5 [00:00<?, ?it/s]"
      ]
     },
     "metadata": {},
     "output_type": "display_data"
    },
    {
     "name": "stdout",
     "output_type": "stream",
     "text": [
      "Train | Loss: 0.7247, Recall: 0.4370, Precision: 0.2376, F1: 0.3078\n",
      "Val   | Loss: 0.7146, Recall: 0.8044, Precision: 0.1883, F1: 0.3052\n",
      "-----------------------------\n",
      "Epoch 19\n"
     ]
    },
    {
     "data": {
      "application/vnd.jupyter.widget-view+json": {
       "model_id": "c1749ba10e7e406e84e36e131d3ef6e4",
       "version_major": 2,
       "version_minor": 0
      },
      "text/plain": [
       "Training:   0%|          | 0/25 [00:00<?, ?it/s]"
      ]
     },
     "metadata": {},
     "output_type": "display_data"
    },
    {
     "data": {
      "application/vnd.jupyter.widget-view+json": {
       "model_id": "865980e5c40443c1a771c9ae7b2f80fc",
       "version_major": 2,
       "version_minor": 0
      },
      "text/plain": [
       "Validation:   0%|          | 0/5 [00:00<?, ?it/s]"
      ]
     },
     "metadata": {},
     "output_type": "display_data"
    },
    {
     "name": "stdout",
     "output_type": "stream",
     "text": [
      "Train | Loss: 0.7206, Recall: 0.5030, Precision: 0.2433, F1: 0.3280\n",
      "Val   | Loss: 0.5969, Recall: 0.5516, Precision: 0.3539, F1: 0.4312\n",
      "-----------------------------\n",
      "Epoch 20\n"
     ]
    },
    {
     "data": {
      "application/vnd.jupyter.widget-view+json": {
       "model_id": "da2f967eb76b47aa820d7b408d4cd4c3",
       "version_major": 2,
       "version_minor": 0
      },
      "text/plain": [
       "Training:   0%|          | 0/25 [00:00<?, ?it/s]"
      ]
     },
     "metadata": {},
     "output_type": "display_data"
    },
    {
     "data": {
      "application/vnd.jupyter.widget-view+json": {
       "model_id": "0104fc14f8284b26b9cfd377b2755e3e",
       "version_major": 2,
       "version_minor": 0
      },
      "text/plain": [
       "Validation:   0%|          | 0/5 [00:00<?, ?it/s]"
      ]
     },
     "metadata": {},
     "output_type": "display_data"
    },
    {
     "name": "stdout",
     "output_type": "stream",
     "text": [
      "Train | Loss: 0.6987, Recall: 0.4716, Precision: 0.2554, F1: 0.3314\n",
      "Val   | Loss: 0.7735, Recall: 0.1905, Precision: 0.6880, F1: 0.2984\n",
      "-----------------------------\n",
      "Epoch 21\n"
     ]
    },
    {
     "data": {
      "application/vnd.jupyter.widget-view+json": {
       "model_id": "796f9c3b6937402fbb0dbf8d9d575550",
       "version_major": 2,
       "version_minor": 0
      },
      "text/plain": [
       "Training:   0%|          | 0/25 [00:00<?, ?it/s]"
      ]
     },
     "metadata": {},
     "output_type": "display_data"
    },
    {
     "data": {
      "application/vnd.jupyter.widget-view+json": {
       "model_id": "c9d006196f824f3cb0326a5827242d34",
       "version_major": 2,
       "version_minor": 0
      },
      "text/plain": [
       "Validation:   0%|          | 0/5 [00:00<?, ?it/s]"
      ]
     },
     "metadata": {},
     "output_type": "display_data"
    },
    {
     "name": "stdout",
     "output_type": "stream",
     "text": [
      "Train | Loss: 0.6944, Recall: 0.4808, Precision: 0.2971, F1: 0.3673\n",
      "Val   | Loss: 0.6334, Recall: 0.6171, Precision: 0.3750, F1: 0.4665\n",
      "-----------------------------\n",
      "Epoch 22\n"
     ]
    },
    {
     "data": {
      "application/vnd.jupyter.widget-view+json": {
       "model_id": "cbea22240e0b49c4855bd32934930597",
       "version_major": 2,
       "version_minor": 0
      },
      "text/plain": [
       "Training:   0%|          | 0/25 [00:00<?, ?it/s]"
      ]
     },
     "metadata": {},
     "output_type": "display_data"
    },
    {
     "data": {
      "application/vnd.jupyter.widget-view+json": {
       "model_id": "4f790b9e64a74b68aa813c14717bc35e",
       "version_major": 2,
       "version_minor": 0
      },
      "text/plain": [
       "Validation:   0%|          | 0/5 [00:00<?, ?it/s]"
      ]
     },
     "metadata": {},
     "output_type": "display_data"
    },
    {
     "name": "stdout",
     "output_type": "stream",
     "text": [
      "Train | Loss: 0.6878, Recall: 0.5094, Precision: 0.2968, F1: 0.3751\n",
      "Val   | Loss: 0.5683, Recall: 0.6712, Precision: 0.3436, F1: 0.4545\n",
      "-----------------------------\n",
      "Epoch 23\n"
     ]
    },
    {
     "data": {
      "application/vnd.jupyter.widget-view+json": {
       "model_id": "536c63f8ad8c4cb59401173b008d33ce",
       "version_major": 2,
       "version_minor": 0
      },
      "text/plain": [
       "Training:   0%|          | 0/25 [00:00<?, ?it/s]"
      ]
     },
     "metadata": {},
     "output_type": "display_data"
    },
    {
     "data": {
      "application/vnd.jupyter.widget-view+json": {
       "model_id": "c3cfc9b4c27447efb707c00e410238c4",
       "version_major": 2,
       "version_minor": 0
      },
      "text/plain": [
       "Validation:   0%|          | 0/5 [00:00<?, ?it/s]"
      ]
     },
     "metadata": {},
     "output_type": "display_data"
    },
    {
     "name": "stdout",
     "output_type": "stream",
     "text": [
      "Train | Loss: 0.6805, Recall: 0.5204, Precision: 0.2881, F1: 0.3709\n",
      "Val   | Loss: 0.7561, Recall: 0.1954, Precision: 0.7064, F1: 0.3061\n",
      "-----------------------------\n",
      "Epoch 24\n"
     ]
    },
    {
     "data": {
      "application/vnd.jupyter.widget-view+json": {
       "model_id": "9594291c896546ba8990608a880e70c8",
       "version_major": 2,
       "version_minor": 0
      },
      "text/plain": [
       "Training:   0%|          | 0/25 [00:00<?, ?it/s]"
      ]
     },
     "metadata": {},
     "output_type": "display_data"
    },
    {
     "data": {
      "application/vnd.jupyter.widget-view+json": {
       "model_id": "6b987d59414f4444883872181aa28aa7",
       "version_major": 2,
       "version_minor": 0
      },
      "text/plain": [
       "Validation:   0%|          | 0/5 [00:00<?, ?it/s]"
      ]
     },
     "metadata": {},
     "output_type": "display_data"
    },
    {
     "name": "stdout",
     "output_type": "stream",
     "text": [
      "Train | Loss: 0.6708, Recall: 0.5229, Precision: 0.3103, F1: 0.3895\n",
      "Val   | Loss: 0.5341, Recall: 0.6104, Precision: 0.4271, F1: 0.5026\n",
      "-----------------------------\n",
      "Epoch 25\n"
     ]
    },
    {
     "data": {
      "application/vnd.jupyter.widget-view+json": {
       "model_id": "3156ad8a8f07467bbecee9f9c0439412",
       "version_major": 2,
       "version_minor": 0
      },
      "text/plain": [
       "Training:   0%|          | 0/25 [00:00<?, ?it/s]"
      ]
     },
     "metadata": {},
     "output_type": "display_data"
    },
    {
     "data": {
      "application/vnd.jupyter.widget-view+json": {
       "model_id": "182a2c524d7249de8a0d1cccd7f48a86",
       "version_major": 2,
       "version_minor": 0
      },
      "text/plain": [
       "Validation:   0%|          | 0/5 [00:00<?, ?it/s]"
      ]
     },
     "metadata": {},
     "output_type": "display_data"
    },
    {
     "name": "stdout",
     "output_type": "stream",
     "text": [
      "Train | Loss: 0.6763, Recall: 0.5119, Precision: 0.3191, F1: 0.3931\n",
      "Val   | Loss: 0.5703, Recall: 0.7139, Precision: 0.3014, F1: 0.4239\n",
      "-----------------------------\n",
      "Epoch 26\n"
     ]
    },
    {
     "data": {
      "application/vnd.jupyter.widget-view+json": {
       "model_id": "ef562354dcb047669433ab0509375c3b",
       "version_major": 2,
       "version_minor": 0
      },
      "text/plain": [
       "Training:   0%|          | 0/25 [00:00<?, ?it/s]"
      ]
     },
     "metadata": {},
     "output_type": "display_data"
    },
    {
     "data": {
      "application/vnd.jupyter.widget-view+json": {
       "model_id": "74cad4ef483c4a93aea171b227bc1274",
       "version_major": 2,
       "version_minor": 0
      },
      "text/plain": [
       "Validation:   0%|          | 0/5 [00:00<?, ?it/s]"
      ]
     },
     "metadata": {},
     "output_type": "display_data"
    },
    {
     "name": "stdout",
     "output_type": "stream",
     "text": [
      "Train | Loss: 0.6629, Recall: 0.5109, Precision: 0.3459, F1: 0.4125\n",
      "Val   | Loss: 0.6709, Recall: 0.3391, Precision: 0.5535, F1: 0.4205\n",
      "-----------------------------\n",
      "Epoch 27\n"
     ]
    },
    {
     "data": {
      "application/vnd.jupyter.widget-view+json": {
       "model_id": "144d8cac125943938fc65cf5f7cf3254",
       "version_major": 2,
       "version_minor": 0
      },
      "text/plain": [
       "Training:   0%|          | 0/25 [00:00<?, ?it/s]"
      ]
     },
     "metadata": {},
     "output_type": "display_data"
    },
    {
     "data": {
      "application/vnd.jupyter.widget-view+json": {
       "model_id": "e34f80d33dc94402b338ac91aeae3327",
       "version_major": 2,
       "version_minor": 0
      },
      "text/plain": [
       "Validation:   0%|          | 0/5 [00:00<?, ?it/s]"
      ]
     },
     "metadata": {},
     "output_type": "display_data"
    },
    {
     "name": "stdout",
     "output_type": "stream",
     "text": [
      "Train | Loss: 0.6689, Recall: 0.5030, Precision: 0.3273, F1: 0.3966\n",
      "Val   | Loss: 0.5461, Recall: 0.5023, Precision: 0.5143, F1: 0.5082\n",
      "-----------------------------\n",
      "Epoch 28\n"
     ]
    },
    {
     "data": {
      "application/vnd.jupyter.widget-view+json": {
       "model_id": "b9aa2367c28449f48fe173b8f3347d58",
       "version_major": 2,
       "version_minor": 0
      },
      "text/plain": [
       "Training:   0%|          | 0/25 [00:00<?, ?it/s]"
      ]
     },
     "metadata": {},
     "output_type": "display_data"
    },
    {
     "data": {
      "application/vnd.jupyter.widget-view+json": {
       "model_id": "f7fe8289181a4f749a3fad3783568de3",
       "version_major": 2,
       "version_minor": 0
      },
      "text/plain": [
       "Validation:   0%|          | 0/5 [00:00<?, ?it/s]"
      ]
     },
     "metadata": {},
     "output_type": "display_data"
    },
    {
     "name": "stdout",
     "output_type": "stream",
     "text": [
      "Train | Loss: 0.6696, Recall: 0.5217, Precision: 0.3146, F1: 0.3925\n",
      "Val   | Loss: 0.6741, Recall: 0.3312, Precision: 0.6198, F1: 0.4317\n",
      "-----------------------------\n",
      "Epoch 29\n"
     ]
    },
    {
     "data": {
      "application/vnd.jupyter.widget-view+json": {
       "model_id": "c365448ffb124c209cb3eadc2d222dcb",
       "version_major": 2,
       "version_minor": 0
      },
      "text/plain": [
       "Training:   0%|          | 0/25 [00:00<?, ?it/s]"
      ]
     },
     "metadata": {},
     "output_type": "display_data"
    },
    {
     "data": {
      "application/vnd.jupyter.widget-view+json": {
       "model_id": "f982d4ce0bbb4b9686ceeaf511b833b4",
       "version_major": 2,
       "version_minor": 0
      },
      "text/plain": [
       "Validation:   0%|          | 0/5 [00:00<?, ?it/s]"
      ]
     },
     "metadata": {},
     "output_type": "display_data"
    },
    {
     "name": "stdout",
     "output_type": "stream",
     "text": [
      "Train | Loss: 0.6560, Recall: 0.5118, Precision: 0.3601, F1: 0.4228\n",
      "Val   | Loss: 0.5162, Recall: 0.6337, Precision: 0.4378, F1: 0.5178\n",
      "-----------------------------\n",
      "Epoch 30\n"
     ]
    },
    {
     "data": {
      "application/vnd.jupyter.widget-view+json": {
       "model_id": "2e25935126ad459998569f64bbcbdda3",
       "version_major": 2,
       "version_minor": 0
      },
      "text/plain": [
       "Training:   0%|          | 0/25 [00:00<?, ?it/s]"
      ]
     },
     "metadata": {},
     "output_type": "display_data"
    },
    {
     "data": {
      "application/vnd.jupyter.widget-view+json": {
       "model_id": "6e1870ac2bf344719e5ef05b517a6f03",
       "version_major": 2,
       "version_minor": 0
      },
      "text/plain": [
       "Validation:   0%|          | 0/5 [00:00<?, ?it/s]"
      ]
     },
     "metadata": {},
     "output_type": "display_data"
    },
    {
     "name": "stdout",
     "output_type": "stream",
     "text": [
      "Train | Loss: 0.6771, Recall: 0.4946, Precision: 0.3501, F1: 0.4100\n",
      "Val   | Loss: 0.5872, Recall: 0.4194, Precision: 0.6069, F1: 0.4961\n",
      "-----------------------------\n",
      "Epoch 31\n"
     ]
    },
    {
     "data": {
      "application/vnd.jupyter.widget-view+json": {
       "model_id": "2ee662ed6d9040d1a8f6816a9320480c",
       "version_major": 2,
       "version_minor": 0
      },
      "text/plain": [
       "Training:   0%|          | 0/25 [00:00<?, ?it/s]"
      ]
     },
     "metadata": {},
     "output_type": "display_data"
    },
    {
     "data": {
      "application/vnd.jupyter.widget-view+json": {
       "model_id": "c87f55873c0f48aeac2617531b18e70b",
       "version_major": 2,
       "version_minor": 0
      },
      "text/plain": [
       "Validation:   0%|          | 0/5 [00:00<?, ?it/s]"
      ]
     },
     "metadata": {},
     "output_type": "display_data"
    },
    {
     "name": "stdout",
     "output_type": "stream",
     "text": [
      "Train | Loss: 0.6274, Recall: 0.5345, Precision: 0.3709, F1: 0.4379\n",
      "Val   | Loss: 0.7928, Recall: 0.2079, Precision: 0.6622, F1: 0.3164\n",
      "-----------------------------\n",
      "Epoch 32\n"
     ]
    },
    {
     "data": {
      "application/vnd.jupyter.widget-view+json": {
       "model_id": "da519e3601174afe9be7342e5db51f82",
       "version_major": 2,
       "version_minor": 0
      },
      "text/plain": [
       "Training:   0%|          | 0/25 [00:00<?, ?it/s]"
      ]
     },
     "metadata": {},
     "output_type": "display_data"
    },
    {
     "data": {
      "application/vnd.jupyter.widget-view+json": {
       "model_id": "8c1b5bea9c97450ba8df458610e0a27c",
       "version_major": 2,
       "version_minor": 0
      },
      "text/plain": [
       "Validation:   0%|          | 0/5 [00:00<?, ?it/s]"
      ]
     },
     "metadata": {},
     "output_type": "display_data"
    },
    {
     "name": "stdout",
     "output_type": "stream",
     "text": [
      "Train | Loss: 0.6503, Recall: 0.4958, Precision: 0.3615, F1: 0.4182\n",
      "Val   | Loss: 0.5335, Recall: 0.6962, Precision: 0.3959, F1: 0.5047\n",
      "-----------------------------\n",
      "Epoch 33\n"
     ]
    },
    {
     "data": {
      "application/vnd.jupyter.widget-view+json": {
       "model_id": "2552caa3a61b4386b23fd17d4fe8bbe5",
       "version_major": 2,
       "version_minor": 0
      },
      "text/plain": [
       "Training:   0%|          | 0/25 [00:00<?, ?it/s]"
      ]
     },
     "metadata": {},
     "output_type": "display_data"
    },
    {
     "data": {
      "application/vnd.jupyter.widget-view+json": {
       "model_id": "05d67222481e4984939e78afb206aed6",
       "version_major": 2,
       "version_minor": 0
      },
      "text/plain": [
       "Validation:   0%|          | 0/5 [00:00<?, ?it/s]"
      ]
     },
     "metadata": {},
     "output_type": "display_data"
    },
    {
     "name": "stdout",
     "output_type": "stream",
     "text": [
      "Train | Loss: 0.6465, Recall: 0.5061, Precision: 0.3641, F1: 0.4235\n",
      "Val   | Loss: 0.5628, Recall: 0.4577, Precision: 0.5953, F1: 0.5175\n",
      "-----------------------------\n",
      "Epoch 34\n"
     ]
    },
    {
     "data": {
      "application/vnd.jupyter.widget-view+json": {
       "model_id": "1c25d1e8e54c406eb3022d332a10e6c0",
       "version_major": 2,
       "version_minor": 0
      },
      "text/plain": [
       "Training:   0%|          | 0/25 [00:00<?, ?it/s]"
      ]
     },
     "metadata": {},
     "output_type": "display_data"
    },
    {
     "data": {
      "application/vnd.jupyter.widget-view+json": {
       "model_id": "66e7d10e6d6a42398f28e098ace88597",
       "version_major": 2,
       "version_minor": 0
      },
      "text/plain": [
       "Validation:   0%|          | 0/5 [00:00<?, ?it/s]"
      ]
     },
     "metadata": {},
     "output_type": "display_data"
    },
    {
     "name": "stdout",
     "output_type": "stream",
     "text": [
      "Train | Loss: 0.6420, Recall: 0.5530, Precision: 0.3544, F1: 0.4320\n",
      "Val   | Loss: 0.5379, Recall: 0.5315, Precision: 0.5186, F1: 0.5250\n",
      "-----------------------------\n",
      "Epoch 35\n"
     ]
    },
    {
     "data": {
      "application/vnd.jupyter.widget-view+json": {
       "model_id": "251ee902920e46fbaaebc4e6c92f4309",
       "version_major": 2,
       "version_minor": 0
      },
      "text/plain": [
       "Training:   0%|          | 0/25 [00:00<?, ?it/s]"
      ]
     },
     "metadata": {},
     "output_type": "display_data"
    },
    {
     "data": {
      "application/vnd.jupyter.widget-view+json": {
       "model_id": "ae65faef342c489c812382e06b3ba2b4",
       "version_major": 2,
       "version_minor": 0
      },
      "text/plain": [
       "Validation:   0%|          | 0/5 [00:00<?, ?it/s]"
      ]
     },
     "metadata": {},
     "output_type": "display_data"
    },
    {
     "name": "stdout",
     "output_type": "stream",
     "text": [
      "Train | Loss: 0.6480, Recall: 0.4939, Precision: 0.3779, F1: 0.4282\n",
      "Val   | Loss: 0.5298, Recall: 0.5334, Precision: 0.5289, F1: 0.5311\n",
      "-----------------------------\n",
      "Epoch 36\n"
     ]
    },
    {
     "data": {
      "application/vnd.jupyter.widget-view+json": {
       "model_id": "f4cd305363d34a518fe3e18a8065e988",
       "version_major": 2,
       "version_minor": 0
      },
      "text/plain": [
       "Training:   0%|          | 0/25 [00:00<?, ?it/s]"
      ]
     },
     "metadata": {},
     "output_type": "display_data"
    },
    {
     "data": {
      "application/vnd.jupyter.widget-view+json": {
       "model_id": "4ca17dc07b414c4988739b9e6c5f2154",
       "version_major": 2,
       "version_minor": 0
      },
      "text/plain": [
       "Validation:   0%|          | 0/5 [00:00<?, ?it/s]"
      ]
     },
     "metadata": {},
     "output_type": "display_data"
    },
    {
     "name": "stdout",
     "output_type": "stream",
     "text": [
      "Train | Loss: 0.6449, Recall: 0.5254, Precision: 0.3875, F1: 0.4460\n",
      "Val   | Loss: 0.5317, Recall: 0.6505, Precision: 0.4230, F1: 0.5126\n",
      "-----------------------------\n",
      "Epoch 37\n"
     ]
    },
    {
     "data": {
      "application/vnd.jupyter.widget-view+json": {
       "model_id": "f07f233bd9b44a15952ce1531f69c0a1",
       "version_major": 2,
       "version_minor": 0
      },
      "text/plain": [
       "Training:   0%|          | 0/25 [00:00<?, ?it/s]"
      ]
     },
     "metadata": {},
     "output_type": "display_data"
    },
    {
     "data": {
      "application/vnd.jupyter.widget-view+json": {
       "model_id": "f8127133e3b4421a9fbe55059e695f0e",
       "version_major": 2,
       "version_minor": 0
      },
      "text/plain": [
       "Validation:   0%|          | 0/5 [00:00<?, ?it/s]"
      ]
     },
     "metadata": {},
     "output_type": "display_data"
    },
    {
     "name": "stdout",
     "output_type": "stream",
     "text": [
      "Train | Loss: 0.6547, Recall: 0.5626, Precision: 0.3225, F1: 0.4100\n",
      "Val   | Loss: 0.6737, Recall: 0.3749, Precision: 0.6040, F1: 0.4626\n",
      "-----------------------------\n",
      "Epoch 38\n"
     ]
    },
    {
     "data": {
      "application/vnd.jupyter.widget-view+json": {
       "model_id": "9d4418dd2c424defa3425f84eb06352f",
       "version_major": 2,
       "version_minor": 0
      },
      "text/plain": [
       "Training:   0%|          | 0/25 [00:00<?, ?it/s]"
      ]
     },
     "metadata": {},
     "output_type": "display_data"
    },
    {
     "data": {
      "application/vnd.jupyter.widget-view+json": {
       "model_id": "4585b5f0b1c74f63b8b4dd3cb5ee2478",
       "version_major": 2,
       "version_minor": 0
      },
      "text/plain": [
       "Validation:   0%|          | 0/5 [00:00<?, ?it/s]"
      ]
     },
     "metadata": {},
     "output_type": "display_data"
    },
    {
     "name": "stdout",
     "output_type": "stream",
     "text": [
      "Train | Loss: 0.6413, Recall: 0.4947, Precision: 0.3693, F1: 0.4229\n",
      "Val   | Loss: 0.7557, Recall: 0.2209, Precision: 0.7686, F1: 0.3431\n",
      "-----------------------------\n",
      "Epoch 39\n"
     ]
    },
    {
     "data": {
      "application/vnd.jupyter.widget-view+json": {
       "model_id": "79181e7979124470bac718a94e647f1b",
       "version_major": 2,
       "version_minor": 0
      },
      "text/plain": [
       "Training:   0%|          | 0/25 [00:00<?, ?it/s]"
      ]
     },
     "metadata": {},
     "output_type": "display_data"
    },
    {
     "data": {
      "application/vnd.jupyter.widget-view+json": {
       "model_id": "797ace6052b04101b3813feb9e3b2478",
       "version_major": 2,
       "version_minor": 0
      },
      "text/plain": [
       "Validation:   0%|          | 0/5 [00:00<?, ?it/s]"
      ]
     },
     "metadata": {},
     "output_type": "display_data"
    },
    {
     "name": "stdout",
     "output_type": "stream",
     "text": [
      "Train | Loss: 0.6556, Recall: 0.5210, Precision: 0.3601, F1: 0.4258\n",
      "Val   | Loss: 0.5081, Recall: 0.5816, Precision: 0.5260, F1: 0.5524\n",
      "-----------------------------\n",
      "Epoch 40\n"
     ]
    },
    {
     "data": {
      "application/vnd.jupyter.widget-view+json": {
       "model_id": "794b136e68f4484f8a2682ecb569dd4e",
       "version_major": 2,
       "version_minor": 0
      },
      "text/plain": [
       "Training:   0%|          | 0/25 [00:00<?, ?it/s]"
      ]
     },
     "metadata": {},
     "output_type": "display_data"
    },
    {
     "data": {
      "application/vnd.jupyter.widget-view+json": {
       "model_id": "2c6bfb6553f743549b486371f8e5c2b9",
       "version_major": 2,
       "version_minor": 0
      },
      "text/plain": [
       "Validation:   0%|          | 0/5 [00:00<?, ?it/s]"
      ]
     },
     "metadata": {},
     "output_type": "display_data"
    },
    {
     "name": "stdout",
     "output_type": "stream",
     "text": [
      "Train | Loss: 0.6443, Recall: 0.5255, Precision: 0.3706, F1: 0.4347\n",
      "Val   | Loss: 0.6921, Recall: 0.2549, Precision: 0.6918, F1: 0.3725\n",
      "-----------------------------\n",
      "Epoch 41\n"
     ]
    },
    {
     "data": {
      "application/vnd.jupyter.widget-view+json": {
       "model_id": "f4e46df353a6496a806de388873b86ab",
       "version_major": 2,
       "version_minor": 0
      },
      "text/plain": [
       "Training:   0%|          | 0/25 [00:00<?, ?it/s]"
      ]
     },
     "metadata": {},
     "output_type": "display_data"
    },
    {
     "data": {
      "application/vnd.jupyter.widget-view+json": {
       "model_id": "f10070307dbc48b0ab2ead6d20754079",
       "version_major": 2,
       "version_minor": 0
      },
      "text/plain": [
       "Validation:   0%|          | 0/5 [00:00<?, ?it/s]"
      ]
     },
     "metadata": {},
     "output_type": "display_data"
    },
    {
     "name": "stdout",
     "output_type": "stream",
     "text": [
      "Train | Loss: 0.6302, Recall: 0.5158, Precision: 0.3947, F1: 0.4472\n",
      "Val   | Loss: 0.5119, Recall: 0.6317, Precision: 0.4785, F1: 0.5445\n",
      "-----------------------------\n",
      "Epoch 42\n"
     ]
    },
    {
     "data": {
      "application/vnd.jupyter.widget-view+json": {
       "model_id": "0c7de050b8d2436c90640ac76308ec90",
       "version_major": 2,
       "version_minor": 0
      },
      "text/plain": [
       "Training:   0%|          | 0/25 [00:00<?, ?it/s]"
      ]
     },
     "metadata": {},
     "output_type": "display_data"
    },
    {
     "data": {
      "application/vnd.jupyter.widget-view+json": {
       "model_id": "e21480ba612b47c89c1d7649fc168d84",
       "version_major": 2,
       "version_minor": 0
      },
      "text/plain": [
       "Validation:   0%|          | 0/5 [00:00<?, ?it/s]"
      ]
     },
     "metadata": {},
     "output_type": "display_data"
    },
    {
     "name": "stdout",
     "output_type": "stream",
     "text": [
      "Train | Loss: 0.6334, Recall: 0.5482, Precision: 0.3717, F1: 0.4430\n",
      "Val   | Loss: 0.7078, Recall: 0.2713, Precision: 0.6966, F1: 0.3905\n",
      "-----------------------------\n",
      "Epoch 43\n"
     ]
    },
    {
     "data": {
      "application/vnd.jupyter.widget-view+json": {
       "model_id": "dd99a181ded24ccd88d85028464468f9",
       "version_major": 2,
       "version_minor": 0
      },
      "text/plain": [
       "Training:   0%|          | 0/25 [00:00<?, ?it/s]"
      ]
     },
     "metadata": {},
     "output_type": "display_data"
    },
    {
     "data": {
      "application/vnd.jupyter.widget-view+json": {
       "model_id": "440061fd727b44d0a5a139b1996383f9",
       "version_major": 2,
       "version_minor": 0
      },
      "text/plain": [
       "Validation:   0%|          | 0/5 [00:00<?, ?it/s]"
      ]
     },
     "metadata": {},
     "output_type": "display_data"
    },
    {
     "name": "stdout",
     "output_type": "stream",
     "text": [
      "Train | Loss: 0.6466, Recall: 0.5059, Precision: 0.3694, F1: 0.4270\n",
      "Val   | Loss: 0.6463, Recall: 0.3679, Precision: 0.6279, F1: 0.4640\n",
      "-----------------------------\n",
      "Epoch 44\n"
     ]
    },
    {
     "data": {
      "application/vnd.jupyter.widget-view+json": {
       "model_id": "8e95fcae03554e4698d4ea433695b1dc",
       "version_major": 2,
       "version_minor": 0
      },
      "text/plain": [
       "Training:   0%|          | 0/25 [00:00<?, ?it/s]"
      ]
     },
     "metadata": {},
     "output_type": "display_data"
    },
    {
     "data": {
      "application/vnd.jupyter.widget-view+json": {
       "model_id": "6ce3e0261ee14ebbb1c7872640ed24a9",
       "version_major": 2,
       "version_minor": 0
      },
      "text/plain": [
       "Validation:   0%|          | 0/5 [00:00<?, ?it/s]"
      ]
     },
     "metadata": {},
     "output_type": "display_data"
    },
    {
     "name": "stdout",
     "output_type": "stream",
     "text": [
      "Train | Loss: 0.6320, Recall: 0.5121, Precision: 0.3527, F1: 0.4177\n",
      "Val   | Loss: 0.5250, Recall: 0.5098, Precision: 0.5470, F1: 0.5277\n",
      "-----------------------------\n",
      "Epoch 45\n"
     ]
    },
    {
     "data": {
      "application/vnd.jupyter.widget-view+json": {
       "model_id": "1d65b7bdda4446629040f258b49442d6",
       "version_major": 2,
       "version_minor": 0
      },
      "text/plain": [
       "Training:   0%|          | 0/25 [00:00<?, ?it/s]"
      ]
     },
     "metadata": {},
     "output_type": "display_data"
    },
    {
     "data": {
      "application/vnd.jupyter.widget-view+json": {
       "model_id": "80b362bf3eab4b7e8103e83dcddf83ae",
       "version_major": 2,
       "version_minor": 0
      },
      "text/plain": [
       "Validation:   0%|          | 0/5 [00:00<?, ?it/s]"
      ]
     },
     "metadata": {},
     "output_type": "display_data"
    },
    {
     "name": "stdout",
     "output_type": "stream",
     "text": [
      "Train | Loss: 0.6128, Recall: 0.5432, Precision: 0.3966, F1: 0.4584\n",
      "Val   | Loss: 0.5433, Recall: 0.7413, Precision: 0.3608, F1: 0.4853\n",
      "-----------------------------\n",
      "Epoch 46\n"
     ]
    },
    {
     "data": {
      "application/vnd.jupyter.widget-view+json": {
       "model_id": "ca3fb6e16b854bcb9f355b3ef92a4bf3",
       "version_major": 2,
       "version_minor": 0
      },
      "text/plain": [
       "Training:   0%|          | 0/25 [00:00<?, ?it/s]"
      ]
     },
     "metadata": {},
     "output_type": "display_data"
    },
    {
     "data": {
      "application/vnd.jupyter.widget-view+json": {
       "model_id": "9fb293001fd242a3bc268ee40c8be0b4",
       "version_major": 2,
       "version_minor": 0
      },
      "text/plain": [
       "Validation:   0%|          | 0/5 [00:00<?, ?it/s]"
      ]
     },
     "metadata": {},
     "output_type": "display_data"
    },
    {
     "name": "stdout",
     "output_type": "stream",
     "text": [
      "Train | Loss: 0.6202, Recall: 0.5361, Precision: 0.3877, F1: 0.4499\n",
      "Val   | Loss: 0.5199, Recall: 0.5370, Precision: 0.5454, F1: 0.5411\n",
      "-----------------------------\n",
      "Epoch 47\n"
     ]
    },
    {
     "data": {
      "application/vnd.jupyter.widget-view+json": {
       "model_id": "b45b8403e4544555a55020598f194a90",
       "version_major": 2,
       "version_minor": 0
      },
      "text/plain": [
       "Training:   0%|          | 0/25 [00:00<?, ?it/s]"
      ]
     },
     "metadata": {},
     "output_type": "display_data"
    },
    {
     "data": {
      "application/vnd.jupyter.widget-view+json": {
       "model_id": "55f129337acb4199b3cf6fbc29e233b7",
       "version_major": 2,
       "version_minor": 0
      },
      "text/plain": [
       "Validation:   0%|          | 0/5 [00:00<?, ?it/s]"
      ]
     },
     "metadata": {},
     "output_type": "display_data"
    },
    {
     "name": "stdout",
     "output_type": "stream",
     "text": [
      "Train | Loss: 0.6278, Recall: 0.5354, Precision: 0.3979, F1: 0.4565\n",
      "Val   | Loss: 0.5646, Recall: 0.4969, Precision: 0.5675, F1: 0.5299\n",
      "-----------------------------\n",
      "Epoch 48\n"
     ]
    },
    {
     "data": {
      "application/vnd.jupyter.widget-view+json": {
       "model_id": "7955f8465390435f969e2d35fb1b4836",
       "version_major": 2,
       "version_minor": 0
      },
      "text/plain": [
       "Training:   0%|          | 0/25 [00:00<?, ?it/s]"
      ]
     },
     "metadata": {},
     "output_type": "display_data"
    },
    {
     "data": {
      "application/vnd.jupyter.widget-view+json": {
       "model_id": "9b2f488ad078434d932f435106376944",
       "version_major": 2,
       "version_minor": 0
      },
      "text/plain": [
       "Validation:   0%|          | 0/5 [00:00<?, ?it/s]"
      ]
     },
     "metadata": {},
     "output_type": "display_data"
    },
    {
     "name": "stdout",
     "output_type": "stream",
     "text": [
      "Train | Loss: 0.6163, Recall: 0.5416, Precision: 0.4059, F1: 0.4640\n",
      "Val   | Loss: 0.6029, Recall: 0.4642, Precision: 0.5721, F1: 0.5125\n",
      "-----------------------------\n",
      "Epoch 49\n"
     ]
    },
    {
     "data": {
      "application/vnd.jupyter.widget-view+json": {
       "model_id": "fcf53fcdbf414778988a3bd4081099c8",
       "version_major": 2,
       "version_minor": 0
      },
      "text/plain": [
       "Training:   0%|          | 0/25 [00:00<?, ?it/s]"
      ]
     },
     "metadata": {},
     "output_type": "display_data"
    },
    {
     "data": {
      "application/vnd.jupyter.widget-view+json": {
       "model_id": "2c578afcf7814cbc8190641c8e323e90",
       "version_major": 2,
       "version_minor": 0
      },
      "text/plain": [
       "Validation:   0%|          | 0/5 [00:00<?, ?it/s]"
      ]
     },
     "metadata": {},
     "output_type": "display_data"
    },
    {
     "name": "stdout",
     "output_type": "stream",
     "text": [
      "Train | Loss: 0.6215, Recall: 0.5582, Precision: 0.4100, F1: 0.4728\n",
      "Val   | Loss: 0.4928, Recall: 0.6083, Precision: 0.5253, F1: 0.5638\n",
      "-----------------------------\n",
      "Epoch 50\n"
     ]
    },
    {
     "data": {
      "application/vnd.jupyter.widget-view+json": {
       "model_id": "2d9b0f5f58ea4ea5bcaee75e3eee740f",
       "version_major": 2,
       "version_minor": 0
      },
      "text/plain": [
       "Training:   0%|          | 0/25 [00:00<?, ?it/s]"
      ]
     },
     "metadata": {},
     "output_type": "display_data"
    },
    {
     "data": {
      "application/vnd.jupyter.widget-view+json": {
       "model_id": "94afa5987528462ab0a59f9e06d583a1",
       "version_major": 2,
       "version_minor": 0
      },
      "text/plain": [
       "Validation:   0%|          | 0/5 [00:00<?, ?it/s]"
      ]
     },
     "metadata": {},
     "output_type": "display_data"
    },
    {
     "name": "stdout",
     "output_type": "stream",
     "text": [
      "Train | Loss: 0.6113, Recall: 0.5180, Precision: 0.4147, F1: 0.4606\n",
      "Val   | Loss: 0.6024, Recall: 0.4392, Precision: 0.5926, F1: 0.5045\n",
      "-----------------------------\n",
      "Training Complete!\n",
      "Saved PyTorch Model to  /home/tommytang111/gap-junction-segmentation/models/sweep_model_72cm8l7n.pt\n"
     ]
    },
    {
     "data": {
      "text/html": [],
      "text/plain": [
       "<IPython.core.display.HTML object>"
      ]
     },
     "metadata": {},
     "output_type": "display_data"
    },
    {
     "data": {
      "text/html": [
       "<br>    <style><br>        .wandb-row {<br>            display: flex;<br>            flex-direction: row;<br>            flex-wrap: wrap;<br>            justify-content: flex-start;<br>            width: 100%;<br>        }<br>        .wandb-col {<br>            display: flex;<br>            flex-direction: column;<br>            flex-basis: 100%;<br>            flex: 1;<br>            padding: 10px;<br>        }<br>    </style><br><div class=\"wandb-row\"><div class=\"wandb-col\"><h3>Run history:</h3><br/><table class=\"wandb\"><tr><td>best_epoch</td><td>▁▁▁▁▂▂▂▂▂▂▃▃▃▃▃▄▄▄▄▄▅▅▅▅▅▅▆▆▆▆▇▇▇▇▇▇▇▇▇█</td></tr><tr><td>best_val_f1</td><td>▁▁▁▁▃▃▃▃▄▄▄▄▄▅▅▅▅▆▆▆▇▇▇▇▇▇▇▇▇▇▇█████████</td></tr><tr><td>best_val_loss</td><td>███▇▇▇▅▅▅▅▄▄▄▄▄▃▃▃▂▂▂▂▂▂▂▂▂▂▂▂▁▁▁▁▁▁▁▁▁▁</td></tr><tr><td>epoch</td><td>▁▁▁▁▂▂▂▂▂▃▃▃▃▃▃▄▄▄▄▄▅▅▅▅▅▅▆▆▆▆▆▆▇▇▇▇▇███</td></tr><tr><td>lr</td><td>▁▁▁▁▁▁▁▁▁▁▁▁▁▁▁▁▁▁▁▁▁▁▁▁▁▁▁▁▁▁▁▁▁▁▁▁▁▁▁▁</td></tr><tr><td>train_f1</td><td>▁▃▃▃▃▄▄▄▄▄▄▅▅▅▅▆▆▆▆▆▇▇▇▇▇█▇▇▇▇▇▇▇███████</td></tr><tr><td>train_loss</td><td>█▆▆▆▆▅▆▅▅▅▄▄▄▄▄▄▃▃▃▃▃▂▂▂▂▁▂▂▂▂▂▂▂▁▁▁▁▁▁▁</td></tr><tr><td>train_precision</td><td>▁▂▂▃▃▃▃▄▃▃▄▄▄▅▅▅▆▆▆▆▇▆▆▇▇▇▇▇▇█▇▇▇█▇▇████</td></tr><tr><td>train_recall</td><td>▇▃▃▁▅▅▄▅▅▅▅▅▄▄▄▅▅▇▇▆▆▇▆▆▇▆█▆▇█▇▇▇█▆▇▇▇▇▇</td></tr><tr><td>val_f1</td><td>▃▁▃▂▅▄▄▅▅▅▆▅▅▆▃▆▄▇▇▅▆▆▇▆█▅▇█▇▇█▆█▆▇▇██▇▇</td></tr><tr><td>val_loss</td><td>▆█▆▇▅▅▆▃▄▆▃▃▆▄▂▃▂▅▁▂▂▄▁▂▅▂▁▁▁▄▁▄▁▄▃▂▁▂▂▂</td></tr><tr><td>val_precision</td><td>▂▁▂▁▃▃▄▃▄▄▄▃▆▄▃█▅▄█▅▆▆▇▅▇▅▇▆▅▇▆█▆█▇▄▆▇▇▇</td></tr><tr><td>val_recall</td><td>▃▇▇▅▁▂▆▅▄▂▆▃▅██▂▆▂▆▇▅▃▆▄▂▄▅▅▆▄▆▃▆▃▄▇▅▅▅▄</td></tr></table><br/></div><div class=\"wandb-col\"><h3>Run summary:</h3><br/><table class=\"wandb\"><tr><td>best_epoch</td><td>48</td></tr><tr><td>best_val_f1</td><td>0.56376</td></tr><tr><td>best_val_loss</td><td>0.4928</td></tr><tr><td>epoch</td><td>50</td></tr><tr><td>lr</td><td>0.001</td></tr><tr><td>train_f1</td><td>0.46058</td></tr><tr><td>train_loss</td><td>0.61129</td></tr><tr><td>train_precision</td><td>0.41465</td></tr><tr><td>train_recall</td><td>0.51796</td></tr><tr><td>val_f1</td><td>0.50447</td></tr><tr><td>val_loss</td><td>0.60241</td></tr><tr><td>val_precision</td><td>0.5926</td></tr><tr><td>val_recall</td><td>0.43916</td></tr></table><br/></div></div>"
      ],
      "text/plain": [
       "<IPython.core.display.HTML object>"
      ]
     },
     "metadata": {},
     "output_type": "display_data"
    },
    {
     "data": {
      "text/html": [
       " View run <strong style=\"color:#cdcd00\">floral-sweep-8</strong> at: <a href='https://wandb.ai/zhen_lab/gap-junction-segmentation/runs/72cm8l7n' target=\"_blank\">https://wandb.ai/zhen_lab/gap-junction-segmentation/runs/72cm8l7n</a><br> View project at: <a href='https://wandb.ai/zhen_lab/gap-junction-segmentation' target=\"_blank\">https://wandb.ai/zhen_lab/gap-junction-segmentation</a><br>Synced 5 W&B file(s), 0 media file(s), 0 artifact file(s) and 0 other file(s)"
      ],
      "text/plain": [
       "<IPython.core.display.HTML object>"
      ]
     },
     "metadata": {},
     "output_type": "display_data"
    },
    {
     "data": {
      "text/html": [
       "Find logs at: <code>/home/tommytang111/gap-junction-segmentation/wandb/wandb/run-20250606_155102-72cm8l7n/logs</code>"
      ],
      "text/plain": [
       "<IPython.core.display.HTML object>"
      ]
     },
     "metadata": {},
     "output_type": "display_data"
    },
    {
     "name": "stderr",
     "output_type": "stream",
     "text": [
      "\u001b[34m\u001b[1mwandb\u001b[0m: Agent Starting Run: j048885m with config:\n",
      "\u001b[34m\u001b[1mwandb\u001b[0m: \taugmentation: custom1\n",
      "\u001b[34m\u001b[1mwandb\u001b[0m: \tbatch_size: 8\n",
      "\u001b[34m\u001b[1mwandb\u001b[0m: \tdropout: 0\n",
      "\u001b[34m\u001b[1mwandb\u001b[0m: \tlearning_rate: 0.0001\n",
      "\u001b[34m\u001b[1mwandb\u001b[0m: \tloss_function: GenDLoss\n",
      "\u001b[34m\u001b[1mwandb\u001b[0m: \toptimizer: AdamW\n",
      "\u001b[34m\u001b[1mwandb\u001b[0m: \u001b[33mWARNING\u001b[0m If you're specifying your api key in code, ensure this code is not shared publicly.\n",
      "\u001b[34m\u001b[1mwandb\u001b[0m: \u001b[33mWARNING\u001b[0m Consider setting the WANDB_API_KEY environment variable, or running `wandb login` from the command line.\n",
      "\u001b[34m\u001b[1mwandb\u001b[0m: Appending key for api.wandb.ai to your netrc file: /home/tommytang111/.netrc\n"
     ]
    },
    {
     "data": {
      "text/html": [
       "Ignoring project 'gap-junction-segmentation' when running a sweep."
      ],
      "text/plain": [
       "<IPython.core.display.HTML object>"
      ]
     },
     "metadata": {},
     "output_type": "display_data"
    },
    {
     "data": {
      "text/html": [
       "Ignoring entity 'zhen_lab' when running a sweep."
      ],
      "text/plain": [
       "<IPython.core.display.HTML object>"
      ]
     },
     "metadata": {},
     "output_type": "display_data"
    },
    {
     "data": {
      "text/html": [
       "Tracking run with wandb version 0.19.10"
      ],
      "text/plain": [
       "<IPython.core.display.HTML object>"
      ]
     },
     "metadata": {},
     "output_type": "display_data"
    },
    {
     "data": {
      "text/html": [
       "Run data is saved locally in <code>/home/tommytang111/gap-junction-segmentation/wandb/wandb/run-20250606_160647-j048885m</code>"
      ],
      "text/plain": [
       "<IPython.core.display.HTML object>"
      ]
     },
     "metadata": {},
     "output_type": "display_data"
    },
    {
     "data": {
      "text/html": [
       "Syncing run <strong><a href='https://wandb.ai/zhen_lab/gap-junction-segmentation/runs/j048885m' target=\"_blank\">super-sweep-9</a></strong> to <a href='https://wandb.ai/zhen_lab/gap-junction-segmentation' target=\"_blank\">Weights & Biases</a> (<a href='https://wandb.me/developer-guide' target=\"_blank\">docs</a>)<br>Sweep page: <a href='https://wandb.ai/zhen_lab/gap-junction-segmentation/sweeps/dwqzhjxz' target=\"_blank\">https://wandb.ai/zhen_lab/gap-junction-segmentation/sweeps/dwqzhjxz</a>"
      ],
      "text/plain": [
       "<IPython.core.display.HTML object>"
      ]
     },
     "metadata": {},
     "output_type": "display_data"
    },
    {
     "data": {
      "text/html": [
       " View project at <a href='https://wandb.ai/zhen_lab/gap-junction-segmentation' target=\"_blank\">https://wandb.ai/zhen_lab/gap-junction-segmentation</a>"
      ],
      "text/plain": [
       "<IPython.core.display.HTML object>"
      ]
     },
     "metadata": {},
     "output_type": "display_data"
    },
    {
     "data": {
      "text/html": [
       " View sweep at <a href='https://wandb.ai/zhen_lab/gap-junction-segmentation/sweeps/dwqzhjxz' target=\"_blank\">https://wandb.ai/zhen_lab/gap-junction-segmentation/sweeps/dwqzhjxz</a>"
      ],
      "text/plain": [
       "<IPython.core.display.HTML object>"
      ]
     },
     "metadata": {},
     "output_type": "display_data"
    },
    {
     "data": {
      "text/html": [
       " View run at <a href='https://wandb.ai/zhen_lab/gap-junction-segmentation/runs/j048885m' target=\"_blank\">https://wandb.ai/zhen_lab/gap-junction-segmentation/runs/j048885m</a>"
      ],
      "text/plain": [
       "<IPython.core.display.HTML object>"
      ]
     },
     "metadata": {},
     "output_type": "display_data"
    },
    {
     "name": "stdout",
     "output_type": "stream",
     "text": [
      "Epoch 1\n"
     ]
    },
    {
     "data": {
      "application/vnd.jupyter.widget-view+json": {
       "model_id": "5d857edb38c24bf599b952e8586eb7b0",
       "version_major": 2,
       "version_minor": 0
      },
      "text/plain": [
       "Training:   0%|          | 0/25 [00:00<?, ?it/s]"
      ]
     },
     "metadata": {},
     "output_type": "display_data"
    },
    {
     "data": {
      "application/vnd.jupyter.widget-view+json": {
       "model_id": "5c38c09c226245999263825f6b6e77a4",
       "version_major": 2,
       "version_minor": 0
      },
      "text/plain": [
       "Validation:   0%|          | 0/5 [00:00<?, ?it/s]"
      ]
     },
     "metadata": {},
     "output_type": "display_data"
    },
    {
     "name": "stdout",
     "output_type": "stream",
     "text": [
      "Train | Loss: 0.9581, Recall: 0.8210, Precision: 0.0345, F1: 0.0662\n",
      "Val   | Loss: 0.9302, Recall: 0.3836, Precision: 0.1282, F1: 0.1922\n",
      "-----------------------------\n",
      "Epoch 2\n"
     ]
    },
    {
     "data": {
      "application/vnd.jupyter.widget-view+json": {
       "model_id": "4f4b63d072604d2cb34de3d481a783e6",
       "version_major": 2,
       "version_minor": 0
      },
      "text/plain": [
       "Training:   0%|          | 0/25 [00:00<?, ?it/s]"
      ]
     },
     "metadata": {},
     "output_type": "display_data"
    },
    {
     "data": {
      "application/vnd.jupyter.widget-view+json": {
       "model_id": "0fa94fcd227c4fd1a917775487b8a806",
       "version_major": 2,
       "version_minor": 0
      },
      "text/plain": [
       "Validation:   0%|          | 0/5 [00:00<?, ?it/s]"
      ]
     },
     "metadata": {},
     "output_type": "display_data"
    },
    {
     "name": "stdout",
     "output_type": "stream",
     "text": [
      "Train | Loss: 0.9085, Recall: 0.7045, Precision: 0.0582, F1: 0.1075\n",
      "Val   | Loss: 0.7728, Recall: 0.7517, Precision: 0.1736, F1: 0.2821\n",
      "-----------------------------\n",
      "Epoch 3\n"
     ]
    },
    {
     "data": {
      "application/vnd.jupyter.widget-view+json": {
       "model_id": "ad1a6baec2a240fc8f4f982ba77db3f1",
       "version_major": 2,
       "version_minor": 0
      },
      "text/plain": [
       "Training:   0%|          | 0/25 [00:00<?, ?it/s]"
      ]
     },
     "metadata": {},
     "output_type": "display_data"
    },
    {
     "data": {
      "application/vnd.jupyter.widget-view+json": {
       "model_id": "2b76948281464c5480d25132d764db1f",
       "version_major": 2,
       "version_minor": 0
      },
      "text/plain": [
       "Validation:   0%|          | 0/5 [00:00<?, ?it/s]"
      ]
     },
     "metadata": {},
     "output_type": "display_data"
    },
    {
     "name": "stdout",
     "output_type": "stream",
     "text": [
      "Train | Loss: 0.8261, Recall: 0.5067, Precision: 0.1485, F1: 0.2297\n",
      "Val   | Loss: 0.6627, Recall: 0.6693, Precision: 0.2878, F1: 0.4025\n",
      "-----------------------------\n",
      "Epoch 4\n"
     ]
    },
    {
     "data": {
      "application/vnd.jupyter.widget-view+json": {
       "model_id": "821328b69a844cacb34a0263c2fb9caa",
       "version_major": 2,
       "version_minor": 0
      },
      "text/plain": [
       "Training:   0%|          | 0/25 [00:00<?, ?it/s]"
      ]
     },
     "metadata": {},
     "output_type": "display_data"
    },
    {
     "data": {
      "application/vnd.jupyter.widget-view+json": {
       "model_id": "ade3179db0264c76b8bb8dc3a96eebde",
       "version_major": 2,
       "version_minor": 0
      },
      "text/plain": [
       "Validation:   0%|          | 0/5 [00:00<?, ?it/s]"
      ]
     },
     "metadata": {},
     "output_type": "display_data"
    },
    {
     "name": "stdout",
     "output_type": "stream",
     "text": [
      "Train | Loss: 0.7670, Recall: 0.4326, Precision: 0.2514, F1: 0.3180\n",
      "Val   | Loss: 0.6155, Recall: 0.5947, Precision: 0.3265, F1: 0.4215\n",
      "-----------------------------\n",
      "Epoch 5\n"
     ]
    },
    {
     "data": {
      "application/vnd.jupyter.widget-view+json": {
       "model_id": "32cc74e631944d0a91749927c732a260",
       "version_major": 2,
       "version_minor": 0
      },
      "text/plain": [
       "Training:   0%|          | 0/25 [00:00<?, ?it/s]"
      ]
     },
     "metadata": {},
     "output_type": "display_data"
    },
    {
     "data": {
      "application/vnd.jupyter.widget-view+json": {
       "model_id": "a164e19e984b46e396a506fc81881f85",
       "version_major": 2,
       "version_minor": 0
      },
      "text/plain": [
       "Validation:   0%|          | 0/5 [00:00<?, ?it/s]"
      ]
     },
     "metadata": {},
     "output_type": "display_data"
    },
    {
     "name": "stdout",
     "output_type": "stream",
     "text": [
      "Train | Loss: 0.7740, Recall: 0.4365, Precision: 0.2172, F1: 0.2900\n",
      "Val   | Loss: 0.6819, Recall: 0.5512, Precision: 0.2858, F1: 0.3764\n",
      "-----------------------------\n",
      "Epoch 6\n"
     ]
    },
    {
     "data": {
      "application/vnd.jupyter.widget-view+json": {
       "model_id": "0894fee0fa274c39b13b776cd0ab1d1b",
       "version_major": 2,
       "version_minor": 0
      },
      "text/plain": [
       "Training:   0%|          | 0/25 [00:00<?, ?it/s]"
      ]
     },
     "metadata": {},
     "output_type": "display_data"
    },
    {
     "data": {
      "application/vnd.jupyter.widget-view+json": {
       "model_id": "a2b6eddd0dab4a129e2774d67789b1d4",
       "version_major": 2,
       "version_minor": 0
      },
      "text/plain": [
       "Validation:   0%|          | 0/5 [00:00<?, ?it/s]"
      ]
     },
     "metadata": {},
     "output_type": "display_data"
    },
    {
     "name": "stdout",
     "output_type": "stream",
     "text": [
      "Train | Loss: 0.7327, Recall: 0.4298, Precision: 0.2555, F1: 0.3205\n",
      "Val   | Loss: 0.6108, Recall: 0.4023, Precision: 0.5709, F1: 0.4720\n",
      "-----------------------------\n",
      "Epoch 7\n"
     ]
    },
    {
     "data": {
      "application/vnd.jupyter.widget-view+json": {
       "model_id": "8152a581540c4dd4a2c654d2c6c45bbf",
       "version_major": 2,
       "version_minor": 0
      },
      "text/plain": [
       "Training:   0%|          | 0/25 [00:00<?, ?it/s]"
      ]
     },
     "metadata": {},
     "output_type": "display_data"
    },
    {
     "data": {
      "application/vnd.jupyter.widget-view+json": {
       "model_id": "e087782b21694b2e8b2176381da8dcb1",
       "version_major": 2,
       "version_minor": 0
      },
      "text/plain": [
       "Validation:   0%|          | 0/5 [00:00<?, ?it/s]"
      ]
     },
     "metadata": {},
     "output_type": "display_data"
    },
    {
     "name": "stdout",
     "output_type": "stream",
     "text": [
      "Train | Loss: 0.7123, Recall: 0.4659, Precision: 0.2996, F1: 0.3647\n",
      "Val   | Loss: 0.6498, Recall: 0.7728, Precision: 0.2845, F1: 0.4159\n",
      "-----------------------------\n",
      "Epoch 8\n"
     ]
    },
    {
     "data": {
      "application/vnd.jupyter.widget-view+json": {
       "model_id": "10388c5c8df34e2dbe56488b5b660f9c",
       "version_major": 2,
       "version_minor": 0
      },
      "text/plain": [
       "Training:   0%|          | 0/25 [00:00<?, ?it/s]"
      ]
     },
     "metadata": {},
     "output_type": "display_data"
    },
    {
     "data": {
      "application/vnd.jupyter.widget-view+json": {
       "model_id": "71e6175da2fa48a9af8b794ab5a48368",
       "version_major": 2,
       "version_minor": 0
      },
      "text/plain": [
       "Validation:   0%|          | 0/5 [00:00<?, ?it/s]"
      ]
     },
     "metadata": {},
     "output_type": "display_data"
    },
    {
     "name": "stdout",
     "output_type": "stream",
     "text": [
      "Train | Loss: 0.7178, Recall: 0.4626, Precision: 0.2705, F1: 0.3414\n",
      "Val   | Loss: 0.5517, Recall: 0.6093, Precision: 0.4237, F1: 0.4998\n",
      "-----------------------------\n",
      "Epoch 9\n"
     ]
    },
    {
     "data": {
      "application/vnd.jupyter.widget-view+json": {
       "model_id": "9b63bb3f11284469bbc278e450c5db19",
       "version_major": 2,
       "version_minor": 0
      },
      "text/plain": [
       "Training:   0%|          | 0/25 [00:00<?, ?it/s]"
      ]
     },
     "metadata": {},
     "output_type": "display_data"
    },
    {
     "data": {
      "application/vnd.jupyter.widget-view+json": {
       "model_id": "a2f4a4ea04844980bb101a9b7ba0bc65",
       "version_major": 2,
       "version_minor": 0
      },
      "text/plain": [
       "Validation:   0%|          | 0/5 [00:00<?, ?it/s]"
      ]
     },
     "metadata": {},
     "output_type": "display_data"
    },
    {
     "name": "stdout",
     "output_type": "stream",
     "text": [
      "Train | Loss: 0.7085, Recall: 0.4990, Precision: 0.2840, F1: 0.3620\n",
      "Val   | Loss: 0.6593, Recall: 0.3708, Precision: 0.5526, F1: 0.4438\n",
      "-----------------------------\n",
      "Epoch 10\n"
     ]
    },
    {
     "data": {
      "application/vnd.jupyter.widget-view+json": {
       "model_id": "268edaf5ce3343e2b22a46a206c5dfe8",
       "version_major": 2,
       "version_minor": 0
      },
      "text/plain": [
       "Training:   0%|          | 0/25 [00:00<?, ?it/s]"
      ]
     },
     "metadata": {},
     "output_type": "display_data"
    },
    {
     "data": {
      "application/vnd.jupyter.widget-view+json": {
       "model_id": "e3670eb398e1460d99e9bfde6299dd0d",
       "version_major": 2,
       "version_minor": 0
      },
      "text/plain": [
       "Validation:   0%|          | 0/5 [00:00<?, ?it/s]"
      ]
     },
     "metadata": {},
     "output_type": "display_data"
    },
    {
     "name": "stdout",
     "output_type": "stream",
     "text": [
      "Train | Loss: 0.6667, Recall: 0.4985, Precision: 0.3252, F1: 0.3937\n",
      "Val   | Loss: 0.5733, Recall: 0.4659, Precision: 0.5330, F1: 0.4972\n",
      "-----------------------------\n",
      "Epoch 11\n"
     ]
    },
    {
     "data": {
      "application/vnd.jupyter.widget-view+json": {
       "model_id": "c3ccf055988145bab42036b0dd8bd962",
       "version_major": 2,
       "version_minor": 0
      },
      "text/plain": [
       "Training:   0%|          | 0/25 [00:00<?, ?it/s]"
      ]
     },
     "metadata": {},
     "output_type": "display_data"
    },
    {
     "data": {
      "application/vnd.jupyter.widget-view+json": {
       "model_id": "eeae8205ddab4cd1a2dd7c1fb1d1fd56",
       "version_major": 2,
       "version_minor": 0
      },
      "text/plain": [
       "Validation:   0%|          | 0/5 [00:00<?, ?it/s]"
      ]
     },
     "metadata": {},
     "output_type": "display_data"
    },
    {
     "name": "stdout",
     "output_type": "stream",
     "text": [
      "Train | Loss: 0.7058, Recall: 0.4748, Precision: 0.2954, F1: 0.3642\n",
      "Val   | Loss: 0.5930, Recall: 0.6009, Precision: 0.3860, F1: 0.4700\n",
      "-----------------------------\n",
      "Epoch 12\n"
     ]
    },
    {
     "data": {
      "application/vnd.jupyter.widget-view+json": {
       "model_id": "ae3a281a4331456cb3096088f1773e6c",
       "version_major": 2,
       "version_minor": 0
      },
      "text/plain": [
       "Training:   0%|          | 0/25 [00:00<?, ?it/s]"
      ]
     },
     "metadata": {},
     "output_type": "display_data"
    },
    {
     "data": {
      "application/vnd.jupyter.widget-view+json": {
       "model_id": "9829912e67624dde864c0fe1cb3387c7",
       "version_major": 2,
       "version_minor": 0
      },
      "text/plain": [
       "Validation:   0%|          | 0/5 [00:00<?, ?it/s]"
      ]
     },
     "metadata": {},
     "output_type": "display_data"
    },
    {
     "name": "stdout",
     "output_type": "stream",
     "text": [
      "Train | Loss: 0.6574, Recall: 0.4714, Precision: 0.3608, F1: 0.4087\n",
      "Val   | Loss: 0.5481, Recall: 0.5838, Precision: 0.4888, F1: 0.5321\n",
      "-----------------------------\n",
      "Epoch 13\n"
     ]
    },
    {
     "data": {
      "application/vnd.jupyter.widget-view+json": {
       "model_id": "af693be3aa054cf78c0db358dc91e934",
       "version_major": 2,
       "version_minor": 0
      },
      "text/plain": [
       "Training:   0%|          | 0/25 [00:00<?, ?it/s]"
      ]
     },
     "metadata": {},
     "output_type": "display_data"
    },
    {
     "data": {
      "application/vnd.jupyter.widget-view+json": {
       "model_id": "16c72696d29d4c2fb332c42fd8872a9f",
       "version_major": 2,
       "version_minor": 0
      },
      "text/plain": [
       "Validation:   0%|          | 0/5 [00:00<?, ?it/s]"
      ]
     },
     "metadata": {},
     "output_type": "display_data"
    },
    {
     "name": "stdout",
     "output_type": "stream",
     "text": [
      "Train | Loss: 0.6637, Recall: 0.4958, Precision: 0.3464, F1: 0.4079\n",
      "Val   | Loss: 0.4982, Recall: 0.6411, Precision: 0.4361, F1: 0.5191\n",
      "-----------------------------\n",
      "Epoch 14\n"
     ]
    },
    {
     "data": {
      "application/vnd.jupyter.widget-view+json": {
       "model_id": "a8203f7da502474d94e22457f67dc168",
       "version_major": 2,
       "version_minor": 0
      },
      "text/plain": [
       "Training:   0%|          | 0/25 [00:00<?, ?it/s]"
      ]
     },
     "metadata": {},
     "output_type": "display_data"
    },
    {
     "data": {
      "application/vnd.jupyter.widget-view+json": {
       "model_id": "e453871a14dc4f409927c60f8657e0bd",
       "version_major": 2,
       "version_minor": 0
      },
      "text/plain": [
       "Validation:   0%|          | 0/5 [00:00<?, ?it/s]"
      ]
     },
     "metadata": {},
     "output_type": "display_data"
    },
    {
     "name": "stdout",
     "output_type": "stream",
     "text": [
      "Train | Loss: 0.6444, Recall: 0.5173, Precision: 0.3834, F1: 0.4404\n",
      "Val   | Loss: 0.5128, Recall: 0.6627, Precision: 0.4894, F1: 0.5630\n",
      "-----------------------------\n",
      "Epoch 15\n"
     ]
    },
    {
     "data": {
      "application/vnd.jupyter.widget-view+json": {
       "model_id": "9e601140dd44494ead9fcee7290c2295",
       "version_major": 2,
       "version_minor": 0
      },
      "text/plain": [
       "Training:   0%|          | 0/25 [00:00<?, ?it/s]"
      ]
     },
     "metadata": {},
     "output_type": "display_data"
    },
    {
     "data": {
      "application/vnd.jupyter.widget-view+json": {
       "model_id": "78bbabc659ef48109e993f6d3cce67ac",
       "version_major": 2,
       "version_minor": 0
      },
      "text/plain": [
       "Validation:   0%|          | 0/5 [00:00<?, ?it/s]"
      ]
     },
     "metadata": {},
     "output_type": "display_data"
    },
    {
     "name": "stdout",
     "output_type": "stream",
     "text": [
      "Train | Loss: 0.6571, Recall: 0.4798, Precision: 0.3880, F1: 0.4290\n",
      "Val   | Loss: 0.5370, Recall: 0.6702, Precision: 0.4425, F1: 0.5331\n",
      "-----------------------------\n",
      "Epoch 16\n"
     ]
    },
    {
     "data": {
      "application/vnd.jupyter.widget-view+json": {
       "model_id": "ce74c89cf425413e9a1d2ae669e1fca5",
       "version_major": 2,
       "version_minor": 0
      },
      "text/plain": [
       "Training:   0%|          | 0/25 [00:00<?, ?it/s]"
      ]
     },
     "metadata": {},
     "output_type": "display_data"
    },
    {
     "data": {
      "application/vnd.jupyter.widget-view+json": {
       "model_id": "26c5a96908494376b30d1dc19aafd940",
       "version_major": 2,
       "version_minor": 0
      },
      "text/plain": [
       "Validation:   0%|          | 0/5 [00:00<?, ?it/s]"
      ]
     },
     "metadata": {},
     "output_type": "display_data"
    },
    {
     "name": "stdout",
     "output_type": "stream",
     "text": [
      "Train | Loss: 0.6510, Recall: 0.5224, Precision: 0.3540, F1: 0.4220\n",
      "Val   | Loss: 0.5768, Recall: 0.7584, Precision: 0.3663, F1: 0.4940\n",
      "-----------------------------\n",
      "Epoch 17\n"
     ]
    },
    {
     "data": {
      "application/vnd.jupyter.widget-view+json": {
       "model_id": "54d39eee3aa442dfae0eca7ac3122e0c",
       "version_major": 2,
       "version_minor": 0
      },
      "text/plain": [
       "Training:   0%|          | 0/25 [00:00<?, ?it/s]"
      ]
     },
     "metadata": {},
     "output_type": "display_data"
    },
    {
     "data": {
      "application/vnd.jupyter.widget-view+json": {
       "model_id": "8543ab4212724b6e9c5b2824862ec0ed",
       "version_major": 2,
       "version_minor": 0
      },
      "text/plain": [
       "Validation:   0%|          | 0/5 [00:00<?, ?it/s]"
      ]
     },
     "metadata": {},
     "output_type": "display_data"
    },
    {
     "name": "stdout",
     "output_type": "stream",
     "text": [
      "Train | Loss: 0.6331, Recall: 0.5502, Precision: 0.3796, F1: 0.4492\n",
      "Val   | Loss: 0.5505, Recall: 0.6743, Precision: 0.4353, F1: 0.5291\n",
      "-----------------------------\n",
      "Epoch 18\n"
     ]
    },
    {
     "data": {
      "application/vnd.jupyter.widget-view+json": {
       "model_id": "60fab97733db4acbbe25ebacc1c1a51e",
       "version_major": 2,
       "version_minor": 0
      },
      "text/plain": [
       "Training:   0%|          | 0/25 [00:00<?, ?it/s]"
      ]
     },
     "metadata": {},
     "output_type": "display_data"
    },
    {
     "data": {
      "application/vnd.jupyter.widget-view+json": {
       "model_id": "ceaaea4f97634d3cbc525e159bfdb318",
       "version_major": 2,
       "version_minor": 0
      },
      "text/plain": [
       "Validation:   0%|          | 0/5 [00:00<?, ?it/s]"
      ]
     },
     "metadata": {},
     "output_type": "display_data"
    },
    {
     "name": "stdout",
     "output_type": "stream",
     "text": [
      "Train | Loss: 0.6228, Recall: 0.5079, Precision: 0.4176, F1: 0.4583\n",
      "Val   | Loss: 0.5361, Recall: 0.6698, Precision: 0.4164, F1: 0.5135\n",
      "-----------------------------\n",
      "Epoch 19\n"
     ]
    },
    {
     "data": {
      "application/vnd.jupyter.widget-view+json": {
       "model_id": "4e4a96f40dc444fab24627a382ec81e2",
       "version_major": 2,
       "version_minor": 0
      },
      "text/plain": [
       "Training:   0%|          | 0/25 [00:00<?, ?it/s]"
      ]
     },
     "metadata": {},
     "output_type": "display_data"
    },
    {
     "data": {
      "application/vnd.jupyter.widget-view+json": {
       "model_id": "d2b2cc0d02e9495ba76809560ab0dab9",
       "version_major": 2,
       "version_minor": 0
      },
      "text/plain": [
       "Validation:   0%|          | 0/5 [00:00<?, ?it/s]"
      ]
     },
     "metadata": {},
     "output_type": "display_data"
    },
    {
     "name": "stdout",
     "output_type": "stream",
     "text": [
      "Train | Loss: 0.6115, Recall: 0.5518, Precision: 0.4042, F1: 0.4666\n",
      "Val   | Loss: 0.5062, Recall: 0.6585, Precision: 0.4762, F1: 0.5527\n",
      "-----------------------------\n",
      "Epoch 20\n"
     ]
    },
    {
     "data": {
      "application/vnd.jupyter.widget-view+json": {
       "model_id": "4bd57b63db3048bfa636e350a3286bef",
       "version_major": 2,
       "version_minor": 0
      },
      "text/plain": [
       "Training:   0%|          | 0/25 [00:00<?, ?it/s]"
      ]
     },
     "metadata": {},
     "output_type": "display_data"
    },
    {
     "data": {
      "application/vnd.jupyter.widget-view+json": {
       "model_id": "bd5f15ce889442439381e31c1c6cef77",
       "version_major": 2,
       "version_minor": 0
      },
      "text/plain": [
       "Validation:   0%|          | 0/5 [00:00<?, ?it/s]"
      ]
     },
     "metadata": {},
     "output_type": "display_data"
    },
    {
     "name": "stdout",
     "output_type": "stream",
     "text": [
      "Train | Loss: 0.6388, Recall: 0.5014, Precision: 0.4162, F1: 0.4549\n",
      "Val   | Loss: 0.5703, Recall: 0.5272, Precision: 0.5037, F1: 0.5152\n",
      "-----------------------------\n",
      "Epoch 21\n"
     ]
    },
    {
     "data": {
      "application/vnd.jupyter.widget-view+json": {
       "model_id": "641d607a52ef40a2b184d4b554919801",
       "version_major": 2,
       "version_minor": 0
      },
      "text/plain": [
       "Training:   0%|          | 0/25 [00:00<?, ?it/s]"
      ]
     },
     "metadata": {},
     "output_type": "display_data"
    },
    {
     "data": {
      "application/vnd.jupyter.widget-view+json": {
       "model_id": "0e8d0f0b783f4074bb1cc923f4493633",
       "version_major": 2,
       "version_minor": 0
      },
      "text/plain": [
       "Validation:   0%|          | 0/5 [00:00<?, ?it/s]"
      ]
     },
     "metadata": {},
     "output_type": "display_data"
    },
    {
     "name": "stdout",
     "output_type": "stream",
     "text": [
      "Train | Loss: 0.6434, Recall: 0.5133, Precision: 0.4073, F1: 0.4542\n",
      "Val   | Loss: 0.5059, Recall: 0.6616, Precision: 0.5136, F1: 0.5783\n",
      "-----------------------------\n",
      "Epoch 22\n"
     ]
    },
    {
     "data": {
      "application/vnd.jupyter.widget-view+json": {
       "model_id": "3b79176d5c5047d083e65b3aa19e9035",
       "version_major": 2,
       "version_minor": 0
      },
      "text/plain": [
       "Training:   0%|          | 0/25 [00:00<?, ?it/s]"
      ]
     },
     "metadata": {},
     "output_type": "display_data"
    },
    {
     "data": {
      "application/vnd.jupyter.widget-view+json": {
       "model_id": "efd1f34cd7914e00938297ed08463d30",
       "version_major": 2,
       "version_minor": 0
      },
      "text/plain": [
       "Validation:   0%|          | 0/5 [00:00<?, ?it/s]"
      ]
     },
     "metadata": {},
     "output_type": "display_data"
    },
    {
     "name": "stdout",
     "output_type": "stream",
     "text": [
      "Train | Loss: 0.6265, Recall: 0.5565, Precision: 0.3945, F1: 0.4617\n",
      "Val   | Loss: 0.5544, Recall: 0.6786, Precision: 0.4330, F1: 0.5287\n",
      "-----------------------------\n",
      "Epoch 23\n"
     ]
    },
    {
     "data": {
      "application/vnd.jupyter.widget-view+json": {
       "model_id": "063a4cf81075496fa61b5be3e83b9d9f",
       "version_major": 2,
       "version_minor": 0
      },
      "text/plain": [
       "Training:   0%|          | 0/25 [00:00<?, ?it/s]"
      ]
     },
     "metadata": {},
     "output_type": "display_data"
    },
    {
     "data": {
      "application/vnd.jupyter.widget-view+json": {
       "model_id": "bbafb1dcbfa04bdc889871efab8c4caf",
       "version_major": 2,
       "version_minor": 0
      },
      "text/plain": [
       "Validation:   0%|          | 0/5 [00:00<?, ?it/s]"
      ]
     },
     "metadata": {},
     "output_type": "display_data"
    },
    {
     "name": "stdout",
     "output_type": "stream",
     "text": [
      "Train | Loss: 0.6460, Recall: 0.5306, Precision: 0.3922, F1: 0.4510\n",
      "Val   | Loss: 0.4820, Recall: 0.6011, Precision: 0.5371, F1: 0.5673\n",
      "-----------------------------\n",
      "Epoch 24\n"
     ]
    },
    {
     "data": {
      "application/vnd.jupyter.widget-view+json": {
       "model_id": "489e6ff3402745abbeae2b0e66185e12",
       "version_major": 2,
       "version_minor": 0
      },
      "text/plain": [
       "Training:   0%|          | 0/25 [00:00<?, ?it/s]"
      ]
     },
     "metadata": {},
     "output_type": "display_data"
    },
    {
     "data": {
      "application/vnd.jupyter.widget-view+json": {
       "model_id": "5120df605a93472bbdcc9ee332245276",
       "version_major": 2,
       "version_minor": 0
      },
      "text/plain": [
       "Validation:   0%|          | 0/5 [00:00<?, ?it/s]"
      ]
     },
     "metadata": {},
     "output_type": "display_data"
    },
    {
     "name": "stdout",
     "output_type": "stream",
     "text": [
      "Train | Loss: 0.6175, Recall: 0.5311, Precision: 0.4064, F1: 0.4604\n",
      "Val   | Loss: 0.5137, Recall: 0.6380, Precision: 0.4771, F1: 0.5459\n",
      "-----------------------------\n",
      "Epoch 25\n"
     ]
    },
    {
     "data": {
      "application/vnd.jupyter.widget-view+json": {
       "model_id": "d23dc4f8e3ef42cba1dda50b07da6cad",
       "version_major": 2,
       "version_minor": 0
      },
      "text/plain": [
       "Training:   0%|          | 0/25 [00:00<?, ?it/s]"
      ]
     },
     "metadata": {},
     "output_type": "display_data"
    },
    {
     "data": {
      "application/vnd.jupyter.widget-view+json": {
       "model_id": "5c0905b0a8624003a706c21813925c0f",
       "version_major": 2,
       "version_minor": 0
      },
      "text/plain": [
       "Validation:   0%|          | 0/5 [00:00<?, ?it/s]"
      ]
     },
     "metadata": {},
     "output_type": "display_data"
    },
    {
     "name": "stdout",
     "output_type": "stream",
     "text": [
      "Train | Loss: 0.6263, Recall: 0.5443, Precision: 0.3963, F1: 0.4586\n",
      "Val   | Loss: 0.4762, Recall: 0.6132, Precision: 0.5387, F1: 0.5735\n",
      "-----------------------------\n",
      "Epoch 26\n"
     ]
    },
    {
     "data": {
      "application/vnd.jupyter.widget-view+json": {
       "model_id": "6c18e46135d54748b254fd87e7bc6c41",
       "version_major": 2,
       "version_minor": 0
      },
      "text/plain": [
       "Training:   0%|          | 0/25 [00:00<?, ?it/s]"
      ]
     },
     "metadata": {},
     "output_type": "display_data"
    },
    {
     "data": {
      "application/vnd.jupyter.widget-view+json": {
       "model_id": "2d867c8c06f4410bb0a2cc0a3a1732b0",
       "version_major": 2,
       "version_minor": 0
      },
      "text/plain": [
       "Validation:   0%|          | 0/5 [00:00<?, ?it/s]"
      ]
     },
     "metadata": {},
     "output_type": "display_data"
    },
    {
     "name": "stdout",
     "output_type": "stream",
     "text": [
      "Train | Loss: 0.6394, Recall: 0.5303, Precision: 0.3755, F1: 0.4397\n",
      "Val   | Loss: 0.5726, Recall: 0.6400, Precision: 0.3805, F1: 0.4773\n",
      "-----------------------------\n",
      "Epoch 27\n"
     ]
    },
    {
     "data": {
      "application/vnd.jupyter.widget-view+json": {
       "model_id": "5c6710e9a9704083a747eb544c51d6b9",
       "version_major": 2,
       "version_minor": 0
      },
      "text/plain": [
       "Training:   0%|          | 0/25 [00:00<?, ?it/s]"
      ]
     },
     "metadata": {},
     "output_type": "display_data"
    },
    {
     "data": {
      "application/vnd.jupyter.widget-view+json": {
       "model_id": "f1cddf66443c415abb93cafd75b5d4fd",
       "version_major": 2,
       "version_minor": 0
      },
      "text/plain": [
       "Validation:   0%|          | 0/5 [00:00<?, ?it/s]"
      ]
     },
     "metadata": {},
     "output_type": "display_data"
    },
    {
     "name": "stdout",
     "output_type": "stream",
     "text": [
      "Train | Loss: 0.6275, Recall: 0.5407, Precision: 0.3903, F1: 0.4534\n",
      "Val   | Loss: 0.4965, Recall: 0.6908, Precision: 0.4753, F1: 0.5632\n",
      "-----------------------------\n",
      "Epoch 28\n"
     ]
    },
    {
     "data": {
      "application/vnd.jupyter.widget-view+json": {
       "model_id": "b5fa69990bb3482bb60c80f3cb1c8c30",
       "version_major": 2,
       "version_minor": 0
      },
      "text/plain": [
       "Training:   0%|          | 0/25 [00:00<?, ?it/s]"
      ]
     },
     "metadata": {},
     "output_type": "display_data"
    },
    {
     "data": {
      "application/vnd.jupyter.widget-view+json": {
       "model_id": "b1f237dbb0164240b67f6a11424003ec",
       "version_major": 2,
       "version_minor": 0
      },
      "text/plain": [
       "Validation:   0%|          | 0/5 [00:00<?, ?it/s]"
      ]
     },
     "metadata": {},
     "output_type": "display_data"
    },
    {
     "name": "stdout",
     "output_type": "stream",
     "text": [
      "Train | Loss: 0.6351, Recall: 0.5633, Precision: 0.3699, F1: 0.4465\n",
      "Val   | Loss: 0.4901, Recall: 0.6462, Precision: 0.5023, F1: 0.5652\n",
      "-----------------------------\n",
      "Epoch 29\n"
     ]
    },
    {
     "data": {
      "application/vnd.jupyter.widget-view+json": {
       "model_id": "371b5d8724c44a6da1299d7c3972b06b",
       "version_major": 2,
       "version_minor": 0
      },
      "text/plain": [
       "Training:   0%|          | 0/25 [00:00<?, ?it/s]"
      ]
     },
     "metadata": {},
     "output_type": "display_data"
    },
    {
     "data": {
      "application/vnd.jupyter.widget-view+json": {
       "model_id": "55245a74f8044492b498b71f8bcef351",
       "version_major": 2,
       "version_minor": 0
      },
      "text/plain": [
       "Validation:   0%|          | 0/5 [00:00<?, ?it/s]"
      ]
     },
     "metadata": {},
     "output_type": "display_data"
    },
    {
     "name": "stdout",
     "output_type": "stream",
     "text": [
      "Train | Loss: 0.6192, Recall: 0.5416, Precision: 0.4293, F1: 0.4790\n",
      "Val   | Loss: 0.5296, Recall: 0.5674, Precision: 0.4967, F1: 0.5297\n",
      "-----------------------------\n",
      "Epoch 30\n"
     ]
    },
    {
     "data": {
      "application/vnd.jupyter.widget-view+json": {
       "model_id": "8f7d53acc7f14bbd8d912dee629e5360",
       "version_major": 2,
       "version_minor": 0
      },
      "text/plain": [
       "Training:   0%|          | 0/25 [00:00<?, ?it/s]"
      ]
     },
     "metadata": {},
     "output_type": "display_data"
    },
    {
     "data": {
      "application/vnd.jupyter.widget-view+json": {
       "model_id": "8ea28600701742a4af21ef5810648414",
       "version_major": 2,
       "version_minor": 0
      },
      "text/plain": [
       "Validation:   0%|          | 0/5 [00:00<?, ?it/s]"
      ]
     },
     "metadata": {},
     "output_type": "display_data"
    },
    {
     "name": "stdout",
     "output_type": "stream",
     "text": [
      "Train | Loss: 0.6165, Recall: 0.5367, Precision: 0.3917, F1: 0.4528\n",
      "Val   | Loss: 0.4898, Recall: 0.6638, Precision: 0.4617, F1: 0.5446\n",
      "-----------------------------\n",
      "Epoch 31\n"
     ]
    },
    {
     "data": {
      "application/vnd.jupyter.widget-view+json": {
       "model_id": "1f8fc8ed95ee44a2950d4193b10eff24",
       "version_major": 2,
       "version_minor": 0
      },
      "text/plain": [
       "Training:   0%|          | 0/25 [00:00<?, ?it/s]"
      ]
     },
     "metadata": {},
     "output_type": "display_data"
    },
    {
     "data": {
      "application/vnd.jupyter.widget-view+json": {
       "model_id": "f4620fe7a0384398a9ede06aad441d0c",
       "version_major": 2,
       "version_minor": 0
      },
      "text/plain": [
       "Validation:   0%|          | 0/5 [00:00<?, ?it/s]"
      ]
     },
     "metadata": {},
     "output_type": "display_data"
    },
    {
     "name": "stdout",
     "output_type": "stream",
     "text": [
      "Train | Loss: 0.6175, Recall: 0.5479, Precision: 0.4008, F1: 0.4629\n",
      "Val   | Loss: 0.4783, Recall: 0.6085, Precision: 0.5466, F1: 0.5759\n",
      "-----------------------------\n",
      "Epoch 32\n"
     ]
    },
    {
     "data": {
      "application/vnd.jupyter.widget-view+json": {
       "model_id": "b42c35b07859444485fb1acd62f059c7",
       "version_major": 2,
       "version_minor": 0
      },
      "text/plain": [
       "Training:   0%|          | 0/25 [00:00<?, ?it/s]"
      ]
     },
     "metadata": {},
     "output_type": "display_data"
    },
    {
     "data": {
      "application/vnd.jupyter.widget-view+json": {
       "model_id": "58bac06c3db04b0f9001152d4480cf54",
       "version_major": 2,
       "version_minor": 0
      },
      "text/plain": [
       "Validation:   0%|          | 0/5 [00:00<?, ?it/s]"
      ]
     },
     "metadata": {},
     "output_type": "display_data"
    },
    {
     "name": "stdout",
     "output_type": "stream",
     "text": [
      "Train | Loss: 0.6460, Recall: 0.5338, Precision: 0.3975, F1: 0.4557\n",
      "Val   | Loss: 0.5225, Recall: 0.7074, Precision: 0.4620, F1: 0.5590\n",
      "-----------------------------\n",
      "Epoch 33\n"
     ]
    },
    {
     "data": {
      "application/vnd.jupyter.widget-view+json": {
       "model_id": "2debcc9b7ee8462e97a21cc8d4f92153",
       "version_major": 2,
       "version_minor": 0
      },
      "text/plain": [
       "Training:   0%|          | 0/25 [00:00<?, ?it/s]"
      ]
     },
     "metadata": {},
     "output_type": "display_data"
    },
    {
     "data": {
      "application/vnd.jupyter.widget-view+json": {
       "model_id": "f1b073b621f14ff6ad44647422c0cef3",
       "version_major": 2,
       "version_minor": 0
      },
      "text/plain": [
       "Validation:   0%|          | 0/5 [00:00<?, ?it/s]"
      ]
     },
     "metadata": {},
     "output_type": "display_data"
    },
    {
     "name": "stdout",
     "output_type": "stream",
     "text": [
      "Train | Loss: 0.6269, Recall: 0.5308, Precision: 0.4218, F1: 0.4701\n",
      "Val   | Loss: 0.4974, Recall: 0.6556, Precision: 0.4611, F1: 0.5414\n",
      "-----------------------------\n",
      "Epoch 34\n"
     ]
    },
    {
     "data": {
      "application/vnd.jupyter.widget-view+json": {
       "model_id": "aa407e8c5f534ff7ac8e0b76f3bdd9d8",
       "version_major": 2,
       "version_minor": 0
      },
      "text/plain": [
       "Training:   0%|          | 0/25 [00:00<?, ?it/s]"
      ]
     },
     "metadata": {},
     "output_type": "display_data"
    },
    {
     "data": {
      "application/vnd.jupyter.widget-view+json": {
       "model_id": "052ce47bbb284adaa34354bc3be173af",
       "version_major": 2,
       "version_minor": 0
      },
      "text/plain": [
       "Validation:   0%|          | 0/5 [00:00<?, ?it/s]"
      ]
     },
     "metadata": {},
     "output_type": "display_data"
    },
    {
     "name": "stdout",
     "output_type": "stream",
     "text": [
      "Train | Loss: 0.6157, Recall: 0.5597, Precision: 0.4208, F1: 0.4804\n",
      "Val   | Loss: 0.4755, Recall: 0.6484, Precision: 0.5050, F1: 0.5678\n",
      "-----------------------------\n",
      "Epoch 35\n"
     ]
    },
    {
     "data": {
      "application/vnd.jupyter.widget-view+json": {
       "model_id": "724ab085d1604585afeaceaad0813374",
       "version_major": 2,
       "version_minor": 0
      },
      "text/plain": [
       "Training:   0%|          | 0/25 [00:00<?, ?it/s]"
      ]
     },
     "metadata": {},
     "output_type": "display_data"
    },
    {
     "data": {
      "application/vnd.jupyter.widget-view+json": {
       "model_id": "b9a783d720964111a5a2e43b995ef8c3",
       "version_major": 2,
       "version_minor": 0
      },
      "text/plain": [
       "Validation:   0%|          | 0/5 [00:00<?, ?it/s]"
      ]
     },
     "metadata": {},
     "output_type": "display_data"
    },
    {
     "name": "stdout",
     "output_type": "stream",
     "text": [
      "Train | Loss: 0.6216, Recall: 0.5510, Precision: 0.4087, F1: 0.4693\n",
      "Val   | Loss: 0.4818, Recall: 0.6869, Precision: 0.4900, F1: 0.5720\n",
      "-----------------------------\n",
      "Epoch 36\n"
     ]
    },
    {
     "data": {
      "application/vnd.jupyter.widget-view+json": {
       "model_id": "89d2d3ac680445a78c01fcba4f2ff3b5",
       "version_major": 2,
       "version_minor": 0
      },
      "text/plain": [
       "Training:   0%|          | 0/25 [00:00<?, ?it/s]"
      ]
     },
     "metadata": {},
     "output_type": "display_data"
    },
    {
     "data": {
      "application/vnd.jupyter.widget-view+json": {
       "model_id": "9e538de3ee174ef0ab4a8a656852070b",
       "version_major": 2,
       "version_minor": 0
      },
      "text/plain": [
       "Validation:   0%|          | 0/5 [00:00<?, ?it/s]"
      ]
     },
     "metadata": {},
     "output_type": "display_data"
    },
    {
     "name": "stdout",
     "output_type": "stream",
     "text": [
      "Train | Loss: 0.6143, Recall: 0.5653, Precision: 0.4261, F1: 0.4859\n",
      "Val   | Loss: 0.4633, Recall: 0.6522, Precision: 0.5161, F1: 0.5763\n",
      "-----------------------------\n",
      "Epoch 37\n"
     ]
    },
    {
     "data": {
      "application/vnd.jupyter.widget-view+json": {
       "model_id": "5f97be4c62d84339bb6a0cb34643785e",
       "version_major": 2,
       "version_minor": 0
      },
      "text/plain": [
       "Training:   0%|          | 0/25 [00:00<?, ?it/s]"
      ]
     },
     "metadata": {},
     "output_type": "display_data"
    },
    {
     "data": {
      "application/vnd.jupyter.widget-view+json": {
       "model_id": "84948bf6d81140279a3372124dc87fc1",
       "version_major": 2,
       "version_minor": 0
      },
      "text/plain": [
       "Validation:   0%|          | 0/5 [00:00<?, ?it/s]"
      ]
     },
     "metadata": {},
     "output_type": "display_data"
    },
    {
     "name": "stdout",
     "output_type": "stream",
     "text": [
      "Train | Loss: 0.5903, Recall: 0.5454, Precision: 0.4518, F1: 0.4942\n",
      "Val   | Loss: 0.4797, Recall: 0.5385, Precision: 0.6001, F1: 0.5677\n",
      "-----------------------------\n",
      "Epoch 38\n"
     ]
    },
    {
     "data": {
      "application/vnd.jupyter.widget-view+json": {
       "model_id": "7951b89eb1134559989ada7ffdce0e96",
       "version_major": 2,
       "version_minor": 0
      },
      "text/plain": [
       "Training:   0%|          | 0/25 [00:00<?, ?it/s]"
      ]
     },
     "metadata": {},
     "output_type": "display_data"
    },
    {
     "data": {
      "application/vnd.jupyter.widget-view+json": {
       "model_id": "2ee22f9bffd0410a93a1f61c8db6ba2a",
       "version_major": 2,
       "version_minor": 0
      },
      "text/plain": [
       "Validation:   0%|          | 0/5 [00:00<?, ?it/s]"
      ]
     },
     "metadata": {},
     "output_type": "display_data"
    },
    {
     "name": "stdout",
     "output_type": "stream",
     "text": [
      "Train | Loss: 0.6242, Recall: 0.5529, Precision: 0.4080, F1: 0.4695\n",
      "Val   | Loss: 0.5381, Recall: 0.7399, Precision: 0.3945, F1: 0.5146\n",
      "-----------------------------\n",
      "Epoch 39\n"
     ]
    },
    {
     "data": {
      "application/vnd.jupyter.widget-view+json": {
       "model_id": "099422ee4d204fe18771c32a1dcf54eb",
       "version_major": 2,
       "version_minor": 0
      },
      "text/plain": [
       "Training:   0%|          | 0/25 [00:00<?, ?it/s]"
      ]
     },
     "metadata": {},
     "output_type": "display_data"
    },
    {
     "data": {
      "application/vnd.jupyter.widget-view+json": {
       "model_id": "486a9b6d2f8d414596eab09581db419b",
       "version_major": 2,
       "version_minor": 0
      },
      "text/plain": [
       "Validation:   0%|          | 0/5 [00:00<?, ?it/s]"
      ]
     },
     "metadata": {},
     "output_type": "display_data"
    },
    {
     "name": "stdout",
     "output_type": "stream",
     "text": [
      "Train | Loss: 0.6131, Recall: 0.5606, Precision: 0.4190, F1: 0.4796\n",
      "Val   | Loss: 0.5427, Recall: 0.7442, Precision: 0.3818, F1: 0.5047\n",
      "-----------------------------\n",
      "Epoch 40\n"
     ]
    },
    {
     "data": {
      "application/vnd.jupyter.widget-view+json": {
       "model_id": "4bb86442fe4d4eb59978ec62436b7ee8",
       "version_major": 2,
       "version_minor": 0
      },
      "text/plain": [
       "Training:   0%|          | 0/25 [00:00<?, ?it/s]"
      ]
     },
     "metadata": {},
     "output_type": "display_data"
    },
    {
     "data": {
      "application/vnd.jupyter.widget-view+json": {
       "model_id": "2ce4c6ba577044e58ad66137383740ca",
       "version_major": 2,
       "version_minor": 0
      },
      "text/plain": [
       "Validation:   0%|          | 0/5 [00:00<?, ?it/s]"
      ]
     },
     "metadata": {},
     "output_type": "display_data"
    },
    {
     "name": "stdout",
     "output_type": "stream",
     "text": [
      "Train | Loss: 0.6292, Recall: 0.5517, Precision: 0.4042, F1: 0.4666\n",
      "Val   | Loss: 0.5008, Recall: 0.6112, Precision: 0.5100, F1: 0.5560\n",
      "-----------------------------\n",
      "Epoch 41\n"
     ]
    },
    {
     "data": {
      "application/vnd.jupyter.widget-view+json": {
       "model_id": "e9f363a48562493ba884a60122e333b4",
       "version_major": 2,
       "version_minor": 0
      },
      "text/plain": [
       "Training:   0%|          | 0/25 [00:00<?, ?it/s]"
      ]
     },
     "metadata": {},
     "output_type": "display_data"
    },
    {
     "data": {
      "application/vnd.jupyter.widget-view+json": {
       "model_id": "7f638deb5c8f440db76ab127cdd73ec0",
       "version_major": 2,
       "version_minor": 0
      },
      "text/plain": [
       "Validation:   0%|          | 0/5 [00:00<?, ?it/s]"
      ]
     },
     "metadata": {},
     "output_type": "display_data"
    },
    {
     "name": "stdout",
     "output_type": "stream",
     "text": [
      "Train | Loss: 0.5957, Recall: 0.5653, Precision: 0.4386, F1: 0.4940\n",
      "Val   | Loss: 0.5012, Recall: 0.5920, Precision: 0.5190, F1: 0.5531\n",
      "-----------------------------\n",
      "Epoch 42\n"
     ]
    },
    {
     "data": {
      "application/vnd.jupyter.widget-view+json": {
       "model_id": "f7b987dddc96469d9f907365263960f6",
       "version_major": 2,
       "version_minor": 0
      },
      "text/plain": [
       "Training:   0%|          | 0/25 [00:00<?, ?it/s]"
      ]
     },
     "metadata": {},
     "output_type": "display_data"
    },
    {
     "data": {
      "application/vnd.jupyter.widget-view+json": {
       "model_id": "1a9cbb9ccd184c37b53afcf840ac1e14",
       "version_major": 2,
       "version_minor": 0
      },
      "text/plain": [
       "Validation:   0%|          | 0/5 [00:00<?, ?it/s]"
      ]
     },
     "metadata": {},
     "output_type": "display_data"
    },
    {
     "name": "stdout",
     "output_type": "stream",
     "text": [
      "Train | Loss: 0.6236, Recall: 0.5379, Precision: 0.4407, F1: 0.4845\n",
      "Val   | Loss: 0.4974, Recall: 0.4734, Precision: 0.5926, F1: 0.5263\n",
      "-----------------------------\n",
      "Epoch 43\n"
     ]
    },
    {
     "data": {
      "application/vnd.jupyter.widget-view+json": {
       "model_id": "becb5082c70845beb64f2a087aed512f",
       "version_major": 2,
       "version_minor": 0
      },
      "text/plain": [
       "Training:   0%|          | 0/25 [00:00<?, ?it/s]"
      ]
     },
     "metadata": {},
     "output_type": "display_data"
    },
    {
     "data": {
      "application/vnd.jupyter.widget-view+json": {
       "model_id": "0312f5f911394529b59ed6095c7a3648",
       "version_major": 2,
       "version_minor": 0
      },
      "text/plain": [
       "Validation:   0%|          | 0/5 [00:00<?, ?it/s]"
      ]
     },
     "metadata": {},
     "output_type": "display_data"
    },
    {
     "name": "stdout",
     "output_type": "stream",
     "text": [
      "Train | Loss: 0.6040, Recall: 0.5179, Precision: 0.4422, F1: 0.4771\n",
      "Val   | Loss: 0.4895, Recall: 0.6879, Precision: 0.4954, F1: 0.5760\n",
      "-----------------------------\n",
      "Epoch 44\n"
     ]
    },
    {
     "data": {
      "application/vnd.jupyter.widget-view+json": {
       "model_id": "fce3a3bd678a463497fa4456b8a6dc8a",
       "version_major": 2,
       "version_minor": 0
      },
      "text/plain": [
       "Training:   0%|          | 0/25 [00:00<?, ?it/s]"
      ]
     },
     "metadata": {},
     "output_type": "display_data"
    },
    {
     "data": {
      "application/vnd.jupyter.widget-view+json": {
       "model_id": "ce7de49802844530bc8ad1ff11bb4d02",
       "version_major": 2,
       "version_minor": 0
      },
      "text/plain": [
       "Validation:   0%|          | 0/5 [00:00<?, ?it/s]"
      ]
     },
     "metadata": {},
     "output_type": "display_data"
    },
    {
     "name": "stdout",
     "output_type": "stream",
     "text": [
      "Train | Loss: 0.6017, Recall: 0.5463, Precision: 0.4361, F1: 0.4850\n",
      "Val   | Loss: 0.5141, Recall: 0.4996, Precision: 0.6647, F1: 0.5704\n",
      "-----------------------------\n",
      "Epoch 45\n"
     ]
    },
    {
     "data": {
      "application/vnd.jupyter.widget-view+json": {
       "model_id": "f1e09edbe9ce4dd9a68530ed76991e6d",
       "version_major": 2,
       "version_minor": 0
      },
      "text/plain": [
       "Training:   0%|          | 0/25 [00:00<?, ?it/s]"
      ]
     },
     "metadata": {},
     "output_type": "display_data"
    },
    {
     "data": {
      "application/vnd.jupyter.widget-view+json": {
       "model_id": "7e3c14707afe41aa9a1ed9b0eb38ab1a",
       "version_major": 2,
       "version_minor": 0
      },
      "text/plain": [
       "Validation:   0%|          | 0/5 [00:00<?, ?it/s]"
      ]
     },
     "metadata": {},
     "output_type": "display_data"
    },
    {
     "name": "stdout",
     "output_type": "stream",
     "text": [
      "Train | Loss: 0.5885, Recall: 0.5312, Precision: 0.4355, F1: 0.4786\n",
      "Val   | Loss: 0.4893, Recall: 0.7241, Precision: 0.4170, F1: 0.5292\n",
      "-----------------------------\n",
      "Epoch 46\n"
     ]
    },
    {
     "data": {
      "application/vnd.jupyter.widget-view+json": {
       "model_id": "81dbf262989e445eabd6e46e6c38e1f4",
       "version_major": 2,
       "version_minor": 0
      },
      "text/plain": [
       "Training:   0%|          | 0/25 [00:00<?, ?it/s]"
      ]
     },
     "metadata": {},
     "output_type": "display_data"
    },
    {
     "data": {
      "application/vnd.jupyter.widget-view+json": {
       "model_id": "28c7f6e08e694c23873fb14a67848bf1",
       "version_major": 2,
       "version_minor": 0
      },
      "text/plain": [
       "Validation:   0%|          | 0/5 [00:00<?, ?it/s]"
      ]
     },
     "metadata": {},
     "output_type": "display_data"
    },
    {
     "name": "stdout",
     "output_type": "stream",
     "text": [
      "Train | Loss: 0.5935, Recall: 0.5652, Precision: 0.4372, F1: 0.4931\n",
      "Val   | Loss: 0.5547, Recall: 0.5363, Precision: 0.5629, F1: 0.5493\n",
      "-----------------------------\n",
      "Epoch 47\n"
     ]
    },
    {
     "data": {
      "application/vnd.jupyter.widget-view+json": {
       "model_id": "282f1eaba13b492d968345ee6b1de5c8",
       "version_major": 2,
       "version_minor": 0
      },
      "text/plain": [
       "Training:   0%|          | 0/25 [00:00<?, ?it/s]"
      ]
     },
     "metadata": {},
     "output_type": "display_data"
    },
    {
     "data": {
      "application/vnd.jupyter.widget-view+json": {
       "model_id": "7a89e06e6357412c833c388f7cb86333",
       "version_major": 2,
       "version_minor": 0
      },
      "text/plain": [
       "Validation:   0%|          | 0/5 [00:00<?, ?it/s]"
      ]
     },
     "metadata": {},
     "output_type": "display_data"
    },
    {
     "name": "stdout",
     "output_type": "stream",
     "text": [
      "Train | Loss: 0.6136, Recall: 0.5572, Precision: 0.4042, F1: 0.4685\n",
      "Val   | Loss: 0.5000, Recall: 0.6407, Precision: 0.4868, F1: 0.5532\n",
      "-----------------------------\n",
      "Epoch 48\n"
     ]
    },
    {
     "data": {
      "application/vnd.jupyter.widget-view+json": {
       "model_id": "abb37ef6bfe5462cb0a5714d8bba796a",
       "version_major": 2,
       "version_minor": 0
      },
      "text/plain": [
       "Training:   0%|          | 0/25 [00:00<?, ?it/s]"
      ]
     },
     "metadata": {},
     "output_type": "display_data"
    },
    {
     "data": {
      "application/vnd.jupyter.widget-view+json": {
       "model_id": "f930ec07e0984a579c1faebe7327595a",
       "version_major": 2,
       "version_minor": 0
      },
      "text/plain": [
       "Validation:   0%|          | 0/5 [00:00<?, ?it/s]"
      ]
     },
     "metadata": {},
     "output_type": "display_data"
    },
    {
     "name": "stdout",
     "output_type": "stream",
     "text": [
      "Train | Loss: 0.5915, Recall: 0.5756, Precision: 0.4220, F1: 0.4870\n",
      "Val   | Loss: 0.4759, Recall: 0.6322, Precision: 0.5139, F1: 0.5669\n",
      "-----------------------------\n",
      "Epoch 49\n"
     ]
    },
    {
     "data": {
      "application/vnd.jupyter.widget-view+json": {
       "model_id": "134446bc66914eafac0c648d53e31665",
       "version_major": 2,
       "version_minor": 0
      },
      "text/plain": [
       "Training:   0%|          | 0/25 [00:00<?, ?it/s]"
      ]
     },
     "metadata": {},
     "output_type": "display_data"
    },
    {
     "data": {
      "application/vnd.jupyter.widget-view+json": {
       "model_id": "dd5485e7c9d74f94b12c00f98c17823c",
       "version_major": 2,
       "version_minor": 0
      },
      "text/plain": [
       "Validation:   0%|          | 0/5 [00:00<?, ?it/s]"
      ]
     },
     "metadata": {},
     "output_type": "display_data"
    },
    {
     "name": "stdout",
     "output_type": "stream",
     "text": [
      "Train | Loss: 0.5862, Recall: 0.5740, Precision: 0.4860, F1: 0.5263\n",
      "Val   | Loss: 0.4654, Recall: 0.6415, Precision: 0.5160, F1: 0.5719\n",
      "-----------------------------\n",
      "Epoch 50\n"
     ]
    },
    {
     "data": {
      "application/vnd.jupyter.widget-view+json": {
       "model_id": "ae9efcc3392547edb631903038c76906",
       "version_major": 2,
       "version_minor": 0
      },
      "text/plain": [
       "Training:   0%|          | 0/25 [00:00<?, ?it/s]"
      ]
     },
     "metadata": {},
     "output_type": "display_data"
    },
    {
     "data": {
      "application/vnd.jupyter.widget-view+json": {
       "model_id": "8092ae4bfc1a4072b7712ba85fa863e5",
       "version_major": 2,
       "version_minor": 0
      },
      "text/plain": [
       "Validation:   0%|          | 0/5 [00:00<?, ?it/s]"
      ]
     },
     "metadata": {},
     "output_type": "display_data"
    },
    {
     "name": "stdout",
     "output_type": "stream",
     "text": [
      "Train | Loss: 0.5716, Recall: 0.5616, Precision: 0.4682, F1: 0.5107\n",
      "Val   | Loss: 0.5228, Recall: 0.5202, Precision: 0.6508, F1: 0.5782\n",
      "-----------------------------\n",
      "Training Complete!\n",
      "Saved PyTorch Model to  /home/tommytang111/gap-junction-segmentation/models/sweep_model_j048885m.pt\n"
     ]
    },
    {
     "data": {
      "text/html": [],
      "text/plain": [
       "<IPython.core.display.HTML object>"
      ]
     },
     "metadata": {},
     "output_type": "display_data"
    },
    {
     "data": {
      "text/html": [
       "<br>    <style><br>        .wandb-row {<br>            display: flex;<br>            flex-direction: row;<br>            flex-wrap: wrap;<br>            justify-content: flex-start;<br>            width: 100%;<br>        }<br>        .wandb-col {<br>            display: flex;<br>            flex-direction: column;<br>            flex-basis: 100%;<br>            flex: 1;<br>            padding: 10px;<br>        }<br>    </style><br><div class=\"wandb-row\"><div class=\"wandb-col\"><h3>Run history:</h3><br/><table class=\"wandb\"><tr><td>best_epoch</td><td>▁▂▂▂▃▃▃▃▃▅▆▆▆▆▆▆████████████████████████</td></tr><tr><td>best_val_f1</td><td>▁▃▅▅▅▆▇▇▇▇▇█████████████████████████████</td></tr><tr><td>best_val_loss</td><td>█▆▄▃▃▃▂▂▂▂▂▂▂▂▂▂▂▂▁▁▁▁▁▁▁▁▁▁▁▁▁▁▁▁▁▁▁▁▁▁</td></tr><tr><td>epoch</td><td>▁▁▁▁▂▂▂▂▂▂▃▃▃▃▃▄▄▄▄▄▅▅▅▅▅▆▆▆▆▆▆▇▇▇▇▇▇███</td></tr><tr><td>lr</td><td>█████████████████████████████████████▁▁▁</td></tr><tr><td>train_f1</td><td>▁▂▄▅▅▆▆▆▆▆▇▇▇▇▇▇▇▇▇▇▇▇█▇▇▇█▇███▇██▇▇█▇██</td></tr><tr><td>train_loss</td><td>█▇▆▅▅▄▃▃▃▃▂▃▂▂▂▂▂▂▂▂▂▂▂▂▂▂▂▂▂▁▂▂▁▂▂▁▁▂▁▁</td></tr><tr><td>train_precision</td><td>▁▁▃▅▄▅▅▅▆▅▆▇▇▆▇▇▇▇▇▇▇▇▇▆▇▇▇▇▇▇█▇███▇▇▇▇█</td></tr><tr><td>train_recall</td><td>█▆▂▁▁▂▂▂▂▂▂▃▂▃▃▃▂▃▃▃▃▃▃▃▃▃▃▃▃▃▃▃▃▃▃▃▃▃▄▃</td></tr><tr><td>val_f1</td><td>▁▃▅▅▄▅▇▆▇▆▇█▆▇▇▇█▇█▇▆██▇▇█▇███▇▇██▇▇▇███</td></tr><tr><td>val_loss</td><td>█▄▃▄▃▂▄▃▃▂▂▂▃▂▂▃▂▂▁▂▃▁▁▂▁▂▂▁▁▁▂▂▂▂▂▂▁▂▁▂</td></tr><tr><td>val_precision</td><td>▁▂▃▄▃▅▇▆▄▆▆▅▄▅▅▆▆▅▆▆▄▆▆▆▅▅▅▆▆▆▄▄▆▆▇█▇▆▆█</td></tr><tr><td>val_recall</td><td>▁█▆▅▄█▅▁▃▅▆▆▆█▆▆▄▆▆▅▅▆▇▆▄▅▇▆▆▇▄▇█▅▅▃▇▄▆▄</td></tr></table><br/></div><div class=\"wandb-col\"><h3>Run summary:</h3><br/><table class=\"wandb\"><tr><td>best_epoch</td><td>20</td></tr><tr><td>best_val_f1</td><td>0.57825</td></tr><tr><td>best_val_loss</td><td>0.46329</td></tr><tr><td>epoch</td><td>50</td></tr><tr><td>lr</td><td>5e-05</td></tr><tr><td>train_f1</td><td>0.51069</td></tr><tr><td>train_loss</td><td>0.57158</td></tr><tr><td>train_precision</td><td>0.46825</td></tr><tr><td>train_recall</td><td>0.5616</td></tr><tr><td>val_f1</td><td>0.57823</td></tr><tr><td>val_loss</td><td>0.52283</td></tr><tr><td>val_precision</td><td>0.65078</td></tr><tr><td>val_recall</td><td>0.52023</td></tr></table><br/></div></div>"
      ],
      "text/plain": [
       "<IPython.core.display.HTML object>"
      ]
     },
     "metadata": {},
     "output_type": "display_data"
    },
    {
     "data": {
      "text/html": [
       " View run <strong style=\"color:#cdcd00\">super-sweep-9</strong> at: <a href='https://wandb.ai/zhen_lab/gap-junction-segmentation/runs/j048885m' target=\"_blank\">https://wandb.ai/zhen_lab/gap-junction-segmentation/runs/j048885m</a><br> View project at: <a href='https://wandb.ai/zhen_lab/gap-junction-segmentation' target=\"_blank\">https://wandb.ai/zhen_lab/gap-junction-segmentation</a><br>Synced 5 W&B file(s), 0 media file(s), 0 artifact file(s) and 0 other file(s)"
      ],
      "text/plain": [
       "<IPython.core.display.HTML object>"
      ]
     },
     "metadata": {},
     "output_type": "display_data"
    },
    {
     "data": {
      "text/html": [
       "Find logs at: <code>/home/tommytang111/gap-junction-segmentation/wandb/wandb/run-20250606_160647-j048885m/logs</code>"
      ],
      "text/plain": [
       "<IPython.core.display.HTML object>"
      ]
     },
     "metadata": {},
     "output_type": "display_data"
    },
    {
     "name": "stderr",
     "output_type": "stream",
     "text": [
      "\u001b[34m\u001b[1mwandb\u001b[0m: Agent Starting Run: 35x85e4r with config:\n",
      "\u001b[34m\u001b[1mwandb\u001b[0m: \taugmentation: custom1\n",
      "\u001b[34m\u001b[1mwandb\u001b[0m: \tbatch_size: 8\n",
      "\u001b[34m\u001b[1mwandb\u001b[0m: \tdropout: 0.1\n",
      "\u001b[34m\u001b[1mwandb\u001b[0m: \tlearning_rate: 0.001\n",
      "\u001b[34m\u001b[1mwandb\u001b[0m: \tloss_function: GenDLoss\n",
      "\u001b[34m\u001b[1mwandb\u001b[0m: \toptimizer: AdamW\n",
      "\u001b[34m\u001b[1mwandb\u001b[0m: \u001b[33mWARNING\u001b[0m If you're specifying your api key in code, ensure this code is not shared publicly.\n",
      "\u001b[34m\u001b[1mwandb\u001b[0m: \u001b[33mWARNING\u001b[0m Consider setting the WANDB_API_KEY environment variable, or running `wandb login` from the command line.\n",
      "\u001b[34m\u001b[1mwandb\u001b[0m: Appending key for api.wandb.ai to your netrc file: /home/tommytang111/.netrc\n"
     ]
    },
    {
     "data": {
      "text/html": [
       "Ignoring project 'gap-junction-segmentation' when running a sweep."
      ],
      "text/plain": [
       "<IPython.core.display.HTML object>"
      ]
     },
     "metadata": {},
     "output_type": "display_data"
    },
    {
     "data": {
      "text/html": [
       "Ignoring entity 'zhen_lab' when running a sweep."
      ],
      "text/plain": [
       "<IPython.core.display.HTML object>"
      ]
     },
     "metadata": {},
     "output_type": "display_data"
    },
    {
     "data": {
      "text/html": [
       "Tracking run with wandb version 0.19.10"
      ],
      "text/plain": [
       "<IPython.core.display.HTML object>"
      ]
     },
     "metadata": {},
     "output_type": "display_data"
    },
    {
     "data": {
      "text/html": [
       "Run data is saved locally in <code>/home/tommytang111/gap-junction-segmentation/wandb/wandb/run-20250606_162023-35x85e4r</code>"
      ],
      "text/plain": [
       "<IPython.core.display.HTML object>"
      ]
     },
     "metadata": {},
     "output_type": "display_data"
    },
    {
     "data": {
      "text/html": [
       "Syncing run <strong><a href='https://wandb.ai/zhen_lab/gap-junction-segmentation/runs/35x85e4r' target=\"_blank\">robust-sweep-10</a></strong> to <a href='https://wandb.ai/zhen_lab/gap-junction-segmentation' target=\"_blank\">Weights & Biases</a> (<a href='https://wandb.me/developer-guide' target=\"_blank\">docs</a>)<br>Sweep page: <a href='https://wandb.ai/zhen_lab/gap-junction-segmentation/sweeps/dwqzhjxz' target=\"_blank\">https://wandb.ai/zhen_lab/gap-junction-segmentation/sweeps/dwqzhjxz</a>"
      ],
      "text/plain": [
       "<IPython.core.display.HTML object>"
      ]
     },
     "metadata": {},
     "output_type": "display_data"
    },
    {
     "data": {
      "text/html": [
       " View project at <a href='https://wandb.ai/zhen_lab/gap-junction-segmentation' target=\"_blank\">https://wandb.ai/zhen_lab/gap-junction-segmentation</a>"
      ],
      "text/plain": [
       "<IPython.core.display.HTML object>"
      ]
     },
     "metadata": {},
     "output_type": "display_data"
    },
    {
     "data": {
      "text/html": [
       " View sweep at <a href='https://wandb.ai/zhen_lab/gap-junction-segmentation/sweeps/dwqzhjxz' target=\"_blank\">https://wandb.ai/zhen_lab/gap-junction-segmentation/sweeps/dwqzhjxz</a>"
      ],
      "text/plain": [
       "<IPython.core.display.HTML object>"
      ]
     },
     "metadata": {},
     "output_type": "display_data"
    },
    {
     "data": {
      "text/html": [
       " View run at <a href='https://wandb.ai/zhen_lab/gap-junction-segmentation/runs/35x85e4r' target=\"_blank\">https://wandb.ai/zhen_lab/gap-junction-segmentation/runs/35x85e4r</a>"
      ],
      "text/plain": [
       "<IPython.core.display.HTML object>"
      ]
     },
     "metadata": {},
     "output_type": "display_data"
    },
    {
     "name": "stdout",
     "output_type": "stream",
     "text": [
      "Epoch 1\n"
     ]
    },
    {
     "data": {
      "application/vnd.jupyter.widget-view+json": {
       "model_id": "f0c3cf41f6d547d788e0f987ad3448e0",
       "version_major": 2,
       "version_minor": 0
      },
      "text/plain": [
       "Training:   0%|          | 0/25 [00:00<?, ?it/s]"
      ]
     },
     "metadata": {},
     "output_type": "display_data"
    },
    {
     "data": {
      "application/vnd.jupyter.widget-view+json": {
       "model_id": "0adea45705764fd8aefd9965d8828f31",
       "version_major": 2,
       "version_minor": 0
      },
      "text/plain": [
       "Validation:   0%|          | 0/5 [00:00<?, ?it/s]"
      ]
     },
     "metadata": {},
     "output_type": "display_data"
    },
    {
     "name": "stdout",
     "output_type": "stream",
     "text": [
      "Train | Loss: 0.9056, Recall: 0.5087, Precision: 0.0524, F1: 0.0951\n",
      "Val   | Loss: 0.9569, Recall: 0.9709, Precision: 0.0223, F1: 0.0436\n",
      "-----------------------------\n",
      "Epoch 2\n"
     ]
    },
    {
     "data": {
      "application/vnd.jupyter.widget-view+json": {
       "model_id": "e9d0b851459943fd9cf2ac3dda882de8",
       "version_major": 2,
       "version_minor": 0
      },
      "text/plain": [
       "Training:   0%|          | 0/25 [00:00<?, ?it/s]"
      ]
     },
     "metadata": {},
     "output_type": "display_data"
    },
    {
     "data": {
      "application/vnd.jupyter.widget-view+json": {
       "model_id": "7a6ab34a3e1e456e96ee0bcd8b4a3191",
       "version_major": 2,
       "version_minor": 0
      },
      "text/plain": [
       "Validation:   0%|          | 0/5 [00:00<?, ?it/s]"
      ]
     },
     "metadata": {},
     "output_type": "display_data"
    },
    {
     "name": "stdout",
     "output_type": "stream",
     "text": [
      "Train | Loss: 0.9150, Recall: 0.4651, Precision: 0.0432, F1: 0.0790\n",
      "Val   | Loss: 0.9571, Recall: 0.9194, Precision: 0.0219, F1: 0.0428\n",
      "-----------------------------\n",
      "Epoch 3\n"
     ]
    },
    {
     "data": {
      "application/vnd.jupyter.widget-view+json": {
       "model_id": "8f3cec604b674a5ba1f3637c618aef55",
       "version_major": 2,
       "version_minor": 0
      },
      "text/plain": [
       "Training:   0%|          | 0/25 [00:00<?, ?it/s]"
      ]
     },
     "metadata": {},
     "output_type": "display_data"
    },
    {
     "data": {
      "application/vnd.jupyter.widget-view+json": {
       "model_id": "a3102d5c9133421eb7fd4e243e6939e7",
       "version_major": 2,
       "version_minor": 0
      },
      "text/plain": [
       "Validation:   0%|          | 0/5 [00:00<?, ?it/s]"
      ]
     },
     "metadata": {},
     "output_type": "display_data"
    },
    {
     "name": "stdout",
     "output_type": "stream",
     "text": [
      "Train | Loss: 0.8427, Recall: 0.3952, Precision: 0.1071, F1: 0.1686\n",
      "Val   | Loss: 0.9561, Recall: 0.9888, Precision: 0.0226, F1: 0.0443\n",
      "-----------------------------\n",
      "Epoch 4\n"
     ]
    },
    {
     "data": {
      "application/vnd.jupyter.widget-view+json": {
       "model_id": "92f9337af1eb4c6c9ab9dc33c3db58df",
       "version_major": 2,
       "version_minor": 0
      },
      "text/plain": [
       "Training:   0%|          | 0/25 [00:00<?, ?it/s]"
      ]
     },
     "metadata": {},
     "output_type": "display_data"
    },
    {
     "data": {
      "application/vnd.jupyter.widget-view+json": {
       "model_id": "08841a2f20324a5b800abe00eda7a730",
       "version_major": 2,
       "version_minor": 0
      },
      "text/plain": [
       "Validation:   0%|          | 0/5 [00:00<?, ?it/s]"
      ]
     },
     "metadata": {},
     "output_type": "display_data"
    },
    {
     "name": "stdout",
     "output_type": "stream",
     "text": [
      "Train | Loss: 0.8238, Recall: 0.4002, Precision: 0.1240, F1: 0.1894\n",
      "Val   | Loss: 0.9476, Recall: 0.9564, Precision: 0.0263, F1: 0.0511\n",
      "-----------------------------\n",
      "Epoch 5\n"
     ]
    },
    {
     "data": {
      "application/vnd.jupyter.widget-view+json": {
       "model_id": "ed53cd7bea984b808012172ba544b776",
       "version_major": 2,
       "version_minor": 0
      },
      "text/plain": [
       "Training:   0%|          | 0/25 [00:00<?, ?it/s]"
      ]
     },
     "metadata": {},
     "output_type": "display_data"
    },
    {
     "data": {
      "application/vnd.jupyter.widget-view+json": {
       "model_id": "b6a24dd688604b07bee56d00abff01eb",
       "version_major": 2,
       "version_minor": 0
      },
      "text/plain": [
       "Validation:   0%|          | 0/5 [00:00<?, ?it/s]"
      ]
     },
     "metadata": {},
     "output_type": "display_data"
    },
    {
     "name": "stdout",
     "output_type": "stream",
     "text": [
      "Train | Loss: 0.8225, Recall: 0.4296, Precision: 0.1250, F1: 0.1936\n",
      "Val   | Loss: 0.9045, Recall: 0.9344, Precision: 0.0604, F1: 0.1135\n",
      "-----------------------------\n",
      "Epoch 6\n"
     ]
    },
    {
     "data": {
      "application/vnd.jupyter.widget-view+json": {
       "model_id": "67a5770fb99c41e0a564ed1b6119ed20",
       "version_major": 2,
       "version_minor": 0
      },
      "text/plain": [
       "Training:   0%|          | 0/25 [00:00<?, ?it/s]"
      ]
     },
     "metadata": {},
     "output_type": "display_data"
    },
    {
     "data": {
      "application/vnd.jupyter.widget-view+json": {
       "model_id": "b3beabefb2e54902add630f90363dc34",
       "version_major": 2,
       "version_minor": 0
      },
      "text/plain": [
       "Validation:   0%|          | 0/5 [00:00<?, ?it/s]"
      ]
     },
     "metadata": {},
     "output_type": "display_data"
    },
    {
     "name": "stdout",
     "output_type": "stream",
     "text": [
      "Train | Loss: 0.8171, Recall: 0.4492, Precision: 0.1217, F1: 0.1915\n",
      "Val   | Loss: 0.8448, Recall: 0.8605, Precision: 0.0932, F1: 0.1682\n",
      "-----------------------------\n",
      "Epoch 7\n"
     ]
    },
    {
     "data": {
      "application/vnd.jupyter.widget-view+json": {
       "model_id": "c628f0ad36a647c1b95a9a56c4d74375",
       "version_major": 2,
       "version_minor": 0
      },
      "text/plain": [
       "Training:   0%|          | 0/25 [00:00<?, ?it/s]"
      ]
     },
     "metadata": {},
     "output_type": "display_data"
    },
    {
     "data": {
      "application/vnd.jupyter.widget-view+json": {
       "model_id": "2063d60e748c41978adfe3e3a1d10b19",
       "version_major": 2,
       "version_minor": 0
      },
      "text/plain": [
       "Validation:   0%|          | 0/5 [00:00<?, ?it/s]"
      ]
     },
     "metadata": {},
     "output_type": "display_data"
    },
    {
     "name": "stdout",
     "output_type": "stream",
     "text": [
      "Train | Loss: 0.8133, Recall: 0.4382, Precision: 0.1216, F1: 0.1904\n",
      "Val   | Loss: 0.8402, Recall: 0.8726, Precision: 0.0930, F1: 0.1681\n",
      "-----------------------------\n",
      "Epoch 8\n"
     ]
    },
    {
     "data": {
      "application/vnd.jupyter.widget-view+json": {
       "model_id": "ff1e6a2243cb4361abfce472d80039c2",
       "version_major": 2,
       "version_minor": 0
      },
      "text/plain": [
       "Training:   0%|          | 0/25 [00:00<?, ?it/s]"
      ]
     },
     "metadata": {},
     "output_type": "display_data"
    },
    {
     "data": {
      "application/vnd.jupyter.widget-view+json": {
       "model_id": "7be1307aa3c048b89185f2ceb56311e9",
       "version_major": 2,
       "version_minor": 0
      },
      "text/plain": [
       "Validation:   0%|          | 0/5 [00:00<?, ?it/s]"
      ]
     },
     "metadata": {},
     "output_type": "display_data"
    },
    {
     "name": "stdout",
     "output_type": "stream",
     "text": [
      "Train | Loss: 0.8243, Recall: 0.4010, Precision: 0.1257, F1: 0.1914\n",
      "Val   | Loss: 0.7899, Recall: 0.7581, Precision: 0.1164, F1: 0.2018\n",
      "-----------------------------\n",
      "Epoch 9\n"
     ]
    },
    {
     "data": {
      "application/vnd.jupyter.widget-view+json": {
       "model_id": "acd9940fd76a4861958702adab3d56d9",
       "version_major": 2,
       "version_minor": 0
      },
      "text/plain": [
       "Training:   0%|          | 0/25 [00:00<?, ?it/s]"
      ]
     },
     "metadata": {},
     "output_type": "display_data"
    },
    {
     "data": {
      "application/vnd.jupyter.widget-view+json": {
       "model_id": "14e6755a4f24429dbf4f8b8c9db777b8",
       "version_major": 2,
       "version_minor": 0
      },
      "text/plain": [
       "Validation:   0%|          | 0/5 [00:00<?, ?it/s]"
      ]
     },
     "metadata": {},
     "output_type": "display_data"
    },
    {
     "name": "stdout",
     "output_type": "stream",
     "text": [
      "Train | Loss: 0.8053, Recall: 0.4720, Precision: 0.1321, F1: 0.2064\n",
      "Val   | Loss: 0.9203, Recall: 0.9197, Precision: 0.0412, F1: 0.0788\n",
      "-----------------------------\n",
      "Epoch 10\n"
     ]
    },
    {
     "data": {
      "application/vnd.jupyter.widget-view+json": {
       "model_id": "9395c30df681421a917ba949eaccd3b6",
       "version_major": 2,
       "version_minor": 0
      },
      "text/plain": [
       "Training:   0%|          | 0/25 [00:00<?, ?it/s]"
      ]
     },
     "metadata": {},
     "output_type": "display_data"
    },
    {
     "data": {
      "application/vnd.jupyter.widget-view+json": {
       "model_id": "45474ec1f20e4a258ae20a48b3217347",
       "version_major": 2,
       "version_minor": 0
      },
      "text/plain": [
       "Validation:   0%|          | 0/5 [00:00<?, ?it/s]"
      ]
     },
     "metadata": {},
     "output_type": "display_data"
    },
    {
     "name": "stdout",
     "output_type": "stream",
     "text": [
      "Train | Loss: 0.8151, Recall: 0.4806, Precision: 0.1155, F1: 0.1863\n",
      "Val   | Loss: 0.8103, Recall: 0.8768, Precision: 0.1098, F1: 0.1952\n",
      "-----------------------------\n",
      "Epoch 11\n"
     ]
    },
    {
     "data": {
      "application/vnd.jupyter.widget-view+json": {
       "model_id": "be909ea58ea9418bbcc010ffb2ca7ad2",
       "version_major": 2,
       "version_minor": 0
      },
      "text/plain": [
       "Training:   0%|          | 0/25 [00:00<?, ?it/s]"
      ]
     },
     "metadata": {},
     "output_type": "display_data"
    },
    {
     "data": {
      "application/vnd.jupyter.widget-view+json": {
       "model_id": "78d51a6946694f5184adc54642d25bca",
       "version_major": 2,
       "version_minor": 0
      },
      "text/plain": [
       "Validation:   0%|          | 0/5 [00:00<?, ?it/s]"
      ]
     },
     "metadata": {},
     "output_type": "display_data"
    },
    {
     "name": "stdout",
     "output_type": "stream",
     "text": [
      "Train | Loss: 0.7874, Recall: 0.4070, Precision: 0.1324, F1: 0.1998\n",
      "Val   | Loss: 0.6810, Recall: 0.6716, Precision: 0.1736, F1: 0.2759\n",
      "-----------------------------\n",
      "Epoch 12\n"
     ]
    },
    {
     "data": {
      "application/vnd.jupyter.widget-view+json": {
       "model_id": "96766d1460cf4b538ec7b25fb6eb1ad4",
       "version_major": 2,
       "version_minor": 0
      },
      "text/plain": [
       "Training:   0%|          | 0/25 [00:00<?, ?it/s]"
      ]
     },
     "metadata": {},
     "output_type": "display_data"
    },
    {
     "data": {
      "application/vnd.jupyter.widget-view+json": {
       "model_id": "bab9d80883484f6ea9edf2ee89b19979",
       "version_major": 2,
       "version_minor": 0
      },
      "text/plain": [
       "Validation:   0%|          | 0/5 [00:00<?, ?it/s]"
      ]
     },
     "metadata": {},
     "output_type": "display_data"
    },
    {
     "name": "stdout",
     "output_type": "stream",
     "text": [
      "Train | Loss: 0.8269, Recall: 0.3472, Precision: 0.1435, F1: 0.2031\n",
      "Val   | Loss: 0.7361, Recall: 0.2632, Precision: 0.3299, F1: 0.2928\n",
      "-----------------------------\n",
      "Epoch 13\n"
     ]
    },
    {
     "data": {
      "application/vnd.jupyter.widget-view+json": {
       "model_id": "a359a4ac9f624fecb6ffa0e632b2a394",
       "version_major": 2,
       "version_minor": 0
      },
      "text/plain": [
       "Training:   0%|          | 0/25 [00:00<?, ?it/s]"
      ]
     },
     "metadata": {},
     "output_type": "display_data"
    },
    {
     "data": {
      "application/vnd.jupyter.widget-view+json": {
       "model_id": "7f856135823442f985216bafb3714c46",
       "version_major": 2,
       "version_minor": 0
      },
      "text/plain": [
       "Validation:   0%|          | 0/5 [00:00<?, ?it/s]"
      ]
     },
     "metadata": {},
     "output_type": "display_data"
    },
    {
     "name": "stdout",
     "output_type": "stream",
     "text": [
      "Train | Loss: 0.7736, Recall: 0.4114, Precision: 0.1797, F1: 0.2502\n",
      "Val   | Loss: 0.6623, Recall: 0.5723, Precision: 0.2226, F1: 0.3206\n",
      "-----------------------------\n",
      "Epoch 14\n"
     ]
    },
    {
     "data": {
      "application/vnd.jupyter.widget-view+json": {
       "model_id": "0582da02066243eba20cb49cfc2fa4d4",
       "version_major": 2,
       "version_minor": 0
      },
      "text/plain": [
       "Training:   0%|          | 0/25 [00:00<?, ?it/s]"
      ]
     },
     "metadata": {},
     "output_type": "display_data"
    },
    {
     "data": {
      "application/vnd.jupyter.widget-view+json": {
       "model_id": "b17435d610774103bfb4aa615924f3a4",
       "version_major": 2,
       "version_minor": 0
      },
      "text/plain": [
       "Validation:   0%|          | 0/5 [00:00<?, ?it/s]"
      ]
     },
     "metadata": {},
     "output_type": "display_data"
    },
    {
     "name": "stdout",
     "output_type": "stream",
     "text": [
      "Train | Loss: 0.8014, Recall: 0.4098, Precision: 0.1433, F1: 0.2124\n",
      "Val   | Loss: 0.7516, Recall: 0.7205, Precision: 0.1636, F1: 0.2667\n",
      "-----------------------------\n",
      "Epoch 15\n"
     ]
    },
    {
     "data": {
      "application/vnd.jupyter.widget-view+json": {
       "model_id": "2a0644ec7fea43e9b1f2b71d14b0d244",
       "version_major": 2,
       "version_minor": 0
      },
      "text/plain": [
       "Training:   0%|          | 0/25 [00:00<?, ?it/s]"
      ]
     },
     "metadata": {},
     "output_type": "display_data"
    },
    {
     "data": {
      "application/vnd.jupyter.widget-view+json": {
       "model_id": "e9841533833b4aea866d9af95f6687b3",
       "version_major": 2,
       "version_minor": 0
      },
      "text/plain": [
       "Validation:   0%|          | 0/5 [00:00<?, ?it/s]"
      ]
     },
     "metadata": {},
     "output_type": "display_data"
    },
    {
     "name": "stdout",
     "output_type": "stream",
     "text": [
      "Train | Loss: 0.7881, Recall: 0.4050, Precision: 0.1579, F1: 0.2272\n",
      "Val   | Loss: 0.6880, Recall: 0.4037, Precision: 0.2939, F1: 0.3402\n",
      "-----------------------------\n",
      "Epoch 16\n"
     ]
    },
    {
     "data": {
      "application/vnd.jupyter.widget-view+json": {
       "model_id": "25789571f7cd4ac89d40ab7267df5ddc",
       "version_major": 2,
       "version_minor": 0
      },
      "text/plain": [
       "Training:   0%|          | 0/25 [00:00<?, ?it/s]"
      ]
     },
     "metadata": {},
     "output_type": "display_data"
    },
    {
     "data": {
      "application/vnd.jupyter.widget-view+json": {
       "model_id": "0d14fc744f7441e3b20e3ef3c3faf79d",
       "version_major": 2,
       "version_minor": 0
      },
      "text/plain": [
       "Validation:   0%|          | 0/5 [00:00<?, ?it/s]"
      ]
     },
     "metadata": {},
     "output_type": "display_data"
    },
    {
     "name": "stdout",
     "output_type": "stream",
     "text": [
      "Train | Loss: 0.7411, Recall: 0.4446, Precision: 0.1901, F1: 0.2663\n",
      "Val   | Loss: 0.6708, Recall: 0.4948, Precision: 0.2711, F1: 0.3503\n",
      "-----------------------------\n",
      "Epoch 17\n"
     ]
    },
    {
     "data": {
      "application/vnd.jupyter.widget-view+json": {
       "model_id": "56e4d5ad568e41da96edc2baab09fa70",
       "version_major": 2,
       "version_minor": 0
      },
      "text/plain": [
       "Training:   0%|          | 0/25 [00:00<?, ?it/s]"
      ]
     },
     "metadata": {},
     "output_type": "display_data"
    },
    {
     "data": {
      "application/vnd.jupyter.widget-view+json": {
       "model_id": "c156380493884b5f9fe8de193431d9d3",
       "version_major": 2,
       "version_minor": 0
      },
      "text/plain": [
       "Validation:   0%|          | 0/5 [00:00<?, ?it/s]"
      ]
     },
     "metadata": {},
     "output_type": "display_data"
    },
    {
     "name": "stdout",
     "output_type": "stream",
     "text": [
      "Train | Loss: 0.7769, Recall: 0.4482, Precision: 0.1675, F1: 0.2439\n",
      "Val   | Loss: 0.8362, Recall: 0.7905, Precision: 0.1043, F1: 0.1843\n",
      "-----------------------------\n",
      "Epoch 18\n"
     ]
    },
    {
     "data": {
      "application/vnd.jupyter.widget-view+json": {
       "model_id": "12daba333a824a18ae1b0ade72663cf8",
       "version_major": 2,
       "version_minor": 0
      },
      "text/plain": [
       "Training:   0%|          | 0/25 [00:00<?, ?it/s]"
      ]
     },
     "metadata": {},
     "output_type": "display_data"
    },
    {
     "data": {
      "application/vnd.jupyter.widget-view+json": {
       "model_id": "04ad3dc12eb04f08a5c150082c822844",
       "version_major": 2,
       "version_minor": 0
      },
      "text/plain": [
       "Validation:   0%|          | 0/5 [00:00<?, ?it/s]"
      ]
     },
     "metadata": {},
     "output_type": "display_data"
    },
    {
     "name": "stdout",
     "output_type": "stream",
     "text": [
      "Train | Loss: 0.7895, Recall: 0.3822, Precision: 0.1671, F1: 0.2325\n",
      "Val   | Loss: 0.6451, Recall: 0.4530, Precision: 0.3343, F1: 0.3847\n",
      "-----------------------------\n",
      "Epoch 19\n"
     ]
    },
    {
     "data": {
      "application/vnd.jupyter.widget-view+json": {
       "model_id": "a959a369f1b14301a567d52166a663bb",
       "version_major": 2,
       "version_minor": 0
      },
      "text/plain": [
       "Training:   0%|          | 0/25 [00:00<?, ?it/s]"
      ]
     },
     "metadata": {},
     "output_type": "display_data"
    },
    {
     "data": {
      "application/vnd.jupyter.widget-view+json": {
       "model_id": "24ab95903c1f4ac6bd2704b546ed1725",
       "version_major": 2,
       "version_minor": 0
      },
      "text/plain": [
       "Validation:   0%|          | 0/5 [00:00<?, ?it/s]"
      ]
     },
     "metadata": {},
     "output_type": "display_data"
    },
    {
     "name": "stdout",
     "output_type": "stream",
     "text": [
      "Train | Loss: 0.7579, Recall: 0.4403, Precision: 0.1822, F1: 0.2577\n",
      "Val   | Loss: 0.6753, Recall: 0.3846, Precision: 0.3779, F1: 0.3812\n",
      "-----------------------------\n",
      "Epoch 20\n"
     ]
    },
    {
     "data": {
      "application/vnd.jupyter.widget-view+json": {
       "model_id": "f44c7939cb524154aee5d95bb64259b9",
       "version_major": 2,
       "version_minor": 0
      },
      "text/plain": [
       "Training:   0%|          | 0/25 [00:00<?, ?it/s]"
      ]
     },
     "metadata": {},
     "output_type": "display_data"
    },
    {
     "data": {
      "application/vnd.jupyter.widget-view+json": {
       "model_id": "43729e9b5e7e4dda82bf2091f9ced4dd",
       "version_major": 2,
       "version_minor": 0
      },
      "text/plain": [
       "Validation:   0%|          | 0/5 [00:00<?, ?it/s]"
      ]
     },
     "metadata": {},
     "output_type": "display_data"
    },
    {
     "name": "stdout",
     "output_type": "stream",
     "text": [
      "Train | Loss: 0.7508, Recall: 0.4637, Precision: 0.1977, F1: 0.2772\n",
      "Val   | Loss: 0.6131, Recall: 0.5006, Precision: 0.3895, F1: 0.4381\n",
      "-----------------------------\n",
      "Epoch 21\n"
     ]
    },
    {
     "data": {
      "application/vnd.jupyter.widget-view+json": {
       "model_id": "13e69d98ca204c12b1d0770f3f312b24",
       "version_major": 2,
       "version_minor": 0
      },
      "text/plain": [
       "Training:   0%|          | 0/25 [00:00<?, ?it/s]"
      ]
     },
     "metadata": {},
     "output_type": "display_data"
    },
    {
     "data": {
      "application/vnd.jupyter.widget-view+json": {
       "model_id": "794d6088245d423ea38b349ce692058f",
       "version_major": 2,
       "version_minor": 0
      },
      "text/plain": [
       "Validation:   0%|          | 0/5 [00:00<?, ?it/s]"
      ]
     },
     "metadata": {},
     "output_type": "display_data"
    },
    {
     "name": "stdout",
     "output_type": "stream",
     "text": [
      "Train | Loss: 0.7345, Recall: 0.4347, Precision: 0.2219, F1: 0.2939\n",
      "Val   | Loss: 0.8620, Recall: 0.0965, Precision: 0.5169, F1: 0.1626\n",
      "-----------------------------\n",
      "Epoch 22\n"
     ]
    },
    {
     "data": {
      "application/vnd.jupyter.widget-view+json": {
       "model_id": "f9f0c8767f6643cd8d8e4a15ac5b63a1",
       "version_major": 2,
       "version_minor": 0
      },
      "text/plain": [
       "Training:   0%|          | 0/25 [00:00<?, ?it/s]"
      ]
     },
     "metadata": {},
     "output_type": "display_data"
    },
    {
     "data": {
      "application/vnd.jupyter.widget-view+json": {
       "model_id": "932cc8b2d8c047ecbc90b65fe7a1932d",
       "version_major": 2,
       "version_minor": 0
      },
      "text/plain": [
       "Validation:   0%|          | 0/5 [00:00<?, ?it/s]"
      ]
     },
     "metadata": {},
     "output_type": "display_data"
    },
    {
     "name": "stdout",
     "output_type": "stream",
     "text": [
      "Train | Loss: 0.7077, Recall: 0.4425, Precision: 0.2680, F1: 0.3338\n",
      "Val   | Loss: 0.5778, Recall: 0.6292, Precision: 0.3553, F1: 0.4541\n",
      "-----------------------------\n",
      "Epoch 23\n"
     ]
    },
    {
     "data": {
      "application/vnd.jupyter.widget-view+json": {
       "model_id": "b1f06e743d8d415d8c6d2efe3abacd7e",
       "version_major": 2,
       "version_minor": 0
      },
      "text/plain": [
       "Training:   0%|          | 0/25 [00:00<?, ?it/s]"
      ]
     },
     "metadata": {},
     "output_type": "display_data"
    },
    {
     "data": {
      "application/vnd.jupyter.widget-view+json": {
       "model_id": "d49520f595704a65a863c38246aed502",
       "version_major": 2,
       "version_minor": 0
      },
      "text/plain": [
       "Validation:   0%|          | 0/5 [00:00<?, ?it/s]"
      ]
     },
     "metadata": {},
     "output_type": "display_data"
    },
    {
     "name": "stdout",
     "output_type": "stream",
     "text": [
      "Train | Loss: 0.7110, Recall: 0.4415, Precision: 0.2709, F1: 0.3357\n",
      "Val   | Loss: 0.6492, Recall: 0.8107, Precision: 0.2411, F1: 0.3716\n",
      "-----------------------------\n",
      "Epoch 24\n"
     ]
    },
    {
     "data": {
      "application/vnd.jupyter.widget-view+json": {
       "model_id": "0906f81864f7479581c3fd0f51a3cbf5",
       "version_major": 2,
       "version_minor": 0
      },
      "text/plain": [
       "Training:   0%|          | 0/25 [00:00<?, ?it/s]"
      ]
     },
     "metadata": {},
     "output_type": "display_data"
    },
    {
     "data": {
      "application/vnd.jupyter.widget-view+json": {
       "model_id": "248f3b50612d4d2fa5f3e32dd67567db",
       "version_major": 2,
       "version_minor": 0
      },
      "text/plain": [
       "Validation:   0%|          | 0/5 [00:00<?, ?it/s]"
      ]
     },
     "metadata": {},
     "output_type": "display_data"
    },
    {
     "name": "stdout",
     "output_type": "stream",
     "text": [
      "Train | Loss: 0.7177, Recall: 0.4900, Precision: 0.2403, F1: 0.3225\n",
      "Val   | Loss: 0.6234, Recall: 0.5874, Precision: 0.3358, F1: 0.4273\n",
      "-----------------------------\n",
      "Epoch 25\n"
     ]
    },
    {
     "data": {
      "application/vnd.jupyter.widget-view+json": {
       "model_id": "35e60edc4be14102a91aab848a685611",
       "version_major": 2,
       "version_minor": 0
      },
      "text/plain": [
       "Training:   0%|          | 0/25 [00:00<?, ?it/s]"
      ]
     },
     "metadata": {},
     "output_type": "display_data"
    },
    {
     "data": {
      "application/vnd.jupyter.widget-view+json": {
       "model_id": "02110e716953434eb247e47a75290639",
       "version_major": 2,
       "version_minor": 0
      },
      "text/plain": [
       "Validation:   0%|          | 0/5 [00:00<?, ?it/s]"
      ]
     },
     "metadata": {},
     "output_type": "display_data"
    },
    {
     "name": "stdout",
     "output_type": "stream",
     "text": [
      "Train | Loss: 0.7020, Recall: 0.4311, Precision: 0.2719, F1: 0.3335\n",
      "Val   | Loss: 0.5689, Recall: 0.5910, Precision: 0.4061, F1: 0.4814\n",
      "-----------------------------\n",
      "Epoch 26\n"
     ]
    },
    {
     "data": {
      "application/vnd.jupyter.widget-view+json": {
       "model_id": "25fba6d880ce4de09ebee0162da360db",
       "version_major": 2,
       "version_minor": 0
      },
      "text/plain": [
       "Training:   0%|          | 0/25 [00:00<?, ?it/s]"
      ]
     },
     "metadata": {},
     "output_type": "display_data"
    },
    {
     "data": {
      "application/vnd.jupyter.widget-view+json": {
       "model_id": "a29cfa0258b543b8b41851790812a0b8",
       "version_major": 2,
       "version_minor": 0
      },
      "text/plain": [
       "Validation:   0%|          | 0/5 [00:00<?, ?it/s]"
      ]
     },
     "metadata": {},
     "output_type": "display_data"
    },
    {
     "name": "stdout",
     "output_type": "stream",
     "text": [
      "Train | Loss: 0.6817, Recall: 0.5073, Precision: 0.2797, F1: 0.3606\n",
      "Val   | Loss: 0.6139, Recall: 0.5276, Precision: 0.3967, F1: 0.4529\n",
      "-----------------------------\n",
      "Epoch 27\n"
     ]
    },
    {
     "data": {
      "application/vnd.jupyter.widget-view+json": {
       "model_id": "a468b57d81b44ca292732042f17e0714",
       "version_major": 2,
       "version_minor": 0
      },
      "text/plain": [
       "Training:   0%|          | 0/25 [00:00<?, ?it/s]"
      ]
     },
     "metadata": {},
     "output_type": "display_data"
    },
    {
     "data": {
      "application/vnd.jupyter.widget-view+json": {
       "model_id": "2d52d8747c5a4044912581ae7120dc49",
       "version_major": 2,
       "version_minor": 0
      },
      "text/plain": [
       "Validation:   0%|          | 0/5 [00:00<?, ?it/s]"
      ]
     },
     "metadata": {},
     "output_type": "display_data"
    },
    {
     "name": "stdout",
     "output_type": "stream",
     "text": [
      "Train | Loss: 0.7009, Recall: 0.4420, Precision: 0.2756, F1: 0.3395\n",
      "Val   | Loss: 0.6558, Recall: 0.6704, Precision: 0.2630, F1: 0.3778\n",
      "-----------------------------\n",
      "Epoch 28\n"
     ]
    },
    {
     "data": {
      "application/vnd.jupyter.widget-view+json": {
       "model_id": "ce8c624069cd4d5a86824db4baa470d1",
       "version_major": 2,
       "version_minor": 0
      },
      "text/plain": [
       "Training:   0%|          | 0/25 [00:00<?, ?it/s]"
      ]
     },
     "metadata": {},
     "output_type": "display_data"
    },
    {
     "data": {
      "application/vnd.jupyter.widget-view+json": {
       "model_id": "fc57d27b3e7c4ebda53dba74e6233ccd",
       "version_major": 2,
       "version_minor": 0
      },
      "text/plain": [
       "Validation:   0%|          | 0/5 [00:00<?, ?it/s]"
      ]
     },
     "metadata": {},
     "output_type": "display_data"
    },
    {
     "name": "stdout",
     "output_type": "stream",
     "text": [
      "Train | Loss: 0.7204, Recall: 0.4137, Precision: 0.2912, F1: 0.3418\n",
      "Val   | Loss: 0.6511, Recall: 0.3742, Precision: 0.6291, F1: 0.4693\n",
      "-----------------------------\n",
      "Epoch 29\n"
     ]
    },
    {
     "data": {
      "application/vnd.jupyter.widget-view+json": {
       "model_id": "aa75db54e87c4f1fbdea90ea2c224174",
       "version_major": 2,
       "version_minor": 0
      },
      "text/plain": [
       "Training:   0%|          | 0/25 [00:00<?, ?it/s]"
      ]
     },
     "metadata": {},
     "output_type": "display_data"
    },
    {
     "data": {
      "application/vnd.jupyter.widget-view+json": {
       "model_id": "34fb661c7ac84911b4ea1ff07ef63614",
       "version_major": 2,
       "version_minor": 0
      },
      "text/plain": [
       "Validation:   0%|          | 0/5 [00:00<?, ?it/s]"
      ]
     },
     "metadata": {},
     "output_type": "display_data"
    },
    {
     "name": "stdout",
     "output_type": "stream",
     "text": [
      "Train | Loss: 0.6748, Recall: 0.4964, Precision: 0.3013, F1: 0.3750\n",
      "Val   | Loss: 0.5715, Recall: 0.5068, Precision: 0.5469, F1: 0.5261\n",
      "-----------------------------\n",
      "Epoch 30\n"
     ]
    },
    {
     "data": {
      "application/vnd.jupyter.widget-view+json": {
       "model_id": "93faa7908d1c4e3abcc91636a93f57fa",
       "version_major": 2,
       "version_minor": 0
      },
      "text/plain": [
       "Training:   0%|          | 0/25 [00:00<?, ?it/s]"
      ]
     },
     "metadata": {},
     "output_type": "display_data"
    },
    {
     "data": {
      "application/vnd.jupyter.widget-view+json": {
       "model_id": "46086960ab9f40cf8e84b386f5b2e89a",
       "version_major": 2,
       "version_minor": 0
      },
      "text/plain": [
       "Validation:   0%|          | 0/5 [00:00<?, ?it/s]"
      ]
     },
     "metadata": {},
     "output_type": "display_data"
    },
    {
     "name": "stdout",
     "output_type": "stream",
     "text": [
      "Train | Loss: 0.6855, Recall: 0.4760, Precision: 0.3306, F1: 0.3902\n",
      "Val   | Loss: 0.5339, Recall: 0.5810, Precision: 0.5102, F1: 0.5433\n",
      "-----------------------------\n",
      "Epoch 31\n"
     ]
    },
    {
     "data": {
      "application/vnd.jupyter.widget-view+json": {
       "model_id": "b677867093d64d34912f516e1d603da6",
       "version_major": 2,
       "version_minor": 0
      },
      "text/plain": [
       "Training:   0%|          | 0/25 [00:00<?, ?it/s]"
      ]
     },
     "metadata": {},
     "output_type": "display_data"
    },
    {
     "data": {
      "application/vnd.jupyter.widget-view+json": {
       "model_id": "7ea01f3488f44f6cb0143d4e1c0c4c05",
       "version_major": 2,
       "version_minor": 0
      },
      "text/plain": [
       "Validation:   0%|          | 0/5 [00:00<?, ?it/s]"
      ]
     },
     "metadata": {},
     "output_type": "display_data"
    },
    {
     "name": "stdout",
     "output_type": "stream",
     "text": [
      "Train | Loss: 0.6728, Recall: 0.4776, Precision: 0.3524, F1: 0.4055\n",
      "Val   | Loss: 0.6309, Recall: 0.3284, Precision: 0.6287, F1: 0.4314\n",
      "-----------------------------\n",
      "Epoch 32\n"
     ]
    },
    {
     "data": {
      "application/vnd.jupyter.widget-view+json": {
       "model_id": "e825f71d081044acbf8aeaa462ce3d1d",
       "version_major": 2,
       "version_minor": 0
      },
      "text/plain": [
       "Training:   0%|          | 0/25 [00:00<?, ?it/s]"
      ]
     },
     "metadata": {},
     "output_type": "display_data"
    },
    {
     "data": {
      "application/vnd.jupyter.widget-view+json": {
       "model_id": "6c26f81a52354777b3783366d465b5b8",
       "version_major": 2,
       "version_minor": 0
      },
      "text/plain": [
       "Validation:   0%|          | 0/5 [00:00<?, ?it/s]"
      ]
     },
     "metadata": {},
     "output_type": "display_data"
    },
    {
     "name": "stdout",
     "output_type": "stream",
     "text": [
      "Train | Loss: 0.6954, Recall: 0.4597, Precision: 0.2934, F1: 0.3582\n",
      "Val   | Loss: 0.5954, Recall: 0.4567, Precision: 0.5450, F1: 0.4970\n",
      "-----------------------------\n",
      "Epoch 33\n"
     ]
    },
    {
     "data": {
      "application/vnd.jupyter.widget-view+json": {
       "model_id": "6bcc4734a4b84a698a517a3086d8941e",
       "version_major": 2,
       "version_minor": 0
      },
      "text/plain": [
       "Training:   0%|          | 0/25 [00:00<?, ?it/s]"
      ]
     },
     "metadata": {},
     "output_type": "display_data"
    },
    {
     "data": {
      "application/vnd.jupyter.widget-view+json": {
       "model_id": "c4b7321994854e4e84a6bfb874a7c0f1",
       "version_major": 2,
       "version_minor": 0
      },
      "text/plain": [
       "Validation:   0%|          | 0/5 [00:00<?, ?it/s]"
      ]
     },
     "metadata": {},
     "output_type": "display_data"
    },
    {
     "name": "stdout",
     "output_type": "stream",
     "text": [
      "Train | Loss: 0.6889, Recall: 0.4861, Precision: 0.2904, F1: 0.3636\n",
      "Val   | Loss: 0.5321, Recall: 0.6015, Precision: 0.4558, F1: 0.5186\n",
      "-----------------------------\n",
      "Epoch 34\n"
     ]
    },
    {
     "data": {
      "application/vnd.jupyter.widget-view+json": {
       "model_id": "2af1eea991544b4abc679ebf3329bc2c",
       "version_major": 2,
       "version_minor": 0
      },
      "text/plain": [
       "Training:   0%|          | 0/25 [00:00<?, ?it/s]"
      ]
     },
     "metadata": {},
     "output_type": "display_data"
    },
    {
     "data": {
      "application/vnd.jupyter.widget-view+json": {
       "model_id": "886d1a47d2074d9183412469cb5034ea",
       "version_major": 2,
       "version_minor": 0
      },
      "text/plain": [
       "Validation:   0%|          | 0/5 [00:00<?, ?it/s]"
      ]
     },
     "metadata": {},
     "output_type": "display_data"
    },
    {
     "name": "stdout",
     "output_type": "stream",
     "text": [
      "Train | Loss: 0.6725, Recall: 0.5393, Precision: 0.3364, F1: 0.4143\n",
      "Val   | Loss: 0.5113, Recall: 0.7136, Precision: 0.4228, F1: 0.5310\n",
      "-----------------------------\n",
      "Epoch 35\n"
     ]
    },
    {
     "data": {
      "application/vnd.jupyter.widget-view+json": {
       "model_id": "1db426245d924abf894b1380807ee0dc",
       "version_major": 2,
       "version_minor": 0
      },
      "text/plain": [
       "Training:   0%|          | 0/25 [00:00<?, ?it/s]"
      ]
     },
     "metadata": {},
     "output_type": "display_data"
    },
    {
     "data": {
      "application/vnd.jupyter.widget-view+json": {
       "model_id": "bc6595c6e6834fa68c5368ec319e6f76",
       "version_major": 2,
       "version_minor": 0
      },
      "text/plain": [
       "Validation:   0%|          | 0/5 [00:00<?, ?it/s]"
      ]
     },
     "metadata": {},
     "output_type": "display_data"
    },
    {
     "name": "stdout",
     "output_type": "stream",
     "text": [
      "Train | Loss: 0.6459, Recall: 0.4847, Precision: 0.3439, F1: 0.4023\n",
      "Val   | Loss: 0.5331, Recall: 0.5819, Precision: 0.5154, F1: 0.5466\n",
      "-----------------------------\n",
      "Epoch 36\n"
     ]
    },
    {
     "data": {
      "application/vnd.jupyter.widget-view+json": {
       "model_id": "1cdf2d44a54448a6b0b9b6ad3af9024d",
       "version_major": 2,
       "version_minor": 0
      },
      "text/plain": [
       "Training:   0%|          | 0/25 [00:00<?, ?it/s]"
      ]
     },
     "metadata": {},
     "output_type": "display_data"
    },
    {
     "data": {
      "application/vnd.jupyter.widget-view+json": {
       "model_id": "32ce02dbc22c4e08bbbfbf21e6fa6c9f",
       "version_major": 2,
       "version_minor": 0
      },
      "text/plain": [
       "Validation:   0%|          | 0/5 [00:00<?, ?it/s]"
      ]
     },
     "metadata": {},
     "output_type": "display_data"
    },
    {
     "name": "stdout",
     "output_type": "stream",
     "text": [
      "Train | Loss: 0.6656, Recall: 0.4555, Precision: 0.3902, F1: 0.4203\n",
      "Val   | Loss: 0.5130, Recall: 0.7116, Precision: 0.4460, F1: 0.5483\n",
      "-----------------------------\n",
      "Epoch 37\n"
     ]
    },
    {
     "data": {
      "application/vnd.jupyter.widget-view+json": {
       "model_id": "792f7bcecf8447b9b03436f9f684a416",
       "version_major": 2,
       "version_minor": 0
      },
      "text/plain": [
       "Training:   0%|          | 0/25 [00:00<?, ?it/s]"
      ]
     },
     "metadata": {},
     "output_type": "display_data"
    },
    {
     "data": {
      "application/vnd.jupyter.widget-view+json": {
       "model_id": "976021f4a07e4123bf7b96f9863efc17",
       "version_major": 2,
       "version_minor": 0
      },
      "text/plain": [
       "Validation:   0%|          | 0/5 [00:00<?, ?it/s]"
      ]
     },
     "metadata": {},
     "output_type": "display_data"
    },
    {
     "name": "stdout",
     "output_type": "stream",
     "text": [
      "Train | Loss: 0.6700, Recall: 0.5580, Precision: 0.3095, F1: 0.3981\n",
      "Val   | Loss: 0.5216, Recall: 0.6520, Precision: 0.4722, F1: 0.5477\n",
      "-----------------------------\n",
      "Epoch 38\n"
     ]
    },
    {
     "data": {
      "application/vnd.jupyter.widget-view+json": {
       "model_id": "a9c00a3052d44b4688eea2372d1d2041",
       "version_major": 2,
       "version_minor": 0
      },
      "text/plain": [
       "Training:   0%|          | 0/25 [00:00<?, ?it/s]"
      ]
     },
     "metadata": {},
     "output_type": "display_data"
    },
    {
     "data": {
      "application/vnd.jupyter.widget-view+json": {
       "model_id": "fb10956747bd4c81a7796447914e7ff8",
       "version_major": 2,
       "version_minor": 0
      },
      "text/plain": [
       "Validation:   0%|          | 0/5 [00:00<?, ?it/s]"
      ]
     },
     "metadata": {},
     "output_type": "display_data"
    },
    {
     "name": "stdout",
     "output_type": "stream",
     "text": [
      "Train | Loss: 0.6628, Recall: 0.5071, Precision: 0.3547, F1: 0.4174\n",
      "Val   | Loss: 0.6107, Recall: 0.4804, Precision: 0.5969, F1: 0.5323\n",
      "-----------------------------\n",
      "Epoch 39\n"
     ]
    },
    {
     "data": {
      "application/vnd.jupyter.widget-view+json": {
       "model_id": "6d1c251206fa4abcad02255ffc0b73d7",
       "version_major": 2,
       "version_minor": 0
      },
      "text/plain": [
       "Training:   0%|          | 0/25 [00:00<?, ?it/s]"
      ]
     },
     "metadata": {},
     "output_type": "display_data"
    },
    {
     "data": {
      "application/vnd.jupyter.widget-view+json": {
       "model_id": "08e7d048ff00480d853457f8cd2198d7",
       "version_major": 2,
       "version_minor": 0
      },
      "text/plain": [
       "Validation:   0%|          | 0/5 [00:00<?, ?it/s]"
      ]
     },
     "metadata": {},
     "output_type": "display_data"
    },
    {
     "name": "stdout",
     "output_type": "stream",
     "text": [
      "Train | Loss: 0.6622, Recall: 0.5135, Precision: 0.3412, F1: 0.4100\n",
      "Val   | Loss: 0.5444, Recall: 0.5210, Precision: 0.5565, F1: 0.5381\n",
      "-----------------------------\n",
      "Epoch 40\n"
     ]
    },
    {
     "data": {
      "application/vnd.jupyter.widget-view+json": {
       "model_id": "ca33a2d80aea40c0a92f7c0896d6cfb5",
       "version_major": 2,
       "version_minor": 0
      },
      "text/plain": [
       "Training:   0%|          | 0/25 [00:00<?, ?it/s]"
      ]
     },
     "metadata": {},
     "output_type": "display_data"
    },
    {
     "data": {
      "application/vnd.jupyter.widget-view+json": {
       "model_id": "0f1fd11e41524872a25b768086b33c6e",
       "version_major": 2,
       "version_minor": 0
      },
      "text/plain": [
       "Validation:   0%|          | 0/5 [00:00<?, ?it/s]"
      ]
     },
     "metadata": {},
     "output_type": "display_data"
    },
    {
     "name": "stdout",
     "output_type": "stream",
     "text": [
      "Train | Loss: 0.6277, Recall: 0.5126, Precision: 0.3944, F1: 0.4458\n",
      "Val   | Loss: 0.5371, Recall: 0.6227, Precision: 0.4786, F1: 0.5412\n",
      "-----------------------------\n",
      "Epoch 41\n"
     ]
    },
    {
     "data": {
      "application/vnd.jupyter.widget-view+json": {
       "model_id": "4e0c7febc3fa4448aa7642350d0da56b",
       "version_major": 2,
       "version_minor": 0
      },
      "text/plain": [
       "Training:   0%|          | 0/25 [00:00<?, ?it/s]"
      ]
     },
     "metadata": {},
     "output_type": "display_data"
    },
    {
     "data": {
      "application/vnd.jupyter.widget-view+json": {
       "model_id": "6ed8e59688f64c1da27dfe3c20891581",
       "version_major": 2,
       "version_minor": 0
      },
      "text/plain": [
       "Validation:   0%|          | 0/5 [00:00<?, ?it/s]"
      ]
     },
     "metadata": {},
     "output_type": "display_data"
    },
    {
     "name": "stdout",
     "output_type": "stream",
     "text": [
      "Train | Loss: 0.6592, Recall: 0.5057, Precision: 0.3526, F1: 0.4155\n",
      "Val   | Loss: 0.5697, Recall: 0.5512, Precision: 0.4998, F1: 0.5242\n",
      "-----------------------------\n",
      "Epoch 42\n"
     ]
    },
    {
     "data": {
      "application/vnd.jupyter.widget-view+json": {
       "model_id": "b1e75a4e17c64d11ab10b85c2a9aa500",
       "version_major": 2,
       "version_minor": 0
      },
      "text/plain": [
       "Training:   0%|          | 0/25 [00:00<?, ?it/s]"
      ]
     },
     "metadata": {},
     "output_type": "display_data"
    },
    {
     "data": {
      "application/vnd.jupyter.widget-view+json": {
       "model_id": "d7411f7f0d6943d981b8131e68ebaa5c",
       "version_major": 2,
       "version_minor": 0
      },
      "text/plain": [
       "Validation:   0%|          | 0/5 [00:00<?, ?it/s]"
      ]
     },
     "metadata": {},
     "output_type": "display_data"
    },
    {
     "name": "stdout",
     "output_type": "stream",
     "text": [
      "Train | Loss: 0.6460, Recall: 0.5268, Precision: 0.3689, F1: 0.4339\n",
      "Val   | Loss: 0.5057, Recall: 0.5918, Precision: 0.5055, F1: 0.5453\n",
      "-----------------------------\n",
      "Epoch 43\n"
     ]
    },
    {
     "data": {
      "application/vnd.jupyter.widget-view+json": {
       "model_id": "f53dd0fbcc0946108cbfbe9f1277d951",
       "version_major": 2,
       "version_minor": 0
      },
      "text/plain": [
       "Training:   0%|          | 0/25 [00:00<?, ?it/s]"
      ]
     },
     "metadata": {},
     "output_type": "display_data"
    },
    {
     "data": {
      "application/vnd.jupyter.widget-view+json": {
       "model_id": "7cf0c242a7ca4a4dac30bf9cff8d67b3",
       "version_major": 2,
       "version_minor": 0
      },
      "text/plain": [
       "Validation:   0%|          | 0/5 [00:00<?, ?it/s]"
      ]
     },
     "metadata": {},
     "output_type": "display_data"
    },
    {
     "name": "stdout",
     "output_type": "stream",
     "text": [
      "Train | Loss: 0.6387, Recall: 0.5225, Precision: 0.3865, F1: 0.4443\n",
      "Val   | Loss: 0.5460, Recall: 0.4593, Precision: 0.6074, F1: 0.5231\n",
      "-----------------------------\n",
      "Epoch 44\n"
     ]
    },
    {
     "data": {
      "application/vnd.jupyter.widget-view+json": {
       "model_id": "a362254c1fef4b35bb1c3aad396d7efc",
       "version_major": 2,
       "version_minor": 0
      },
      "text/plain": [
       "Training:   0%|          | 0/25 [00:00<?, ?it/s]"
      ]
     },
     "metadata": {},
     "output_type": "display_data"
    },
    {
     "data": {
      "application/vnd.jupyter.widget-view+json": {
       "model_id": "b3ed1315f1704f69b90da4090634468e",
       "version_major": 2,
       "version_minor": 0
      },
      "text/plain": [
       "Validation:   0%|          | 0/5 [00:00<?, ?it/s]"
      ]
     },
     "metadata": {},
     "output_type": "display_data"
    },
    {
     "name": "stdout",
     "output_type": "stream",
     "text": [
      "Train | Loss: 0.6415, Recall: 0.5213, Precision: 0.3700, F1: 0.4328\n",
      "Val   | Loss: 0.5268, Recall: 0.6369, Precision: 0.5031, F1: 0.5621\n",
      "-----------------------------\n",
      "Epoch 45\n"
     ]
    },
    {
     "data": {
      "application/vnd.jupyter.widget-view+json": {
       "model_id": "88f8d7e71dba48f3919d92068eeb5eac",
       "version_major": 2,
       "version_minor": 0
      },
      "text/plain": [
       "Training:   0%|          | 0/25 [00:00<?, ?it/s]"
      ]
     },
     "metadata": {},
     "output_type": "display_data"
    },
    {
     "name": "stderr",
     "output_type": "stream",
     "text": [
      "\u001b[34m\u001b[1mwandb\u001b[0m: Ctrl + C detected. Stopping sweep.\n"
     ]
    },
    {
     "name": "stdout",
     "output_type": "stream",
     "text": [
      "Error in callback <bound method _WandbInit._post_run_cell_hook of <wandb.sdk.wandb_init._WandbInit object at 0x7f2038080850>> (for post_run_cell), with arguments args (<ExecutionResult object at 7f202c5cbc70, execution_count=9 error_before_exec=None error_in_exec=None info=<ExecutionInfo object at 7f202c5cbc10, raw_cell=\"#Initialize sweep\n",
      "sweep_id = wandb.sweep(sweep_con..\" store_history=True silent=False shell_futures=True cell_id=vscode-notebook-cell://wsl%2Bubuntu/home/tommytang111/gap-junction-segmentation/code/train.ipynb#X41sdnNjb2RlLXJlbW90ZQ%3D%3D> result=None>,),kwargs {}:\n"
     ]
    },
    {
     "ename": "BrokenPipeError",
     "evalue": "[Errno 32] Broken pipe",
     "output_type": "error",
     "traceback": [
      "\u001b[0;31m---------------------------------------------------------------------------\u001b[0m",
      "\u001b[0;31mBrokenPipeError\u001b[0m                           Traceback (most recent call last)",
      "File \u001b[0;32m~/.conda/envs/gap_junction/lib/python3.10/site-packages/wandb/sdk/wandb_init.py:614\u001b[0m, in \u001b[0;36m_WandbInit._post_run_cell_hook\u001b[0;34m(self, *args, **kwargs)\u001b[0m\n\u001b[1;32m    611\u001b[0m     \u001b[38;5;28;01mreturn\u001b[39;00m\n\u001b[1;32m    613\u001b[0m \u001b[38;5;28mself\u001b[39m\u001b[38;5;241m.\u001b[39m_logger\u001b[38;5;241m.\u001b[39minfo(\u001b[38;5;124m\"\u001b[39m\u001b[38;5;124mresuming backend\u001b[39m\u001b[38;5;124m\"\u001b[39m)\n\u001b[0;32m--> 614\u001b[0m \u001b[38;5;28;43mself\u001b[39;49m\u001b[38;5;241;43m.\u001b[39;49m\u001b[43mbackend\u001b[49m\u001b[38;5;241;43m.\u001b[39;49m\u001b[43minterface\u001b[49m\u001b[38;5;241;43m.\u001b[39;49m\u001b[43mpublish_resume\u001b[49m\u001b[43m(\u001b[49m\u001b[43m)\u001b[49m\n",
      "File \u001b[0;32m~/.conda/envs/gap_junction/lib/python3.10/site-packages/wandb/sdk/interface/interface.py:779\u001b[0m, in \u001b[0;36mInterfaceBase.publish_resume\u001b[0;34m(self)\u001b[0m\n\u001b[1;32m    777\u001b[0m \u001b[38;5;28;01mdef\u001b[39;00m\u001b[38;5;250m \u001b[39m\u001b[38;5;21mpublish_resume\u001b[39m(\u001b[38;5;28mself\u001b[39m) \u001b[38;5;241m-\u001b[39m\u001b[38;5;241m>\u001b[39m \u001b[38;5;28;01mNone\u001b[39;00m:\n\u001b[1;32m    778\u001b[0m     resume \u001b[38;5;241m=\u001b[39m pb\u001b[38;5;241m.\u001b[39mResumeRequest()\n\u001b[0;32m--> 779\u001b[0m     \u001b[38;5;28;43mself\u001b[39;49m\u001b[38;5;241;43m.\u001b[39;49m\u001b[43m_publish_resume\u001b[49m\u001b[43m(\u001b[49m\u001b[43mresume\u001b[49m\u001b[43m)\u001b[49m\n",
      "File \u001b[0;32m~/.conda/envs/gap_junction/lib/python3.10/site-packages/wandb/sdk/interface/interface_shared.py:293\u001b[0m, in \u001b[0;36mInterfaceShared._publish_resume\u001b[0;34m(self, resume)\u001b[0m\n\u001b[1;32m    291\u001b[0m \u001b[38;5;28;01mdef\u001b[39;00m\u001b[38;5;250m \u001b[39m\u001b[38;5;21m_publish_resume\u001b[39m(\u001b[38;5;28mself\u001b[39m, resume: pb\u001b[38;5;241m.\u001b[39mResumeRequest) \u001b[38;5;241m-\u001b[39m\u001b[38;5;241m>\u001b[39m \u001b[38;5;28;01mNone\u001b[39;00m:\n\u001b[1;32m    292\u001b[0m     rec \u001b[38;5;241m=\u001b[39m \u001b[38;5;28mself\u001b[39m\u001b[38;5;241m.\u001b[39m_make_request(resume\u001b[38;5;241m=\u001b[39mresume)\n\u001b[0;32m--> 293\u001b[0m     \u001b[38;5;28;43mself\u001b[39;49m\u001b[38;5;241;43m.\u001b[39;49m\u001b[43m_publish\u001b[49m\u001b[43m(\u001b[49m\u001b[43mrec\u001b[49m\u001b[43m)\u001b[49m\n",
      "File \u001b[0;32m~/.conda/envs/gap_junction/lib/python3.10/site-packages/wandb/sdk/interface/interface_sock.py:39\u001b[0m, in \u001b[0;36mInterfaceSock._publish\u001b[0;34m(self, record, local)\u001b[0m\n\u001b[1;32m     37\u001b[0m \u001b[38;5;28;01mdef\u001b[39;00m\u001b[38;5;250m \u001b[39m\u001b[38;5;21m_publish\u001b[39m(\u001b[38;5;28mself\u001b[39m, record: \u001b[38;5;124m\"\u001b[39m\u001b[38;5;124mpb.Record\u001b[39m\u001b[38;5;124m\"\u001b[39m, local: Optional[\u001b[38;5;28mbool\u001b[39m] \u001b[38;5;241m=\u001b[39m \u001b[38;5;28;01mNone\u001b[39;00m) \u001b[38;5;241m-\u001b[39m\u001b[38;5;241m>\u001b[39m \u001b[38;5;28;01mNone\u001b[39;00m:\n\u001b[1;32m     38\u001b[0m     \u001b[38;5;28mself\u001b[39m\u001b[38;5;241m.\u001b[39m_assign(record)\n\u001b[0;32m---> 39\u001b[0m     \u001b[38;5;28;43mself\u001b[39;49m\u001b[38;5;241;43m.\u001b[39;49m\u001b[43m_sock_client\u001b[49m\u001b[38;5;241;43m.\u001b[39;49m\u001b[43msend_record_publish\u001b[49m\u001b[43m(\u001b[49m\u001b[43mrecord\u001b[49m\u001b[43m)\u001b[49m\n",
      "File \u001b[0;32m~/.conda/envs/gap_junction/lib/python3.10/site-packages/wandb/sdk/lib/sock_client.py:174\u001b[0m, in \u001b[0;36mSockClient.send_record_publish\u001b[0;34m(self, record)\u001b[0m\n\u001b[1;32m    172\u001b[0m server_req\u001b[38;5;241m.\u001b[39mrequest_id \u001b[38;5;241m=\u001b[39m record\u001b[38;5;241m.\u001b[39mcontrol\u001b[38;5;241m.\u001b[39mmailbox_slot\n\u001b[1;32m    173\u001b[0m server_req\u001b[38;5;241m.\u001b[39mrecord_publish\u001b[38;5;241m.\u001b[39mCopyFrom(record)\n\u001b[0;32m--> 174\u001b[0m \u001b[38;5;28;43mself\u001b[39;49m\u001b[38;5;241;43m.\u001b[39;49m\u001b[43msend_server_request\u001b[49m\u001b[43m(\u001b[49m\u001b[43mserver_req\u001b[49m\u001b[43m)\u001b[49m\n",
      "File \u001b[0;32m~/.conda/envs/gap_junction/lib/python3.10/site-packages/wandb/sdk/lib/sock_client.py:154\u001b[0m, in \u001b[0;36mSockClient.send_server_request\u001b[0;34m(self, msg)\u001b[0m\n\u001b[1;32m    153\u001b[0m \u001b[38;5;28;01mdef\u001b[39;00m\u001b[38;5;250m \u001b[39m\u001b[38;5;21msend_server_request\u001b[39m(\u001b[38;5;28mself\u001b[39m, msg: spb\u001b[38;5;241m.\u001b[39mServerRequest) \u001b[38;5;241m-\u001b[39m\u001b[38;5;241m>\u001b[39m \u001b[38;5;28;01mNone\u001b[39;00m:\n\u001b[0;32m--> 154\u001b[0m     \u001b[38;5;28;43mself\u001b[39;49m\u001b[38;5;241;43m.\u001b[39;49m\u001b[43m_send_message\u001b[49m\u001b[43m(\u001b[49m\u001b[43mmsg\u001b[49m\u001b[43m)\u001b[49m\n",
      "File \u001b[0;32m~/.conda/envs/gap_junction/lib/python3.10/site-packages/wandb/sdk/lib/sock_client.py:151\u001b[0m, in \u001b[0;36mSockClient._send_message\u001b[0;34m(self, msg)\u001b[0m\n\u001b[1;32m    149\u001b[0m header \u001b[38;5;241m=\u001b[39m struct\u001b[38;5;241m.\u001b[39mpack(\u001b[38;5;124m\"\u001b[39m\u001b[38;5;124m<BI\u001b[39m\u001b[38;5;124m\"\u001b[39m, \u001b[38;5;28mord\u001b[39m(\u001b[38;5;124m\"\u001b[39m\u001b[38;5;124mW\u001b[39m\u001b[38;5;124m\"\u001b[39m), raw_size)\n\u001b[1;32m    150\u001b[0m \u001b[38;5;28;01mwith\u001b[39;00m \u001b[38;5;28mself\u001b[39m\u001b[38;5;241m.\u001b[39m_lock:\n\u001b[0;32m--> 151\u001b[0m     \u001b[38;5;28;43mself\u001b[39;49m\u001b[38;5;241;43m.\u001b[39;49m\u001b[43m_sendall_with_error_handle\u001b[49m\u001b[43m(\u001b[49m\u001b[43mheader\u001b[49m\u001b[43m \u001b[49m\u001b[38;5;241;43m+\u001b[39;49m\u001b[43m \u001b[49m\u001b[43mdata\u001b[49m\u001b[43m)\u001b[49m\n",
      "File \u001b[0;32m~/.conda/envs/gap_junction/lib/python3.10/site-packages/wandb/sdk/lib/sock_client.py:130\u001b[0m, in \u001b[0;36mSockClient._sendall_with_error_handle\u001b[0;34m(self, data)\u001b[0m\n\u001b[1;32m    128\u001b[0m start_time \u001b[38;5;241m=\u001b[39m time\u001b[38;5;241m.\u001b[39mmonotonic()\n\u001b[1;32m    129\u001b[0m \u001b[38;5;28;01mtry\u001b[39;00m:\n\u001b[0;32m--> 130\u001b[0m     sent \u001b[38;5;241m=\u001b[39m \u001b[38;5;28;43mself\u001b[39;49m\u001b[38;5;241;43m.\u001b[39;49m\u001b[43m_sock\u001b[49m\u001b[38;5;241;43m.\u001b[39;49m\u001b[43msend\u001b[49m\u001b[43m(\u001b[49m\u001b[43mdata\u001b[49m\u001b[43m)\u001b[49m\n\u001b[1;32m    131\u001b[0m     \u001b[38;5;66;03m# sent equal to 0 indicates a closed socket\u001b[39;00m\n\u001b[1;32m    132\u001b[0m     \u001b[38;5;28;01mif\u001b[39;00m sent \u001b[38;5;241m==\u001b[39m \u001b[38;5;241m0\u001b[39m:\n",
      "\u001b[0;31mBrokenPipeError\u001b[0m: [Errno 32] Broken pipe"
     ]
    }
   ],
   "source": [
    "#Initialize sweep\n",
    "sweep_id = wandb.sweep(sweep_config, project=\"gap-junction-segmentation\")\n",
    "print(f\"Sweep ID: {sweep_id}\")\n",
    "\n",
    "# Start the sweep agent\n",
    "wandb.agent(sweep_id=sweep_id, function=train_model)"
   ]
  },
  {
   "cell_type": "markdown",
   "id": "b84aa404",
   "metadata": {},
   "source": [
    "#### Troubleshooting"
   ]
  },
  {
   "cell_type": "code",
   "execution_count": 1,
   "id": "74454d34",
   "metadata": {},
   "outputs": [
    {
     "ename": "NameError",
     "evalue": "name 'get_custom_augmentation' is not defined",
     "output_type": "error",
     "traceback": [
      "\u001b[0;31m---------------------------------------------------------------------------\u001b[0m",
      "\u001b[0;31mNameError\u001b[0m                                 Traceback (most recent call last)",
      "Cell \u001b[0;32mIn[1], line 6\u001b[0m\n\u001b[1;32m      3\u001b[0m \u001b[38;5;28;01mimport\u001b[39;00m\u001b[38;5;250m \u001b[39m\u001b[38;5;21;01mmatplotlib\u001b[39;00m\u001b[38;5;21;01m.\u001b[39;00m\u001b[38;5;21;01mpyplot\u001b[39;00m\u001b[38;5;250m \u001b[39m\u001b[38;5;28;01mas\u001b[39;00m\u001b[38;5;250m \u001b[39m\u001b[38;5;21;01mplt\u001b[39;00m\n\u001b[1;32m      4\u001b[0m \u001b[38;5;28;01mimport\u001b[39;00m\u001b[38;5;250m \u001b[39m\u001b[38;5;21;01mos\u001b[39;00m\n\u001b[0;32m----> 6\u001b[0m aug \u001b[38;5;241m=\u001b[39m \u001b[43mget_custom_augmentation\u001b[49m()\n\u001b[1;32m      8\u001b[0m img_dir \u001b[38;5;241m=\u001b[39m \u001b[38;5;124m\"\u001b[39m\u001b[38;5;124m/home/tommytang111/gap-junction-segmentation/data/sem_adult/SEM_split/s250-259/imgs\u001b[39m\u001b[38;5;124m\"\u001b[39m\n\u001b[1;32m      9\u001b[0m label_dir \u001b[38;5;241m=\u001b[39m \u001b[38;5;124m\"\u001b[39m\u001b[38;5;124m/home/tommytang111/gap-junction-segmentation/data/sem_adult/SEM_split/s250-259/gts\u001b[39m\u001b[38;5;124m\"\u001b[39m\n",
      "\u001b[0;31mNameError\u001b[0m: name 'get_custom_augmentation' is not defined"
     ]
    }
   ],
   "source": [
    "import cv2\n",
    "import numpy as np\n",
    "import matplotlib.pyplot as plt\n",
    "import os\n",
    "\n",
    "aug = get_custom_augmentation()\n",
    "\n",
    "img_dir = \"/home/tommytang111/gap-junction-segmentation/data/sem_adult/SEM_split/s250-259/imgs\"\n",
    "label_dir = \"/home/tommytang111/gap-junction-segmentation/data/sem_adult/SEM_split/s250-259/gts\"\n",
    "img_files = os.listdir(img_dir)\n",
    "\n",
    "for i in range(5):\n",
    "    #Take a random image\n",
    "    img_name = np.random.choice(img_files)\n",
    "    img_path = os.path.join(img_dir, img_name)\n",
    "    \n",
    "    # Build corresponding label filename\n",
    "    base, ext = os.path.splitext(img_name)\n",
    "    label_name = f\"{base}_label{ext}\"\n",
    "    label_path = os.path.join(label_dir, label_name)\n",
    "\n",
    "    # Read image and label\n",
    "    image = cv2.imread(img_path, cv2.IMREAD_GRAYSCALE)\n",
    "    label = cv2.imread(label_path, cv2.IMREAD_GRAYSCALE)\n",
    "    #Optional\n",
    "    #image = cv2.resize(image, (512, 512))\n",
    "    #label = cv2.resize(label, (512, 512))\n",
    "\n",
    "    # Albumentations expects HWC, so expand dims for grayscale\n",
    "    image = np.expand_dims(image, axis=-1)\n",
    "    label = np.expand_dims(label, axis=-1)\n",
    "\n",
    "    # Apply augmentation (pass label as 'mask')\n",
    "    augmented = aug(image=image, mask=label)\n",
    "    aug_img = augmented['image'].squeeze().cpu().numpy()\n",
    "    aug_label = augmented['mask'].squeeze().cpu().numpy()\n",
    "\n",
    "    plt.figure(figsize=(4, 4)) \n",
    "    plt.subplot(2, 2, 1)\n",
    "    plt.title(\"Original Image\")\n",
    "    plt.imshow(image.squeeze(), cmap='gray')\n",
    "    plt.axis('off')\n",
    "\n",
    "    plt.subplot(2, 2, 2)\n",
    "    plt.title(\"Original Label\")\n",
    "    plt.imshow(label.squeeze(), cmap='gray')\n",
    "    plt.axis('off')\n",
    "\n",
    "    plt.subplot(2, 2, 3)\n",
    "    plt.title(\"Augmented Image\")\n",
    "    plt.imshow(aug_img, cmap='gray')\n",
    "    plt.axis('off')\n",
    "\n",
    "    plt.subplot(2, 2, 4)\n",
    "    plt.title(\"Augmented Label\")\n",
    "    plt.imshow(aug_label, cmap='gray')\n",
    "    plt.axis('off')\n",
    "\n",
    "    plt.tight_layout()\n",
    "    plt.show()"
   ]
  },
  {
   "cell_type": "code",
   "execution_count": 6,
   "id": "fb695587",
   "metadata": {},
   "outputs": [
    {
     "name": "stdout",
     "output_type": "stream",
     "text": [
      "/home/tommytang111/gap-junction-segmentation/data/sem_adult/SEM_split/s250-259/imgs/SEM_adult_image_export_s255_part4.png\n",
      "/home/tommytang111/gap-junction-segmentation/data/sem_adult/SEM_split/s250-259/gts/SEM_adult_image_export_s255_part4_label.png\n"
     ]
    }
   ],
   "source": [
    "print(img_path)\n",
    "print(label_path)"
   ]
  },
  {
   "cell_type": "code",
   "execution_count": 27,
   "id": "96f393b3",
   "metadata": {},
   "outputs": [
    {
     "name": "stdout",
     "output_type": "stream",
     "text": [
      "Showing image /home/tommytang111/gap-junction-segmentation/data/sem_adult/SEM_split/s250-259/gts/SEM_adult_image_export_s252_part2_label.png\n",
      "True\n"
     ]
    },
    {
     "data": {
      "text/plain": [
       "<matplotlib.image.AxesImage at 0x7f08b6437d00>"
      ]
     },
     "execution_count": 27,
     "metadata": {},
     "output_type": "execute_result"
    },
    {
     "data": {
      "image/png": "[encoded data removed]",
      "text/plain": [
       "<Figure size 640x480 with 1 Axes>"
      ]
     },
     "metadata": {},
     "output_type": "display_data"
    }
   ],
   "source": [
    "import random\n",
    "import matplotlib.pyplot as plt\n",
    "path = \"/home/tommytang111/gap-junction-segmentation/data/sem_adult/SEM_split/s250-259/gts\"\n",
    "image = os.path.join(path, random.choice(os.listdir(path)))\n",
    "print(f\"Showing image {image}\")\n",
    "image = cv2.imread(image, cv2.IMREAD_GRAYSCALE)\n",
    "print(np.any(image == 1))\n",
    "plt.imshow(image, cmap='gray')"
   ]
  },
  {
   "cell_type": "code",
   "execution_count": 28,
   "id": "efdce080",
   "metadata": {},
   "outputs": [
    {
     "name": "stdout",
     "output_type": "stream",
     "text": [
      "Non-black images: 40/40, Black images: 0/40\n"
     ]
    }
   ],
   "source": [
    "#Check for blank masks in mask directory\n",
    "non_black_images = 0\n",
    "black_images = 0\n",
    "count = 0\n",
    "for image in os.listdir(path):\n",
    "    image_path = os.path.join(path, image)\n",
    "    img = cv2.imread(image_path, cv2.IMREAD_GRAYSCALE)\n",
    "    if np.any(img == 1):\n",
    "        non_black_images += 1\n",
    "    else:\n",
    "        black_images += 1\n",
    "    count += 1\n",
    "print(f\"Non-black images: {non_black_images}/{count}, Black images: {black_images}/{count}\")"
   ]
  },
  {
   "cell_type": "code",
   "execution_count": null,
   "id": "9aac7977",
   "metadata": {},
   "outputs": [],
   "source": []
  }
 ],
 "metadata": {
  "kernelspec": {
   "display_name": "gap_junction",
   "language": "python",
   "name": "python3"
  },
  "language_info": {
   "codemirror_mode": {
    "name": "ipython",
    "version": 3
   },
   "file_extension": ".py",
   "mimetype": "text/x-python",
   "name": "python",
   "nbconvert_exporter": "python",
   "pygments_lexer": "ipython3",
   "version": "3.10.16"
  }
 },
 "nbformat": 4,
 "nbformat_minor": 5
}
