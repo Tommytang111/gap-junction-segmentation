{
 "cells": [
  {
   "cell_type": "markdown",
   "id": "6d697bbf",
   "metadata": {},
   "source": [
    "### Gap Junction Segmentation Model Training Pipeline"
   ]
  },
  {
   "cell_type": "code",
   "execution_count": 1,
   "id": "58f8f879",
   "metadata": {},
   "outputs": [],
   "source": [
    "#Libraries\n",
    "import torch\n",
    "from torch import nn\n",
    "from utilities import UpBlock, DownBlock, DoubleConv, GenDLoss, FocalLoss\n",
    "from torch.utils.data import DataLoader\n",
    "from torch.utils.data import Dataset\n",
    "from torchvision.transforms import ToTensor\n",
    "from torch.optim import AdamW, SGD\n",
    "from torch.optim.lr_scheduler import ReduceLROnPlateau\n",
    "from torchmetrics.classification import BinaryRecall, BinaryPrecision, BinaryF1Score\n",
    "import albumentations as A\n",
    "from albumentations.pytorch import ToTensorV2\n",
    "import numpy as np\n",
    "import os\n",
    "import cv2\n",
    "from tqdm.notebook import tqdm #Change to tqdm.tqdm if not using Jupyter Notebook\n",
    "import copy\n",
    "import wandb\n",
    "#Custom Libraries\n",
    "from resize_image import resize_image"
   ]
  },
  {
   "cell_type": "markdown",
   "id": "892be359",
   "metadata": {},
   "source": [
    "#### Set Reproducible Seeds"
   ]
  },
  {
   "cell_type": "code",
   "execution_count": 2,
   "id": "f7f50733",
   "metadata": {},
   "outputs": [],
   "source": [
    "def seed_everything(seed: int = 42):\n",
    "    np.random.seed(seed)\n",
    "    torch.manual_seed(seed)\n",
    "    torch.cuda.manual_seed(seed)\n",
    "    torch.cuda.manual_seed_all(seed)\n",
    "    torch.backends.cudnn.deterministic = True\n",
    "    #torch.backends.cudnn.benchmark = False\n",
    "    \n",
    "def worker_init_fn(worker_id):\n",
    "    seed = 42 + worker_id\n",
    "    np.random.seed(seed)\n",
    "    torch.manual_seed(seed)\n",
    "    \n",
    "seed_everything(42)"
   ]
  },
  {
   "cell_type": "markdown",
   "id": "7abdda14",
   "metadata": {},
   "source": [
    "#### Define Augmentation Options"
   ]
  },
  {
   "cell_type": "code",
   "execution_count": null,
   "id": "83b2fdc5",
   "metadata": {},
   "outputs": [],
   "source": [
    "# Custom augmentation\n",
    "def get_custom_augmentation():\n",
    "    return A.Compose([\n",
    "        A.HorizontalFlip(p=0.5),\n",
    "        A.VerticalFlip(p=0.5),\n",
    "        A.Affine(scale=(0.9,1.1), rotate=10, translate_percent=0.15, shear = (-5, 5), p=0.9),\n",
    "        A.RandomBrightnessContrast(brightness_limit=0.1, contrast_limit=0.2, p=0.5),\n",
    "        A.GaussNoise(p=0.3),\n",
    "        A.Normalize(mean=0.0, std=1.0),\n",
    "        A.Resize(512, 512),\n",
    "        ToTensorV2()\n",
    "    ])\n",
    "    \n",
    "def get_custom_augmentation2():\n",
    "    return A.Compose([\n",
    "        A.HorizontalFlip(p=0.5),\n",
    "        A.VerticalFlip(p=0.5),\n",
    "        A.Affine(scale=(0.8,1.2), rotate=360, translate_percent=0.15, shear=(-15, 15), p=0.9),\n",
    "        A.RandomBrightnessContrast(brightness_limit=0.2, contrast_limit=0.2, p=0.5),\n",
    "        A.GaussNoise(p=0.3),\n",
    "        A.Normalize(mean=0.0, std=1.0),\n",
    "        A.Resize(512, 512),\n",
    "        ToTensorV2()\n",
    "    ])\n",
    "\n"
   ]
  },
  {
   "cell_type": "markdown",
   "id": "e4a1bfed",
   "metadata": {},
   "source": [
    "#### Make Dataset Class"
   ]
  },
  {
   "cell_type": "code",
   "execution_count": 4,
   "id": "bed85410",
   "metadata": {},
   "outputs": [],
   "source": [
    "#Class can load any mask as long as the model corresponds to the mask type\n",
    "class TrainingDataset(Dataset):\n",
    "    def __init__(self, images, labels, masks=None, augmentation=None, data_size=(512, 512), train=True):\n",
    "        self.image_paths = sorted([os.path.join(images, img) for img in os.listdir(images)])\n",
    "        self.label_paths = sorted([os.path.join(labels, lbl) for lbl in os.listdir(labels)])\n",
    "        self.mask_paths = sorted([os.path.join(masks, mask) for mask in os.listdir(masks)]) if masks else None\n",
    "        self.augmentation = augmentation\n",
    "        self.data_size = data_size\n",
    "        self.train = train\n",
    "\n",
    "    def __len__(self):\n",
    "        return len(self.image_paths)\n",
    "\n",
    "    def __getitem__(self, idx):\n",
    "        #Read image, label, and mask\n",
    "        image = cv2.imread(self.image_paths[idx], cv2.IMREAD_GRAYSCALE)\n",
    "        label = cv2.imread(self.label_paths[idx], cv2.IMREAD_GRAYSCALE)\n",
    "        mask = cv2.imread(self.mask_paths[idx], cv2.IMREAD_GRAYSCALE) if self.mask_paths else None\n",
    "        \n",
    "        #Apply resizing with padding if image is not expected size and then convert back to ndarray\n",
    "        if (image.shape[0] != self.data_size[0]) or (image.shape[1] != self.data_size[1]): \n",
    "            image = np.array(resize_image(image, self.data_size[0], self.data_size[1], (0,0,0)))\n",
    "            label = np.array(resize_image(label, self.data_size[0], self.data_size[1], (0,0,0)))\n",
    "            if mask is not None:\n",
    "                mask = np.array(resize_image(mask, self.data_size[0], self.data_size[1], (0,0,0)))\n",
    "\n",
    "        #Convert mask/label to binary for model classification\n",
    "        label[label > 0] = 1\n",
    "        if mask is not None:\n",
    "            mask[mask > 0] = 1\n",
    "        \n",
    "        #Apply augmentation if provided\n",
    "        if self.augmentation and self.train:\n",
    "            if mask is not None:\n",
    "                #Use mask in augmentation\n",
    "                augmented = self.augmentation(image=image, mask=label, label=mask)\n",
    "                image = augmented['image']\n",
    "                label = augmented['mask']\n",
    "                mask = augmented['label']\n",
    "            else:\n",
    "                #Without mask\n",
    "                augmented = self.augmentation(image=image, mask=label)\n",
    "                image = augmented['image']\n",
    "                label = augmented['mask']\n",
    "\n",
    "        #Add entity recognition clause later if needed\n",
    "        \n",
    "        # Convert to tensors if not already converted from augmentation\n",
    "        if not torch.is_tensor(image):\n",
    "            image = ToTensor()(image).float()\n",
    "        if not torch.is_tensor(label):\n",
    "            label = torch.from_numpy(label).long()\n",
    "        if mask is not None and not torch.is_tensor(mask):\n",
    "            mask = torch.from_numpy(mask).long()\n",
    "        elif mask is None:\n",
    "            mask = torch.zeros_like(label)\n",
    "\n",
    "        return image, label, mask"
   ]
  },
  {
   "cell_type": "markdown",
   "id": "fd06ab38",
   "metadata": {},
   "source": [
    "#### Set Augmentation"
   ]
  },
  {
   "cell_type": "code",
   "execution_count": 8,
   "id": "e7f9457c",
   "metadata": {},
   "outputs": [],
   "source": [
    "#For training with augmentation\n",
    "train_augmentation = get_custom_augmentation()  # Change to get_medium_augmentation() or get_heavy_augmentation() as needed\n",
    "\n",
    "# For validation without augmentation\n",
    "valid_augmentation = A.Compose([\n",
    "    A.Normalize(mean=0.0, std=1.0),\n",
    "    ToTensorV2()\n",
    "])"
   ]
  },
  {
   "cell_type": "markdown",
   "id": "b1c1abf3",
   "metadata": {},
   "source": [
    "#### Initialize and Load Datasets"
   ]
  },
  {
   "cell_type": "code",
   "execution_count": 9,
   "id": "3a57491f",
   "metadata": {},
   "outputs": [],
   "source": [
    "train = TrainingDataset(\n",
    "    images=\"/home/tommytang111/gap-junction-segmentation/data/sem_adult/SEM_split/s250-259/imgs\",\n",
    "    labels=\"/home/tommytang111/gap-junction-segmentation/data/sem_adult/SEM_split/s250-259/gts\",\n",
    "    augmentation=train_augmentation,\n",
    "    train=True,\n",
    ")\n",
    "\n",
    "valid = TrainingDataset(\n",
    "    images=\"/home/tommytang111/gap-junction-segmentation/data/sem_adult/SEM_split/s200-209/imgs\",\n",
    "    labels=\"/home/tommytang111/gap-junction-segmentation/data/sem_adult/SEM_split/s200-209/gts\",\n",
    "    augmentation=valid_augmentation,\n",
    "    train=False\n",
    ")\n",
    "\n",
    "train_dataloader = DataLoader(train, batch_size=8, shuffle=True, num_workers=4, pin_memory=True, worker_init_fn=worker_init_fn)\n",
    "valid_dataloader = DataLoader(valid, batch_size=8, shuffle=False, num_workers=4, pin_memory=True, worker_init_fn=worker_init_fn)"
   ]
  },
  {
   "cell_type": "markdown",
   "id": "0aa04da2",
   "metadata": {},
   "source": [
    "#### Initialize model and send to gpu"
   ]
  },
  {
   "cell_type": "code",
   "execution_count": 5,
   "id": "2fa57f8e",
   "metadata": {},
   "outputs": [],
   "source": [
    "class UNet(nn.Module):\n",
    "    \"\"\"UNet Architecture\"\"\"\n",
    "    def __init__(self, out_classes=2, up_sample_mode='conv_transpose', three=False, attend=False, residual=False, scale=False, spatial=False, dropout=0, classes=2):\n",
    "        \"\"\"Initialize the UNet model\"\"\"\n",
    "        super(UNet, self).__init__()\n",
    "        self.three = three\n",
    "        self.up_sample_mode = up_sample_mode\n",
    "        self.dropout=dropout\n",
    "\n",
    "        # Downsampling Path\n",
    "        self.down_conv1 = DownBlock(1, 64, three=three, spatial=False, residual=residual) # 3 input channels --> 64 output channels\n",
    "        self.down_conv2 = DownBlock(64, 128, three=three, spatial=spatial, dropout=self.dropout, residual=residual) # 64 input channels --> 128 output channels\n",
    "        self.down_conv3 = DownBlock(128, 256, spatial=spatial, dropout=self.dropout, residual=residual) # 128 input channels --> 256 output channels\n",
    "        self.down_conv4 = DownBlock(256, 512, spatial=spatial, dropout=self.dropout, residual=residual) # 256 input channels --> 512 output channels\n",
    "        # Bottleneck\n",
    "        self.double_conv = DoubleConv(512, 1024,spatial=spatial, dropout=self.dropout, residual=residual)\n",
    "        # Upsampling Path\n",
    "        self.up_conv4 = UpBlock(512 + 1024, 512, self.up_sample_mode, dropout=self.dropout, residual=residual) # 512 + 1024 input channels --> 512 output channels\n",
    "        self.up_conv3 = UpBlock(256 + 512, 256, self.up_sample_mode, dropout=self.dropout, residual=residual)\n",
    "        self.up_conv2 = UpBlock(128+ 256, 128, self.up_sample_mode, dropout=self.dropout, residual=residual)\n",
    "        self.up_conv1 = UpBlock(128 + 64, 64, self.up_sample_mode)\n",
    "        # Final Convolution\n",
    "        self.conv_last = nn.Conv2d(64, 1 if classes == 2 else classes, kernel_size=1)\n",
    "        self.attend = attend\n",
    "        if scale:\n",
    "            self.s1, self.s2 = torch.nn.Parameter(torch.ones(1), requires_grad=True), torch.nn.Parameter(torch.ones(1), requires_grad=True) # learn scaling\n",
    "\n",
    "\n",
    "    def forward(self, x):\n",
    "        \"\"\"Forward pass of the UNet model\n",
    "        x: (16, 1, 512, 512)\n",
    "        \"\"\"\n",
    "        # print(x.shape)\n",
    "        x, skip1_out = self.down_conv1(x) # x: (16, 64, 256, 256), skip1_out: (16, 64, 512, 512) (batch_size, channels, height, width)    \n",
    "        x, skip2_out = self.down_conv2(x) # x: (16, 128, 128, 128), skip2_out: (16, 128, 256, 256)\n",
    "        if self.three: x = x.squeeze(-3)   \n",
    "        x, skip3_out = self.down_conv3(x) # x: (16, 256, 64, 64), skip3_out: (16, 256, 128, 128)\n",
    "        x, skip4_out = self.down_conv4(x) # x: (16, 512, 32, 32), skip4_out: (16, 512, 64, 64)\n",
    "        x = self.double_conv(x) # x: (16, 1024, 32, 32)\n",
    "        x = self.up_conv4(x, skip4_out) # x: (16, 512, 64, 64)\n",
    "        x = self.up_conv3(x, skip3_out) # x: (16, 256, 128, 128)\n",
    "        if self.three: \n",
    "            #attention_mode???\n",
    "            skip1_out = torch.mean(skip1_out, dim=2)\n",
    "            skip2_out = torch.mean(skip2_out, dim=2)\n",
    "        x = self.up_conv2(x, skip2_out) # x: (16, 128, 256, 256)\n",
    "        x = self.up_conv1(x, skip1_out) # x: (16, 64, 512, 512)\n",
    "        x = self.conv_last(x) # x: (16, 1, 512, 512)\n",
    "        return x\n",
    "    \n",
    "device = torch.device(\"cuda\")    \n",
    "model = UNet().to(device)"
   ]
  },
  {
   "cell_type": "markdown",
   "id": "e2e1d635",
   "metadata": {},
   "source": [
    "#### Initialize loss function and optimizer"
   ]
  },
  {
   "cell_type": "code",
   "execution_count": 11,
   "id": "cf895300",
   "metadata": {},
   "outputs": [],
   "source": [
    "loss_fn = GenDLoss()\n",
    "optimizer = AdamW(model.parameters(), lr=1e-3, weight_decay=1e-4)\n",
    "scheduler = ReduceLROnPlateau(optimizer, mode='min', factor=0.5, patience=10, min_lr=1e-6)"
   ]
  },
  {
   "cell_type": "code",
   "execution_count": 12,
   "id": "64375e75",
   "metadata": {},
   "outputs": [],
   "source": [
    "#Send evaluation metrics to device\n",
    "recall = BinaryRecall().to(device)\n",
    "precision = BinaryPrecision().to(device)\n",
    "f1 = BinaryF1Score().to(device)"
   ]
  },
  {
   "cell_type": "markdown",
   "id": "401b8a51",
   "metadata": {},
   "source": [
    "#### Define Training and Validation Process"
   ]
  },
  {
   "cell_type": "code",
   "execution_count": 13,
   "id": "c4bf6673",
   "metadata": {},
   "outputs": [],
   "source": [
    "#Define training function\n",
    "def train(dataloader, model, loss_fn, optimizer):\n",
    "    model.train()\n",
    "    train_loss = 0\n",
    "    num_batches = len(dataloader)\n",
    "    \n",
    "    #Reset metrics for each epoch\n",
    "    recall.reset()\n",
    "    precision.reset()\n",
    "    f1.reset()\n",
    "    \n",
    "    for batch, (X, y, _) in tqdm(enumerate(dataloader), total=num_batches, desc=\"Training Batches\"):\n",
    "        X, y = X.to(device), y.to(device)\n",
    "        \n",
    "        # Compute prediction and loss\n",
    "        pred = model(X)\n",
    "        loss = loss_fn(pred, y)\n",
    "        \n",
    "        # Backpropagation\n",
    "        loss.backward()\n",
    "        optimizer.step()\n",
    "        optimizer.zero_grad()\n",
    "        \n",
    "        #Calculate metrics after converting predictions to binary\n",
    "        pred_binary = (torch.sigmoid(pred) > 0.5).squeeze(1) #Remove channel dimension to match y\n",
    "        \n",
    "        #Update metrics\n",
    "        recall.update(pred_binary, y)\n",
    "        precision.update(pred_binary, y)\n",
    "        f1.update(pred_binary, y)\n",
    "        \n",
    "        train_loss += loss.item()\n",
    "\n",
    "    #Compute final metrics per epoch\n",
    "    train_recall = recall.compute().item()\n",
    "    train_precision = precision.compute().item()\n",
    "    train_f1 = f1.compute().item()\n",
    "    train_loss_per_epoch = train_loss / num_batches \n",
    "    \n",
    "    return train_loss_per_epoch, train_recall, train_precision, train_f1\n"
   ]
  },
  {
   "cell_type": "code",
   "execution_count": 14,
   "id": "0f1ff8ed",
   "metadata": {},
   "outputs": [],
   "source": [
    "#Define validation function\n",
    "def validate(dataloader, model, loss_fn):\n",
    "    model.eval()\n",
    "    test_loss = 0\n",
    "    num_batches = len(dataloader)\n",
    "    \n",
    "    #Reset metrics for each epoch\n",
    "    recall.reset()\n",
    "    precision.reset()\n",
    "    f1.reset()\n",
    "    \n",
    "    with torch.no_grad():\n",
    "        for X, y, _ in tqdm(dataloader, desc=\"Validation Batches\"):\n",
    "            X, y = X.to(device), y.to(device)\n",
    "            pred = model(X)\n",
    "            test_loss += loss_fn(pred, y).item()\n",
    "            \n",
    "        #Calculate metrics\n",
    "        pred_binary = (torch.sigmoid(pred) > 0.5).squeeze(1) #Remove channel dimension to match y\n",
    "        \n",
    "        #Update metrics\n",
    "        recall.update(pred_binary, y)\n",
    "        precision.update(pred_binary, y)\n",
    "        f1.update(pred_binary, y)\n",
    "            \n",
    "        #Compute final metrics per epoch\n",
    "        val_recall = recall.compute().item()\n",
    "        val_precision = precision.compute().item()\n",
    "        val_f1 = f1.compute().item()\n",
    "        val_loss_per_epoch = test_loss / num_batches\n",
    "\n",
    "    return val_loss_per_epoch, val_recall, val_precision, val_f1\n",
    "    print(f\"Avg loss: {test_loss:>7f}\\n\")\n",
    "    "
   ]
  },
  {
   "cell_type": "code",
   "execution_count": null,
   "id": "050528e7",
   "metadata": {},
   "outputs": [
    {
     "name": "stderr",
     "output_type": "stream",
     "text": [
      "\u001b[34m\u001b[1mwandb\u001b[0m: \u001b[33mWARNING\u001b[0m If you're specifying your api key in code, ensure this code is not shared publicly.\n",
      "\u001b[34m\u001b[1mwandb\u001b[0m: \u001b[33mWARNING\u001b[0m Consider setting the WANDB_API_KEY environment variable, or running `wandb login` from the command line.\n",
      "\u001b[34m\u001b[1mwandb\u001b[0m: Appending key for api.wandb.ai to your netrc file: /home/tommytang111/.netrc\n",
      "\u001b[34m\u001b[1mwandb\u001b[0m: Currently logged in as: \u001b[33mtommytang111\u001b[0m (\u001b[33mzhen_lab\u001b[0m) to \u001b[32mhttps://api.wandb.ai\u001b[0m. Use \u001b[1m`wandb login --relogin`\u001b[0m to force relogin\n",
      "\u001b[34m\u001b[1mwandb\u001b[0m: \u001b[33mWARNING\u001b[0m Using a boolean value for 'reinit' is deprecated. Use 'return_previous' or 'finish_previous' instead.\n"
     ]
    },
    {
     "data": {
      "text/html": [
       "Tracking run with wandb version 0.19.10"
      ],
      "text/plain": [
       "<IPython.core.display.HTML object>"
      ]
     },
     "metadata": {},
     "output_type": "display_data"
    },
    {
     "data": {
      "text/html": [
       "Run data is saved locally in <code>/home/tommytang111/gap-junction-segmentation/wandb/unet_sem_adult_s250-259_runs/wandb/run-20250530_150538-qoezzalv</code>"
      ],
      "text/plain": [
       "<IPython.core.display.HTML object>"
      ]
     },
     "metadata": {},
     "output_type": "display_data"
    },
    {
     "data": {
      "text/html": [
       "Syncing run <strong><a href='https://wandb.ai/zhen_lab/gap-junction-segmentation/runs/qoezzalv' target=\"_blank\">unet_sem_adult_s250-259_run_6</a></strong> to <a href='https://wandb.ai/zhen_lab/gap-junction-segmentation' target=\"_blank\">Weights & Biases</a> (<a href='https://wandb.me/developer-guide' target=\"_blank\">docs</a>)<br>"
      ],
      "text/plain": [
       "<IPython.core.display.HTML object>"
      ]
     },
     "metadata": {},
     "output_type": "display_data"
    },
    {
     "data": {
      "text/html": [
       " View project at <a href='https://wandb.ai/zhen_lab/gap-junction-segmentation' target=\"_blank\">https://wandb.ai/zhen_lab/gap-junction-segmentation</a>"
      ],
      "text/plain": [
       "<IPython.core.display.HTML object>"
      ]
     },
     "metadata": {},
     "output_type": "display_data"
    },
    {
     "data": {
      "text/html": [
       " View run at <a href='https://wandb.ai/zhen_lab/gap-junction-segmentation/runs/qoezzalv' target=\"_blank\">https://wandb.ai/zhen_lab/gap-junction-segmentation/runs/qoezzalv</a>"
      ],
      "text/plain": [
       "<IPython.core.display.HTML object>"
      ]
     },
     "metadata": {},
     "output_type": "display_data"
    },
    {
     "data": {
      "text/html": [
       "<button onClick=\"this.nextSibling.style.display='block';this.style.display='none';\">Display W&B run</button><iframe src='https://wandb.ai/zhen_lab/gap-junction-segmentation/runs/qoezzalv?jupyter=true' style='border:none;width:100%;height:420px;display:none;'></iframe>"
      ],
      "text/plain": [
       "<wandb.sdk.wandb_run.Run at 0x7f062901c130>"
      ]
     },
     "execution_count": 2,
     "metadata": {},
     "output_type": "execute_result"
    }
   ],
   "source": [
    "#WandB Initialization\n",
    "wandb.login(key=\"04e003d2c64e518f8033ab016c7a0036545c05f5\")\n",
    "wandb.init(project=\"gap-junction-segmentation\", \n",
    "           entity=\"zhen_lab\",\n",
    "           name=\"unet_pooled_run_1\",\n",
    "           dir=\"/home/tommytang111/gap-junction-segmentation/wandb/unet_pooled_runs\",\n",
    "           reinit=True,\n",
    "           config={\n",
    "               \"learning_rate\": 0.001,\n",
    "               \"batch_size\": 8,\n",
    "               \"epochs\": 30,\n",
    "               \"image_size\": (512, 512),\n",
    "               \"loss_function\": \"Generalized Dice Loss\",\n",
    "               \"optimizer\": \"Adam\",\n",
    "               \"scheduler\": \"ReduceLROnPlateau\"\n",
    "           }\n",
    ")"
   ]
  },
  {
   "cell_type": "markdown",
   "id": "da5c9f7a",
   "metadata": {},
   "source": [
    "#### Run Training"
   ]
  },
  {
   "cell_type": "code",
   "execution_count": null,
   "id": "b267371d",
   "metadata": {},
   "outputs": [
    {
     "name": "stdout",
     "output_type": "stream",
     "text": [
      "Epoch 1\n"
     ]
    },
    {
     "data": {
      "application/vnd.jupyter.widget-view+json": {
       "model_id": "26ae91583728478aa4c6733aef216a59",
       "version_major": 2,
       "version_minor": 0
      },
      "text/plain": [
       "Training Batches:   0%|          | 0/5 [00:00<?, ?it/s]"
      ]
     },
     "metadata": {},
     "output_type": "display_data"
    },
    {
     "data": {
      "application/vnd.jupyter.widget-view+json": {
       "model_id": "a6366136cf414cfc89caccd7fb57bb9a",
       "version_major": 2,
       "version_minor": 0
      },
      "text/plain": [
       "Validation Batches:   0%|          | 0/5 [00:00<?, ?it/s]"
      ]
     },
     "metadata": {},
     "output_type": "display_data"
    },
    {
     "name": "stdout",
     "output_type": "stream",
     "text": [
      "Train | Loss: 0.9567, Recall: 0.2601, Precision: 0.0221, F1: 0.0408\n",
      "Val   | Loss: 0.9300, Recall: 0.9825, Precision: 0.0341, F1: 0.0660\n",
      "-----------------------------\n",
      "Epoch 2\n"
     ]
    },
    {
     "data": {
      "application/vnd.jupyter.widget-view+json": {
       "model_id": "60b5af564a1544a1a4d83053c8164f9a",
       "version_major": 2,
       "version_minor": 0
      },
      "text/plain": [
       "Training Batches:   0%|          | 0/5 [00:00<?, ?it/s]"
      ]
     },
     "metadata": {},
     "output_type": "display_data"
    },
    {
     "data": {
      "application/vnd.jupyter.widget-view+json": {
       "model_id": "a46289e75bb64a1ebefbb2dd53a2061d",
       "version_major": 2,
       "version_minor": 0
      },
      "text/plain": [
       "Validation Batches:   0%|          | 0/5 [00:00<?, ?it/s]"
      ]
     },
     "metadata": {},
     "output_type": "display_data"
    },
    {
     "name": "stdout",
     "output_type": "stream",
     "text": [
      "Train | Loss: 0.9580, Recall: 0.2990, Precision: 0.0212, F1: 0.0395\n",
      "Val   | Loss: 0.9281, Recall: 0.9831, Precision: 0.0343, F1: 0.0664\n",
      "-----------------------------\n",
      "Epoch 3\n"
     ]
    },
    {
     "data": {
      "application/vnd.jupyter.widget-view+json": {
       "model_id": "66d541aea0e64afa9241667922680a0f",
       "version_major": 2,
       "version_minor": 0
      },
      "text/plain": [
       "Training Batches:   0%|          | 0/5 [00:00<?, ?it/s]"
      ]
     },
     "metadata": {},
     "output_type": "display_data"
    },
    {
     "data": {
      "application/vnd.jupyter.widget-view+json": {
       "model_id": "27ecf728745249008df41b0075fe5e30",
       "version_major": 2,
       "version_minor": 0
      },
      "text/plain": [
       "Validation Batches:   0%|          | 0/5 [00:00<?, ?it/s]"
      ]
     },
     "metadata": {},
     "output_type": "display_data"
    },
    {
     "name": "stdout",
     "output_type": "stream",
     "text": [
      "Train | Loss: 0.9568, Recall: 0.2420, Precision: 0.0219, F1: 0.0402\n",
      "Val   | Loss: 0.8956, Recall: 0.0103, Precision: 0.0132, F1: 0.0115\n",
      "-----------------------------\n",
      "Epoch 4\n"
     ]
    },
    {
     "data": {
      "application/vnd.jupyter.widget-view+json": {
       "model_id": "4f4e63511a9d45d7892330c5fe172b30",
       "version_major": 2,
       "version_minor": 0
      },
      "text/plain": [
       "Training Batches:   0%|          | 0/5 [00:00<?, ?it/s]"
      ]
     },
     "metadata": {},
     "output_type": "display_data"
    },
    {
     "data": {
      "application/vnd.jupyter.widget-view+json": {
       "model_id": "afeee2079dff417bb6df6945a7b5a637",
       "version_major": 2,
       "version_minor": 0
      },
      "text/plain": [
       "Validation Batches:   0%|          | 0/5 [00:00<?, ?it/s]"
      ]
     },
     "metadata": {},
     "output_type": "display_data"
    },
    {
     "name": "stdout",
     "output_type": "stream",
     "text": [
      "Train | Loss: 0.9573, Recall: 0.2460, Precision: 0.0242, F1: 0.0441\n",
      "Val   | Loss: 0.8746, Recall: 0.1495, Precision: 0.1403, F1: 0.1447\n",
      "-----------------------------\n",
      "Epoch 5\n"
     ]
    },
    {
     "data": {
      "application/vnd.jupyter.widget-view+json": {
       "model_id": "824ff208475446fb9e9bd14ab2253a00",
       "version_major": 2,
       "version_minor": 0
      },
      "text/plain": [
       "Training Batches:   0%|          | 0/5 [00:00<?, ?it/s]"
      ]
     },
     "metadata": {},
     "output_type": "display_data"
    },
    {
     "data": {
      "application/vnd.jupyter.widget-view+json": {
       "model_id": "1689f52151494b01a47e91f68fdace8b",
       "version_major": 2,
       "version_minor": 0
      },
      "text/plain": [
       "Validation Batches:   0%|          | 0/5 [00:00<?, ?it/s]"
      ]
     },
     "metadata": {},
     "output_type": "display_data"
    },
    {
     "name": "stdout",
     "output_type": "stream",
     "text": [
      "Train | Loss: 0.9564, Recall: 0.1940, Precision: 0.0229, F1: 0.0410\n",
      "Val   | Loss: 0.9345, Recall: 0.0000, Precision: 0.0000, F1: 0.0000\n",
      "-----------------------------\n",
      "Epoch 6\n"
     ]
    },
    {
     "data": {
      "application/vnd.jupyter.widget-view+json": {
       "model_id": "3d827e510e9e49d8baf761dc7d245175",
       "version_major": 2,
       "version_minor": 0
      },
      "text/plain": [
       "Training Batches:   0%|          | 0/5 [00:00<?, ?it/s]"
      ]
     },
     "metadata": {},
     "output_type": "display_data"
    },
    {
     "data": {
      "application/vnd.jupyter.widget-view+json": {
       "model_id": "d179eb51ef184166aabb148bfdee1ce4",
       "version_major": 2,
       "version_minor": 0
      },
      "text/plain": [
       "Validation Batches:   0%|          | 0/5 [00:00<?, ?it/s]"
      ]
     },
     "metadata": {},
     "output_type": "display_data"
    },
    {
     "name": "stdout",
     "output_type": "stream",
     "text": [
      "Train | Loss: 0.9573, Recall: 0.1739, Precision: 0.0252, F1: 0.0440\n",
      "Val   | Loss: 0.9254, Recall: 0.0000, Precision: 0.0000, F1: 0.0000\n",
      "-----------------------------\n",
      "Epoch 7\n"
     ]
    },
    {
     "data": {
      "application/vnd.jupyter.widget-view+json": {
       "model_id": "f75a708087424a7e92fb62cb8b6c0ff3",
       "version_major": 2,
       "version_minor": 0
      },
      "text/plain": [
       "Training Batches:   0%|          | 0/5 [00:00<?, ?it/s]"
      ]
     },
     "metadata": {},
     "output_type": "display_data"
    },
    {
     "data": {
      "application/vnd.jupyter.widget-view+json": {
       "model_id": "28115f53d0c846cbbb0e460fdd890859",
       "version_major": 2,
       "version_minor": 0
      },
      "text/plain": [
       "Validation Batches:   0%|          | 0/5 [00:00<?, ?it/s]"
      ]
     },
     "metadata": {},
     "output_type": "display_data"
    },
    {
     "name": "stdout",
     "output_type": "stream",
     "text": [
      "Train | Loss: 0.9567, Recall: 0.0530, Precision: 0.0292, F1: 0.0376\n",
      "Val   | Loss: 0.9257, Recall: 0.0000, Precision: 0.0000, F1: 0.0000\n",
      "-----------------------------\n",
      "Epoch 8\n"
     ]
    },
    {
     "data": {
      "application/vnd.jupyter.widget-view+json": {
       "model_id": "b7c46067c2c74656b8c0013d16af4120",
       "version_major": 2,
       "version_minor": 0
      },
      "text/plain": [
       "Training Batches:   0%|          | 0/5 [00:00<?, ?it/s]"
      ]
     },
     "metadata": {},
     "output_type": "display_data"
    },
    {
     "data": {
      "application/vnd.jupyter.widget-view+json": {
       "model_id": "04d0b5d02f9949368ebed701129af7bb",
       "version_major": 2,
       "version_minor": 0
      },
      "text/plain": [
       "Validation Batches:   0%|          | 0/5 [00:00<?, ?it/s]"
      ]
     },
     "metadata": {},
     "output_type": "display_data"
    },
    {
     "name": "stdout",
     "output_type": "stream",
     "text": [
      "Train | Loss: 0.9572, Recall: 0.0000, Precision: 0.0286, F1: 0.0001\n",
      "Val   | Loss: 0.9139, Recall: 0.0000, Precision: 0.0000, F1: 0.0000\n",
      "-----------------------------\n",
      "Epoch 9\n"
     ]
    },
    {
     "data": {
      "application/vnd.jupyter.widget-view+json": {
       "model_id": "ec43e807fb2c417592cfcd2aa21281f0",
       "version_major": 2,
       "version_minor": 0
      },
      "text/plain": [
       "Training Batches:   0%|          | 0/5 [00:00<?, ?it/s]"
      ]
     },
     "metadata": {},
     "output_type": "display_data"
    },
    {
     "data": {
      "application/vnd.jupyter.widget-view+json": {
       "model_id": "59250241a6ae4d9eabd366c247a36356",
       "version_major": 2,
       "version_minor": 0
      },
      "text/plain": [
       "Validation Batches:   0%|          | 0/5 [00:00<?, ?it/s]"
      ]
     },
     "metadata": {},
     "output_type": "display_data"
    },
    {
     "name": "stdout",
     "output_type": "stream",
     "text": [
      "Train | Loss: 0.9583, Recall: 0.0000, Precision: 0.0000, F1: 0.0000\n",
      "Val   | Loss: 0.9135, Recall: 0.0000, Precision: 0.0000, F1: 0.0000\n",
      "-----------------------------\n",
      "Epoch 10\n"
     ]
    },
    {
     "data": {
      "application/vnd.jupyter.widget-view+json": {
       "model_id": "59605ad35eb643d39debe7f0518a4cfd",
       "version_major": 2,
       "version_minor": 0
      },
      "text/plain": [
       "Training Batches:   0%|          | 0/5 [00:00<?, ?it/s]"
      ]
     },
     "metadata": {},
     "output_type": "display_data"
    },
    {
     "data": {
      "application/vnd.jupyter.widget-view+json": {
       "model_id": "6fa268d22f91415d95b824e62a05f664",
       "version_major": 2,
       "version_minor": 0
      },
      "text/plain": [
       "Validation Batches:   0%|          | 0/5 [00:00<?, ?it/s]"
      ]
     },
     "metadata": {},
     "output_type": "display_data"
    },
    {
     "name": "stdout",
     "output_type": "stream",
     "text": [
      "Train | Loss: 0.9578, Recall: 0.0000, Precision: 0.0000, F1: 0.0000\n",
      "Val   | Loss: 0.9193, Recall: 0.0000, Precision: 0.0000, F1: 0.0000\n",
      "-----------------------------\n",
      "Epoch 11\n"
     ]
    },
    {
     "data": {
      "application/vnd.jupyter.widget-view+json": {
       "model_id": "77d0d5a5b4ec46df8824e96624240d1a",
       "version_major": 2,
       "version_minor": 0
      },
      "text/plain": [
       "Training Batches:   0%|          | 0/5 [00:00<?, ?it/s]"
      ]
     },
     "metadata": {},
     "output_type": "display_data"
    },
    {
     "data": {
      "application/vnd.jupyter.widget-view+json": {
       "model_id": "d8b08c701717454c95c696875d92946e",
       "version_major": 2,
       "version_minor": 0
      },
      "text/plain": [
       "Validation Batches:   0%|          | 0/5 [00:00<?, ?it/s]"
      ]
     },
     "metadata": {},
     "output_type": "display_data"
    },
    {
     "name": "stdout",
     "output_type": "stream",
     "text": [
      "Train | Loss: 0.9569, Recall: 0.0000, Precision: 0.0000, F1: 0.0000\n",
      "Val   | Loss: 0.9133, Recall: 0.0000, Precision: 0.0000, F1: 0.0000\n",
      "-----------------------------\n",
      "Epoch 12\n"
     ]
    },
    {
     "data": {
      "application/vnd.jupyter.widget-view+json": {
       "model_id": "8eea0b4c6a4d4413abf1bc7ced8eeca9",
       "version_major": 2,
       "version_minor": 0
      },
      "text/plain": [
       "Training Batches:   0%|          | 0/5 [00:00<?, ?it/s]"
      ]
     },
     "metadata": {},
     "output_type": "display_data"
    },
    {
     "data": {
      "application/vnd.jupyter.widget-view+json": {
       "model_id": "428d978718a14653ab86551295d338d1",
       "version_major": 2,
       "version_minor": 0
      },
      "text/plain": [
       "Validation Batches:   0%|          | 0/5 [00:00<?, ?it/s]"
      ]
     },
     "metadata": {},
     "output_type": "display_data"
    },
    {
     "name": "stdout",
     "output_type": "stream",
     "text": [
      "Train | Loss: 0.9562, Recall: 0.0000, Precision: 0.0000, F1: 0.0000\n",
      "Val   | Loss: 0.9257, Recall: 0.0001, Precision: 0.0332, F1: 0.0002\n",
      "-----------------------------\n",
      "Epoch 13\n"
     ]
    },
    {
     "data": {
      "application/vnd.jupyter.widget-view+json": {
       "model_id": "0dd0a1ec6b384ce58c20b4b8ea8559e0",
       "version_major": 2,
       "version_minor": 0
      },
      "text/plain": [
       "Training Batches:   0%|          | 0/5 [00:00<?, ?it/s]"
      ]
     },
     "metadata": {},
     "output_type": "display_data"
    },
    {
     "data": {
      "application/vnd.jupyter.widget-view+json": {
       "model_id": "6b183fda590d4041960ac8f41b8a8378",
       "version_major": 2,
       "version_minor": 0
      },
      "text/plain": [
       "Validation Batches:   0%|          | 0/5 [00:00<?, ?it/s]"
      ]
     },
     "metadata": {},
     "output_type": "display_data"
    },
    {
     "name": "stdout",
     "output_type": "stream",
     "text": [
      "Train | Loss: 0.9531, Recall: 0.0005, Precision: 0.0142, F1: 0.0009\n",
      "Val   | Loss: 0.8888, Recall: 0.0018, Precision: 0.0528, F1: 0.0035\n",
      "-----------------------------\n",
      "Epoch 14\n"
     ]
    },
    {
     "data": {
      "application/vnd.jupyter.widget-view+json": {
       "model_id": "673f73c3f4774d6f82b723ac204c8bb7",
       "version_major": 2,
       "version_minor": 0
      },
      "text/plain": [
       "Training Batches:   0%|          | 0/5 [00:00<?, ?it/s]"
      ]
     },
     "metadata": {},
     "output_type": "display_data"
    },
    {
     "data": {
      "application/vnd.jupyter.widget-view+json": {
       "model_id": "1c7b2c6e41e441c9813dab2be20db3a6",
       "version_major": 2,
       "version_minor": 0
      },
      "text/plain": [
       "Validation Batches:   0%|          | 0/5 [00:00<?, ?it/s]"
      ]
     },
     "metadata": {},
     "output_type": "display_data"
    },
    {
     "name": "stdout",
     "output_type": "stream",
     "text": [
      "Train | Loss: 0.9503, Recall: 0.0386, Precision: 0.0281, F1: 0.0325\n",
      "Val   | Loss: 0.9297, Recall: 0.0325, Precision: 0.0302, F1: 0.0313\n",
      "-----------------------------\n",
      "Epoch 15\n"
     ]
    },
    {
     "data": {
      "application/vnd.jupyter.widget-view+json": {
       "model_id": "66344fd762904682b4e67fdbe181ed9c",
       "version_major": 2,
       "version_minor": 0
      },
      "text/plain": [
       "Training Batches:   0%|          | 0/5 [00:00<?, ?it/s]"
      ]
     },
     "metadata": {},
     "output_type": "display_data"
    },
    {
     "data": {
      "application/vnd.jupyter.widget-view+json": {
       "model_id": "3c5d4baa854349db96f66916c869ed93",
       "version_major": 2,
       "version_minor": 0
      },
      "text/plain": [
       "Validation Batches:   0%|          | 0/5 [00:00<?, ?it/s]"
      ]
     },
     "metadata": {},
     "output_type": "display_data"
    },
    {
     "name": "stdout",
     "output_type": "stream",
     "text": [
      "Train | Loss: 0.9414, Recall: 0.0468, Precision: 0.0370, F1: 0.0414\n",
      "Val   | Loss: 0.9309, Recall: 0.0341, Precision: 0.0294, F1: 0.0316\n",
      "-----------------------------\n",
      "Epoch 16\n"
     ]
    },
    {
     "data": {
      "application/vnd.jupyter.widget-view+json": {
       "model_id": "f237d14290c24161bd51cce22e5ebe32",
       "version_major": 2,
       "version_minor": 0
      },
      "text/plain": [
       "Training Batches:   0%|          | 0/5 [00:00<?, ?it/s]"
      ]
     },
     "metadata": {},
     "output_type": "display_data"
    },
    {
     "data": {
      "application/vnd.jupyter.widget-view+json": {
       "model_id": "d8d357395ac44352b2940c0f8211b277",
       "version_major": 2,
       "version_minor": 0
      },
      "text/plain": [
       "Validation Batches:   0%|          | 0/5 [00:00<?, ?it/s]"
      ]
     },
     "metadata": {},
     "output_type": "display_data"
    },
    {
     "name": "stdout",
     "output_type": "stream",
     "text": [
      "Train | Loss: 0.9343, Recall: 0.0440, Precision: 0.0412, F1: 0.0426\n",
      "Val   | Loss: 0.9306, Recall: 0.0332, Precision: 0.0281, F1: 0.0305\n",
      "-----------------------------\n",
      "Epoch 17\n"
     ]
    },
    {
     "data": {
      "application/vnd.jupyter.widget-view+json": {
       "model_id": "ab9574c08cf84f00aad947a3b91f32d4",
       "version_major": 2,
       "version_minor": 0
      },
      "text/plain": [
       "Training Batches:   0%|          | 0/5 [00:00<?, ?it/s]"
      ]
     },
     "metadata": {},
     "output_type": "display_data"
    },
    {
     "data": {
      "application/vnd.jupyter.widget-view+json": {
       "model_id": "df5b9bdaed974576b49ccfa35adf8661",
       "version_major": 2,
       "version_minor": 0
      },
      "text/plain": [
       "Validation Batches:   0%|          | 0/5 [00:00<?, ?it/s]"
      ]
     },
     "metadata": {},
     "output_type": "display_data"
    },
    {
     "name": "stdout",
     "output_type": "stream",
     "text": [
      "Train | Loss: 0.9311, Recall: 0.0772, Precision: 0.0439, F1: 0.0559\n",
      "Val   | Loss: 0.9339, Recall: 0.0441, Precision: 0.0277, F1: 0.0341\n",
      "-----------------------------\n",
      "Epoch 18\n"
     ]
    },
    {
     "data": {
      "application/vnd.jupyter.widget-view+json": {
       "model_id": "b9dd1b64ee7c40e29d9d81c8fa38e9de",
       "version_major": 2,
       "version_minor": 0
      },
      "text/plain": [
       "Training Batches:   0%|          | 0/5 [00:00<?, ?it/s]"
      ]
     },
     "metadata": {},
     "output_type": "display_data"
    },
    {
     "data": {
      "application/vnd.jupyter.widget-view+json": {
       "model_id": "1dd069f3016e45bc804bd31447f39b77",
       "version_major": 2,
       "version_minor": 0
      },
      "text/plain": [
       "Validation Batches:   0%|          | 0/5 [00:00<?, ?it/s]"
      ]
     },
     "metadata": {},
     "output_type": "display_data"
    },
    {
     "name": "stdout",
     "output_type": "stream",
     "text": [
      "Train | Loss: 0.9303, Recall: 0.0852, Precision: 0.0454, F1: 0.0592\n",
      "Val   | Loss: 0.9324, Recall: 0.0469, Precision: 0.0306, F1: 0.0370\n",
      "-----------------------------\n",
      "Epoch 19\n"
     ]
    },
    {
     "data": {
      "application/vnd.jupyter.widget-view+json": {
       "model_id": "968d6bfb00d649c795d8fa8ee3c138d9",
       "version_major": 2,
       "version_minor": 0
      },
      "text/plain": [
       "Training Batches:   0%|          | 0/5 [00:00<?, ?it/s]"
      ]
     },
     "metadata": {},
     "output_type": "display_data"
    },
    {
     "data": {
      "application/vnd.jupyter.widget-view+json": {
       "model_id": "431981c6367e405faab4f3ac6bd5cb3c",
       "version_major": 2,
       "version_minor": 0
      },
      "text/plain": [
       "Validation Batches:   0%|          | 0/5 [00:00<?, ?it/s]"
      ]
     },
     "metadata": {},
     "output_type": "display_data"
    },
    {
     "name": "stdout",
     "output_type": "stream",
     "text": [
      "Train | Loss: 0.9298, Recall: 0.0639, Precision: 0.0456, F1: 0.0532\n",
      "Val   | Loss: 0.9300, Recall: 0.0312, Precision: 0.0286, F1: 0.0298\n",
      "-----------------------------\n",
      "Epoch 20\n"
     ]
    },
    {
     "data": {
      "application/vnd.jupyter.widget-view+json": {
       "model_id": "731476a97f0c438e81921bb2937f90f4",
       "version_major": 2,
       "version_minor": 0
      },
      "text/plain": [
       "Training Batches:   0%|          | 0/5 [00:00<?, ?it/s]"
      ]
     },
     "metadata": {},
     "output_type": "display_data"
    },
    {
     "data": {
      "application/vnd.jupyter.widget-view+json": {
       "model_id": "f929251109bd4ad3be00c04c9d3843d0",
       "version_major": 2,
       "version_minor": 0
      },
      "text/plain": [
       "Validation Batches:   0%|          | 0/5 [00:00<?, ?it/s]"
      ]
     },
     "metadata": {},
     "output_type": "display_data"
    },
    {
     "name": "stdout",
     "output_type": "stream",
     "text": [
      "Train | Loss: 0.9284, Recall: 0.0714, Precision: 0.0511, F1: 0.0596\n",
      "Val   | Loss: 0.9345, Recall: 0.0317, Precision: 0.0273, F1: 0.0294\n",
      "-----------------------------\n",
      "Epoch 21\n"
     ]
    },
    {
     "data": {
      "application/vnd.jupyter.widget-view+json": {
       "model_id": "d896e57a66024f6b857124b97c49e37a",
       "version_major": 2,
       "version_minor": 0
      },
      "text/plain": [
       "Training Batches:   0%|          | 0/5 [00:00<?, ?it/s]"
      ]
     },
     "metadata": {},
     "output_type": "display_data"
    },
    {
     "data": {
      "application/vnd.jupyter.widget-view+json": {
       "model_id": "77185b02d1e84e7bb59c523a7261d35c",
       "version_major": 2,
       "version_minor": 0
      },
      "text/plain": [
       "Validation Batches:   0%|          | 0/5 [00:00<?, ?it/s]"
      ]
     },
     "metadata": {},
     "output_type": "display_data"
    },
    {
     "name": "stdout",
     "output_type": "stream",
     "text": [
      "Train | Loss: 0.9315, Recall: 0.0601, Precision: 0.0431, F1: 0.0502\n",
      "Val   | Loss: 0.9314, Recall: 0.0301, Precision: 0.0297, F1: 0.0299\n",
      "-----------------------------\n",
      "Epoch 22\n"
     ]
    },
    {
     "data": {
      "application/vnd.jupyter.widget-view+json": {
       "model_id": "1d53e91678904c3cbc17404aaeb4f34d",
       "version_major": 2,
       "version_minor": 0
      },
      "text/plain": [
       "Training Batches:   0%|          | 0/5 [00:00<?, ?it/s]"
      ]
     },
     "metadata": {},
     "output_type": "display_data"
    },
    {
     "data": {
      "application/vnd.jupyter.widget-view+json": {
       "model_id": "87733ce7c3aa4a899f3c78e0a2222e05",
       "version_major": 2,
       "version_minor": 0
      },
      "text/plain": [
       "Validation Batches:   0%|          | 0/5 [00:00<?, ?it/s]"
      ]
     },
     "metadata": {},
     "output_type": "display_data"
    },
    {
     "name": "stdout",
     "output_type": "stream",
     "text": [
      "Train | Loss: 0.9232, Recall: 0.0824, Precision: 0.0510, F1: 0.0630\n",
      "Val   | Loss: 0.9323, Recall: 0.0318, Precision: 0.0287, F1: 0.0302\n",
      "-----------------------------\n",
      "Epoch 23\n"
     ]
    },
    {
     "data": {
      "application/vnd.jupyter.widget-view+json": {
       "model_id": "bc079d24c8f845ec9a98557ab81d8474",
       "version_major": 2,
       "version_minor": 0
      },
      "text/plain": [
       "Training Batches:   0%|          | 0/5 [00:00<?, ?it/s]"
      ]
     },
     "metadata": {},
     "output_type": "display_data"
    },
    {
     "data": {
      "application/vnd.jupyter.widget-view+json": {
       "model_id": "2f93d8c04179465c9d54e0b15139f8d8",
       "version_major": 2,
       "version_minor": 0
      },
      "text/plain": [
       "Validation Batches:   0%|          | 0/5 [00:00<?, ?it/s]"
      ]
     },
     "metadata": {},
     "output_type": "display_data"
    },
    {
     "name": "stdout",
     "output_type": "stream",
     "text": [
      "Train | Loss: 0.9233, Recall: 0.0868, Precision: 0.0467, F1: 0.0607\n",
      "Val   | Loss: 0.9365, Recall: 0.0360, Precision: 0.0266, F1: 0.0306\n",
      "-----------------------------\n",
      "Epoch 24\n"
     ]
    },
    {
     "data": {
      "application/vnd.jupyter.widget-view+json": {
       "model_id": "340e2b06acce422d904549cc6ed57392",
       "version_major": 2,
       "version_minor": 0
      },
      "text/plain": [
       "Training Batches:   0%|          | 0/5 [00:00<?, ?it/s]"
      ]
     },
     "metadata": {},
     "output_type": "display_data"
    },
    {
     "data": {
      "application/vnd.jupyter.widget-view+json": {
       "model_id": "73b5131c55404892b3ab21693439e462",
       "version_major": 2,
       "version_minor": 0
      },
      "text/plain": [
       "Validation Batches:   0%|          | 0/5 [00:00<?, ?it/s]"
      ]
     },
     "metadata": {},
     "output_type": "display_data"
    },
    {
     "name": "stdout",
     "output_type": "stream",
     "text": [
      "Train | Loss: 0.9227, Recall: 0.0855, Precision: 0.0496, F1: 0.0628\n",
      "Val   | Loss: 0.9288, Recall: 0.0306, Precision: 0.0309, F1: 0.0308\n",
      "-----------------------------\n",
      "Epoch 25\n"
     ]
    },
    {
     "data": {
      "application/vnd.jupyter.widget-view+json": {
       "model_id": "b64a3d4b9c0a45bc85aa1dab62abf0c9",
       "version_major": 2,
       "version_minor": 0
      },
      "text/plain": [
       "Training Batches:   0%|          | 0/5 [00:00<?, ?it/s]"
      ]
     },
     "metadata": {},
     "output_type": "display_data"
    },
    {
     "data": {
      "application/vnd.jupyter.widget-view+json": {
       "model_id": "dff8023a91874a77bea4aef7671aff59",
       "version_major": 2,
       "version_minor": 0
      },
      "text/plain": [
       "Validation Batches:   0%|          | 0/5 [00:00<?, ?it/s]"
      ]
     },
     "metadata": {},
     "output_type": "display_data"
    },
    {
     "name": "stdout",
     "output_type": "stream",
     "text": [
      "Train | Loss: 0.9257, Recall: 0.0803, Precision: 0.0450, F1: 0.0577\n",
      "Val   | Loss: 0.9284, Recall: 0.0302, Precision: 0.0311, F1: 0.0306\n",
      "-----------------------------\n",
      "Epoch 26\n"
     ]
    },
    {
     "data": {
      "application/vnd.jupyter.widget-view+json": {
       "model_id": "5b22c852dd7d4a33ae7d21bc89cc0510",
       "version_major": 2,
       "version_minor": 0
      },
      "text/plain": [
       "Training Batches:   0%|          | 0/5 [00:00<?, ?it/s]"
      ]
     },
     "metadata": {},
     "output_type": "display_data"
    },
    {
     "data": {
      "application/vnd.jupyter.widget-view+json": {
       "model_id": "9a5685a4092343c99b6bc6070d238d35",
       "version_major": 2,
       "version_minor": 0
      },
      "text/plain": [
       "Validation Batches:   0%|          | 0/5 [00:00<?, ?it/s]"
      ]
     },
     "metadata": {},
     "output_type": "display_data"
    },
    {
     "name": "stdout",
     "output_type": "stream",
     "text": [
      "Train | Loss: 0.9234, Recall: 0.0844, Precision: 0.0473, F1: 0.0606\n",
      "Val   | Loss: 0.9280, Recall: 0.0271, Precision: 0.0318, F1: 0.0293\n",
      "-----------------------------\n",
      "Epoch 27\n"
     ]
    },
    {
     "data": {
      "application/vnd.jupyter.widget-view+json": {
       "model_id": "d35ee98bd616415ca2023bd790fed848",
       "version_major": 2,
       "version_minor": 0
      },
      "text/plain": [
       "Training Batches:   0%|          | 0/5 [00:00<?, ?it/s]"
      ]
     },
     "metadata": {},
     "output_type": "display_data"
    },
    {
     "data": {
      "application/vnd.jupyter.widget-view+json": {
       "model_id": "20855a2d34424fa6a5cef7d4de0589d5",
       "version_major": 2,
       "version_minor": 0
      },
      "text/plain": [
       "Validation Batches:   0%|          | 0/5 [00:00<?, ?it/s]"
      ]
     },
     "metadata": {},
     "output_type": "display_data"
    },
    {
     "name": "stdout",
     "output_type": "stream",
     "text": [
      "Train | Loss: 0.9188, Recall: 0.0843, Precision: 0.0527, F1: 0.0648\n",
      "Val   | Loss: 0.9279, Recall: 0.0269, Precision: 0.0317, F1: 0.0291\n",
      "-----------------------------\n",
      "Epoch 28\n"
     ]
    },
    {
     "data": {
      "application/vnd.jupyter.widget-view+json": {
       "model_id": "1c60431ce172461bb00c06d2462993a8",
       "version_major": 2,
       "version_minor": 0
      },
      "text/plain": [
       "Training Batches:   0%|          | 0/5 [00:00<?, ?it/s]"
      ]
     },
     "metadata": {},
     "output_type": "display_data"
    },
    {
     "data": {
      "application/vnd.jupyter.widget-view+json": {
       "model_id": "1813ea20ac344b3583a4377a83cc064d",
       "version_major": 2,
       "version_minor": 0
      },
      "text/plain": [
       "Validation Batches:   0%|          | 0/5 [00:00<?, ?it/s]"
      ]
     },
     "metadata": {},
     "output_type": "display_data"
    },
    {
     "name": "stdout",
     "output_type": "stream",
     "text": [
      "Train | Loss: 0.9198, Recall: 0.0829, Precision: 0.0523, F1: 0.0641\n",
      "Val   | Loss: 0.9279, Recall: 0.0270, Precision: 0.0318, F1: 0.0292\n",
      "-----------------------------\n",
      "Epoch 29\n"
     ]
    },
    {
     "data": {
      "application/vnd.jupyter.widget-view+json": {
       "model_id": "451d76c781a44e45900cd68dc56589fa",
       "version_major": 2,
       "version_minor": 0
      },
      "text/plain": [
       "Training Batches:   0%|          | 0/5 [00:00<?, ?it/s]"
      ]
     },
     "metadata": {},
     "output_type": "display_data"
    },
    {
     "data": {
      "application/vnd.jupyter.widget-view+json": {
       "model_id": "7c266cc4cd7643629718f9b60d47bcd0",
       "version_major": 2,
       "version_minor": 0
      },
      "text/plain": [
       "Validation Batches:   0%|          | 0/5 [00:00<?, ?it/s]"
      ]
     },
     "metadata": {},
     "output_type": "display_data"
    },
    {
     "name": "stdout",
     "output_type": "stream",
     "text": [
      "Train | Loss: 0.9218, Recall: 0.0764, Precision: 0.0506, F1: 0.0609\n",
      "Val   | Loss: 0.9282, Recall: 0.0252, Precision: 0.0319, F1: 0.0282\n",
      "-----------------------------\n",
      "Epoch 30\n"
     ]
    },
    {
     "data": {
      "application/vnd.jupyter.widget-view+json": {
       "model_id": "88999d39a2e64c5bb2a80ed8531be33b",
       "version_major": 2,
       "version_minor": 0
      },
      "text/plain": [
       "Training Batches:   0%|          | 0/5 [00:00<?, ?it/s]"
      ]
     },
     "metadata": {},
     "output_type": "display_data"
    },
    {
     "data": {
      "application/vnd.jupyter.widget-view+json": {
       "model_id": "f71a3d9408d64f94bf56491324706b38",
       "version_major": 2,
       "version_minor": 0
      },
      "text/plain": [
       "Validation Batches:   0%|          | 0/5 [00:00<?, ?it/s]"
      ]
     },
     "metadata": {},
     "output_type": "display_data"
    },
    {
     "name": "stdout",
     "output_type": "stream",
     "text": [
      "Train | Loss: 0.9150, Recall: 0.0829, Precision: 0.0577, F1: 0.0680\n",
      "Val   | Loss: 0.9285, Recall: 0.0249, Precision: 0.0318, F1: 0.0279\n",
      "-----------------------------\n",
      "Epoch 31\n"
     ]
    },
    {
     "data": {
      "application/vnd.jupyter.widget-view+json": {
       "model_id": "2cd3412db0c44645a67d507c9d3a2296",
       "version_major": 2,
       "version_minor": 0
      },
      "text/plain": [
       "Training Batches:   0%|          | 0/5 [00:00<?, ?it/s]"
      ]
     },
     "metadata": {},
     "output_type": "display_data"
    },
    {
     "data": {
      "application/vnd.jupyter.widget-view+json": {
       "model_id": "eb91dcf9bef944e7a6a593242d9b1a92",
       "version_major": 2,
       "version_minor": 0
      },
      "text/plain": [
       "Validation Batches:   0%|          | 0/5 [00:00<?, ?it/s]"
      ]
     },
     "metadata": {},
     "output_type": "display_data"
    },
    {
     "name": "stdout",
     "output_type": "stream",
     "text": [
      "Train | Loss: 0.9213, Recall: 0.0703, Precision: 0.0512, F1: 0.0592\n",
      "Val   | Loss: 0.9287, Recall: 0.0246, Precision: 0.0316, F1: 0.0277\n",
      "-----------------------------\n",
      "Epoch 32\n"
     ]
    },
    {
     "data": {
      "application/vnd.jupyter.widget-view+json": {
       "model_id": "eced1cd30cd84fdcb14621d899463d8f",
       "version_major": 2,
       "version_minor": 0
      },
      "text/plain": [
       "Training Batches:   0%|          | 0/5 [00:00<?, ?it/s]"
      ]
     },
     "metadata": {},
     "output_type": "display_data"
    },
    {
     "data": {
      "application/vnd.jupyter.widget-view+json": {
       "model_id": "ff9671c8c65341709e7b50adc6713a3c",
       "version_major": 2,
       "version_minor": 0
      },
      "text/plain": [
       "Validation Batches:   0%|          | 0/5 [00:00<?, ?it/s]"
      ]
     },
     "metadata": {},
     "output_type": "display_data"
    },
    {
     "name": "stdout",
     "output_type": "stream",
     "text": [
      "Train | Loss: 0.9208, Recall: 0.0684, Precision: 0.0535, F1: 0.0600\n",
      "Val   | Loss: 0.9287, Recall: 0.0244, Precision: 0.0314, F1: 0.0275\n",
      "-----------------------------\n",
      "Epoch 33\n"
     ]
    },
    {
     "data": {
      "application/vnd.jupyter.widget-view+json": {
       "model_id": "4beda021e1c24bfba877ae8dec9e6ea8",
       "version_major": 2,
       "version_minor": 0
      },
      "text/plain": [
       "Training Batches:   0%|          | 0/5 [00:00<?, ?it/s]"
      ]
     },
     "metadata": {},
     "output_type": "display_data"
    },
    {
     "data": {
      "application/vnd.jupyter.widget-view+json": {
       "model_id": "43b697cad6834a89998d872753282bef",
       "version_major": 2,
       "version_minor": 0
      },
      "text/plain": [
       "Validation Batches:   0%|          | 0/5 [00:00<?, ?it/s]"
      ]
     },
     "metadata": {},
     "output_type": "display_data"
    },
    {
     "name": "stdout",
     "output_type": "stream",
     "text": [
      "Train | Loss: 0.9197, Recall: 0.0705, Precision: 0.0538, F1: 0.0610\n",
      "Val   | Loss: 0.9289, Recall: 0.0259, Precision: 0.0311, F1: 0.0283\n",
      "-----------------------------\n",
      "Epoch 34\n"
     ]
    },
    {
     "data": {
      "application/vnd.jupyter.widget-view+json": {
       "model_id": "323d8582dde345f7894548da9ea35ee9",
       "version_major": 2,
       "version_minor": 0
      },
      "text/plain": [
       "Training Batches:   0%|          | 0/5 [00:00<?, ?it/s]"
      ]
     },
     "metadata": {},
     "output_type": "display_data"
    },
    {
     "data": {
      "application/vnd.jupyter.widget-view+json": {
       "model_id": "c8f9a21be78248be91e370573ed6b935",
       "version_major": 2,
       "version_minor": 0
      },
      "text/plain": [
       "Validation Batches:   0%|          | 0/5 [00:00<?, ?it/s]"
      ]
     },
     "metadata": {},
     "output_type": "display_data"
    },
    {
     "name": "stdout",
     "output_type": "stream",
     "text": [
      "Train | Loss: 0.9234, Recall: 0.0659, Precision: 0.0498, F1: 0.0567\n",
      "Val   | Loss: 0.9289, Recall: 0.0264, Precision: 0.0314, F1: 0.0286\n",
      "-----------------------------\n",
      "Epoch 35\n"
     ]
    },
    {
     "data": {
      "application/vnd.jupyter.widget-view+json": {
       "model_id": "6e2a1365ecda4fab91e295a693146ad4",
       "version_major": 2,
       "version_minor": 0
      },
      "text/plain": [
       "Training Batches:   0%|          | 0/5 [00:00<?, ?it/s]"
      ]
     },
     "metadata": {},
     "output_type": "display_data"
    },
    {
     "data": {
      "application/vnd.jupyter.widget-view+json": {
       "model_id": "c856c36cff004721bd8f706ebd825223",
       "version_major": 2,
       "version_minor": 0
      },
      "text/plain": [
       "Validation Batches:   0%|          | 0/5 [00:00<?, ?it/s]"
      ]
     },
     "metadata": {},
     "output_type": "display_data"
    },
    {
     "name": "stdout",
     "output_type": "stream",
     "text": [
      "Train | Loss: 0.9171, Recall: 0.0736, Precision: 0.0564, F1: 0.0639\n",
      "Val   | Loss: 0.9290, Recall: 0.0263, Precision: 0.0312, F1: 0.0285\n",
      "-----------------------------\n",
      "Epoch 36\n"
     ]
    },
    {
     "data": {
      "application/vnd.jupyter.widget-view+json": {
       "model_id": "56273f1da01c47e98dd43e3c155c4b12",
       "version_major": 2,
       "version_minor": 0
      },
      "text/plain": [
       "Training Batches:   0%|          | 0/5 [00:00<?, ?it/s]"
      ]
     },
     "metadata": {},
     "output_type": "display_data"
    },
    {
     "data": {
      "application/vnd.jupyter.widget-view+json": {
       "model_id": "60dd6e9923a64c78bf347214dd43739f",
       "version_major": 2,
       "version_minor": 0
      },
      "text/plain": [
       "Validation Batches:   0%|          | 0/5 [00:00<?, ?it/s]"
      ]
     },
     "metadata": {},
     "output_type": "display_data"
    },
    {
     "name": "stdout",
     "output_type": "stream",
     "text": [
      "Train | Loss: 0.9240, Recall: 0.0606, Precision: 0.0486, F1: 0.0540\n",
      "Val   | Loss: 0.9293, Recall: 0.0250, Precision: 0.0309, F1: 0.0276\n",
      "-----------------------------\n",
      "Epoch 37\n"
     ]
    },
    {
     "data": {
      "application/vnd.jupyter.widget-view+json": {
       "model_id": "33d9bdd768a046ae9bdad43b60a1abfc",
       "version_major": 2,
       "version_minor": 0
      },
      "text/plain": [
       "Training Batches:   0%|          | 0/5 [00:00<?, ?it/s]"
      ]
     },
     "metadata": {},
     "output_type": "display_data"
    },
    {
     "data": {
      "application/vnd.jupyter.widget-view+json": {
       "model_id": "0aee14899c4c43849d076a4bbab1fb93",
       "version_major": 2,
       "version_minor": 0
      },
      "text/plain": [
       "Validation Batches:   0%|          | 0/5 [00:00<?, ?it/s]"
      ]
     },
     "metadata": {},
     "output_type": "display_data"
    },
    {
     "name": "stdout",
     "output_type": "stream",
     "text": [
      "Train | Loss: 0.9171, Recall: 0.0708, Precision: 0.0584, F1: 0.0640\n",
      "Val   | Loss: 0.9293, Recall: 0.0263, Precision: 0.0311, F1: 0.0285\n",
      "-----------------------------\n",
      "Epoch 38\n"
     ]
    },
    {
     "data": {
      "application/vnd.jupyter.widget-view+json": {
       "model_id": "9903939f048044ff9a5a70ebc5439a2c",
       "version_major": 2,
       "version_minor": 0
      },
      "text/plain": [
       "Training Batches:   0%|          | 0/5 [00:00<?, ?it/s]"
      ]
     },
     "metadata": {},
     "output_type": "display_data"
    },
    {
     "data": {
      "application/vnd.jupyter.widget-view+json": {
       "model_id": "549cb2fb3a3e4cd9a56e8a3dc6f7ebd4",
       "version_major": 2,
       "version_minor": 0
      },
      "text/plain": [
       "Validation Batches:   0%|          | 0/5 [00:00<?, ?it/s]"
      ]
     },
     "metadata": {},
     "output_type": "display_data"
    },
    {
     "name": "stdout",
     "output_type": "stream",
     "text": [
      "Train | Loss: 0.9210, Recall: 0.0688, Precision: 0.0523, F1: 0.0594\n",
      "Val   | Loss: 0.9294, Recall: 0.0264, Precision: 0.0310, F1: 0.0285\n",
      "-----------------------------\n",
      "Epoch 39\n"
     ]
    },
    {
     "data": {
      "application/vnd.jupyter.widget-view+json": {
       "model_id": "6e7d1fafd13c49e181124e01d74ed154",
       "version_major": 2,
       "version_minor": 0
      },
      "text/plain": [
       "Training Batches:   0%|          | 0/5 [00:00<?, ?it/s]"
      ]
     },
     "metadata": {},
     "output_type": "display_data"
    },
    {
     "data": {
      "application/vnd.jupyter.widget-view+json": {
       "model_id": "1d9da0c140be442093f2868c30910732",
       "version_major": 2,
       "version_minor": 0
      },
      "text/plain": [
       "Validation Batches:   0%|          | 0/5 [00:00<?, ?it/s]"
      ]
     },
     "metadata": {},
     "output_type": "display_data"
    },
    {
     "name": "stdout",
     "output_type": "stream",
     "text": [
      "Train | Loss: 0.9195, Recall: 0.0753, Precision: 0.0551, F1: 0.0637\n",
      "Val   | Loss: 0.9292, Recall: 0.0267, Precision: 0.0311, F1: 0.0287\n",
      "-----------------------------\n",
      "Epoch 40\n"
     ]
    },
    {
     "data": {
      "application/vnd.jupyter.widget-view+json": {
       "model_id": "e1ee59da29ac45538ba80c539e3d4f82",
       "version_major": 2,
       "version_minor": 0
      },
      "text/plain": [
       "Training Batches:   0%|          | 0/5 [00:00<?, ?it/s]"
      ]
     },
     "metadata": {},
     "output_type": "display_data"
    },
    {
     "data": {
      "application/vnd.jupyter.widget-view+json": {
       "model_id": "e7633f70b0a74e1188056163b16b9508",
       "version_major": 2,
       "version_minor": 0
      },
      "text/plain": [
       "Validation Batches:   0%|          | 0/5 [00:00<?, ?it/s]"
      ]
     },
     "metadata": {},
     "output_type": "display_data"
    },
    {
     "name": "stdout",
     "output_type": "stream",
     "text": [
      "Train | Loss: 0.9229, Recall: 0.0704, Precision: 0.0497, F1: 0.0583\n",
      "Val   | Loss: 0.9291, Recall: 0.0257, Precision: 0.0308, F1: 0.0280\n",
      "-----------------------------\n",
      "Epoch 41\n"
     ]
    },
    {
     "data": {
      "application/vnd.jupyter.widget-view+json": {
       "model_id": "36291a20d82848328820a3a7bb32660e",
       "version_major": 2,
       "version_minor": 0
      },
      "text/plain": [
       "Training Batches:   0%|          | 0/5 [00:00<?, ?it/s]"
      ]
     },
     "metadata": {},
     "output_type": "display_data"
    },
    {
     "data": {
      "application/vnd.jupyter.widget-view+json": {
       "model_id": "f3e17b86bc134b16af12cf380a84c2e1",
       "version_major": 2,
       "version_minor": 0
      },
      "text/plain": [
       "Validation Batches:   0%|          | 0/5 [00:00<?, ?it/s]"
      ]
     },
     "metadata": {},
     "output_type": "display_data"
    },
    {
     "name": "stdout",
     "output_type": "stream",
     "text": [
      "Train | Loss: 0.9176, Recall: 0.0814, Precision: 0.0581, F1: 0.0678\n",
      "Val   | Loss: 0.9288, Recall: 0.0251, Precision: 0.0315, F1: 0.0279\n",
      "-----------------------------\n",
      "Epoch 42\n"
     ]
    },
    {
     "data": {
      "application/vnd.jupyter.widget-view+json": {
       "model_id": "3147ae50e9b34a83aa9e2ae7e0af90fb",
       "version_major": 2,
       "version_minor": 0
      },
      "text/plain": [
       "Training Batches:   0%|          | 0/5 [00:00<?, ?it/s]"
      ]
     },
     "metadata": {},
     "output_type": "display_data"
    },
    {
     "data": {
      "application/vnd.jupyter.widget-view+json": {
       "model_id": "5e5d4dd78c67436d88cd2458994375d6",
       "version_major": 2,
       "version_minor": 0
      },
      "text/plain": [
       "Validation Batches:   0%|          | 0/5 [00:00<?, ?it/s]"
      ]
     },
     "metadata": {},
     "output_type": "display_data"
    },
    {
     "name": "stdout",
     "output_type": "stream",
     "text": [
      "Train | Loss: 0.9160, Recall: 0.0813, Precision: 0.0581, F1: 0.0678\n",
      "Val   | Loss: 0.9287, Recall: 0.0251, Precision: 0.0316, F1: 0.0280\n",
      "-----------------------------\n",
      "Epoch 43\n"
     ]
    },
    {
     "data": {
      "application/vnd.jupyter.widget-view+json": {
       "model_id": "599f180ecee74cf584dc0b680093e19f",
       "version_major": 2,
       "version_minor": 0
      },
      "text/plain": [
       "Training Batches:   0%|          | 0/5 [00:00<?, ?it/s]"
      ]
     },
     "metadata": {},
     "output_type": "display_data"
    },
    {
     "data": {
      "application/vnd.jupyter.widget-view+json": {
       "model_id": "74b01f5872c547579d6a080899fba84c",
       "version_major": 2,
       "version_minor": 0
      },
      "text/plain": [
       "Validation Batches:   0%|          | 0/5 [00:00<?, ?it/s]"
      ]
     },
     "metadata": {},
     "output_type": "display_data"
    },
    {
     "name": "stdout",
     "output_type": "stream",
     "text": [
      "Train | Loss: 0.9185, Recall: 0.0787, Precision: 0.0565, F1: 0.0658\n",
      "Val   | Loss: 0.9286, Recall: 0.0250, Precision: 0.0317, F1: 0.0280\n",
      "-----------------------------\n",
      "Epoch 44\n"
     ]
    },
    {
     "data": {
      "application/vnd.jupyter.widget-view+json": {
       "model_id": "6f1bd546c93c4e1f9cc5643c291e2764",
       "version_major": 2,
       "version_minor": 0
      },
      "text/plain": [
       "Training Batches:   0%|          | 0/5 [00:00<?, ?it/s]"
      ]
     },
     "metadata": {},
     "output_type": "display_data"
    },
    {
     "data": {
      "application/vnd.jupyter.widget-view+json": {
       "model_id": "3d27a4f46464445cbd9255771a9efc6c",
       "version_major": 2,
       "version_minor": 0
      },
      "text/plain": [
       "Validation Batches:   0%|          | 0/5 [00:00<?, ?it/s]"
      ]
     },
     "metadata": {},
     "output_type": "display_data"
    },
    {
     "name": "stdout",
     "output_type": "stream",
     "text": [
      "Train | Loss: 0.9198, Recall: 0.0719, Precision: 0.0534, F1: 0.0612\n",
      "Val   | Loss: 0.9285, Recall: 0.0243, Precision: 0.0313, F1: 0.0273\n",
      "-----------------------------\n",
      "Epoch 45\n"
     ]
    },
    {
     "data": {
      "application/vnd.jupyter.widget-view+json": {
       "model_id": "9da06e6283b643a8be443cffba6ea2f7",
       "version_major": 2,
       "version_minor": 0
      },
      "text/plain": [
       "Training Batches:   0%|          | 0/5 [00:00<?, ?it/s]"
      ]
     },
     "metadata": {},
     "output_type": "display_data"
    },
    {
     "data": {
      "application/vnd.jupyter.widget-view+json": {
       "model_id": "9e93c79fdba14a44b84342b1fb424005",
       "version_major": 2,
       "version_minor": 0
      },
      "text/plain": [
       "Validation Batches:   0%|          | 0/5 [00:00<?, ?it/s]"
      ]
     },
     "metadata": {},
     "output_type": "display_data"
    },
    {
     "name": "stdout",
     "output_type": "stream",
     "text": [
      "Train | Loss: 0.9159, Recall: 0.0791, Precision: 0.0578, F1: 0.0668\n",
      "Val   | Loss: 0.9283, Recall: 0.0248, Precision: 0.0316, F1: 0.0278\n",
      "-----------------------------\n",
      "Epoch 46\n"
     ]
    },
    {
     "data": {
      "application/vnd.jupyter.widget-view+json": {
       "model_id": "02b0aabc11b845958b3fd869b0768586",
       "version_major": 2,
       "version_minor": 0
      },
      "text/plain": [
       "Training Batches:   0%|          | 0/5 [00:00<?, ?it/s]"
      ]
     },
     "metadata": {},
     "output_type": "display_data"
    },
    {
     "data": {
      "application/vnd.jupyter.widget-view+json": {
       "model_id": "a7b2dd462df641ed898dffcaf7328842",
       "version_major": 2,
       "version_minor": 0
      },
      "text/plain": [
       "Validation Batches:   0%|          | 0/5 [00:00<?, ?it/s]"
      ]
     },
     "metadata": {},
     "output_type": "display_data"
    },
    {
     "name": "stdout",
     "output_type": "stream",
     "text": [
      "Train | Loss: 0.9180, Recall: 0.0750, Precision: 0.0548, F1: 0.0633\n",
      "Val   | Loss: 0.9284, Recall: 0.0242, Precision: 0.0313, F1: 0.0273\n",
      "-----------------------------\n",
      "Epoch 47\n"
     ]
    },
    {
     "data": {
      "application/vnd.jupyter.widget-view+json": {
       "model_id": "979e855f428d40dfaf29a25f3697beae",
       "version_major": 2,
       "version_minor": 0
      },
      "text/plain": [
       "Training Batches:   0%|          | 0/5 [00:00<?, ?it/s]"
      ]
     },
     "metadata": {},
     "output_type": "display_data"
    },
    {
     "data": {
      "application/vnd.jupyter.widget-view+json": {
       "model_id": "a357dbc7825c415388f0bdc1c3fd6c40",
       "version_major": 2,
       "version_minor": 0
      },
      "text/plain": [
       "Validation Batches:   0%|          | 0/5 [00:00<?, ?it/s]"
      ]
     },
     "metadata": {},
     "output_type": "display_data"
    },
    {
     "name": "stdout",
     "output_type": "stream",
     "text": [
      "Train | Loss: 0.9153, Recall: 0.0792, Precision: 0.0576, F1: 0.0667\n",
      "Val   | Loss: 0.9283, Recall: 0.0252, Precision: 0.0318, F1: 0.0281\n",
      "-----------------------------\n",
      "Epoch 48\n"
     ]
    },
    {
     "data": {
      "application/vnd.jupyter.widget-view+json": {
       "model_id": "fa1c14778300483e8e1733dd34735585",
       "version_major": 2,
       "version_minor": 0
      },
      "text/plain": [
       "Training Batches:   0%|          | 0/5 [00:00<?, ?it/s]"
      ]
     },
     "metadata": {},
     "output_type": "display_data"
    },
    {
     "data": {
      "application/vnd.jupyter.widget-view+json": {
       "model_id": "37c53c1c973e49b4b6da15abcc76a8b4",
       "version_major": 2,
       "version_minor": 0
      },
      "text/plain": [
       "Validation Batches:   0%|          | 0/5 [00:00<?, ?it/s]"
      ]
     },
     "metadata": {},
     "output_type": "display_data"
    },
    {
     "name": "stdout",
     "output_type": "stream",
     "text": [
      "Train | Loss: 0.9207, Recall: 0.0760, Precision: 0.0522, F1: 0.0619\n",
      "Val   | Loss: 0.9283, Recall: 0.0268, Precision: 0.0315, F1: 0.0289\n",
      "-----------------------------\n",
      "Epoch 49\n"
     ]
    },
    {
     "data": {
      "application/vnd.jupyter.widget-view+json": {
       "model_id": "0ee72af30cc748429d1fa786e712f286",
       "version_major": 2,
       "version_minor": 0
      },
      "text/plain": [
       "Training Batches:   0%|          | 0/5 [00:00<?, ?it/s]"
      ]
     },
     "metadata": {},
     "output_type": "display_data"
    },
    {
     "data": {
      "application/vnd.jupyter.widget-view+json": {
       "model_id": "fbbdbf3954224fc3ad0e33a0f4538db1",
       "version_major": 2,
       "version_minor": 0
      },
      "text/plain": [
       "Validation Batches:   0%|          | 0/5 [00:00<?, ?it/s]"
      ]
     },
     "metadata": {},
     "output_type": "display_data"
    },
    {
     "name": "stdout",
     "output_type": "stream",
     "text": [
      "Train | Loss: 0.9188, Recall: 0.0795, Precision: 0.0525, F1: 0.0632\n",
      "Val   | Loss: 0.9283, Recall: 0.0268, Precision: 0.0315, F1: 0.0290\n",
      "-----------------------------\n",
      "Epoch 50\n"
     ]
    },
    {
     "data": {
      "application/vnd.jupyter.widget-view+json": {
       "model_id": "d229837fcfaa4993a8e3dc2e4ae53e73",
       "version_major": 2,
       "version_minor": 0
      },
      "text/plain": [
       "Training Batches:   0%|          | 0/5 [00:00<?, ?it/s]"
      ]
     },
     "metadata": {},
     "output_type": "display_data"
    },
    {
     "data": {
      "application/vnd.jupyter.widget-view+json": {
       "model_id": "028c7fc4e72c4834a5b81a279f7730a2",
       "version_major": 2,
       "version_minor": 0
      },
      "text/plain": [
       "Validation Batches:   0%|          | 0/5 [00:00<?, ?it/s]"
      ]
     },
     "metadata": {},
     "output_type": "display_data"
    },
    {
     "name": "stdout",
     "output_type": "stream",
     "text": [
      "Train | Loss: 0.9217, Recall: 0.0774, Precision: 0.0511, F1: 0.0615\n",
      "Val   | Loss: 0.9284, Recall: 0.0267, Precision: 0.0314, F1: 0.0288\n",
      "-----------------------------\n",
      "Epoch 51\n"
     ]
    },
    {
     "data": {
      "application/vnd.jupyter.widget-view+json": {
       "model_id": "b0fe4ffe5fc6473db0de8bb32d41f498",
       "version_major": 2,
       "version_minor": 0
      },
      "text/plain": [
       "Training Batches:   0%|          | 0/5 [00:00<?, ?it/s]"
      ]
     },
     "metadata": {},
     "output_type": "display_data"
    },
    {
     "data": {
      "application/vnd.jupyter.widget-view+json": {
       "model_id": "b30d8b636ee5441ba0ac1b474b16d4c5",
       "version_major": 2,
       "version_minor": 0
      },
      "text/plain": [
       "Validation Batches:   0%|          | 0/5 [00:00<?, ?it/s]"
      ]
     },
     "metadata": {},
     "output_type": "display_data"
    },
    {
     "name": "stdout",
     "output_type": "stream",
     "text": [
      "Train | Loss: 0.9201, Recall: 0.0799, Precision: 0.0533, F1: 0.0639\n",
      "Val   | Loss: 0.9284, Recall: 0.0266, Precision: 0.0313, F1: 0.0288\n",
      "-----------------------------\n",
      "Epoch 52\n"
     ]
    },
    {
     "data": {
      "application/vnd.jupyter.widget-view+json": {
       "model_id": "fa8bcfd74e3b4bfb827b96a6fae6f5c1",
       "version_major": 2,
       "version_minor": 0
      },
      "text/plain": [
       "Training Batches:   0%|          | 0/5 [00:00<?, ?it/s]"
      ]
     },
     "metadata": {},
     "output_type": "display_data"
    },
    {
     "data": {
      "application/vnd.jupyter.widget-view+json": {
       "model_id": "ca081ac009764e70af0f030837a855c7",
       "version_major": 2,
       "version_minor": 0
      },
      "text/plain": [
       "Validation Batches:   0%|          | 0/5 [00:00<?, ?it/s]"
      ]
     },
     "metadata": {},
     "output_type": "display_data"
    },
    {
     "name": "stdout",
     "output_type": "stream",
     "text": [
      "Train | Loss: 0.9198, Recall: 0.0802, Precision: 0.0539, F1: 0.0644\n",
      "Val   | Loss: 0.9285, Recall: 0.0265, Precision: 0.0314, F1: 0.0288\n",
      "-----------------------------\n",
      "Epoch 53\n"
     ]
    },
    {
     "data": {
      "application/vnd.jupyter.widget-view+json": {
       "model_id": "9236c69dbe9048b389607a259a45f401",
       "version_major": 2,
       "version_minor": 0
      },
      "text/plain": [
       "Training Batches:   0%|          | 0/5 [00:00<?, ?it/s]"
      ]
     },
     "metadata": {},
     "output_type": "display_data"
    },
    {
     "data": {
      "application/vnd.jupyter.widget-view+json": {
       "model_id": "b5c455d056c54c24a0e5e462bfd450bf",
       "version_major": 2,
       "version_minor": 0
      },
      "text/plain": [
       "Validation Batches:   0%|          | 0/5 [00:00<?, ?it/s]"
      ]
     },
     "metadata": {},
     "output_type": "display_data"
    },
    {
     "name": "stdout",
     "output_type": "stream",
     "text": [
      "Train | Loss: 0.9181, Recall: 0.0818, Precision: 0.0556, F1: 0.0662\n",
      "Val   | Loss: 0.9286, Recall: 0.0259, Precision: 0.0310, F1: 0.0282\n",
      "-----------------------------\n",
      "Epoch 54\n"
     ]
    },
    {
     "data": {
      "application/vnd.jupyter.widget-view+json": {
       "model_id": "9f412a56f5944ff9a970e18d042bc432",
       "version_major": 2,
       "version_minor": 0
      },
      "text/plain": [
       "Training Batches:   0%|          | 0/5 [00:00<?, ?it/s]"
      ]
     },
     "metadata": {},
     "output_type": "display_data"
    },
    {
     "data": {
      "application/vnd.jupyter.widget-view+json": {
       "model_id": "9c918815ee8f488196917857bdae737c",
       "version_major": 2,
       "version_minor": 0
      },
      "text/plain": [
       "Validation Batches:   0%|          | 0/5 [00:00<?, ?it/s]"
      ]
     },
     "metadata": {},
     "output_type": "display_data"
    },
    {
     "name": "stdout",
     "output_type": "stream",
     "text": [
      "Train | Loss: 0.9155, Recall: 0.0842, Precision: 0.0581, F1: 0.0688\n",
      "Val   | Loss: 0.9286, Recall: 0.0252, Precision: 0.0317, F1: 0.0281\n",
      "-----------------------------\n",
      "Epoch 55\n"
     ]
    },
    {
     "data": {
      "application/vnd.jupyter.widget-view+json": {
       "model_id": "789dbbdc94bb4b29ae16a652c8047068",
       "version_major": 2,
       "version_minor": 0
      },
      "text/plain": [
       "Training Batches:   0%|          | 0/5 [00:00<?, ?it/s]"
      ]
     },
     "metadata": {},
     "output_type": "display_data"
    },
    {
     "data": {
      "application/vnd.jupyter.widget-view+json": {
       "model_id": "80d81f8d1bb84540838186a00b15e4c0",
       "version_major": 2,
       "version_minor": 0
      },
      "text/plain": [
       "Validation Batches:   0%|          | 0/5 [00:00<?, ?it/s]"
      ]
     },
     "metadata": {},
     "output_type": "display_data"
    },
    {
     "name": "stdout",
     "output_type": "stream",
     "text": [
      "Train | Loss: 0.9221, Recall: 0.0720, Precision: 0.0506, F1: 0.0595\n",
      "Val   | Loss: 0.9286, Recall: 0.0251, Precision: 0.0317, F1: 0.0280\n",
      "-----------------------------\n",
      "Epoch 56\n"
     ]
    },
    {
     "data": {
      "application/vnd.jupyter.widget-view+json": {
       "model_id": "3a5d126f86c449bdae5225e3e3c152ee",
       "version_major": 2,
       "version_minor": 0
      },
      "text/plain": [
       "Training Batches:   0%|          | 0/5 [00:00<?, ?it/s]"
      ]
     },
     "metadata": {},
     "output_type": "display_data"
    },
    {
     "data": {
      "application/vnd.jupyter.widget-view+json": {
       "model_id": "cad664992665435f8e99943b72c90661",
       "version_major": 2,
       "version_minor": 0
      },
      "text/plain": [
       "Validation Batches:   0%|          | 0/5 [00:00<?, ?it/s]"
      ]
     },
     "metadata": {},
     "output_type": "display_data"
    },
    {
     "name": "stdout",
     "output_type": "stream",
     "text": [
      "Train | Loss: 0.9210, Recall: 0.0758, Precision: 0.0535, F1: 0.0627\n",
      "Val   | Loss: 0.9286, Recall: 0.0251, Precision: 0.0317, F1: 0.0280\n",
      "-----------------------------\n",
      "Epoch 57\n"
     ]
    },
    {
     "data": {
      "application/vnd.jupyter.widget-view+json": {
       "model_id": "255d966668644acfbe082fba22898680",
       "version_major": 2,
       "version_minor": 0
      },
      "text/plain": [
       "Training Batches:   0%|          | 0/5 [00:00<?, ?it/s]"
      ]
     },
     "metadata": {},
     "output_type": "display_data"
    },
    {
     "data": {
      "application/vnd.jupyter.widget-view+json": {
       "model_id": "d89bbd0f43b7403fb40dac91e77e1f55",
       "version_major": 2,
       "version_minor": 0
      },
      "text/plain": [
       "Validation Batches:   0%|          | 0/5 [00:00<?, ?it/s]"
      ]
     },
     "metadata": {},
     "output_type": "display_data"
    },
    {
     "name": "stdout",
     "output_type": "stream",
     "text": [
      "Train | Loss: 0.9177, Recall: 0.0769, Precision: 0.0549, F1: 0.0641\n",
      "Val   | Loss: 0.9286, Recall: 0.0251, Precision: 0.0317, F1: 0.0280\n",
      "-----------------------------\n",
      "Epoch 58\n"
     ]
    },
    {
     "data": {
      "application/vnd.jupyter.widget-view+json": {
       "model_id": "165528df7c10401b8c706d6cd4d8be7a",
       "version_major": 2,
       "version_minor": 0
      },
      "text/plain": [
       "Training Batches:   0%|          | 0/5 [00:00<?, ?it/s]"
      ]
     },
     "metadata": {},
     "output_type": "display_data"
    },
    {
     "data": {
      "application/vnd.jupyter.widget-view+json": {
       "model_id": "d09c4ab2a7104981b6afd974e95e02ad",
       "version_major": 2,
       "version_minor": 0
      },
      "text/plain": [
       "Validation Batches:   0%|          | 0/5 [00:00<?, ?it/s]"
      ]
     },
     "metadata": {},
     "output_type": "display_data"
    },
    {
     "name": "stdout",
     "output_type": "stream",
     "text": [
      "Train | Loss: 0.9190, Recall: 0.0737, Precision: 0.0530, F1: 0.0617\n",
      "Val   | Loss: 0.9287, Recall: 0.0249, Precision: 0.0315, F1: 0.0278\n",
      "-----------------------------\n",
      "Epoch 59\n"
     ]
    },
    {
     "data": {
      "application/vnd.jupyter.widget-view+json": {
       "model_id": "bd6fde9a9eb94dfea3f512aea03fae0a",
       "version_major": 2,
       "version_minor": 0
      },
      "text/plain": [
       "Training Batches:   0%|          | 0/5 [00:00<?, ?it/s]"
      ]
     },
     "metadata": {},
     "output_type": "display_data"
    },
    {
     "data": {
      "application/vnd.jupyter.widget-view+json": {
       "model_id": "a6b4689d624942b48a4e467a10bf2166",
       "version_major": 2,
       "version_minor": 0
      },
      "text/plain": [
       "Validation Batches:   0%|          | 0/5 [00:00<?, ?it/s]"
      ]
     },
     "metadata": {},
     "output_type": "display_data"
    },
    {
     "name": "stdout",
     "output_type": "stream",
     "text": [
      "Train | Loss: 0.9141, Recall: 0.0827, Precision: 0.0592, F1: 0.0690\n",
      "Val   | Loss: 0.9288, Recall: 0.0249, Precision: 0.0314, F1: 0.0278\n",
      "-----------------------------\n",
      "Epoch 60\n"
     ]
    },
    {
     "data": {
      "application/vnd.jupyter.widget-view+json": {
       "model_id": "e434688455b34a9c9258126c476b7f7c",
       "version_major": 2,
       "version_minor": 0
      },
      "text/plain": [
       "Training Batches:   0%|          | 0/5 [00:00<?, ?it/s]"
      ]
     },
     "metadata": {},
     "output_type": "display_data"
    },
    {
     "data": {
      "application/vnd.jupyter.widget-view+json": {
       "model_id": "a762694038c64029afab07e9923959cd",
       "version_major": 2,
       "version_minor": 0
      },
      "text/plain": [
       "Validation Batches:   0%|          | 0/5 [00:00<?, ?it/s]"
      ]
     },
     "metadata": {},
     "output_type": "display_data"
    },
    {
     "name": "stdout",
     "output_type": "stream",
     "text": [
      "Train | Loss: 0.9242, Recall: 0.0707, Precision: 0.0500, F1: 0.0586\n",
      "Val   | Loss: 0.9288, Recall: 0.0248, Precision: 0.0313, F1: 0.0277\n",
      "-----------------------------\n",
      "Epoch 61\n"
     ]
    },
    {
     "data": {
      "application/vnd.jupyter.widget-view+json": {
       "model_id": "9d14a651614244a5834cd7864eb56268",
       "version_major": 2,
       "version_minor": 0
      },
      "text/plain": [
       "Training Batches:   0%|          | 0/5 [00:00<?, ?it/s]"
      ]
     },
     "metadata": {},
     "output_type": "display_data"
    },
    {
     "data": {
      "application/vnd.jupyter.widget-view+json": {
       "model_id": "ca535981504d4989b63181e10bf12984",
       "version_major": 2,
       "version_minor": 0
      },
      "text/plain": [
       "Validation Batches:   0%|          | 0/5 [00:00<?, ?it/s]"
      ]
     },
     "metadata": {},
     "output_type": "display_data"
    },
    {
     "name": "stdout",
     "output_type": "stream",
     "text": [
      "Train | Loss: 0.9231, Recall: 0.0728, Precision: 0.0507, F1: 0.0598\n",
      "Val   | Loss: 0.9288, Recall: 0.0246, Precision: 0.0312, F1: 0.0275\n",
      "-----------------------------\n",
      "Epoch 62\n"
     ]
    },
    {
     "data": {
      "application/vnd.jupyter.widget-view+json": {
       "model_id": "cb2296fa57874ed389fef718cb2f0dae",
       "version_major": 2,
       "version_minor": 0
      },
      "text/plain": [
       "Training Batches:   0%|          | 0/5 [00:00<?, ?it/s]"
      ]
     },
     "metadata": {},
     "output_type": "display_data"
    },
    {
     "data": {
      "application/vnd.jupyter.widget-view+json": {
       "model_id": "f53c762940214460a1f7d7dbab6a296f",
       "version_major": 2,
       "version_minor": 0
      },
      "text/plain": [
       "Validation Batches:   0%|          | 0/5 [00:00<?, ?it/s]"
      ]
     },
     "metadata": {},
     "output_type": "display_data"
    },
    {
     "name": "stdout",
     "output_type": "stream",
     "text": [
      "Train | Loss: 0.9182, Recall: 0.0801, Precision: 0.0552, F1: 0.0653\n",
      "Val   | Loss: 0.9288, Recall: 0.0246, Precision: 0.0312, F1: 0.0275\n",
      "-----------------------------\n",
      "Epoch 63\n"
     ]
    },
    {
     "data": {
      "application/vnd.jupyter.widget-view+json": {
       "model_id": "a8208b05e8b44730902de73c3fac0288",
       "version_major": 2,
       "version_minor": 0
      },
      "text/plain": [
       "Training Batches:   0%|          | 0/5 [00:00<?, ?it/s]"
      ]
     },
     "metadata": {},
     "output_type": "display_data"
    },
    {
     "ename": "KeyboardInterrupt",
     "evalue": "",
     "output_type": "error",
     "traceback": [
      "\u001b[0;31m---------------------------------------------------------------------------\u001b[0m",
      "\u001b[0;31mKeyboardInterrupt\u001b[0m                         Traceback (most recent call last)",
      "Cell \u001b[0;32mIn[13], line 13\u001b[0m\n\u001b[1;32m     10\u001b[0m \u001b[38;5;28mprint\u001b[39m(\u001b[38;5;124mf\u001b[39m\u001b[38;5;124m\"\u001b[39m\u001b[38;5;124mEpoch \u001b[39m\u001b[38;5;132;01m{\u001b[39;00mepoch\u001b[38;5;241m+\u001b[39m\u001b[38;5;241m1\u001b[39m\u001b[38;5;132;01m}\u001b[39;00m\u001b[38;5;124m\"\u001b[39m)\n\u001b[1;32m     12\u001b[0m \u001b[38;5;66;03m#Training\u001b[39;00m\n\u001b[0;32m---> 13\u001b[0m train_loss, train_recall, train_precision, train_f1 \u001b[38;5;241m=\u001b[39m \u001b[43mtrain\u001b[49m\u001b[43m(\u001b[49m\u001b[43mtrain_dataloader\u001b[49m\u001b[43m,\u001b[49m\u001b[43m \u001b[49m\u001b[43mmodel\u001b[49m\u001b[43m,\u001b[49m\u001b[43m \u001b[49m\u001b[43mloss_fn\u001b[49m\u001b[43m,\u001b[49m\u001b[43m \u001b[49m\u001b[43moptimizer\u001b[49m\u001b[43m)\u001b[49m\n\u001b[1;32m     15\u001b[0m \u001b[38;5;66;03m#Validation\u001b[39;00m\n\u001b[1;32m     16\u001b[0m val_loss, val_recall, val_precision, val_f1 \u001b[38;5;241m=\u001b[39m validate(valid_dataloader, model, loss_fn)\n",
      "Cell \u001b[0;32mIn[11], line 28\u001b[0m, in \u001b[0;36mtrain\u001b[0;34m(dataloader, model, loss_fn, optimizer)\u001b[0m\n\u001b[1;32m     25\u001b[0m pred_binary \u001b[38;5;241m=\u001b[39m (torch\u001b[38;5;241m.\u001b[39msigmoid(pred) \u001b[38;5;241m>\u001b[39m \u001b[38;5;241m0.5\u001b[39m)\u001b[38;5;241m.\u001b[39msqueeze(\u001b[38;5;241m1\u001b[39m) \u001b[38;5;66;03m#Remove channel dimension to match y\u001b[39;00m\n\u001b[1;32m     27\u001b[0m \u001b[38;5;66;03m#Update metrics\u001b[39;00m\n\u001b[0;32m---> 28\u001b[0m \u001b[43mrecall\u001b[49m\u001b[38;5;241;43m.\u001b[39;49m\u001b[43mupdate\u001b[49m\u001b[43m(\u001b[49m\u001b[43mpred_binary\u001b[49m\u001b[43m,\u001b[49m\u001b[43m \u001b[49m\u001b[43my\u001b[49m\u001b[43m)\u001b[49m\n\u001b[1;32m     29\u001b[0m precision\u001b[38;5;241m.\u001b[39mupdate(pred_binary, y)\n\u001b[1;32m     30\u001b[0m f1\u001b[38;5;241m.\u001b[39mupdate(pred_binary, y)\n",
      "File \u001b[0;32m~/.conda/envs/gap_junction/lib/python3.10/site-packages/torchmetrics/metric.py:549\u001b[0m, in \u001b[0;36mMetric._wrap_update.<locals>.wrapped_func\u001b[0;34m(*args, **kwargs)\u001b[0m\n\u001b[1;32m    547\u001b[0m \u001b[38;5;28;01mwith\u001b[39;00m torch\u001b[38;5;241m.\u001b[39mset_grad_enabled(\u001b[38;5;28mself\u001b[39m\u001b[38;5;241m.\u001b[39m_enable_grad):\n\u001b[1;32m    548\u001b[0m     \u001b[38;5;28;01mtry\u001b[39;00m:\n\u001b[0;32m--> 549\u001b[0m         \u001b[43mupdate\u001b[49m\u001b[43m(\u001b[49m\u001b[38;5;241;43m*\u001b[39;49m\u001b[43margs\u001b[49m\u001b[43m,\u001b[49m\u001b[43m \u001b[49m\u001b[38;5;241;43m*\u001b[39;49m\u001b[38;5;241;43m*\u001b[39;49m\u001b[43mkwargs\u001b[49m\u001b[43m)\u001b[49m\n\u001b[1;32m    550\u001b[0m     \u001b[38;5;28;01mexcept\u001b[39;00m \u001b[38;5;167;01mRuntimeError\u001b[39;00m \u001b[38;5;28;01mas\u001b[39;00m err:\n\u001b[1;32m    551\u001b[0m         \u001b[38;5;28;01mif\u001b[39;00m \u001b[38;5;124m\"\u001b[39m\u001b[38;5;124mExpected all tensors to be on\u001b[39m\u001b[38;5;124m\"\u001b[39m \u001b[38;5;129;01min\u001b[39;00m \u001b[38;5;28mstr\u001b[39m(err):\n",
      "File \u001b[0;32m~/.conda/envs/gap_junction/lib/python3.10/site-packages/torchmetrics/classification/stat_scores.py:187\u001b[0m, in \u001b[0;36mBinaryStatScores.update\u001b[0;34m(self, preds, target)\u001b[0m\n\u001b[1;32m    185\u001b[0m \u001b[38;5;250m\u001b[39m\u001b[38;5;124;03m\"\"\"Update state with predictions and targets.\"\"\"\u001b[39;00m\n\u001b[1;32m    186\u001b[0m \u001b[38;5;28;01mif\u001b[39;00m \u001b[38;5;28mself\u001b[39m\u001b[38;5;241m.\u001b[39mvalidate_args:\n\u001b[0;32m--> 187\u001b[0m     \u001b[43m_binary_stat_scores_tensor_validation\u001b[49m\u001b[43m(\u001b[49m\u001b[43mpreds\u001b[49m\u001b[43m,\u001b[49m\u001b[43m \u001b[49m\u001b[43mtarget\u001b[49m\u001b[43m,\u001b[49m\u001b[43m \u001b[49m\u001b[38;5;28;43mself\u001b[39;49m\u001b[38;5;241;43m.\u001b[39;49m\u001b[43mmultidim_average\u001b[49m\u001b[43m,\u001b[49m\u001b[43m \u001b[49m\u001b[38;5;28;43mself\u001b[39;49m\u001b[38;5;241;43m.\u001b[39;49m\u001b[43mignore_index\u001b[49m\u001b[43m)\u001b[49m\n\u001b[1;32m    188\u001b[0m preds, target \u001b[38;5;241m=\u001b[39m _binary_stat_scores_format(preds, target, \u001b[38;5;28mself\u001b[39m\u001b[38;5;241m.\u001b[39mthreshold, \u001b[38;5;28mself\u001b[39m\u001b[38;5;241m.\u001b[39mignore_index)\n\u001b[1;32m    189\u001b[0m tp, fp, tn, fn \u001b[38;5;241m=\u001b[39m _binary_stat_scores_update(preds, target, \u001b[38;5;28mself\u001b[39m\u001b[38;5;241m.\u001b[39mmultidim_average)\n",
      "File \u001b[0;32m~/.conda/envs/gap_junction/lib/python3.10/site-packages/torchmetrics/functional/classification/stat_scores.py:71\u001b[0m, in \u001b[0;36m_binary_stat_scores_tensor_validation\u001b[0;34m(preds, target, multidim_average, ignore_index)\u001b[0m\n\u001b[1;32m     68\u001b[0m _check_same_shape(preds, target)\n\u001b[1;32m     70\u001b[0m \u001b[38;5;66;03m# Check that target only contains [0,1] values or value in ignore_index\u001b[39;00m\n\u001b[0;32m---> 71\u001b[0m unique_values \u001b[38;5;241m=\u001b[39m \u001b[43mtorch\u001b[49m\u001b[38;5;241;43m.\u001b[39;49m\u001b[43munique\u001b[49m\u001b[43m(\u001b[49m\u001b[43mtarget\u001b[49m\u001b[43m,\u001b[49m\u001b[43m \u001b[49m\u001b[43mdim\u001b[49m\u001b[38;5;241;43m=\u001b[39;49m\u001b[38;5;28;43;01mNone\u001b[39;49;00m\u001b[43m)\u001b[49m\n\u001b[1;32m     72\u001b[0m \u001b[38;5;28;01mif\u001b[39;00m ignore_index \u001b[38;5;129;01mis\u001b[39;00m \u001b[38;5;28;01mNone\u001b[39;00m:\n\u001b[1;32m     73\u001b[0m     check \u001b[38;5;241m=\u001b[39m torch\u001b[38;5;241m.\u001b[39many((unique_values \u001b[38;5;241m!=\u001b[39m \u001b[38;5;241m0\u001b[39m) \u001b[38;5;241m&\u001b[39m (unique_values \u001b[38;5;241m!=\u001b[39m \u001b[38;5;241m1\u001b[39m))\n",
      "File \u001b[0;32m~/.conda/envs/gap_junction/lib/python3.10/site-packages/torch/_jit_internal.py:622\u001b[0m, in \u001b[0;36mboolean_dispatch.<locals>.fn\u001b[0;34m(*args, **kwargs)\u001b[0m\n\u001b[1;32m    620\u001b[0m     \u001b[38;5;28;01mreturn\u001b[39;00m if_true(\u001b[38;5;241m*\u001b[39margs, \u001b[38;5;241m*\u001b[39m\u001b[38;5;241m*\u001b[39mkwargs)\n\u001b[1;32m    621\u001b[0m \u001b[38;5;28;01melse\u001b[39;00m:\n\u001b[0;32m--> 622\u001b[0m     \u001b[38;5;28;01mreturn\u001b[39;00m \u001b[43mif_false\u001b[49m\u001b[43m(\u001b[49m\u001b[38;5;241;43m*\u001b[39;49m\u001b[43margs\u001b[49m\u001b[43m,\u001b[49m\u001b[43m \u001b[49m\u001b[38;5;241;43m*\u001b[39;49m\u001b[38;5;241;43m*\u001b[39;49m\u001b[43mkwargs\u001b[49m\u001b[43m)\u001b[49m\n",
      "File \u001b[0;32m~/.conda/envs/gap_junction/lib/python3.10/site-packages/torch/_jit_internal.py:622\u001b[0m, in \u001b[0;36mboolean_dispatch.<locals>.fn\u001b[0;34m(*args, **kwargs)\u001b[0m\n\u001b[1;32m    620\u001b[0m     \u001b[38;5;28;01mreturn\u001b[39;00m if_true(\u001b[38;5;241m*\u001b[39margs, \u001b[38;5;241m*\u001b[39m\u001b[38;5;241m*\u001b[39mkwargs)\n\u001b[1;32m    621\u001b[0m \u001b[38;5;28;01melse\u001b[39;00m:\n\u001b[0;32m--> 622\u001b[0m     \u001b[38;5;28;01mreturn\u001b[39;00m \u001b[43mif_false\u001b[49m\u001b[43m(\u001b[49m\u001b[38;5;241;43m*\u001b[39;49m\u001b[43margs\u001b[49m\u001b[43m,\u001b[49m\u001b[43m \u001b[49m\u001b[38;5;241;43m*\u001b[39;49m\u001b[38;5;241;43m*\u001b[39;49m\u001b[43mkwargs\u001b[49m\u001b[43m)\u001b[49m\n",
      "File \u001b[0;32m~/.conda/envs/gap_junction/lib/python3.10/site-packages/torch/functional.py:1102\u001b[0m, in \u001b[0;36m_return_output\u001b[0;34m(input, sorted, return_inverse, return_counts, dim)\u001b[0m\n\u001b[1;32m   1099\u001b[0m \u001b[38;5;28;01mif\u001b[39;00m has_torch_function_unary(\u001b[38;5;28minput\u001b[39m):\n\u001b[1;32m   1100\u001b[0m     \u001b[38;5;28;01mreturn\u001b[39;00m _unique_impl(\u001b[38;5;28minput\u001b[39m, \u001b[38;5;28msorted\u001b[39m, return_inverse, return_counts, dim)\n\u001b[0;32m-> 1102\u001b[0m output, _, _ \u001b[38;5;241m=\u001b[39m \u001b[43m_unique_impl\u001b[49m\u001b[43m(\u001b[49m\u001b[38;5;28;43minput\u001b[39;49m\u001b[43m,\u001b[49m\u001b[43m \u001b[49m\u001b[38;5;28;43msorted\u001b[39;49m\u001b[43m,\u001b[49m\u001b[43m \u001b[49m\u001b[43mreturn_inverse\u001b[49m\u001b[43m,\u001b[49m\u001b[43m \u001b[49m\u001b[43mreturn_counts\u001b[49m\u001b[43m,\u001b[49m\u001b[43m \u001b[49m\u001b[43mdim\u001b[49m\u001b[43m)\u001b[49m\n\u001b[1;32m   1103\u001b[0m \u001b[38;5;28;01mreturn\u001b[39;00m output\n",
      "File \u001b[0;32m~/.conda/envs/gap_junction/lib/python3.10/site-packages/torch/functional.py:995\u001b[0m, in \u001b[0;36m_unique_impl\u001b[0;34m(input, sorted, return_inverse, return_counts, dim)\u001b[0m\n\u001b[1;32m    987\u001b[0m     output, inverse_indices, counts \u001b[38;5;241m=\u001b[39m _VF\u001b[38;5;241m.\u001b[39munique_dim(\n\u001b[1;32m    988\u001b[0m         \u001b[38;5;28minput\u001b[39m,\n\u001b[1;32m    989\u001b[0m         dim,\n\u001b[0;32m   (...)\u001b[0m\n\u001b[1;32m    992\u001b[0m         return_counts\u001b[38;5;241m=\u001b[39mreturn_counts,\n\u001b[1;32m    993\u001b[0m     )\n\u001b[1;32m    994\u001b[0m \u001b[38;5;28;01melse\u001b[39;00m:\n\u001b[0;32m--> 995\u001b[0m     output, inverse_indices, counts \u001b[38;5;241m=\u001b[39m \u001b[43mtorch\u001b[49m\u001b[38;5;241;43m.\u001b[39;49m\u001b[43m_unique2\u001b[49m\u001b[43m(\u001b[49m\n\u001b[1;32m    996\u001b[0m \u001b[43m        \u001b[49m\u001b[38;5;28;43minput\u001b[39;49m\u001b[43m,\u001b[49m\n\u001b[1;32m    997\u001b[0m \u001b[43m        \u001b[49m\u001b[38;5;28;43msorted\u001b[39;49m\u001b[38;5;241;43m=\u001b[39;49m\u001b[38;5;28;43msorted\u001b[39;49m\u001b[43m,\u001b[49m\n\u001b[1;32m    998\u001b[0m \u001b[43m        \u001b[49m\u001b[43mreturn_inverse\u001b[49m\u001b[38;5;241;43m=\u001b[39;49m\u001b[43mreturn_inverse\u001b[49m\u001b[43m,\u001b[49m\n\u001b[1;32m    999\u001b[0m \u001b[43m        \u001b[49m\u001b[43mreturn_counts\u001b[49m\u001b[38;5;241;43m=\u001b[39;49m\u001b[43mreturn_counts\u001b[49m\u001b[43m,\u001b[49m\n\u001b[1;32m   1000\u001b[0m \u001b[43m    \u001b[49m\u001b[43m)\u001b[49m\n\u001b[1;32m   1001\u001b[0m \u001b[38;5;28;01mreturn\u001b[39;00m output, inverse_indices, counts\n",
      "\u001b[0;31mKeyboardInterrupt\u001b[0m: "
     ]
    }
   ],
   "source": [
    "# Clear GPU memory before training\n",
    "torch.cuda.empty_cache()\n",
    "\n",
    "epochs = 50\n",
    "best_f1 = 0.0\n",
    "best_val_loss = float('inf')\n",
    "best_epoch = 0\n",
    "best_model_state = copy.deepcopy(model.state_dict())\n",
    "\n",
    "for epoch in range(epochs):\n",
    "    print(f\"Epoch {epoch+1}\")\n",
    "    \n",
    "    #Training\n",
    "    train_loss, train_recall, train_precision, train_f1 = train(train_dataloader, model, loss_fn, optimizer)\n",
    "\n",
    "    #Validation\n",
    "    val_loss, val_recall, val_precision, val_f1 = validate(valid_dataloader, model, loss_fn)\n",
    "\n",
    "    #Update learning rate scheduler\n",
    "    scheduler.step(val_loss)\n",
    "    \n",
    "    #Print metrics\n",
    "    print(f\"Train | Loss: {train_loss:.4f}, Recall: {train_recall:.4f}, Precision: {train_precision:.4f}, F1: {train_f1:.4f}\")\n",
    "    print(f\"Val   | Loss: {val_loss:.4f}, Recall: {val_recall:.4f}, Precision: {val_precision:.4f}, F1: {val_f1:.4f}\")\n",
    "    print(\"-----------------------------\")\n",
    "    \n",
    "    #Log best model state based on validation loss\n",
    "    if val_loss < best_val_loss:\n",
    "        best_val_loss = val_loss\n",
    "    \n",
    "    #Log best model state based on F1 score\n",
    "    if val_f1 > best_f1:\n",
    "        best_f1 = val_f1\n",
    "        best_epoch = epoch\n",
    "        best_model_state = copy.deepcopy(model.state_dict())\n",
    "        \n",
    "    #Log metrics to wandb\n",
    "    wandb.log({\n",
    "        \"epoch\": epoch + 1,\n",
    "        \"train_loss\": train_loss,\n",
    "        \"train_recall\": train_recall,\n",
    "        \"train_precision\": train_precision,\n",
    "        \"train_f1\": train_f1,\n",
    "        \"val_loss\": val_loss,\n",
    "        \"val_recall\": val_recall,\n",
    "        \"val_precision\": val_precision,\n",
    "        \"val_f1\": val_f1,\n",
    "        \"best_val_f1\": best_f1,\n",
    "        \"best_val_loss\": best_val_loss,\n",
    "        \"best_epoch\": best_epoch,\n",
    "        \"lr\": optimizer.param_groups[0][\"lr\"]\n",
    "    })\n",
    "\n",
    "print(\"Training Complete!\")\n",
    "wandb.finish()"
   ]
  },
  {
   "cell_type": "markdown",
   "id": "66ec0ced",
   "metadata": {},
   "source": [
    "#### Save Best Model"
   ]
  },
  {
   "cell_type": "code",
   "execution_count": 12,
   "id": "71062d70",
   "metadata": {},
   "outputs": [
    {
     "name": "stdout",
     "output_type": "stream",
     "text": [
      "Saved PyTorch Model to unet_v1.pt\n"
     ]
    }
   ],
   "source": [
    "#Save the best logged model state\n",
    "torch.save(best_model_state, \"/home/tommytang111/gap-junction-segmentation/models/unet_v1.pt\")\n",
    "print(\"Saved PyTorch Model to unet_v1.pt\")"
   ]
  },
  {
   "cell_type": "markdown",
   "id": "b84aa404",
   "metadata": {},
   "source": [
    "#### Troubleshooting"
   ]
  },
  {
   "cell_type": "code",
   "execution_count": 1,
   "id": "74454d34",
   "metadata": {},
   "outputs": [
    {
     "ename": "NameError",
     "evalue": "name 'get_custom_augmentation' is not defined",
     "output_type": "error",
     "traceback": [
      "\u001b[0;31m---------------------------------------------------------------------------\u001b[0m",
      "\u001b[0;31mNameError\u001b[0m                                 Traceback (most recent call last)",
      "Cell \u001b[0;32mIn[1], line 6\u001b[0m\n\u001b[1;32m      3\u001b[0m \u001b[38;5;28;01mimport\u001b[39;00m\u001b[38;5;250m \u001b[39m\u001b[38;5;21;01mmatplotlib\u001b[39;00m\u001b[38;5;21;01m.\u001b[39;00m\u001b[38;5;21;01mpyplot\u001b[39;00m\u001b[38;5;250m \u001b[39m\u001b[38;5;28;01mas\u001b[39;00m\u001b[38;5;250m \u001b[39m\u001b[38;5;21;01mplt\u001b[39;00m\n\u001b[1;32m      4\u001b[0m \u001b[38;5;28;01mimport\u001b[39;00m\u001b[38;5;250m \u001b[39m\u001b[38;5;21;01mos\u001b[39;00m\n\u001b[0;32m----> 6\u001b[0m aug \u001b[38;5;241m=\u001b[39m \u001b[43mget_custom_augmentation\u001b[49m()\n\u001b[1;32m      8\u001b[0m img_dir \u001b[38;5;241m=\u001b[39m \u001b[38;5;124m\"\u001b[39m\u001b[38;5;124m/home/tommytang111/gap-junction-segmentation/data/sem_adult/SEM_split/s250-259/imgs\u001b[39m\u001b[38;5;124m\"\u001b[39m\n\u001b[1;32m      9\u001b[0m label_dir \u001b[38;5;241m=\u001b[39m \u001b[38;5;124m\"\u001b[39m\u001b[38;5;124m/home/tommytang111/gap-junction-segmentation/data/sem_adult/SEM_split/s250-259/gts\u001b[39m\u001b[38;5;124m\"\u001b[39m\n",
      "\u001b[0;31mNameError\u001b[0m: name 'get_custom_augmentation' is not defined"
     ]
    }
   ],
   "source": [
    "import cv2\n",
    "import numpy as np\n",
    "import matplotlib.pyplot as plt\n",
    "import os\n",
    "\n",
    "aug = get_custom_augmentation()\n",
    "\n",
    "img_dir = \"/home/tommytang111/gap-junction-segmentation/data/sem_adult/SEM_split/s250-259/imgs\"\n",
    "label_dir = \"/home/tommytang111/gap-junction-segmentation/data/sem_adult/SEM_split/s250-259/gts\"\n",
    "img_files = os.listdir(img_dir)\n",
    "\n",
    "for i in range(5):\n",
    "    #Take a random image\n",
    "    img_name = np.random.choice(img_files)\n",
    "    img_path = os.path.join(img_dir, img_name)\n",
    "    \n",
    "    # Build corresponding label filename\n",
    "    base, ext = os.path.splitext(img_name)\n",
    "    label_name = f\"{base}_label{ext}\"\n",
    "    label_path = os.path.join(label_dir, label_name)\n",
    "\n",
    "    # Read image and label\n",
    "    image = cv2.imread(img_path, cv2.IMREAD_GRAYSCALE)\n",
    "    label = cv2.imread(label_path, cv2.IMREAD_GRAYSCALE)\n",
    "    #Optional\n",
    "    #image = cv2.resize(image, (512, 512))\n",
    "    #label = cv2.resize(label, (512, 512))\n",
    "\n",
    "    # Albumentations expects HWC, so expand dims for grayscale\n",
    "    image = np.expand_dims(image, axis=-1)\n",
    "    label = np.expand_dims(label, axis=-1)\n",
    "\n",
    "    # Apply augmentation (pass label as 'mask')\n",
    "    augmented = aug(image=image, mask=label)\n",
    "    aug_img = augmented['image'].squeeze().cpu().numpy()\n",
    "    aug_label = augmented['mask'].squeeze().cpu().numpy()\n",
    "\n",
    "    plt.figure(figsize=(4, 4)) \n",
    "    plt.subplot(2, 2, 1)\n",
    "    plt.title(\"Original Image\")\n",
    "    plt.imshow(image.squeeze(), cmap='gray')\n",
    "    plt.axis('off')\n",
    "\n",
    "    plt.subplot(2, 2, 2)\n",
    "    plt.title(\"Original Label\")\n",
    "    plt.imshow(label.squeeze(), cmap='gray')\n",
    "    plt.axis('off')\n",
    "\n",
    "    plt.subplot(2, 2, 3)\n",
    "    plt.title(\"Augmented Image\")\n",
    "    plt.imshow(aug_img, cmap='gray')\n",
    "    plt.axis('off')\n",
    "\n",
    "    plt.subplot(2, 2, 4)\n",
    "    plt.title(\"Augmented Label\")\n",
    "    plt.imshow(aug_label, cmap='gray')\n",
    "    plt.axis('off')\n",
    "\n",
    "    plt.tight_layout()\n",
    "    plt.show()"
   ]
  },
  {
   "cell_type": "code",
   "execution_count": 6,
   "id": "fb695587",
   "metadata": {},
   "outputs": [
    {
     "name": "stdout",
     "output_type": "stream",
     "text": [
      "/home/tommytang111/gap-junction-segmentation/data/sem_adult/SEM_split/s250-259/imgs/SEM_adult_image_export_s255_part4.png\n",
      "/home/tommytang111/gap-junction-segmentation/data/sem_adult/SEM_split/s250-259/gts/SEM_adult_image_export_s255_part4_label.png\n"
     ]
    }
   ],
   "source": [
    "print(img_path)\n",
    "print(label_path)"
   ]
  },
  {
   "cell_type": "code",
   "execution_count": 27,
   "id": "96f393b3",
   "metadata": {},
   "outputs": [
    {
     "name": "stdout",
     "output_type": "stream",
     "text": [
      "Showing image /home/tommytang111/gap-junction-segmentation/data/sem_adult/SEM_split/s250-259/gts/SEM_adult_image_export_s252_part2_label.png\n",
      "True\n"
     ]
    },
    {
     "data": {
      "text/plain": [
       "<matplotlib.image.AxesImage at 0x7f08b6437d00>"
      ]
     },
     "execution_count": 27,
     "metadata": {},
     "output_type": "execute_result"
    },
    {
     "data": {
      "image/png": "[encoded data removed]",
      "text/plain": [
       "<Figure size 640x480 with 1 Axes>"
      ]
     },
     "metadata": {},
     "output_type": "display_data"
    }
   ],
   "source": [
    "import random\n",
    "import matplotlib.pyplot as plt\n",
    "path = \"/home/tommytang111/gap-junction-segmentation/data/sem_adult/SEM_split/s250-259/gts\"\n",
    "image = os.path.join(path, random.choice(os.listdir(path)))\n",
    "print(f\"Showing image {image}\")\n",
    "image = cv2.imread(image, cv2.IMREAD_GRAYSCALE)\n",
    "print(np.any(image == 1))\n",
    "plt.imshow(image, cmap='gray')"
   ]
  },
  {
   "cell_type": "code",
   "execution_count": 28,
   "id": "efdce080",
   "metadata": {},
   "outputs": [
    {
     "name": "stdout",
     "output_type": "stream",
     "text": [
      "Non-black images: 40/40, Black images: 0/40\n"
     ]
    }
   ],
   "source": [
    "#Check for blank masks in mask directory\n",
    "non_black_images = 0\n",
    "black_images = 0\n",
    "count = 0\n",
    "for image in os.listdir(path):\n",
    "    image_path = os.path.join(path, image)\n",
    "    img = cv2.imread(image_path, cv2.IMREAD_GRAYSCALE)\n",
    "    if np.any(img == 1):\n",
    "        non_black_images += 1\n",
    "    else:\n",
    "        black_images += 1\n",
    "    count += 1\n",
    "print(f\"Non-black images: {non_black_images}/{count}, Black images: {black_images}/{count}\")"
   ]
  }
 ],
 "metadata": {
  "kernelspec": {
   "display_name": "gap_junction",
   "language": "python",
   "name": "python3"
  },
  "language_info": {
   "codemirror_mode": {
    "name": "ipython",
    "version": 3
   },
   "file_extension": ".py",
   "mimetype": "text/x-python",
   "name": "python",
   "nbconvert_exporter": "python",
   "pygments_lexer": "ipython3",
   "version": "3.10.16"
  }
 },
 "nbformat": 4,
 "nbformat_minor": 5
}
