{
  "cells": [
    {
      "cell_type": "markdown",
      "metadata": {
        "id": "dzLMHCTHXxF4"
      },
      "source": [
        "# Load CATMAID Skeletons or Synapses"
      ]
    },
    {
      "cell_type": "code",
      "execution_count": 4,
      "metadata": {
        "colab": {
          "base_uri": "https://localhost:8080/",
          "height": 394
        },
        "id": "zBY4ftapXPPe",
        "outputId": "cb9f55f5-ca9e-4e51-db8a-188885da1b8e"
      },
      "outputs": [],
      "source": [
        "import sys\n",
        "sys.path.append(\"../catmaid\")\n",
        "from catmaidhelper import CatmaidHelper\n",
        "\n",
        "PID = 283\n",
        "\n",
        "with open(\"/home/tommytang111/gap-junction-segmentation/secret.txt\") as f:\n",
        "    api_token = f.read()\n",
        "url = 'https://zhencatmaid.com/'\n",
        "\n",
        "catmaid = CatmaidHelper(url, api_token)\n",
        "catmaid.set_project(PID)\n",
        "\n",
        "skeletons = catmaid.get_skeletons()\n",
        "skeleton_names = catmaid.load_skeleton_names(skeletons)"
      ]
    },
    {
      "cell_type": "code",
      "execution_count": 34,
      "metadata": {},
      "outputs": [
        {
          "name": "stdout",
          "output_type": "stream",
          "text": [
            "[[19669427, 36636.2, 19182.7, 5760.0, 5, 3, 3, 1680190730.41252, 1680190730.41254], [19669428, 36438.1, 19187.1, 6360.0, 5, 3, 3, 1680192006.12029, 1680192006.12032], [19669429, 36471.9, 19158.5, 6030.0, 5, 3, 3, 1680192753.17179, 1680192753.17182], [19669430, 35884.2, 18211.3, 7530.0, 5, 3, 3, 1680192902.78936, 1680192902.78936], [19669432, 36967.7, 17504.6, 10980.0, 5, 3, 3, 1680193083.14941, 1713053312.32528]]\n",
            "{'connector_id': 19669427, 'x': 36636.2, 'y': 19182.7, 'z': 5760.0, 'confidence': 5, 'partners': [{'link_id': 3041631, 'partner_id': 19589120, 'confidence': 5, 'skeleton_id': 3038097, 'relation_id': 3033737, 'relation_name': 'gapjunction_with'}, {'link_id': 3041630, 'partner_id': 19499155, 'confidence': 5, 'skeleton_id': 3034362, 'relation_id': 3033737, 'relation_name': 'gapjunction_with'}]}\n"
          ]
        }
      ],
      "source": [
        "import pandas as pd\n",
        "pid = 283\n",
        "\n",
        "connectors = catmaid.fetch(\n",
        "    url = f\"/{pid}/connectors/\",\n",
        "    method = \"post\",\n",
        "    data = {\n",
        "        \"project_id\": pid,\n",
        "    }).json()['connectors']\n",
        "\n",
        "cid = connectors[0][0]\n",
        "\n",
        "connector_info = catmaid.fetch(\n",
        "    url = f\"/{pid}/connectors/{cid}/\",\n",
        "    method = \"get\",\n",
        "    data = {\n",
        "        \"project_id\": pid,\n",
        "        \"connector_id\": cid\n",
        "    }).json()\n",
        "\n",
        "print(connectors[:5])\n",
        "print(connector_info)"
      ]
    },
    {
      "cell_type": "code",
      "execution_count": 33,
      "metadata": {},
      "outputs": [
        {
          "data": {
            "text/plain": [
              "'[ADAR]'"
            ]
          },
          "execution_count": 33,
          "metadata": {},
          "output_type": "execute_result"
        }
      ],
      "source": [
        "skeleton_names['3038097']"
      ]
    },
    {
      "cell_type": "code",
      "execution_count": 3,
      "metadata": {
        "id": "HBUgK8M-DCOc"
      },
      "outputs": [
        {
          "name": "stderr",
          "output_type": "stream",
          "text": [
            "100%|██████████| 547/547 [00:24<00:00, 22.56it/s]\n"
          ]
        }
      ],
      "source": [
        "from GetNodelist import get_bounded_nodes\n",
        "from tqdm import tqdm\n",
        "import concurrent.futures as futures\n",
        "\n",
        "# get all bounded node info\n",
        "\n",
        "bounded_nodes = {}\n",
        "\n",
        "with futures.ThreadPoolExecutor() as executor:\n",
        "    results = list(tqdm(executor.map(\n",
        "        get_bounded_nodes,\n",
        "        [catmaid]*len(skeletons),\n",
        "        skeletons), total=len(skeletons)))\n",
        "\n",
        "for i in range(len(results)):\n",
        "    if not results[i]:\n",
        "        continue\n",
        "    bounded_nodes[skeletons[i]] = results[i]['nodelist']"
      ]
    },
    {
      "cell_type": "code",
      "execution_count": null,
      "metadata": {
        "id": "6P4ZxzauyQRD"
      },
      "outputs": [],
      "source": [
        "import json\n",
        "\n",
        "with open('bounded_nodes_adult.json', 'w') as fp:\n",
        "    json.dump(bounded_nodes, fp)"
      ]
    },
    {
      "cell_type": "code",
      "execution_count": null,
      "metadata": {
        "colab": {
          "base_uri": "https://localhost:8080/"
        },
        "collapsed": true,
        "id": "JppoE5EzoKA0",
        "outputId": "619bd7ac-8a0c-4774-fb1f-cd330bfd9c10"
      },
      "outputs": [
        {
          "name": "stderr",
          "output_type": "stream",
          "text": [
            "100%|██████████| 4455/4455 [02:50<00:00, 26.12it/s]\n"
          ]
        }
      ],
      "source": [
        "import pandas as pd\n",
        "from tqdm import tqdm\n",
        "import concurrent.futures as futures\n",
        "\n",
        "# Load all connector info\n",
        "\n",
        "col_names = [\"connector_id\",\"x\",\"y\",\"z\"]\n",
        "col_ids = [0,1,2,3]\n",
        "\n",
        "connectors = pd.DataFrame(catmaid.get_connectors()).iloc[:,col_ids]\n",
        "connectors = connectors.rename(columns=dict(zip(col_ids,col_names)))\n",
        "\n",
        "def get_link_info(connector_id):\n",
        "    connector_subtable = []\n",
        "    connector_info = catmaid.get_connector_info(connector_id)\n",
        "    pre = \"\"\n",
        "    pre_node = 0\n",
        "    post = []\n",
        "    post_nodes = []\n",
        "    for partner in connector_info['partners']:\n",
        "        if partner['relation_name'] == 'presynaptic_to':\n",
        "            if partner['confidence'] < 5:\n",
        "                continue\n",
        "            pre = partner['skeleton_id']\n",
        "            pre_node = partner['partner_id']\n",
        "        if partner['relation_name'] == 'postsynaptic_to':\n",
        "            if partner['confidence'] < 5:\n",
        "                continue\n",
        "            post.append(partner['skeleton_id'])\n",
        "            post_nodes.append(partner['partner_id'])\n",
        "    for i in range(len(post)):\n",
        "        connector_subtable.append({\n",
        "            \"connector_id\": connector_info['connector_id'],\n",
        "            \"x\": connector_info['x'],\n",
        "            \"y\": connector_info['y'],\n",
        "            \"z\": connector_info['z'],\n",
        "            \"pre\": pre,\n",
        "            \"pre_node\": pre_node,\n",
        "            \"post\": post[i],\n",
        "            \"post_node\": post_nodes[i]})\n",
        "    return connector_subtable\n",
        "\n",
        "with futures.ThreadPoolExecutor() as executor:\n",
        "    results = list(tqdm(executor.map(get_link_info, connectors['connector_id']), total=len(connectors)))\n",
        "\n",
        "connector_table = [item for sublist in results if sublist for item in sublist]\n",
        "connector_table = pd.DataFrame(connector_table)\n",
        "\n",
        "# only include elements within bounded nodes for each particular skeleton\n",
        "pre_skel_filt = connector_table['pre'].isin(bounded_nodes.keys())\n",
        "connector_table = connector_table[pre_skel_filt]\n",
        "\n",
        "all_bounded_nodes = set()\n",
        "for nodes in bounded_nodes.values():\n",
        "    all_bounded_nodes.update(nodes)\n",
        "\n",
        "connector_table_filt = connector_table[connector_table['pre_node'].isin(all_bounded_nodes)]"
      ]
    },
    {
      "cell_type": "code",
      "execution_count": null,
      "metadata": {
        "colab": {
          "base_uri": "https://localhost:8080/"
        },
        "id": "PKC6xvvxQSHv",
        "outputId": "eb5ab83d-50e5-432f-82b7-8c90f2a03374"
      },
      "outputs": [
        {
          "name": "stderr",
          "output_type": "stream",
          "text": [
            "/tmp/ipython-input-3003278493.py:6: FutureWarning: Setting an item of incompatible dtype is deprecated and will raise in a future error of pandas. Value '['1854528' '1854405' '1857842' ... '1857421' '1853668' '1853519']' has dtype incompatible with int64, please explicitly cast to a compatible dtype first.\n",
            "  connector_table_filt.loc[:,'post'] = connector_table_filt['post'].astype(str)\n"
          ]
        }
      ],
      "source": [
        "connector_table_filt = connector_table[connector_table['pre_node'].isin(all_bounded_nodes)]\n",
        "\n",
        "# rename pre and post skeletons\n",
        "connector_table_filt.loc[:,'pre'] = connector_table_filt['pre'].astype(str)\n",
        "connector_table_filt.loc[:,'pre'] = connector_table_filt['pre'].map(skeleton_names)\n",
        "connector_table_filt.loc[:,'post'] = connector_table_filt['post'].astype(str)\n",
        "connector_table_filt.loc[:,'post'] = connector_table_filt['post'].map(skeleton_names)"
      ]
    },
    {
      "cell_type": "code",
      "execution_count": null,
      "metadata": {
        "id": "dsOmBy9XiTis"
      },
      "outputs": [],
      "source": [
        "import re\n",
        "\n",
        "def clean_text(s):\n",
        "    \"\"\" Remove non-alphanumeric, non short-dash from text\n",
        "    \"\"\"\n",
        "    return re.sub(r'[^a-zA-Z0-9-]+', '', s)\n",
        "\n",
        "connector_table_filt.loc[:,'pre'] = connector_table_filt['pre'].apply(clean_text)\n",
        "connector_table_filt.loc[:,'post'] = connector_table_filt['post'].apply(clean_text)\n",
        "\n",
        "connector_table_filt.to_csv(\"connector_table_adult.csv\")"
      ]
    },
    {
      "cell_type": "code",
      "execution_count": null,
      "metadata": {
        "id": "DX1QAB75mHxE"
      },
      "outputs": [],
      "source": [
        "import pandas as pd\n",
        "from neuron_info import npair\n",
        "\n",
        "name_fixes = {\n",
        "    'PVNLorR1': 'PVWL',\n",
        "    'PVNLorR2': 'PVWL',\n",
        "    'PVNLorR3': 'PVWR',\n",
        "}\n",
        "name_remove = [\n",
        "    'glia','fragment','musclefragment',\n",
        "    'basementmembrane','hyp'\n",
        "]\n",
        "\n",
        "connector_table = pd.read_csv(\"connector_table_dauer-2.csv\", index_col=0)\n",
        "connector_table = connector_table[~connector_table['post'].isin(name_remove)]\n",
        "connector_table.loc[:,'pre'] = connector_table['pre'].replace(name_fixes)\n",
        "connector_table.loc[:,'post'] = connector_table['post'].replace(name_fixes)\n",
        "\n",
        "# load existing classifications\n",
        "classifications = pd.read_csv(\"consensus_classification.csv\")\n",
        "classifications['edge'] = classifications['pre'] + '-' + classifications['post']"
      ]
    },
    {
      "cell_type": "code",
      "execution_count": null,
      "metadata": {
        "id": "G8W_VrzsVEUD"
      },
      "outputs": [],
      "source": [
        "edge_classes = []\n",
        "for edge in connector_table.loc[:,['pre','post']].map(npair).values:\n",
        "    edge_name = edge[0] + '-' + edge[1]\n",
        "    if edge_name not in classifications['edge'].values:\n",
        "        edge_class = 'other'\n",
        "    else:\n",
        "        edge_class = classifications[classifications['edge'] == edge_name]['Classification'].values[0]\n",
        "    edge_classes.append(edge_class)"
      ]
    },
    {
      "cell_type": "code",
      "execution_count": null,
      "metadata": {
        "id": "7IvCUO6DXMa6"
      },
      "outputs": [],
      "source": [
        "connector_table['classification'] = edge_classes\n",
        "\n",
        "connector_table.to_csv(\"connector_table_dauer-2.csv\")"
      ]
    }
  ],
  "metadata": {
    "colab": {
      "provenance": []
    },
    "kernelspec": {
      "display_name": "gap_junction",
      "language": "python",
      "name": "python3"
    },
    "language_info": {
      "codemirror_mode": {
        "name": "ipython",
        "version": 3
      },
      "file_extension": ".py",
      "mimetype": "text/x-python",
      "name": "python",
      "nbconvert_exporter": "python",
      "pygments_lexer": "ipython3",
      "version": "3.10.16"
    }
  },
  "nbformat": 4,
  "nbformat_minor": 0
}
