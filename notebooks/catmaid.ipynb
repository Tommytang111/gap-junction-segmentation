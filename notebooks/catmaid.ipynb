{
  "cells": [
    {
      "cell_type": "markdown",
      "metadata": {
        "id": "dzLMHCTHXxF4"
      },
      "source": [
        "# Load CATMAID Gap Junctions"
      ]
    },
    {
      "cell_type": "markdown",
      "metadata": {},
      "source": [
        "#### Initialize CATMAID Helper Class"
      ]
    },
    {
      "cell_type": "code",
      "execution_count": 101,
      "metadata": {
        "colab": {
          "base_uri": "https://localhost:8080/",
          "height": 394
        },
        "id": "zBY4ftapXPPe",
        "outputId": "cb9f55f5-ca9e-4e51-db8a-188885da1b8e"
      },
      "outputs": [],
      "source": [
        "import sys\n",
        "import pandas as pd\n",
        "sys.path.append(\"../catmaid\")\n",
        "from catmaidhelper import CatmaidHelper\n",
        "\n",
        "pid = 290 #SEM Adult, 301 for dauer1 290 for dauer2, 281 for adult\n",
        "\n",
        "with open(\"/home/tommytang111/gap-junction-segmentation/secret.txt\") as f:\n",
        "    api_token = f.read().strip()\n",
        "url = 'https://zhencatmaid.com/'\n",
        "\n",
        "catmaid = CatmaidHelper(url, api_token)\n",
        "catmaid.set_project(pid)\n",
        "\n",
        "# skeletons = catmaid.get_skeletons()\n",
        "# skeleton_names = catmaid.load_skeleton_names(skeletons)"
      ]
    },
    {
      "cell_type": "markdown",
      "metadata": {},
      "source": [
        "Gap Junctions are a subset of connector objects in CATMAID. \\\n",
        "Getting a GJ Connector gives you the GJ, and the partners as a skeleton. \\\n",
        "Need to make sure relation_name is \"gapjunction_with\" for the connector to extract GJs."
      ]
    },
    {
      "cell_type": "code",
      "execution_count": 119,
      "metadata": {},
      "outputs": [],
      "source": [
        "#Connector endpoint for fetching all connectors in a project\n",
        "connectors = catmaid.fetch(\n",
        "    url = f\"/{pid}/connectors/\",\n",
        "    method = \"post\",\n",
        "    data = {\n",
        "        \"project_id\": pid,\n",
        "    }).json()['connectors']\n",
        "\n",
        "cid = connectors[0][0]"
      ]
    },
    {
      "cell_type": "code",
      "execution_count": 117,
      "metadata": {},
      "outputs": [],
      "source": [
        "#Connector endpoint for fetching a specific connector by its ID\n",
        "connector_info = catmaid.fetch(\n",
        "    url = f\"/{pid}/connectors/{cid}/\",\n",
        "    method = \"get\",\n",
        "    data = {\n",
        "        \"project_id\": pid,\n",
        "        \"connector_id\": cid\n",
        "    }).json()"
      ]
    },
    {
      "cell_type": "code",
      "execution_count": 118,
      "metadata": {},
      "outputs": [
        {
          "data": {
            "text/plain": [
              "{'detail': 'Not found.'}"
            ]
          },
          "execution_count": 118,
          "metadata": {},
          "output_type": "execute_result"
        }
      ],
      "source": [
        "connector_info"
      ]
    },
    {
      "cell_type": "code",
      "execution_count": 105,
      "metadata": {},
      "outputs": [
        {
          "name": "stderr",
          "output_type": "stream",
          "text": [
            "  0%|          | 0/14644 [00:00<?, ?it/s]\n"
          ]
        },
        {
          "ename": "KeyError",
          "evalue": "'partners'",
          "output_type": "error",
          "traceback": [
            "\u001b[0;31m---------------------------------------------------------------------------\u001b[0m",
            "\u001b[0;31mKeyError\u001b[0m                                  Traceback (most recent call last)",
            "Cell \u001b[0;32mIn[105], line 9\u001b[0m\n\u001b[1;32m      4\u001b[0m \u001b[38;5;66;03m#Get connector info for each connector ID\u001b[39;00m\n\u001b[1;32m      5\u001b[0m connector_info \u001b[38;5;241m=\u001b[39m catmaid\u001b[38;5;241m.\u001b[39mfetch(\n\u001b[1;32m      6\u001b[0m url \u001b[38;5;241m=\u001b[39m \u001b[38;5;124mf\u001b[39m\u001b[38;5;124m\"\u001b[39m\u001b[38;5;124m/\u001b[39m\u001b[38;5;132;01m{\u001b[39;00mpid\u001b[38;5;132;01m}\u001b[39;00m\u001b[38;5;124m/connectors/\u001b[39m\u001b[38;5;132;01m{\u001b[39;00mcid\u001b[38;5;132;01m}\u001b[39;00m\u001b[38;5;124m/\u001b[39m\u001b[38;5;124m\"\u001b[39m,\n\u001b[1;32m      7\u001b[0m method \u001b[38;5;241m=\u001b[39m \u001b[38;5;124m\"\u001b[39m\u001b[38;5;124mget\u001b[39m\u001b[38;5;124m\"\u001b[39m,\n\u001b[1;32m      8\u001b[0m data \u001b[38;5;241m=\u001b[39m {\u001b[38;5;124m\"\u001b[39m\u001b[38;5;124mproject_id\u001b[39m\u001b[38;5;124m\"\u001b[39m: pid, \u001b[38;5;124m\"\u001b[39m\u001b[38;5;124mconnector_id\u001b[39m\u001b[38;5;124m\"\u001b[39m: cid})\u001b[38;5;241m.\u001b[39mjson()\n\u001b[0;32m----> 9\u001b[0m \u001b[38;5;28;01mif\u001b[39;00m \u001b[43mconnector_info\u001b[49m\u001b[43m[\u001b[49m\u001b[38;5;124;43m'\u001b[39;49m\u001b[38;5;124;43mpartners\u001b[39;49m\u001b[38;5;124;43m'\u001b[39;49m\u001b[43m]\u001b[49m[\u001b[38;5;241m0\u001b[39m][\u001b[38;5;124m'\u001b[39m\u001b[38;5;124mrelation_name\u001b[39m\u001b[38;5;124m'\u001b[39m] \u001b[38;5;241m==\u001b[39m \u001b[38;5;124m\"\u001b[39m\u001b[38;5;124mgapjunction_with\u001b[39m\u001b[38;5;124m\"\u001b[39m \u001b[38;5;129;01mand\u001b[39;00m connector_info[\u001b[38;5;124m'\u001b[39m\u001b[38;5;124mpartners\u001b[39m\u001b[38;5;124m'\u001b[39m][\u001b[38;5;241m1\u001b[39m][\u001b[38;5;124m'\u001b[39m\u001b[38;5;124mrelation_name\u001b[39m\u001b[38;5;124m'\u001b[39m] \u001b[38;5;241m==\u001b[39m \u001b[38;5;124m\"\u001b[39m\u001b[38;5;124mgapjunction_with\u001b[39m\u001b[38;5;124m\"\u001b[39m:\n\u001b[1;32m     10\u001b[0m     gap_junction_dict[cid] \u001b[38;5;241m=\u001b[39m [connector[\u001b[38;5;241m1\u001b[39m:\u001b[38;5;241m4\u001b[39m]]\n",
            "\u001b[0;31mKeyError\u001b[0m: 'partners'"
          ]
        }
      ],
      "source": [
        "gap_junction_dict = {}\n",
        "for connector in tqdm(connectors, total=len(connectors)):\n",
        "    cid = connector[0]\n",
        "    #Get connector info for each connector ID\n",
        "    connector_info = catmaid.fetch(\n",
        "    url = f\"/{pid}/connectors/{cid}/\",\n",
        "    method = \"get\",\n",
        "    data = {\"project_id\": pid, \"connector_id\": cid}).json()\n",
        "    if connector_info['partners'][0]['relation_name'] == \"gapjunction_with\" and connector_info['partners'][1]['relation_name'] == \"gapjunction_with\":\n",
        "        gap_junction_dict[cid] = [connector[1:4]]"
      ]
    },
    {
      "cell_type": "code",
      "execution_count": 99,
      "metadata": {},
      "outputs": [
        {
          "data": {
            "text/plain": [
              "3639"
            ]
          },
          "execution_count": 99,
          "metadata": {},
          "output_type": "execute_result"
        }
      ],
      "source": [
        "len(gap_junction_dict)"
      ]
    },
    {
      "cell_type": "code",
      "execution_count": null,
      "metadata": {},
      "outputs": [],
      "source": [
        "#Save gap junction dict as json\n",
        "import json \n",
        "\n",
        "with open(\"/home/tommytang111/gap-junction-segmentation/sem_dauer_2_GJs.json\", \"w\") as f:\n",
        "    json.dump(gap_junction_dict, f)"
      ]
    },
    {
      "cell_type": "code",
      "execution_count": 33,
      "metadata": {},
      "outputs": [
        {
          "data": {
            "text/plain": [
              "'[ADAR]'"
            ]
          },
          "execution_count": 33,
          "metadata": {},
          "output_type": "execute_result"
        }
      ],
      "source": [
        "skeleton_names['3038097']"
      ]
    },
    {
      "cell_type": "code",
      "execution_count": null,
      "metadata": {
        "colab": {
          "base_uri": "https://localhost:8080/"
        },
        "collapsed": true,
        "id": "JppoE5EzoKA0",
        "outputId": "619bd7ac-8a0c-4774-fb1f-cd330bfd9c10"
      },
      "outputs": [
        {
          "name": "stderr",
          "output_type": "stream",
          "text": [
            "100%|██████████| 4455/4455 [02:50<00:00, 26.12it/s]\n"
          ]
        }
      ],
      "source": [
        "#William's stuff\n",
        "import pandas as pd\n",
        "from tqdm import tqdm\n",
        "import concurrent.futures as futures\n",
        "\n",
        "# Load all connector info\n",
        "\n",
        "col_names = [\"connector_id\",\"x\",\"y\",\"z\"]\n",
        "col_ids = [0,1,2,3]\n",
        "\n",
        "connectors = pd.DataFrame(catmaid.get_connectors()).iloc[:,col_ids]\n",
        "connectors = connectors.rename(columns=dict(zip(col_ids,col_names)))\n",
        "\n",
        "def get_link_info(connector_id):\n",
        "    connector_subtable = []\n",
        "    connector_info = catmaid.get_connector_info(connector_id)\n",
        "    pre = \"\"\n",
        "    pre_node = 0\n",
        "    post = []\n",
        "    post_nodes = []\n",
        "    for partner in connector_info['partners']:\n",
        "        if partner['relation_name'] == 'presynaptic_to':\n",
        "            if partner['confidence'] < 5:\n",
        "                continue\n",
        "            pre = partner['skeleton_id']\n",
        "            pre_node = partner['partner_id']\n",
        "        if partner['relation_name'] == 'postsynaptic_to':\n",
        "            if partner['confidence'] < 5:\n",
        "                continue\n",
        "            post.append(partner['skeleton_id'])\n",
        "            post_nodes.append(partner['partner_id'])\n",
        "    for i in range(len(post)):\n",
        "        connector_subtable.append({\n",
        "            \"connector_id\": connector_info['connector_id'],\n",
        "            \"x\": connector_info['x'],\n",
        "            \"y\": connector_info['y'],\n",
        "            \"z\": connector_info['z'],\n",
        "            \"pre\": pre,\n",
        "            \"pre_node\": pre_node,\n",
        "            \"post\": post[i],\n",
        "            \"post_node\": post_nodes[i]})\n",
        "    return connector_subtable\n",
        "\n",
        "with futures.ThreadPoolExecutor() as executor:\n",
        "    results = list(tqdm(executor.map(get_link_info, connectors['connector_id']), total=len(connectors)))\n",
        "\n",
        "connector_table = [item for sublist in results if sublist for item in sublist]\n",
        "connector_table = pd.DataFrame(connector_table)\n",
        "\n",
        "# only include elements within bounded nodes for each particular skeleton\n",
        "pre_skel_filt = connector_table['pre'].isin(bounded_nodes.keys())\n",
        "connector_table = connector_table[pre_skel_filt]\n",
        "\n",
        "all_bounded_nodes = set()\n",
        "for nodes in bounded_nodes.values():\n",
        "    all_bounded_nodes.update(nodes)\n",
        "\n",
        "connector_table_filt = connector_table[connector_table['pre_node'].isin(all_bounded_nodes)]"
      ]
    }
  ],
  "metadata": {
    "colab": {
      "provenance": []
    },
    "kernelspec": {
      "display_name": "gap_junction",
      "language": "python",
      "name": "python3"
    },
    "language_info": {
      "codemirror_mode": {
        "name": "ipython",
        "version": 3
      },
      "file_extension": ".py",
      "mimetype": "text/x-python",
      "name": "python",
      "nbconvert_exporter": "python",
      "pygments_lexer": "ipython3",
      "version": "3.10.16"
    }
  },
  "nbformat": 4,
  "nbformat_minor": 0
}
