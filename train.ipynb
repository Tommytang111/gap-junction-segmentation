{
 "cells": [
  {
   "cell_type": "markdown",
   "id": "6d697bbf",
   "metadata": {},
   "source": [
    "### Gap Junction Segmentation Model Training Pipeline"
   ]
  },
  {
   "cell_type": "code",
   "execution_count": 13,
   "id": "58f8f879",
   "metadata": {},
   "outputs": [],
   "source": [
    "#Libraries\n",
    "import torch\n",
    "from torch import nn\n",
    "from utilities import UpBlock, DownBlock, DoubleConv, GenDLoss\n",
    "from torch.utils.data import DataLoader\n",
    "from torch.utils.data import Dataset\n",
    "from torchvision.transforms import ToTensor\n",
    "from torch.optim import Adam\n",
    "from torch.optim.lr_scheduler import ReduceLROnPlateau\n",
    "from torchmetrics.classification import BinaryRecall, BinaryPrecision, BinaryF1Score\n",
    "import numpy as np\n",
    "import os\n",
    "import cv2\n",
    "from tqdm.notebook import tqdm #Change to tqdm.tqdm if not using Jupyter Notebook\n",
    "import copy\n",
    "import wandb\n",
    "#Custom Libraries\n",
    "from resize_image import resize_image"
   ]
  },
  {
   "cell_type": "code",
   "execution_count": 15,
   "id": "050528e7",
   "metadata": {},
   "outputs": [
    {
     "data": {
      "text/html": [
       "Finishing previous runs because reinit is set to 'default'."
      ],
      "text/plain": [
       "<IPython.core.display.HTML object>"
      ]
     },
     "metadata": {},
     "output_type": "display_data"
    },
    {
     "data": {
      "text/html": [],
      "text/plain": [
       "<IPython.core.display.HTML object>"
      ]
     },
     "metadata": {},
     "output_type": "display_data"
    },
    {
     "data": {
      "text/html": [
       " View run <strong style=\"color:#cdcd00\">unet_sem_adult_250-259_run1</strong> at: <a href='https://wandb.ai/zhen_lab/gap-junction-segmentation/runs/9bmqhh2m' target=\"_blank\">https://wandb.ai/zhen_lab/gap-junction-segmentation/runs/9bmqhh2m</a><br> View project at: <a href='https://wandb.ai/zhen_lab/gap-junction-segmentation' target=\"_blank\">https://wandb.ai/zhen_lab/gap-junction-segmentation</a><br>Synced 5 W&B file(s), 0 media file(s), 0 artifact file(s) and 0 other file(s)"
      ],
      "text/plain": [
       "<IPython.core.display.HTML object>"
      ]
     },
     "metadata": {},
     "output_type": "display_data"
    },
    {
     "data": {
      "text/html": [
       "Find logs at: <code>/home/tommytang111/gap-junction-segmentation/wandb/wandb/run-20250529_161207-9bmqhh2m/logs</code>"
      ],
      "text/plain": [
       "<IPython.core.display.HTML object>"
      ]
     },
     "metadata": {},
     "output_type": "display_data"
    },
    {
     "data": {
      "text/html": [
       "Tracking run with wandb version 0.19.10"
      ],
      "text/plain": [
       "<IPython.core.display.HTML object>"
      ]
     },
     "metadata": {},
     "output_type": "display_data"
    },
    {
     "data": {
      "text/html": [
       "Run data is saved locally in <code>/home/tommytang111/gap-junction-segmentation/wandb/wandb/run-20250529_161518-2hwftauw</code>"
      ],
      "text/plain": [
       "<IPython.core.display.HTML object>"
      ]
     },
     "metadata": {},
     "output_type": "display_data"
    },
    {
     "data": {
      "text/html": [
       "Syncing run <strong><a href='https://wandb.ai/zhen_lab/gap-junction-segmentation/runs/2hwftauw' target=\"_blank\">unet_sem_adult_250-259_run1</a></strong> to <a href='https://wandb.ai/zhen_lab/gap-junction-segmentation' target=\"_blank\">Weights & Biases</a> (<a href='https://wandb.me/developer-guide' target=\"_blank\">docs</a>)<br>"
      ],
      "text/plain": [
       "<IPython.core.display.HTML object>"
      ]
     },
     "metadata": {},
     "output_type": "display_data"
    },
    {
     "data": {
      "text/html": [
       " View project at <a href='https://wandb.ai/zhen_lab/gap-junction-segmentation' target=\"_blank\">https://wandb.ai/zhen_lab/gap-junction-segmentation</a>"
      ],
      "text/plain": [
       "<IPython.core.display.HTML object>"
      ]
     },
     "metadata": {},
     "output_type": "display_data"
    },
    {
     "data": {
      "text/html": [
       " View run at <a href='https://wandb.ai/zhen_lab/gap-junction-segmentation/runs/2hwftauw' target=\"_blank\">https://wandb.ai/zhen_lab/gap-junction-segmentation/runs/2hwftauw</a>"
      ],
      "text/plain": [
       "<IPython.core.display.HTML object>"
      ]
     },
     "metadata": {},
     "output_type": "display_data"
    },
    {
     "data": {
      "text/html": [
       "<button onClick=\"this.nextSibling.style.display='block';this.style.display='none';\">Display W&B run</button><iframe src='https://wandb.ai/zhen_lab/gap-junction-segmentation/runs/2hwftauw?jupyter=true' style='border:none;width:100%;height:420px;display:none;'></iframe>"
      ],
      "text/plain": [
       "<wandb.sdk.wandb_run.Run at 0x7f0e6030eda0>"
      ]
     },
     "execution_count": 15,
     "metadata": {},
     "output_type": "execute_result"
    }
   ],
   "source": [
    "#WandB Initialization\n",
    "wandb.init(project=\"gap-junction-segmentation\", \n",
    "           entity=\"zhen_lab\", dir=\"/home/tommytang111/gap-junction-segmentation/wandb\",\n",
    "           name=\"unet_sem_adult_250-259_run1\",\n",
    "           config={\n",
    "               \"learning_rate\": 0.001,\n",
    "               \"batch_size\": 8,\n",
    "               \"epochs\": 100,\n",
    "               \"image_size\": (512, 512),\n",
    "               \"loss_function\": \"Generalized Dice Loss\",\n",
    "               \"optimizer\": \"Adam\",\n",
    "               \"scheduler\": \"ReduceLROnPlateau\"\n",
    "           }\n",
    ")"
   ]
  },
  {
   "cell_type": "markdown",
   "id": "892be359",
   "metadata": {},
   "source": [
    "#### Set Reproducible Seeds"
   ]
  },
  {
   "cell_type": "code",
   "execution_count": null,
   "id": "f7f50733",
   "metadata": {},
   "outputs": [],
   "source": [
    "def seed_everything(seed: int = 42):\n",
    "    np.random.seed(seed)\n",
    "    torch.manual_seed(seed)\n",
    "    torch.cuda.manual_seed(seed)\n",
    "    torch.cuda.manual_seed_all(seed)\n",
    "    torch.backends.cudnn.deterministic = True\n",
    "    #torch.backends.cudnn.benchmark = False\n",
    "    \n",
    "def worker_init_fn(worker_id):\n",
    "    seed = 42 + worker_id\n",
    "    np.random.seed(seed)\n",
    "    torch.manual_seed(seed)\n",
    "    \n",
    "seed_everything(42)"
   ]
  },
  {
   "cell_type": "markdown",
   "id": "e4a1bfed",
   "metadata": {},
   "source": [
    "#### Make Dataset Class"
   ]
  },
  {
   "cell_type": "code",
   "execution_count": null,
   "id": "bed85410",
   "metadata": {},
   "outputs": [],
   "source": [
    "#Class can load any mask as long as the model corresponds to the mask type\n",
    "class TrainingDataset(Dataset):\n",
    "    def __init__(self, images, labels, masks=None, augmentation=None, data_size=(512, 512), train=True):\n",
    "        self.image_paths = [os.path.join(images, img) for img in os.listdir(images)]\n",
    "        self.label_paths = [os.path.join(labels, lbl) for lbl in os.listdir(labels)]\n",
    "        self.mask_paths = [os.path.join(masks, mask) for mask in os.listdir(masks)] if masks else None\n",
    "        self.augmentation = augmentation\n",
    "        self.data_size = data_size\n",
    "        self.train = train\n",
    "\n",
    "    def __len__(self):\n",
    "        return len(self.image_paths)\n",
    "\n",
    "    def __getitem__(self, idx):\n",
    "\n",
    "        #Read image, label, and mask\n",
    "        image = cv2.imread(self.image_paths[idx], cv2.IMREAD_GRAYSCALE)\n",
    "        label = cv2.imread(self.label_paths[idx], cv2.IMREAD_GRAYSCALE)\n",
    "        mask = cv2.imread(self.mask_paths[idx], cv2.IMREAD_GRAYSCALE) if self.mask_paths else None\n",
    "        \n",
    "        #Apply resizing with padding if image is not expected size and then convert back to ndarray\n",
    "        if (image.shape[0] != self.data_size[0]) or (image.shape[1] != self.data_size[1]): \n",
    "            image = np.array(resize_image(image, self.data_size[0], self.data_size[1], (0,0,0)))\n",
    "\n",
    "        #Convert mask/label to binary for model classification\n",
    "        label[label > 0] = 1\n",
    "        if mask is not None:\n",
    "            mask[mask > 0] = 1\n",
    "        \n",
    "        #Add augmentation clause later\n",
    "        #Add entity recognition clause later if needed\n",
    "        \n",
    "        #Convert to tensors\n",
    "        image = ToTensor()(image).float()\n",
    "        label = torch.from_numpy(label).long()\n",
    "        if mask is not None:\n",
    "            mask = torch.from_numpy(mask).long()\n",
    "        else:\n",
    "            mask = torch.zeros_like(label)\n",
    "\n",
    "        return image, label, mask"
   ]
  },
  {
   "cell_type": "markdown",
   "id": "fd06ab38",
   "metadata": {},
   "source": [
    "#### Initialize and Load Datasets"
   ]
  },
  {
   "cell_type": "code",
   "execution_count": null,
   "id": "3a57491f",
   "metadata": {},
   "outputs": [],
   "source": [
    "train = TrainingDataset(\n",
    "    images=\"/home/tommytang111/gap-junction-segmentation/data/sem_adult/SEM_split/s250-259/imgs\",\n",
    "    labels=\"/home/tommytang111/gap-junction-segmentation/data/sem_adult/SEM_split/s250-259/gts\",\n",
    "    train=True\n",
    ")\n",
    "\n",
    "valid = TrainingDataset(\n",
    "    images=\"/home/tommytang111/gap-junction-segmentation/data/sem_adult/SEM_split/s200-209/imgs\",\n",
    "    labels=\"/home/tommytang111/gap-junction-segmentation/data/sem_adult/SEM_split/s200-209/gts\",\n",
    "    train=False\n",
    ")   \n",
    "\n",
    "train_dataloader = DataLoader(train, batch_size=8, shuffle=True, num_workers=4, pin_memory=True, worker_init_fn=worker_init_fn)\n",
    "valid_dataloader = DataLoader(valid, batch_size=8, shuffle=False, num_workers=4, pin_memory=True, worker_init_fn=worker_init_fn)"
   ]
  },
  {
   "cell_type": "markdown",
   "id": "0aa04da2",
   "metadata": {},
   "source": [
    "#### Initialize model and send to gpu"
   ]
  },
  {
   "cell_type": "code",
   "execution_count": null,
   "id": "2fa57f8e",
   "metadata": {},
   "outputs": [],
   "source": [
    "class UNet(nn.Module):\n",
    "    \"\"\"UNet Architecture\"\"\"\n",
    "    def __init__(self, out_classes=2, up_sample_mode='conv_transpose', three=False, attend=False, residual=False, scale=False, spatial=False, dropout=0, classes=2):\n",
    "        \"\"\"Initialize the UNet model\"\"\"\n",
    "        super(UNet, self).__init__()\n",
    "        self.three = three\n",
    "        self.up_sample_mode = up_sample_mode\n",
    "        self.dropout=dropout\n",
    "\n",
    "        # Downsampling Path\n",
    "        self.down_conv1 = DownBlock(1, 64, three=three, spatial=False, residual=residual) # 3 input channels --> 64 output channels\n",
    "        self.down_conv2 = DownBlock(64, 128, three=three, spatial=spatial, dropout=self.dropout, residual=residual) # 64 input channels --> 128 output channels\n",
    "        self.down_conv3 = DownBlock(128, 256, spatial=spatial, dropout=self.dropout, residual=residual) # 128 input channels --> 256 output channels\n",
    "        self.down_conv4 = DownBlock(256, 512, spatial=spatial, dropout=self.dropout, residual=residual) # 256 input channels --> 512 output channels\n",
    "        # Bottleneck\n",
    "        self.double_conv = DoubleConv(512, 1024,spatial=spatial, dropout=self.dropout, residual=residual)\n",
    "        # Upsampling Path\n",
    "        self.up_conv4 = UpBlock(512 + 1024, 512, self.up_sample_mode, dropout=self.dropout, residual=residual) # 512 + 1024 input channels --> 512 output channels\n",
    "        self.up_conv3 = UpBlock(256 + 512, 256, self.up_sample_mode, dropout=self.dropout, residual=residual)\n",
    "        self.up_conv2 = UpBlock(128+ 256, 128, self.up_sample_mode, dropout=self.dropout, residual=residual)\n",
    "        self.up_conv1 = UpBlock(128 + 64, 64, self.up_sample_mode)\n",
    "        # Final Convolution\n",
    "        self.conv_last = nn.Conv2d(64, 1 if classes == 2 else classes, kernel_size=1)\n",
    "        self.attend = attend\n",
    "        if scale:\n",
    "            self.s1, self.s2 = torch.nn.Parameter(torch.ones(1), requires_grad=True), torch.nn.Parameter(torch.ones(1), requires_grad=True) # learn scaling\n",
    "\n",
    "\n",
    "    def forward(self, x):\n",
    "        \"\"\"Forward pass of the UNet model\n",
    "        x: (16, 1, 512, 512)\n",
    "        \"\"\"\n",
    "        # print(x.shape)\n",
    "        x, skip1_out = self.down_conv1(x) # x: (16, 64, 256, 256), skip1_out: (16, 64, 512, 512) (batch_size, channels, height, width)    \n",
    "        x, skip2_out = self.down_conv2(x) # x: (16, 128, 128, 128), skip2_out: (16, 128, 256, 256)\n",
    "        if self.three: x = x.squeeze(-3)   \n",
    "        x, skip3_out = self.down_conv3(x) # x: (16, 256, 64, 64), skip3_out: (16, 256, 128, 128)\n",
    "        x, skip4_out = self.down_conv4(x) # x: (16, 512, 32, 32), skip4_out: (16, 512, 64, 64)\n",
    "        x = self.double_conv(x) # x: (16, 1024, 32, 32)\n",
    "        x = self.up_conv4(x, skip4_out) # x: (16, 512, 64, 64)\n",
    "        x = self.up_conv3(x, skip3_out) # x: (16, 256, 128, 128)\n",
    "        if self.three: \n",
    "            #attention_mode???\n",
    "            skip1_out = torch.mean(skip1_out, dim=2)\n",
    "            skip2_out = torch.mean(skip2_out, dim=2)\n",
    "        x = self.up_conv2(x, skip2_out) # x: (16, 128, 256, 256)\n",
    "        x = self.up_conv1(x, skip1_out) # x: (16, 64, 512, 512)\n",
    "        x = self.conv_last(x) # x: (16, 1, 512, 512)\n",
    "        return x\n",
    "    \n",
    "device = torch.device(\"cuda\")    \n",
    "model = UNet().to(device)"
   ]
  },
  {
   "cell_type": "markdown",
   "id": "e2e1d635",
   "metadata": {},
   "source": [
    "#### Initialize loss function and optimizer"
   ]
  },
  {
   "cell_type": "code",
   "execution_count": 26,
   "id": "cf895300",
   "metadata": {},
   "outputs": [],
   "source": [
    "loss_fn = GenDLoss()\n",
    "optimizer = Adam(model.parameters(), lr=1e-3, weight_decay=1e-4)\n",
    "scheduler = ReduceLROnPlateau(optimizer, mode='min', factor=0.5, patience=5, min_lr=1e-6)"
   ]
  },
  {
   "cell_type": "code",
   "execution_count": 21,
   "id": "64375e75",
   "metadata": {},
   "outputs": [],
   "source": [
    "#Send evaluation metrics to device\n",
    "recall = BinaryRecall().to(device)\n",
    "precision = BinaryPrecision().to(device)\n",
    "f1 = BinaryF1Score().to(device)"
   ]
  },
  {
   "cell_type": "markdown",
   "id": "401b8a51",
   "metadata": {},
   "source": [
    "#### Define Training and Validation Process"
   ]
  },
  {
   "cell_type": "code",
   "execution_count": 22,
   "id": "c4bf6673",
   "metadata": {},
   "outputs": [],
   "source": [
    "#Define training function\n",
    "def train(dataloader, model, loss_fn, optimizer):\n",
    "    model.train()\n",
    "    train_loss = 0\n",
    "    num_batches = len(dataloader)\n",
    "    \n",
    "    #Reset metrics for each epoch\n",
    "    recall.reset()\n",
    "    precision.reset()\n",
    "    f1.reset()\n",
    "    \n",
    "    for batch, (X, y, _) in tqdm(enumerate(dataloader), total=num_batches, desc=\"Batches\", leave=True):\n",
    "        X, y = X.to(device), y.to(device)\n",
    "        \n",
    "        # Compute prediction and loss\n",
    "        pred = model(X)\n",
    "        loss = loss_fn(pred, y)\n",
    "        \n",
    "        # Backpropagation\n",
    "        loss.backward()\n",
    "        optimizer.step()\n",
    "        optimizer.zero_grad()\n",
    "        \n",
    "        #Calculate metrics after converting predictions to binary\n",
    "        pred_binary = (torch.sigmoid(pred) > 0.5).squeeze(1) #Remove channel dimension to match y\n",
    "        \n",
    "        #Update metrics\n",
    "        recall.update(pred_binary, y)\n",
    "        precision.update(pred_binary, y)\n",
    "        f1.update(pred_binary, y)\n",
    "        \n",
    "        train_loss += loss.item()\n",
    "\n",
    "    #Compute final metrics per epoch\n",
    "    train_recall = recall.compute().item()\n",
    "    train_precision = precision.compute().item()\n",
    "    train_f1 = f1.compute().item()\n",
    "    train_loss_per_epoch = train_loss / num_batches \n",
    "    \n",
    "    return train_loss_per_epoch, train_recall, train_precision, train_f1\n"
   ]
  },
  {
   "cell_type": "code",
   "execution_count": 23,
   "id": "0f1ff8ed",
   "metadata": {},
   "outputs": [],
   "source": [
    "#Define validation function\n",
    "def validate(dataloader, model, loss_fn):\n",
    "    model.eval()\n",
    "    test_loss = 0\n",
    "    num_batches = len(dataloader)\n",
    "    \n",
    "    #Reset metrics for each epoch\n",
    "    recall.reset()\n",
    "    precision.reset()\n",
    "    f1.reset()\n",
    "    \n",
    "    with torch.no_grad():\n",
    "        for X, y, _ in dataloader:\n",
    "            X, y = X.to(device), y.to(device)\n",
    "            pred = model(X)\n",
    "            test_loss += loss_fn(pred, y).item()\n",
    "            \n",
    "        #Calculate metrics\n",
    "        pred_binary = (torch.sigmoid(pred) > 0.5).squeeze(1) #Remove channel dimension to match y\n",
    "        \n",
    "        #Update metrics\n",
    "        recall.update(pred_binary, y)\n",
    "        precision.update(pred_binary, y)\n",
    "        f1.update(pred_binary, y)\n",
    "            \n",
    "        #Compute final metrics per epoch\n",
    "        val_recall = recall.compute().item()\n",
    "        val_precision = precision.compute().item()\n",
    "        val_f1 = f1.compute().item()\n",
    "        val_loss_per_epoch = test_loss / num_batches\n",
    "\n",
    "    return val_loss_per_epoch, val_recall, val_precision, val_f1\n",
    "    print(f\"Avg loss: {test_loss:>7f}\\n\")\n",
    "    "
   ]
  },
  {
   "cell_type": "markdown",
   "id": "da5c9f7a",
   "metadata": {},
   "source": [
    "#### Run Training"
   ]
  },
  {
   "cell_type": "code",
   "execution_count": null,
   "id": "b267371d",
   "metadata": {},
   "outputs": [
    {
     "name": "stdout",
     "output_type": "stream",
     "text": [
      "Epoch 1\n"
     ]
    },
    {
     "data": {
      "application/vnd.jupyter.widget-view+json": {
       "model_id": "62a5d1d52f694bb3ab092472ba687674",
       "version_major": 2,
       "version_minor": 0
      },
      "text/plain": [
       "Batches:   0%|          | 0/5 [00:00<?, ?it/s]"
      ]
     },
     "metadata": {},
     "output_type": "display_data"
    },
    {
     "name": "stdout",
     "output_type": "stream",
     "text": [
      "Train | Loss: 0.9573, Recall: 0.3958, Precision: 0.0222, F1: 0.0420\n",
      "Val   | Loss: 0.9292, Recall: 0.0507, Precision: 0.0445, F1: 0.0474\n",
      "-----------------------------\n",
      "Epoch 2\n"
     ]
    },
    {
     "data": {
      "application/vnd.jupyter.widget-view+json": {
       "model_id": "5f5734eb983f47d5a4a5cc9b64778ae4",
       "version_major": 2,
       "version_minor": 0
      },
      "text/plain": [
       "Batches:   0%|          | 0/5 [00:00<?, ?it/s]"
      ]
     },
     "metadata": {},
     "output_type": "display_data"
    },
    {
     "name": "stdout",
     "output_type": "stream",
     "text": [
      "Train | Loss: 0.9569, Recall: 0.4626, Precision: 0.0226, F1: 0.0430\n",
      "Val   | Loss: 0.9300, Recall: 0.0440, Precision: 0.0357, F1: 0.0394\n",
      "-----------------------------\n",
      "Epoch 3\n"
     ]
    },
    {
     "data": {
      "application/vnd.jupyter.widget-view+json": {
       "model_id": "203aa280815e41ce8c5c07b872ae6a4c",
       "version_major": 2,
       "version_minor": 0
      },
      "text/plain": [
       "Batches:   0%|          | 0/5 [00:00<?, ?it/s]"
      ]
     },
     "metadata": {},
     "output_type": "display_data"
    },
    {
     "name": "stdout",
     "output_type": "stream",
     "text": [
      "Train | Loss: 0.9562, Recall: 0.3682, Precision: 0.0232, F1: 0.0436\n",
      "Val   | Loss: 0.9291, Recall: 0.9864, Precision: 0.0467, F1: 0.0891\n",
      "-----------------------------\n",
      "Epoch 4\n"
     ]
    },
    {
     "data": {
      "application/vnd.jupyter.widget-view+json": {
       "model_id": "d10c62f4775747ab916e8773c844988c",
       "version_major": 2,
       "version_minor": 0
      },
      "text/plain": [
       "Batches:   0%|          | 0/5 [00:00<?, ?it/s]"
      ]
     },
     "metadata": {},
     "output_type": "display_data"
    },
    {
     "name": "stdout",
     "output_type": "stream",
     "text": [
      "Train | Loss: 0.9556, Recall: 0.3037, Precision: 0.0252, F1: 0.0465\n",
      "Val   | Loss: 0.9290, Recall: 0.9975, Precision: 0.0466, F1: 0.0891\n",
      "-----------------------------\n",
      "Epoch 5\n"
     ]
    },
    {
     "data": {
      "application/vnd.jupyter.widget-view+json": {
       "model_id": "c9f7b3759b8e457c9eb1039962893d39",
       "version_major": 2,
       "version_minor": 0
      },
      "text/plain": [
       "Batches:   0%|          | 0/5 [00:00<?, ?it/s]"
      ]
     },
     "metadata": {},
     "output_type": "display_data"
    },
    {
     "name": "stdout",
     "output_type": "stream",
     "text": [
      "Train | Loss: 0.9556, Recall: 0.1441, Precision: 0.0238, F1: 0.0409\n",
      "Val   | Loss: 0.9283, Recall: 0.9889, Precision: 0.0475, F1: 0.0907\n",
      "-----------------------------\n",
      "Epoch 6\n"
     ]
    },
    {
     "data": {
      "application/vnd.jupyter.widget-view+json": {
       "model_id": "9503d0f8f03c43ab96e29a5029811e70",
       "version_major": 2,
       "version_minor": 0
      },
      "text/plain": [
       "Batches:   0%|          | 0/5 [00:00<?, ?it/s]"
      ]
     },
     "metadata": {},
     "output_type": "display_data"
    },
    {
     "name": "stdout",
     "output_type": "stream",
     "text": [
      "Train | Loss: 0.9533, Recall: 0.1036, Precision: 0.0268, F1: 0.0426\n",
      "Val   | Loss: 0.9217, Recall: 0.6495, Precision: 0.0477, F1: 0.0888\n",
      "-----------------------------\n",
      "Epoch 7\n"
     ]
    },
    {
     "data": {
      "application/vnd.jupyter.widget-view+json": {
       "model_id": "d00284bc7e1e44e1b8e00f4e93c98b7e",
       "version_major": 2,
       "version_minor": 0
      },
      "text/plain": [
       "Batches:   0%|          | 0/5 [00:00<?, ?it/s]"
      ]
     },
     "metadata": {},
     "output_type": "display_data"
    },
    {
     "name": "stdout",
     "output_type": "stream",
     "text": [
      "Train | Loss: 0.9476, Recall: 0.1209, Precision: 0.0299, F1: 0.0480\n",
      "Val   | Loss: 0.9284, Recall: 0.9806, Precision: 0.0471, F1: 0.0899\n",
      "-----------------------------\n",
      "Epoch 8\n"
     ]
    },
    {
     "data": {
      "application/vnd.jupyter.widget-view+json": {
       "model_id": "6654ce74181e4977a2798ca13929c054",
       "version_major": 2,
       "version_minor": 0
      },
      "text/plain": [
       "Batches:   0%|          | 0/5 [00:00<?, ?it/s]"
      ]
     },
     "metadata": {},
     "output_type": "display_data"
    },
    {
     "name": "stdout",
     "output_type": "stream",
     "text": [
      "Train | Loss: 0.9471, Recall: 0.1125, Precision: 0.0316, F1: 0.0493\n",
      "Val   | Loss: 0.9207, Recall: 0.1673, Precision: 0.0499, F1: 0.0768\n",
      "-----------------------------\n",
      "Epoch 9\n"
     ]
    },
    {
     "data": {
      "application/vnd.jupyter.widget-view+json": {
       "model_id": "7a207357a35f43f8ae1730a77712c8fa",
       "version_major": 2,
       "version_minor": 0
      },
      "text/plain": [
       "Batches:   0%|          | 0/5 [00:00<?, ?it/s]"
      ]
     },
     "metadata": {},
     "output_type": "display_data"
    },
    {
     "name": "stdout",
     "output_type": "stream",
     "text": [
      "Train | Loss: 0.9468, Recall: 0.0480, Precision: 0.0328, F1: 0.0390\n",
      "Val   | Loss: 0.9157, Recall: 0.5432, Precision: 0.0540, F1: 0.0983\n",
      "-----------------------------\n",
      "Epoch 10\n"
     ]
    },
    {
     "data": {
      "application/vnd.jupyter.widget-view+json": {
       "model_id": "89db54ca55c5407f89f7f6818ae196c5",
       "version_major": 2,
       "version_minor": 0
      },
      "text/plain": [
       "Batches:   0%|          | 0/5 [00:00<?, ?it/s]"
      ]
     },
     "metadata": {},
     "output_type": "display_data"
    },
    {
     "name": "stdout",
     "output_type": "stream",
     "text": [
      "Train | Loss: 0.9426, Recall: 0.0634, Precision: 0.0362, F1: 0.0461\n",
      "Val   | Loss: 0.9216, Recall: 0.3024, Precision: 0.0565, F1: 0.0952\n",
      "-----------------------------\n",
      "Epoch 11\n"
     ]
    },
    {
     "data": {
      "application/vnd.jupyter.widget-view+json": {
       "model_id": "cf3da696fd694848a2c68edf8c331c18",
       "version_major": 2,
       "version_minor": 0
      },
      "text/plain": [
       "Batches:   0%|          | 0/5 [00:00<?, ?it/s]"
      ]
     },
     "metadata": {},
     "output_type": "display_data"
    },
    {
     "name": "stdout",
     "output_type": "stream",
     "text": [
      "Train | Loss: 0.9398, Recall: 0.0627, Precision: 0.0412, F1: 0.0497\n",
      "Val   | Loss: 0.9220, Recall: 0.0224, Precision: 0.0582, F1: 0.0323\n",
      "-----------------------------\n",
      "Epoch 12\n"
     ]
    },
    {
     "data": {
      "application/vnd.jupyter.widget-view+json": {
       "model_id": "f7d96bd7bbb245dc980fcecc85b557b5",
       "version_major": 2,
       "version_minor": 0
      },
      "text/plain": [
       "Batches:   0%|          | 0/5 [00:00<?, ?it/s]"
      ]
     },
     "metadata": {},
     "output_type": "display_data"
    },
    {
     "name": "stdout",
     "output_type": "stream",
     "text": [
      "Train | Loss: 0.9396, Recall: 0.0344, Precision: 0.0513, F1: 0.0412\n",
      "Val   | Loss: 0.9207, Recall: 0.0815, Precision: 0.0661, F1: 0.0730\n",
      "-----------------------------\n",
      "Epoch 13\n"
     ]
    },
    {
     "data": {
      "application/vnd.jupyter.widget-view+json": {
       "model_id": "84c75cf863e544398d6cfbf18ec01f91",
       "version_major": 2,
       "version_minor": 0
      },
      "text/plain": [
       "Batches:   0%|          | 0/5 [00:00<?, ?it/s]"
      ]
     },
     "metadata": {},
     "output_type": "display_data"
    },
    {
     "name": "stdout",
     "output_type": "stream",
     "text": [
      "Train | Loss: 0.9378, Recall: 0.0542, Precision: 0.0447, F1: 0.0490\n",
      "Val   | Loss: 0.9227, Recall: 0.0879, Precision: 0.0610, F1: 0.0720\n",
      "-----------------------------\n",
      "Epoch 14\n"
     ]
    },
    {
     "data": {
      "application/vnd.jupyter.widget-view+json": {
       "model_id": "249d9718edd34079a8296625ee4984fe",
       "version_major": 2,
       "version_minor": 0
      },
      "text/plain": [
       "Batches:   0%|          | 0/5 [00:00<?, ?it/s]"
      ]
     },
     "metadata": {},
     "output_type": "display_data"
    },
    {
     "name": "stdout",
     "output_type": "stream",
     "text": [
      "Train | Loss: 0.9375, Recall: 0.0529, Precision: 0.0454, F1: 0.0488\n",
      "Val   | Loss: 0.9289, Recall: 0.0013, Precision: 0.0650, F1: 0.0026\n",
      "-----------------------------\n",
      "Epoch 15\n"
     ]
    },
    {
     "data": {
      "application/vnd.jupyter.widget-view+json": {
       "model_id": "75fbafcf6ac2449487d9ff0538be37bd",
       "version_major": 2,
       "version_minor": 0
      },
      "text/plain": [
       "Batches:   0%|          | 0/5 [00:00<?, ?it/s]"
      ]
     },
     "metadata": {},
     "output_type": "display_data"
    },
    {
     "name": "stdout",
     "output_type": "stream",
     "text": [
      "Train | Loss: 0.9510, Recall: 0.0089, Precision: 0.0382, F1: 0.0145\n",
      "Val   | Loss: 0.9218, Recall: 0.0346, Precision: 0.0747, F1: 0.0473\n",
      "-----------------------------\n",
      "Epoch 16\n"
     ]
    },
    {
     "data": {
      "application/vnd.jupyter.widget-view+json": {
       "model_id": "22975905313d4e43ba6dfb6cd16a7b07",
       "version_major": 2,
       "version_minor": 0
      },
      "text/plain": [
       "Batches:   0%|          | 0/5 [00:00<?, ?it/s]"
      ]
     },
     "metadata": {},
     "output_type": "display_data"
    },
    {
     "name": "stdout",
     "output_type": "stream",
     "text": [
      "Train | Loss: 0.9416, Recall: 0.0490, Precision: 0.0392, F1: 0.0436\n",
      "Val   | Loss: 0.9186, Recall: 0.0630, Precision: 0.0666, F1: 0.0648\n",
      "-----------------------------\n",
      "Epoch 17\n"
     ]
    },
    {
     "data": {
      "application/vnd.jupyter.widget-view+json": {
       "model_id": "bc4be43dd7ff44d38c4340529251c18a",
       "version_major": 2,
       "version_minor": 0
      },
      "text/plain": [
       "Batches:   0%|          | 0/5 [00:00<?, ?it/s]"
      ]
     },
     "metadata": {},
     "output_type": "display_data"
    },
    {
     "name": "stdout",
     "output_type": "stream",
     "text": [
      "Train | Loss: 0.9379, Recall: 0.0628, Precision: 0.0419, F1: 0.0503\n",
      "Val   | Loss: 0.9194, Recall: 0.0615, Precision: 0.0674, F1: 0.0643\n",
      "-----------------------------\n",
      "Epoch 18\n"
     ]
    },
    {
     "data": {
      "application/vnd.jupyter.widget-view+json": {
       "model_id": "964dcb2916504f18ac44d60839df0809",
       "version_major": 2,
       "version_minor": 0
      },
      "text/plain": [
       "Batches:   0%|          | 0/5 [00:00<?, ?it/s]"
      ]
     },
     "metadata": {},
     "output_type": "display_data"
    },
    {
     "name": "stdout",
     "output_type": "stream",
     "text": [
      "Train | Loss: 0.9368, Recall: 0.0597, Precision: 0.0431, F1: 0.0500\n",
      "Val   | Loss: 0.9262, Recall: 0.0240, Precision: 0.0649, F1: 0.0351\n",
      "-----------------------------\n",
      "Epoch 19\n"
     ]
    },
    {
     "data": {
      "application/vnd.jupyter.widget-view+json": {
       "model_id": "3288b50eba4c4a66916bc86009225c72",
       "version_major": 2,
       "version_minor": 0
      },
      "text/plain": [
       "Batches:   0%|          | 0/5 [00:00<?, ?it/s]"
      ]
     },
     "metadata": {},
     "output_type": "display_data"
    },
    {
     "name": "stdout",
     "output_type": "stream",
     "text": [
      "Train | Loss: 0.9354, Recall: 0.0413, Precision: 0.0507, F1: 0.0455\n",
      "Val   | Loss: 0.9288, Recall: 0.0000, Precision: 0.0000, F1: 0.0000\n",
      "-----------------------------\n",
      "Epoch 20\n"
     ]
    },
    {
     "data": {
      "application/vnd.jupyter.widget-view+json": {
       "model_id": "111fff8a81b742d487f1f38237600294",
       "version_major": 2,
       "version_minor": 0
      },
      "text/plain": [
       "Batches:   0%|          | 0/5 [00:00<?, ?it/s]"
      ]
     },
     "metadata": {},
     "output_type": "display_data"
    },
    {
     "name": "stdout",
     "output_type": "stream",
     "text": [
      "Train | Loss: 0.9353, Recall: 0.0504, Precision: 0.0512, F1: 0.0508\n",
      "Val   | Loss: 0.9214, Recall: 0.0509, Precision: 0.0655, F1: 0.0573\n",
      "-----------------------------\n",
      "Epoch 21\n"
     ]
    },
    {
     "data": {
      "application/vnd.jupyter.widget-view+json": {
       "model_id": "ef69a32077ee42bc959f1cf9aec2c024",
       "version_major": 2,
       "version_minor": 0
      },
      "text/plain": [
       "Batches:   0%|          | 0/5 [00:00<?, ?it/s]"
      ]
     },
     "metadata": {},
     "output_type": "display_data"
    },
    {
     "name": "stdout",
     "output_type": "stream",
     "text": [
      "Train | Loss: 0.9361, Recall: 0.0546, Precision: 0.0452, F1: 0.0494\n",
      "Val   | Loss: 0.9221, Recall: 0.0327, Precision: 0.0653, F1: 0.0436\n",
      "-----------------------------\n",
      "Epoch 22\n"
     ]
    },
    {
     "data": {
      "application/vnd.jupyter.widget-view+json": {
       "model_id": "784f9a99344c429fbe13106d4b26f838",
       "version_major": 2,
       "version_minor": 0
      },
      "text/plain": [
       "Batches:   0%|          | 0/5 [00:00<?, ?it/s]"
      ]
     },
     "metadata": {},
     "output_type": "display_data"
    },
    {
     "name": "stdout",
     "output_type": "stream",
     "text": [
      "Train | Loss: 0.9357, Recall: 0.0505, Precision: 0.0465, F1: 0.0484\n",
      "Val   | Loss: 0.9187, Recall: 0.0584, Precision: 0.0638, F1: 0.0610\n",
      "-----------------------------\n",
      "Epoch 23\n"
     ]
    },
    {
     "data": {
      "application/vnd.jupyter.widget-view+json": {
       "model_id": "c1254ba7d2064deaa3ee0573cbcc23f6",
       "version_major": 2,
       "version_minor": 0
      },
      "text/plain": [
       "Batches:   0%|          | 0/5 [00:00<?, ?it/s]"
      ]
     },
     "metadata": {},
     "output_type": "display_data"
    },
    {
     "name": "stdout",
     "output_type": "stream",
     "text": [
      "Train | Loss: 0.9341, Recall: 0.0520, Precision: 0.0479, F1: 0.0498\n",
      "Val   | Loss: 0.9235, Recall: 0.0461, Precision: 0.0599, F1: 0.0521\n",
      "-----------------------------\n",
      "Epoch 24\n"
     ]
    },
    {
     "data": {
      "application/vnd.jupyter.widget-view+json": {
       "model_id": "1e683c8f77f34c5ea24d5af2b2e25f45",
       "version_major": 2,
       "version_minor": 0
      },
      "text/plain": [
       "Batches:   0%|          | 0/5 [00:00<?, ?it/s]"
      ]
     },
     "metadata": {},
     "output_type": "display_data"
    },
    {
     "name": "stdout",
     "output_type": "stream",
     "text": [
      "Train | Loss: 0.9347, Recall: 0.0509, Precision: 0.0492, F1: 0.0500\n",
      "Val   | Loss: 0.9290, Recall: 0.0175, Precision: 0.0452, F1: 0.0253\n",
      "-----------------------------\n",
      "Epoch 25\n"
     ]
    },
    {
     "data": {
      "application/vnd.jupyter.widget-view+json": {
       "model_id": "98d79a1c6ee24620b9a504cfa89993a7",
       "version_major": 2,
       "version_minor": 0
      },
      "text/plain": [
       "Batches:   0%|          | 0/5 [00:00<?, ?it/s]"
      ]
     },
     "metadata": {},
     "output_type": "display_data"
    },
    {
     "name": "stdout",
     "output_type": "stream",
     "text": [
      "Train | Loss: 0.9331, Recall: 0.0497, Precision: 0.0503, F1: 0.0500\n",
      "Val   | Loss: 0.9284, Recall: 0.0051, Precision: 0.0394, F1: 0.0090\n",
      "-----------------------------\n",
      "Epoch 26\n"
     ]
    },
    {
     "data": {
      "application/vnd.jupyter.widget-view+json": {
       "model_id": "7e98e8faf25c41e8ae50d68d91acbfa2",
       "version_major": 2,
       "version_minor": 0
      },
      "text/plain": [
       "Batches:   0%|          | 0/5 [00:00<?, ?it/s]"
      ]
     },
     "metadata": {},
     "output_type": "display_data"
    },
    {
     "name": "stdout",
     "output_type": "stream",
     "text": [
      "Train | Loss: 0.9338, Recall: 0.0481, Precision: 0.0490, F1: 0.0485\n",
      "Val   | Loss: 0.9285, Recall: 0.0018, Precision: 0.0276, F1: 0.0033\n",
      "-----------------------------\n",
      "Epoch 27\n"
     ]
    },
    {
     "data": {
      "application/vnd.jupyter.widget-view+json": {
       "model_id": "c7058f5bfacb4c4f9629ebe2b6ea73c7",
       "version_major": 2,
       "version_minor": 0
      },
      "text/plain": [
       "Batches:   0%|          | 0/5 [00:00<?, ?it/s]"
      ]
     },
     "metadata": {},
     "output_type": "display_data"
    },
    {
     "name": "stdout",
     "output_type": "stream",
     "text": [
      "Train | Loss: 0.9326, Recall: 0.0544, Precision: 0.0499, F1: 0.0521\n",
      "Val   | Loss: 0.9294, Recall: 0.0039, Precision: 0.0293, F1: 0.0069\n",
      "-----------------------------\n",
      "Epoch 28\n"
     ]
    },
    {
     "data": {
      "application/vnd.jupyter.widget-view+json": {
       "model_id": "cbdb95deae824276864b878a202321b1",
       "version_major": 2,
       "version_minor": 0
      },
      "text/plain": [
       "Batches:   0%|          | 0/5 [00:00<?, ?it/s]"
      ]
     },
     "metadata": {},
     "output_type": "display_data"
    },
    {
     "name": "stdout",
     "output_type": "stream",
     "text": [
      "Train | Loss: 0.9316, Recall: 0.0536, Precision: 0.0503, F1: 0.0519\n",
      "Val   | Loss: 0.9297, Recall: 0.0062, Precision: 0.0370, F1: 0.0107\n",
      "-----------------------------\n",
      "Epoch 29\n"
     ]
    },
    {
     "data": {
      "application/vnd.jupyter.widget-view+json": {
       "model_id": "4295de4f2de44f458f96948ce4f5cb78",
       "version_major": 2,
       "version_minor": 0
      },
      "text/plain": [
       "Batches:   0%|          | 0/5 [00:00<?, ?it/s]"
      ]
     },
     "metadata": {},
     "output_type": "display_data"
    },
    {
     "name": "stdout",
     "output_type": "stream",
     "text": [
      "Train | Loss: 0.9300, Recall: 0.0521, Precision: 0.0540, F1: 0.0530\n",
      "Val   | Loss: 0.9299, Recall: 0.0075, Precision: 0.0397, F1: 0.0126\n",
      "-----------------------------\n",
      "Epoch 30\n"
     ]
    },
    {
     "data": {
      "application/vnd.jupyter.widget-view+json": {
       "model_id": "195d68bbd0df442c91bddefb97f8314a",
       "version_major": 2,
       "version_minor": 0
      },
      "text/plain": [
       "Batches:   0%|          | 0/5 [00:00<?, ?it/s]"
      ]
     },
     "metadata": {},
     "output_type": "display_data"
    },
    {
     "name": "stdout",
     "output_type": "stream",
     "text": [
      "Train | Loss: 0.9327, Recall: 0.0418, Precision: 0.0528, F1: 0.0467\n",
      "Val   | Loss: 0.9295, Recall: 0.0015, Precision: 0.0171, F1: 0.0028\n",
      "-----------------------------\n",
      "Epoch 31\n"
     ]
    },
    {
     "data": {
      "application/vnd.jupyter.widget-view+json": {
       "model_id": "2a7ae8e6f3c14083bfdf440908c3598e",
       "version_major": 2,
       "version_minor": 0
      },
      "text/plain": [
       "Batches:   0%|          | 0/5 [00:00<?, ?it/s]"
      ]
     },
     "metadata": {},
     "output_type": "display_data"
    },
    {
     "name": "stdout",
     "output_type": "stream",
     "text": [
      "Train | Loss: 0.9308, Recall: 0.0476, Precision: 0.0554, F1: 0.0512\n",
      "Val   | Loss: 0.9300, Recall: 0.0044, Precision: 0.0271, F1: 0.0076\n",
      "-----------------------------\n",
      "Epoch 32\n"
     ]
    },
    {
     "data": {
      "application/vnd.jupyter.widget-view+json": {
       "model_id": "6ef726ddf66045ebada8b8c1b3221d40",
       "version_major": 2,
       "version_minor": 0
      },
      "text/plain": [
       "Batches:   0%|          | 0/5 [00:00<?, ?it/s]"
      ]
     },
     "metadata": {},
     "output_type": "display_data"
    },
    {
     "name": "stdout",
     "output_type": "stream",
     "text": [
      "Train | Loss: 0.9307, Recall: 0.0538, Precision: 0.0533, F1: 0.0536\n",
      "Val   | Loss: 0.9297, Recall: 0.0097, Precision: 0.0423, F1: 0.0157\n",
      "-----------------------------\n",
      "Epoch 33\n"
     ]
    },
    {
     "data": {
      "application/vnd.jupyter.widget-view+json": {
       "model_id": "4517cb2a2a284cf7938878254883a47e",
       "version_major": 2,
       "version_minor": 0
      },
      "text/plain": [
       "Batches:   0%|          | 0/5 [00:00<?, ?it/s]"
      ]
     },
     "metadata": {},
     "output_type": "display_data"
    },
    {
     "name": "stdout",
     "output_type": "stream",
     "text": [
      "Train | Loss: 0.9296, Recall: 0.0549, Precision: 0.0540, F1: 0.0544\n",
      "Val   | Loss: 0.9292, Recall: 0.0044, Precision: 0.0315, F1: 0.0077\n",
      "-----------------------------\n",
      "Epoch 34\n"
     ]
    },
    {
     "data": {
      "application/vnd.jupyter.widget-view+json": {
       "model_id": "473da9f6834c4fc58f8d53d688ca7df0",
       "version_major": 2,
       "version_minor": 0
      },
      "text/plain": [
       "Batches:   0%|          | 0/5 [00:00<?, ?it/s]"
      ]
     },
     "metadata": {},
     "output_type": "display_data"
    },
    {
     "name": "stdout",
     "output_type": "stream",
     "text": [
      "Train | Loss: 0.9297, Recall: 0.0540, Precision: 0.0577, F1: 0.0558\n",
      "Val   | Loss: 0.9296, Recall: 0.0125, Precision: 0.0496, F1: 0.0200\n",
      "-----------------------------\n",
      "Epoch 35\n"
     ]
    },
    {
     "data": {
      "application/vnd.jupyter.widget-view+json": {
       "model_id": "b4efc9fc78e742e6906e13231325525c",
       "version_major": 2,
       "version_minor": 0
      },
      "text/plain": [
       "Batches:   0%|          | 0/5 [00:00<?, ?it/s]"
      ]
     },
     "metadata": {},
     "output_type": "display_data"
    },
    {
     "name": "stdout",
     "output_type": "stream",
     "text": [
      "Train | Loss: 0.9296, Recall: 0.0504, Precision: 0.0553, F1: 0.0527\n",
      "Val   | Loss: 0.9291, Recall: 0.0196, Precision: 0.0565, F1: 0.0291\n",
      "-----------------------------\n",
      "Epoch 36\n"
     ]
    },
    {
     "data": {
      "application/vnd.jupyter.widget-view+json": {
       "model_id": "ae30a271d76747e69d60cfb4c6a32356",
       "version_major": 2,
       "version_minor": 0
      },
      "text/plain": [
       "Batches:   0%|          | 0/5 [00:00<?, ?it/s]"
      ]
     },
     "metadata": {},
     "output_type": "display_data"
    },
    {
     "name": "stdout",
     "output_type": "stream",
     "text": [
      "Train | Loss: 0.9299, Recall: 0.0491, Precision: 0.0560, F1: 0.0524\n",
      "Val   | Loss: 0.9273, Recall: 0.0336, Precision: 0.0666, F1: 0.0447\n",
      "-----------------------------\n",
      "Epoch 37\n"
     ]
    },
    {
     "data": {
      "application/vnd.jupyter.widget-view+json": {
       "model_id": "b256a57a06f1407eb5fcb548b1236bda",
       "version_major": 2,
       "version_minor": 0
      },
      "text/plain": [
       "Batches:   0%|          | 0/5 [00:00<?, ?it/s]"
      ]
     },
     "metadata": {},
     "output_type": "display_data"
    },
    {
     "name": "stdout",
     "output_type": "stream",
     "text": [
      "Train | Loss: 0.9295, Recall: 0.0513, Precision: 0.0583, F1: 0.0546\n",
      "Val   | Loss: 0.9263, Recall: 0.0392, Precision: 0.0680, F1: 0.0498\n",
      "-----------------------------\n",
      "Epoch 38\n"
     ]
    },
    {
     "data": {
      "application/vnd.jupyter.widget-view+json": {
       "model_id": "ffe0940bb92e4d62823cae2e9081615f",
       "version_major": 2,
       "version_minor": 0
      },
      "text/plain": [
       "Batches:   0%|          | 0/5 [00:00<?, ?it/s]"
      ]
     },
     "metadata": {},
     "output_type": "display_data"
    },
    {
     "name": "stdout",
     "output_type": "stream",
     "text": [
      "Train | Loss: 0.9287, Recall: 0.0509, Precision: 0.0583, F1: 0.0544\n",
      "Val   | Loss: 0.9269, Recall: 0.0364, Precision: 0.0674, F1: 0.0473\n",
      "-----------------------------\n",
      "Epoch 39\n"
     ]
    },
    {
     "data": {
      "application/vnd.jupyter.widget-view+json": {
       "model_id": "8acd4d06548b437bad7123f19adf6d58",
       "version_major": 2,
       "version_minor": 0
      },
      "text/plain": [
       "Batches:   0%|          | 0/5 [00:00<?, ?it/s]"
      ]
     },
     "metadata": {},
     "output_type": "display_data"
    },
    {
     "name": "stdout",
     "output_type": "stream",
     "text": [
      "Train | Loss: 0.9291, Recall: 0.0506, Precision: 0.0568, F1: 0.0535\n",
      "Val   | Loss: 0.9270, Recall: 0.0352, Precision: 0.0676, F1: 0.0463\n",
      "-----------------------------\n",
      "Epoch 40\n"
     ]
    },
    {
     "data": {
      "application/vnd.jupyter.widget-view+json": {
       "model_id": "a3d27c369bdf4203b28e2197c66d1de0",
       "version_major": 2,
       "version_minor": 0
      },
      "text/plain": [
       "Batches:   0%|          | 0/5 [00:00<?, ?it/s]"
      ]
     },
     "metadata": {},
     "output_type": "display_data"
    },
    {
     "name": "stdout",
     "output_type": "stream",
     "text": [
      "Train | Loss: 0.9295, Recall: 0.0505, Precision: 0.0569, F1: 0.0535\n",
      "Val   | Loss: 0.9267, Recall: 0.0362, Precision: 0.0681, F1: 0.0473\n",
      "-----------------------------\n",
      "Epoch 41\n"
     ]
    },
    {
     "data": {
      "application/vnd.jupyter.widget-view+json": {
       "model_id": "b9b793adf4d94d66b919b9fc1e407bde",
       "version_major": 2,
       "version_minor": 0
      },
      "text/plain": [
       "Batches:   0%|          | 0/5 [00:00<?, ?it/s]"
      ]
     },
     "metadata": {},
     "output_type": "display_data"
    },
    {
     "name": "stdout",
     "output_type": "stream",
     "text": [
      "Train | Loss: 0.9288, Recall: 0.0519, Precision: 0.0594, F1: 0.0554\n",
      "Val   | Loss: 0.9260, Recall: 0.0399, Precision: 0.0689, F1: 0.0505\n",
      "-----------------------------\n",
      "Epoch 42\n"
     ]
    },
    {
     "data": {
      "application/vnd.jupyter.widget-view+json": {
       "model_id": "2029bcc3fe504aab95cedd1dc9dc7684",
       "version_major": 2,
       "version_minor": 0
      },
      "text/plain": [
       "Batches:   0%|          | 0/5 [00:00<?, ?it/s]"
      ]
     },
     "metadata": {},
     "output_type": "display_data"
    },
    {
     "name": "stdout",
     "output_type": "stream",
     "text": [
      "Train | Loss: 0.9286, Recall: 0.0507, Precision: 0.0579, F1: 0.0541\n",
      "Val   | Loss: 0.9255, Recall: 0.0418, Precision: 0.0690, F1: 0.0521\n",
      "-----------------------------\n",
      "Epoch 43\n"
     ]
    },
    {
     "data": {
      "application/vnd.jupyter.widget-view+json": {
       "model_id": "6704ecb5fe3347319236a37797e3166d",
       "version_major": 2,
       "version_minor": 0
      },
      "text/plain": [
       "Batches:   0%|          | 0/5 [00:00<?, ?it/s]"
      ]
     },
     "metadata": {},
     "output_type": "display_data"
    },
    {
     "name": "stdout",
     "output_type": "stream",
     "text": [
      "Train | Loss: 0.9289, Recall: 0.0509, Precision: 0.0578, F1: 0.0541\n",
      "Val   | Loss: 0.9251, Recall: 0.0438, Precision: 0.0691, F1: 0.0536\n",
      "-----------------------------\n",
      "Epoch 44\n"
     ]
    },
    {
     "data": {
      "application/vnd.jupyter.widget-view+json": {
       "model_id": "4cb3d17e243f43e1869620ec85a8219e",
       "version_major": 2,
       "version_minor": 0
      },
      "text/plain": [
       "Batches:   0%|          | 0/5 [00:00<?, ?it/s]"
      ]
     },
     "metadata": {},
     "output_type": "display_data"
    },
    {
     "name": "stdout",
     "output_type": "stream",
     "text": [
      "Train | Loss: 0.9286, Recall: 0.0522, Precision: 0.0579, F1: 0.0549\n",
      "Val   | Loss: 0.9247, Recall: 0.0455, Precision: 0.0694, F1: 0.0550\n",
      "-----------------------------\n",
      "Epoch 45\n"
     ]
    },
    {
     "data": {
      "application/vnd.jupyter.widget-view+json": {
       "model_id": "90afd552a4cf4dcfa6c756e1d5f15bc8",
       "version_major": 2,
       "version_minor": 0
      },
      "text/plain": [
       "Batches:   0%|          | 0/5 [00:00<?, ?it/s]"
      ]
     },
     "metadata": {},
     "output_type": "display_data"
    },
    {
     "name": "stdout",
     "output_type": "stream",
     "text": [
      "Train | Loss: 0.9283, Recall: 0.0522, Precision: 0.0585, F1: 0.0552\n",
      "Val   | Loss: 0.9252, Recall: 0.0409, Precision: 0.0703, F1: 0.0517\n",
      "-----------------------------\n",
      "Epoch 46\n"
     ]
    },
    {
     "data": {
      "application/vnd.jupyter.widget-view+json": {
       "model_id": "2adf23a1680f4658b16ef0587a3d2fbe",
       "version_major": 2,
       "version_minor": 0
      },
      "text/plain": [
       "Batches:   0%|          | 0/5 [00:00<?, ?it/s]"
      ]
     },
     "metadata": {},
     "output_type": "display_data"
    },
    {
     "name": "stdout",
     "output_type": "stream",
     "text": [
      "Train | Loss: 0.9276, Recall: 0.0523, Precision: 0.0596, F1: 0.0557\n",
      "Val   | Loss: 0.9247, Recall: 0.0442, Precision: 0.0702, F1: 0.0542\n",
      "-----------------------------\n",
      "Epoch 47\n"
     ]
    },
    {
     "data": {
      "application/vnd.jupyter.widget-view+json": {
       "model_id": "e1eea973bb2e4550a397cd74e0fb12a5",
       "version_major": 2,
       "version_minor": 0
      },
      "text/plain": [
       "Batches:   0%|          | 0/5 [00:00<?, ?it/s]"
      ]
     },
     "metadata": {},
     "output_type": "display_data"
    },
    {
     "name": "stdout",
     "output_type": "stream",
     "text": [
      "Train | Loss: 0.9279, Recall: 0.0523, Precision: 0.0586, F1: 0.0552\n",
      "Val   | Loss: 0.9242, Recall: 0.0463, Precision: 0.0698, F1: 0.0556\n",
      "-----------------------------\n",
      "Epoch 48\n"
     ]
    },
    {
     "data": {
      "application/vnd.jupyter.widget-view+json": {
       "model_id": "544c6d9eb0164732b7dfa8043059258d",
       "version_major": 2,
       "version_minor": 0
      },
      "text/plain": [
       "Batches:   0%|          | 0/5 [00:00<?, ?it/s]"
      ]
     },
     "metadata": {},
     "output_type": "display_data"
    },
    {
     "name": "stdout",
     "output_type": "stream",
     "text": [
      "Train | Loss: 0.9285, Recall: 0.0510, Precision: 0.0581, F1: 0.0543\n",
      "Val   | Loss: 0.9242, Recall: 0.0469, Precision: 0.0697, F1: 0.0561\n",
      "-----------------------------\n",
      "Epoch 49\n"
     ]
    },
    {
     "data": {
      "application/vnd.jupyter.widget-view+json": {
       "model_id": "629a566aa5a849edae74db9d8ce69844",
       "version_major": 2,
       "version_minor": 0
      },
      "text/plain": [
       "Batches:   0%|          | 0/5 [00:00<?, ?it/s]"
      ]
     },
     "metadata": {},
     "output_type": "display_data"
    },
    {
     "name": "stdout",
     "output_type": "stream",
     "text": [
      "Train | Loss: 0.9283, Recall: 0.0513, Precision: 0.0589, F1: 0.0548\n",
      "Val   | Loss: 0.9242, Recall: 0.0466, Precision: 0.0697, F1: 0.0558\n",
      "-----------------------------\n",
      "Epoch 50\n"
     ]
    },
    {
     "data": {
      "application/vnd.jupyter.widget-view+json": {
       "model_id": "db06d9807f1949b0b54afd760b582d0a",
       "version_major": 2,
       "version_minor": 0
      },
      "text/plain": [
       "Batches:   0%|          | 0/5 [00:00<?, ?it/s]"
      ]
     },
     "metadata": {},
     "output_type": "display_data"
    },
    {
     "name": "stdout",
     "output_type": "stream",
     "text": [
      "Train | Loss: 0.9268, Recall: 0.0540, Precision: 0.0618, F1: 0.0576\n",
      "Val   | Loss: 0.9241, Recall: 0.0466, Precision: 0.0699, F1: 0.0559\n",
      "-----------------------------\n",
      "Epoch 51\n"
     ]
    },
    {
     "data": {
      "application/vnd.jupyter.widget-view+json": {
       "model_id": "2693632fb24b4cd18ae81c8d4c3ec0fe",
       "version_major": 2,
       "version_minor": 0
      },
      "text/plain": [
       "Batches:   0%|          | 0/5 [00:00<?, ?it/s]"
      ]
     },
     "metadata": {},
     "output_type": "display_data"
    },
    {
     "name": "stdout",
     "output_type": "stream",
     "text": [
      "Train | Loss: 0.9275, Recall: 0.0521, Precision: 0.0592, F1: 0.0554\n",
      "Val   | Loss: 0.9241, Recall: 0.0466, Precision: 0.0700, F1: 0.0559\n",
      "-----------------------------\n",
      "Epoch 52\n"
     ]
    },
    {
     "data": {
      "application/vnd.jupyter.widget-view+json": {
       "model_id": "fed0e1d0ecbc42da922b25cda4fd979c",
       "version_major": 2,
       "version_minor": 0
      },
      "text/plain": [
       "Batches:   0%|          | 0/5 [00:00<?, ?it/s]"
      ]
     },
     "metadata": {},
     "output_type": "display_data"
    },
    {
     "name": "stdout",
     "output_type": "stream",
     "text": [
      "Train | Loss: 0.9289, Recall: 0.0505, Precision: 0.0580, F1: 0.0540\n",
      "Val   | Loss: 0.9237, Recall: 0.0494, Precision: 0.0697, F1: 0.0578\n",
      "-----------------------------\n",
      "Epoch 53\n"
     ]
    },
    {
     "data": {
      "application/vnd.jupyter.widget-view+json": {
       "model_id": "7d1474d72cdd467787b6c625141ab5e1",
       "version_major": 2,
       "version_minor": 0
      },
      "text/plain": [
       "Batches:   0%|          | 0/5 [00:00<?, ?it/s]"
      ]
     },
     "metadata": {},
     "output_type": "display_data"
    },
    {
     "name": "stdout",
     "output_type": "stream",
     "text": [
      "Train | Loss: 0.9285, Recall: 0.0520, Precision: 0.0590, F1: 0.0553\n",
      "Val   | Loss: 0.9235, Recall: 0.0502, Precision: 0.0701, F1: 0.0585\n",
      "-----------------------------\n",
      "Epoch 54\n"
     ]
    },
    {
     "data": {
      "application/vnd.jupyter.widget-view+json": {
       "model_id": "eec1761ccefc4c1dafc4a825e53701ec",
       "version_major": 2,
       "version_minor": 0
      },
      "text/plain": [
       "Batches:   0%|          | 0/5 [00:00<?, ?it/s]"
      ]
     },
     "metadata": {},
     "output_type": "display_data"
    },
    {
     "name": "stdout",
     "output_type": "stream",
     "text": [
      "Train | Loss: 0.9288, Recall: 0.0511, Precision: 0.0584, F1: 0.0545\n",
      "Val   | Loss: 0.9233, Recall: 0.0509, Precision: 0.0698, F1: 0.0588\n",
      "-----------------------------\n",
      "Epoch 55\n"
     ]
    },
    {
     "data": {
      "application/vnd.jupyter.widget-view+json": {
       "model_id": "b2dd65ce03874fef8759a11df62c44fa",
       "version_major": 2,
       "version_minor": 0
      },
      "text/plain": [
       "Batches:   0%|          | 0/5 [00:00<?, ?it/s]"
      ]
     },
     "metadata": {},
     "output_type": "display_data"
    },
    {
     "name": "stdout",
     "output_type": "stream",
     "text": [
      "Train | Loss: 0.9280, Recall: 0.0532, Precision: 0.0604, F1: 0.0566\n",
      "Val   | Loss: 0.9236, Recall: 0.0490, Precision: 0.0700, F1: 0.0576\n",
      "-----------------------------\n",
      "Epoch 56\n"
     ]
    },
    {
     "data": {
      "application/vnd.jupyter.widget-view+json": {
       "model_id": "83e9f385ab8f4fa984496b0dad3c85f7",
       "version_major": 2,
       "version_minor": 0
      },
      "text/plain": [
       "Batches:   0%|          | 0/5 [00:00<?, ?it/s]"
      ]
     },
     "metadata": {},
     "output_type": "display_data"
    },
    {
     "name": "stdout",
     "output_type": "stream",
     "text": [
      "Train | Loss: 0.9273, Recall: 0.0524, Precision: 0.0601, F1: 0.0560\n",
      "Val   | Loss: 0.9236, Recall: 0.0489, Precision: 0.0701, F1: 0.0576\n",
      "-----------------------------\n",
      "Epoch 57\n"
     ]
    },
    {
     "data": {
      "application/vnd.jupyter.widget-view+json": {
       "model_id": "3ce48c544ea7402d970fa5655708a75b",
       "version_major": 2,
       "version_minor": 0
      },
      "text/plain": [
       "Batches:   0%|          | 0/5 [00:00<?, ?it/s]"
      ]
     },
     "metadata": {},
     "output_type": "display_data"
    },
    {
     "name": "stdout",
     "output_type": "stream",
     "text": [
      "Train | Loss: 0.9281, Recall: 0.0519, Precision: 0.0598, F1: 0.0555\n",
      "Val   | Loss: 0.9236, Recall: 0.0498, Precision: 0.0702, F1: 0.0583\n",
      "-----------------------------\n",
      "Epoch 58\n"
     ]
    },
    {
     "data": {
      "application/vnd.jupyter.widget-view+json": {
       "model_id": "696dbcdc98064c71946a83d8dded715b",
       "version_major": 2,
       "version_minor": 0
      },
      "text/plain": [
       "Batches:   0%|          | 0/5 [00:00<?, ?it/s]"
      ]
     },
     "metadata": {},
     "output_type": "display_data"
    },
    {
     "name": "stdout",
     "output_type": "stream",
     "text": [
      "Train | Loss: 0.9280, Recall: 0.0525, Precision: 0.0594, F1: 0.0558\n",
      "Val   | Loss: 0.9233, Recall: 0.0515, Precision: 0.0700, F1: 0.0594\n",
      "-----------------------------\n",
      "Epoch 59\n"
     ]
    },
    {
     "data": {
      "application/vnd.jupyter.widget-view+json": {
       "model_id": "600d69eccc744676a7b709683077f220",
       "version_major": 2,
       "version_minor": 0
      },
      "text/plain": [
       "Batches:   0%|          | 0/5 [00:00<?, ?it/s]"
      ]
     },
     "metadata": {},
     "output_type": "display_data"
    },
    {
     "name": "stdout",
     "output_type": "stream",
     "text": [
      "Train | Loss: 0.9284, Recall: 0.0507, Precision: 0.0586, F1: 0.0544\n",
      "Val   | Loss: 0.9232, Recall: 0.0520, Precision: 0.0699, F1: 0.0596\n",
      "-----------------------------\n",
      "Epoch 60\n"
     ]
    },
    {
     "data": {
      "application/vnd.jupyter.widget-view+json": {
       "model_id": "4d11263690f54f2da13b003cf65b5ac6",
       "version_major": 2,
       "version_minor": 0
      },
      "text/plain": [
       "Batches:   0%|          | 0/5 [00:00<?, ?it/s]"
      ]
     },
     "metadata": {},
     "output_type": "display_data"
    },
    {
     "name": "stdout",
     "output_type": "stream",
     "text": [
      "Train | Loss: 0.9276, Recall: 0.0528, Precision: 0.0603, F1: 0.0563\n",
      "Val   | Loss: 0.9233, Recall: 0.0518, Precision: 0.0699, F1: 0.0595\n",
      "-----------------------------\n",
      "Epoch 61\n"
     ]
    },
    {
     "data": {
      "application/vnd.jupyter.widget-view+json": {
       "model_id": "0434a4b08750411bbd13bfb933cd0e07",
       "version_major": 2,
       "version_minor": 0
      },
      "text/plain": [
       "Batches:   0%|          | 0/5 [00:00<?, ?it/s]"
      ]
     },
     "metadata": {},
     "output_type": "display_data"
    },
    {
     "name": "stdout",
     "output_type": "stream",
     "text": [
      "Train | Loss: 0.9272, Recall: 0.0523, Precision: 0.0601, F1: 0.0559\n",
      "Val   | Loss: 0.9234, Recall: 0.0511, Precision: 0.0701, F1: 0.0591\n",
      "-----------------------------\n",
      "Epoch 62\n"
     ]
    },
    {
     "data": {
      "application/vnd.jupyter.widget-view+json": {
       "model_id": "72046d93da744112ac4dd33a0332ce32",
       "version_major": 2,
       "version_minor": 0
      },
      "text/plain": [
       "Batches:   0%|          | 0/5 [00:00<?, ?it/s]"
      ]
     },
     "metadata": {},
     "output_type": "display_data"
    },
    {
     "name": "stdout",
     "output_type": "stream",
     "text": [
      "Train | Loss: 0.9276, Recall: 0.0522, Precision: 0.0605, F1: 0.0560\n",
      "Val   | Loss: 0.9234, Recall: 0.0511, Precision: 0.0701, F1: 0.0591\n",
      "-----------------------------\n",
      "Epoch 63\n"
     ]
    },
    {
     "data": {
      "application/vnd.jupyter.widget-view+json": {
       "model_id": "eaa9ac2d54d548ac8fe24f68ca018903",
       "version_major": 2,
       "version_minor": 0
      },
      "text/plain": [
       "Batches:   0%|          | 0/5 [00:00<?, ?it/s]"
      ]
     },
     "metadata": {},
     "output_type": "display_data"
    },
    {
     "name": "stdout",
     "output_type": "stream",
     "text": [
      "Train | Loss: 0.9278, Recall: 0.0521, Precision: 0.0611, F1: 0.0562\n",
      "Val   | Loss: 0.9233, Recall: 0.0515, Precision: 0.0700, F1: 0.0593\n",
      "-----------------------------\n",
      "Epoch 64\n"
     ]
    },
    {
     "data": {
      "application/vnd.jupyter.widget-view+json": {
       "model_id": "6ab3e5eaaa19400097d3fda875491ddf",
       "version_major": 2,
       "version_minor": 0
      },
      "text/plain": [
       "Batches:   0%|          | 0/5 [00:00<?, ?it/s]"
      ]
     },
     "metadata": {},
     "output_type": "display_data"
    },
    {
     "name": "stdout",
     "output_type": "stream",
     "text": [
      "Train | Loss: 0.9276, Recall: 0.0517, Precision: 0.0603, F1: 0.0557\n",
      "Val   | Loss: 0.9232, Recall: 0.0518, Precision: 0.0700, F1: 0.0595\n",
      "-----------------------------\n",
      "Epoch 65\n"
     ]
    },
    {
     "data": {
      "application/vnd.jupyter.widget-view+json": {
       "model_id": "2418b72e4a9442a1aa45cd43bf94da3e",
       "version_major": 2,
       "version_minor": 0
      },
      "text/plain": [
       "Batches:   0%|          | 0/5 [00:00<?, ?it/s]"
      ]
     },
     "metadata": {},
     "output_type": "display_data"
    },
    {
     "name": "stdout",
     "output_type": "stream",
     "text": [
      "Train | Loss: 0.9276, Recall: 0.0514, Precision: 0.0600, F1: 0.0554\n",
      "Val   | Loss: 0.9232, Recall: 0.0520, Precision: 0.0700, F1: 0.0597\n",
      "-----------------------------\n",
      "Epoch 66\n"
     ]
    },
    {
     "data": {
      "application/vnd.jupyter.widget-view+json": {
       "model_id": "c0b9e766baaf4a9583f962a3397a572b",
       "version_major": 2,
       "version_minor": 0
      },
      "text/plain": [
       "Batches:   0%|          | 0/5 [00:00<?, ?it/s]"
      ]
     },
     "metadata": {},
     "output_type": "display_data"
    },
    {
     "name": "stdout",
     "output_type": "stream",
     "text": [
      "Train | Loss: 0.9277, Recall: 0.0517, Precision: 0.0604, F1: 0.0557\n",
      "Val   | Loss: 0.9231, Recall: 0.0522, Precision: 0.0701, F1: 0.0599\n",
      "-----------------------------\n",
      "Epoch 67\n"
     ]
    },
    {
     "data": {
      "application/vnd.jupyter.widget-view+json": {
       "model_id": "bf92fcb8a97e4ebcaad1338f50b36143",
       "version_major": 2,
       "version_minor": 0
      },
      "text/plain": [
       "Batches:   0%|          | 0/5 [00:00<?, ?it/s]"
      ]
     },
     "metadata": {},
     "output_type": "display_data"
    },
    {
     "name": "stdout",
     "output_type": "stream",
     "text": [
      "Train | Loss: 0.9278, Recall: 0.0519, Precision: 0.0601, F1: 0.0557\n",
      "Val   | Loss: 0.9230, Recall: 0.0526, Precision: 0.0702, F1: 0.0601\n",
      "-----------------------------\n",
      "Epoch 68\n"
     ]
    },
    {
     "data": {
      "application/vnd.jupyter.widget-view+json": {
       "model_id": "2e04503e80aa4bbabeaf17924809e9bf",
       "version_major": 2,
       "version_minor": 0
      },
      "text/plain": [
       "Batches:   0%|          | 0/5 [00:00<?, ?it/s]"
      ]
     },
     "metadata": {},
     "output_type": "display_data"
    },
    {
     "name": "stdout",
     "output_type": "stream",
     "text": [
      "Train | Loss: 0.9284, Recall: 0.0517, Precision: 0.0595, F1: 0.0553\n",
      "Val   | Loss: 0.9228, Recall: 0.0537, Precision: 0.0700, F1: 0.0608\n",
      "-----------------------------\n",
      "Epoch 69\n"
     ]
    },
    {
     "data": {
      "application/vnd.jupyter.widget-view+json": {
       "model_id": "d79a3fbba3a54bcfabdeccb70bc04f5d",
       "version_major": 2,
       "version_minor": 0
      },
      "text/plain": [
       "Batches:   0%|          | 0/5 [00:00<?, ?it/s]"
      ]
     },
     "metadata": {},
     "output_type": "display_data"
    },
    {
     "name": "stdout",
     "output_type": "stream",
     "text": [
      "Train | Loss: 0.9279, Recall: 0.0508, Precision: 0.0581, F1: 0.0542\n",
      "Val   | Loss: 0.9228, Recall: 0.0541, Precision: 0.0700, F1: 0.0610\n",
      "-----------------------------\n",
      "Epoch 70\n"
     ]
    },
    {
     "data": {
      "application/vnd.jupyter.widget-view+json": {
       "model_id": "3349f39c6c37448984333066584eeee8",
       "version_major": 2,
       "version_minor": 0
      },
      "text/plain": [
       "Batches:   0%|          | 0/5 [00:00<?, ?it/s]"
      ]
     },
     "metadata": {},
     "output_type": "display_data"
    },
    {
     "name": "stdout",
     "output_type": "stream",
     "text": [
      "Train | Loss: 0.9278, Recall: 0.0522, Precision: 0.0596, F1: 0.0556\n",
      "Val   | Loss: 0.9228, Recall: 0.0538, Precision: 0.0699, F1: 0.0608\n",
      "-----------------------------\n",
      "Epoch 71\n"
     ]
    },
    {
     "data": {
      "application/vnd.jupyter.widget-view+json": {
       "model_id": "80c82d0f3f8047d0af1e5ff5461e9be4",
       "version_major": 2,
       "version_minor": 0
      },
      "text/plain": [
       "Batches:   0%|          | 0/5 [00:00<?, ?it/s]"
      ]
     },
     "metadata": {},
     "output_type": "display_data"
    },
    {
     "name": "stdout",
     "output_type": "stream",
     "text": [
      "Train | Loss: 0.9265, Recall: 0.0514, Precision: 0.0578, F1: 0.0544\n",
      "Val   | Loss: 0.9228, Recall: 0.0541, Precision: 0.0700, F1: 0.0610\n",
      "-----------------------------\n",
      "Epoch 72\n"
     ]
    },
    {
     "data": {
      "application/vnd.jupyter.widget-view+json": {
       "model_id": "6f8c7ee686b440c2a04b3a911be8102d",
       "version_major": 2,
       "version_minor": 0
      },
      "text/plain": [
       "Batches:   0%|          | 0/5 [00:00<?, ?it/s]"
      ]
     },
     "metadata": {},
     "output_type": "display_data"
    },
    {
     "name": "stdout",
     "output_type": "stream",
     "text": [
      "Train | Loss: 0.9279, Recall: 0.0510, Precision: 0.0589, F1: 0.0546\n",
      "Val   | Loss: 0.9229, Recall: 0.0536, Precision: 0.0700, F1: 0.0607\n",
      "-----------------------------\n",
      "Epoch 73\n"
     ]
    },
    {
     "data": {
      "application/vnd.jupyter.widget-view+json": {
       "model_id": "3e280ee074074af68220369989bfb47f",
       "version_major": 2,
       "version_minor": 0
      },
      "text/plain": [
       "Batches:   0%|          | 0/5 [00:00<?, ?it/s]"
      ]
     },
     "metadata": {},
     "output_type": "display_data"
    },
    {
     "name": "stdout",
     "output_type": "stream",
     "text": [
      "Train | Loss: 0.9275, Recall: 0.0528, Precision: 0.0603, F1: 0.0563\n",
      "Val   | Loss: 0.9229, Recall: 0.0533, Precision: 0.0701, F1: 0.0605\n",
      "-----------------------------\n",
      "Epoch 74\n"
     ]
    },
    {
     "data": {
      "application/vnd.jupyter.widget-view+json": {
       "model_id": "aa190b4904f94c50aedd78d81ca8a7b2",
       "version_major": 2,
       "version_minor": 0
      },
      "text/plain": [
       "Batches:   0%|          | 0/5 [00:00<?, ?it/s]"
      ]
     },
     "metadata": {},
     "output_type": "display_data"
    },
    {
     "name": "stdout",
     "output_type": "stream",
     "text": [
      "Train | Loss: 0.9276, Recall: 0.0523, Precision: 0.0599, F1: 0.0559\n",
      "Val   | Loss: 0.9230, Recall: 0.0528, Precision: 0.0700, F1: 0.0602\n",
      "-----------------------------\n",
      "Epoch 75\n"
     ]
    },
    {
     "data": {
      "application/vnd.jupyter.widget-view+json": {
       "model_id": "b8ef49cc5b80498bac446e7979024ec1",
       "version_major": 2,
       "version_minor": 0
      },
      "text/plain": [
       "Batches:   0%|          | 0/5 [00:00<?, ?it/s]"
      ]
     },
     "metadata": {},
     "output_type": "display_data"
    },
    {
     "name": "stdout",
     "output_type": "stream",
     "text": [
      "Train | Loss: 0.9280, Recall: 0.0514, Precision: 0.0592, F1: 0.0550\n",
      "Val   | Loss: 0.9230, Recall: 0.0525, Precision: 0.0701, F1: 0.0601\n",
      "-----------------------------\n",
      "Epoch 76\n"
     ]
    },
    {
     "data": {
      "application/vnd.jupyter.widget-view+json": {
       "model_id": "4d0d6c8a3c2449baa91d478bd97cf29e",
       "version_major": 2,
       "version_minor": 0
      },
      "text/plain": [
       "Batches:   0%|          | 0/5 [00:00<?, ?it/s]"
      ]
     },
     "metadata": {},
     "output_type": "display_data"
    },
    {
     "name": "stdout",
     "output_type": "stream",
     "text": [
      "Train | Loss: 0.9273, Recall: 0.0527, Precision: 0.0595, F1: 0.0559\n",
      "Val   | Loss: 0.9229, Recall: 0.0533, Precision: 0.0700, F1: 0.0605\n",
      "-----------------------------\n",
      "Epoch 77\n"
     ]
    },
    {
     "data": {
      "application/vnd.jupyter.widget-view+json": {
       "model_id": "27a4445ef43c47068fcb8dc0090e5cf5",
       "version_major": 2,
       "version_minor": 0
      },
      "text/plain": [
       "Batches:   0%|          | 0/5 [00:00<?, ?it/s]"
      ]
     },
     "metadata": {},
     "output_type": "display_data"
    },
    {
     "name": "stdout",
     "output_type": "stream",
     "text": [
      "Train | Loss: 0.9265, Recall: 0.0536, Precision: 0.0617, F1: 0.0574\n",
      "Val   | Loss: 0.9229, Recall: 0.0534, Precision: 0.0701, F1: 0.0606\n",
      "-----------------------------\n",
      "Epoch 78\n"
     ]
    },
    {
     "data": {
      "application/vnd.jupyter.widget-view+json": {
       "model_id": "967681be26454966aee1fd99eebb415d",
       "version_major": 2,
       "version_minor": 0
      },
      "text/plain": [
       "Batches:   0%|          | 0/5 [00:00<?, ?it/s]"
      ]
     },
     "metadata": {},
     "output_type": "display_data"
    },
    {
     "name": "stdout",
     "output_type": "stream",
     "text": [
      "Train | Loss: 0.9277, Recall: 0.0522, Precision: 0.0598, F1: 0.0558\n",
      "Val   | Loss: 0.9230, Recall: 0.0530, Precision: 0.0701, F1: 0.0604\n",
      "-----------------------------\n",
      "Epoch 79\n"
     ]
    },
    {
     "data": {
      "application/vnd.jupyter.widget-view+json": {
       "model_id": "8ad2b51f4c124db68376a31310c154cf",
       "version_major": 2,
       "version_minor": 0
      },
      "text/plain": [
       "Batches:   0%|          | 0/5 [00:00<?, ?it/s]"
      ]
     },
     "metadata": {},
     "output_type": "display_data"
    },
    {
     "name": "stdout",
     "output_type": "stream",
     "text": [
      "Train | Loss: 0.9281, Recall: 0.0513, Precision: 0.0588, F1: 0.0548\n",
      "Val   | Loss: 0.9230, Recall: 0.0529, Precision: 0.0701, F1: 0.0603\n",
      "-----------------------------\n",
      "Epoch 80\n"
     ]
    },
    {
     "data": {
      "application/vnd.jupyter.widget-view+json": {
       "model_id": "72e8ef618da44a1b822c8b8db7ba4e8e",
       "version_major": 2,
       "version_minor": 0
      },
      "text/plain": [
       "Batches:   0%|          | 0/5 [00:00<?, ?it/s]"
      ]
     },
     "metadata": {},
     "output_type": "display_data"
    },
    {
     "name": "stdout",
     "output_type": "stream",
     "text": [
      "Train | Loss: 0.9286, Recall: 0.0510, Precision: 0.0588, F1: 0.0546\n",
      "Val   | Loss: 0.9230, Recall: 0.0526, Precision: 0.0701, F1: 0.0601\n",
      "-----------------------------\n",
      "Epoch 81\n"
     ]
    },
    {
     "data": {
      "application/vnd.jupyter.widget-view+json": {
       "model_id": "d703554e03d549a892211614016fb9d0",
       "version_major": 2,
       "version_minor": 0
      },
      "text/plain": [
       "Batches:   0%|          | 0/5 [00:00<?, ?it/s]"
      ]
     },
     "metadata": {},
     "output_type": "display_data"
    },
    {
     "name": "stdout",
     "output_type": "stream",
     "text": [
      "Train | Loss: 0.9275, Recall: 0.0518, Precision: 0.0599, F1: 0.0556\n",
      "Val   | Loss: 0.9231, Recall: 0.0525, Precision: 0.0702, F1: 0.0601\n",
      "-----------------------------\n",
      "Epoch 82\n"
     ]
    },
    {
     "data": {
      "application/vnd.jupyter.widget-view+json": {
       "model_id": "f27a33eec40f4fd983badb190ea91aa6",
       "version_major": 2,
       "version_minor": 0
      },
      "text/plain": [
       "Batches:   0%|          | 0/5 [00:00<?, ?it/s]"
      ]
     },
     "metadata": {},
     "output_type": "display_data"
    },
    {
     "name": "stdout",
     "output_type": "stream",
     "text": [
      "Train | Loss: 0.9281, Recall: 0.0513, Precision: 0.0592, F1: 0.0550\n",
      "Val   | Loss: 0.9230, Recall: 0.0525, Precision: 0.0702, F1: 0.0601\n",
      "-----------------------------\n",
      "Epoch 83\n"
     ]
    },
    {
     "data": {
      "application/vnd.jupyter.widget-view+json": {
       "model_id": "610a684633ae4ff5aab883308873dd63",
       "version_major": 2,
       "version_minor": 0
      },
      "text/plain": [
       "Batches:   0%|          | 0/5 [00:00<?, ?it/s]"
      ]
     },
     "metadata": {},
     "output_type": "display_data"
    },
    {
     "name": "stdout",
     "output_type": "stream",
     "text": [
      "Train | Loss: 0.9280, Recall: 0.0510, Precision: 0.0594, F1: 0.0549\n",
      "Val   | Loss: 0.9230, Recall: 0.0525, Precision: 0.0702, F1: 0.0601\n",
      "-----------------------------\n",
      "Epoch 84\n"
     ]
    },
    {
     "data": {
      "application/vnd.jupyter.widget-view+json": {
       "model_id": "84e58b3811e74860914fd84590032270",
       "version_major": 2,
       "version_minor": 0
      },
      "text/plain": [
       "Batches:   0%|          | 0/5 [00:00<?, ?it/s]"
      ]
     },
     "metadata": {},
     "output_type": "display_data"
    },
    {
     "name": "stdout",
     "output_type": "stream",
     "text": [
      "Train | Loss: 0.9266, Recall: 0.0523, Precision: 0.0605, F1: 0.0561\n",
      "Val   | Loss: 0.9230, Recall: 0.0526, Precision: 0.0701, F1: 0.0601\n",
      "-----------------------------\n",
      "Epoch 85\n"
     ]
    },
    {
     "data": {
      "application/vnd.jupyter.widget-view+json": {
       "model_id": "fe4dabb394aa4a24a5dbc9fc714a0053",
       "version_major": 2,
       "version_minor": 0
      },
      "text/plain": [
       "Batches:   0%|          | 0/5 [00:00<?, ?it/s]"
      ]
     },
     "metadata": {},
     "output_type": "display_data"
    },
    {
     "name": "stdout",
     "output_type": "stream",
     "text": [
      "Train | Loss: 0.9282, Recall: 0.0537, Precision: 0.0612, F1: 0.0572\n",
      "Val   | Loss: 0.9230, Recall: 0.0526, Precision: 0.0701, F1: 0.0601\n",
      "-----------------------------\n",
      "Epoch 86\n"
     ]
    },
    {
     "data": {
      "application/vnd.jupyter.widget-view+json": {
       "model_id": "7526fc93a6de4eaf90e01778395c0764",
       "version_major": 2,
       "version_minor": 0
      },
      "text/plain": [
       "Batches:   0%|          | 0/5 [00:00<?, ?it/s]"
      ]
     },
     "metadata": {},
     "output_type": "display_data"
    },
    {
     "name": "stdout",
     "output_type": "stream",
     "text": [
      "Train | Loss: 0.9283, Recall: 0.0511, Precision: 0.0587, F1: 0.0546\n",
      "Val   | Loss: 0.9230, Recall: 0.0526, Precision: 0.0700, F1: 0.0601\n",
      "-----------------------------\n",
      "Epoch 87\n"
     ]
    },
    {
     "data": {
      "application/vnd.jupyter.widget-view+json": {
       "model_id": "bfda9b08d19140b3879cda1b1780d57a",
       "version_major": 2,
       "version_minor": 0
      },
      "text/plain": [
       "Batches:   0%|          | 0/5 [00:00<?, ?it/s]"
      ]
     },
     "metadata": {},
     "output_type": "display_data"
    },
    {
     "name": "stdout",
     "output_type": "stream",
     "text": [
      "Train | Loss: 0.9278, Recall: 0.0515, Precision: 0.0591, F1: 0.0550\n",
      "Val   | Loss: 0.9230, Recall: 0.0529, Precision: 0.0701, F1: 0.0603\n",
      "-----------------------------\n",
      "Epoch 88\n"
     ]
    },
    {
     "data": {
      "application/vnd.jupyter.widget-view+json": {
       "model_id": "0000ca5552a543f8a43c38a04d29f3d0",
       "version_major": 2,
       "version_minor": 0
      },
      "text/plain": [
       "Batches:   0%|          | 0/5 [00:00<?, ?it/s]"
      ]
     },
     "metadata": {},
     "output_type": "display_data"
    },
    {
     "name": "stdout",
     "output_type": "stream",
     "text": [
      "Train | Loss: 0.9272, Recall: 0.0526, Precision: 0.0608, F1: 0.0564\n",
      "Val   | Loss: 0.9230, Recall: 0.0525, Precision: 0.0702, F1: 0.0601\n",
      "-----------------------------\n",
      "Epoch 89\n"
     ]
    },
    {
     "data": {
      "application/vnd.jupyter.widget-view+json": {
       "model_id": "c3d6678f7640479083d97e2163ebe8aa",
       "version_major": 2,
       "version_minor": 0
      },
      "text/plain": [
       "Batches:   0%|          | 0/5 [00:00<?, ?it/s]"
      ]
     },
     "metadata": {},
     "output_type": "display_data"
    },
    {
     "name": "stdout",
     "output_type": "stream",
     "text": [
      "Train | Loss: 0.9268, Recall: 0.0519, Precision: 0.0601, F1: 0.0557\n",
      "Val   | Loss: 0.9231, Recall: 0.0524, Precision: 0.0703, F1: 0.0600\n",
      "-----------------------------\n",
      "Epoch 90\n"
     ]
    },
    {
     "data": {
      "application/vnd.jupyter.widget-view+json": {
       "model_id": "eb61c733eb454ccbaddd1fb6834318bc",
       "version_major": 2,
       "version_minor": 0
      },
      "text/plain": [
       "Batches:   0%|          | 0/5 [00:00<?, ?it/s]"
      ]
     },
     "metadata": {},
     "output_type": "display_data"
    },
    {
     "name": "stdout",
     "output_type": "stream",
     "text": [
      "Train | Loss: 0.9271, Recall: 0.0524, Precision: 0.0606, F1: 0.0562\n",
      "Val   | Loss: 0.9231, Recall: 0.0523, Precision: 0.0703, F1: 0.0600\n",
      "-----------------------------\n",
      "Epoch 91\n"
     ]
    },
    {
     "data": {
      "application/vnd.jupyter.widget-view+json": {
       "model_id": "8b505c95864c4670bc1911cf2df39fe3",
       "version_major": 2,
       "version_minor": 0
      },
      "text/plain": [
       "Batches:   0%|          | 0/5 [00:00<?, ?it/s]"
      ]
     },
     "metadata": {},
     "output_type": "display_data"
    },
    {
     "name": "stdout",
     "output_type": "stream",
     "text": [
      "Train | Loss: 0.9270, Recall: 0.0537, Precision: 0.0625, F1: 0.0578\n",
      "Val   | Loss: 0.9230, Recall: 0.0526, Precision: 0.0702, F1: 0.0601\n",
      "-----------------------------\n",
      "Epoch 92\n"
     ]
    },
    {
     "data": {
      "application/vnd.jupyter.widget-view+json": {
       "model_id": "8c2d3a437e334d8f9a16a6b449b4b2cc",
       "version_major": 2,
       "version_minor": 0
      },
      "text/plain": [
       "Batches:   0%|          | 0/5 [00:00<?, ?it/s]"
      ]
     },
     "metadata": {},
     "output_type": "display_data"
    },
    {
     "name": "stdout",
     "output_type": "stream",
     "text": [
      "Train | Loss: 0.9279, Recall: 0.0506, Precision: 0.0586, F1: 0.0543\n",
      "Val   | Loss: 0.9231, Recall: 0.0523, Precision: 0.0704, F1: 0.0600\n",
      "-----------------------------\n",
      "Epoch 93\n"
     ]
    },
    {
     "data": {
      "application/vnd.jupyter.widget-view+json": {
       "model_id": "0834ec5ee6034892bf335f33fc04ff13",
       "version_major": 2,
       "version_minor": 0
      },
      "text/plain": [
       "Batches:   0%|          | 0/5 [00:00<?, ?it/s]"
      ]
     },
     "metadata": {},
     "output_type": "display_data"
    },
    {
     "name": "stdout",
     "output_type": "stream",
     "text": [
      "Train | Loss: 0.9291, Recall: 0.0499, Precision: 0.0567, F1: 0.0531\n",
      "Val   | Loss: 0.9230, Recall: 0.0529, Precision: 0.0701, F1: 0.0603\n",
      "-----------------------------\n",
      "Epoch 94\n"
     ]
    },
    {
     "data": {
      "application/vnd.jupyter.widget-view+json": {
       "model_id": "d36ca36a08dc4b16826345f62b9102a2",
       "version_major": 2,
       "version_minor": 0
      },
      "text/plain": [
       "Batches:   0%|          | 0/5 [00:00<?, ?it/s]"
      ]
     },
     "metadata": {},
     "output_type": "display_data"
    },
    {
     "name": "stdout",
     "output_type": "stream",
     "text": [
      "Train | Loss: 0.9279, Recall: 0.0515, Precision: 0.0600, F1: 0.0554\n",
      "Val   | Loss: 0.9230, Recall: 0.0530, Precision: 0.0701, F1: 0.0604\n",
      "-----------------------------\n",
      "Epoch 95\n"
     ]
    },
    {
     "data": {
      "application/vnd.jupyter.widget-view+json": {
       "model_id": "a8410ed29eed4ed4b5febef6724c0e82",
       "version_major": 2,
       "version_minor": 0
      },
      "text/plain": [
       "Batches:   0%|          | 0/5 [00:00<?, ?it/s]"
      ]
     },
     "metadata": {},
     "output_type": "display_data"
    },
    {
     "name": "stdout",
     "output_type": "stream",
     "text": [
      "Train | Loss: 0.9270, Recall: 0.0532, Precision: 0.0614, F1: 0.0570\n",
      "Val   | Loss: 0.9230, Recall: 0.0527, Precision: 0.0702, F1: 0.0602\n",
      "-----------------------------\n",
      "Epoch 96\n"
     ]
    },
    {
     "data": {
      "application/vnd.jupyter.widget-view+json": {
       "model_id": "26bfc9f58f8c4af2ae0e9ffb0f669bb0",
       "version_major": 2,
       "version_minor": 0
      },
      "text/plain": [
       "Batches:   0%|          | 0/5 [00:00<?, ?it/s]"
      ]
     },
     "metadata": {},
     "output_type": "display_data"
    },
    {
     "name": "stdout",
     "output_type": "stream",
     "text": [
      "Train | Loss: 0.9282, Recall: 0.0516, Precision: 0.0599, F1: 0.0554\n",
      "Val   | Loss: 0.9230, Recall: 0.0527, Precision: 0.0702, F1: 0.0602\n",
      "-----------------------------\n",
      "Epoch 97\n"
     ]
    },
    {
     "data": {
      "application/vnd.jupyter.widget-view+json": {
       "model_id": "8c87836d79b7427687d0551fe0410898",
       "version_major": 2,
       "version_minor": 0
      },
      "text/plain": [
       "Batches:   0%|          | 0/5 [00:00<?, ?it/s]"
      ]
     },
     "metadata": {},
     "output_type": "display_data"
    },
    {
     "name": "stdout",
     "output_type": "stream",
     "text": [
      "Train | Loss: 0.9273, Recall: 0.0519, Precision: 0.0605, F1: 0.0558\n",
      "Val   | Loss: 0.9231, Recall: 0.0524, Precision: 0.0704, F1: 0.0601\n",
      "-----------------------------\n",
      "Epoch 98\n"
     ]
    },
    {
     "data": {
      "application/vnd.jupyter.widget-view+json": {
       "model_id": "0e230ad6051e4b6c93909cddc13e8e0c",
       "version_major": 2,
       "version_minor": 0
      },
      "text/plain": [
       "Batches:   0%|          | 0/5 [00:00<?, ?it/s]"
      ]
     },
     "metadata": {},
     "output_type": "display_data"
    },
    {
     "name": "stdout",
     "output_type": "stream",
     "text": [
      "Train | Loss: 0.9282, Recall: 0.0511, Precision: 0.0589, F1: 0.0548\n",
      "Val   | Loss: 0.9230, Recall: 0.0525, Precision: 0.0703, F1: 0.0601\n",
      "-----------------------------\n",
      "Epoch 99\n"
     ]
    },
    {
     "data": {
      "application/vnd.jupyter.widget-view+json": {
       "model_id": "c773404732a148fba0885ca1476a339a",
       "version_major": 2,
       "version_minor": 0
      },
      "text/plain": [
       "Batches:   0%|          | 0/5 [00:00<?, ?it/s]"
      ]
     },
     "metadata": {},
     "output_type": "display_data"
    },
    {
     "name": "stdout",
     "output_type": "stream",
     "text": [
      "Train | Loss: 0.9283, Recall: 0.0507, Precision: 0.0585, F1: 0.0543\n",
      "Val   | Loss: 0.9230, Recall: 0.0525, Precision: 0.0703, F1: 0.0601\n",
      "-----------------------------\n",
      "Epoch 100\n"
     ]
    },
    {
     "data": {
      "application/vnd.jupyter.widget-view+json": {
       "model_id": "c752edebb360448aaf47e04e1785ce70",
       "version_major": 2,
       "version_minor": 0
      },
      "text/plain": [
       "Batches:   0%|          | 0/5 [00:00<?, ?it/s]"
      ]
     },
     "metadata": {},
     "output_type": "display_data"
    },
    {
     "name": "stdout",
     "output_type": "stream",
     "text": [
      "Train | Loss: 0.9275, Recall: 0.0512, Precision: 0.0584, F1: 0.0545\n",
      "Val   | Loss: 0.9230, Recall: 0.0525, Precision: 0.0703, F1: 0.0601\n",
      "-----------------------------\n",
      "Training Complete!\n"
     ]
    },
    {
     "data": {
      "text/html": [],
      "text/plain": [
       "<IPython.core.display.HTML object>"
      ]
     },
     "metadata": {},
     "output_type": "display_data"
    },
    {
     "data": {
      "text/html": [
       "<br>    <style><br>        .wandb-row {<br>            display: flex;<br>            flex-direction: row;<br>            flex-wrap: wrap;<br>            justify-content: flex-start;<br>            width: 100%;<br>        }<br>        .wandb-col {<br>            display: flex;<br>            flex-direction: column;<br>            flex-basis: 100%;<br>            flex: 1;<br>            padding: 10px;<br>        }<br>    </style><br><div class=\"wandb-row\"><div class=\"wandb-col\"><h3>Run history:</h3><br/><table class=\"wandb\"><tr><td>epoch</td><td>▁▁▁▁▂▂▂▂▂▂▃▃▃▃▃▃▄▄▄▄▄▅▅▅▅▅▅▅▆▆▆▆▆▇▇▇▇▇▇█</td></tr><tr><td>lr</td><td>██████▄▄▄▃▃▂▂▂▁▁▁▁▁▁▁▁▁▁▁▁▁▁▁▁▁▁▁▁▁▁▁▁▁▁</td></tr><tr><td>train_f1</td><td>▅▆▆▆▆▅▆▇▁▇▇▇▇▇▇█▇▇▇█████████▇▇███▇██▇███</td></tr><tr><td>train_loss</td><td>██▇▆▄▄▃▃▃▂▂▂▂▂▂▂▂▂▂▁▁▁▁▁▁▁▁▁▁▁▁▁▁▁▁▁▁▁▁▁</td></tr><tr><td>train_precision</td><td>▁▆▅▄▅▅▆▆▆▆▇▇▇▇▇▇█▇████████▇█▇██████▇▇█▇▇</td></tr><tr><td>train_recall</td><td>█▄▄▂▂▁▂▂▂▂▂▂▂▂▂▂▂▂▂▂▂▂▂▂▂▂▂▂▂▂▂▂▂▂▂▂▂▂▂▂</td></tr><tr><td>val_f1</td><td>▅███▇▁▆▄▅▁▁▁▁▂▃▅▄▅▅▅▅▅▅▆▅▆▆▆▆▆▆▆▆▆▆▆▆▆▆▆</td></tr><tr><td>val_loss</td><td>█▇▁▂▂▁▃▇▇███▆▆▆▄▄▄▃▃▃▃▃▃▂▂▂▂▂▂▂▂▂▂▂▂▂▂▂▂</td></tr><tr><td>val_precision</td><td>▅▆▇▇▇▇▁▇▇▇▅▃▅▆▇█████████████████████████</td></tr><tr><td>val_recall</td><td>▁█▆▂▃▁▁▁▁▁▁▁▁▁▁▁▁▁▁▁▁▁▁▁▁▁▁▁▁▁▁▁▁▁▁▁▁▁▁▁</td></tr></table><br/></div><div class=\"wandb-col\"><h3>Run summary:</h3><br/><table class=\"wandb\"><tr><td>epoch</td><td>100</td></tr><tr><td>lr</td><td>0.0</td></tr><tr><td>train_f1</td><td>0.05454</td></tr><tr><td>train_loss</td><td>0.92747</td></tr><tr><td>train_precision</td><td>0.05839</td></tr><tr><td>train_recall</td><td>0.05116</td></tr><tr><td>val_f1</td><td>0.06009</td></tr><tr><td>val_loss</td><td>0.92301</td></tr><tr><td>val_precision</td><td>0.0703</td></tr><tr><td>val_recall</td><td>0.05247</td></tr></table><br/></div></div>"
      ],
      "text/plain": [
       "<IPython.core.display.HTML object>"
      ]
     },
     "metadata": {},
     "output_type": "display_data"
    },
    {
     "data": {
      "text/html": [
       " View run <strong style=\"color:#cdcd00\">unet_sem_adult_250-259_run1</strong> at: <a href='https://wandb.ai/zhen_lab/gap-junction-segmentation/runs/2hwftauw' target=\"_blank\">https://wandb.ai/zhen_lab/gap-junction-segmentation/runs/2hwftauw</a><br> View project at: <a href='https://wandb.ai/zhen_lab/gap-junction-segmentation' target=\"_blank\">https://wandb.ai/zhen_lab/gap-junction-segmentation</a><br>Synced 5 W&B file(s), 0 media file(s), 0 artifact file(s) and 0 other file(s)"
      ],
      "text/plain": [
       "<IPython.core.display.HTML object>"
      ]
     },
     "metadata": {},
     "output_type": "display_data"
    },
    {
     "data": {
      "text/html": [
       "Find logs at: <code>/home/tommytang111/gap-junction-segmentation/wandb/wandb/run-20250529_161518-2hwftauw/logs</code>"
      ],
      "text/plain": [
       "<IPython.core.display.HTML object>"
      ]
     },
     "metadata": {},
     "output_type": "display_data"
    }
   ],
   "source": [
    "# Clear GPU memory before training\n",
    "torch.cuda.empty_cache()\n",
    "\n",
    "epochs = 100\n",
    "best_f1 = 0.0\n",
    "best_epoch = 0\n",
    "\n",
    "for epoch in range(epochs):\n",
    "    print(f\"Epoch {epoch+1}\")\n",
    "    \n",
    "    #Training\n",
    "    train_loss, train_recall, train_precision, train_f1 = train(train_dataloader, model, loss_fn, optimizer)\n",
    "\n",
    "    #Validation\n",
    "    val_loss, val_recall, val_precision, val_f1 = validate(valid_dataloader, model, loss_fn)\n",
    "\n",
    "    #Update learning rate scheduler\n",
    "    scheduler.step(val_loss)\n",
    "    \n",
    "    #Print metrics\n",
    "    print(f\"Train | Loss: {train_loss:.4f}, Recall: {train_recall:.4f}, Precision: {train_precision:.4f}, F1: {train_f1:.4f}\")\n",
    "    print(f\"Val   | Loss: {val_loss:.4f}, Recall: {val_recall:.4f}, Precision: {val_precision:.4f}, F1: {val_f1:.4f}\")\n",
    "    print(\"-----------------------------\")\n",
    "    \n",
    "    #Log metrics to wandb\n",
    "    wandb.log({\n",
    "        \"epoch\": epoch + 1,\n",
    "        \"train_loss\": train_loss,\n",
    "        \"train_recall\": train_recall,\n",
    "        \"train_precision\": train_precision,\n",
    "        \"train_f1\": train_f1,\n",
    "        \"val_loss\": val_loss,\n",
    "        \"val_recall\": val_recall,\n",
    "        \"val_precision\": val_precision,\n",
    "        \"val_f1\": val_f1,\n",
    "        \"lr\": optimizer.param_groups[0][\"lr\"]\n",
    "    })\n",
    "    \n",
    "    #Log best model state based on F1 score\n",
    "    if val_f1 > best_f1:\n",
    "        best_f1 = val_f1\n",
    "        best_epoch = epoch\n",
    "        best_model_state = copy.deepcopy(model.state_dict())\n",
    "\n",
    "print(\"Training Complete!\")\n",
    "wandb.finish()"
   ]
  },
  {
   "cell_type": "markdown",
   "id": "66ec0ced",
   "metadata": {},
   "source": [
    "#### Save Best Model"
   ]
  },
  {
   "cell_type": "code",
   "execution_count": 12,
   "id": "71062d70",
   "metadata": {},
   "outputs": [
    {
     "name": "stdout",
     "output_type": "stream",
     "text": [
      "Saved PyTorch Model to unet_v1.pt\n"
     ]
    }
   ],
   "source": [
    "#Save the best logged model state\n",
    "torch.save(best_model_state, \"/home/tommytang111/gap-junction-segmentation/models/unet_v1.pt\")\n",
    "print(\"Saved PyTorch Model to unet_v1.pt\")"
   ]
  }
 ],
 "metadata": {
  "kernelspec": {
   "display_name": "gap_junction",
   "language": "python",
   "name": "python3"
  },
  "language_info": {
   "codemirror_mode": {
    "name": "ipython",
    "version": 3
   },
   "file_extension": ".py",
   "mimetype": "text/x-python",
   "name": "python",
   "nbconvert_exporter": "python",
   "pygments_lexer": "ipython3",
   "version": "3.10.16"
  }
 },
 "nbformat": 4,
 "nbformat_minor": 5
}
